{
 "cells": [
  {
   "cell_type": "markdown",
   "id": "12ab7132",
   "metadata": {},
   "source": [
    "## 🧪 Validador de Query\n",
    "\n",
    "-   Toma la salida del generador de query, que incluye tanto la **sentencia SQL como el mensaje original del usuario**. Actúa como un juez para validar la coherencia de la query.\n",
    "    1.  **Juez de coherencia**: Con la ayuda de un modelo de lenguaje, decide si la query SQL es **semánticamente coherente** con la petición del usuario.\n",
    "        * Si el veredicto es **`INCOHERENTE`**, el validador no ejecuta la query y pasa el error de coherencia al corrector.\n",
    "        * Si el veredicto es **`COHERENTE`**, el validador procede a ejecutar la query en la BBDD.\n",
    "    2.  **Conexión y ejecución**: Se conecta a la base de datos PostgreSQL con el `search_path` configurado y, respecto a la salida:\n",
    "        * ✅ **Success**: Pasa la sentencia SQL, el mensaje del usuario y la salida de la BBDD al siguiente agente (generador de conclusiones).\n",
    "        * ❌ **Error**: Pasa el error de ejecución de la BBDD (sintaxis, tabla no existe, etc.) al corrector de query.\n",
    "\n",
    "***\n",
    "\n",
    "## 🛠️ Corrector de Query\n",
    "\n",
    "-   Recibe un error generado por el validador, que puede ser de **dos tipos**:\n",
    "    * Un error de **`incoherencia`** (el juez rechazó la query).\n",
    "    * Un error de **`ejecución en la BBDD`** (la query falló en PostgreSQL).\n",
    "-   Analiza el mensaje de error (o el veredicto del juez) y la query original, usando el contexto del mensaje del usuario para entender la intención.\n",
    "-   Propone una **versión corregida y coherente** de la query.\n",
    "-   Envía la nueva query de vuelta al validador para que intente ejecutarla nuevamente, reiniciando así el ciclo de validación."
   ]
  },
  {
   "cell_type": "markdown",
   "id": "15e1250b",
   "metadata": {},
   "source": [
    "## 1. Configuracion de entorno"
   ]
  },
  {
   "cell_type": "code",
   "execution_count": null,
   "id": "7d813f49",
   "metadata": {},
   "outputs": [],
   "source": [
    "import os\n",
    "import sys\n",
    "from pathlib import Path\n",
    "from dotenv import load_dotenv\n",
    "from IPython.display import Image\n",
    "\n",
    "from sqlalchemy import Engine, create_engine, text\n",
    "from langchain_community.utilities import SQLDatabase\n",
    "from langchain.prompts import ChatPromptTemplate\n",
    "from langchain.chat_models import init_chat_model\n",
    "from langchain_core.messages import SystemMessage, HumanMessage\n",
    "from langgraph.graph import StateGraph, START, END\n",
    "from typing import Dict, TypedDict, Optional, Any, List\n",
    "from pydantic import BaseModel, Field\n",
    "\n",
    "\n",
    "# Cargar las variables de entorno desde el archivo .env\n",
    "load_dotenv()\n",
    "\n",
    "\n",
    "# Añadimos el directorio raíz del proyecto al path\n",
    "try:\n",
    "    # Para scripts .py\n",
    "    current_file = Path(__file__).resolve()\n",
    "    project_root = current_file.parent.parent  # Ajusta si tu estructura cambia\n",
    "except NameError:\n",
    "    # Para notebooks\n",
    "    current_file = Path().resolve()\n",
    "    project_root = current_file.parent  # Ajusta según donde esté tu notebook\n",
    "\n",
    "# Añadir al sys.path si no está ya\n",
    "if str(project_root) not in sys.path:\n",
    "    sys.path.append(str(project_root))\n",
    "\n",
    "\n",
    "from config import get_pg_config\n",
    "from src.back.pg_sql import BasePostgres\n",
    "\n",
    "# --- Configuración de Azure OpenAI ---\n",
    "azure_api_key = os.getenv(\"AZURE_OPENAI_API_KEY\")\n",
    "azure_endpoint = os.getenv(\"AZURE_OPENAI_ENDPOINT\")\n",
    "azure_api_version = os.getenv(\"OPENAI_API_VERSION\")\n",
    "azure_deployment_name = os.getenv(\"AZURE_OPENAI_DEPLOYMENT_NAME\", 'gpt-4o')\n",
    "\n",
    "if not all([azure_api_key, azure_endpoint, azure_api_version, azure_deployment_name]):\n",
    "    raise ValueError(\"Faltan una o más variables de entorno de Azure OpenAI.\")\n"
   ]
  },
  {
   "cell_type": "markdown",
   "id": "72b1556b",
   "metadata": {},
   "source": [
    "### Constantes"
   ]
  },
  {
   "cell_type": "code",
   "execution_count": 2,
   "id": "753f05cb",
   "metadata": {},
   "outputs": [],
   "source": [
    "MAX_RETRIES = 5"
   ]
  },
  {
   "cell_type": "markdown",
   "id": "a3a35059",
   "metadata": {},
   "source": [
    "### Base de Datos\n",
    "\n",
    "Probamos la conexión a la BBDD, específicamente al esquema que sabemos que utilizará el modelo. De todas maneras, en la definición de los nodos lo extraeremos del estado del grafo, pudiendo así escalarlo a otras BBDD's, siempre y cuando sean Postgres"
   ]
  },
  {
   "cell_type": "code",
   "execution_count": 3,
   "id": "90558e0a",
   "metadata": {},
   "outputs": [
    {
     "name": "stdout",
     "output_type": "stream",
     "text": [
      "Conexión a la base de datos establecida correctamente.\n"
     ]
    }
   ],
   "source": [
    "db_uri = get_pg_config(\n",
    "    database_name= 'adventure_works_dw'\n",
    ").get_db_uri('sales')\n",
    "\n",
    "try:\n",
    "    db = {\n",
    "        'table_info': SQLDatabase.from_uri(db_uri),\n",
    "        'engine': create_engine(db_uri)\n",
    "    }\n",
    "\n",
    "    print(\"Conexión a la base de datos establecida correctamente.\")\n",
    "except Exception as e:\n",
    "    print(f\"Error al conectar a la base de datos: {e}\")\n",
    "    db = None"
   ]
  },
  {
   "cell_type": "markdown",
   "id": "668395d4",
   "metadata": {},
   "source": [
    "## 2. Definición de Modelos a utilizar"
   ]
  },
  {
   "cell_type": "code",
   "execution_count": null,
   "id": "116b8d64",
   "metadata": {},
   "outputs": [],
   "source": [
    "llm_structured_outputs = init_chat_model(\n",
    "    model_provider= 'azure_openai',\n",
    "    model= 'gpt-4o-mini',\n",
    "    temperature= 0,\n",
    "    max_tokens= 1000\n",
    ")\n",
    "\n",
    "llm_query_corrector = init_chat_model(\n",
    "    model_provider= 'azure_openai',\n",
    "    model= 'gpt-4o',\n",
    "    temperature= 0,\n",
    ")"
   ]
  },
  {
   "cell_type": "markdown",
   "id": "5f982a09",
   "metadata": {},
   "source": [
    "## 3. Definición del Estado"
   ]
  },
  {
   "cell_type": "code",
   "execution_count": 5,
   "id": "a7c8f03e",
   "metadata": {},
   "outputs": [],
   "source": [
    "class DbStateVar(TypedDict):\n",
    "    table_info: SQLDatabase\n",
    "    engine: Engine\n",
    "\n",
    "\n",
    "class QueryValidatorState(TypedDict):\n",
    "    user_query: str\n",
    "    context: str\n",
    "    db_name: str\n",
    "    schema_name: str\n",
    "    sql_query: str\n",
    "    db: Optional[DbStateVar]\n",
    "    table_names: List[str]\n",
    "    tables_info: List[str]\n",
    "    query_results: List[Dict[str, Any]]\n",
    "    query_validation_error_msg: Optional[str]\n",
    "    retries: int\n",
    "    valid_query_execution: bool\n",
    "\n",
    "\n",
    "class QueryValidatorOutputState(TypedDict):\n",
    "    sql_query: str\n",
    "    table_names: List[str]\n",
    "    tables_info: List[str]\n",
    "    query_results: List[Dict[str, Any]]\n",
    "    valid_query_execution: bool\n",
    "    query_validation_error_msg: Optional[str]"
   ]
  },
  {
   "cell_type": "markdown",
   "id": "67fda29d",
   "metadata": {},
   "source": [
    "## 4. Definición de Agentes a utilizar"
   ]
  },
  {
   "cell_type": "markdown",
   "id": "2f4cb5fc",
   "metadata": {},
   "source": [
    "### Agente Extractor de Tablas SQL"
   ]
  },
  {
   "cell_type": "code",
   "execution_count": null,
   "id": "3db7662e",
   "metadata": {},
   "outputs": [
    {
     "data": {
      "text/plain": [
       "['fact_sales', 'dim_product']"
      ]
     },
     "execution_count": 6,
     "metadata": {},
     "output_type": "execute_result"
    }
   ],
   "source": [
    "class TablesExtractionResult(BaseModel):\n",
    "    \"\"\"\n",
    "    Structured output for extracting table names from an SQL query.\n",
    "    \"\"\"\n",
    "    table_names: List[str] = Field(\n",
    "        description= \"The name of the tables presents in a SQL query. If not found, retrieve an empty list.\"\n",
    "    )\n",
    "\n",
    "\n",
    "tables_extractor_prompt = ChatPromptTemplate.from_messages([\n",
    "    {\n",
    "        \"role\": \"system\", \n",
    "        \"content\": (\n",
    "            \"Eres un asistente experto en SQL. Tu única tarea es extraer **solamente los nombres de las tablas** de una consulta SQL.\"\n",
    "            \"\\n\\n**Reglas clave:**\"\n",
    "            \"\\n1.  **Ignora CTEs**: No extraigas los nombres de las CTEs (Common Table Expressions) que se definen con `WITH`.\"\n",
    "            \"\\n2.  **Solo nombres de tablas con esquema**: Identifica y extrae únicamente los nombres de tablas que vengan precedidos por un esquema. Por ejemplo, en `mi_esquema.mi_tabla`, solo debes devolver `mi_tabla`.\"\n",
    "            \"\\n3.  **Formato de salida**: Devuelve los nombres de las tablas sin el esquema, separados por comas y sin ningún otro texto ni caracteres extraños.\"\n",
    "            \"\\n\\n**Ejemplo de salida esperada:**\"\n",
    "            \"\\n`['dim_customer', 'fact_sales']`\"\n",
    "        )\n",
    "    },\n",
    "    {\"role\": \"user\", \"content\": \"Extrae los nombres de tabla de la siguiente query: '{sql_query}'\"}\n",
    "])\n",
    "\n",
    "tables_extractor = tables_extractor_prompt | llm_structured_outputs.with_structured_output(TablesExtractionResult)\n",
    "\n",
    "sql_query = \"WITH \\nlast_quarter AS (\\n  SELECT\\n    fs.product_key,\\n    COALESCE(dp.spanish_product_name, dp.english_product_name) AS product_name,\\n    dp.spanish_product_category_name,\\n    dp.spanish_product_subcategory_name,\\n    EXTRACT(MONTH FROM fs.order_date) AS month_in_quarter,\\n    fs.order_quantity\\n  FROM\\n    sales.fact_sales fs\\n    JOIN sales.dim_product dp ON fs.product_key = dp.product_key\\n  WHERE\\n    fs.sale_source = 'reseller_sales'\\n    AND dp.spanish_product_category_name <> 'Accesorio'\\n    AND fs.order_date >= date_trunc('quarter', CURRENT_DATE - interval '3 months')\\n    AND fs.order_date < date_trunc('quarter', CURRENT_DATE)\\n),\\ntop_products AS (\\n  SELECT\\n    product_key,\\n    product_name,\\n    spanish_product_category_name,\\n    spanish_product_subcategory_name,\\n    SUM(order_quantity) AS total_qty\\n  FROM\\n    last_quarter\\n  GROUP BY\\n    product_key, product_name, spanish_product_category_name, spanish_product_subcategory_name\\n  ORDER BY\\n    total_qty DESC\\n  LIMIT 10\\n)\\nSELECT\\n  tp.product_name AS producto,\\n  tp.spanish_product_category_name AS categoria,\\n  tp.spanish_product_subcategory_name AS subcategoria,\\n  SUM(lq.order_quantity) FILTER (WHERE lq.month_in_quarter = EXTRACT(MONTH FROM date_trunc('quarter', CURRENT_DATE - interval '3 months'))) AS primer_mes,\\n  SUM(lq.order_quantity) FILTER (WHERE lq.month_in_quarter = EXTRACT(MONTH FROM date_trunc('quarter', CURRENT_DATE - interval '3 months') + interval '1 month')) AS segundo_mes,\\n  SUM(lq.order_quantity) FILTER (WHERE lq.month_in_quarter = EXTRACT(MONTH FROM date_trunc('quarter', CURRENT_DATE - interval '3 months') + interval '2 month')) AS tercer_mes,\\n  SUM(lq.order_quantity) AS total\\nFROM\\n  top_products tp\\n  LEFT JOIN last_quarter lq ON tp.product_key = lq.product_key\\nGROUP BY\\n  producto, categoria, subcategoria\\nORDER BY\\n  total DESC\"\n",
    "# sql_query = 'Este texto no es relevante.'\n",
    "\n",
    "tables_extractor.invoke({'sql_query': sql_query}).table_names\n"
   ]
  },
  {
   "cell_type": "markdown",
   "id": "7986ec1b",
   "metadata": {},
   "source": [
    "### Coherence Grader"
   ]
  },
  {
   "cell_type": "code",
   "execution_count": null,
   "id": "11b9385e",
   "metadata": {},
   "outputs": [
    {
     "data": {
      "text/plain": [
       "True"
      ]
     },
     "execution_count": 7,
     "metadata": {},
     "output_type": "execute_result"
    }
   ],
   "source": [
    "class QueryCoherenceGraderResult(BaseModel):\n",
    "    \"\"\"\n",
    "    Determina si una query SQL es coherente con la intención del mensaje de usuario,\n",
    "    basándose en un resumen de alto nivel de las tablas.\n",
    "    \"\"\"\n",
    "    coherent: bool = Field(\n",
    "        description=\"\"\"\n",
    "        Un valor booleano que indica si la query SQL es 'coherente' (True)\n",
    "        con el mensaje del usuario, dada la información contextual.\n",
    "        Devuelve True si la query es correcta y resuelve la pregunta del usuario.\n",
    "        Devuelve False si la query es incorrecta, incompleta o no se alinea con el\n",
    "        mensaje del usuario o el contexto.\n",
    "        \"\"\"\n",
    "    )\n",
    "\n",
    "coherence_grader_prompt = ChatPromptTemplate.from_messages([\n",
    "    {\"role\": \"system\", \"content\": \"Eres un juez experto en SQL y vas a recibir un mensaje de usuario, una query y un resumen en alto nivel de las tablas involucradas en la query. Responde SÓLO con 'COHERENTE' si la query es correcta para el mensaje, o con 'INCOHERENTE'.\"},\n",
    "    {\"role\": \"user\", \"content\": \"Mensaje del usuario: '{user_query}'\\nQuery SQL: '{sql_query}'\\nResumen de alto nivel: '{context}'\"}\n",
    "])\n",
    "\n",
    "coherence_grader = coherence_grader_prompt | llm_structured_outputs.with_structured_output(QueryCoherenceGraderResult)\n",
    "\n",
    "user_query = 'Muéstrame los 10 productos más vendidos para el B2B en el último trimestre, excluyendo los Accesorios. Mes a mes indica cuántas unidades se vendieron, y muestra también a qué categoría y subcategoría pertenecen'\n",
    "sql_query = \"WITH \\nlast_quarter AS (\\n  SELECT\\n    fs.product_key,\\n    COALESCE(dp.spanish_product_name, dp.english_product_name) AS product_name,\\n    dp.spanish_product_category_name,\\n    dp.spanish_product_subcategory_name,\\n    EXTRACT(MONTH FROM fs.order_date) AS month_in_quarter,\\n    fs.order_quantity\\n  FROM\\n    sales.fact_sales fs\\n    JOIN sales.dim_product dp ON fs.product_key = dp.product_key\\n  WHERE\\n    fs.sale_source = 'reseller_sales'\\n    AND dp.spanish_product_category_name <> 'Accesorio'\\n    AND fs.order_date >= date_trunc('quarter', CURRENT_DATE - interval '3 months')\\n    AND fs.order_date < date_trunc('quarter', CURRENT_DATE)\\n),\\ntop_products AS (\\n  SELECT\\n    product_key,\\n    product_name,\\n    spanish_product_category_name,\\n    spanish_product_subcategory_name,\\n    SUM(order_quantity) AS total_qty\\n  FROM\\n    last_quarter\\n  GROUP BY\\n    product_key, product_name, spanish_product_category_name, spanish_product_subcategory_name\\n  ORDER BY\\n    total_qty DESC\\n  LIMIT 10\\n)\\nSELECT\\n  tp.product_name AS producto,\\n  tp.spanish_product_category_name AS categoria,\\n  tp.spanish_product_subcategory_name AS subcategoria,\\n  SUM(lq.order_quantity) FILTER (WHERE lq.month_in_quarter = EXTRACT(MONTH FROM date_trunc('quarter', CURRENT_DATE - interval '3 months'))) AS primer_mes,\\n  SUM(lq.order_quantity) FILTER (WHERE lq.month_in_quarter = EXTRACT(MONTH FROM date_trunc('quarter', CURRENT_DATE - interval '3 months') + interval '1 month')) AS segundo_mes,\\n  SUM(lq.order_quantity) FILTER (WHERE lq.month_in_quarter = EXTRACT(MONTH FROM date_trunc('quarter', CURRENT_DATE - interval '3 months') + interval '2 month')) AS tercer_mes,\\n  SUM(lq.order_quantity) AS total\\nFROM\\n  top_products tp\\n  LEFT JOIN last_quarter lq ON tp.product_key = lq.product_key\\nGROUP BY\\n  producto, categoria, subcategoria\\nORDER BY\\n  total DESC\"\n",
    "context = \"### Resumen General\\nEl objetivo de la consulta es identificar los 10 productos más vendidos en el modelo de negocio B2B durante el último trimestre, excluyendo aquellos clasificados como accesorios. Además, se requiere un desglose mensual de las unidades vendidas y la inclusión de información sobre la categoría y subcategoría de cada producto.\\n\\n### Esquema Detallado y Relaciones\\n#### Base de datos y esquema\\n- **Base de datos:** adventure_works_dw\\n- **Esquema:** sales\\n\\n#### Tabla: dim_product\\n- **Descripción:** Contiene información detallada de los productos vendidos.\\n- **Clave primaria:** product_key\\n- **Columnas relevantes:**\\n  - **english_product_category_name**: VARCHAR(50), nunca NULL.\\n  - **spanish_product_category_name**: VARCHAR(50), nunca NULL.\\n  - **english_product_subcategory_name**: VARCHAR(50), nunca NULL.\\n  - **spanish_product_subcategory_name**: VARCHAR(50), nunca NULL.\\n  - **spanish_product_name**: VARCHAR(50), puede ser NULL.\\n  - **english_product_name**: VARCHAR(50), nunca NULL.\\n  - **finished_goods_flag**: BOOL.\\n  - **start_date**: DATE.\\n  - **end_date**: DATE, puede ser NULL.\\n  - **dealer_price**: NUMERIC.\\n  - **list_price**: NUMERIC.\\n\\n#### Tabla: fact_sales\\n- **Descripción:** Contiene detalles de las órdenes de ventas realizadas.\\n- **Clave primaria:** sales_order_number, sales_order_line_number\\n- **Claves foráneas:**\\n  - product_key → sales.dim_product.product_key\\n- **Columnas relevantes:**\\n  - **order_quantity**: INT2.\\n  - **sale_source**: TEXT.\\n  - **order_date**: DATE.\\n  - **product_key**: Referencia a sales.dim_product.product_key.\\n\\n#### Relaciones entre tablas\\n- Para unir las tablas **fact_sales** y **dim_product**, se utiliza la clave foránea **product_key**.\\n- Condiciones de unión: `fact_sales.product_key = dim_product.product_key`.\\n\\n### Reglas de Negocio y Lógica\\n1. **Modelo de Negocio B2B:**\\n   - Las ventas B2B se identifican con el campo `sale_source` igual a `'reseller_sales'`.\\n\\n2. **Productos Más Vendidos:**\\n   - Se define por la cantidad de unidades vendidas (`order_quantity`).\\n   - Implementación SQL:\\n     ```sql\\n     SUM(order_quantity) AS cantidad_vendida\\n     ```\\n\\n3. **Exclusión de Accesorios:**\\n   - Se aplica el filtro `spanish_product_category_name != 'Accesorio'`.\\n\\n4. **Desglose Temporal:**\\n   - Para calcular el último trimestre, se utiliza el campo `order_date` en la tabla `fact_sales`.\\n   - Ejemplo de filtro SQL para el último trimestre:\\n     ```sql\\n     WHERE order_date BETWEEN DATE_TRUNC('quarter', CURRENT_DATE - INTERVAL '3 months') AND DATE_TRUNC('quarter', CURRENT_DATE) - INTERVAL '1 day';\\n     ```\\n   - Para el desglose mensual, se puede usar la función `EXTRACT(MONTH FROM order_date)`.\\n\\n5. **Categorías y Subcategorías:**\\n   - Para mostrar nombres de categorías y subcategorías, se priorizan los campos en español (`spanish_product_category_name`, `spanish_product_subcategory_name`). Si son nulos, se utiliza la versión en inglés como alternativa.\\n   - Ejemplo de lógica SQL:\\n     ```sql\\n     SELECT\\n         COALESCE(spanish_product_category_name, english_product_category_name) AS producto_categoria,\\n         COALESCE(spanish_product_subcategory_name, english_product_subcategory_name) AS producto_subcategoria\\n     FROM sales.dim_product;\\n     ```\"\n",
    "\n",
    "coherence_grader.invoke({\n",
    "    'user_query': user_query,\n",
    "    'sql_query': sql_query,\n",
    "    'context': context\n",
    "}).coherent\n"
   ]
  },
  {
   "cell_type": "markdown",
   "id": "58b2aa7a",
   "metadata": {},
   "source": [
    "### Corrector de Query"
   ]
  },
  {
   "cell_type": "code",
   "execution_count": null,
   "id": "194a1a23",
   "metadata": {},
   "outputs": [
    {
     "name": "stdout",
     "output_type": "stream",
     "text": [
      "WITH \n",
      "last_quarter AS (\n",
      "  SELECT\n",
      "    fs.product_key,\n",
      "    COALESCE(dp.spanish_product_name, dp.english_product_name) AS product_name,\n",
      "    dp.spanish_product_category_name,\n",
      "    dp.spanish_product_subcategory_name,\n",
      "    EXTRACT(MONTH FROM fs.order_date) AS month_in_quarter,\n",
      "    fs.order_quantity\n",
      "  FROM\n",
      "    sales.fact_sales fs\n",
      "    JOIN sales.dim_product dp ON fs.product_key = dp.product_key\n",
      "  WHERE\n",
      "    fs.sale_source = 'reseller_sales'\n",
      "    AND dp.spanish_product_category_name <> 'Accesorio'\n",
      "    AND fs.order_date >= date_trunc('quarter', CURRENT_DATE - interval '3 months')\n",
      "    AND fs.order_date < date_trunc('quarter', CURRENT_DATE)\n",
      "),\n",
      "top_products AS (\n",
      "  SELECT\n",
      "    product_key,\n",
      "    product_name,\n",
      "    spanish_product_category_name,\n",
      "    spanish_product_subcategory_name,\n",
      "    SUM(order_quantity) AS total_qty\n",
      "  FROM\n",
      "    last_quarter\n",
      "  GROUP BY\n",
      "    product_key, product_name, spanish_product_category_name, spanish_product_subcategory_name\n",
      "  ORDER BY\n",
      "    total_qty DESC\n",
      "  LIMIT 10\n",
      ")\n",
      "SELECT\n",
      "  tp.product_name AS producto,\n",
      "  tp.spanish_product_category_name AS categoria,\n",
      "  tp.spanish_product_subcategory_name AS subcategoria,\n",
      "  SUM(lq.order_quantity) FILTER (WHERE lq.month_in_quarter = EXTRACT(MONTH FROM date_trunc('quarter', CURRENT_DATE - interval '3 months'))) AS primer_mes,\n",
      "  SUM(lq.order_quantity) FILTER (WHERE lq.month_in_quarter = EXTRACT(MONTH FROM date_trunc('quarter', CURRENT_DATE - interval '3 months') + interval '1 month')) AS segundo_mes,\n",
      "  SUM(lq.order_quantity) FILTER (WHERE lq.month_in_quarter = EXTRACT(MONTH FROM date_trunc('quarter', CURRENT_DATE - interval '3 months') + interval '2 month')) AS tercer_mes,\n",
      "  SUM(lq.order_quantity) AS total\n",
      "FROM\n",
      "  top_products tp\n",
      "  LEFT JOIN last_quarter lq ON tp.product_key = lq.product_key\n",
      "GROUP BY\n",
      "  tp.product_name, tp.spanish_product_category_name, tp.spanish_product_subcategory_name\n",
      "ORDER BY\n",
      "  total DESC;\n"
     ]
    }
   ],
   "source": [
    "DYNAMIC_PROMPT_CONTENT = {\n",
    "    'error_coherence': \"La siguiente query SQL es incoherente con el mensaje del usuario, corrígela para que lo sea. Es necesario que pongas el nombre del esquema cuando referencias una tabla. Mensaje: '{user_query}' Query: '{original_sql_query}' Resumen tablas involucradas '{context}'\",\n",
    "    'error_db': \"La siguiente query SQL ha fallado. La query era: '{original_sql_query}'. La petición original: '{user_query}'. Resumen tablas involucradas '{context}'. Es necesario que pongas el nombre del esquema cuando referencias una tabla. Corrige la query.\"\n",
    "}\n",
    "\n",
    "query_corrector_prompt = ChatPromptTemplate.from_messages([\n",
    "    {\"role\": \"system\", \"content\": \"Eres un experto en bases de datos. Devuelve SÓLO la query corregida, sin usar MARKDOWN, sin explicaciones ni texto adicional.\"},\n",
    "    {\"role\": \"user\", \"content\": '{prompt_content}'}\n",
    "])\n",
    "\n",
    "query_corrector = query_corrector_prompt | llm_query_corrector\n",
    "\n",
    "user_query = 'Muéstrame los 10 productos más vendidos para el B2B en el último trimestre, excluyendo los Accesorios. Mes a mes indica cuántas unidades se vendieron, y muestra también a qué categoría y subcategoría pertenecen'\n",
    "sql_query = \"WITH \\nlast_quarter AS (\\n  SELECT\\n    fs.product_key,\\n    COALESCE(dp.spanish_product_name, dp.english_product_name) AS product_name,\\n    dp.spanish_product_category_name,\\n    dp.spanish_product_subcategory_name,\\n    EXTRACT(MONTH FROM fs.order_date) AS month_in_quarter,\\n    fs.order_quantity\\n  FROM\\n    sales.fact_sales fs\\n    JOIN sales.dim_product dp ON fs.product_key = dp.product_key\\n  WHERE\\n    fs.sale_source = 'reseller_sales'\\n    AND dp.spanish_product_category_name <> 'Accesorio'\\n    AND fs.order_date >= date_trunc('quarter', CURRENT_DATE - interval '3 months')\\n    AND fs.order_date < date_trunc('quarter', CURRENT_DATE)\\n),\\ntop_products AS (\\n  SELECT\\n    product_key,\\n    product_name,\\n    spanish_product_category_name,\\n    spanish_product_subcategory_name,\\n    SUM(order_quantity) AS total_qty\\n  FROM\\n    last_quarter\\n  GROUP BY\\n    product_key, product_name, spanish_product_category_name, spanish_product_subcategory_name\\n  ORDER BY\\n    total_qty DESC\\n  LIMIT 10\\n)\\nSELECT\\n  tp.product_name AS producto,\\n  tp.spanish_product_category_name AS categoria,\\n  tp.spanish_product_subcategory_name AS subcategoria,\\n  SUM(lq.order_quantity) FILTER (WHERE lq.month_in_quarter = EXTRACT(MONTH FROM date_trunc('quarter', CURRENT_DATE - interval '3 months'))) AS primer_mes,\\n  SUM(lq.order_quantity) FILTER (WHERE lq.month_in_quarter = EXTRACT(MONTH FROM date_trunc('quarter', CURRENT_DATE - interval '3 months') + interval '1 month')) AS segundo_mes,\\n  SUM(lq.order_quantity) FILTER (WHERE lq.month_in_quarter = EXTRACT(MONTH FROM date_trunc('quarter', CURRENT_DATE - interval '3 months') + interval '2 month')) AS tercer_mes,\\n  SUM(lq.order_quantity) AS total\\nFROM\\n  top_products tp\\n  LEFT JOIN last_quarter lq ON tp.product_key = lq.product_key\\nGROUP BY\\n  producto, categoria, subcategoria\\nORDER BY\\n  total DESC\"\n",
    "context = \"### Resumen General\\nEl objetivo de la consulta es identificar los 10 productos más vendidos en el modelo de negocio B2B durante el último trimestre, excluyendo aquellos clasificados como accesorios. Además, se requiere un desglose mensual de las unidades vendidas y la inclusión de información sobre la categoría y subcategoría de cada producto.\\n\\n### Esquema Detallado y Relaciones\\n#### Base de datos y esquema\\n- **Base de datos:** adventure_works_dw\\n- **Esquema:** sales\\n\\n#### Tabla: dim_product\\n- **Descripción:** Contiene información detallada de los productos vendidos.\\n- **Clave primaria:** product_key\\n- **Columnas relevantes:**\\n  - **english_product_category_name**: VARCHAR(50), nunca NULL.\\n  - **spanish_product_category_name**: VARCHAR(50), nunca NULL.\\n  - **english_product_subcategory_name**: VARCHAR(50), nunca NULL.\\n  - **spanish_product_subcategory_name**: VARCHAR(50), nunca NULL.\\n  - **spanish_product_name**: VARCHAR(50), puede ser NULL.\\n  - **english_product_name**: VARCHAR(50), nunca NULL.\\n  - **finished_goods_flag**: BOOL.\\n  - **start_date**: DATE.\\n  - **end_date**: DATE, puede ser NULL.\\n  - **dealer_price**: NUMERIC.\\n  - **list_price**: NUMERIC.\\n\\n#### Tabla: fact_sales\\n- **Descripción:** Contiene detalles de las órdenes de ventas realizadas.\\n- **Clave primaria:** sales_order_number, sales_order_line_number\\n- **Claves foráneas:**\\n  - product_key → sales.dim_product.product_key\\n- **Columnas relevantes:**\\n  - **order_quantity**: INT2.\\n  - **sale_source**: TEXT.\\n  - **order_date**: DATE.\\n  - **product_key**: Referencia a sales.dim_product.product_key.\\n\\n#### Relaciones entre tablas\\n- Para unir las tablas **fact_sales** y **dim_product**, se utiliza la clave foránea **product_key**.\\n- Condiciones de unión: `fact_sales.product_key = dim_product.product_key`.\\n\\n### Reglas de Negocio y Lógica\\n1. **Modelo de Negocio B2B:**\\n   - Las ventas B2B se identifican con el campo `sale_source` igual a `'reseller_sales'`.\\n\\n2. **Productos Más Vendidos:**\\n   - Se define por la cantidad de unidades vendidas (`order_quantity`).\\n   - Implementación SQL:\\n     ```sql\\n     SUM(order_quantity) AS cantidad_vendida\\n     ```\\n\\n3. **Exclusión de Accesorios:**\\n   - Se aplica el filtro `spanish_product_category_name != 'Accesorio'`.\\n\\n4. **Desglose Temporal:**\\n   - Para calcular el último trimestre, se utiliza el campo `order_date` en la tabla `fact_sales`.\\n   - Ejemplo de filtro SQL para el último trimestre:\\n     ```sql\\n     WHERE order_date BETWEEN DATE_TRUNC('quarter', CURRENT_DATE - INTERVAL '3 months') AND DATE_TRUNC('quarter', CURRENT_DATE) - INTERVAL '1 day';\\n     ```\\n   - Para el desglose mensual, se puede usar la función `EXTRACT(MONTH FROM order_date)`.\\n\\n5. **Categorías y Subcategorías:**\\n   - Para mostrar nombres de categorías y subcategorías, se priorizan los campos en español (`spanish_product_category_name`, `spanish_product_subcategory_name`). Si son nulos, se utiliza la versión en inglés como alternativa.\\n   - Ejemplo de lógica SQL:\\n     ```sql\\n     SELECT\\n         COALESCE(spanish_product_category_name, english_product_category_name) AS producto_categoria,\\n         COALESCE(spanish_product_subcategory_name, english_product_subcategory_name) AS producto_subcategoria\\n     FROM sales.dim_product;\\n     ```\"\n",
    "\n",
    "error_type = 'error_coherence'\n",
    "error_type = 'error_db'\n",
    "# error_type = ' yoquese'\n",
    "\n",
    "query_examples = {\n",
    "    'error_coherence': \"SELECT 'PRODUCTO 1' AS producto\",\n",
    "    'error_db': \"WITH \\nlast_quarter AS (\\n  SELECT\\n    fs.product_key,\\n    COALESCE(dp.spanish_product_name, dp.english_product_name) AS product_name,\\n    dp.spanish_product_category_name,\\n    dp.spanish_product_subcategory_name,\\n    EXTRACT(MONTH FROM fs.order_date) AS month_in_quarter,\\n    fs.order_quantity\\n  FROM\\n    sales.ventas fs\\n    JOIN sales.productos dp ON fs.product_key = dp.product_key\\n  WHERE\\n    fs.sale_source = 'reseller_sales'\\n    AND dp.spanish_product_category_name <> 'Accesorio'\\n    AND fs.order_date >= date_trunc('quarter', CURRENT_DATE - interval '3 months')\\n    AND fs.order_date < date_trunc('quarter', CURRENT_DATE)\\n),\\ntop_products AS (\\n  SELECT\\n    product_key,\\n    product_name,\\n    spanish_product_category_name,\\n    spanish_product_subcategory_name,\\n    SUM(order_quantity) AS total_qty\\n  FROM\\n    last_quarter\\n  GROUP BY\\n    product_key, product_name, spanish_product_category_name, spanish_product_subcategory_name\\n  ORDER BY\\n    total_qty DESC\\n  LIMIT 10\\n)\\nSELECT\\n  tp.product_name AS producto,\\n  tp.spanish_product_category_name AS categoria,\\n  tp.spanish_product_subcategory_name AS subcategoria,\\n  SUM(lq.order_quantity) FILTER (WHERE lq.month_in_quarter = EXTRACT(MONTH FROM date_trunc('quarter', CURRENT_DATE - interval '3 months'))) AS primer_mes,\\n  SUM(lq.order_quantity) FILTER (WHERE lq.month_in_quarter = EXTRACT(MONTH FROM date_trunc('quarter', CURRENT_DATE - interval '3 months') + interval '1 month')) AS segundo_mes,\\n  SUM(lq.order_quantity) FILTER (WHERE lq.month_in_quarter = EXTRACT(MONTH FROM date_trunc('quarter', CURRENT_DATE - interval '3 months') + interval '2 month')) AS tercer_mes,\\n  SUM(lq.order_quantity) AS total\\nFROM\\n  top_products tp\\n  LEFT JOIN last_quarter lq ON tp.product_key = lq.product_key\\nGROUP BY\\n  producto, categoria, subcategoria\\nORDER BY\\n  total DESC\"\n",
    "}\n",
    "\n",
    "prompt_content = DYNAMIC_PROMPT_CONTENT.get(error_type)\n",
    "\n",
    "if not prompt_content:\n",
    "    print('Error no reconocido. Saliendo del corrector.')\n",
    "else:\n",
    "    print(\n",
    "        query_corrector.invoke({\n",
    "            'prompt_content': prompt_content.format(\n",
    "                user_query= 'Muéstrame los 10 productos más vendidos para el B2B en el último trimestre, excluyendo los Accesorios. Mes a mes indica cuántas unidades se vendieron, y muestra también a qué categoría y subcategoría pertenecen',\n",
    "                context= context,\n",
    "                original_sql_query= query_examples[error_type]\n",
    "            )\n",
    "        }).content\n",
    "    )\n"
   ]
  },
  {
   "cell_type": "markdown",
   "id": "2b79a648",
   "metadata": {},
   "source": [
    "## 5. Nodos"
   ]
  },
  {
   "cell_type": "code",
   "execution_count": null,
   "id": "a34766c3",
   "metadata": {},
   "outputs": [],
   "source": [
    "def check_db_connection_node(state: QueryValidatorState):\n",
    "    print(\"\\n--- INICIANDO COMPROBACIÓN DE CONEXIÓN A BBDD ⚙️ ---\")\n",
    "\n",
    "    db_name = state['db_name']\n",
    "    schema_name = state['schema_name']\n",
    "\n",
    "    try:\n",
    "        db_uri = get_pg_config(database_name= db_name).get_db_uri(schema_name)\n",
    "\n",
    "        db = {\n",
    "            'table_info': SQLDatabase.from_uri(db_uri),\n",
    "            'engine': create_engine(db_uri)\n",
    "        }\n",
    "\n",
    "        print(\"✅ Conexión a la base de datos establecida correctamente.\")\n",
    "\n",
    "        return {'db': db}\n",
    "\n",
    "    except Exception as e:\n",
    "        print(f\"❌ Error al conectar a la base de datos: {e}\")\n",
    "        return {\n",
    "            'valid_query_execution': False,\n",
    "            'db': None\n",
    "        }\n",
    "\n",
    "\n",
    "def table_name_extraction_node(state: QueryValidatorState):\n",
    "    print(\"\\n--- INICIANDO FASE DE EXTRACCIÓN DE TABLAS CON LLM 🧮 ---\")\n",
    "\n",
    "    sql_query = state['sql_query']\n",
    "    \n",
    "    table_names = tables_extractor.invoke({'sql_query': sql_query}).table_names\n",
    "    print(f\"Tablas detectadas por el LLM: {table_names}\")\n",
    "    return {\"table_names\": table_names}\n",
    "\n",
    "\n",
    "def coherence_grading_node(state: QueryValidatorState):\n",
    "    user_query = state['user_query']\n",
    "    context = state['context']\n",
    "    sql_query = state['sql_query']\n",
    "    db = state['db']\n",
    "    table_names = state['table_names']\n",
    "    retries = state.get('retries', 0) + 1\n",
    "    \n",
    "    if retries > MAX_RETRIES:\n",
    "        print(f\"\\n❌🔚 Límite de {MAX_RETRIES} reintentos alcanzado. Finalizando.\")\n",
    "        return {\n",
    "            'valid_query_execution': False,\n",
    "            \"query_validation_error_msg\": \"limit_reached\"\n",
    "        }\n",
    "\n",
    "    print(\"\\n--- INICIANDO FASE DE JUEZ DE COHERENCIA 👩‍⚖️ ---\\n\")\n",
    "\n",
    "    coherent = coherence_grader.invoke({\n",
    "        'user_query': user_query,\n",
    "        'context': context,\n",
    "        'sql_query': sql_query,\n",
    "    }).coherent\n",
    "\n",
    "    print(f\"Veredicto del juez: {'COHERENTE ✅' if coherent else 'INCOHERENTE ❌'}\")\n",
    "    \n",
    "    if not coherent:\n",
    "        print(\"\\n❌ La query es incoherente. No se ejecutará en la BBDD.\")\n",
    "        return {\n",
    "            \"query_validation_error_msg\": \"error_coherence\", \n",
    "            \"retries\": retries\n",
    "        }\n",
    "    \n",
    "    print(\"\\n--- PASANDO A FASE DE EJECUCIÓN EN POSTGRESQL ---\\n\")\n",
    "\n",
    "    try:\n",
    "        # Usamos la lista de tablas que nos ha dado el extractor\n",
    "        tables_info = [db['table_info'].get_table_info([table]) for table in table_names]\n",
    "        # print(\"\\nDatos de Create Schema:\")\n",
    "        # print(tables_info)\n",
    "\n",
    "        with db['engine'].connect() as conn:\n",
    "            result = conn.execute(text(sql_query))\n",
    "            query_results = [row for row in result.mappings()]\n",
    "            # print(\"\\nResultados como lista de diccionarios:\")\n",
    "            # print(query_results)\n",
    "        \n",
    "        print(f\"\\n✅ Query ejecutada correctamente.\")\n",
    "        return {\n",
    "            \"tables_info\": tables_info,\n",
    "            \"query_results\": query_results,\n",
    "            \"valid_query_execution\": True\n",
    "        }\n",
    "\n",
    "    except Exception as e:\n",
    "        print(f\"\\n❌ Error de PostgreSQL detectado: {e}\")\n",
    "        return {\n",
    "            \"query_validation_error_msg\": \"error_db\",\n",
    "            \"retries\": retries\n",
    "        }\n",
    "\n",
    "\n",
    "def query_correction_node(state: QueryValidatorState):\n",
    "    user_query = state['user_query']\n",
    "    context = state['context']\n",
    "    original_sql_query = state['sql_query']\n",
    "    error_type = state.get(\"query_validation_error_msg\")\n",
    "\n",
    "    prompt_content = DYNAMIC_PROMPT_CONTENT.get(error_type, 'N/A')\n",
    "\n",
    "    if prompt_content == 'N/A':\n",
    "        print(\"❌ Error no reconocido. Saliendo del corrector.\")\n",
    "        return {\"sql_query\": original_sql_query}\n",
    "    \n",
    "    print(\"\\n--- INICIANDO FASE DE CORRECIÓN 📝 ---\\n\")\n",
    "    corrected_query = query_corrector.invoke({\n",
    "        'prompt_content': prompt_content.format(\n",
    "            user_query= user_query,\n",
    "            context= context,\n",
    "            original_sql_query= original_sql_query\n",
    "        )\n",
    "    }).content\n",
    "        \n",
    "    print(f\"✅  > Query corregida recibida: {corrected_query[:70]}...\")\n",
    "    \n",
    "    return {\"sql_query\": corrected_query}"
   ]
  },
  {
   "cell_type": "markdown",
   "id": "6efc75dd",
   "metadata": {},
   "source": [
    "## 6. Grafo"
   ]
  },
  {
   "cell_type": "code",
   "execution_count": 10,
   "id": "67f80c50",
   "metadata": {},
   "outputs": [
    {
     "data": {
      "image/png": "[encoded data removed]",
      "text/plain": [
       "<IPython.core.display.Image object>"
      ]
     },
     "execution_count": 10,
     "metadata": {},
     "output_type": "execute_result"
    }
   ],
   "source": [
    "workflow = StateGraph(\n",
    "    state_schema= QueryValidatorState,\n",
    "    input_schema= QueryValidatorState,\n",
    "    output_schema= QueryValidatorOutputState\n",
    ")\n",
    "\n",
    "\n",
    "workflow.add_node(\n",
    "    'check_db_connection',\n",
    "    check_db_connection_node\n",
    ")\n",
    "workflow.add_node(\n",
    "    'tables_extraction',\n",
    "    table_name_extraction_node\n",
    ")\n",
    "workflow.add_node(\n",
    "    'validation',\n",
    "    coherence_grading_node\n",
    ")\n",
    "workflow.add_node(\n",
    "    'query_correction',\n",
    "    query_correction_node\n",
    ")\n",
    "\n",
    "\n",
    "workflow.add_edge(START, 'check_db_connection')\n",
    "workflow.add_conditional_edges(\n",
    "    'check_db_connection',\n",
    "    lambda state: 'abort' if state['db'] is None else 'continue',\n",
    "    {\n",
    "        'abort': END,\n",
    "        'continue': 'tables_extraction'\n",
    "    }\n",
    ")\n",
    "workflow.add_edge('tables_extraction', 'validation')\n",
    "workflow.add_conditional_edges(\n",
    "    'validation',\n",
    "    lambda state: 'correct' if state.get('valid_query_execution') is None else 'end',\n",
    "    {\n",
    "        'correct': 'query_correction',\n",
    "        'end': END\n",
    "    }\n",
    ")\n",
    "workflow.add_edge('query_correction', 'tables_extraction')\n",
    "\n",
    "graph = workflow.compile()\n",
    "\n",
    "Image(graph.get_graph().draw_mermaid_png())\n"
   ]
  },
  {
   "cell_type": "markdown",
   "id": "01a52fd2",
   "metadata": {},
   "source": [
    "## 7. Simulacion de casos del flujo de trabajo"
   ]
  },
  {
   "cell_type": "markdown",
   "id": "eaa80650",
   "metadata": {},
   "source": [
    "### A. query coherente sin fallo en la BBDD"
   ]
  },
  {
   "cell_type": "code",
   "execution_count": 11,
   "id": "1c45c774",
   "metadata": {},
   "outputs": [
    {
     "name": "stdout",
     "output_type": "stream",
     "text": [
      "\n",
      "--- INICIANDO COMPROBACIÓN DE CONEXIÓN A BBDD ⚙️ ---\n",
      "✅ Conexión a la base de datos establecida correctamente.\n",
      "\n",
      "--- INICIANDO FASE DE EXTRACCIÓN DE TABLAS CON LLM 🧮 ---\n",
      "Tablas detectadas por el LLM: ['dim_customer']\n",
      "\n",
      "--- INICIANDO FASE DE JUEZ DE COHERENCIA 👩‍⚖️ ---\n",
      "\n",
      "Veredicto del juez: COHERENTE ✅\n",
      "\n",
      "--- PASANDO A FASE DE EJECUCIÓN EN POSTGRESQL ---\n",
      "\n",
      "\n",
      "✅ Query ejecutada correctamente.\n"
     ]
    },
    {
     "data": {
      "text/plain": [
       "{'sql_query': 'SELECT COUNT(*) FROM sales.dim_customer',\n",
       " 'table_names': ['dim_customer'],\n",
       " 'tables_info': ['\\nCREATE TABLE dim_customer (\\n\\tcustomer_key INTEGER NOT NULL, \\n\\tgeography_key INTEGER, \\n\\tcustomer_full_name TEXT, \\n\\tbirth_date DATE, \\n\\tmarital_status CHAR(1), \\n\\tgender VARCHAR(1), \\n\\tyearly_income NUMERIC(19, 4), \\n\\ttotal_children SMALLINT, \\n\\tnumber_children_at_home SMALLINT, \\n\\tenglish_education VARCHAR(40), \\n\\tspanish_education VARCHAR(40), \\n\\tenglish_occupation VARCHAR(100), \\n\\tspanish_occupation VARCHAR(100), \\n\\thouse_owner BOOLEAN, \\n\\tnumber_cars_owned SMALLINT, \\n\\tcommute_distance VARCHAR(15), \\n\\tCONSTRAINT dim_customer_pkey PRIMARY KEY (customer_key), \\n\\tCONSTRAINT fk_dim_customer_geography FOREIGN KEY(geography_key) REFERENCES dim_geography (geography_key)\\n)\\n\\n/*\\n3 rows from dim_customer table:\\ncustomer_key\\tgeography_key\\tcustomer_full_name\\tbirth_date\\tmarital_status\\tgender\\tyearly_income\\ttotal_children\\tnumber_children_at_home\\tenglish_education\\tspanish_education\\tenglish_occupation\\tspanish_occupation\\thouse_owner\\tnumber_cars_owned\\tcommute_distance\\n11000\\t26\\tJon Yang\\t1983-10-06\\tM\\tM\\t90000.0000\\t2\\t0\\tBachelors\\tLicenciatura\\tProfessional\\tProfesional\\tTrue\\t0\\t1-2 Miles\\n11001\\t37\\tEugene Huang\\t1988-05-10\\tS\\tM\\t60000.0000\\t3\\t3\\tBachelors\\tLicenciatura\\tProfessional\\tProfesional\\tFalse\\t1\\t0-1 Miles\\n11002\\t31\\tRuben Torres\\t1983-02-09\\tM\\tM\\t60000.0000\\t3\\t3\\tBachelors\\tLicenciatura\\tProfessional\\tProfesional\\tTrue\\t1\\t2-5 Miles\\n*/'],\n",
       " 'query_results': [{'count': 18484}],\n",
       " 'valid_query_execution': True}"
      ]
     },
     "execution_count": 11,
     "metadata": {},
     "output_type": "execute_result"
    }
   ],
   "source": [
    "user_msg_ok = \"Quiero saber cuántos clientes hay en total.\"\n",
    "query_ok = \"SELECT COUNT(*) FROM sales.dim_customer\"\n",
    "high_level_summary = \"###Detalle de Tablas y Columnas Relevantes\\n#### Tabla: dim_customer\\n- *Descripción:* Contiene información detallada de clientes.\\n- *Columnas Relevantes:\\n  - customer_key: Clave primaria, tipo NUMERIC.\\n  - customer_full_name: Nombre completo del cliente, tipo TEXT.\\n\\n#### Tabla: fact_sales\\n- **Descripción:* Contiene detalles de las órdenes de ventas.\\n- *Columnas Relevantes:*\\n  - customer_key: Llave foránea, tipo NUMERIC.\\n  - sales_amount: Subtotal de la línea de orden de venta, tipo NUMERIC.\\n  - order_date: Fecha de creación del pedido, tipo DATE.\\n\"\n",
    "inputs = {\"user_message\": user_msg_ok, \"sql_query\": query_ok, \"high_level_summary\": high_level_summary, \"retries\": 0}\n",
    "\n",
    "results = graph.invoke({\n",
    "    \"user_query\": user_msg_ok, \n",
    "    \"sql_query\": query_ok, \n",
    "    \"context\": high_level_summary,\n",
    "    \"db_name\": \"adventure_works_dw\",\n",
    "    \"schema_name\": \"sales\"\n",
    "})\n",
    "\n",
    "results"
   ]
  },
  {
   "cell_type": "markdown",
   "id": "0a9715a7",
   "metadata": {},
   "source": [
    "### B. Corrección por Incoherencia Semántica"
   ]
  },
  {
   "cell_type": "code",
   "execution_count": 12,
   "id": "2eebb436",
   "metadata": {},
   "outputs": [
    {
     "name": "stdout",
     "output_type": "stream",
     "text": [
      "\n",
      "--- INICIANDO COMPROBACIÓN DE CONEXIÓN A BBDD ⚙️ ---\n",
      "✅ Conexión a la base de datos establecida correctamente.\n",
      "\n",
      "--- INICIANDO FASE DE EXTRACCIÓN DE TABLAS CON LLM 🧮 ---\n",
      "Tablas detectadas por el LLM: ['fact_sales']\n",
      "\n",
      "--- INICIANDO FASE DE JUEZ DE COHERENCIA 👩‍⚖️ ---\n",
      "\n",
      "Veredicto del juez: INCOHERENTE ❌\n",
      "\n",
      "❌ La query es incoherente. No se ejecutará en la BBDD.\n",
      "\n",
      "--- INICIANDO FASE DE CORRECIÓN 📝 ---\n",
      "\n",
      "✅  > Query corregida recibida: SELECT customer_full_name FROM sales.dim_customer LIMIT 10...\n",
      "\n",
      "--- INICIANDO FASE DE EXTRACCIÓN DE TABLAS CON LLM 🧮 ---\n",
      "Tablas detectadas por el LLM: ['dim_customer']\n",
      "\n",
      "--- INICIANDO FASE DE JUEZ DE COHERENCIA 👩‍⚖️ ---\n",
      "\n",
      "Veredicto del juez: COHERENTE ✅\n",
      "\n",
      "--- PASANDO A FASE DE EJECUCIÓN EN POSTGRESQL ---\n",
      "\n",
      "\n",
      "✅ Query ejecutada correctamente.\n"
     ]
    },
    {
     "data": {
      "text/plain": [
       "{'sql_query': 'SELECT customer_full_name FROM sales.dim_customer LIMIT 10',\n",
       " 'table_names': ['dim_customer'],\n",
       " 'tables_info': ['\\nCREATE TABLE dim_customer (\\n\\tcustomer_key INTEGER NOT NULL, \\n\\tgeography_key INTEGER, \\n\\tcustomer_full_name TEXT, \\n\\tbirth_date DATE, \\n\\tmarital_status CHAR(1), \\n\\tgender VARCHAR(1), \\n\\tyearly_income NUMERIC(19, 4), \\n\\ttotal_children SMALLINT, \\n\\tnumber_children_at_home SMALLINT, \\n\\tenglish_education VARCHAR(40), \\n\\tspanish_education VARCHAR(40), \\n\\tenglish_occupation VARCHAR(100), \\n\\tspanish_occupation VARCHAR(100), \\n\\thouse_owner BOOLEAN, \\n\\tnumber_cars_owned SMALLINT, \\n\\tcommute_distance VARCHAR(15), \\n\\tCONSTRAINT dim_customer_pkey PRIMARY KEY (customer_key), \\n\\tCONSTRAINT fk_dim_customer_geography FOREIGN KEY(geography_key) REFERENCES dim_geography (geography_key)\\n)\\n\\n/*\\n3 rows from dim_customer table:\\ncustomer_key\\tgeography_key\\tcustomer_full_name\\tbirth_date\\tmarital_status\\tgender\\tyearly_income\\ttotal_children\\tnumber_children_at_home\\tenglish_education\\tspanish_education\\tenglish_occupation\\tspanish_occupation\\thouse_owner\\tnumber_cars_owned\\tcommute_distance\\n11000\\t26\\tJon Yang\\t1983-10-06\\tM\\tM\\t90000.0000\\t2\\t0\\tBachelors\\tLicenciatura\\tProfessional\\tProfesional\\tTrue\\t0\\t1-2 Miles\\n11001\\t37\\tEugene Huang\\t1988-05-10\\tS\\tM\\t60000.0000\\t3\\t3\\tBachelors\\tLicenciatura\\tProfessional\\tProfesional\\tFalse\\t1\\t0-1 Miles\\n11002\\t31\\tRuben Torres\\t1983-02-09\\tM\\tM\\t60000.0000\\t3\\t3\\tBachelors\\tLicenciatura\\tProfessional\\tProfesional\\tTrue\\t1\\t2-5 Miles\\n*/'],\n",
       " 'query_results': [{'customer_full_name': 'Jon Yang'},\n",
       "  {'customer_full_name': 'Eugene Huang'},\n",
       "  {'customer_full_name': 'Ruben Torres'},\n",
       "  {'customer_full_name': 'Christy Zhu'},\n",
       "  {'customer_full_name': 'Elizabeth Johnson'},\n",
       "  {'customer_full_name': 'Julio Ruiz'},\n",
       "  {'customer_full_name': 'Janet Alvarez'},\n",
       "  {'customer_full_name': 'Marco Mehta'},\n",
       "  {'customer_full_name': 'Rob Verhoff'},\n",
       "  {'customer_full_name': 'Shannon Carlson'}],\n",
       " 'valid_query_execution': True,\n",
       " 'query_validation_error_msg': 'error_coherence'}"
      ]
     },
     "execution_count": 12,
     "metadata": {},
     "output_type": "execute_result"
    }
   ],
   "source": [
    "# Escenario de incoherencia semántica: Query no relacionada con la pregunta\n",
    "user_msg_ko_coherencia = \"Quiero ver los nombres de los clientes.(solo 10)\"\n",
    "query_ko_coherencia = \"SELECT sales_amount FROM sales.fact_sales limit 10\" # Coherente sintácticamente, incoherente semánticamente\n",
    "high_level_summary = \"###Detalle de Tablas y Columnas Relevantes\\n#### Tabla: dim_customer\\n- *Descripción:* Contiene información detallada de clientes.\\n- *Columnas Relevantes:\\n  - customer_key: Clave primaria, tipo NUMERIC.\\n  - customer_full_name: Nombre y apellido del cliente, tipo TEXT.n\\n#### Tabla: fact_sales\\n- **Descripción:* Contiene detalles de las órdenes de ventas.\\n- *Columnas Relevantes:*\\n  - customer_key: Llave foránea, tipo NUMERIC.\\n  - sales_amount: Subtotal de la línea de orden de venta, tipo NUMERIC.\\n  - order_date: Fecha de creación del pedido, tipo DATE.\\n\"\n",
    "\n",
    "results = graph.invoke({\n",
    "    \"user_query\": user_msg_ko_coherencia, \n",
    "    \"sql_query\": query_ko_coherencia, \n",
    "    \"context\": high_level_summary,\n",
    "    \"db_name\": \"adventure_works_dw\",\n",
    "    \"schema_name\": \"sales\"\n",
    "})\n",
    "\n",
    "results"
   ]
  },
  {
   "cell_type": "markdown",
   "id": "1a893b5a",
   "metadata": {},
   "source": [
    "### C. Corrección de Fallo en la BBDD"
   ]
  },
  {
   "cell_type": "code",
   "execution_count": 13,
   "id": "3725cdc7",
   "metadata": {},
   "outputs": [
    {
     "name": "stdout",
     "output_type": "stream",
     "text": [
      "\n",
      "--- INICIANDO COMPROBACIÓN DE CONEXIÓN A BBDD ⚙️ ---\n",
      "✅ Conexión a la base de datos establecida correctamente.\n",
      "\n",
      "--- INICIANDO FASE DE EXTRACCIÓN DE TABLAS CON LLM 🧮 ---\n",
      "Tablas detectadas por el LLM: ['dimen_customer']\n",
      "\n",
      "--- INICIANDO FASE DE JUEZ DE COHERENCIA 👩‍⚖️ ---\n",
      "\n",
      "Veredicto del juez: COHERENTE ✅\n",
      "\n",
      "--- PASANDO A FASE DE EJECUCIÓN EN POSTGRESQL ---\n",
      "\n",
      "\n",
      "❌ Error de PostgreSQL detectado: table_names {'dimen_customer'} not found in database\n",
      "\n",
      "--- INICIANDO FASE DE CORRECIÓN 📝 ---\n",
      "\n",
      "✅  > Query corregida recibida: SELECT dim_customer.gender, COUNT(*) AS total_clients FROM sales.dim_c...\n",
      "\n",
      "--- INICIANDO FASE DE EXTRACCIÓN DE TABLAS CON LLM 🧮 ---\n",
      "Tablas detectadas por el LLM: ['dim_customer']\n",
      "\n",
      "--- INICIANDO FASE DE JUEZ DE COHERENCIA 👩‍⚖️ ---\n",
      "\n",
      "Veredicto del juez: INCOHERENTE ❌\n",
      "\n",
      "❌ La query es incoherente. No se ejecutará en la BBDD.\n",
      "\n",
      "--- INICIANDO FASE DE CORRECIÓN 📝 ---\n",
      "\n",
      "✅  > Query corregida recibida: SELECT sales.dim_customer.gender, COUNT(*) AS total_clients FROM sales...\n",
      "\n",
      "--- INICIANDO FASE DE EXTRACCIÓN DE TABLAS CON LLM 🧮 ---\n",
      "Tablas detectadas por el LLM: ['dim_customer']\n",
      "\n",
      "--- INICIANDO FASE DE JUEZ DE COHERENCIA 👩‍⚖️ ---\n",
      "\n",
      "Veredicto del juez: COHERENTE ✅\n",
      "\n",
      "--- PASANDO A FASE DE EJECUCIÓN EN POSTGRESQL ---\n",
      "\n",
      "\n",
      "✅ Query ejecutada correctamente.\n"
     ]
    },
    {
     "data": {
      "text/plain": [
       "{'sql_query': 'SELECT sales.dim_customer.gender, COUNT(*) AS total_clients FROM sales.dim_customer GROUP BY sales.dim_customer.gender;',\n",
       " 'table_names': ['dim_customer'],\n",
       " 'tables_info': ['\\nCREATE TABLE dim_customer (\\n\\tcustomer_key INTEGER NOT NULL, \\n\\tgeography_key INTEGER, \\n\\tcustomer_full_name TEXT, \\n\\tbirth_date DATE, \\n\\tmarital_status CHAR(1), \\n\\tgender VARCHAR(1), \\n\\tyearly_income NUMERIC(19, 4), \\n\\ttotal_children SMALLINT, \\n\\tnumber_children_at_home SMALLINT, \\n\\tenglish_education VARCHAR(40), \\n\\tspanish_education VARCHAR(40), \\n\\tenglish_occupation VARCHAR(100), \\n\\tspanish_occupation VARCHAR(100), \\n\\thouse_owner BOOLEAN, \\n\\tnumber_cars_owned SMALLINT, \\n\\tcommute_distance VARCHAR(15), \\n\\tCONSTRAINT dim_customer_pkey PRIMARY KEY (customer_key), \\n\\tCONSTRAINT fk_dim_customer_geography FOREIGN KEY(geography_key) REFERENCES dim_geography (geography_key)\\n)\\n\\n/*\\n3 rows from dim_customer table:\\ncustomer_key\\tgeography_key\\tcustomer_full_name\\tbirth_date\\tmarital_status\\tgender\\tyearly_income\\ttotal_children\\tnumber_children_at_home\\tenglish_education\\tspanish_education\\tenglish_occupation\\tspanish_occupation\\thouse_owner\\tnumber_cars_owned\\tcommute_distance\\n11000\\t26\\tJon Yang\\t1983-10-06\\tM\\tM\\t90000.0000\\t2\\t0\\tBachelors\\tLicenciatura\\tProfessional\\tProfesional\\tTrue\\t0\\t1-2 Miles\\n11001\\t37\\tEugene Huang\\t1988-05-10\\tS\\tM\\t60000.0000\\t3\\t3\\tBachelors\\tLicenciatura\\tProfessional\\tProfesional\\tFalse\\t1\\t0-1 Miles\\n11002\\t31\\tRuben Torres\\t1983-02-09\\tM\\tM\\t60000.0000\\t3\\t3\\tBachelors\\tLicenciatura\\tProfessional\\tProfesional\\tTrue\\t1\\t2-5 Miles\\n*/'],\n",
       " 'query_results': [{'gender': 'M', 'total_clients': 9351},\n",
       "  {'gender': 'F', 'total_clients': 9133}],\n",
       " 'valid_query_execution': True,\n",
       " 'query_validation_error_msg': 'error_coherence'}"
      ]
     },
     "execution_count": 13,
     "metadata": {},
     "output_type": "execute_result"
    }
   ],
   "source": [
    "# Escenario de error en BBDD: Tabla con nombre incorrecto\n",
    "user_msg_ko_db = \"Quiero saber el total de clientes por genero.\"\n",
    "query_ko_db = \"SELECT gender, COUNT(*) AS total_clients FROM sales.dimen_customer GROUP BY gender\" # Nombre de tabla incorrecto\n",
    "high_level_summary = \"###Detalle de Tablas y Columnas Relevantes\\n#### Tabla: dim_customer\\n- *Descripción:* Contiene información detallada de clientes.\\n- *Columnas Relevantes:\\n  - customer_key: Clave primaria, tipo NUMERIC.\\n  - gender: genero del cliente, tipo TEXT.\\n\\n#### Tabla: fact_sales\\n- **Descripción:* Contiene detalles de las órdenes de ventas.\\n- *Columnas Relevantes:*\\n  - customer_key: Llave foránea, tipo NUMERIC.\\n  - sales_amount: Subtotal de la línea de orden de venta, tipo NUMERIC.\\n  - order_date: Fecha de creación del pedido, tipo DATE.\\n\"\n",
    "\n",
    "results = graph.invoke({\n",
    "    \"user_query\": user_msg_ko_db, \n",
    "    \"sql_query\": query_ko_db, \n",
    "    \"context\": high_level_summary,\n",
    "    \"db_name\": \"adventure_works_dw\",\n",
    "    \"schema_name\": \"sales\"\n",
    "})\n",
    "\n",
    "results"
   ]
  },
  {
   "cell_type": "markdown",
   "id": "91df7cc0",
   "metadata": {},
   "source": [
    "### D. Ejemplo complejo:"
   ]
  },
  {
   "cell_type": "code",
   "execution_count": 14,
   "id": "1c3df7dd",
   "metadata": {},
   "outputs": [
    {
     "name": "stdout",
     "output_type": "stream",
     "text": [
      "\n",
      "--- INICIANDO COMPROBACIÓN DE CONEXIÓN A BBDD ⚙️ ---\n",
      "✅ Conexión a la base de datos establecida correctamente.\n",
      "\n",
      "--- INICIANDO FASE DE EXTRACCIÓN DE TABLAS CON LLM 🧮 ---\n",
      "Tablas detectadas por el LLM: ['ventas', 'productos']\n",
      "\n",
      "--- INICIANDO FASE DE JUEZ DE COHERENCIA 👩‍⚖️ ---\n",
      "\n",
      "Veredicto del juez: COHERENTE ✅\n",
      "\n",
      "--- PASANDO A FASE DE EJECUCIÓN EN POSTGRESQL ---\n",
      "\n",
      "\n",
      "❌ Error de PostgreSQL detectado: table_names {'ventas'} not found in database\n",
      "\n",
      "--- INICIANDO FASE DE CORRECIÓN 📝 ---\n",
      "\n",
      "✅  > Query corregida recibida: WITH \n",
      "last_quarter AS (\n",
      "  SELECT\n",
      "    fs.product_key,\n",
      "    COALESCE(dp.s...\n",
      "\n",
      "--- INICIANDO FASE DE EXTRACCIÓN DE TABLAS CON LLM 🧮 ---\n",
      "Tablas detectadas por el LLM: ['fact_sales', 'dim_product']\n",
      "\n",
      "--- INICIANDO FASE DE JUEZ DE COHERENCIA 👩‍⚖️ ---\n",
      "\n",
      "Veredicto del juez: COHERENTE ✅\n",
      "\n",
      "--- PASANDO A FASE DE EJECUCIÓN EN POSTGRESQL ---\n",
      "\n",
      "\n",
      "✅ Query ejecutada correctamente.\n"
     ]
    },
    {
     "data": {
      "text/plain": [
       "{'sql_query': \"WITH \\nlast_quarter AS (\\n  SELECT\\n    fs.product_key,\\n    COALESCE(dp.spanish_product_name, dp.english_product_name) AS product_name,\\n    dp.spanish_product_category_name,\\n    dp.spanish_product_subcategory_name,\\n    EXTRACT(MONTH FROM fs.order_date) AS month_in_quarter,\\n    fs.order_quantity\\n  FROM\\n    sales.fact_sales fs\\n    JOIN sales.dim_product dp ON fs.product_key = dp.product_key\\n  WHERE\\n    fs.sale_source = 'reseller_sales'\\n    AND dp.spanish_product_category_name <> 'Accesorio'\\n    AND fs.order_date >= date_trunc('quarter', CURRENT_DATE - interval '3 months')\\n    AND fs.order_date < date_trunc('quarter', CURRENT_DATE)\\n),\\ntop_products AS (\\n  SELECT\\n    product_key,\\n    product_name,\\n    spanish_product_category_name,\\n    spanish_product_subcategory_name,\\n    SUM(order_quantity) AS total_qty\\n  FROM\\n    last_quarter\\n  GROUP BY\\n    product_key, product_name, spanish_product_category_name, spanish_product_subcategory_name\\n  ORDER BY\\n    total_qty DESC\\n  LIMIT 10\\n)\\nSELECT\\n  tp.product_name AS producto,\\n  tp.spanish_product_category_name AS categoria,\\n  tp.spanish_product_subcategory_name AS subcategoria,\\n  SUM(lq.order_quantity) FILTER (WHERE lq.month_in_quarter = EXTRACT(MONTH FROM date_trunc('quarter', CURRENT_DATE - interval '3 months'))) AS primer_mes,\\n  SUM(lq.order_quantity) FILTER (WHERE lq.month_in_quarter = EXTRACT(MONTH FROM date_trunc('quarter', CURRENT_DATE - interval '3 months') + interval '1 month')) AS segundo_mes,\\n  SUM(lq.order_quantity) FILTER (WHERE lq.month_in_quarter = EXTRACT(MONTH FROM date_trunc('quarter', CURRENT_DATE - interval '3 months') + interval '2 month')) AS tercer_mes,\\n  SUM(lq.order_quantity) AS total\\nFROM\\n  top_products tp\\n  LEFT JOIN last_quarter lq ON tp.product_key = lq.product_key\\nGROUP BY\\n  tp.product_name, tp.spanish_product_category_name, tp.spanish_product_subcategory_name\\nORDER BY\\n  total DESC\",\n",
       " 'table_names': ['fact_sales', 'dim_product'],\n",
       " 'tables_info': ['\\nCREATE TABLE fact_sales (\\n\\tproduct_key INTEGER, \\n\\treseller_key INTEGER, \\n\\temployee_key INTEGER, \\n\\tcustomer_key INTEGER, \\n\\tpromotion_key INTEGER, \\n\\tsales_territory_key INTEGER, \\n\\tsales_order_number VARCHAR(20) NOT NULL, \\n\\tsales_order_line_number SMALLINT NOT NULL, \\n\\torder_quantity SMALLINT, \\n\\tunit_price NUMERIC(19, 4), \\n\\textended_amount NUMERIC(19, 4), \\n\\tunit_price_discount_pct DOUBLE PRECISION, \\n\\tdiscount_amount DOUBLE PRECISION, \\n\\tproduct_standard_cost NUMERIC(19, 4), \\n\\ttotal_product_cost NUMERIC(19, 4), \\n\\tsales_amount NUMERIC(19, 4), \\n\\ttax_amt NUMERIC(19, 4), \\n\\tfreight NUMERIC(19, 4), \\n\\torder_date DATE, \\n\\tdue_date DATE, \\n\\tship_date DATE, \\n\\tsale_source TEXT, \\n\\tCONSTRAINT fact_sales_pkey PRIMARY KEY (sales_order_number, sales_order_line_number), \\n\\tCONSTRAINT fk_fact_sales_customer FOREIGN KEY(customer_key) REFERENCES dim_customer (customer_key), \\n\\tCONSTRAINT fk_fact_sales_person FOREIGN KEY(employee_key) REFERENCES dim_sales_person (employee_key), \\n\\tCONSTRAINT fk_fact_sales_product FOREIGN KEY(product_key) REFERENCES dim_product (product_key), \\n\\tCONSTRAINT fk_fact_sales_promotion FOREIGN KEY(promotion_key) REFERENCES dim_promotion (promotion_key), \\n\\tCONSTRAINT fk_fact_sales_reseller FOREIGN KEY(reseller_key) REFERENCES dim_reseller (reseller_key), \\n\\tCONSTRAINT fk_fact_sales_sales_territory FOREIGN KEY(sales_territory_key) REFERENCES dim_sales_territory (sales_territory_key)\\n)\\n\\n/*\\n3 rows from fact_sales table:\\nproduct_key\\treseller_key\\temployee_key\\tcustomer_key\\tpromotion_key\\tsales_territory_key\\tsales_order_number\\tsales_order_line_number\\torder_quantity\\tunit_price\\textended_amount\\tunit_price_discount_pct\\tdiscount_amount\\tproduct_standard_cost\\ttotal_product_cost\\tsales_amount\\ttax_amt\\tfreight\\torder_date\\tdue_date\\tship_date\\tsale_source\\n212\\t3\\t283\\tNone\\t1\\t4\\tSO44124\\t14\\t1\\t20.1865\\t20.1865\\t0.0\\t0.0\\t12.0278\\t12.0278\\t20.1865\\t1.6149\\t0.5047\\t2023-03-01\\t2023-03-13\\t2023-03-08\\treseller_sales\\n212\\t3\\t283\\tNone\\t1\\t4\\tSO45568\\t11\\t3\\t20.1865\\t60.5595\\t0.0\\t0.0\\t12.0278\\t36.0834\\t60.5595\\t4.8448\\t1.5140\\t2023-08-29\\t2023-09-10\\t2023-09-05\\treseller_sales\\n212\\t3\\t283\\tNone\\t1\\t4\\tSO46377\\t2\\t1\\t20.1865\\t20.1865\\t0.0\\t0.0\\t12.0278\\t12.0278\\t20.1865\\t1.6149\\t0.5047\\t2023-11-29\\t2023-12-11\\t2023-12-06\\treseller_sales\\n*/',\n",
       "  '\\nCREATE TABLE dim_product (\\n\\tproduct_key INTEGER NOT NULL, \\n\\tweight_unit_measure_code CHAR(3), \\n\\tsize_unit_measure_code CHAR(3), \\n\\tenglish_product_name VARCHAR(50), \\n\\tspanish_product_name VARCHAR(50), \\n\\tstandard_cost NUMERIC(19, 4), \\n\\tfinished_goods_flag BOOLEAN, \\n\\tcolor VARCHAR(15), \\n\\tsafety_stock_level SMALLINT, \\n\\treorder_point SMALLINT, \\n\\tlist_price NUMERIC(19, 4), \\n\\tsize VARCHAR(50), \\n\\tsize_range VARCHAR(50), \\n\\tweight DOUBLE PRECISION, \\n\\tdays_to_manufacture INTEGER, \\n\\tproduct_line CHAR(2), \\n\\tdealer_price NUMERIC(19, 4), \\n\\tclass CHAR(2), \\n\\tstyle CHAR(2), \\n\\tmodel_name VARCHAR(50), \\n\\tenglish_description VARCHAR(400), \\n\\tstart_date DATE, \\n\\tend_date DATE, \\n\\tactive BOOLEAN, \\n\\tenglish_product_subcategory_name VARCHAR(50), \\n\\tspanish_product_subcategory_name VARCHAR(50), \\n\\tenglish_product_category_name VARCHAR(50), \\n\\tspanish_product_category_name VARCHAR(50), \\n\\tCONSTRAINT dim_product_pkey PRIMARY KEY (product_key)\\n)\\n\\n/*\\n3 rows from dim_product table:\\nproduct_key\\tweight_unit_measure_code\\tsize_unit_measure_code\\tenglish_product_name\\tspanish_product_name\\tstandard_cost\\tfinished_goods_flag\\tcolor\\tsafety_stock_level\\treorder_point\\tlist_price\\tsize\\tsize_range\\tweight\\tdays_to_manufacture\\tproduct_line\\tdealer_price\\tclass\\tstyle\\tmodel_name\\tenglish_description\\tstart_date\\tend_date\\tactive\\tenglish_product_subcategory_name\\tspanish_product_subcategory_name\\tenglish_product_category_name\\tspanish_product_category_name\\n528\\tNone\\tNone\\tMountain Tire Tube\\tCubierta para cámara de montaña\\t1.8663\\tTrue\\tNA\\t500\\t375\\t4.9900\\tNone\\tNA\\tNone\\t0\\tM \\t2.9940\\tNone\\tNone\\tMountain Tire Tube\\tSelf-sealing tube.\\t2025-07-01\\tNone\\tTrue\\tTires and Tubes\\tCubierta y cámara\\tAccessories\\tAccesorio\\n384\\tLB \\tCM \\tRoad-550-W Yellow, 40\\tCarretera: 550 para mujer, amarilla, 40\\t713.0798\\tTrue\\tYellow\\t100\\t75\\t1120.4900\\t40\\t38-40 CM\\t17.77\\t4\\tR \\t672.2940\\tM \\tW \\tRoad-550-W\\tSame technology as all of our Road series bikes, but the frame is sized for a woman.  Perfect all-ar\\t2025-07-01\\tNone\\tTrue\\tRoad Bikes\\tBicicleta de carretera\\tBikes\\tBicicleta\\n407\\tNone\\tNone\\tHL Road Handlebars\\tManillar de carretera GA\\t48.5453\\tTrue\\tNA\\t500\\t375\\t109.3364\\tNone\\tNA\\tNone\\t1\\tR \\t65.6018\\tH \\tNone\\tHL Road Handlebars\\tDesigned for racers; high-end anatomically shaped bar from aluminum alloy.\\t2024-07-01\\t2020-12-27\\tFalse\\tHandlebars\\tBarra\\tComponents\\tComponente\\n*/'],\n",
       " 'query_results': [{'producto': 'Camiseta clásica, P', 'categoria': 'Prenda', 'subcategoria': 'Camiseta', 'primer_mes': 381, 'segundo_mes': 380, 'tercer_mes': 190, 'total': 951},\n",
       "  {'producto': 'Jersey clásico de manga corta, SG', 'categoria': 'Prenda', 'subcategoria': 'Jersey', 'primer_mes': 329, 'segundo_mes': 299, 'tercer_mes': 183, 'total': 811},\n",
       "  {'producto': \"Women's Mountain Shorts, S\", 'categoria': 'Prenda', 'subcategoria': 'Pantalones cortos', 'primer_mes': 295, 'segundo_mes': 258, 'tercer_mes': 141, 'total': 694},\n",
       "  {'producto': 'Jersey con logotipo de manga larga, G', 'categoria': 'Prenda', 'subcategoria': 'Jersey', 'primer_mes': 312, 'segundo_mes': 243, 'tercer_mes': 129, 'total': 684},\n",
       "  {'producto': 'AWC Logo Cap', 'categoria': 'Prenda', 'subcategoria': 'Gorra', 'primer_mes': 291, 'segundo_mes': 243, 'tercer_mes': 121, 'total': 655},\n",
       "  {'producto': \"Women's Mountain Shorts, L\", 'categoria': 'Prenda', 'subcategoria': 'Pantalones cortos', 'primer_mes': 262, 'segundo_mes': 236, 'tercer_mes': 120, 'total': 618},\n",
       "  {'producto': 'Jersey clásico de manga corta, G', 'categoria': 'Prenda', 'subcategoria': 'Jersey', 'primer_mes': 217, 'segundo_mes': 231, 'tercer_mes': 113, 'total': 561},\n",
       "  {'producto': 'Calcetines para carreras, G', 'categoria': 'Prenda', 'subcategoria': 'Calcetines', 'primer_mes': 231, 'segundo_mes': 179, 'tercer_mes': 93, 'total': 503},\n",
       "  {'producto': 'Camiseta clásica, M', 'categoria': 'Prenda', 'subcategoria': 'Camiseta', 'primer_mes': 197, 'segundo_mes': 187, 'tercer_mes': 85, 'total': 469},\n",
       "  {'producto': 'Half-Finger Gloves, M', 'categoria': 'Prenda', 'subcategoria': 'Guantes', 'primer_mes': 187, 'segundo_mes': 168, 'tercer_mes': 82, 'total': 437}],\n",
       " 'valid_query_execution': True,\n",
       " 'query_validation_error_msg': 'error_db'}"
      ]
     },
     "execution_count": 14,
     "metadata": {},
     "output_type": "execute_result"
    }
   ],
   "source": [
    "user_query = 'Muéstrame los 10 productos más vendidos para el B2B en el último trimestre, excluyendo los Accesorios. Mes a mes indica cuántas unidades se vendieron, y muestra también a qué categoría y subcategoría pertenecen'\n",
    "sql_query = \"WITH \\nlast_quarter AS (\\n  SELECT\\n    fs.product_key,\\n    COALESCE(dp.spanish_product_name, dp.english_product_name) AS product_name,\\n    dp.spanish_product_category_name,\\n    dp.spanish_product_subcategory_name,\\n    EXTRACT(MONTH FROM fs.order_date) AS month_in_quarter,\\n    fs.order_quantity\\n  FROM\\n    sales.ventas fs\\n    JOIN sales.productos dp ON fs.product_key = dp.product_key\\n  WHERE\\n    fs.sale_source = 'reseller_sales'\\n    AND dp.spanish_product_category_name <> 'Accesorio'\\n    AND fs.order_date >= date_trunc('quarter', CURRENT_DATE - interval '3 months')\\n    AND fs.order_date < date_trunc('quarter', CURRENT_DATE)\\n),\\ntop_products AS (\\n  SELECT\\n    product_key,\\n    product_name,\\n    spanish_product_category_name,\\n    spanish_product_subcategory_name,\\n    SUM(order_quantity) AS total_qty\\n  FROM\\n    last_quarter\\n  GROUP BY\\n    product_key, product_name, spanish_product_category_name, spanish_product_subcategory_name\\n  ORDER BY\\n    total_qty DESC\\n  LIMIT 10\\n)\\nSELECT\\n  tp.product_name AS producto,\\n  tp.spanish_product_category_name AS categoria,\\n  tp.spanish_product_subcategory_name AS subcategoria,\\n  SUM(lq.order_quantity) FILTER (WHERE lq.month_in_quarter = EXTRACT(MONTH FROM date_trunc('quarter', CURRENT_DATE - interval '3 months'))) AS primer_mes,\\n  SUM(lq.order_quantity) FILTER (WHERE lq.month_in_quarter = EXTRACT(MONTH FROM date_trunc('quarter', CURRENT_DATE - interval '3 months') + interval '1 month')) AS segundo_mes,\\n  SUM(lq.order_quantity) FILTER (WHERE lq.month_in_quarter = EXTRACT(MONTH FROM date_trunc('quarter', CURRENT_DATE - interval '3 months') + interval '2 month')) AS tercer_mes,\\n  SUM(lq.order_quantity) AS total\\nFROM\\n  top_products tp\\n  LEFT JOIN last_quarter lq ON tp.product_key = lq.product_key\\nGROUP BY\\n  producto, categoria, subcategoria\\nORDER BY\\n  total DESC\"\n",
    "context = \"### Resumen General\\nEl objetivo de la consulta es identificar los 10 productos más vendidos en el modelo de negocio B2B durante el último trimestre, excluyendo aquellos clasificados como accesorios. Además, se requiere un desglose mensual de las unidades vendidas y la inclusión de información sobre la categoría y subcategoría de cada producto.\\n\\n### Esquema Detallado y Relaciones\\n#### Base de datos y esquema\\n- **Base de datos:** adventure_works_dw\\n- **Esquema:** sales\\n\\n#### Tabla: dim_product\\n- **Descripción:** Contiene información detallada de los productos vendidos.\\n- **Clave primaria:** product_key\\n- **Columnas relevantes:**\\n  - **english_product_category_name**: VARCHAR(50), nunca NULL.\\n  - **spanish_product_category_name**: VARCHAR(50), nunca NULL.\\n  - **english_product_subcategory_name**: VARCHAR(50), nunca NULL.\\n  - **spanish_product_subcategory_name**: VARCHAR(50), nunca NULL.\\n  - **spanish_product_name**: VARCHAR(50), puede ser NULL.\\n  - **english_product_name**: VARCHAR(50), nunca NULL.\\n  - **finished_goods_flag**: BOOL.\\n  - **start_date**: DATE.\\n  - **end_date**: DATE, puede ser NULL.\\n  - **dealer_price**: NUMERIC.\\n  - **list_price**: NUMERIC.\\n\\n#### Tabla: fact_sales\\n- **Descripción:** Contiene detalles de las órdenes de ventas realizadas.\\n- **Clave primaria:** sales_order_number, sales_order_line_number\\n- **Claves foráneas:**\\n  - product_key → sales.dim_product.product_key\\n- **Columnas relevantes:**\\n  - **order_quantity**: INT2.\\n  - **sale_source**: TEXT.\\n  - **order_date**: DATE.\\n  - **product_key**: Referencia a sales.dim_product.product_key.\\n\\n#### Relaciones entre tablas\\n- Para unir las tablas **fact_sales** y **dim_product**, se utiliza la clave foránea **product_key**.\\n- Condiciones de unión: `fact_sales.product_key = dim_product.product_key`.\\n\\n### Reglas de Negocio y Lógica\\n1. **Modelo de Negocio B2B:**\\n   - Las ventas B2B se identifican con el campo `sale_source` igual a `'reseller_sales'`.\\n\\n2. **Productos Más Vendidos:**\\n   - Se define por la cantidad de unidades vendidas (`order_quantity`).\\n   - Implementación SQL:\\n     ```sql\\n     SUM(order_quantity) AS cantidad_vendida\\n     ```\\n\\n3. **Exclusión de Accesorios:**\\n   - Se aplica el filtro `spanish_product_category_name != 'Accesorio'`.\\n\\n4. **Desglose Temporal:**\\n   - Para calcular el último trimestre, se utiliza el campo `order_date` en la tabla `fact_sales`.\\n   - Ejemplo de filtro SQL para el último trimestre:\\n     ```sql\\n     WHERE order_date BETWEEN DATE_TRUNC('quarter', CURRENT_DATE - INTERVAL '3 months') AND DATE_TRUNC('quarter', CURRENT_DATE) - INTERVAL '1 day';\\n     ```\\n   - Para el desglose mensual, se puede usar la función `EXTRACT(MONTH FROM order_date)`.\\n\\n5. **Categorías y Subcategorías:**\\n   - Para mostrar nombres de categorías y subcategorías, se priorizan los campos en español (`spanish_product_category_name`, `spanish_product_subcategory_name`). Si son nulos, se utiliza la versión en inglés como alternativa.\\n   - Ejemplo de lógica SQL:\\n     ```sql\\n     SELECT\\n         COALESCE(spanish_product_category_name, english_product_category_name) AS producto_categoria,\\n         COALESCE(spanish_product_subcategory_name, english_product_subcategory_name) AS producto_subcategoria\\n     FROM sales.dim_product;\\n     ```\"\n",
    "\n",
    "results = graph.invoke({\n",
    "    \"user_query\": user_query, \n",
    "    \"sql_query\": sql_query, \n",
    "    \"context\": context,\n",
    "    \"db_name\": \"adventure_works_dw\",\n",
    "    \"schema_name\": \"sales\"\n",
    "})\n",
    "\n",
    "results"
   ]
  }
 ],
 "metadata": {
  "kernelspec": {
   "display_name": "ucm-tfm-grupo-4 (3.11.9)",
   "language": "python",
   "name": "python3"
  },
  "language_info": {
   "codemirror_mode": {
    "name": "ipython",
    "version": 3
   },
   "file_extension": ".py",
   "mimetype": "text/x-python",
   "name": "python",
   "nbconvert_exporter": "python",
   "pygments_lexer": "ipython3",
   "version": "3.11.9"
  }
 },
 "nbformat": 4,
 "nbformat_minor": 5
}
