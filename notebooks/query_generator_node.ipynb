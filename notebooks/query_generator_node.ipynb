{
 "cells": [
  {
   "cell_type": "markdown",
   "id": "ea0bb95f",
   "metadata": {},
   "source": [
    "## NODO QUERY GENERATOR con LANGGRAPH"
   ]
  },
  {
   "cell_type": "markdown",
   "id": "d0f15e92",
   "metadata": {},
   "source": [
    "---------"
   ]
  },
  {
   "cell_type": "markdown",
   "id": "735d51ce",
   "metadata": {},
   "source": [
    "### TODO:\n",
    "1. la salida de mi subgrafo debe decir si OK o si no, pensarlo "
   ]
  },
  {
   "cell_type": "markdown",
   "id": "3333b4d2",
   "metadata": {},
   "source": [
    "----------"
   ]
  },
  {
   "cell_type": "markdown",
   "id": "e9a10d6e",
   "metadata": {},
   "source": [
    "El objetivo es crear un flujo con Langgraph:\n",
    "- START : simulando ser el Nodo **Generador de Contexto**\n",
    "- NODO : contiene el LLM generador de consultas SQL\n",
    "    - Tool del NODO : encargado de verificar sintaxis y que sea una query read only\n",
    "- END : Devuelvo la query generada de manera correcta ó comunico que no se ha podido (si itero mas de N veces en la tool)"
   ]
  },
  {
   "cell_type": "markdown",
   "id": "978d79ed",
   "metadata": {},
   "source": [
    "### LIBRERIAS"
   ]
  },
  {
   "cell_type": "code",
   "execution_count": 72,
   "id": "30470976",
   "metadata": {},
   "outputs": [],
   "source": [
    "from langgraph.graph import StateGraph, START, END\n",
    "from langgraph.graph.message import add_messages\n",
    "from langchain_core.messages import SystemMessage, HumanMessage\n",
    "from langchain_core.tools import tool\n",
    "from langchain_openai import AzureChatOpenAI\n",
    "\n",
    "import os\n",
    "import re\n",
    "from dotenv import load_dotenv \n",
    "from typing import Annotated, Optional, List, Dict, Any, NotRequired\n",
    "from typing_extensions import TypedDict\n",
    "\n",
    "import sqlglot\n",
    "from sqlglot.errors import ParseError"
   ]
  },
  {
   "cell_type": "markdown",
   "id": "0a4579a4",
   "metadata": {},
   "source": [
    "### SETTINGS"
   ]
  },
  {
   "cell_type": "code",
   "execution_count": 2,
   "id": "a89b7e14",
   "metadata": {},
   "outputs": [],
   "source": [
    "load_dotenv()       #Cargo las variables del archivo .env\n",
    "\n",
    "API_KEY = os.getenv(\"AZURE_OPENAI_API_KEY\")\n",
    "ENDPOINT = os.getenv(\"AZURE_OPENAI_ENDPOINT\")\n",
    "API_VERSION = os.getenv(\"OPENAI_API_VERSION\")\n",
    "MODELO = \"gpt-4o\""
   ]
  },
  {
   "cell_type": "markdown",
   "id": "8b01a0ee",
   "metadata": {},
   "source": [
    "### 1. Creación del **StateGraph**\n"
   ]
  },
  {
   "cell_type": "markdown",
   "id": "4c4bc9dd",
   "metadata": {},
   "source": [
    "Hay 2 STATEs:\n",
    "- State Global: `State` que es el del grafo principal\n",
    "- State Local: `QueryGeneratorState` que es el que utiliza mi subgrafo, y que no ensucia al global\n",
    "\n"
   ]
  },
  {
   "cell_type": "markdown",
   "id": "9e075d3a",
   "metadata": {},
   "source": [
    "### STATE Local : QueryGeneratorState\n",
    "El state es el contenedor de memoria compartido que fluye entre los nodos.\n",
    "\n",
    "Cada nodo recibe el state, lee lo que necesita, devuelve un delta (solo las claves que quiere actualizar) y LangGraph fusiona ese delta con el state existente usando las “reglas de actualización” que tú definas (por clave). Esto te da un flujo determinista y transparente."
   ]
  },
  {
   "cell_type": "code",
   "execution_count": null,
   "id": "5f1e99f5",
   "metadata": {},
   "outputs": [],
   "source": [
    "# Reducer \"sum\" para contadores: si un nodo devuelve attempt=1,\n",
    "# se sumará al valor actual (en vez de sobrescribir)\n",
    "def sum_int(old: int, new: int) -> int:\n",
    "    return (old or 0) + (new or 0)\n",
    "\n",
    "# Reducer \"append list\" simple para notas (listas de str)\n",
    "def append_list(old: Optional[List[str]], new: Optional[List[str]]) -> List[str]:\n",
    "    return (old or []) + (new or [])\n",
    "\n",
    "class Validation(TypedDict, total=False):\n",
    "    ok: bool\n",
    "    error: Optional[str]\n",
    "\n",
    "class QueryGeneratorState(TypedDict):\n",
    "\n",
    "    #Historial conversacional completo:\n",
    "    messages: Annotated[list, add_messages]\n",
    "    \n",
    "    # Entradas Principales\n",
    "    context_text: NotRequired[str] #Contetxo simulado del agente simulador de contexto\n",
    "    user_query: NotRequired[str] # query del usuario en lenguaje natural\n",
    "\n",
    "    query_examples: Optional[str] #Los ejemplos, si es que hay, que obtengo de Chroma\n",
    "    \n",
    "    # Proceso NL2SQL\n",
    "    sql_candidate: NotRequired[str]              # último SQL generado\n",
    "    validation: Validation           # {ok: bool, error: str | None} EL router mira estos valores para decidir si OK o si retroalimento\n",
    "\n",
    "    # Control de bucle\n",
    "    attempt: Annotated[int, sum_int] # contador de intentos (se suma)\n",
    "    max_attempts: int                # límite de intentos\n",
    "\n",
    "    # Notas: una especie de log donde se anotan los eventos claves del flujo.\n",
    "    notes: Annotated[List[str], append_list]\n",
    "    \n",
    "    dialect: Optional[str] #'postgres'\n",
    "    language: NotRequired[str]\n",
    "\n",
    "    # Salida\n",
    "    final_sql: Optional[str]         # SQL validada\n"
   ]
  },
  {
   "cell_type": "markdown",
   "id": "3321cdf5",
   "metadata": {},
   "source": [
    "### STATE Global : State"
   ]
  },
  {
   "cell_type": "code",
   "execution_count": 4,
   "id": "3392e3f2",
   "metadata": {},
   "outputs": [],
   "source": [
    "class State (TypedDict):\n",
    "    \n",
    "    context_text: str       # Contexto que aporta el subgrafo de Gaston\n",
    "    user_query: str         # La consulta del usuario en Lenguaje Natural\n",
    "\n",
    "    dialect: Optional[str]  # 'postgres'\n",
    "    language: Optional[str]\n",
    "    final_sql: Optional[str] # SQL final validada"
   ]
  },
  {
   "cell_type": "markdown",
   "id": "d3f53d57",
   "metadata": {},
   "source": [
    "### Inicialización del estado: Ejemplo"
   ]
  },
  {
   "cell_type": "code",
   "execution_count": 5,
   "id": "2740f0a1",
   "metadata": {},
   "outputs": [],
   "source": [
    "initial_state: QueryGeneratorState = {\n",
    "    \"messages\": [],\n",
    "    \"context_text\": \"TABLAS: sales(order_id, product_id, amount, created_at)... REGLAS: filtrar por created_at >= '2024-01-01' ...\",\n",
    "    \"user_query\": \"Quiero el total vendido por producto en 2024, ordenado descendente\",\n",
    "    \"attempt\": 0,\n",
    "    \"max_attempts\": 3,\n",
    "    \"notes\": [\"Init\"]\n",
    "}"
   ]
  },
  {
   "cell_type": "markdown",
   "id": "b2e90957",
   "metadata": {},
   "source": [
    "_______________"
   ]
  },
  {
   "cell_type": "markdown",
   "id": "e1049ee3",
   "metadata": {},
   "source": [
    "_____________________"
   ]
  },
  {
   "cell_type": "markdown",
   "id": "0195fa86",
   "metadata": {},
   "source": [
    "**Bloque nuevo : Agrego la tool de retrieval de ejemplos y su nodo:**"
   ]
  },
  {
   "cell_type": "markdown",
   "id": "cb4a146f",
   "metadata": {},
   "source": [
    "**Imports de Gaston**"
   ]
  },
  {
   "cell_type": "code",
   "execution_count": 6,
   "id": "a88ca625",
   "metadata": {},
   "outputs": [
    {
     "data": {
      "text/plain": [
       "True"
      ]
     },
     "execution_count": 6,
     "metadata": {},
     "output_type": "execute_result"
    }
   ],
   "source": [
    "import sys\n",
    "from pathlib import Path\n",
    "\n",
    "# Añadimos el directorio raíz del proyecto al path\n",
    "project_root = Path().resolve().parent\n",
    "if str(project_root) not in sys.path:\n",
    "    sys.path.append(str(project_root))\n",
    "\n",
    "from src.back.embeddings import GenAIExtendedEmbeddingFunction\n",
    "from src.back.chroma_collections import (\n",
    "    ContextEnricherChromaCollection,\n",
    "    MdlHierarchicalChromaCollections,\n",
    "    ExamplesChromaCollection\n",
    ")\n",
    "\n",
    "from pydantic import BaseModel, Field\n",
    "\n",
    "# Aplicamos operaciones sobre librerías estándar\n",
    "load_dotenv('../.env')"
   ]
  },
  {
   "cell_type": "markdown",
   "id": "0ee8d7e2",
   "metadata": {},
   "source": [
    "**Constantes globales**"
   ]
  },
  {
   "cell_type": "code",
   "execution_count": 7,
   "id": "5c8bba98",
   "metadata": {},
   "outputs": [],
   "source": [
    "GENAI_EMBEDDING_MODEL = 'gemini-embedding-001'\n",
    "\n",
    "MAX_SUBQUERIES_SPLIT = 5"
   ]
  },
  {
   "cell_type": "markdown",
   "id": "a6e93f1a",
   "metadata": {},
   "source": [
    "### SET UP de la TOOL"
   ]
  },
  {
   "cell_type": "markdown",
   "id": "5c8b9ff0",
   "metadata": {},
   "source": [
    "a. Model de Embeddings y coleccion de Chroma que contiene los ejemplos: **query_examples** "
   ]
  },
  {
   "cell_type": "code",
   "execution_count": 8,
   "id": "648b1d19",
   "metadata": {},
   "outputs": [
    {
     "name": "stdout",
     "output_type": "stream",
     "text": [
      "VertexAI: True\n",
      "Project: gen-lang-client-0151767776\n",
      "Location: europe-west1\n",
      "Auth Tokens: <google.genai.tokens.Tokens object at 0x11fa2b710>\n"
     ]
    }
   ],
   "source": [
    "genai_embeddings = GenAIExtendedEmbeddingFunction(model= GENAI_EMBEDDING_MODEL)\n",
    "print(f'VertexAI: {genai_embeddings.genai_client._api_client.vertexai}')\n",
    "print(f'Project: {genai_embeddings.genai_client._api_client.project}')\n",
    "print(f'Location: {genai_embeddings.genai_client._api_client.location}')\n",
    "print(f'Auth Tokens: {genai_embeddings.genai_client.auth_tokens}')\n",
    "\n",
    "\n",
    "query_examples_collection = ExamplesChromaCollection(\n",
    "    collection_name= 'query_examples',\n",
    "    embedding_function= genai_embeddings,\n",
    "    host= os.getenv('CHROMA_SERVER_HOST', 'localhost'),\n",
    "    port= os.getenv('CHROMA_LOCAL_PORT', '8000')\n",
    ")"
   ]
  },
  {
   "cell_type": "markdown",
   "id": "65c7c1d5",
   "metadata": {},
   "source": [
    "b. Definicion del esquema de entrada:"
   ]
  },
  {
   "cell_type": "code",
   "execution_count": 9,
   "id": "707b722e",
   "metadata": {},
   "outputs": [],
   "source": [
    "class RetrieverInput(BaseModel):\n",
    "    \"\"\"\n",
    "    Input schema for retriever tools. Accepts one or more queries for retrieval.\n",
    "    \"\"\"\n",
    "    query: List[str] = Field(\n",
    "        description= (\n",
    "            \"A list of one or more search queries to retrieve relevant information. \"\n",
    "            f\"Break down the user's question into up to {MAX_SUBQUERIES_SPLIT} simple, focused sub-queries to maximize retrieval accuracy. \"\n",
    "            \"Each sub-query should represent a key concept from the original question.\"\n",
    "        )\n",
    "    )\n",
    "\n",
    "    language: Optional[str]"
   ]
  },
  {
   "cell_type": "markdown",
   "id": "6b2282a3",
   "metadata": {},
   "source": [
    "c. Definicion de la TOOL:"
   ]
  },
  {
   "cell_type": "code",
   "execution_count": 40,
   "id": "ad6b5c37",
   "metadata": {},
   "outputs": [],
   "source": [
    "@tool(\"query_examples_retriever\", args_schema=RetrieverInput)\n",
    "def get_query_examples(query: List[str], language:str) -> str:\n",
    "    \"\"\"\n",
    "    ¡¡¡¡MODIFICAR!!!\n",
    "    Retrieve detailed business logic, including KPI calculations, domain-specific rules, and definitions of business concepts.\n",
    "    This is the primary source for understanding the semantic meaning and 'why' behind the data. \n",
    "    Provide multiple queries to cover all relevant business aspects.\n",
    "    \"\"\"\n",
    "\n",
    "    def _iter_docs(search_results):\n",
    "        \"\"\"\n",
    "        Funcion para leer correctamente lo obtenido en search_results\n",
    "        \"\"\"\n",
    "        if not search_results:\n",
    "            return []\n",
    "        seq = search_results[0] if isinstance(search_results[0], list) else search_results\n",
    "        for item in seq:\n",
    "            doc = item[0] if isinstance(item, (tuple, list)) else item\n",
    "            yield doc\n",
    "\n",
    "    filter = None\n",
    "    if language:\n",
    "        filter = {'language': language}\n",
    "\n",
    "    search_results = query_examples_collection.search(\n",
    "        queries = query,\n",
    "        search_type = 'similarity_score_threshold',\n",
    "        k = 2,\n",
    "        filter = filter     # Agrego filtro por idioma a la busqueda de Chroma\n",
    "    )\n",
    "\n",
    "    if not search_results:\n",
    "        return 'No semantically relevant results were found for the specified queries.'\n",
    "\t\t\n",
    "    ### Si hay resultados, pintarlos bonitos para poder pasarselos al LLM:\n",
    "    pretty = []\n",
    "    n = 1\n",
    "    for doc in _iter_docs(search_results):\n",
    "        pretty.append(\n",
    "            f\"--- Ejemplo #{n}: ---\\n\"\n",
    "            f\"- NL: {getattr(doc, 'page_content', '')}\\n\"\n",
    "            f\"- SQL: {getattr(doc, 'metadata', {}).get('sql_query')}\\n\"\n",
    "        )\n",
    "        n += 1\n",
    "    return \"\\n\".join(pretty).strip()"
   ]
  },
  {
   "cell_type": "markdown",
   "id": "c714f2f6",
   "metadata": {},
   "source": [
    "**Nodo que llama a la TOOL:**"
   ]
  },
  {
   "cell_type": "code",
   "execution_count": 11,
   "id": "10c48e56",
   "metadata": {},
   "outputs": [],
   "source": [
    "def node_retrieve_query_examples(state: QueryGeneratorState):\n",
    "    \"\"\"\n",
    "    Execute tool to retrieve query examples results.\n",
    "\n",
    "    Args:\n",
    "        state (dict): The current graph state\n",
    "    \"\"\"\n",
    "    print(\"---QUERY EXAMPLES RETRIEVE TOOL---\")\n",
    "\n",
    "    query = state['user_query'] \n",
    "    lang_raw = state.get(\"language\")\n",
    "    language = lang_raw.upper() if lang_raw else None\n",
    "    \n",
    "    LANGUAGE_DICT = {\n",
    "    \t'SPANISH': 'ES',\n",
    "        'ENGLISH': 'EN'\n",
    "    }\n",
    "    \n",
    "    language_filter = LANGUAGE_DICT.get(language)\n",
    "    \n",
    "    retrieval_results = get_query_examples.invoke(input= {'query':[query], 'language':language_filter})\n",
    "\n",
    "    return {\n",
    "        'query_examples': retrieval_results\n",
    "    }"
   ]
  },
  {
   "cell_type": "markdown",
   "id": "15f0a7e8",
   "metadata": {},
   "source": [
    "-------------------"
   ]
  },
  {
   "cell_type": "markdown",
   "id": "8abce06e",
   "metadata": {},
   "source": [
    "_______________________"
   ]
  },
  {
   "cell_type": "markdown",
   "id": "77d20726",
   "metadata": {},
   "source": [
    "### 2. TOOL validacion de sintaxis y read_only()\n",
    "\n",
    "La tool verifica que la query tenga una sintaxis correcta y que sea solo de lectura, que no modifique la base de datos"
   ]
  },
  {
   "cell_type": "markdown",
   "id": "bcf62dbc",
   "metadata": {},
   "source": [
    "Extrae la SQL devuelta por el LLM sin formato, la SQL cruda.\n",
    "\n",
    "Hay veces que el LLM devuelve la query con formato y el validador no puede comprenderla."
   ]
  },
  {
   "cell_type": "code",
   "execution_count": 14,
   "id": "647206f1",
   "metadata": {},
   "outputs": [],
   "source": [
    "# --- Sanitizador de la salida del LLM (quita ```sql, ANSI, backticks, etc.) ---\n",
    "ANSI_RE = re.compile(r\"\\x1b\\[[0-9;]*[A-Za-z]\")\n",
    "\n",
    "def extract_sql(text: str) -> str:\n",
    "    if not text:\n",
    "        return \"\"\n",
    "    t = ANSI_RE.sub(\"\", text)\n",
    "    t = re.sub(r\"/\\*[\\s\\S]*?\\*/\", \"\", t)\n",
    "    t = re.sub(r\"--.*?$\", \"\", t, flags=re.MULTILINE)\n",
    "    m = re.search(r\"```(?:\\s*sql)?\\s*([\\s\\S]*?)```\", t, flags=re.IGNORECASE)\n",
    "    if m:\n",
    "        t = m.group(1)\n",
    "    t = re.sub(r\"^\\s*sql\\s*\\n\", \"\", t, flags=re.IGNORECASE)\n",
    "    m2 = re.search(r\"\\b(SELECT|WITH)\\b\", t, flags=re.IGNORECASE)\n",
    "    if m2:\n",
    "        t = t[m2.start():]\n",
    "    t = t.strip().replace(\"```\", \"\").replace(\"`\", \"\")\n",
    "    t = re.sub(r\";\\s*$\", \"\", t)\n",
    "    return t.strip()"
   ]
  },
  {
   "cell_type": "code",
   "execution_count": 15,
   "id": "a44ddcf4",
   "metadata": {},
   "outputs": [],
   "source": [
    "FORBIDDEN = (\n",
    "    r\"\\b(INSERT|UPDATE|DELETE|MERGE|TRUNCATE|CREATE|ALTER|DROP|RENAME|REINDEX|\"\n",
    "    r\"VACUUM|ANALYZE|CLUSTER|REFRESH|COPY|CALL|DO|GRANT|REVOKE|SET|\"\n",
    "    r\"BEGIN|START\\s+TRANSACTION|COMMIT|ROLLBACK|LOCK|UNLOCK)\\b\"\n",
    ")\n",
    "\n",
    "def basic_readonly_checks(sql: str) -> Optional[str]:\n",
    "    s = sql.strip()\n",
    "\n",
    "    # Una sola sentencia: permitimos ';' final, pero no múltiples\n",
    "    if \";\" in s[:-1]:\n",
    "        return \"Se detectaron múltiples sentencias (';'). Devuelve solo UNA consulta.\"\n",
    "\n",
    "    # Debe empezar por SELECT o WITH\n",
    "    if not re.match(r\"^\\s*(SELECT|WITH)\\b\", s, re.IGNORECASE):\n",
    "        return \"Solo se admiten consultas de lectura (SELECT/WITH).\"\n",
    "\n",
    "    # Palabras prohibidas (DML/DDL/transacciones)\n",
    "    if re.search(FORBIDDEN, s, re.IGNORECASE):\n",
    "        return \"Se detectaron palabras no permitidas para read-only (DML/DDL/Transacción).\"\n",
    "\n",
    "    # (Opcional) Bloqueos de filas: FOR UPDATE/SHARE\n",
    "    if re.search(r\"\\bFOR\\s+(UPDATE|SHARE)\\b\", s, re.IGNORECASE):\n",
    "        return \"No se permiten bloqueos (FOR UPDATE/SHARE).\"\n",
    "\n",
    "    return None\n",
    "\n",
    "\n"
   ]
  },
  {
   "cell_type": "markdown",
   "id": "78906d11",
   "metadata": {},
   "source": [
    "TOOL de VALIDACION"
   ]
  },
  {
   "cell_type": "code",
   "execution_count": 16,
   "id": "bf303467",
   "metadata": {},
   "outputs": [],
   "source": [
    "# --- 2) Tool compacta: read-only + sintaxis con sqlglot ----------\n",
    "@tool(\"query_validator\")\n",
    "def query_validator(query: str, dialect: str = \"postgres\") -> Dict[str, Any]:\n",
    "    \"\"\"\n",
    "    Valida que la consulta sea solo lectura y que la sintaxis sea válida usando sqlglot.\n",
    "    NO se conecta a la base de datos.\n",
    "\n",
    "    Retorna: {\"ok\": bool, \"error\": str|None}\n",
    "    \"\"\"\n",
    "    # Extraigo la query CRUDA, sin ningun tipo de formato:\n",
    "    clean = extract_sql(query)\n",
    "\n",
    "    # Read-only (rápido, por regex)\n",
    "    basic_err = basic_readonly_checks(clean)\n",
    "    if basic_err:\n",
    "        return {\"ok\": False, \"error\": basic_err, \"sql\": clean}\n",
    "\n",
    "    # Sintaxis con sqlglot\n",
    "    try:\n",
    "        # parse_one garantiza una sola sentencia válida\n",
    "        sqlglot.parse_one(clean, read=dialect)\n",
    "        return {\"ok\": True, \"error\": None, \"sql\": clean}\n",
    "    except ParseError as e:\n",
    "        return {\"ok\": False, \"error\": f\"Sintaxis inválida ({dialect}): {e}\", \"sql\": clean}"
   ]
  },
  {
   "cell_type": "markdown",
   "id": "4e063d26",
   "metadata": {},
   "source": [
    "### 3. Esqueleto del GRAFO: Nodos y Flujo"
   ]
  },
  {
   "cell_type": "markdown",
   "id": "3aad3c16",
   "metadata": {},
   "source": [
    "#### 3.1 NODO START\n",
    "\n",
    "En el flujo completo, ocupa el lugar del **generador de contexto**"
   ]
  },
  {
   "cell_type": "markdown",
   "id": "983783a6",
   "metadata": {},
   "source": [
    "#### 3.2 NODO LLM: QUERY GENERATOR"
   ]
  },
  {
   "cell_type": "markdown",
   "id": "2b013368",
   "metadata": {},
   "source": [
    "MODELO"
   ]
  },
  {
   "cell_type": "code",
   "execution_count": 17,
   "id": "2f5f7721",
   "metadata": {},
   "outputs": [],
   "source": [
    "llm = AzureChatOpenAI(\n",
    "    azure_deployment=MODELO,\n",
    "    openai_api_version=API_VERSION,\n",
    "    temperature=0\n",
    ")"
   ]
  },
  {
   "cell_type": "markdown",
   "id": "c6d2578d",
   "metadata": {},
   "source": [
    "PROMPTS"
   ]
  },
  {
   "cell_type": "markdown",
   "id": "6b2f989e",
   "metadata": {},
   "source": [
    "En los chat LLMs las instrucciones se pasan como una secuencia de mensajes con roles. Separar el prompt en dos funciones no es capricho: responde a cómo el modelo prioriza y “entiende” lo que le envías.\n",
    "\n",
    "Por qué dos prompts (y qué va en cada uno)\n",
    "1) build_system_prompt(context_text: str)\n",
    "\n",
    "Rol: SystemMessage\n",
    "\n",
    "Para qué sirve: Define las reglas invariantes y el marco de trabajo que el modelo debe obedecer durante toda la conversación/iteración:\n",
    "- Dialecto y restricciones (PostgreSQL, solo lectura, nada de DDL/DML).\n",
    "- Convenciones de estilo (evitar SELECT *, alias, ORDER BY cuando aplique, etc.).\n",
    "- Contexto/Schema/Reglas de negocio: tablas, columnas, joins válidos, filtros obligatorios.\n",
    "- Formato de salida que quieres SIEMPRE (p. ej., “sin markdown, ni comentarios”).\n",
    "\n",
    "**Por qué aquí:**: El rol system tiene máxima prioridad. Instrucciones allí suelen ser más respetadas y permanecen constantes a través del bucle de reparación.\n",
    "\n",
    "2) build_user_prompt(user_query: str, last_error: Optional[str])\n",
    "\n",
    "Rol: HumanMessage (o “user”)\n",
    "\n",
    "Para qué sirve: \n",
    "- Aporta el contenido variable de la iteración:\n",
    "- La intención del usuario en lenguaje natural (“NL → SQL”).\n",
    "- El feedback del validador (last_error) para que el modelo repairs (bucle de reparación).\n",
    "- Criterios puntuales para esta salida (“ordena descendente”, “limita a 10”, etc.).\n",
    "\n",
    "**Por qué aquí:** Este contenido cambia en cada vuelta (cambia la consulta o el error). No quieres reescribir todo el system; solo actualizas lo que varía."
   ]
  },
  {
   "cell_type": "markdown",
   "id": "aff48487",
   "metadata": {},
   "source": [
    "**PROMPT LLM:**"
   ]
  },
  {
   "cell_type": "markdown",
   "id": "13ffca57",
   "metadata": {},
   "source": [
    "VERSION EXTENSA: Mas CONCISA pero mayor cantidad de TOKENS"
   ]
  },
  {
   "cell_type": "code",
   "execution_count": 18,
   "id": "0ef017fe",
   "metadata": {},
   "outputs": [],
   "source": [
    "def build_system_prompt(context_text: str, query_examples: str) -> str:\n",
    "    return f\"\"\"Eres un generador de SQL para PostgreSQL.\n",
    "\n",
    "OBJETIVO:\n",
    "- Devuelve exactamente UNA sentencia de lectura (SELECT o WITH), sin explicaciones.\n",
    "\n",
    "REGLAS ESTRICTAS:\n",
    "- Solo lectura: empieza por SELECT o WITH.\n",
    "- Prohibido DDL/DML/transacciones/bloqueos: INSERT, UPDATE, DELETE, CREATE, DROP, ALTER,\n",
    "  TRUNCATE, MERGE, COPY, CALL/EXECUTE, GRANT, REVOKE, SET, BEGIN/COMMIT/ROLLBACK, VACUUM/ANALYZE,\n",
    "  FOR UPDATE/SHARE, etc.\n",
    "- Una sola sentencia. No incluyas punto y coma final.\n",
    "- Sin comentarios, ni Markdown, ni texto adicional: SALIDA = SOLO la SQL.\n",
    "- Evita SELECT *; enumera columnas necesarias.\n",
    "- Incluye ORDER BY y/o LIMIT si la intención lo requiere.\n",
    "- Literales de fecha: DATE 'YYYY-MM-DD'. Usa CAST cuando sea razonable.\n",
    "- Usa nombres de tablas/columnas que existan en el contexto. Si no están, elige alternativas plausibles y consistentes.\n",
    "\n",
    "CONVENCIONES:\n",
    "- Aliases claros (p. ej., revenue, total_sales, orders_count).\n",
    "- Puedes usar CTEs (WITH ...) y GROUP BY 1 si es claro.\n",
    "- Ordena por el alias de la métrica cuando aplique.\n",
    "- Preferir COALESCE para nulos en agregaciones/joins.\n",
    "\n",
    "CONTEXTO (tablas, columnas, reglas de negocio):\n",
    "{context_text}\n",
    "\n",
    "Utiliza los siguientes ejemplos válidos como ayuda:\n",
    "[EXAMPLES]\n",
    "<examples>\n",
    "{query_examples}\n",
    "</examples>\n",
    "\"\"\""
   ]
  },
  {
   "cell_type": "markdown",
   "id": "5b25b390",
   "metadata": {},
   "source": [
    "VERSION COMPACTA: Ahorro de TOKENS"
   ]
  },
  {
   "cell_type": "code",
   "execution_count": null,
   "id": "5da4703c",
   "metadata": {},
   "outputs": [],
   "source": [
    "def build_system_prompt_compacta(context_text: str, query_examples:str) -> str:\n",
    "    return f\"\"\"Generas UNA consulta SQL (PostgreSQL) de solo lectura.\n",
    "Sin comentarios ni Markdown; salida = SOLO la SQL (sin ';' final).\n",
    "Prohibido DML/DDL/transacciones/bloqueos.\n",
    "Evita SELECT *; enumera columnas. Usa ORDER BY/LIMIT si procede.\n",
    "Contexto:\n",
    "{context_text}\n",
    "Utiliza los siguientes ejemplos válidos como ayuda:\n",
    "[EXAMPLES]\n",
    "<examples>\n",
    "{query_examples}\n",
    "</examples>\n",
    "\n",
    "\"\"\""
   ]
  },
  {
   "cell_type": "markdown",
   "id": "eeceacbd",
   "metadata": {},
   "source": [
    "**PROPMT USER:**"
   ]
  },
  {
   "cell_type": "markdown",
   "id": "515d69e7",
   "metadata": {},
   "source": [
    "VERSION EXTENSA"
   ]
  },
  {
   "cell_type": "code",
   "execution_count": 19,
   "id": "25777bba",
   "metadata": {},
   "outputs": [],
   "source": [
    "def build_user_prompt(user_query: str, last_error: Optional[str]) -> str:\n",
    "    repair = (\n",
    "        f\"\\n\\nMODO REPARACIÓN:\\n\"\n",
    "        f\"- La versión anterior NO es válida.\\n\"\n",
    "        f\"- Error del validador: {last_error}\\n\"\n",
    "        f\"- Corrige la consulta para que sea sintácticamente válida en PostgreSQL y estrictamente de solo lectura.\"\n",
    "        if last_error else \"\"\n",
    "    )\n",
    "\n",
    "    return f\"\"\"Genera UNA consulta SQL para PostgreSQL a partir de la intención del usuario.\n",
    "\n",
    "INTENCIÓN DEL USUARIO:\n",
    "{user_query}\n",
    "{repair}\n",
    "\n",
    "REQUISITOS ESTRICTOS:\n",
    "- SOLO una sentencia de lectura: empieza por SELECT o WITH.\n",
    "- Prohibido DML/DDL/transacciones/bloqueos: INSERT, UPDATE, DELETE, CREATE, DROP, ALTER, TRUNCATE, MERGE, COPY, CALL/EXECUTE, GRANT, REVOKE, SET, BEGIN/COMMIT/ROLLBACK, VACUUM/ANALYZE, FOR UPDATE/SHARE, etc.\n",
    "- No múltiples sentencias ni “;” intermedio. No incluyas punto y coma al final.\n",
    "- No incluyas explicaciones, comentarios, ni Markdown. SALIDA = SOLO la SQL.\n",
    "- Evita SELECT *; enumera columnas necesarias.\n",
    "- Si el usuario pide orden o límite, incluye ORDER BY / LIMIT.\n",
    "- Usa sintaxis válida de PostgreSQL (p. ej., literales de fecha: DATE 'YYYY-MM-DD').\n",
    "\n",
    "FORMATO DE SALIDA (obligatorio):\n",
    "- Devuelve únicamente la SQL en texto plano, comenzando exactamente por SELECT o WITH.\n",
    "\"\"\""
   ]
  },
  {
   "cell_type": "code",
   "execution_count": null,
   "id": "24f32af9",
   "metadata": {},
   "outputs": [],
   "source": [
    "def build_user_prompt_compacta(user_query: str, last_error: Optional[str]) -> str:\n",
    "    repair = f\"\\nError previo del validador: {last_error}\\nCorrige la consulta para que sea válida y solo lectura.\" if last_error else \"\"\n",
    "    return f\"\"\"Intención del usuario:\n",
    "{user_query}\n",
    "{repair}\n",
    "\n",
    "Salida:\n",
    "- UNA sola sentencia SELECT/WITH válida para PostgreSQL.\n",
    "- Sin ';' final, sin explicaciones/Markdown, sin comentarios.\n",
    "- Evita SELECT *; usa columnas. Añade ORDER BY/LIMIT si aplica.\n",
    "\"\"\""
   ]
  },
  {
   "cell_type": "markdown",
   "id": "889aafea",
   "metadata": {},
   "source": [
    "VERSION INTERMEDIA"
   ]
  },
  {
   "cell_type": "code",
   "execution_count": null,
   "id": "00e05c83",
   "metadata": {},
   "outputs": [],
   "source": [
    "def build_user_prompt_intermedia(user_query: str, last_error: Optional[str]) -> str:\n",
    "    repair = (\n",
    "        f\"\\n\\nMODO REPARACIÓN:\\n\"\n",
    "        f\"- La versión anterior NO validó.\\n\"\n",
    "        f\"- Error del validador: {last_error}\\n\"\n",
    "        f\"- Corrige la consulta para que sea sintácticamente válida en PostgreSQL y estrictamente de solo lectura.\"\n",
    "        if last_error else \"\"\n",
    "    )\n",
    "\n",
    "    return f\"\"\"Genera UNA consulta SQL para PostgreSQL a partir de la intención del usuario.\n",
    "\n",
    "INTENCIÓN DEL USUARIO:\n",
    "{user_query}\n",
    "{repair}\n",
    "\n",
    "REQUISITOS DE SALIDA:\n",
    "- Devuelve únicamente la SQL en texto plano, comenzando exactamente por SELECT o WITH.\n",
    "- Debe ser UNA sola sentencia (sin ';' final), de solo lectura y válida para PostgreSQL.\n",
    "- Evita SELECT *; enumera columnas. Añade ORDER BY / LIMIT si la intención lo pide.\n",
    "\"\"\""
   ]
  },
  {
   "cell_type": "markdown",
   "id": "1fba1790",
   "metadata": {},
   "source": [
    "**NODO GENERADOR:**"
   ]
  },
  {
   "cell_type": "code",
   "execution_count": 64,
   "id": "572b26f5",
   "metadata": {},
   "outputs": [],
   "source": [
    "def node_generate_sql(state: dict, llm) -> Dict:\n",
    "    # Feedback del último error (si lo hubo) \n",
    "    last_error = None\n",
    "    if state.get(\"validation\") and not state[\"validation\"].get(\"ok\", True):\n",
    "        last_error = state[\"validation\"].get(\"error\")\n",
    "\n",
    "    system = SystemMessage(content=build_system_prompt(state.get(\"context_text\", \"\"),\n",
    "                                                       state.get(\"query_examples\", \"\")))\n",
    "    user = HumanMessage(content=build_user_prompt(state.get(\"user_query\", \"\"), last_error))\n",
    "\n",
    "    # Historial previo + turno actual\n",
    "    msgs_in = (state.get(\"messages\") or []) + [system, user]\n",
    "\n",
    "    # Generar SQL candidata \n",
    "    resp = llm.invoke(msgs_in)  # AIMessage\n",
    "    sql_candidate = extract_sql(getattr(resp, \"content\", \"\") or \"\")\n",
    "\n",
    "    # Validacion de sintaxis y read_only\n",
    "    dialect = state.get(\"dialect\", \"postgres\")\n",
    "    result = query_validator.invoke({\"query\": sql_candidate, \"dialect\": dialect})\n",
    "    ok = bool(result.get(\"ok\"))\n",
    "    err = result.get(\"error\")\n",
    "\n",
    "    # Actualizar contadores/state \n",
    "    attempt_increment = 1\n",
    "    notes = [f\"LLM generó SQL (chars={len(sql_candidate)}).\",\n",
    "             \"Validación OK\" if ok else f\"Validación falló: {err}\"]\n",
    "    \n",
    "    clean_sql = result.get(\"sql\", sql_candidate)\n",
    "\n",
    "    out: Dict = {\n",
    "        \"messages\": [system, user, resp],   # Guardamos los mensajes de esta iteración (traza)\n",
    "        \"sql_candidate\": sql_candidate or state.get(\"sql_candidate\", \"\"), # Última SQL propuesta por el LLM\n",
    "        \"validation\": {\"ok\": ok, \"error\": err}, # Resultado de validación (para el router y para feedback al LLM)\n",
    "        \"attempt\": attempt_increment, # Contador de intentos para el router\n",
    "        \"notes\": notes\n",
    "    }\n",
    "\n",
    "    # Si pasó la validación, fijamos la final\n",
    "    if ok:\n",
    "        out[\"final_sql\"] = clean_sql\n",
    "    return out"
   ]
  },
  {
   "cell_type": "markdown",
   "id": "18fa8310",
   "metadata": {},
   "source": [
    "### 4 "
   ]
  },
  {
   "cell_type": "code",
   "execution_count": 57,
   "id": "b8a1d1c4",
   "metadata": {},
   "outputs": [],
   "source": [
    "def node_finalize_success(state: State) -> Dict:\n",
    "    return {\"final_sql\": state.get(\"final_sql\", \"\"), \"notes\": [\"Finalizado con éxito\"]}\n",
    "\n",
    "def node_finalize_failure(state: State) -> Dict:\n",
    "    err = (state.get(\"validation\") or {}).get(\"error\", \"No se pudo obtener SQL válida.\")\n",
    "    return {\"final_sql\": None, \"notes\": [f\"Finalizado con error: {err}\"]}\n",
    "\"\"\"\n",
    "def router(state: State) -> str:\n",
    "    validation = state.get(\"validation\") or {}\n",
    "    ok = validation.get(\"ok\", False)\n",
    "    attempt = state.get(\"attempt\", 0)\n",
    "    max_attempts = state.get(\"max_attempts\", 3)\n",
    "    if ok:\n",
    "        return \"success\"\n",
    "    if attempt < max_attempts:\n",
    "        return \"retry\"\n",
    "    return \"fail\"\n",
    "\"\"\"\n",
    "def router(state: QueryGeneratorState) -> str:\n",
    "    ok = bool((state.get(\"validation\") or {}).get(\"ok\"))\n",
    "    attempts = state.get(\"attempt\", 0)\n",
    "    max_attempts = state.get(\"max_attempts\", 1)\n",
    "    print(f\"[router] ok={ok} attempts={attempts}/{max_attempts}\")\n",
    "    if ok:\n",
    "        return \"success\"\n",
    "    if attempts >= max_attempts:\n",
    "        return \"fail\"\n",
    "    return \"retry\""
   ]
  },
  {
   "cell_type": "markdown",
   "id": "7bdbf565",
   "metadata": {},
   "source": [
    "### 5. Contrucción del GRAFO"
   ]
  },
  {
   "cell_type": "markdown",
   "id": "5ee70e36",
   "metadata": {},
   "source": [
    "### GRAFO con la tool de ejemplos:"
   ]
  },
  {
   "cell_type": "code",
   "execution_count": 73,
   "id": "a7a6f59e",
   "metadata": {},
   "outputs": [],
   "source": [
    "def build_subgraph_query_generator(llm):\n",
    "    graph = StateGraph(QueryGeneratorState)\n",
    "\n",
    "    graph.add_node(\"query_examples_retriever\", node_retrieve_query_examples)\n",
    "    graph.add_node(\"query_generator\", lambda s: node_generate_sql(s, llm))\n",
    "    graph.add_node(\"finalize_success\", node_finalize_success)   # Este nodo seria el validador de QUERY (Jesus)\n",
    "    graph.add_node(\"finalize_failure\", node_finalize_failure)   # Este nodo seria END comunicando que no se pudo generar una consulta valida\n",
    "\n",
    "    graph.add_edge(START, \"query_examples_retriever\")\n",
    "    graph.add_edge(\"query_examples_retriever\", \"query_generator\")\n",
    "\n",
    "    graph.add_conditional_edges(\n",
    "        \"query_generator\",\n",
    "        router,\n",
    "        {\n",
    "            \"retry\": \"query_generator\",          # vuelve a generarse (auto-realimentación)\n",
    "            \"success\": \"finalize_success\",       # fija final_sql\n",
    "            \"fail\": \"finalize_failure\",          # termina con error\n",
    "        },\n",
    "    )\n",
    "\n",
    "    # Salidas a END\n",
    "    graph.add_edge(\"finalize_success\", END)\n",
    "    graph.add_edge(\"finalize_failure\", END)\n",
    "\n",
    "    return graph.compile()"
   ]
  },
  {
   "cell_type": "code",
   "execution_count": 74,
   "id": "5c92febd",
   "metadata": {},
   "outputs": [
    {
     "data": {
      "image/png": "[encoded data removed]",
      "text/plain": [
       "<langgraph.graph.state.CompiledStateGraph object at 0x13b947150>"
      ]
     },
     "execution_count": 74,
     "metadata": {},
     "output_type": "execute_result"
    }
   ],
   "source": [
    "app = build_subgraph_query_generator(llm)\n",
    "app"
   ]
  },
  {
   "cell_type": "markdown",
   "id": "cd1195e7",
   "metadata": {},
   "source": [
    "## EJEMPLOS"
   ]
  },
  {
   "cell_type": "markdown",
   "id": "9d4836b5",
   "metadata": {},
   "source": [
    "### CReo el grafo PADRE:"
   ]
  },
  {
   "cell_type": "code",
   "execution_count": 67,
   "id": "6f5289a7",
   "metadata": {},
   "outputs": [
    {
     "name": "stdout",
     "output_type": "stream",
     "text": [
      "---QUERY EXAMPLES RETRIEVE TOOL---\n",
      "[router] ok=True attempts=1/1\n",
      "FINAL SQL (padre): WITH \n",
      "last_quarter AS (\n",
      "  SELECT\n",
      "    fs.product_key,\n",
      "    COALESCE(dp.spanish_product_name, dp.english_product_name) AS product_name,\n",
      "    dp.spanish_product_category_name AS category,\n",
      "    dp.spanish_product_subcategory_name AS subcategory,\n",
      "    EXTRACT(MONTH FROM fs.order_date) AS month_in_quarter,\n",
      "    fs.order_quantity\n",
      "  FROM\n",
      "    sales.fact_sales fs\n",
      "    JOIN sales.dim_product dp ON fs.product_key = dp.product_key\n",
      "  WHERE\n",
      "    fs.sale_source = 'reseller_sales'\n",
      "    AND dp.spanish_product_category_name <> 'Accesorio'\n",
      "    AND fs.order_date >= date_trunc('quarter', CURRENT_DATE - interval '3 months')\n",
      "    AND fs.order_date < date_trunc('quarter', CURRENT_DATE)\n",
      "),\n",
      "top_products AS (\n",
      "  SELECT\n",
      "    product_key,\n",
      "    product_name,\n",
      "    category,\n",
      "    subcategory,\n",
      "    SUM(order_quantity) AS total_qty\n",
      "  FROM\n",
      "    last_quarter\n",
      "  GROUP BY\n",
      "    product_key, product_name, category, subcategory\n",
      "  ORDER BY\n",
      "    total_qty DESC\n",
      "  LIMIT 10\n",
      ")\n",
      "\n",
      "SELECT\n",
      "  tp.product_name AS producto,\n",
      "  tp.category AS categoria,\n",
      "  tp.subcategory AS subcategoria,\n",
      "  SUM(lq.order_quantity) FILTER (WHERE lq.month_in_quarter = EXTRACT(MONTH FROM date_trunc('quarter', CURRENT_DATE - interval '3 months'))) AS primer_mes,\n",
      "  SUM(lq.order_quantity) FILTER (WHERE lq.month_in_quarter = EXTRACT(MONTH FROM date_trunc('quarter', CURRENT_DATE - interval '3 months') + interval '1 month')) AS segundo_mes,\n",
      "  SUM(lq.order_quantity) FILTER (WHERE lq.month_in_quarter = EXTRACT(MONTH FROM date_trunc('quarter', CURRENT_DATE - interval '3 months') + interval '2 month')) AS tercer_mes,\n",
      "  SUM(lq.order_quantity) AS total\n",
      "FROM\n",
      "  top_products tp\n",
      "  LEFT JOIN last_quarter lq ON tp.product_key = lq.product_key\n",
      "GROUP BY\n",
      "  producto, categoria, subcategoria\n",
      "ORDER BY\n",
      "  total DESC\n"
     ]
    }
   ],
   "source": [
    "# Estado global del grafo padre\n",
    "class GlobalState(TypedDict, total=False):\n",
    "    context_text: str\n",
    "    user_query: str\n",
    "    dialect: NotRequired[str]\n",
    "    language: NotRequired[str]\n",
    "    final_sql: NotRequired[str]\n",
    "\n",
    "# Construcción del grafo padre con el subgrafo como nodo\n",
    "from langgraph.graph import StateGraph, START, END\n",
    "\n",
    "def build_parent_graph(subgraph):\n",
    "    g = StateGraph(State)\n",
    "    g.add_node(\"nl2sql\", subgraph)      # ← subgrafo compilado como nodo\n",
    "    g.add_edge(START, \"nl2sql\")\n",
    "    g.add_edge(\"nl2sql\", END)\n",
    "    return g.compile()\n",
    "\n",
    "# Usar el subgrafo ya compilado (del paso 1)\n",
    "parent_app = build_parent_graph(app)\n",
    "\n",
    "global_initial: State = {\n",
    "    \"context_text\": \"Tablas:\\n  customers(id, name, country)\\n\",\n",
    "    \"user_query\": \"Muéstrame los 10 productos más vendidos para el B2B en el último trimestre, excluyendo los Accesorios. Mes a mes indica cuántas unidades se vendieron, y muestra también a qué categoría y subcategoría pertenecen\",\n",
    "    \"language\": \"es\"\n",
    "}\n",
    "\n",
    "global_final = parent_app.invoke(global_initial, config={\"recursion_limit\": 50})\n",
    "print(\"FINAL SQL (padre):\", global_final.get(\"final_sql\"))\n"
   ]
  }
 ],
 "metadata": {
  "kernelspec": {
   "display_name": "ucm-tfm-grupo-4 (3.11.9)",
   "language": "python",
   "name": "python3"
  },
  "language_info": {
   "codemirror_mode": {
    "name": "ipython",
    "version": 3
   },
   "file_extension": ".py",
   "mimetype": "text/x-python",
   "name": "python",
   "nbconvert_exporter": "python",
   "pygments_lexer": "ipython3",
   "version": "3.11.9"
  }
 },
 "nbformat": 4,
 "nbformat_minor": 5
}
