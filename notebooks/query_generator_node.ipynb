{
 "cells": [
  {
   "cell_type": "markdown",
   "id": "ea0bb95f",
   "metadata": {},
   "source": [
    "## NODO QUERY GENERATOR con LANGGRAPH"
   ]
  },
  {
   "cell_type": "markdown",
   "id": "d0f15e92",
   "metadata": {},
   "source": [
    "---------"
   ]
  },
  {
   "cell_type": "markdown",
   "id": "735d51ce",
   "metadata": {},
   "source": [
    "### TODO:\n",
    "1. la salida de mi subgrafo debe decir si OK o si no, pensarlo "
   ]
  },
  {
   "cell_type": "markdown",
   "id": "3333b4d2",
   "metadata": {},
   "source": [
    "----------"
   ]
  },
  {
   "cell_type": "markdown",
   "id": "e9a10d6e",
   "metadata": {},
   "source": [
    "El objetivo es crear un flujo con Langgraph:\n",
    "- START : simulando ser el Nodo **Generador de Contexto**\n",
    "- NODO : contiene el LLM generador de consultas SQL\n",
    "    - Tool del NODO : encargado de verificar sintaxis y que sea una query read only\n",
    "- END : Devuelvo la query generada de manera correcta ó comunico que no se ha podido (si itero mas de N veces en la tool)"
   ]
  },
  {
   "cell_type": "markdown",
   "id": "978d79ed",
   "metadata": {},
   "source": [
    "### LIBRERIAS"
   ]
  },
  {
   "cell_type": "code",
   "execution_count": 1,
   "id": "30470976",
   "metadata": {},
   "outputs": [],
   "source": [
    "from langgraph.graph import StateGraph, START, END\n",
    "from langgraph.graph.message import add_messages\n",
    "from langchain_core.messages import SystemMessage, HumanMessage\n",
    "from langchain_core.tools import tool\n",
    "from langchain_openai import AzureChatOpenAI\n",
    "\n",
    "import os\n",
    "import re\n",
    "from dotenv import load_dotenv \n",
    "from typing import Annotated, Optional, List, Dict, Any, NotRequired\n",
    "from typing_extensions import TypedDict\n",
    "\n",
    "import sqlglot\n",
    "from sqlglot.errors import ParseError"
   ]
  },
  {
   "cell_type": "markdown",
   "id": "0a4579a4",
   "metadata": {},
   "source": [
    "### SETTINGS"
   ]
  },
  {
   "cell_type": "code",
   "execution_count": 2,
   "id": "a89b7e14",
   "metadata": {},
   "outputs": [],
   "source": [
    "load_dotenv()       #Cargo las variables del archivo .env\n",
    "\n",
    "API_KEY = os.getenv(\"AZURE_OPENAI_API_KEY\")\n",
    "ENDPOINT = os.getenv(\"AZURE_OPENAI_ENDPOINT\")\n",
    "API_VERSION = os.getenv(\"OPENAI_API_VERSION\")\n",
    "MODELO = \"gpt-4o\""
   ]
  },
  {
   "cell_type": "markdown",
   "id": "8b01a0ee",
   "metadata": {},
   "source": [
    "### 1. Creación del **StateGraph**\n"
   ]
  },
  {
   "cell_type": "markdown",
   "id": "4c4bc9dd",
   "metadata": {},
   "source": [
    "Hay 2 STATEs:\n",
    "- State Global: `State` que es el del grafo principal\n",
    "- State Local: `QueryGeneratorState` que es el que utiliza mi subgrafo, y que no ensucia al global\n",
    "\n"
   ]
  },
  {
   "cell_type": "markdown",
   "id": "9e075d3a",
   "metadata": {},
   "source": [
    "### STATE Local : QueryGeneratorState\n",
    "El state es el contenedor de memoria compartido que fluye entre los nodos.\n",
    "\n",
    "Cada nodo recibe el state, lee lo que necesita, devuelve un delta (solo las claves que quiere actualizar) y LangGraph fusiona ese delta con el state existente usando las “reglas de actualización” que tú definas (por clave). Esto te da un flujo determinista y transparente."
   ]
  },
  {
   "cell_type": "code",
   "execution_count": 3,
   "id": "5f1e99f5",
   "metadata": {},
   "outputs": [],
   "source": [
    "# Reducer \"sum\" para contadores: si un nodo devuelve attempt=1,\n",
    "# se sumará al valor actual (en vez de sobrescribir)\n",
    "def sum_int(old: int, new: int) -> int:\n",
    "    return (old or 0) + (new or 0)\n",
    "\n",
    "# Reducer \"append list\" simple para notas (listas de str)\n",
    "def append_list(old: Optional[List[str]], new: Optional[List[str]]) -> List[str]:\n",
    "    return (old or []) + (new or [])\n",
    "\n",
    "class QueryGeneratorState(TypedDict):\n",
    "\n",
    "    #Historial conversacional completo:\n",
    "    messages: Annotated[list, add_messages]\n",
    "    \n",
    "    # Entradas Principales\n",
    "    context: NotRequired[str] #Contetxo simulado del agente simulador de contexto\n",
    "    user_query: NotRequired[str] # query del usuario en lenguaje natural\n",
    "\n",
    "    query_examples: Optional[str] #Los ejemplos, si es que hay, que obtengo de Chroma\n",
    "    \n",
    "    # Proceso NL2SQL\n",
    "    sql_candidate: NotRequired[str]              # último SQL generado\n",
    "    valid_query: bool\n",
    "    error_msg: str\n",
    "\n",
    "\n",
    "    # Control de bucle\n",
    "    attempt: Annotated[int, sum_int] # contador de intentos (se suma)\n",
    "    max_attempts: int                # límite de intentos\n",
    "\n",
    "    # Notas: una especie de log donde se anotan los eventos claves del flujo.\n",
    "    notes: Annotated[List[str], append_list]\n",
    "    \n",
    "    dialect: Optional[str] #'postgres'\n",
    "    language: NotRequired[str]\n",
    "\n",
    "    # Salida\n",
    "    sql_query: Optional[str]         # SQL validada\n",
    "\n",
    "class QueryGeneratorOutputState(TypedDict):\n",
    "    sql_query: str\n",
    "    valid_query: bool"
   ]
  },
  {
   "cell_type": "markdown",
   "id": "3321cdf5",
   "metadata": {},
   "source": [
    "### STATE Global : State"
   ]
  },
  {
   "cell_type": "code",
   "execution_count": 4,
   "id": "3392e3f2",
   "metadata": {},
   "outputs": [],
   "source": [
    "class State (TypedDict):\n",
    "    \n",
    "    context: str       # Contexto que aporta el subgrafo de Gaston\n",
    "    user_query: str         # La consulta del usuario en Lenguaje Natural\n",
    "\n",
    "    dialect: Optional[str]  # 'postgres'\n",
    "    language: Optional[str]\n",
    "    sql_query: Optional[str] # SQL final validada"
   ]
  },
  {
   "cell_type": "markdown",
   "id": "d3f53d57",
   "metadata": {},
   "source": [
    "### Inicialización del estado: Ejemplo"
   ]
  },
  {
   "cell_type": "code",
   "execution_count": 5,
   "id": "2740f0a1",
   "metadata": {},
   "outputs": [],
   "source": [
    "initial_state: QueryGeneratorState = {\n",
    "    \"messages\": [],\n",
    "    \"context\": \"TABLAS: sales(order_id, product_id, amount, created_at)... REGLAS: filtrar por created_at >= '2024-01-01' ...\",\n",
    "    \"user_query\": \"Quiero el total vendido por producto en 2024, ordenado descendente\",\n",
    "    \"attempt\": 0,\n",
    "    \"max_attempts\": 3,\n",
    "    \"notes\": [\"Init\"]\n",
    "}"
   ]
  },
  {
   "cell_type": "markdown",
   "id": "b2e90957",
   "metadata": {},
   "source": [
    "_______________"
   ]
  },
  {
   "cell_type": "markdown",
   "id": "e1049ee3",
   "metadata": {},
   "source": [
    "_____________________"
   ]
  },
  {
   "cell_type": "markdown",
   "id": "0195fa86",
   "metadata": {},
   "source": [
    "**Bloque nuevo : Agrego la tool de retrieval de ejemplos y su nodo:**"
   ]
  },
  {
   "cell_type": "markdown",
   "id": "cb4a146f",
   "metadata": {},
   "source": [
    "**Imports de Gaston**"
   ]
  },
  {
   "cell_type": "code",
   "execution_count": 3,
   "id": "a88ca625",
   "metadata": {},
   "outputs": [
    {
     "data": {
      "text/plain": [
       "True"
      ]
     },
     "execution_count": 3,
     "metadata": {},
     "output_type": "execute_result"
    }
   ],
   "source": [
    "import sys\n",
    "from pathlib import Path\n",
    "\n",
    "# Añadimos el directorio raíz del proyecto al path\n",
    "project_root = Path().resolve().parent\n",
    "if str(project_root) not in sys.path:\n",
    "    sys.path.append(str(project_root))\n",
    "\n",
    "from src.back.embeddings import GenAIExtendedEmbeddingFunction\n",
    "from src.back.chroma_collections import (\n",
    "    ContextEnricherChromaCollection,\n",
    "    MdlHierarchicalChromaCollections,\n",
    "    ExamplesChromaCollection\n",
    ")\n",
    "\n",
    "from pydantic import BaseModel, Field\n",
    "\n",
    "# Aplicamos operaciones sobre librerías estándar\n",
    "load_dotenv('../.env')"
   ]
  },
  {
   "cell_type": "markdown",
   "id": "0ee8d7e2",
   "metadata": {},
   "source": [
    "**Constantes globales**"
   ]
  },
  {
   "cell_type": "code",
   "execution_count": 4,
   "id": "5c8bba98",
   "metadata": {},
   "outputs": [],
   "source": [
    "GENAI_EMBEDDING_MODEL = 'gemini-embedding-001'\n",
    "\n",
    "MAX_SUBQUERIES_SPLIT = 5"
   ]
  },
  {
   "cell_type": "markdown",
   "id": "a6e93f1a",
   "metadata": {},
   "source": [
    "### SET UP de la TOOL"
   ]
  },
  {
   "cell_type": "markdown",
   "id": "5c8b9ff0",
   "metadata": {},
   "source": [
    "a. Model de Embeddings y coleccion de Chroma que contiene los ejemplos: **query_examples** "
   ]
  },
  {
   "cell_type": "code",
   "execution_count": 8,
   "id": "648b1d19",
   "metadata": {},
   "outputs": [
    {
     "name": "stdout",
     "output_type": "stream",
     "text": [
      "VertexAI: True\n",
      "Project: gen-lang-client-0151767776\n",
      "Location: europe-west1\n",
      "Auth Tokens: <google.genai.tokens.Tokens object at 0x11c319f10>\n"
     ]
    }
   ],
   "source": [
    "genai_embeddings = GenAIExtendedEmbeddingFunction(model= GENAI_EMBEDDING_MODEL)\n",
    "print(f'VertexAI: {genai_embeddings.genai_client._api_client.vertexai}')\n",
    "print(f'Project: {genai_embeddings.genai_client._api_client.project}')\n",
    "print(f'Location: {genai_embeddings.genai_client._api_client.location}')\n",
    "print(f'Auth Tokens: {genai_embeddings.genai_client.auth_tokens}')\n",
    "\n",
    "\n",
    "query_examples_collection = ExamplesChromaCollection(\n",
    "    collection_name= 'query_examples',\n",
    "    embedding_function= genai_embeddings,\n",
    "    host= os.getenv('CHROMA_SERVER_HOST', 'localhost'),\n",
    "    port= os.getenv('CHROMA_LOCAL_PORT', '8000')\n",
    ")"
   ]
  },
  {
   "cell_type": "markdown",
   "id": "65c7c1d5",
   "metadata": {},
   "source": [
    "b. Definicion del esquema de entrada:"
   ]
  },
  {
   "cell_type": "code",
   "execution_count": 9,
   "id": "707b722e",
   "metadata": {},
   "outputs": [],
   "source": [
    "class RetrieverInput(BaseModel):\n",
    "    \"\"\"\n",
    "    Input schema for retriever tools. Accepts one or more queries for retrieval.\n",
    "    \"\"\"\n",
    "    query: List[str] = Field(\n",
    "        description= (\n",
    "            \"A list of one or more search queries to retrieve relevant information. \"\n",
    "            f\"Break down the user's question into up to {MAX_SUBQUERIES_SPLIT} simple, focused sub-queries to maximize retrieval accuracy. \"\n",
    "            \"Each sub-query should represent a key concept from the original question.\"\n",
    "        )\n",
    "    )\n",
    "\n",
    "    language: Optional[str]"
   ]
  },
  {
   "cell_type": "markdown",
   "id": "6b2282a3",
   "metadata": {},
   "source": [
    "c. Definicion de la TOOL:"
   ]
  },
  {
   "cell_type": "code",
   "execution_count": 10,
   "id": "ad6b5c37",
   "metadata": {},
   "outputs": [],
   "source": [
    "@tool(\"query_examples_retriever\", args_schema=RetrieverInput)\n",
    "def get_query_examples(query: List[str], language:str) -> str:\n",
    "    \"\"\"\n",
    "    ¡¡¡¡MODIFICAR!!!\n",
    "    Retrieve detailed business logic, including KPI calculations, domain-specific rules, and definitions of business concepts.\n",
    "    This is the primary source for understanding the semantic meaning and 'why' behind the data. \n",
    "    Provide multiple queries to cover all relevant business aspects.\n",
    "    \"\"\"\n",
    "\n",
    "    def _iter_docs(search_results):\n",
    "        \"\"\"\n",
    "        Funcion para leer correctamente lo obtenido en search_results\n",
    "        \"\"\"\n",
    "        if not search_results:\n",
    "            return []\n",
    "        seq = search_results[0] if isinstance(search_results[0], list) else search_results\n",
    "        for item in seq:\n",
    "            doc = item[0] if isinstance(item, (tuple, list)) else item\n",
    "            yield doc\n",
    "\n",
    "    filter = None\n",
    "    if language:\n",
    "        filter = {'language': language}\n",
    "\n",
    "    search_results = query_examples_collection.search(\n",
    "        queries = query,\n",
    "        search_type = 'similarity_score_threshold',\n",
    "        k = 2,\n",
    "        filter = filter     # Agrego filtro por idioma a la busqueda de Chroma\n",
    "    )\n",
    "\n",
    "    if not search_results:\n",
    "        return 'No semantically relevant results were found for the specified queries.'\n",
    "\t\t\n",
    "    ### Si hay resultados, pintarlos bonitos para poder pasarselos al LLM:\n",
    "    pretty = []\n",
    "    n = 1\n",
    "    for doc in _iter_docs(search_results):\n",
    "        pretty.append(\n",
    "            f\"--- Ejemplo #{n}: ---\\n\"\n",
    "            f\"- NL: {getattr(doc, 'page_content', '')}\\n\"\n",
    "            f\"- SQL: {getattr(doc, 'metadata', {}).get('sql_query')}\\n\"\n",
    "        )\n",
    "        n += 1\n",
    "    return \"\\n\".join(pretty).strip()"
   ]
  },
  {
   "cell_type": "code",
   "execution_count": 8,
   "id": "44b61ae8",
   "metadata": {},
   "outputs": [
    {
     "name": "stdout",
     "output_type": "stream",
     "text": [
      "VertexAI: True\n",
      "Project: gen-lang-client-0151767776\n",
      "Location: europe-west1\n",
      "Auth Tokens: <google.genai.tokens.Tokens object at 0x117f2a090>\n"
     ]
    },
    {
     "ename": "ValidationError",
     "evalue": "1 validation error for Document\npage_content\n  Input should be a valid string [type=string_type, input_value=None, input_type=NoneType]\n    For further information visit https://errors.pydantic.dev/2.11/v/string_type",
     "output_type": "error",
     "traceback": [
      "\u001b[31m---------------------------------------------------------------------------\u001b[39m",
      "\u001b[31mValidationError\u001b[39m                           Traceback (most recent call last)",
      "\u001b[36mCell\u001b[39m\u001b[36m \u001b[39m\u001b[32mIn[8]\u001b[39m\u001b[32m, line 18\u001b[39m\n\u001b[32m     14\u001b[39m \u001b[38;5;28mfilter\u001b[39m = \u001b[38;5;28;01mNone\u001b[39;00m\n\u001b[32m     15\u001b[39m     \u001b[38;5;66;03m#if language:\u001b[39;00m\n\u001b[32m     16\u001b[39m     \u001b[38;5;66;03m#    filter = {'language': language}\u001b[39;00m\n\u001b[32m---> \u001b[39m\u001b[32m18\u001b[39m search_results = \u001b[43mquery_examples_collection\u001b[49m\u001b[43m.\u001b[49m\u001b[43msearch\u001b[49m\u001b[43m(\u001b[49m\n\u001b[32m     19\u001b[39m \u001b[43m    \u001b[49m\u001b[43mqueries\u001b[49m\u001b[43m \u001b[49m\u001b[43m=\u001b[49m\u001b[43m \u001b[49m\u001b[43m[\u001b[49m\u001b[33;43m'\u001b[39;49m\u001b[33;43mAlguito\u001b[39;49m\u001b[33;43m'\u001b[39;49m\u001b[43m]\u001b[49m\u001b[43m,\u001b[49m\n\u001b[32m     20\u001b[39m \u001b[43m    \u001b[49m\u001b[43msearch_type\u001b[49m\u001b[43m \u001b[49m\u001b[43m=\u001b[49m\u001b[43m \u001b[49m\u001b[33;43m'\u001b[39;49m\u001b[33;43msimilarity_score_threshold\u001b[39;49m\u001b[33;43m'\u001b[39;49m\u001b[43m,\u001b[49m\n\u001b[32m     21\u001b[39m \u001b[43m    \u001b[49m\u001b[43mk\u001b[49m\u001b[43m \u001b[49m\u001b[43m=\u001b[49m\u001b[43m \u001b[49m\u001b[32;43m2\u001b[39;49m\u001b[43m,\u001b[49m\n\u001b[32m     22\u001b[39m \u001b[43m    \u001b[49m\u001b[38;5;66;43;03m#filter = filter     # Agrego filtro por idioma a la busqueda de Chroma\u001b[39;49;00m\n\u001b[32m     23\u001b[39m \u001b[43m)\u001b[49m\n",
      "\u001b[36mFile \u001b[39m\u001b[32m~/Documents/Master Big Data-IA-ML/TFM/ucm-tfm-grupo-4/src/back/chroma_collections/base.py:334\u001b[39m, in \u001b[36mExtendedChromaCollection.search\u001b[39m\u001b[34m(self, queries, search_type, merge_results, **kwargs)\u001b[39m\n\u001b[32m    328\u001b[39m     results = [\n\u001b[32m    329\u001b[39m         \u001b[38;5;28mself\u001b[39m._chroma_vectorstore.similarity_search(query, **kwargs)\n\u001b[32m    330\u001b[39m         \u001b[38;5;28;01mfor\u001b[39;00m query \u001b[38;5;129;01min\u001b[39;00m _queries\n\u001b[32m    331\u001b[39m     ]\n\u001b[32m    333\u001b[39m \u001b[38;5;28;01melif\u001b[39;00m search_type == \u001b[33m\"\u001b[39m\u001b[33msimilarity_score_threshold\u001b[39m\u001b[33m\"\u001b[39m:\n\u001b[32m--> \u001b[39m\u001b[32m334\u001b[39m     results = \u001b[43m[\u001b[49m\n\u001b[32m    335\u001b[39m \u001b[43m        \u001b[49m\u001b[38;5;28;43mself\u001b[39;49m\u001b[43m.\u001b[49m\u001b[43m_chroma_vectorstore\u001b[49m\u001b[43m.\u001b[49m\u001b[43msimilarity_search_with_relevance_scores\u001b[49m\u001b[43m(\u001b[49m\u001b[43mquery\u001b[49m\u001b[43m,\u001b[49m\u001b[43m \u001b[49m\u001b[43m*\u001b[49m\u001b[43m*\u001b[49m\u001b[43mkwargs\u001b[49m\u001b[43m)\u001b[49m\n\u001b[32m    336\u001b[39m \u001b[43m        \u001b[49m\u001b[38;5;28;43;01mfor\u001b[39;49;00m\u001b[43m \u001b[49m\u001b[43mquery\u001b[49m\u001b[43m \u001b[49m\u001b[38;5;129;43;01min\u001b[39;49;00m\u001b[43m \u001b[49m\u001b[43m_queries\u001b[49m\n\u001b[32m    337\u001b[39m \u001b[43m    \u001b[49m\u001b[43m]\u001b[49m\n\u001b[32m    339\u001b[39m \u001b[38;5;28;01melif\u001b[39;00m search_type == \u001b[33m\"\u001b[39m\u001b[33mmmr\u001b[39m\u001b[33m\"\u001b[39m:\n\u001b[32m    340\u001b[39m     results = [\n\u001b[32m    341\u001b[39m         \u001b[38;5;28mself\u001b[39m._chroma_vectorstore.max_marginal_relevance_search(query, **kwargs)\n\u001b[32m    342\u001b[39m         \u001b[38;5;28;01mfor\u001b[39;00m query \u001b[38;5;129;01min\u001b[39;00m _queries\n\u001b[32m    343\u001b[39m     ]\n",
      "\u001b[36mFile \u001b[39m\u001b[32m~/Documents/Master Big Data-IA-ML/TFM/ucm-tfm-grupo-4/src/back/chroma_collections/base.py:335\u001b[39m, in \u001b[36m<listcomp>\u001b[39m\u001b[34m(.0)\u001b[39m\n\u001b[32m    328\u001b[39m     results = [\n\u001b[32m    329\u001b[39m         \u001b[38;5;28mself\u001b[39m._chroma_vectorstore.similarity_search(query, **kwargs)\n\u001b[32m    330\u001b[39m         \u001b[38;5;28;01mfor\u001b[39;00m query \u001b[38;5;129;01min\u001b[39;00m _queries\n\u001b[32m    331\u001b[39m     ]\n\u001b[32m    333\u001b[39m \u001b[38;5;28;01melif\u001b[39;00m search_type == \u001b[33m\"\u001b[39m\u001b[33msimilarity_score_threshold\u001b[39m\u001b[33m\"\u001b[39m:\n\u001b[32m    334\u001b[39m     results = [\n\u001b[32m--> \u001b[39m\u001b[32m335\u001b[39m         \u001b[38;5;28;43mself\u001b[39;49m\u001b[43m.\u001b[49m\u001b[43m_chroma_vectorstore\u001b[49m\u001b[43m.\u001b[49m\u001b[43msimilarity_search_with_relevance_scores\u001b[49m\u001b[43m(\u001b[49m\u001b[43mquery\u001b[49m\u001b[43m,\u001b[49m\u001b[43m \u001b[49m\u001b[43m*\u001b[49m\u001b[43m*\u001b[49m\u001b[43mkwargs\u001b[49m\u001b[43m)\u001b[49m\n\u001b[32m    336\u001b[39m         \u001b[38;5;28;01mfor\u001b[39;00m query \u001b[38;5;129;01min\u001b[39;00m _queries\n\u001b[32m    337\u001b[39m     ]\n\u001b[32m    339\u001b[39m \u001b[38;5;28;01melif\u001b[39;00m search_type == \u001b[33m\"\u001b[39m\u001b[33mmmr\u001b[39m\u001b[33m\"\u001b[39m:\n\u001b[32m    340\u001b[39m     results = [\n\u001b[32m    341\u001b[39m         \u001b[38;5;28mself\u001b[39m._chroma_vectorstore.max_marginal_relevance_search(query, **kwargs)\n\u001b[32m    342\u001b[39m         \u001b[38;5;28;01mfor\u001b[39;00m query \u001b[38;5;129;01min\u001b[39;00m _queries\n\u001b[32m    343\u001b[39m     ]\n",
      "\u001b[36mFile \u001b[39m\u001b[32m~/Documents/Master Big Data-IA-ML/TFM/ucm-tfm-grupo-4/.venv/lib/python3.11/site-packages/langchain_core/vectorstores/base.py:556\u001b[39m, in \u001b[36mVectorStore.similarity_search_with_relevance_scores\u001b[39m\u001b[34m(self, query, k, **kwargs)\u001b[39m\n\u001b[32m    540\u001b[39m \u001b[38;5;250m\u001b[39m\u001b[33;03m\"\"\"Return docs and relevance scores in the range [0, 1].\u001b[39;00m\n\u001b[32m    541\u001b[39m \n\u001b[32m    542\u001b[39m \u001b[33;03m0 is dissimilar, 1 is most similar.\u001b[39;00m\n\u001b[32m   (...)\u001b[39m\u001b[32m    552\u001b[39m \u001b[33;03m    List of Tuples of (doc, similarity_score).\u001b[39;00m\n\u001b[32m    553\u001b[39m \u001b[33;03m\"\"\"\u001b[39;00m\n\u001b[32m    554\u001b[39m score_threshold = kwargs.pop(\u001b[33m\"\u001b[39m\u001b[33mscore_threshold\u001b[39m\u001b[33m\"\u001b[39m, \u001b[38;5;28;01mNone\u001b[39;00m)\n\u001b[32m--> \u001b[39m\u001b[32m556\u001b[39m docs_and_similarities = \u001b[38;5;28;43mself\u001b[39;49m\u001b[43m.\u001b[49m\u001b[43m_similarity_search_with_relevance_scores\u001b[49m\u001b[43m(\u001b[49m\n\u001b[32m    557\u001b[39m \u001b[43m    \u001b[49m\u001b[43mquery\u001b[49m\u001b[43m,\u001b[49m\u001b[43m \u001b[49m\u001b[43mk\u001b[49m\u001b[43m=\u001b[49m\u001b[43mk\u001b[49m\u001b[43m,\u001b[49m\u001b[43m \u001b[49m\u001b[43m*\u001b[49m\u001b[43m*\u001b[49m\u001b[43mkwargs\u001b[49m\n\u001b[32m    558\u001b[39m \u001b[43m\u001b[49m\u001b[43m)\u001b[49m\n\u001b[32m    559\u001b[39m \u001b[38;5;28;01mif\u001b[39;00m \u001b[38;5;28many\u001b[39m(\n\u001b[32m    560\u001b[39m     similarity < \u001b[32m0.0\u001b[39m \u001b[38;5;129;01mor\u001b[39;00m similarity > \u001b[32m1.0\u001b[39m\n\u001b[32m    561\u001b[39m     \u001b[38;5;28;01mfor\u001b[39;00m _, similarity \u001b[38;5;129;01min\u001b[39;00m docs_and_similarities\n\u001b[32m    562\u001b[39m ):\n\u001b[32m    563\u001b[39m     warnings.warn(\n\u001b[32m    564\u001b[39m         \u001b[33m\"\u001b[39m\u001b[33mRelevance scores must be between\u001b[39m\u001b[33m\"\u001b[39m\n\u001b[32m    565\u001b[39m         \u001b[33mf\u001b[39m\u001b[33m\"\u001b[39m\u001b[33m 0 and 1, got \u001b[39m\u001b[38;5;132;01m{\u001b[39;00mdocs_and_similarities\u001b[38;5;132;01m}\u001b[39;00m\u001b[33m\"\u001b[39m,\n\u001b[32m    566\u001b[39m         stacklevel=\u001b[32m2\u001b[39m,\n\u001b[32m    567\u001b[39m     )\n",
      "\u001b[36mFile \u001b[39m\u001b[32m~/Documents/Master Big Data-IA-ML/TFM/ucm-tfm-grupo-4/.venv/lib/python3.11/site-packages/langchain_core/vectorstores/base.py:504\u001b[39m, in \u001b[36mVectorStore._similarity_search_with_relevance_scores\u001b[39m\u001b[34m(self, query, k, **kwargs)\u001b[39m\n\u001b[32m    486\u001b[39m \u001b[38;5;250m\u001b[39m\u001b[33;03m\"\"\"Default similarity search with relevance scores.\u001b[39;00m\n\u001b[32m    487\u001b[39m \n\u001b[32m    488\u001b[39m \u001b[33;03mModify if necessary in subclass.\u001b[39;00m\n\u001b[32m   (...)\u001b[39m\u001b[32m    501\u001b[39m \u001b[33;03m    List of Tuples of (doc, similarity_score)\u001b[39;00m\n\u001b[32m    502\u001b[39m \u001b[33;03m\"\"\"\u001b[39;00m\n\u001b[32m    503\u001b[39m relevance_score_fn = \u001b[38;5;28mself\u001b[39m._select_relevance_score_fn()\n\u001b[32m--> \u001b[39m\u001b[32m504\u001b[39m docs_and_scores = \u001b[38;5;28;43mself\u001b[39;49m\u001b[43m.\u001b[49m\u001b[43msimilarity_search_with_score\u001b[49m\u001b[43m(\u001b[49m\u001b[43mquery\u001b[49m\u001b[43m,\u001b[49m\u001b[43m \u001b[49m\u001b[43mk\u001b[49m\u001b[43m,\u001b[49m\u001b[43m \u001b[49m\u001b[43m*\u001b[49m\u001b[43m*\u001b[49m\u001b[43mkwargs\u001b[49m\u001b[43m)\u001b[49m\n\u001b[32m    505\u001b[39m \u001b[38;5;28;01mreturn\u001b[39;00m [(doc, relevance_score_fn(score)) \u001b[38;5;28;01mfor\u001b[39;00m doc, score \u001b[38;5;129;01min\u001b[39;00m docs_and_scores]\n",
      "\u001b[36mFile \u001b[39m\u001b[32m~/Documents/Master Big Data-IA-ML/TFM/ucm-tfm-grupo-4/.venv/lib/python3.11/site-packages/langchain_chroma/vectorstores.py:790\u001b[39m, in \u001b[36mChroma.similarity_search_with_score\u001b[39m\u001b[34m(self, query, k, filter, where_document, **kwargs)\u001b[39m\n\u001b[32m    781\u001b[39m     query_embedding = \u001b[38;5;28mself\u001b[39m._embedding_function.embed_query(query)\n\u001b[32m    782\u001b[39m     results = \u001b[38;5;28mself\u001b[39m.__query_collection(\n\u001b[32m    783\u001b[39m         query_embeddings=[query_embedding],\n\u001b[32m    784\u001b[39m         n_results=k,\n\u001b[32m   (...)\u001b[39m\u001b[32m    787\u001b[39m         **kwargs,\n\u001b[32m    788\u001b[39m     )\n\u001b[32m--> \u001b[39m\u001b[32m790\u001b[39m \u001b[38;5;28;01mreturn\u001b[39;00m \u001b[43m_results_to_docs_and_scores\u001b[49m\u001b[43m(\u001b[49m\u001b[43mresults\u001b[49m\u001b[43m)\u001b[49m\n",
      "\u001b[36mFile \u001b[39m\u001b[32m~/Documents/Master Big Data-IA-ML/TFM/ucm-tfm-grupo-4/.venv/lib/python3.11/site-packages/langchain_chroma/vectorstores.py:42\u001b[39m, in \u001b[36m_results_to_docs_and_scores\u001b[39m\u001b[34m(results)\u001b[39m\n\u001b[32m     41\u001b[39m \u001b[38;5;28;01mdef\u001b[39;00m\u001b[38;5;250m \u001b[39m\u001b[34m_results_to_docs_and_scores\u001b[39m(results: Any) -> \u001b[38;5;28mlist\u001b[39m[\u001b[38;5;28mtuple\u001b[39m[Document, \u001b[38;5;28mfloat\u001b[39m]]:\n\u001b[32m---> \u001b[39m\u001b[32m42\u001b[39m     \u001b[38;5;28;01mreturn\u001b[39;00m \u001b[43m[\u001b[49m\n\u001b[32m     43\u001b[39m \u001b[43m        \u001b[49m\u001b[38;5;66;43;03m# TODO: Chroma can do batch querying,\u001b[39;49;00m\n\u001b[32m     44\u001b[39m \u001b[43m        \u001b[49m\u001b[38;5;66;43;03m# we shouldn't hard code to the 1st result\u001b[39;49;00m\n\u001b[32m     45\u001b[39m \u001b[43m        \u001b[49m\u001b[43m(\u001b[49m\n\u001b[32m     46\u001b[39m \u001b[43m            \u001b[49m\u001b[43mDocument\u001b[49m\u001b[43m(\u001b[49m\u001b[43mpage_content\u001b[49m\u001b[43m=\u001b[49m\u001b[43mresult\u001b[49m\u001b[43m[\u001b[49m\u001b[32;43m0\u001b[39;49m\u001b[43m]\u001b[49m\u001b[43m,\u001b[49m\u001b[43m \u001b[49m\u001b[43mmetadata\u001b[49m\u001b[43m=\u001b[49m\u001b[43mresult\u001b[49m\u001b[43m[\u001b[49m\u001b[32;43m1\u001b[39;49m\u001b[43m]\u001b[49m\u001b[43m \u001b[49m\u001b[38;5;129;43;01mor\u001b[39;49;00m\u001b[43m \u001b[49m\u001b[43m{\u001b[49m\u001b[43m}\u001b[49m\u001b[43m,\u001b[49m\u001b[43m \u001b[49m\u001b[38;5;28;43mid\u001b[39;49m\u001b[43m=\u001b[49m\u001b[43mresult\u001b[49m\u001b[43m[\u001b[49m\u001b[32;43m2\u001b[39;49m\u001b[43m]\u001b[49m\u001b[43m)\u001b[49m\u001b[43m,\u001b[49m\n\u001b[32m     47\u001b[39m \u001b[43m            \u001b[49m\u001b[43mresult\u001b[49m\u001b[43m[\u001b[49m\u001b[32;43m3\u001b[39;49m\u001b[43m]\u001b[49m\u001b[43m,\u001b[49m\n\u001b[32m     48\u001b[39m \u001b[43m        \u001b[49m\u001b[43m)\u001b[49m\n\u001b[32m     49\u001b[39m \u001b[43m        \u001b[49m\u001b[38;5;28;43;01mfor\u001b[39;49;00m\u001b[43m \u001b[49m\u001b[43mresult\u001b[49m\u001b[43m \u001b[49m\u001b[38;5;129;43;01min\u001b[39;49;00m\u001b[43m \u001b[49m\u001b[38;5;28;43mzip\u001b[39;49m\u001b[43m(\u001b[49m\n\u001b[32m     50\u001b[39m \u001b[43m            \u001b[49m\u001b[43mresults\u001b[49m\u001b[43m[\u001b[49m\u001b[33;43m\"\u001b[39;49m\u001b[33;43mdocuments\u001b[39;49m\u001b[33;43m\"\u001b[39;49m\u001b[43m]\u001b[49m\u001b[43m[\u001b[49m\u001b[32;43m0\u001b[39;49m\u001b[43m]\u001b[49m\u001b[43m,\u001b[49m\n\u001b[32m     51\u001b[39m \u001b[43m            \u001b[49m\u001b[43mresults\u001b[49m\u001b[43m[\u001b[49m\u001b[33;43m\"\u001b[39;49m\u001b[33;43mmetadatas\u001b[39;49m\u001b[33;43m\"\u001b[39;49m\u001b[43m]\u001b[49m\u001b[43m[\u001b[49m\u001b[32;43m0\u001b[39;49m\u001b[43m]\u001b[49m\u001b[43m,\u001b[49m\n\u001b[32m     52\u001b[39m \u001b[43m            \u001b[49m\u001b[43mresults\u001b[49m\u001b[43m[\u001b[49m\u001b[33;43m\"\u001b[39;49m\u001b[33;43mids\u001b[39;49m\u001b[33;43m\"\u001b[39;49m\u001b[43m]\u001b[49m\u001b[43m[\u001b[49m\u001b[32;43m0\u001b[39;49m\u001b[43m]\u001b[49m\u001b[43m,\u001b[49m\n\u001b[32m     53\u001b[39m \u001b[43m            \u001b[49m\u001b[43mresults\u001b[49m\u001b[43m[\u001b[49m\u001b[33;43m\"\u001b[39;49m\u001b[33;43mdistances\u001b[39;49m\u001b[33;43m\"\u001b[39;49m\u001b[43m]\u001b[49m\u001b[43m[\u001b[49m\u001b[32;43m0\u001b[39;49m\u001b[43m]\u001b[49m\u001b[43m,\u001b[49m\n\u001b[32m     54\u001b[39m \u001b[43m        \u001b[49m\u001b[43m)\u001b[49m\n\u001b[32m     55\u001b[39m \u001b[43m    \u001b[49m\u001b[43m]\u001b[49m\n",
      "\u001b[36mFile \u001b[39m\u001b[32m~/Documents/Master Big Data-IA-ML/TFM/ucm-tfm-grupo-4/.venv/lib/python3.11/site-packages/langchain_chroma/vectorstores.py:46\u001b[39m, in \u001b[36m<listcomp>\u001b[39m\u001b[34m(.0)\u001b[39m\n\u001b[32m     41\u001b[39m \u001b[38;5;28;01mdef\u001b[39;00m\u001b[38;5;250m \u001b[39m\u001b[34m_results_to_docs_and_scores\u001b[39m(results: Any) -> \u001b[38;5;28mlist\u001b[39m[\u001b[38;5;28mtuple\u001b[39m[Document, \u001b[38;5;28mfloat\u001b[39m]]:\n\u001b[32m     42\u001b[39m     \u001b[38;5;28;01mreturn\u001b[39;00m [\n\u001b[32m     43\u001b[39m         \u001b[38;5;66;03m# TODO: Chroma can do batch querying,\u001b[39;00m\n\u001b[32m     44\u001b[39m         \u001b[38;5;66;03m# we shouldn't hard code to the 1st result\u001b[39;00m\n\u001b[32m     45\u001b[39m         (\n\u001b[32m---> \u001b[39m\u001b[32m46\u001b[39m             \u001b[43mDocument\u001b[49m\u001b[43m(\u001b[49m\u001b[43mpage_content\u001b[49m\u001b[43m=\u001b[49m\u001b[43mresult\u001b[49m\u001b[43m[\u001b[49m\u001b[32;43m0\u001b[39;49m\u001b[43m]\u001b[49m\u001b[43m,\u001b[49m\u001b[43m \u001b[49m\u001b[43mmetadata\u001b[49m\u001b[43m=\u001b[49m\u001b[43mresult\u001b[49m\u001b[43m[\u001b[49m\u001b[32;43m1\u001b[39;49m\u001b[43m]\u001b[49m\u001b[43m \u001b[49m\u001b[38;5;129;43;01mor\u001b[39;49;00m\u001b[43m \u001b[49m\u001b[43m{\u001b[49m\u001b[43m}\u001b[49m\u001b[43m,\u001b[49m\u001b[43m \u001b[49m\u001b[38;5;28;43mid\u001b[39;49m\u001b[43m=\u001b[49m\u001b[43mresult\u001b[49m\u001b[43m[\u001b[49m\u001b[32;43m2\u001b[39;49m\u001b[43m]\u001b[49m\u001b[43m)\u001b[49m,\n\u001b[32m     47\u001b[39m             result[\u001b[32m3\u001b[39m],\n\u001b[32m     48\u001b[39m         )\n\u001b[32m     49\u001b[39m         \u001b[38;5;28;01mfor\u001b[39;00m result \u001b[38;5;129;01min\u001b[39;00m \u001b[38;5;28mzip\u001b[39m(\n\u001b[32m     50\u001b[39m             results[\u001b[33m\"\u001b[39m\u001b[33mdocuments\u001b[39m\u001b[33m\"\u001b[39m][\u001b[32m0\u001b[39m],\n\u001b[32m     51\u001b[39m             results[\u001b[33m\"\u001b[39m\u001b[33mmetadatas\u001b[39m\u001b[33m\"\u001b[39m][\u001b[32m0\u001b[39m],\n\u001b[32m     52\u001b[39m             results[\u001b[33m\"\u001b[39m\u001b[33mids\u001b[39m\u001b[33m\"\u001b[39m][\u001b[32m0\u001b[39m],\n\u001b[32m     53\u001b[39m             results[\u001b[33m\"\u001b[39m\u001b[33mdistances\u001b[39m\u001b[33m\"\u001b[39m][\u001b[32m0\u001b[39m],\n\u001b[32m     54\u001b[39m         )\n\u001b[32m     55\u001b[39m     ]\n",
      "\u001b[36mFile \u001b[39m\u001b[32m~/Documents/Master Big Data-IA-ML/TFM/ucm-tfm-grupo-4/.venv/lib/python3.11/site-packages/langchain_core/documents/base.py:280\u001b[39m, in \u001b[36mDocument.__init__\u001b[39m\u001b[34m(self, page_content, **kwargs)\u001b[39m\n\u001b[32m    277\u001b[39m \u001b[38;5;250m\u001b[39m\u001b[33;03m\"\"\"Pass page_content in as positional or named arg.\"\"\"\u001b[39;00m\n\u001b[32m    278\u001b[39m \u001b[38;5;66;03m# my-py is complaining that page_content is not defined on the base class.\u001b[39;00m\n\u001b[32m    279\u001b[39m \u001b[38;5;66;03m# Here, we're relying on pydantic base class to handle the validation.\u001b[39;00m\n\u001b[32m--> \u001b[39m\u001b[32m280\u001b[39m \u001b[38;5;28;43msuper\u001b[39;49m\u001b[43m(\u001b[49m\u001b[43m)\u001b[49m\u001b[43m.\u001b[49m\u001b[34;43m__init__\u001b[39;49m\u001b[43m(\u001b[49m\u001b[43mpage_content\u001b[49m\u001b[43m=\u001b[49m\u001b[43mpage_content\u001b[49m\u001b[43m,\u001b[49m\u001b[43m \u001b[49m\u001b[43m*\u001b[49m\u001b[43m*\u001b[49m\u001b[43mkwargs\u001b[49m\u001b[43m)\u001b[49m\n",
      "\u001b[36mFile \u001b[39m\u001b[32m~/Documents/Master Big Data-IA-ML/TFM/ucm-tfm-grupo-4/.venv/lib/python3.11/site-packages/langchain_core/load/serializable.py:130\u001b[39m, in \u001b[36mSerializable.__init__\u001b[39m\u001b[34m(self, *args, **kwargs)\u001b[39m\n\u001b[32m    128\u001b[39m \u001b[38;5;28;01mdef\u001b[39;00m\u001b[38;5;250m \u001b[39m\u001b[34m__init__\u001b[39m(\u001b[38;5;28mself\u001b[39m, *args: Any, **kwargs: Any) -> \u001b[38;5;28;01mNone\u001b[39;00m:\n\u001b[32m    129\u001b[39m \u001b[38;5;250m    \u001b[39m\u001b[33;03m\"\"\"\"\"\"\u001b[39;00m  \u001b[38;5;66;03m# noqa: D419\u001b[39;00m\n\u001b[32m--> \u001b[39m\u001b[32m130\u001b[39m     \u001b[38;5;28;43msuper\u001b[39;49m\u001b[43m(\u001b[49m\u001b[43m)\u001b[49m\u001b[43m.\u001b[49m\u001b[34;43m__init__\u001b[39;49m\u001b[43m(\u001b[49m\u001b[43m*\u001b[49m\u001b[43margs\u001b[49m\u001b[43m,\u001b[49m\u001b[43m \u001b[49m\u001b[43m*\u001b[49m\u001b[43m*\u001b[49m\u001b[43mkwargs\u001b[49m\u001b[43m)\u001b[49m\n",
      "\u001b[36mFile \u001b[39m\u001b[32m~/Documents/Master Big Data-IA-ML/TFM/ucm-tfm-grupo-4/.venv/lib/python3.11/site-packages/pydantic/main.py:253\u001b[39m, in \u001b[36mBaseModel.__init__\u001b[39m\u001b[34m(self, **data)\u001b[39m\n\u001b[32m    251\u001b[39m \u001b[38;5;66;03m# `__tracebackhide__` tells pytest and some other tools to omit this function from tracebacks\u001b[39;00m\n\u001b[32m    252\u001b[39m __tracebackhide__ = \u001b[38;5;28;01mTrue\u001b[39;00m\n\u001b[32m--> \u001b[39m\u001b[32m253\u001b[39m validated_self = \u001b[38;5;28;43mself\u001b[39;49m\u001b[43m.\u001b[49m\u001b[43m__pydantic_validator__\u001b[49m\u001b[43m.\u001b[49m\u001b[43mvalidate_python\u001b[49m\u001b[43m(\u001b[49m\u001b[43mdata\u001b[49m\u001b[43m,\u001b[49m\u001b[43m \u001b[49m\u001b[43mself_instance\u001b[49m\u001b[43m=\u001b[49m\u001b[38;5;28;43mself\u001b[39;49m\u001b[43m)\u001b[49m\n\u001b[32m    254\u001b[39m \u001b[38;5;28;01mif\u001b[39;00m \u001b[38;5;28mself\u001b[39m \u001b[38;5;129;01mis\u001b[39;00m \u001b[38;5;129;01mnot\u001b[39;00m validated_self:\n\u001b[32m    255\u001b[39m     warnings.warn(\n\u001b[32m    256\u001b[39m         \u001b[33m'\u001b[39m\u001b[33mA custom validator is returning a value other than `self`.\u001b[39m\u001b[38;5;130;01m\\n\u001b[39;00m\u001b[33m'\u001b[39m\n\u001b[32m    257\u001b[39m         \u001b[33m\"\u001b[39m\u001b[33mReturning anything other than `self` from a top level model validator isn\u001b[39m\u001b[33m'\u001b[39m\u001b[33mt supported when validating via `__init__`.\u001b[39m\u001b[38;5;130;01m\\n\u001b[39;00m\u001b[33m\"\u001b[39m\n\u001b[32m    258\u001b[39m         \u001b[33m'\u001b[39m\u001b[33mSee the `model_validator` docs (https://docs.pydantic.dev/latest/concepts/validators/#model-validators) for more details.\u001b[39m\u001b[33m'\u001b[39m,\n\u001b[32m    259\u001b[39m         stacklevel=\u001b[32m2\u001b[39m,\n\u001b[32m    260\u001b[39m     )\n",
      "\u001b[31mValidationError\u001b[39m: 1 validation error for Document\npage_content\n  Input should be a valid string [type=string_type, input_value=None, input_type=NoneType]\n    For further information visit https://errors.pydantic.dev/2.11/v/string_type"
     ]
    }
   ],
   "source": [
    "genai_embeddings = GenAIExtendedEmbeddingFunction(model= GENAI_EMBEDDING_MODEL)\n",
    "print(f'VertexAI: {genai_embeddings.genai_client._api_client.vertexai}')\n",
    "print(f'Project: {genai_embeddings.genai_client._api_client.project}')\n",
    "print(f'Location: {genai_embeddings.genai_client._api_client.location}')\n",
    "print(f'Auth Tokens: {genai_embeddings.genai_client.auth_tokens}')\n",
    "\n",
    "\n",
    "query_examples_collection = ExamplesChromaCollection(\n",
    "    collection_name= 'query_examples',\n",
    "    embedding_function= genai_embeddings,\n",
    "    host= os.getenv('CHROMA_SERVER_HOST', 'localhost'),\n",
    "    port= os.getenv('CHROMA_LOCAL_PORT', '8000')\n",
    ")\n",
    "filter = None\n",
    "    #if language:\n",
    "    #    filter = {'language': language}\n",
    "\n",
    "search_results = query_examples_collection.search(\n",
    "    queries = ['Alguito'],\n",
    "    search_type = 'similarity_score_threshold',\n",
    "    k = 2,\n",
    "    #filter = filter     # Agrego filtro por idioma a la busqueda de Chroma\n",
    ")"
   ]
  },
  {
   "cell_type": "code",
   "execution_count": 5,
   "id": "5af0ec3c",
   "metadata": {},
   "outputs": [
    {
     "ename": "NameError",
     "evalue": "name 'query_examples_collection' is not defined",
     "output_type": "error",
     "traceback": [
      "\u001b[31m---------------------------------------------------------------------------\u001b[39m",
      "\u001b[31mNameError\u001b[39m                                 Traceback (most recent call last)",
      "\u001b[36mCell\u001b[39m\u001b[36m \u001b[39m\u001b[32mIn[5]\u001b[39m\u001b[32m, line 1\u001b[39m\n\u001b[32m----> \u001b[39m\u001b[32m1\u001b[39m \u001b[43mquery_examples_collection\u001b[49m._chroma_vectorstore._client.list_collections()\n",
      "\u001b[31mNameError\u001b[39m: name 'query_examples_collection' is not defined"
     ]
    }
   ],
   "source": [
    "query_examples_collection._chroma_vectorstore._client.list_collections()"
   ]
  },
  {
   "cell_type": "code",
   "execution_count": 7,
   "id": "2e98ad4d",
   "metadata": {},
   "outputs": [
    {
     "data": {
      "text/plain": [
       "{'ids': ['c59325ef-a9d5-470b-8a59-5138b0715e02',\n",
       "  '6fa826c3-5a9b-4165-b45b-2654602e878b',\n",
       "  '0da4f16c-8faa-4f89-90de-c247fdd3b0ba',\n",
       "  '4124a5cf-ed6e-4778-84fc-2a8ab8560251',\n",
       "  '3ae201f6-28e3-4344-b113-91cbaf511e90',\n",
       "  '76af0b9e-9e60-48eb-95f6-774cb823cdbd',\n",
       "  '88146f86-a3c8-4220-91cc-344e9e7291ce',\n",
       "  'a70b7cf9-4d50-47a1-b52c-b91cb857541b',\n",
       "  'd2bab528-e788-4047-be1c-2ca9ae67e856',\n",
       "  '85c923dc-1bfa-4ae9-8975-8332271f8fbd',\n",
       "  '1f1af88b-0381-451d-8247-2e8982f416e3',\n",
       "  '088c7621-c200-4d74-861a-2abab9d67db4',\n",
       "  '9003f6af-dc3d-435a-838e-784521c34665',\n",
       "  '54a02966-522c-40c0-9048-2bec50876945',\n",
       "  '294aedb7-79f0-47a3-b892-01856a4b8782',\n",
       "  'd5d1884e-4ac0-4287-b9bc-16885df29d66',\n",
       "  '8f8d9c7c-b581-4d9a-85ab-99d221b8a095',\n",
       "  'bde44adc-dd49-49f4-9e5d-19f0af531941',\n",
       "  'c817050f-dff4-43bb-bc7f-093c10c223f1',\n",
       "  '05ab0c30-80f9-4c44-be2c-390e771063b9',\n",
       "  '74136f54-8e2a-4402-b304-cb9696f1e050'],\n",
       " 'embeddings': None,\n",
       " 'metadatas': [{'file_name': 'query_examples.json',\n",
       "   'sql_query': \"SELECT\\n  COALESCE(spanish_product_name, english_product_name) AS producto,\\n  list_price AS precio_de_lista,\\n  standard_cost AS coste_estandar,\\n  spanish_product_category_name AS categoria,\\n  spanish_product_subcategory_name AS subcategoria,\\n  CASE\\n    WHEN list_price >= 1000 THEN 'Premium'\\n    WHEN list_price >= 200 AND list_price < 1000 THEN 'Estándar'\\n    ELSE 'Económico'\\n  END AS escala_precios\\nFROM\\n  sales.dim_product\\nORDER BY\\n  product_category,\\n  product_subcategory;\",\n",
       "   'language': 'ES'},\n",
       "  {'language': 'ES',\n",
       "   'file_name': 'query_examples.json',\n",
       "   'sql_query': \"SELECT\\n  COALESCE(dp.spanish_product_category_name, dp.english_product_category_name) AS categoria_producto,\\n  SUM(fs.sales_amount) AS total_ventas_netas,\\n  SUM(fs.sales_amount - fs.total_product_cost) AS margen_bruto,\\n  (SUM(fs.sales_amount - fs.total_product_cost) / NULLIF(SUM(fs.sales_amount), 0)) * 100 AS margen_bruto_procentaje\\nFROM\\n  sales.fact_sales fs\\n  JOIN sales.dim_product dp ON fs.product_key = dp.product_key\\nWHERE\\n  EXTRACT(YEAR FROM fs.order_date) = EXTRACT(YEAR FROM CURRENT_DATE)\\n  AND fs.sale_source = 'internet_sales'\\nGROUP BY\\n  categoria_producto\\nORDER BY\\n  total_ventas_netas DESC;\"},\n",
       "  {'sql_query': \"SELECT\\n  EXTRACT(MONTH FROM order_date) AS mes,\\n  SUM(sales_amount) / COUNT(DISTINCT sales_order_number) AS ticket_medio\\nFROM\\n  sales.fact_sales\\nWHERE\\n  sale_source = 'reseller_sales'\\n  AND order_date BETWEEN DATE_TRUNC('year', CURRENT_DATE) AND CURRENT_DATE\\nGROUP BY\\n  EXTRACT(MONTH FROM order_date);\",\n",
       "   'language': 'ES',\n",
       "   'file_name': 'query_examples.json'},\n",
       "  {'sql_query': \"SELECT\\n  (SUM(discount_amount) / NULLIF(SUM(extended_amount), 0)) * 100 AS descuento_medio_pct\\nFROM\\n  sales.fact_sales\\nWHERE\\n  sale_source = 'reseller_sales'\\n  AND (\\n    (\\n      EXTRACT(MONTH FROM CURRENT_DATE) > 6\\n      AND EXTRACT(YEAR FROM order_date) = EXTRACT(YEAR FROM CURRENT_DATE)\\n      AND EXTRACT(MONTH FROM order_date) BETWEEN 1 AND 6\\n    )\\n    OR\\n    (\\n      EXTRACT(MONTH FROM CURRENT_DATE) <= 6\\n      AND EXTRACT(YEAR FROM order_date) = EXTRACT(YEAR FROM CURRENT_DATE) - 1\\n      AND EXTRACT(MONTH FROM order_date) BETWEEN 7 AND 12\\n    )\\n  );\",\n",
       "   'language': 'ES',\n",
       "   'file_name': 'query_examples.json'},\n",
       "  {'file_name': 'query_examples.json',\n",
       "   'language': 'ES',\n",
       "   'sql_query': 'SELECT\\n  COALESCE(dp.spanish_product_name, dp.english_product_name) AS producto,\\n  dp.spanish_product_category_name AS categoria,\\n  dp.spanish_product_subcategory_name AS subcategoria,\\n  SUM(fs.sales_amount) AS importe,\\n  SUM(fs.order_quantity) AS cantidad,\\n  SUM(fs.sales_amount) / NULLIF(SUM(fs.order_quantity), 0) AS precio_medio\\nFROM\\n  sales.fact_sales fs\\n  JOIN sales.dim_product dp ON fs.product_key = dp.product_key\\nWHERE\\n  EXTRACT(YEAR FROM fs.order_date) = EXTRACT(YEAR FROM CURRENT_DATE) - 1\\nGROUP BY\\n  producto, categoria, subcategoria\\nORDER BY\\n  cantidad DESC\\nLIMIT 10;'},\n",
       "  {'sql_query': \"WITH\\n  customer_last_order AS (\\n    SELECT\\n      customer_key,\\n      MAX(sales_order_number) AS bigger_sales_order_number,\\n      MAX(order_date) AS last_order_date\\n    FROM\\n      sales.fact_sales\\n    WHERE\\n      order_date <= CURRENT_DATE\\n    GROUP BY\\n      customer_key\\n  )\\n\\nSELECT\\n  dc.customer_full_name AS cliente,\\n  dc.yearly_income AS ingresos_anuales,\\n  dc.house_owner AS propiertarios,\\n  dc.number_children_at_home AS hijos_viviendo_en_casa,\\n  CASE\\n    WHEN dc.yearly_income >= 100000 THEN 'Alto Valor'\\n    WHEN dc.yearly_income >= 50000 AND dc.yearly_income < 100000 THEN 'Valor Medio'\\n    ELSE 'Valor Básico'\\n  END AS segmento_ingresos,\\n  CASE\\n    WHEN dc.house_owner = TRUE AND dc.number_children_at_home > 0 THEN 'Familia Propietaria'\\n    WHEN dc.house_owner = TRUE AND dc.number_children_at_home = 0 THEN 'Propietario Sin Hijos'\\n    WHEN dc.house_owner = FALSE AND dc.number_children_at_home > 0 THEN 'Familia Inquilina'\\n    ELSE 'Inquilino Sin Hijos'\\n  END AS segmento_estilo_vida\\nFROM\\n  sales.dim_customer dc\\n  JOIN customer_last_order clo ON dc.customer_key = clo.customer_key\\nORDER BY\\n  clo.last_order_date, clo.bigger_sales_order_number DESC\\nLIMIT 20;\",\n",
       "   'language': 'ES',\n",
       "   'file_name': 'query_examples.json'},\n",
       "  {'sql_query': \"SELECT\\n  dc.customer_full_name AS cliente,\\n  SUM(fs.sales_amount) AS importe\\nFROM\\n  sales.fact_sales fs\\n  JOIN sales.dim_customer dc ON fs.customer_key = dc.customer_key\\nWHERE\\n  fs.sale_source = 'internet_sales'\\n  AND dc.yearly_income >= 100000\\n  AND order_date BETWEEN DATE_TRUNC('month', CURRENT_DATE) AND CURRENT_DATE\\nGROUP BY\\n  cliente\\nORDER BY\\n  importe DESC;\",\n",
       "   'language': 'ES',\n",
       "   'file_name': 'query_examples.json'},\n",
       "  {'language': 'ES',\n",
       "   'sql_query': \"WITH \\n  sales_current AS (\\n    SELECT\\n      dp.spanish_product_category_name AS category_name,\\n      date_trunc('month', fs.order_date) AS month,\\n      SUM(fs.sales_amount) AS total_sales\\n    FROM\\n      sales.fact_sales fs\\n      JOIN sales.dim_product dp ON fs.product_key = dp.product_key\\n    WHERE \\n      fs.order_date >= date_trunc('year', CURRENT_DATE)\\n      AND fs.order_date < date_trunc('year', CURRENT_DATE) + interval '6 months'\\n    GROUP BY\\n      category_name, month\\n  ),\\n  sales_last AS (\\n    SELECT\\n      dp.spanish_product_category_name AS category_name,\\n      date_trunc('month', fs.order_date) AS month,\\n      SUM(fs.sales_amount) AS total_sales\\n    FROM\\n      sales.fact_sales fs\\n      JOIN sales.dim_product dp ON fs.product_key = dp.product_key\\n    WHERE\\n      fs.order_date >= date_trunc('year', CURRENT_DATE - interval '1 year')\\n      AND fs.order_date < date_trunc('year', CURRENT_DATE - interval '1 year') + interval '6 months'\\n    GROUP BY\\n      category_name, month\\n  )\\n\\nSELECT\\n  COALESCE(sc.category_name, sl.category_name) AS categoria,\\n  TO_CHAR(CURRENT_DATE, 'YYYY-') || TO_CHAR(COALESCE(sc.month, sl.month), 'MM') AS año_mes,\\n  COALESCE(sc.total_sales, 0) AS año_en_curso_S1,\\n  COALESCE(sl.total_sales, 0) AS año_pasado_H1,\\n  ROUND(100 * (COALESCE(sc.total_sales, 0) - sl.total_sales) / NULLIF(sl.total_sales, 0), 2) AS dif_pct\\nFROM\\n  sales_current sc\\n  FULL OUTER JOIN sales_last sl ON \\n    sc.category_name = sl.category_name\\n    AND EXTRACT(MONTH FROM sc.month) = EXTRACT(MONTH FROM sl.month)\\nORDER BY\\n  categoria, año_mes;\",\n",
       "   'file_name': 'query_examples.json'},\n",
       "  {'file_name': 'query_examples.json',\n",
       "   'sql_query': \"SELECT\\n  RANK() OVER (ORDER BY COUNT(fisr.sales_reason_key) DESC) AS rank,\\n  dsr.sales_reason_name,\\n  COUNT(fisr.sales_reason_key) AS reason_count\\nFROM\\n  sales.fact_internet_sales_reason fisr\\n  JOIN sales.dim_sales_reason dsr ON fisr.sales_reason_key = dsr.sales_reason_key\\n  JOIN sales.fact_sales fs ON fisr.sales_order_number = fs.sales_order_number AND fisr.sales_order_line_number = fs.sales_order_line_number\\nWHERE\\n  fs.sale_source = 'internet_sales'\\nGROUP BY\\n  dsr.sales_reason_name\\nORDER BY\\n  reason_count DESC\\nLIMIT 3;\",\n",
       "   'language': 'ES'},\n",
       "  {'language': 'ES',\n",
       "   'file_name': 'query_examples.json',\n",
       "   'sql_query': \"SELECT\\n  dp.spanish_promotion_name AS promocion_nombre,\\n  dp.spanish_promotion_type AS promocion_tipo,\\n  dp.spanish_promotion_category AS promocion_categoria,\\n  SUM(fs.order_quantity) AS cantidad_vendida,\\n  SUM(fs.discount_amount) AS descuento_realizado\\nFROM\\n  sales.fact_sales fs\\n  JOIN sales.dim_promotion dp ON fs.promotion_key = dp.promotion_key\\nWHERE\\n  COALESCE(dp.discount_pct, 0) > 0\\n  AND order_date >= DATE_TRUNC('year', CURRENT_DATE) + interval '3 months'\\n  AND order_date < DATE_TRUNC('year', CURRENT_DATE) + interval '6 months'\\nGROUP BY\\n  dp.spanish_promotion_name, dp.spanish_promotion_type, dp.spanish_promotion_category\\nORDER BY\\n  descuento_realizado DESC;\"},\n",
       "  {'file_name': 'query_examples.json',\n",
       "   'sql_query': \"WITH \\n  last_quarter AS (\\n    SELECT\\n      fs.product_key,\\n      COALESCE(dp.spanish_product_name, dp.english_product_name) AS product_name,\\n      dp.spanish_product_category_name,\\n      dp.spanish_product_subcategory_name,\\n      EXTRACT(MONTH FROM fs.order_date) AS month_in_quarter,\\n      fs.order_quantity\\n    FROM\\n      sales.fact_sales fs\\n      JOIN sales.dim_product dp ON fs.product_key = dp.product_key\\n    WHERE\\n      fs.sale_source = 'reseller_sales'\\n      AND dp.spanish_product_category_name <> 'Accesorio'\\n      AND fs.order_date >= date_trunc('quarter', CURRENT_DATE - interval '3 months')\\n      AND fs.order_date < date_trunc('quarter', CURRENT_DATE)\\n  ),\\n  top_products AS (\\n    SELECT\\n      product_key,\\n      product_name,\\n      spanish_product_category_name,\\n      spanish_product_subcategory_name,\\n      SUM(order_quantity) AS total_qty\\n    FROM\\n      last_quarter\\n    GROUP BY\\n      product_key, product_name, spanish_product_category_name, spanish_product_subcategory_name\\n    ORDER BY\\n      total_qty DESC\\n    LIMIT 10\\n  )\\n\\nSELECT\\n  tp.product_name AS producto,\\n  tp.spanish_product_category_name AS categoria,\\n  tp.spanish_product_subcategory_name AS subcategoria,\\n  SUM(lq.order_quantity) FILTER (WHERE lq.month_in_quarter = EXTRACT(MONTH FROM date_trunc('quarter', CURRENT_DATE - interval '3 months'))) AS primer_mes,\\n  SUM(lq.order_quantity) FILTER (WHERE lq.month_in_quarter = EXTRACT(MONTH FROM date_trunc('quarter', CURRENT_DATE - interval '3 months') + interval '1 month')) AS segundo_mes,\\n  SUM(lq.order_quantity) FILTER (WHERE lq.month_in_quarter = EXTRACT(MONTH FROM date_trunc('quarter', CURRENT_DATE - interval '3 months') + interval '2 month')) AS tercer_mes,\\n  SUM(lq.order_quantity) AS total\\nFROM\\n  top_products tp\\n  LEFT JOIN last_quarter lq ON tp.product_key = lq.product_key\\nGROUP BY\\n  producto, categoria, subcategoria\\nORDER BY\\n  total DESC;\",\n",
       "   'language': 'ES'},\n",
       "  {'sql_query': \"SELECT\\n  AVG(DATE_PART('day', ship_date::TIMESTAMP - order_date::TIMESTAMP)) AS avg_shipping_time_days,\\n  AVG(DATE_PART('day', due_date::TIMESTAMP - ship_date::TIMESTAMP)) AS avg_delivery_time_days,\\n  AVG(DATE_PART('day', due_date::TIMESTAMP - order_date::TIMESTAMP)) AS avg_total_order_processing_time_days\\nFROM\\n  sales.fact_sales\\nWHERE\\n  order_date BETWEEN DATE_TRUNC('quarter', CURRENT_DATE - INTERVAL '3 months') AND DATE_TRUNC('quarter', CURRENT_DATE) - INTERVAL '1 day';\",\n",
       "   'language': 'EN',\n",
       "   'file_name': 'query_examples.json'},\n",
       "  {'file_name': 'query_examples.json',\n",
       "   'sql_query': \"SELECT\\n  dp.product_line,\\n  SUM(fs.order_quantity) AS total_quantity_sold\\nFROM\\n  sales.fact_sales fs\\n  JOIN sales.dim_product dp ON fs.product_key = dp.product_key\\nWHERE\\n  dp.product_line IN ('R', 'M')\\nGROUP BY\\n  dp.product_line\\nORDER BY\\n  total_quantity_sold DESC;\",\n",
       "   'language': 'EN'},\n",
       "  {'language': 'EN',\n",
       "   'file_name': 'query_examples.json',\n",
       "   'sql_query': \"SELECT\\n  dr.reseller_name,\\n  dr.business_type,\\n  SUM(\\n    CASE \\n      WHEN fs.order_date >= DATE_TRUNC('year', CURRENT_DATE)\\n          AND fs.order_date < DATE_TRUNC('year', CURRENT_DATE) + interval '6 months'\\n      THEN fs.sales_amount\\n      ELSE 0\\n    END\\n  ) AS total_sales_current_year_H1,\\n  SUM(\\n    CASE\\n      WHEN fs.order_date >= DATE_TRUNC('year', CURRENT_DATE - interval '1 year')\\n          AND fs.order_date < DATE_TRUNC('year', CURRENT_DATE - interval '1 year') + interval '6 months'\\n      THEN fs.sales_amount\\n      ELSE 0\\n    END\\n  ) AS total_sales_last_year_H1\\nFROM\\n  sales.fact_sales fs\\n  JOIN sales.dim_reseller dr ON fs.reseller_key = dr.reseller_key\\nWHERE\\n  fs.sale_source = 'reseller_sales'\\n  AND order_date >= DATE_TRUNC('year', CURRENT_DATE - interval '1 year')\\n  AND fs.order_date < DATE_TRUNC('year', CURRENT_DATE) + interval '6 months'\\nGROUP BY\\n  dr.reseller_name, dr.business_type\\nHAVING\\n  SUM(\\n    CASE \\n      WHEN fs.order_date >= DATE_TRUNC('year', CURRENT_DATE)\\n          AND fs.order_date < DATE_TRUNC('year', CURRENT_DATE) + interval '6 months'\\n      THEN fs.sales_amount\\n      ELSE 0\\n    END\\n  ) \\n  < SUM(\\n    CASE\\n      WHEN fs.order_date >= DATE_TRUNC('year', CURRENT_DATE - interval '1 year')\\n          AND fs.order_date < DATE_TRUNC('year', CURRENT_DATE - interval '1 year') + interval '6 months'\\n      THEN fs.sales_amount\\n      ELSE 0\\n    END\\n  )\\nORDER BY\\n  total_sales_current_year_H1 DESC;\"},\n",
       "  {'language': 'EN',\n",
       "   'file_name': 'query_examples.json',\n",
       "   'sql_query': \"SELECT\\n  SUM(fs.sales_amount - fs.total_product_cost) AS gross_margin,\\n  (SUM(fs.sales_amount - fs.total_product_cost) / NULLIF(SUM(fs.sales_amount), 0)) * 100 AS gross_margin_percentage\\nFROM\\n  sales.fact_sales fs\\n  JOIN sales.dim_sales_territory dst ON fs.sales_territory_key = dst.sales_territory_key\\nWHERE\\n  dst.sales_territory_group = 'North America'\\n  AND order_date BETWEEN DATE_TRUNC('quarter', CURRENT_DATE) AND CURRENT_DATE;\"},\n",
       "  {'sql_query': \"WITH\\n  sales_last_half AS (\\n    SELECT\\n      dsp.employee_full_name AS employee,\\n      TO_CHAR(fs.order_date, 'YYYY-MM') AS year_month,\\n      SUM(fs.sales_amount) AS total_sales\\n    FROM sales.fact_sales fs\\n    JOIN sales.dim_sales_person dsp ON fs.employee_key = dsp.employee_key\\n    WHERE fs.sale_source = 'reseller_sales'\\n      AND (\\n        (EXTRACT(MONTH FROM CURRENT_DATE) <= 6\\n          AND fs.order_date >= date_trunc('year', CURRENT_DATE - interval '1 year') + interval '6 months'\\n          AND fs.order_date < date_trunc('year', CURRENT_DATE)\\n        )\\n        OR\\n        (EXTRACT(MONTH FROM CURRENT_DATE) > 6\\n          AND fs.order_date >= date_trunc('year', CURRENT_DATE)\\n          AND fs.order_date < date_trunc('year', CURRENT_DATE) + interval '6 months'\\n        )\\n      )\\n    GROUP BY dsp.employee_full_name, year_month\\n  ),\\n  total_per_employee AS (\\n    SELECT\\n      employee,\\n      SUM(total_sales) AS total_sales_semester\\n    FROM sales_last_half\\n    GROUP BY employee\\n    ORDER BY total_sales_semester DESC\\n    LIMIT 5\\n  )\\n\\nSELECT\\n  slh.employee,\\n  slh.year_month,\\n  slh.total_sales\\nFROM\\n  sales_last_half slh\\n  JOIN total_per_employee tpe ON slh.employee = tpe.employee\\nORDER BY\\n  employee, year_month ASC;\",\n",
       "   'file_name': 'query_examples.json',\n",
       "   'language': 'EN'},\n",
       "  {'language': 'EN',\n",
       "   'file_name': 'query_examples.json',\n",
       "   'sql_query': 'SELECT\\n  english_product_name AS product_name,\\n  english_product_category_name AS category,\\n  english_product_subcategory_name AS subcategory,\\n  list_price\\nFROM\\n  sales.dim_product\\nWHERE\\n  list_price BETWEEN 500 AND 700;'},\n",
       "  {'file_name': 'query_examples.json',\n",
       "   'sql_query': \"SELECT\\n  'Net Sales' AS metric,\\n  SUM(\\n    CASE\\n      WHEN order_date >= date_trunc('year', CURRENT_DATE) AND order_date <= CURRENT_DATE\\n      THEN sales_amount\\n      ELSE 0\\n    END\\n  ) AS current_year_ytd,\\n  SUM(\\n    CASE\\n      WHEN order_date >= date_trunc('year', CURRENT_DATE - interval '1 year') AND order_date <= (CURRENT_DATE - interval '1 year')\\n      THEN sales_amount\\n      ELSE 0\\n    END\\n  ) AS last_year_ytd\\nFROM sales.fact_sales\\n\\nUNION ALL\\n\\nSELECT\\n  'Quantity Sold' AS metric,\\n  SUM(\\n    CASE\\n      WHEN order_date >= date_trunc('year', CURRENT_DATE) AND order_date <= CURRENT_DATE\\n      THEN order_quantity\\n      ELSE 0\\n    END\\n  ) AS current_year_ytd,\\n  SUM(\\n    CASE\\n      WHEN order_date >= date_trunc('year', CURRENT_DATE - interval '1 year') AND order_date <= (CURRENT_DATE - interval '1 year')\\n      THEN order_quantity\\n      ELSE 0\\n    END\\n  ) AS last_year_ytd\\nFROM sales.fact_sales\\n\\nUNION ALL\\n\\nSELECT\\n  'COGS' AS metric,\\n  SUM(\\n    CASE\\n      WHEN order_date >= date_trunc('year', CURRENT_DATE) AND order_date <= CURRENT_DATE\\n      THEN total_product_cost\\n      ELSE 0\\n    END\\n  ) AS current_year_ytd,\\n  SUM(\\n    CASE\\n      WHEN order_date >= date_trunc('year', CURRENT_DATE - interval '1 year') AND order_date <= (CURRENT_DATE - interval '1 year')\\n      THEN total_product_cost\\n      ELSE 0\\n    END\\n  ) AS last_year_ytd\\nFROM sales.fact_sales;\",\n",
       "   'language': 'EN'},\n",
       "  {'file_name': 'query_examples.json',\n",
       "   'sql_query': \"SELECT\\n  COALESCE(dp.product_line, '|| Not registered ||') AS product_line,\\n  CASE\\n    WHEN list_price >= 1000 THEN 'Premium'\\n    WHEN list_price >= 200 AND list_price < 1000 THEN 'Standard'\\n    ELSE 'Economic'\\n  END AS product_price_tier,\\n  SUM(fs.order_quantity) AS total_quantity_sold\\nFROM\\n  sales.fact_sales fs\\n  JOIN sales.dim_product dp ON fs.product_key = dp.product_key\\nWHERE\\n  order_date >= DATE_TRUNC('year', CURRENT_DATE - interval '1 year') + interval '3 months'\\n  AND order_date < DATE_TRUNC('year', CURRENT_DATE - interval '1 year') + interval '6 months'\\nGROUP BY\\n  product_line, product_price_tier\\nORDER BY\\n  product_line, total_quantity_sold DESC;\",\n",
       "   'language': 'EN'},\n",
       "  {'language': 'EN',\n",
       "   'file_name': 'query_examples.json',\n",
       "   'sql_query': \"WITH\\n  customer_last_order AS (\\n    SELECT\\n      customer_key,\\n      MAX(sales_order_number) AS bigger_sales_order_number,\\n      MAX(order_date) AS last_order_date\\n    FROM\\n      sales.fact_sales\\n    WHERE\\n      order_date <= CURRENT_DATE\\n    GROUP BY\\n      customer_key\\n  )\\n\\nSELECT\\n  dc.customer_full_name AS customer,\\n  dc.yearly_income,\\n  dc.house_owner,\\n  dc.number_children_at_home,\\n  CASE\\n    WHEN dc.yearly_income >= 100000 THEN 'High Value'\\n    WHEN dc.yearly_income >= 50000 AND dc.yearly_income < 100000 THEN 'Medium Value'\\n    ELSE 'Basic Value'\\n  END AS customer_income_segment,\\n  CASE\\n    WHEN dc.house_owner = TRUE AND dc.number_children_at_home > 0 THEN 'Owner Family'\\n    WHEN dc.house_owner = TRUE AND dc.number_children_at_home = 0 THEN 'Owner No Childs'\\n    WHEN dc.house_owner = FALSE AND dc.number_children_at_home > 0 THEN 'Tenant Family'\\n    ELSE 'Tenant No Childs'\\n  END AS customer_lifestyle_segment\\nFROM\\n  sales.dim_customer dc\\n  JOIN customer_last_order clo ON dc.customer_key = clo.customer_key\\nORDER BY\\n  clo.last_order_date, clo.bigger_sales_order_number DESC\\nLIMIT 20;\"},\n",
       "  {'sql_query': \"WITH \\n  last_6_months AS (\\n    SELECT\\n      fs.product_key,\\n      dp.english_product_name AS product_name,\\n      dp.english_product_category_name AS category,\\n      dp.english_product_subcategory_name AS subcategory,\\n      EXTRACT(MONTH FROM fs.order_date) AS month_in_period,\\n      fs.sales_amount\\n    FROM\\n      sales.fact_sales fs\\n      JOIN sales.dim_product dp ON fs.product_key = dp.product_key\\n    WHERE\\n      fs.sale_source = 'internet_sales'\\n      AND dp.english_product_category_name <> 'Accessories'\\n      AND fs.order_date >= date_trunc('month', CURRENT_DATE) - interval '6 months'\\n      AND fs.order_date < date_trunc('month', CURRENT_DATE)\\n  ),\\n  top_products AS (\\n    SELECT\\n      product_key,\\n      product_name,\\n      category,\\n      subcategory,\\n      SUM(sales_amount) AS total_sales\\n    FROM\\n      last_6_months\\n    GROUP BY\\n      product_key, product_name, category, subcategory\\n    ORDER BY\\n      total_sales DESC\\n    LIMIT 10\\n  )\\n\\nSELECT\\n  tp.product_name AS product,\\n  tp.category,\\n  tp.subcategory,\\n  SUM(lq.sales_amount) FILTER (\\n      WHERE lq.month_in_period = EXTRACT(MONTH FROM date_trunc('month', CURRENT_DATE) - interval '6 months')\\n  ) AS first_month,\\n  SUM(lq.sales_amount) FILTER (\\n      WHERE lq.month_in_period = EXTRACT(MONTH FROM date_trunc('month', CURRENT_DATE) - interval '5 months')\\n  ) AS second_month,\\n  SUM(lq.sales_amount) FILTER (\\n      WHERE lq.month_in_period = EXTRACT(MONTH FROM date_trunc('month', CURRENT_DATE) - interval '4 months')\\n  ) AS third_month,\\n  SUM(lq.sales_amount) FILTER (\\n      WHERE lq.month_in_period = EXTRACT(MONTH FROM date_trunc('month', CURRENT_DATE) - interval '3 months')\\n  ) AS fourth_month,\\n  SUM(lq.sales_amount) FILTER (\\n      WHERE lq.month_in_period = EXTRACT(MONTH FROM date_trunc('month', CURRENT_DATE) - interval '2 month')\\n  ) AS fifth_month,\\n  SUM(lq.sales_amount) FILTER (\\n      WHERE lq.month_in_period = EXTRACT(MONTH FROM date_trunc('month', CURRENT_DATE) - interval '1 month')\\n  ) AS sixth_month,\\n  SUM(lq.sales_amount) AS total_sales\\nFROM\\n  top_products tp\\n  LEFT JOIN last_6_months lq ON tp.product_key = lq.product_key\\nGROUP BY\\n  tp.product_name, tp.category, tp.subcategory\\nORDER BY\\n  total_sales DESC;\",\n",
       "   'file_name': 'query_examples.json',\n",
       "   'language': 'EN'}],\n",
       " 'documents': ['Necesito saber para cada producto su nombre, su precio de lista, su coste, su categoría y subcategoría, y escala de precios al que pertenece, ordenado por categoría y subcategoría.',\n",
       "  'Dame el importe de ventas de cada categoría de producto para la unidad de negocio B2C del año actual. Añade el margen bruto y el porcentaje de margen bruto de cada categoría.',\n",
       "  'Muéstrame el valor de ticket medio mensual para las ventas a distribuidores en lo que va del año.',\n",
       "  'Quiero saber el descuento medio aplicado en las ventas mayoristas del semestre pasado, expresado en porcentaje.',\n",
       "  'Enumera los 10 productos más vendidos en el último año. Muestra el nombre del producto, su categoría y subcategoría, el importe de las ventas, la cantidad vendida, y el precio medio por unidad.',\n",
       "  'Muestra un listado de los últimos 20 clientes que han comprado y su segmento de ingresos y de estilo de vida.',\n",
       "  'Calcula el importe comprado por cada uno de los clientes con altos ingresos en lo que va del mes.',\n",
       "  'Para cada categoría de producto, compara las ventas del primer semestre de este año con las del año anterior. Muestrame un detalle mes a mes, indicando los valores, y la diferencia porcentual.',\n",
       "  'Hazme un ranking de los 3 motivos de venta más comunes para las ventas minoristas.',\n",
       "  'Para cada promoción, calcula la cantidad de unidades vendidas y el importe de descuento sobre las ventas del segundo trimestre de este año. Muestra la promoción, su tipo y categoría. ',\n",
       "  'Muéstrame los 10 productos más vendidos para el B2B en el último trimestre, excluyendo los Accesorios. Mes a mes indica cuántas unidades se vendieron, y muestra también a qué categoría y subcategoría pertenecen.',\n",
       "  'Show me the average shipping time, delivery time, and total order processing time in days for the last quarter.',\n",
       "  'Calculate the total quantity sold for road and mountain product lines.',\n",
       "  'Show the sales amount for each reseller during the first half of this year, along with their business type and compare it with the same period of the last year. Include only resellers whose sales this year were lower than the last year.',\n",
       "  \"Calculate the gross margin and gross margin percentage for sales in the 'North America' sales territory group this quarter in course.\",\n",
       "  'List the top 5 sales persons by total sales amount for B2B sales for the last half, detailed month by month.',\n",
       "  'List all products that have a list price between 500 and 700. Show their name, category, subcategory and list price.',\n",
       "  'Calculate the sales amount, quantity sold, and cost of goods for the current year-to-date period, and same period last year comparission.',\n",
       "  'Calculate the total quantity sold for each product line and product price tier for the second quarter of last year.',\n",
       "  'Shows a list of the last 20 customers who made a purchase, along with their income and lifestyle segments.',\n",
       "  'Show me the top 10 best-selling products for the B2C segment over the last 6 months, excluding Accessories. Break down the sales amount month by month, and also include the category and subcategory each product belongs to.'],\n",
       " 'data': None,\n",
       " 'uris': None,\n",
       " 'included': ['metadatas', 'documents']}"
      ]
     },
     "execution_count": 7,
     "metadata": {},
     "output_type": "execute_result"
    }
   ],
   "source": [
    "query_examples_collection.get()"
   ]
  },
  {
   "cell_type": "markdown",
   "id": "c714f2f6",
   "metadata": {},
   "source": [
    "**Nodo que llama a la TOOL:**"
   ]
  },
  {
   "cell_type": "code",
   "execution_count": 11,
   "id": "10c48e56",
   "metadata": {},
   "outputs": [],
   "source": [
    "def node_retrieve_query_examples(state: QueryGeneratorState):\n",
    "    \"\"\"\n",
    "    Execute tool to retrieve query examples results.\n",
    "\n",
    "    Args:\n",
    "        state (dict): The current graph state\n",
    "    \"\"\"\n",
    "    print(\"---QUERY EXAMPLES RETRIEVE TOOL---\")\n",
    "\n",
    "    query = state['user_query'] \n",
    "    lang_raw = state.get(\"language\")\n",
    "    language = lang_raw.upper() if lang_raw else None\n",
    "    \n",
    "    LANGUAGE_DICT = {\n",
    "    \t'SPANISH': 'ES',\n",
    "        'ENGLISH': 'EN'\n",
    "    }\n",
    "    \n",
    "    language_filter = LANGUAGE_DICT.get(language)\n",
    "    \n",
    "    retrieval_results = get_query_examples.invoke(input= {'query':[query], 'language':language_filter})\n",
    "\n",
    "    return {\n",
    "        'query_examples': retrieval_results\n",
    "    }"
   ]
  },
  {
   "cell_type": "markdown",
   "id": "15f0a7e8",
   "metadata": {},
   "source": [
    "-------------------"
   ]
  },
  {
   "cell_type": "markdown",
   "id": "8abce06e",
   "metadata": {},
   "source": [
    "_______________________"
   ]
  },
  {
   "cell_type": "markdown",
   "id": "77d20726",
   "metadata": {},
   "source": [
    "### 2. TOOL validacion de sintaxis y read_only()\n",
    "\n",
    "La tool verifica que la query tenga una sintaxis correcta y que sea solo de lectura, que no modifique la base de datos"
   ]
  },
  {
   "cell_type": "markdown",
   "id": "bcf62dbc",
   "metadata": {},
   "source": [
    "Extrae la SQL devuelta por el LLM sin formato, la SQL cruda.\n",
    "\n",
    "Hay veces que el LLM devuelve la query con formato y el validador no puede comprenderla."
   ]
  },
  {
   "cell_type": "code",
   "execution_count": 12,
   "id": "647206f1",
   "metadata": {},
   "outputs": [],
   "source": [
    "# --- Sanitizador de la salida del LLM (quita ```sql, ANSI, backticks, etc.) ---\n",
    "ANSI_RE = re.compile(r\"\\x1b\\[[0-9;]*[A-Za-z]\")\n",
    "\n",
    "def extract_sql(text: str) -> str:\n",
    "    if not text:\n",
    "        return \"\"\n",
    "    t = ANSI_RE.sub(\"\", text)\n",
    "    t = re.sub(r\"/\\*[\\s\\S]*?\\*/\", \"\", t)\n",
    "    t = re.sub(r\"--.*?$\", \"\", t, flags=re.MULTILINE)\n",
    "    m = re.search(r\"```(?:\\s*sql)?\\s*([\\s\\S]*?)```\", t, flags=re.IGNORECASE)\n",
    "    if m:\n",
    "        t = m.group(1)\n",
    "    t = re.sub(r\"^\\s*sql\\s*\\n\", \"\", t, flags=re.IGNORECASE)\n",
    "    m2 = re.search(r\"\\b(SELECT|WITH)\\b\", t, flags=re.IGNORECASE)\n",
    "    if m2:\n",
    "        t = t[m2.start():]\n",
    "    t = t.strip().replace(\"```\", \"\").replace(\"`\", \"\")\n",
    "    t = re.sub(r\";\\s*$\", \"\", t)\n",
    "    return t.strip()"
   ]
  },
  {
   "cell_type": "code",
   "execution_count": 13,
   "id": "a44ddcf4",
   "metadata": {},
   "outputs": [],
   "source": [
    "FORBIDDEN = (\n",
    "    r\"\\b(INSERT|UPDATE|DELETE|MERGE|TRUNCATE|CREATE|ALTER|DROP|RENAME|REINDEX|\"\n",
    "    r\"VACUUM|ANALYZE|CLUSTER|REFRESH|COPY|CALL|DO|GRANT|REVOKE|SET|\"\n",
    "    r\"BEGIN|START\\s+TRANSACTION|COMMIT|ROLLBACK|LOCK|UNLOCK)\\b\"\n",
    ")\n",
    "\n",
    "def basic_readonly_checks(sql: str) -> Optional[str]:\n",
    "    s = sql.strip()\n",
    "\n",
    "    # Una sola sentencia: permitimos ';' final, pero no múltiples\n",
    "    if \";\" in s[:-1]:\n",
    "        return \"Se detectaron múltiples sentencias (';'). Devuelve solo UNA consulta.\"\n",
    "\n",
    "    # Debe empezar por SELECT o WITH\n",
    "    if not re.match(r\"^\\s*(SELECT|WITH)\\b\", s, re.IGNORECASE):\n",
    "        return \"Solo se admiten consultas de lectura (SELECT/WITH).\"\n",
    "\n",
    "    # Palabras prohibidas (DML/DDL/transacciones)\n",
    "    if re.search(FORBIDDEN, s, re.IGNORECASE):\n",
    "        return \"Se detectaron palabras no permitidas para read-only (DML/DDL/Transacción).\"\n",
    "\n",
    "    # (Opcional) Bloqueos de filas: FOR UPDATE/SHARE\n",
    "    if re.search(r\"\\bFOR\\s+(UPDATE|SHARE)\\b\", s, re.IGNORECASE):\n",
    "        return \"No se permiten bloqueos (FOR UPDATE/SHARE).\"\n",
    "\n",
    "    return None\n",
    "\n",
    "\n"
   ]
  },
  {
   "cell_type": "markdown",
   "id": "78906d11",
   "metadata": {},
   "source": [
    "TOOL de VALIDACION"
   ]
  },
  {
   "cell_type": "code",
   "execution_count": 14,
   "id": "bf303467",
   "metadata": {},
   "outputs": [],
   "source": [
    "# --- 2) Tool compacta: read-only + sintaxis con sqlglot ----------\n",
    "@tool(\"query_validator\")\n",
    "def query_validator(query: str, dialect: str = \"postgres\") -> Dict[str, Any]:\n",
    "    \"\"\"\n",
    "    Valida que la consulta sea solo lectura y que la sintaxis sea válida usando sqlglot.\n",
    "    NO se conecta a la base de datos.\n",
    "\n",
    "    Retorna: {\"ok\": bool, \"error\": str|None}\n",
    "    \"\"\"\n",
    "    # Extraigo la query CRUDA, sin ningun tipo de formato:\n",
    "    clean = extract_sql(query)\n",
    "\n",
    "    # Read-only (rápido, por regex)\n",
    "    basic_err = basic_readonly_checks(clean)\n",
    "    if basic_err:\n",
    "        return {\"ok\": False, \"error\": basic_err, \"sql\": clean}\n",
    "\n",
    "    # Sintaxis con sqlglot\n",
    "    try:\n",
    "        # parse_one garantiza una sola sentencia válida\n",
    "        sqlglot.parse_one(clean, read=dialect)\n",
    "        return {\"ok\": True, \"error\": None, \"sql\": clean}\n",
    "    except ParseError as e:\n",
    "        return {\"ok\": False, \"error\": f\"Sintaxis inválida ({dialect}): {e}\", \"sql\": clean}"
   ]
  },
  {
   "cell_type": "markdown",
   "id": "4e063d26",
   "metadata": {},
   "source": [
    "### 3. Esqueleto del GRAFO: Nodos y Flujo"
   ]
  },
  {
   "cell_type": "markdown",
   "id": "3aad3c16",
   "metadata": {},
   "source": [
    "#### 3.1 NODO START\n",
    "\n",
    "En el flujo completo, ocupa el lugar del **generador de contexto**"
   ]
  },
  {
   "cell_type": "markdown",
   "id": "983783a6",
   "metadata": {},
   "source": [
    "#### 3.2 NODO LLM: QUERY GENERATOR"
   ]
  },
  {
   "cell_type": "markdown",
   "id": "2b013368",
   "metadata": {},
   "source": [
    "MODELO"
   ]
  },
  {
   "cell_type": "code",
   "execution_count": 15,
   "id": "2f5f7721",
   "metadata": {},
   "outputs": [],
   "source": [
    "llm = AzureChatOpenAI(\n",
    "    azure_deployment=MODELO,\n",
    "    openai_api_version=API_VERSION,\n",
    "    temperature=0\n",
    ")"
   ]
  },
  {
   "cell_type": "markdown",
   "id": "c6d2578d",
   "metadata": {},
   "source": [
    "PROMPTS"
   ]
  },
  {
   "cell_type": "markdown",
   "id": "6b2f989e",
   "metadata": {},
   "source": [
    "En los chat LLMs las instrucciones se pasan como una secuencia de mensajes con roles. Separar el prompt en dos funciones no es capricho: responde a cómo el modelo prioriza y “entiende” lo que le envías.\n",
    "\n",
    "Por qué dos prompts (y qué va en cada uno)\n",
    "1) build_system_prompt(context: str)\n",
    "\n",
    "Rol: SystemMessage\n",
    "\n",
    "Para qué sirve: Define las reglas invariantes y el marco de trabajo que el modelo debe obedecer durante toda la conversación/iteración:\n",
    "- Dialecto y restricciones (PostgreSQL, solo lectura, nada de DDL/DML).\n",
    "- Convenciones de estilo (evitar SELECT *, alias, ORDER BY cuando aplique, etc.).\n",
    "- Contexto/Schema/Reglas de negocio: tablas, columnas, joins válidos, filtros obligatorios.\n",
    "- Formato de salida que quieres SIEMPRE (p. ej., “sin markdown, ni comentarios”).\n",
    "\n",
    "**Por qué aquí:**: El rol system tiene máxima prioridad. Instrucciones allí suelen ser más respetadas y permanecen constantes a través del bucle de reparación.\n",
    "\n",
    "2) build_user_prompt(user_query: str, last_error: Optional[str])\n",
    "\n",
    "Rol: HumanMessage (o “user”)\n",
    "\n",
    "Para qué sirve: \n",
    "- Aporta el contenido variable de la iteración:\n",
    "- La intención del usuario en lenguaje natural (“NL → SQL”).\n",
    "- El feedback del validador (last_error) para que el modelo repairs (bucle de reparación).\n",
    "- Criterios puntuales para esta salida (“ordena descendente”, “limita a 10”, etc.).\n",
    "\n",
    "**Por qué aquí:** Este contenido cambia en cada vuelta (cambia la consulta o el error). No quieres reescribir todo el system; solo actualizas lo que varía."
   ]
  },
  {
   "cell_type": "markdown",
   "id": "aff48487",
   "metadata": {},
   "source": [
    "**PROMPT LLM:**"
   ]
  },
  {
   "cell_type": "markdown",
   "id": "13ffca57",
   "metadata": {},
   "source": [
    "VERSION EXTENSA: Mas CONCISA pero mayor cantidad de TOKENS"
   ]
  },
  {
   "cell_type": "code",
   "execution_count": 16,
   "id": "0ef017fe",
   "metadata": {},
   "outputs": [],
   "source": [
    "def build_system_prompt(context: str, query_examples: str) -> str:\n",
    "    return f\"\"\"Eres un generador de SQL para PostgreSQL.\n",
    "\n",
    "OBJETIVO:\n",
    "- Devuelve exactamente UNA sentencia de lectura (SELECT o WITH), sin explicaciones.\n",
    "\n",
    "REGLAS ESTRICTAS:\n",
    "- Solo lectura: empieza por SELECT o WITH.\n",
    "- Prohibido DDL/DML/transacciones/bloqueos: INSERT, UPDATE, DELETE, CREATE, DROP, ALTER,\n",
    "  TRUNCATE, MERGE, COPY, CALL/EXECUTE, GRANT, REVOKE, SET, BEGIN/COMMIT/ROLLBACK, VACUUM/ANALYZE,\n",
    "  FOR UPDATE/SHARE, etc.\n",
    "- Una sola sentencia. No incluyas punto y coma final.\n",
    "- Sin comentarios, ni Markdown, ni texto adicional: SALIDA = SOLO la SQL.\n",
    "- Evita SELECT *; enumera columnas necesarias.\n",
    "- Incluye ORDER BY y/o LIMIT si la intención lo requiere.\n",
    "- Literales de fecha: DATE 'YYYY-MM-DD'. Usa CAST cuando sea razonable.\n",
    "- Usa nombres de tablas/columnas que existan en el contexto. Si no están, elige alternativas plausibles y consistentes.\n",
    "\n",
    "CONVENCIONES:\n",
    "- Aliases claros (p. ej., revenue, total_sales, orders_count).\n",
    "- Puedes usar CTEs (WITH ...) y GROUP BY 1 si es claro.\n",
    "- Ordena por el alias de la métrica cuando aplique.\n",
    "- Preferir COALESCE para nulos en agregaciones/joins.\n",
    "\n",
    "CONTEXTO (tablas, columnas, reglas de negocio):\n",
    "{context}\n",
    "\n",
    "Utiliza los siguientes ejemplos válidos como ayuda:\n",
    "[EXAMPLES]\n",
    "<examples>\n",
    "{query_examples}\n",
    "</examples>\n",
    "\"\"\""
   ]
  },
  {
   "cell_type": "markdown",
   "id": "5b25b390",
   "metadata": {},
   "source": [
    "VERSION COMPACTA: Ahorro de TOKENS"
   ]
  },
  {
   "cell_type": "code",
   "execution_count": 17,
   "id": "5da4703c",
   "metadata": {},
   "outputs": [],
   "source": [
    "def build_system_prompt_compacta(context: str, query_examples:str) -> str:\n",
    "    return f\"\"\"Generas UNA consulta SQL (PostgreSQL) de solo lectura.\n",
    "Sin comentarios ni Markdown; salida = SOLO la SQL (sin ';' final).\n",
    "Prohibido DML/DDL/transacciones/bloqueos.\n",
    "Evita SELECT *; enumera columnas. Usa ORDER BY/LIMIT si procede.\n",
    "Contexto:\n",
    "{context}\n",
    "Utiliza los siguientes ejemplos válidos como ayuda:\n",
    "[EXAMPLES]\n",
    "<examples>\n",
    "{query_examples}\n",
    "</examples>\n",
    "\n",
    "\"\"\""
   ]
  },
  {
   "cell_type": "markdown",
   "id": "eeceacbd",
   "metadata": {},
   "source": [
    "**PROPMT USER:**"
   ]
  },
  {
   "cell_type": "markdown",
   "id": "515d69e7",
   "metadata": {},
   "source": [
    "VERSION EXTENSA"
   ]
  },
  {
   "cell_type": "code",
   "execution_count": 18,
   "id": "25777bba",
   "metadata": {},
   "outputs": [],
   "source": [
    "def build_user_prompt(user_query: str, last_error: Optional[str]) -> str:\n",
    "    repair = (\n",
    "        f\"\\n\\nMODO REPARACIÓN:\\n\"\n",
    "        f\"- La versión anterior NO es válida.\\n\"\n",
    "        f\"- Error del validador: {last_error}\\n\"\n",
    "        f\"- Corrige la consulta para que sea sintácticamente válida en PostgreSQL y estrictamente de solo lectura.\"\n",
    "        if last_error else \"\"\n",
    "    )\n",
    "\n",
    "    return f\"\"\"Genera UNA consulta SQL para PostgreSQL a partir de la intención del usuario.\n",
    "\n",
    "INTENCIÓN DEL USUARIO:\n",
    "{user_query}\n",
    "{repair}\n",
    "\n",
    "REQUISITOS ESTRICTOS:\n",
    "- SOLO una sentencia de lectura: empieza por SELECT o WITH.\n",
    "- Prohibido DML/DDL/transacciones/bloqueos: INSERT, UPDATE, DELETE, CREATE, DROP, ALTER, TRUNCATE, MERGE, COPY, CALL/EXECUTE, GRANT, REVOKE, SET, BEGIN/COMMIT/ROLLBACK, VACUUM/ANALYZE, FOR UPDATE/SHARE, etc.\n",
    "- No múltiples sentencias ni “;” intermedio. No incluyas punto y coma al final.\n",
    "- No incluyas explicaciones, comentarios, ni Markdown. SALIDA = SOLO la SQL.\n",
    "- Evita SELECT *; enumera columnas necesarias.\n",
    "- Si el usuario pide orden o límite, incluye ORDER BY / LIMIT.\n",
    "- Usa sintaxis válida de PostgreSQL (p. ej., literales de fecha: DATE 'YYYY-MM-DD').\n",
    "\n",
    "FORMATO DE SALIDA (obligatorio):\n",
    "- Devuelve únicamente la SQL en texto plano, comenzando exactamente por SELECT o WITH.\n",
    "\"\"\""
   ]
  },
  {
   "cell_type": "code",
   "execution_count": 19,
   "id": "24f32af9",
   "metadata": {},
   "outputs": [],
   "source": [
    "def build_user_prompt_compacta(user_query: str, last_error: Optional[str]) -> str:\n",
    "    repair = f\"\\nError previo del validador: {last_error}\\nCorrige la consulta para que sea válida y solo lectura.\" if last_error else \"\"\n",
    "    return f\"\"\"Intención del usuario:\n",
    "{user_query}\n",
    "{repair}\n",
    "\n",
    "Salida:\n",
    "- UNA sola sentencia SELECT/WITH válida para PostgreSQL.\n",
    "- Sin ';' final, sin explicaciones/Markdown, sin comentarios.\n",
    "- Evita SELECT *; usa columnas. Añade ORDER BY/LIMIT si aplica.\n",
    "\"\"\""
   ]
  },
  {
   "cell_type": "markdown",
   "id": "889aafea",
   "metadata": {},
   "source": [
    "VERSION INTERMEDIA"
   ]
  },
  {
   "cell_type": "code",
   "execution_count": 20,
   "id": "00e05c83",
   "metadata": {},
   "outputs": [],
   "source": [
    "def build_user_prompt_intermedia(user_query: str, last_error: Optional[str]) -> str:\n",
    "    repair = (\n",
    "        f\"\\n\\nMODO REPARACIÓN:\\n\"\n",
    "        f\"- La versión anterior NO validó.\\n\"\n",
    "        f\"- Error del validador: {last_error}\\n\"\n",
    "        f\"- Corrige la consulta para que sea sintácticamente válida en PostgreSQL y estrictamente de solo lectura.\"\n",
    "        if last_error else \"\"\n",
    "    )\n",
    "\n",
    "    return f\"\"\"Genera UNA consulta SQL para PostgreSQL a partir de la intención del usuario.\n",
    "\n",
    "INTENCIÓN DEL USUARIO:\n",
    "{user_query}\n",
    "{repair}\n",
    "\n",
    "REQUISITOS DE SALIDA:\n",
    "- Devuelve únicamente la SQL en texto plano, comenzando exactamente por SELECT o WITH.\n",
    "- Debe ser UNA sola sentencia (sin ';' final), de solo lectura y válida para PostgreSQL.\n",
    "- Evita SELECT *; enumera columnas. Añade ORDER BY / LIMIT si la intención lo pide.\n",
    "\"\"\""
   ]
  },
  {
   "cell_type": "markdown",
   "id": "1fba1790",
   "metadata": {},
   "source": [
    "**NODO GENERADOR:**"
   ]
  },
  {
   "cell_type": "code",
   "execution_count": 21,
   "id": "572b26f5",
   "metadata": {},
   "outputs": [],
   "source": [
    "def node_generate_sql(state: dict, llm) -> Dict:\n",
    "    # Feedback del último error (si lo hubo) \n",
    "    last_error = None\n",
    "    if not state[\"valid_query\"]:\n",
    "        last_error = state[\"error_msg\"]\n",
    "\n",
    "    system = SystemMessage(content=build_system_prompt(state.get(\"context\", \"\"),\n",
    "                                                       state.get(\"query_examples\", \"\")))\n",
    "    user = HumanMessage(content=build_user_prompt(state.get(\"user_query\", \"\"), last_error))\n",
    "\n",
    "    # Historial previo + turno actual\n",
    "    msgs_in = (state.get(\"messages\") or []) + [system, user]\n",
    "\n",
    "    # Generar SQL candidata \n",
    "    resp = llm.invoke(msgs_in)  # AIMessage\n",
    "    sql_candidate = extract_sql(getattr(resp, \"content\", \"\") or \"\")\n",
    "\n",
    "    # Validacion de sintaxis y read_only\n",
    "    dialect = state.get(\"dialect\", \"postgres\")\n",
    "    result = query_validator.invoke({\"query\": sql_candidate, \"dialect\": dialect})\n",
    "    ok = bool(result.get(\"ok\"))\n",
    "    err = result.get(\"error\")\n",
    "\n",
    "    # Actualizar contadores/state \n",
    "    attempt_increment = 1\n",
    "    notes = [f\"LLM generó SQL (chars={len(sql_candidate)}).\",\n",
    "             \"Validación OK\" if ok else f\"Validación falló: {err}\"]\n",
    "    \n",
    "    clean_sql = result.get(\"sql\", sql_candidate)\n",
    "\n",
    "    out: Dict = {\n",
    "        \"messages\": [system, user, resp],   # Guardamos los mensajes de esta iteración (traza)\n",
    "        \"sql_candidate\": sql_candidate or state.get(\"sql_candidate\", \"\"), # Última SQL propuesta por el LLM\n",
    "        \"valid_query\": ok, \n",
    "        \"error_msg\": err,\n",
    "        \"attempt\": attempt_increment, # Contador de intentos para el router\n",
    "        \"notes\": notes\n",
    "    }\n",
    "\n",
    "    # Si pasó la validación, fijamos la final\n",
    "    if ok:\n",
    "        out[\"sql_query\"] = clean_sql\n",
    "    return out"
   ]
  },
  {
   "cell_type": "markdown",
   "id": "18fa8310",
   "metadata": {},
   "source": [
    "### 4 "
   ]
  },
  {
   "cell_type": "code",
   "execution_count": 22,
   "id": "b8a1d1c4",
   "metadata": {},
   "outputs": [],
   "source": [
    "\"\"\" \n",
    "def node_finalize_success(state: State) -> Dict:\n",
    "    return {\"sql_query\": state.get(\"sql_query\", \"\"), \"notes\": [\"Finalizado con éxito\"]}\n",
    "\n",
    "def node_finalize_failure(state: State) -> Dict:\n",
    "    err = (state.get(\"validation\") or {}).get(\"error\", \"No se pudo obtener SQL válida.\")\n",
    "    return {\"sql_query\": None, \"notes\": [f\"Finalizado con error: {err}\"]}\n",
    "\"\"\"\n",
    "def router(state: QueryGeneratorState) -> str:\n",
    "    ok = state['valid_query']\n",
    "    attempts = state.get(\"attempt\", 0)\n",
    "    max_attempts = state.get(\"max_attempts\", 1)\n",
    "    print(f\"[router] ok={ok} attempts={attempts}/{max_attempts}\")\n",
    "    if ok:\n",
    "        return \"success\"\n",
    "    if attempts >= max_attempts:\n",
    "        return \"fail\"\n",
    "    return \"retry\""
   ]
  },
  {
   "cell_type": "markdown",
   "id": "7bdbf565",
   "metadata": {},
   "source": [
    "### 5. Contrucción del GRAFO"
   ]
  },
  {
   "cell_type": "markdown",
   "id": "5ee70e36",
   "metadata": {},
   "source": [
    "### GRAFO con la tool de ejemplos:"
   ]
  },
  {
   "cell_type": "code",
   "execution_count": null,
   "id": "a7a6f59e",
   "metadata": {},
   "outputs": [],
   "source": [
    "def build_subgraph_query_generator(llm):\n",
    "    graph = StateGraph(\n",
    "        state_schema= QueryGeneratorState,\n",
    "        input_schema= QueryGeneratorState,\n",
    "        output_schema= QueryGeneratorOutputState\n",
    "    )\n",
    "\n",
    "    graph.add_node(\"query_examples_retriever\", node_retrieve_query_examples)\n",
    "    graph.add_node(\"query_generator\", lambda s: node_generate_sql(s, llm))\n",
    "    #graph.add_node(\"finalize_success\", node_finalize_success)   # Este nodo seria el validador de QUERY (Jesus)\n",
    "    #graph.add_node(\"finalize_failure\", node_finalize_failure)   # Este nodo seria END comunicando que no se pudo generar una consulta valida\n",
    "\n",
    "    graph.add_edge(START, \"query_examples_retriever\")\n",
    "    graph.add_edge(\"query_examples_retriever\", \"query_generator\")\n",
    "\n",
    "    graph.add_conditional_edges(\n",
    "        \"query_generator\",\n",
    "        router,\n",
    "        {\n",
    "            \"retry\": \"query_generator\",          # vuelve a generarse (auto-realimentación)\n",
    "            \"success\": END,       # fija final_sql\n",
    "            \"fail\": END,          # termina con error\n",
    "        },\n",
    "    )\n",
    "\n",
    "\n",
    "    # Salidas a END\n",
    "    #graph.add_edge(\"finalize_success\", END)\n",
    "    #graph.add_edge(\"finalize_failure\", END)\n",
    "\n",
    "    return graph.compile()"
   ]
  },
  {
   "cell_type": "code",
   "execution_count": 24,
   "id": "5c92febd",
   "metadata": {},
   "outputs": [
    {
     "data": {
      "image/png": "[encoded data removed]",
      "text/plain": [
       "<langgraph.graph.state.CompiledStateGraph object at 0x11cf39350>"
      ]
     },
     "execution_count": 24,
     "metadata": {},
     "output_type": "execute_result"
    }
   ],
   "source": [
    "app = build_subgraph_query_generator(llm)\n",
    "app"
   ]
  },
  {
   "cell_type": "markdown",
   "id": "cd1195e7",
   "metadata": {},
   "source": [
    "## EJEMPLOS"
   ]
  },
  {
   "cell_type": "markdown",
   "id": "9d4836b5",
   "metadata": {},
   "source": [
    "### CReo el grafo PADRE:"
   ]
  },
  {
   "cell_type": "code",
   "execution_count": 27,
   "id": "6f5289a7",
   "metadata": {},
   "outputs": [
    {
     "name": "stdout",
     "output_type": "stream",
     "text": [
      "---QUERY EXAMPLES RETRIEVE TOOL---\n"
     ]
    },
    {
     "ename": "InternalError",
     "evalue": "Error executing plan: Internal error: Error finding id",
     "output_type": "error",
     "traceback": [
      "\u001b[31m---------------------------------------------------------------------------\u001b[39m",
      "\u001b[31mInternalError\u001b[39m                             Traceback (most recent call last)",
      "\u001b[36mCell\u001b[39m\u001b[36m \u001b[39m\u001b[32mIn[27]\u001b[39m\u001b[32m, line 28\u001b[39m\n\u001b[32m     20\u001b[39m parent_app = build_parent_graph(app)\n\u001b[32m     22\u001b[39m global_initial: State = {\n\u001b[32m     23\u001b[39m     \u001b[33m\"\u001b[39m\u001b[33mcontext\u001b[39m\u001b[33m\"\u001b[39m: \u001b[33m\"\u001b[39m\u001b[33mTablas:\u001b[39m\u001b[38;5;130;01m\\n\u001b[39;00m\u001b[33m  customers(id, name, country)\u001b[39m\u001b[38;5;130;01m\\n\u001b[39;00m\u001b[33m\"\u001b[39m,\n\u001b[32m     24\u001b[39m     \u001b[33m\"\u001b[39m\u001b[33muser_query\u001b[39m\u001b[33m\"\u001b[39m: \u001b[33m\"\u001b[39m\u001b[33mMuéstrame los 10 productos más vendidos para el B2B en el último trimestre, excluyendo los Accesorios. Mes a mes indica cuántas unidades se vendieron, y muestra también a qué categoría y subcategoría pertenecen\u001b[39m\u001b[33m\"\u001b[39m,\n\u001b[32m     25\u001b[39m     \u001b[33m\"\u001b[39m\u001b[33mlanguage\u001b[39m\u001b[33m\"\u001b[39m: \u001b[33m\"\u001b[39m\u001b[33mSpanish\u001b[39m\u001b[33m\"\u001b[39m\n\u001b[32m     26\u001b[39m }\n\u001b[32m---> \u001b[39m\u001b[32m28\u001b[39m \u001b[43mapp\u001b[49m\u001b[43m.\u001b[49m\u001b[43minvoke\u001b[49m\u001b[43m(\u001b[49m\u001b[43m{\u001b[49m\n\u001b[32m     29\u001b[39m \u001b[43m    \u001b[49m\u001b[33;43m\"\u001b[39;49m\u001b[33;43mcontext\u001b[39;49m\u001b[33;43m\"\u001b[39;49m\u001b[43m:\u001b[49m\u001b[43m \u001b[49m\u001b[33;43m\"\u001b[39;49m\u001b[33;43mTablas:\u001b[39;49m\u001b[38;5;130;43;01m\\n\u001b[39;49;00m\u001b[33;43m  customers(id, name, country)\u001b[39;49m\u001b[38;5;130;43;01m\\n\u001b[39;49;00m\u001b[33;43m\"\u001b[39;49m\u001b[43m,\u001b[49m\n\u001b[32m     30\u001b[39m \u001b[43m    \u001b[49m\u001b[33;43m\"\u001b[39;49m\u001b[33;43muser_query\u001b[39;49m\u001b[33;43m\"\u001b[39;49m\u001b[43m:\u001b[49m\u001b[43m \u001b[49m\u001b[33;43m\"\u001b[39;49m\u001b[33;43mMuéstrame los 10 productos más vendidos para el B2B en el último trimestre, excluyendo los Accesorios. Mes a mes indica cuántas unidades se vendieron, y muestra también a qué categoría y subcategoría pertenecen\u001b[39;49m\u001b[33;43m\"\u001b[39;49m\u001b[43m,\u001b[49m\n\u001b[32m     31\u001b[39m \u001b[43m    \u001b[49m\u001b[33;43m\"\u001b[39;49m\u001b[33;43mlanguage\u001b[39;49m\u001b[33;43m\"\u001b[39;49m\u001b[43m:\u001b[49m\u001b[43m \u001b[49m\u001b[33;43m\"\u001b[39;49m\u001b[33;43mSpanish\u001b[39;49m\u001b[33;43m\"\u001b[39;49m\n\u001b[32m     32\u001b[39m \u001b[43m}\u001b[49m\u001b[43m)\u001b[49m\n\u001b[32m     34\u001b[39m \u001b[38;5;66;03m#global_final = parent_app.invoke(global_initial, config={\"recursion_limit\": 50})\u001b[39;00m\n\u001b[32m     35\u001b[39m \u001b[38;5;66;03m#print(\"FINAL SQL (padre):\", global_final.get(\"sql_query\"))\u001b[39;00m\n",
      "\u001b[36mFile \u001b[39m\u001b[32m~/Documents/Master Big Data-IA-ML/TFM/ucm-tfm-grupo-4/.venv/lib/python3.11/site-packages/langgraph/pregel/main.py:3026\u001b[39m, in \u001b[36mPregel.invoke\u001b[39m\u001b[34m(self, input, config, context, stream_mode, print_mode, output_keys, interrupt_before, interrupt_after, durability, **kwargs)\u001b[39m\n\u001b[32m   3023\u001b[39m chunks: \u001b[38;5;28mlist\u001b[39m[\u001b[38;5;28mdict\u001b[39m[\u001b[38;5;28mstr\u001b[39m, Any] | Any] = []\n\u001b[32m   3024\u001b[39m interrupts: \u001b[38;5;28mlist\u001b[39m[Interrupt] = []\n\u001b[32m-> \u001b[39m\u001b[32m3026\u001b[39m \u001b[43m\u001b[49m\u001b[38;5;28;43;01mfor\u001b[39;49;00m\u001b[43m \u001b[49m\u001b[43mchunk\u001b[49m\u001b[43m \u001b[49m\u001b[38;5;129;43;01min\u001b[39;49;00m\u001b[43m \u001b[49m\u001b[38;5;28;43mself\u001b[39;49m\u001b[43m.\u001b[49m\u001b[43mstream\u001b[49m\u001b[43m(\u001b[49m\n\u001b[32m   3027\u001b[39m \u001b[43m    \u001b[49m\u001b[38;5;28;43minput\u001b[39;49m\u001b[43m,\u001b[49m\n\u001b[32m   3028\u001b[39m \u001b[43m    \u001b[49m\u001b[43mconfig\u001b[49m\u001b[43m,\u001b[49m\n\u001b[32m   3029\u001b[39m \u001b[43m    \u001b[49m\u001b[43mcontext\u001b[49m\u001b[43m=\u001b[49m\u001b[43mcontext\u001b[49m\u001b[43m,\u001b[49m\n\u001b[32m   3030\u001b[39m \u001b[43m    \u001b[49m\u001b[43mstream_mode\u001b[49m\u001b[43m=\u001b[49m\u001b[43m[\u001b[49m\u001b[33;43m\"\u001b[39;49m\u001b[33;43mupdates\u001b[39;49m\u001b[33;43m\"\u001b[39;49m\u001b[43m,\u001b[49m\u001b[43m \u001b[49m\u001b[33;43m\"\u001b[39;49m\u001b[33;43mvalues\u001b[39;49m\u001b[33;43m\"\u001b[39;49m\u001b[43m]\u001b[49m\n\u001b[32m   3031\u001b[39m \u001b[43m    \u001b[49m\u001b[38;5;28;43;01mif\u001b[39;49;00m\u001b[43m \u001b[49m\u001b[43mstream_mode\u001b[49m\u001b[43m \u001b[49m\u001b[43m==\u001b[49m\u001b[43m \u001b[49m\u001b[33;43m\"\u001b[39;49m\u001b[33;43mvalues\u001b[39;49m\u001b[33;43m\"\u001b[39;49m\n\u001b[32m   3032\u001b[39m \u001b[43m    \u001b[49m\u001b[38;5;28;43;01melse\u001b[39;49;00m\u001b[43m \u001b[49m\u001b[43mstream_mode\u001b[49m\u001b[43m,\u001b[49m\n\u001b[32m   3033\u001b[39m \u001b[43m    \u001b[49m\u001b[43mprint_mode\u001b[49m\u001b[43m=\u001b[49m\u001b[43mprint_mode\u001b[49m\u001b[43m,\u001b[49m\n\u001b[32m   3034\u001b[39m \u001b[43m    \u001b[49m\u001b[43moutput_keys\u001b[49m\u001b[43m=\u001b[49m\u001b[43moutput_keys\u001b[49m\u001b[43m,\u001b[49m\n\u001b[32m   3035\u001b[39m \u001b[43m    \u001b[49m\u001b[43minterrupt_before\u001b[49m\u001b[43m=\u001b[49m\u001b[43minterrupt_before\u001b[49m\u001b[43m,\u001b[49m\n\u001b[32m   3036\u001b[39m \u001b[43m    \u001b[49m\u001b[43minterrupt_after\u001b[49m\u001b[43m=\u001b[49m\u001b[43minterrupt_after\u001b[49m\u001b[43m,\u001b[49m\n\u001b[32m   3037\u001b[39m \u001b[43m    \u001b[49m\u001b[43mdurability\u001b[49m\u001b[43m=\u001b[49m\u001b[43mdurability\u001b[49m\u001b[43m,\u001b[49m\n\u001b[32m   3038\u001b[39m \u001b[43m    \u001b[49m\u001b[43m*\u001b[49m\u001b[43m*\u001b[49m\u001b[43mkwargs\u001b[49m\u001b[43m,\u001b[49m\n\u001b[32m   3039\u001b[39m \u001b[43m\u001b[49m\u001b[43m)\u001b[49m\u001b[43m:\u001b[49m\n\u001b[32m   3040\u001b[39m \u001b[43m    \u001b[49m\u001b[38;5;28;43;01mif\u001b[39;49;00m\u001b[43m \u001b[49m\u001b[43mstream_mode\u001b[49m\u001b[43m \u001b[49m\u001b[43m==\u001b[49m\u001b[43m \u001b[49m\u001b[33;43m\"\u001b[39;49m\u001b[33;43mvalues\u001b[39;49m\u001b[33;43m\"\u001b[39;49m\u001b[43m:\u001b[49m\n\u001b[32m   3041\u001b[39m \u001b[43m        \u001b[49m\u001b[38;5;28;43;01mif\u001b[39;49;00m\u001b[43m \u001b[49m\u001b[38;5;28;43mlen\u001b[39;49m\u001b[43m(\u001b[49m\u001b[43mchunk\u001b[49m\u001b[43m)\u001b[49m\u001b[43m \u001b[49m\u001b[43m==\u001b[49m\u001b[43m \u001b[49m\u001b[32;43m2\u001b[39;49m\u001b[43m:\u001b[49m\n",
      "\u001b[36mFile \u001b[39m\u001b[32m~/Documents/Master Big Data-IA-ML/TFM/ucm-tfm-grupo-4/.venv/lib/python3.11/site-packages/langgraph/pregel/main.py:2647\u001b[39m, in \u001b[36mPregel.stream\u001b[39m\u001b[34m(self, input, config, context, stream_mode, print_mode, output_keys, interrupt_before, interrupt_after, durability, subgraphs, debug, **kwargs)\u001b[39m\n\u001b[32m   2645\u001b[39m \u001b[38;5;28;01mfor\u001b[39;00m task \u001b[38;5;129;01min\u001b[39;00m loop.match_cached_writes():\n\u001b[32m   2646\u001b[39m     loop.output_writes(task.id, task.writes, cached=\u001b[38;5;28;01mTrue\u001b[39;00m)\n\u001b[32m-> \u001b[39m\u001b[32m2647\u001b[39m \u001b[43m\u001b[49m\u001b[38;5;28;43;01mfor\u001b[39;49;00m\u001b[43m \u001b[49m\u001b[43m_\u001b[49m\u001b[43m \u001b[49m\u001b[38;5;129;43;01min\u001b[39;49;00m\u001b[43m \u001b[49m\u001b[43mrunner\u001b[49m\u001b[43m.\u001b[49m\u001b[43mtick\u001b[49m\u001b[43m(\u001b[49m\n\u001b[32m   2648\u001b[39m \u001b[43m    \u001b[49m\u001b[43m[\u001b[49m\u001b[43mt\u001b[49m\u001b[43m \u001b[49m\u001b[38;5;28;43;01mfor\u001b[39;49;00m\u001b[43m \u001b[49m\u001b[43mt\u001b[49m\u001b[43m \u001b[49m\u001b[38;5;129;43;01min\u001b[39;49;00m\u001b[43m \u001b[49m\u001b[43mloop\u001b[49m\u001b[43m.\u001b[49m\u001b[43mtasks\u001b[49m\u001b[43m.\u001b[49m\u001b[43mvalues\u001b[49m\u001b[43m(\u001b[49m\u001b[43m)\u001b[49m\u001b[43m \u001b[49m\u001b[38;5;28;43;01mif\u001b[39;49;00m\u001b[43m \u001b[49m\u001b[38;5;129;43;01mnot\u001b[39;49;00m\u001b[43m \u001b[49m\u001b[43mt\u001b[49m\u001b[43m.\u001b[49m\u001b[43mwrites\u001b[49m\u001b[43m]\u001b[49m\u001b[43m,\u001b[49m\n\u001b[32m   2649\u001b[39m \u001b[43m    \u001b[49m\u001b[43mtimeout\u001b[49m\u001b[43m=\u001b[49m\u001b[38;5;28;43mself\u001b[39;49m\u001b[43m.\u001b[49m\u001b[43mstep_timeout\u001b[49m\u001b[43m,\u001b[49m\n\u001b[32m   2650\u001b[39m \u001b[43m    \u001b[49m\u001b[43mget_waiter\u001b[49m\u001b[43m=\u001b[49m\u001b[43mget_waiter\u001b[49m\u001b[43m,\u001b[49m\n\u001b[32m   2651\u001b[39m \u001b[43m    \u001b[49m\u001b[43mschedule_task\u001b[49m\u001b[43m=\u001b[49m\u001b[43mloop\u001b[49m\u001b[43m.\u001b[49m\u001b[43maccept_push\u001b[49m\u001b[43m,\u001b[49m\n\u001b[32m   2652\u001b[39m \u001b[43m\u001b[49m\u001b[43m)\u001b[49m\u001b[43m:\u001b[49m\n\u001b[32m   2653\u001b[39m \u001b[43m    \u001b[49m\u001b[38;5;66;43;03m# emit output\u001b[39;49;00m\n\u001b[32m   2654\u001b[39m \u001b[43m    \u001b[49m\u001b[38;5;28;43;01myield from\u001b[39;49;00m\u001b[43m \u001b[49m\u001b[43m_output\u001b[49m\u001b[43m(\u001b[49m\n\u001b[32m   2655\u001b[39m \u001b[43m        \u001b[49m\u001b[43mstream_mode\u001b[49m\u001b[43m,\u001b[49m\u001b[43m \u001b[49m\u001b[43mprint_mode\u001b[49m\u001b[43m,\u001b[49m\u001b[43m \u001b[49m\u001b[43msubgraphs\u001b[49m\u001b[43m,\u001b[49m\u001b[43m \u001b[49m\u001b[43mstream\u001b[49m\u001b[43m.\u001b[49m\u001b[43mget\u001b[49m\u001b[43m,\u001b[49m\u001b[43m \u001b[49m\u001b[43mqueue\u001b[49m\u001b[43m.\u001b[49m\u001b[43mEmpty\u001b[49m\n\u001b[32m   2656\u001b[39m \u001b[43m    \u001b[49m\u001b[43m)\u001b[49m\n\u001b[32m   2657\u001b[39m loop.after_tick()\n",
      "\u001b[36mFile \u001b[39m\u001b[32m~/Documents/Master Big Data-IA-ML/TFM/ucm-tfm-grupo-4/.venv/lib/python3.11/site-packages/langgraph/pregel/_runner.py:162\u001b[39m, in \u001b[36mPregelRunner.tick\u001b[39m\u001b[34m(self, tasks, reraise, timeout, retry_policy, get_waiter, schedule_task)\u001b[39m\n\u001b[32m    160\u001b[39m t = tasks[\u001b[32m0\u001b[39m]\n\u001b[32m    161\u001b[39m \u001b[38;5;28;01mtry\u001b[39;00m:\n\u001b[32m--> \u001b[39m\u001b[32m162\u001b[39m     \u001b[43mrun_with_retry\u001b[49m\u001b[43m(\u001b[49m\n\u001b[32m    163\u001b[39m \u001b[43m        \u001b[49m\u001b[43mt\u001b[49m\u001b[43m,\u001b[49m\n\u001b[32m    164\u001b[39m \u001b[43m        \u001b[49m\u001b[43mretry_policy\u001b[49m\u001b[43m,\u001b[49m\n\u001b[32m    165\u001b[39m \u001b[43m        \u001b[49m\u001b[43mconfigurable\u001b[49m\u001b[43m=\u001b[49m\u001b[43m{\u001b[49m\n\u001b[32m    166\u001b[39m \u001b[43m            \u001b[49m\u001b[43mCONFIG_KEY_CALL\u001b[49m\u001b[43m:\u001b[49m\u001b[43m \u001b[49m\u001b[43mpartial\u001b[49m\u001b[43m(\u001b[49m\n\u001b[32m    167\u001b[39m \u001b[43m                \u001b[49m\u001b[43m_call\u001b[49m\u001b[43m,\u001b[49m\n\u001b[32m    168\u001b[39m \u001b[43m                \u001b[49m\u001b[43mweakref\u001b[49m\u001b[43m.\u001b[49m\u001b[43mref\u001b[49m\u001b[43m(\u001b[49m\u001b[43mt\u001b[49m\u001b[43m)\u001b[49m\u001b[43m,\u001b[49m\n\u001b[32m    169\u001b[39m \u001b[43m                \u001b[49m\u001b[43mretry_policy\u001b[49m\u001b[43m=\u001b[49m\u001b[43mretry_policy\u001b[49m\u001b[43m,\u001b[49m\n\u001b[32m    170\u001b[39m \u001b[43m                \u001b[49m\u001b[43mfutures\u001b[49m\u001b[43m=\u001b[49m\u001b[43mweakref\u001b[49m\u001b[43m.\u001b[49m\u001b[43mref\u001b[49m\u001b[43m(\u001b[49m\u001b[43mfutures\u001b[49m\u001b[43m)\u001b[49m\u001b[43m,\u001b[49m\n\u001b[32m    171\u001b[39m \u001b[43m                \u001b[49m\u001b[43mschedule_task\u001b[49m\u001b[43m=\u001b[49m\u001b[43mschedule_task\u001b[49m\u001b[43m,\u001b[49m\n\u001b[32m    172\u001b[39m \u001b[43m                \u001b[49m\u001b[43msubmit\u001b[49m\u001b[43m=\u001b[49m\u001b[38;5;28;43mself\u001b[39;49m\u001b[43m.\u001b[49m\u001b[43msubmit\u001b[49m\u001b[43m,\u001b[49m\n\u001b[32m    173\u001b[39m \u001b[43m            \u001b[49m\u001b[43m)\u001b[49m\u001b[43m,\u001b[49m\n\u001b[32m    174\u001b[39m \u001b[43m        \u001b[49m\u001b[43m}\u001b[49m\u001b[43m,\u001b[49m\n\u001b[32m    175\u001b[39m \u001b[43m    \u001b[49m\u001b[43m)\u001b[49m\n\u001b[32m    176\u001b[39m     \u001b[38;5;28mself\u001b[39m.commit(t, \u001b[38;5;28;01mNone\u001b[39;00m)\n\u001b[32m    177\u001b[39m \u001b[38;5;28;01mexcept\u001b[39;00m \u001b[38;5;167;01mException\u001b[39;00m \u001b[38;5;28;01mas\u001b[39;00m exc:\n",
      "\u001b[36mFile \u001b[39m\u001b[32m~/Documents/Master Big Data-IA-ML/TFM/ucm-tfm-grupo-4/.venv/lib/python3.11/site-packages/langgraph/pregel/_retry.py:42\u001b[39m, in \u001b[36mrun_with_retry\u001b[39m\u001b[34m(task, retry_policy, configurable)\u001b[39m\n\u001b[32m     40\u001b[39m     task.writes.clear()\n\u001b[32m     41\u001b[39m     \u001b[38;5;66;03m# run the task\u001b[39;00m\n\u001b[32m---> \u001b[39m\u001b[32m42\u001b[39m     \u001b[38;5;28;01mreturn\u001b[39;00m \u001b[43mtask\u001b[49m\u001b[43m.\u001b[49m\u001b[43mproc\u001b[49m\u001b[43m.\u001b[49m\u001b[43minvoke\u001b[49m\u001b[43m(\u001b[49m\u001b[43mtask\u001b[49m\u001b[43m.\u001b[49m\u001b[43minput\u001b[49m\u001b[43m,\u001b[49m\u001b[43m \u001b[49m\u001b[43mconfig\u001b[49m\u001b[43m)\u001b[49m\n\u001b[32m     43\u001b[39m \u001b[38;5;28;01mexcept\u001b[39;00m ParentCommand \u001b[38;5;28;01mas\u001b[39;00m exc:\n\u001b[32m     44\u001b[39m     ns: \u001b[38;5;28mstr\u001b[39m = config[CONF][CONFIG_KEY_CHECKPOINT_NS]\n",
      "\u001b[36mFile \u001b[39m\u001b[32m~/Documents/Master Big Data-IA-ML/TFM/ucm-tfm-grupo-4/.venv/lib/python3.11/site-packages/langgraph/_internal/_runnable.py:657\u001b[39m, in \u001b[36mRunnableSeq.invoke\u001b[39m\u001b[34m(self, input, config, **kwargs)\u001b[39m\n\u001b[32m    655\u001b[39m     \u001b[38;5;66;03m# run in context\u001b[39;00m\n\u001b[32m    656\u001b[39m     \u001b[38;5;28;01mwith\u001b[39;00m set_config_context(config, run) \u001b[38;5;28;01mas\u001b[39;00m context:\n\u001b[32m--> \u001b[39m\u001b[32m657\u001b[39m         \u001b[38;5;28minput\u001b[39m = \u001b[43mcontext\u001b[49m\u001b[43m.\u001b[49m\u001b[43mrun\u001b[49m\u001b[43m(\u001b[49m\u001b[43mstep\u001b[49m\u001b[43m.\u001b[49m\u001b[43minvoke\u001b[49m\u001b[43m,\u001b[49m\u001b[43m \u001b[49m\u001b[38;5;28;43minput\u001b[39;49m\u001b[43m,\u001b[49m\u001b[43m \u001b[49m\u001b[43mconfig\u001b[49m\u001b[43m,\u001b[49m\u001b[43m \u001b[49m\u001b[43m*\u001b[49m\u001b[43m*\u001b[49m\u001b[43mkwargs\u001b[49m\u001b[43m)\u001b[49m\n\u001b[32m    658\u001b[39m \u001b[38;5;28;01melse\u001b[39;00m:\n\u001b[32m    659\u001b[39m     \u001b[38;5;28minput\u001b[39m = step.invoke(\u001b[38;5;28minput\u001b[39m, config)\n",
      "\u001b[36mFile \u001b[39m\u001b[32m~/Documents/Master Big Data-IA-ML/TFM/ucm-tfm-grupo-4/.venv/lib/python3.11/site-packages/langgraph/_internal/_runnable.py:401\u001b[39m, in \u001b[36mRunnableCallable.invoke\u001b[39m\u001b[34m(self, input, config, **kwargs)\u001b[39m\n\u001b[32m    399\u001b[39m         run_manager.on_chain_end(ret)\n\u001b[32m    400\u001b[39m \u001b[38;5;28;01melse\u001b[39;00m:\n\u001b[32m--> \u001b[39m\u001b[32m401\u001b[39m     ret = \u001b[38;5;28;43mself\u001b[39;49m\u001b[43m.\u001b[49m\u001b[43mfunc\u001b[49m\u001b[43m(\u001b[49m\u001b[43m*\u001b[49m\u001b[43margs\u001b[49m\u001b[43m,\u001b[49m\u001b[43m \u001b[49m\u001b[43m*\u001b[49m\u001b[43m*\u001b[49m\u001b[43mkwargs\u001b[49m\u001b[43m)\u001b[49m\n\u001b[32m    402\u001b[39m \u001b[38;5;28;01mif\u001b[39;00m \u001b[38;5;28mself\u001b[39m.recurse \u001b[38;5;129;01mand\u001b[39;00m \u001b[38;5;28misinstance\u001b[39m(ret, Runnable):\n\u001b[32m    403\u001b[39m     \u001b[38;5;28;01mreturn\u001b[39;00m ret.invoke(\u001b[38;5;28minput\u001b[39m, config)\n",
      "\u001b[36mCell\u001b[39m\u001b[36m \u001b[39m\u001b[32mIn[11]\u001b[39m\u001b[32m, line 21\u001b[39m, in \u001b[36mnode_retrieve_query_examples\u001b[39m\u001b[34m(state)\u001b[39m\n\u001b[32m     14\u001b[39m LANGUAGE_DICT = {\n\u001b[32m     15\u001b[39m \t\u001b[33m'\u001b[39m\u001b[33mSPANISH\u001b[39m\u001b[33m'\u001b[39m: \u001b[33m'\u001b[39m\u001b[33mES\u001b[39m\u001b[33m'\u001b[39m,\n\u001b[32m     16\u001b[39m     \u001b[33m'\u001b[39m\u001b[33mENGLISH\u001b[39m\u001b[33m'\u001b[39m: \u001b[33m'\u001b[39m\u001b[33mEN\u001b[39m\u001b[33m'\u001b[39m\n\u001b[32m     17\u001b[39m }\n\u001b[32m     19\u001b[39m language_filter = LANGUAGE_DICT.get(language)\n\u001b[32m---> \u001b[39m\u001b[32m21\u001b[39m retrieval_results = \u001b[43mget_query_examples\u001b[49m\u001b[43m.\u001b[49m\u001b[43minvoke\u001b[49m\u001b[43m(\u001b[49m\u001b[38;5;28;43minput\u001b[39;49m\u001b[43m=\u001b[49m\u001b[43m \u001b[49m\u001b[43m{\u001b[49m\u001b[33;43m'\u001b[39;49m\u001b[33;43mquery\u001b[39;49m\u001b[33;43m'\u001b[39;49m\u001b[43m:\u001b[49m\u001b[43m[\u001b[49m\u001b[43mquery\u001b[49m\u001b[43m]\u001b[49m\u001b[43m,\u001b[49m\u001b[43m \u001b[49m\u001b[33;43m'\u001b[39;49m\u001b[33;43mlanguage\u001b[39;49m\u001b[33;43m'\u001b[39;49m\u001b[43m:\u001b[49m\u001b[43mlanguage_filter\u001b[49m\u001b[43m}\u001b[49m\u001b[43m)\u001b[49m\n\u001b[32m     23\u001b[39m \u001b[38;5;28;01mreturn\u001b[39;00m {\n\u001b[32m     24\u001b[39m     \u001b[33m'\u001b[39m\u001b[33mquery_examples\u001b[39m\u001b[33m'\u001b[39m: retrieval_results\n\u001b[32m     25\u001b[39m }\n",
      "\u001b[36mFile \u001b[39m\u001b[32m~/Documents/Master Big Data-IA-ML/TFM/ucm-tfm-grupo-4/.venv/lib/python3.11/site-packages/langchain_core/tools/base.py:604\u001b[39m, in \u001b[36mBaseTool.invoke\u001b[39m\u001b[34m(self, input, config, **kwargs)\u001b[39m\n\u001b[32m    596\u001b[39m \u001b[38;5;129m@override\u001b[39m\n\u001b[32m    597\u001b[39m \u001b[38;5;28;01mdef\u001b[39;00m\u001b[38;5;250m \u001b[39m\u001b[34minvoke\u001b[39m(\n\u001b[32m    598\u001b[39m     \u001b[38;5;28mself\u001b[39m,\n\u001b[32m   (...)\u001b[39m\u001b[32m    601\u001b[39m     **kwargs: Any,\n\u001b[32m    602\u001b[39m ) -> Any:\n\u001b[32m    603\u001b[39m     tool_input, kwargs = _prep_run_args(\u001b[38;5;28minput\u001b[39m, config, **kwargs)\n\u001b[32m--> \u001b[39m\u001b[32m604\u001b[39m     \u001b[38;5;28;01mreturn\u001b[39;00m \u001b[38;5;28;43mself\u001b[39;49m\u001b[43m.\u001b[49m\u001b[43mrun\u001b[49m\u001b[43m(\u001b[49m\u001b[43mtool_input\u001b[49m\u001b[43m,\u001b[49m\u001b[43m \u001b[49m\u001b[43m*\u001b[49m\u001b[43m*\u001b[49m\u001b[43mkwargs\u001b[49m\u001b[43m)\u001b[49m\n",
      "\u001b[36mFile \u001b[39m\u001b[32m~/Documents/Master Big Data-IA-ML/TFM/ucm-tfm-grupo-4/.venv/lib/python3.11/site-packages/langchain_core/tools/base.py:888\u001b[39m, in \u001b[36mBaseTool.run\u001b[39m\u001b[34m(self, tool_input, verbose, start_color, color, callbacks, tags, metadata, run_name, run_id, config, tool_call_id, **kwargs)\u001b[39m\n\u001b[32m    886\u001b[39m \u001b[38;5;28;01mif\u001b[39;00m error_to_raise:\n\u001b[32m    887\u001b[39m     run_manager.on_tool_error(error_to_raise)\n\u001b[32m--> \u001b[39m\u001b[32m888\u001b[39m     \u001b[38;5;28;01mraise\u001b[39;00m error_to_raise\n\u001b[32m    889\u001b[39m output = _format_output(content, artifact, tool_call_id, \u001b[38;5;28mself\u001b[39m.name, status)\n\u001b[32m    890\u001b[39m run_manager.on_tool_end(output, color=color, name=\u001b[38;5;28mself\u001b[39m.name, **kwargs)\n",
      "\u001b[36mFile \u001b[39m\u001b[32m~/Documents/Master Big Data-IA-ML/TFM/ucm-tfm-grupo-4/.venv/lib/python3.11/site-packages/langchain_core/tools/base.py:857\u001b[39m, in \u001b[36mBaseTool.run\u001b[39m\u001b[34m(self, tool_input, verbose, start_color, color, callbacks, tags, metadata, run_name, run_id, config, tool_call_id, **kwargs)\u001b[39m\n\u001b[32m    855\u001b[39m     \u001b[38;5;28;01mif\u001b[39;00m config_param := _get_runnable_config_param(\u001b[38;5;28mself\u001b[39m._run):\n\u001b[32m    856\u001b[39m         tool_kwargs |= {config_param: config}\n\u001b[32m--> \u001b[39m\u001b[32m857\u001b[39m     response = \u001b[43mcontext\u001b[49m\u001b[43m.\u001b[49m\u001b[43mrun\u001b[49m\u001b[43m(\u001b[49m\u001b[38;5;28;43mself\u001b[39;49m\u001b[43m.\u001b[49m\u001b[43m_run\u001b[49m\u001b[43m,\u001b[49m\u001b[43m \u001b[49m\u001b[43m*\u001b[49m\u001b[43mtool_args\u001b[49m\u001b[43m,\u001b[49m\u001b[43m \u001b[49m\u001b[43m*\u001b[49m\u001b[43m*\u001b[49m\u001b[43mtool_kwargs\u001b[49m\u001b[43m)\u001b[49m\n\u001b[32m    858\u001b[39m \u001b[38;5;28;01mif\u001b[39;00m \u001b[38;5;28mself\u001b[39m.response_format == \u001b[33m\"\u001b[39m\u001b[33mcontent_and_artifact\u001b[39m\u001b[33m\"\u001b[39m:\n\u001b[32m    859\u001b[39m     \u001b[38;5;28;01mif\u001b[39;00m \u001b[38;5;129;01mnot\u001b[39;00m \u001b[38;5;28misinstance\u001b[39m(response, \u001b[38;5;28mtuple\u001b[39m) \u001b[38;5;129;01mor\u001b[39;00m \u001b[38;5;28mlen\u001b[39m(response) != \u001b[32m2\u001b[39m:\n",
      "\u001b[36mFile \u001b[39m\u001b[32m~/Documents/Master Big Data-IA-ML/TFM/ucm-tfm-grupo-4/.venv/lib/python3.11/site-packages/langchain_core/tools/structured.py:93\u001b[39m, in \u001b[36mStructuredTool._run\u001b[39m\u001b[34m(self, config, run_manager, *args, **kwargs)\u001b[39m\n\u001b[32m     91\u001b[39m     \u001b[38;5;28;01mif\u001b[39;00m config_param := _get_runnable_config_param(\u001b[38;5;28mself\u001b[39m.func):\n\u001b[32m     92\u001b[39m         kwargs[config_param] = config\n\u001b[32m---> \u001b[39m\u001b[32m93\u001b[39m     \u001b[38;5;28;01mreturn\u001b[39;00m \u001b[38;5;28;43mself\u001b[39;49m\u001b[43m.\u001b[49m\u001b[43mfunc\u001b[49m\u001b[43m(\u001b[49m\u001b[43m*\u001b[49m\u001b[43margs\u001b[49m\u001b[43m,\u001b[49m\u001b[43m \u001b[49m\u001b[43m*\u001b[49m\u001b[43m*\u001b[49m\u001b[43mkwargs\u001b[49m\u001b[43m)\u001b[49m\n\u001b[32m     94\u001b[39m msg = \u001b[33m\"\u001b[39m\u001b[33mStructuredTool does not support sync invocation.\u001b[39m\u001b[33m\"\u001b[39m\n\u001b[32m     95\u001b[39m \u001b[38;5;28;01mraise\u001b[39;00m \u001b[38;5;167;01mNotImplementedError\u001b[39;00m(msg)\n",
      "\u001b[36mCell\u001b[39m\u001b[36m \u001b[39m\u001b[32mIn[10]\u001b[39m\u001b[32m, line 25\u001b[39m, in \u001b[36mget_query_examples\u001b[39m\u001b[34m(query, language)\u001b[39m\n\u001b[32m     22\u001b[39m \u001b[38;5;28;01mif\u001b[39;00m language:\n\u001b[32m     23\u001b[39m     \u001b[38;5;28mfilter\u001b[39m = {\u001b[33m'\u001b[39m\u001b[33mlanguage\u001b[39m\u001b[33m'\u001b[39m: language}\n\u001b[32m---> \u001b[39m\u001b[32m25\u001b[39m search_results = \u001b[43mquery_examples_collection\u001b[49m\u001b[43m.\u001b[49m\u001b[43msearch\u001b[49m\u001b[43m(\u001b[49m\n\u001b[32m     26\u001b[39m \u001b[43m    \u001b[49m\u001b[43mqueries\u001b[49m\u001b[43m \u001b[49m\u001b[43m=\u001b[49m\u001b[43m \u001b[49m\u001b[43mquery\u001b[49m\u001b[43m,\u001b[49m\n\u001b[32m     27\u001b[39m \u001b[43m    \u001b[49m\u001b[43msearch_type\u001b[49m\u001b[43m \u001b[49m\u001b[43m=\u001b[49m\u001b[43m \u001b[49m\u001b[33;43m'\u001b[39;49m\u001b[33;43msimilarity_score_threshold\u001b[39;49m\u001b[33;43m'\u001b[39;49m\u001b[43m,\u001b[49m\n\u001b[32m     28\u001b[39m \u001b[43m    \u001b[49m\u001b[43mk\u001b[49m\u001b[43m \u001b[49m\u001b[43m=\u001b[49m\u001b[43m \u001b[49m\u001b[32;43m2\u001b[39;49m\u001b[43m,\u001b[49m\n\u001b[32m     29\u001b[39m \u001b[43m    \u001b[49m\u001b[38;5;28;43mfilter\u001b[39;49m\u001b[43m \u001b[49m\u001b[43m=\u001b[49m\u001b[43m \u001b[49m\u001b[38;5;28;43mfilter\u001b[39;49m\u001b[43m     \u001b[49m\u001b[38;5;66;43;03m# Agrego filtro por idioma a la busqueda de Chroma\u001b[39;49;00m\n\u001b[32m     30\u001b[39m \u001b[43m\u001b[49m\u001b[43m)\u001b[49m\n\u001b[32m     32\u001b[39m \u001b[38;5;28;01mif\u001b[39;00m \u001b[38;5;129;01mnot\u001b[39;00m search_results:\n\u001b[32m     33\u001b[39m     \u001b[38;5;28;01mreturn\u001b[39;00m \u001b[33m'\u001b[39m\u001b[33mNo semantically relevant results were found for the specified queries.\u001b[39m\u001b[33m'\u001b[39m\n",
      "\u001b[36mFile \u001b[39m\u001b[32m~/Documents/Master Big Data-IA-ML/TFM/ucm-tfm-grupo-4/src/back/chroma_collections/base.py:334\u001b[39m, in \u001b[36mExtendedChromaCollection.search\u001b[39m\u001b[34m(self, queries, search_type, merge_results, **kwargs)\u001b[39m\n\u001b[32m    328\u001b[39m     results = [\n\u001b[32m    329\u001b[39m         \u001b[38;5;28mself\u001b[39m._chroma_vectorstore.similarity_search(query, **kwargs)\n\u001b[32m    330\u001b[39m         \u001b[38;5;28;01mfor\u001b[39;00m query \u001b[38;5;129;01min\u001b[39;00m _queries\n\u001b[32m    331\u001b[39m     ]\n\u001b[32m    333\u001b[39m \u001b[38;5;28;01melif\u001b[39;00m search_type == \u001b[33m\"\u001b[39m\u001b[33msimilarity_score_threshold\u001b[39m\u001b[33m\"\u001b[39m:\n\u001b[32m--> \u001b[39m\u001b[32m334\u001b[39m     results = \u001b[43m[\u001b[49m\n\u001b[32m    335\u001b[39m \u001b[43m        \u001b[49m\u001b[38;5;28;43mself\u001b[39;49m\u001b[43m.\u001b[49m\u001b[43m_chroma_vectorstore\u001b[49m\u001b[43m.\u001b[49m\u001b[43msimilarity_search_with_relevance_scores\u001b[49m\u001b[43m(\u001b[49m\u001b[43mquery\u001b[49m\u001b[43m,\u001b[49m\u001b[43m \u001b[49m\u001b[43m*\u001b[49m\u001b[43m*\u001b[49m\u001b[43mkwargs\u001b[49m\u001b[43m)\u001b[49m\n\u001b[32m    336\u001b[39m \u001b[43m        \u001b[49m\u001b[38;5;28;43;01mfor\u001b[39;49;00m\u001b[43m \u001b[49m\u001b[43mquery\u001b[49m\u001b[43m \u001b[49m\u001b[38;5;129;43;01min\u001b[39;49;00m\u001b[43m \u001b[49m\u001b[43m_queries\u001b[49m\n\u001b[32m    337\u001b[39m \u001b[43m    \u001b[49m\u001b[43m]\u001b[49m\n\u001b[32m    339\u001b[39m \u001b[38;5;28;01melif\u001b[39;00m search_type == \u001b[33m\"\u001b[39m\u001b[33mmmr\u001b[39m\u001b[33m\"\u001b[39m:\n\u001b[32m    340\u001b[39m     results = [\n\u001b[32m    341\u001b[39m         \u001b[38;5;28mself\u001b[39m._chroma_vectorstore.max_marginal_relevance_search(query, **kwargs)\n\u001b[32m    342\u001b[39m         \u001b[38;5;28;01mfor\u001b[39;00m query \u001b[38;5;129;01min\u001b[39;00m _queries\n\u001b[32m    343\u001b[39m     ]\n",
      "\u001b[36mFile \u001b[39m\u001b[32m~/Documents/Master Big Data-IA-ML/TFM/ucm-tfm-grupo-4/src/back/chroma_collections/base.py:335\u001b[39m, in \u001b[36m<listcomp>\u001b[39m\u001b[34m(.0)\u001b[39m\n\u001b[32m    328\u001b[39m     results = [\n\u001b[32m    329\u001b[39m         \u001b[38;5;28mself\u001b[39m._chroma_vectorstore.similarity_search(query, **kwargs)\n\u001b[32m    330\u001b[39m         \u001b[38;5;28;01mfor\u001b[39;00m query \u001b[38;5;129;01min\u001b[39;00m _queries\n\u001b[32m    331\u001b[39m     ]\n\u001b[32m    333\u001b[39m \u001b[38;5;28;01melif\u001b[39;00m search_type == \u001b[33m\"\u001b[39m\u001b[33msimilarity_score_threshold\u001b[39m\u001b[33m\"\u001b[39m:\n\u001b[32m    334\u001b[39m     results = [\n\u001b[32m--> \u001b[39m\u001b[32m335\u001b[39m         \u001b[38;5;28;43mself\u001b[39;49m\u001b[43m.\u001b[49m\u001b[43m_chroma_vectorstore\u001b[49m\u001b[43m.\u001b[49m\u001b[43msimilarity_search_with_relevance_scores\u001b[49m\u001b[43m(\u001b[49m\u001b[43mquery\u001b[49m\u001b[43m,\u001b[49m\u001b[43m \u001b[49m\u001b[43m*\u001b[49m\u001b[43m*\u001b[49m\u001b[43mkwargs\u001b[49m\u001b[43m)\u001b[49m\n\u001b[32m    336\u001b[39m         \u001b[38;5;28;01mfor\u001b[39;00m query \u001b[38;5;129;01min\u001b[39;00m _queries\n\u001b[32m    337\u001b[39m     ]\n\u001b[32m    339\u001b[39m \u001b[38;5;28;01melif\u001b[39;00m search_type == \u001b[33m\"\u001b[39m\u001b[33mmmr\u001b[39m\u001b[33m\"\u001b[39m:\n\u001b[32m    340\u001b[39m     results = [\n\u001b[32m    341\u001b[39m         \u001b[38;5;28mself\u001b[39m._chroma_vectorstore.max_marginal_relevance_search(query, **kwargs)\n\u001b[32m    342\u001b[39m         \u001b[38;5;28;01mfor\u001b[39;00m query \u001b[38;5;129;01min\u001b[39;00m _queries\n\u001b[32m    343\u001b[39m     ]\n",
      "\u001b[36mFile \u001b[39m\u001b[32m~/Documents/Master Big Data-IA-ML/TFM/ucm-tfm-grupo-4/.venv/lib/python3.11/site-packages/langchain_core/vectorstores/base.py:556\u001b[39m, in \u001b[36mVectorStore.similarity_search_with_relevance_scores\u001b[39m\u001b[34m(self, query, k, **kwargs)\u001b[39m\n\u001b[32m    540\u001b[39m \u001b[38;5;250m\u001b[39m\u001b[33;03m\"\"\"Return docs and relevance scores in the range [0, 1].\u001b[39;00m\n\u001b[32m    541\u001b[39m \n\u001b[32m    542\u001b[39m \u001b[33;03m0 is dissimilar, 1 is most similar.\u001b[39;00m\n\u001b[32m   (...)\u001b[39m\u001b[32m    552\u001b[39m \u001b[33;03m    List of Tuples of (doc, similarity_score).\u001b[39;00m\n\u001b[32m    553\u001b[39m \u001b[33;03m\"\"\"\u001b[39;00m\n\u001b[32m    554\u001b[39m score_threshold = kwargs.pop(\u001b[33m\"\u001b[39m\u001b[33mscore_threshold\u001b[39m\u001b[33m\"\u001b[39m, \u001b[38;5;28;01mNone\u001b[39;00m)\n\u001b[32m--> \u001b[39m\u001b[32m556\u001b[39m docs_and_similarities = \u001b[38;5;28;43mself\u001b[39;49m\u001b[43m.\u001b[49m\u001b[43m_similarity_search_with_relevance_scores\u001b[49m\u001b[43m(\u001b[49m\n\u001b[32m    557\u001b[39m \u001b[43m    \u001b[49m\u001b[43mquery\u001b[49m\u001b[43m,\u001b[49m\u001b[43m \u001b[49m\u001b[43mk\u001b[49m\u001b[43m=\u001b[49m\u001b[43mk\u001b[49m\u001b[43m,\u001b[49m\u001b[43m \u001b[49m\u001b[43m*\u001b[49m\u001b[43m*\u001b[49m\u001b[43mkwargs\u001b[49m\n\u001b[32m    558\u001b[39m \u001b[43m\u001b[49m\u001b[43m)\u001b[49m\n\u001b[32m    559\u001b[39m \u001b[38;5;28;01mif\u001b[39;00m \u001b[38;5;28many\u001b[39m(\n\u001b[32m    560\u001b[39m     similarity < \u001b[32m0.0\u001b[39m \u001b[38;5;129;01mor\u001b[39;00m similarity > \u001b[32m1.0\u001b[39m\n\u001b[32m    561\u001b[39m     \u001b[38;5;28;01mfor\u001b[39;00m _, similarity \u001b[38;5;129;01min\u001b[39;00m docs_and_similarities\n\u001b[32m    562\u001b[39m ):\n\u001b[32m    563\u001b[39m     warnings.warn(\n\u001b[32m    564\u001b[39m         \u001b[33m\"\u001b[39m\u001b[33mRelevance scores must be between\u001b[39m\u001b[33m\"\u001b[39m\n\u001b[32m    565\u001b[39m         \u001b[33mf\u001b[39m\u001b[33m\"\u001b[39m\u001b[33m 0 and 1, got \u001b[39m\u001b[38;5;132;01m{\u001b[39;00mdocs_and_similarities\u001b[38;5;132;01m}\u001b[39;00m\u001b[33m\"\u001b[39m,\n\u001b[32m    566\u001b[39m         stacklevel=\u001b[32m2\u001b[39m,\n\u001b[32m    567\u001b[39m     )\n",
      "\u001b[36mFile \u001b[39m\u001b[32m~/Documents/Master Big Data-IA-ML/TFM/ucm-tfm-grupo-4/.venv/lib/python3.11/site-packages/langchain_core/vectorstores/base.py:504\u001b[39m, in \u001b[36mVectorStore._similarity_search_with_relevance_scores\u001b[39m\u001b[34m(self, query, k, **kwargs)\u001b[39m\n\u001b[32m    486\u001b[39m \u001b[38;5;250m\u001b[39m\u001b[33;03m\"\"\"Default similarity search with relevance scores.\u001b[39;00m\n\u001b[32m    487\u001b[39m \n\u001b[32m    488\u001b[39m \u001b[33;03mModify if necessary in subclass.\u001b[39;00m\n\u001b[32m   (...)\u001b[39m\u001b[32m    501\u001b[39m \u001b[33;03m    List of Tuples of (doc, similarity_score)\u001b[39;00m\n\u001b[32m    502\u001b[39m \u001b[33;03m\"\"\"\u001b[39;00m\n\u001b[32m    503\u001b[39m relevance_score_fn = \u001b[38;5;28mself\u001b[39m._select_relevance_score_fn()\n\u001b[32m--> \u001b[39m\u001b[32m504\u001b[39m docs_and_scores = \u001b[38;5;28;43mself\u001b[39;49m\u001b[43m.\u001b[49m\u001b[43msimilarity_search_with_score\u001b[49m\u001b[43m(\u001b[49m\u001b[43mquery\u001b[49m\u001b[43m,\u001b[49m\u001b[43m \u001b[49m\u001b[43mk\u001b[49m\u001b[43m,\u001b[49m\u001b[43m \u001b[49m\u001b[43m*\u001b[49m\u001b[43m*\u001b[49m\u001b[43mkwargs\u001b[49m\u001b[43m)\u001b[49m\n\u001b[32m    505\u001b[39m \u001b[38;5;28;01mreturn\u001b[39;00m [(doc, relevance_score_fn(score)) \u001b[38;5;28;01mfor\u001b[39;00m doc, score \u001b[38;5;129;01min\u001b[39;00m docs_and_scores]\n",
      "\u001b[36mFile \u001b[39m\u001b[32m~/Documents/Master Big Data-IA-ML/TFM/ucm-tfm-grupo-4/.venv/lib/python3.11/site-packages/langchain_chroma/vectorstores.py:782\u001b[39m, in \u001b[36mChroma.similarity_search_with_score\u001b[39m\u001b[34m(self, query, k, filter, where_document, **kwargs)\u001b[39m\n\u001b[32m    780\u001b[39m \u001b[38;5;28;01melse\u001b[39;00m:\n\u001b[32m    781\u001b[39m     query_embedding = \u001b[38;5;28mself\u001b[39m._embedding_function.embed_query(query)\n\u001b[32m--> \u001b[39m\u001b[32m782\u001b[39m     results = \u001b[38;5;28;43mself\u001b[39;49m\u001b[43m.\u001b[49m\u001b[43m__query_collection\u001b[49m\u001b[43m(\u001b[49m\n\u001b[32m    783\u001b[39m \u001b[43m        \u001b[49m\u001b[43mquery_embeddings\u001b[49m\u001b[43m=\u001b[49m\u001b[43m[\u001b[49m\u001b[43mquery_embedding\u001b[49m\u001b[43m]\u001b[49m\u001b[43m,\u001b[49m\n\u001b[32m    784\u001b[39m \u001b[43m        \u001b[49m\u001b[43mn_results\u001b[49m\u001b[43m=\u001b[49m\u001b[43mk\u001b[49m\u001b[43m,\u001b[49m\n\u001b[32m    785\u001b[39m \u001b[43m        \u001b[49m\u001b[43mwhere\u001b[49m\u001b[43m=\u001b[49m\u001b[38;5;28;43mfilter\u001b[39;49m\u001b[43m,\u001b[49m\n\u001b[32m    786\u001b[39m \u001b[43m        \u001b[49m\u001b[43mwhere_document\u001b[49m\u001b[43m=\u001b[49m\u001b[43mwhere_document\u001b[49m\u001b[43m,\u001b[49m\n\u001b[32m    787\u001b[39m \u001b[43m        \u001b[49m\u001b[43m*\u001b[49m\u001b[43m*\u001b[49m\u001b[43mkwargs\u001b[49m\u001b[43m,\u001b[49m\n\u001b[32m    788\u001b[39m \u001b[43m    \u001b[49m\u001b[43m)\u001b[49m\n\u001b[32m    790\u001b[39m \u001b[38;5;28;01mreturn\u001b[39;00m _results_to_docs_and_scores(results)\n",
      "\u001b[36mFile \u001b[39m\u001b[32m~/Documents/Master Big Data-IA-ML/TFM/ucm-tfm-grupo-4/.venv/lib/python3.11/site-packages/langchain_core/utils/utils.py:54\u001b[39m, in \u001b[36mxor_args.<locals>.decorator.<locals>.wrapper\u001b[39m\u001b[34m(*args, **kwargs)\u001b[39m\n\u001b[32m     48\u001b[39m     msg = (\n\u001b[32m     49\u001b[39m         \u001b[33m\"\u001b[39m\u001b[33mExactly one argument in each of the following\u001b[39m\u001b[33m\"\u001b[39m\n\u001b[32m     50\u001b[39m         \u001b[33m\"\u001b[39m\u001b[33m groups must be defined:\u001b[39m\u001b[33m\"\u001b[39m\n\u001b[32m     51\u001b[39m         \u001b[33mf\u001b[39m\u001b[33m\"\u001b[39m\u001b[33m \u001b[39m\u001b[38;5;132;01m{\u001b[39;00m\u001b[33m'\u001b[39m\u001b[33m, \u001b[39m\u001b[33m'\u001b[39m.join(invalid_group_names)\u001b[38;5;132;01m}\u001b[39;00m\u001b[33m\"\u001b[39m\n\u001b[32m     52\u001b[39m     )\n\u001b[32m     53\u001b[39m     \u001b[38;5;28;01mraise\u001b[39;00m \u001b[38;5;167;01mValueError\u001b[39;00m(msg)\n\u001b[32m---> \u001b[39m\u001b[32m54\u001b[39m \u001b[38;5;28;01mreturn\u001b[39;00m \u001b[43mfunc\u001b[49m\u001b[43m(\u001b[49m\u001b[43m*\u001b[49m\u001b[43margs\u001b[49m\u001b[43m,\u001b[49m\u001b[43m \u001b[49m\u001b[43m*\u001b[49m\u001b[43m*\u001b[49m\u001b[43mkwargs\u001b[49m\u001b[43m)\u001b[49m\n",
      "\u001b[36mFile \u001b[39m\u001b[32m~/Documents/Master Big Data-IA-ML/TFM/ucm-tfm-grupo-4/.venv/lib/python3.11/site-packages/langchain_chroma/vectorstores.py:473\u001b[39m, in \u001b[36mChroma.__query_collection\u001b[39m\u001b[34m(self, query_texts, query_embeddings, n_results, where, where_document, **kwargs)\u001b[39m\n\u001b[32m    445\u001b[39m \u001b[38;5;129m@xor_args\u001b[39m((\u001b[33m\"\u001b[39m\u001b[33mquery_texts\u001b[39m\u001b[33m\"\u001b[39m, \u001b[33m\"\u001b[39m\u001b[33mquery_embeddings\u001b[39m\u001b[33m\"\u001b[39m))\n\u001b[32m    446\u001b[39m \u001b[38;5;28;01mdef\u001b[39;00m\u001b[38;5;250m \u001b[39m\u001b[34m__query_collection\u001b[39m(\n\u001b[32m    447\u001b[39m     \u001b[38;5;28mself\u001b[39m,\n\u001b[32m   (...)\u001b[39m\u001b[32m    453\u001b[39m     **kwargs: Any,\n\u001b[32m    454\u001b[39m ) -> Union[\u001b[38;5;28mlist\u001b[39m[Document], chromadb.QueryResult]:\n\u001b[32m    455\u001b[39m \u001b[38;5;250m    \u001b[39m\u001b[33;03m\"\"\"Query the chroma collection.\u001b[39;00m\n\u001b[32m    456\u001b[39m \n\u001b[32m    457\u001b[39m \u001b[33;03m    Args:\u001b[39;00m\n\u001b[32m   (...)\u001b[39m\u001b[32m    471\u001b[39m \u001b[33;03m    See more: https://docs.trychroma.com/reference/py-collection#query\u001b[39;00m\n\u001b[32m    472\u001b[39m \u001b[33;03m    \"\"\"\u001b[39;00m\n\u001b[32m--> \u001b[39m\u001b[32m473\u001b[39m     \u001b[38;5;28;01mreturn\u001b[39;00m \u001b[38;5;28;43mself\u001b[39;49m\u001b[43m.\u001b[49m\u001b[43m_collection\u001b[49m\u001b[43m.\u001b[49m\u001b[43mquery\u001b[49m\u001b[43m(\u001b[49m\n\u001b[32m    474\u001b[39m \u001b[43m        \u001b[49m\u001b[43mquery_texts\u001b[49m\u001b[43m=\u001b[49m\u001b[43mquery_texts\u001b[49m\u001b[43m,\u001b[49m\n\u001b[32m    475\u001b[39m \u001b[43m        \u001b[49m\u001b[43mquery_embeddings\u001b[49m\u001b[43m=\u001b[49m\u001b[43mquery_embeddings\u001b[49m\u001b[43m,\u001b[49m\u001b[43m  \u001b[49m\u001b[38;5;66;43;03m# type: ignore[arg-type]\u001b[39;49;00m\n\u001b[32m    476\u001b[39m \u001b[43m        \u001b[49m\u001b[43mn_results\u001b[49m\u001b[43m=\u001b[49m\u001b[43mn_results\u001b[49m\u001b[43m,\u001b[49m\n\u001b[32m    477\u001b[39m \u001b[43m        \u001b[49m\u001b[43mwhere\u001b[49m\u001b[43m=\u001b[49m\u001b[43mwhere\u001b[49m\u001b[43m,\u001b[49m\u001b[43m  \u001b[49m\u001b[38;5;66;43;03m# type: ignore[arg-type]\u001b[39;49;00m\n\u001b[32m    478\u001b[39m \u001b[43m        \u001b[49m\u001b[43mwhere_document\u001b[49m\u001b[43m=\u001b[49m\u001b[43mwhere_document\u001b[49m\u001b[43m,\u001b[49m\u001b[43m  \u001b[49m\u001b[38;5;66;43;03m# type: ignore[arg-type]\u001b[39;49;00m\n\u001b[32m    479\u001b[39m \u001b[43m        \u001b[49m\u001b[43m*\u001b[49m\u001b[43m*\u001b[49m\u001b[43mkwargs\u001b[49m\u001b[43m,\u001b[49m\n\u001b[32m    480\u001b[39m \u001b[43m    \u001b[49m\u001b[43m)\u001b[49m\n",
      "\u001b[36mFile \u001b[39m\u001b[32m~/Documents/Master Big Data-IA-ML/TFM/ucm-tfm-grupo-4/.venv/lib/python3.11/site-packages/chromadb/api/models/Collection.py:221\u001b[39m, in \u001b[36mCollection.query\u001b[39m\u001b[34m(self, query_embeddings, query_texts, query_images, query_uris, ids, n_results, where, where_document, include)\u001b[39m\n\u001b[32m    185\u001b[39m \u001b[38;5;250m\u001b[39m\u001b[33;03m\"\"\"Get the n_results nearest neighbor embeddings for provided query_embeddings or query_texts.\u001b[39;00m\n\u001b[32m    186\u001b[39m \n\u001b[32m    187\u001b[39m \u001b[33;03mArgs:\u001b[39;00m\n\u001b[32m   (...)\u001b[39m\u001b[32m    206\u001b[39m \n\u001b[32m    207\u001b[39m \u001b[33;03m\"\"\"\u001b[39;00m\n\u001b[32m    209\u001b[39m query_request = \u001b[38;5;28mself\u001b[39m._validate_and_prepare_query_request(\n\u001b[32m    210\u001b[39m     query_embeddings=query_embeddings,\n\u001b[32m    211\u001b[39m     query_texts=query_texts,\n\u001b[32m   (...)\u001b[39m\u001b[32m    218\u001b[39m     include=include,\n\u001b[32m    219\u001b[39m )\n\u001b[32m--> \u001b[39m\u001b[32m221\u001b[39m query_results = \u001b[38;5;28;43mself\u001b[39;49m\u001b[43m.\u001b[49m\u001b[43m_client\u001b[49m\u001b[43m.\u001b[49m\u001b[43m_query\u001b[49m\u001b[43m(\u001b[49m\n\u001b[32m    222\u001b[39m \u001b[43m    \u001b[49m\u001b[43mcollection_id\u001b[49m\u001b[43m=\u001b[49m\u001b[38;5;28;43mself\u001b[39;49m\u001b[43m.\u001b[49m\u001b[43mid\u001b[49m\u001b[43m,\u001b[49m\n\u001b[32m    223\u001b[39m \u001b[43m    \u001b[49m\u001b[43mids\u001b[49m\u001b[43m=\u001b[49m\u001b[43mquery_request\u001b[49m\u001b[43m[\u001b[49m\u001b[33;43m\"\u001b[39;49m\u001b[33;43mids\u001b[39;49m\u001b[33;43m\"\u001b[39;49m\u001b[43m]\u001b[49m\u001b[43m,\u001b[49m\n\u001b[32m    224\u001b[39m \u001b[43m    \u001b[49m\u001b[43mquery_embeddings\u001b[49m\u001b[43m=\u001b[49m\u001b[43mquery_request\u001b[49m\u001b[43m[\u001b[49m\u001b[33;43m\"\u001b[39;49m\u001b[33;43membeddings\u001b[39;49m\u001b[33;43m\"\u001b[39;49m\u001b[43m]\u001b[49m\u001b[43m,\u001b[49m\n\u001b[32m    225\u001b[39m \u001b[43m    \u001b[49m\u001b[43mn_results\u001b[49m\u001b[43m=\u001b[49m\u001b[43mquery_request\u001b[49m\u001b[43m[\u001b[49m\u001b[33;43m\"\u001b[39;49m\u001b[33;43mn_results\u001b[39;49m\u001b[33;43m\"\u001b[39;49m\u001b[43m]\u001b[49m\u001b[43m,\u001b[49m\n\u001b[32m    226\u001b[39m \u001b[43m    \u001b[49m\u001b[43mwhere\u001b[49m\u001b[43m=\u001b[49m\u001b[43mquery_request\u001b[49m\u001b[43m[\u001b[49m\u001b[33;43m\"\u001b[39;49m\u001b[33;43mwhere\u001b[39;49m\u001b[33;43m\"\u001b[39;49m\u001b[43m]\u001b[49m\u001b[43m,\u001b[49m\n\u001b[32m    227\u001b[39m \u001b[43m    \u001b[49m\u001b[43mwhere_document\u001b[49m\u001b[43m=\u001b[49m\u001b[43mquery_request\u001b[49m\u001b[43m[\u001b[49m\u001b[33;43m\"\u001b[39;49m\u001b[33;43mwhere_document\u001b[39;49m\u001b[33;43m\"\u001b[39;49m\u001b[43m]\u001b[49m\u001b[43m,\u001b[49m\n\u001b[32m    228\u001b[39m \u001b[43m    \u001b[49m\u001b[43minclude\u001b[49m\u001b[43m=\u001b[49m\u001b[43mquery_request\u001b[49m\u001b[43m[\u001b[49m\u001b[33;43m\"\u001b[39;49m\u001b[33;43minclude\u001b[39;49m\u001b[33;43m\"\u001b[39;49m\u001b[43m]\u001b[49m\u001b[43m,\u001b[49m\n\u001b[32m    229\u001b[39m \u001b[43m    \u001b[49m\u001b[43mtenant\u001b[49m\u001b[43m=\u001b[49m\u001b[38;5;28;43mself\u001b[39;49m\u001b[43m.\u001b[49m\u001b[43mtenant\u001b[49m\u001b[43m,\u001b[49m\n\u001b[32m    230\u001b[39m \u001b[43m    \u001b[49m\u001b[43mdatabase\u001b[49m\u001b[43m=\u001b[49m\u001b[38;5;28;43mself\u001b[39;49m\u001b[43m.\u001b[49m\u001b[43mdatabase\u001b[49m\u001b[43m,\u001b[49m\n\u001b[32m    231\u001b[39m \u001b[43m\u001b[49m\u001b[43m)\u001b[49m\n\u001b[32m    233\u001b[39m \u001b[38;5;28;01mreturn\u001b[39;00m \u001b[38;5;28mself\u001b[39m._transform_query_response(\n\u001b[32m    234\u001b[39m     response=query_results, include=query_request[\u001b[33m\"\u001b[39m\u001b[33minclude\u001b[39m\u001b[33m\"\u001b[39m]\n\u001b[32m    235\u001b[39m )\n",
      "\u001b[36mFile \u001b[39m\u001b[32m~/Documents/Master Big Data-IA-ML/TFM/ucm-tfm-grupo-4/.venv/lib/python3.11/site-packages/chromadb/telemetry/opentelemetry/__init__.py:150\u001b[39m, in \u001b[36mtrace_method.<locals>.decorator.<locals>.wrapper\u001b[39m\u001b[34m(*args, **kwargs)\u001b[39m\n\u001b[32m    148\u001b[39m \u001b[38;5;28;01mglobal\u001b[39;00m tracer, granularity\n\u001b[32m    149\u001b[39m \u001b[38;5;28;01mif\u001b[39;00m trace_granularity < granularity:\n\u001b[32m--> \u001b[39m\u001b[32m150\u001b[39m     \u001b[38;5;28;01mreturn\u001b[39;00m \u001b[43mf\u001b[49m\u001b[43m(\u001b[49m\u001b[43m*\u001b[49m\u001b[43margs\u001b[49m\u001b[43m,\u001b[49m\u001b[43m \u001b[49m\u001b[43m*\u001b[49m\u001b[43m*\u001b[49m\u001b[43mkwargs\u001b[49m\u001b[43m)\u001b[49m\n\u001b[32m    151\u001b[39m \u001b[38;5;28;01mif\u001b[39;00m \u001b[38;5;129;01mnot\u001b[39;00m tracer:\n\u001b[32m    152\u001b[39m     \u001b[38;5;28;01mreturn\u001b[39;00m f(*args, **kwargs)\n",
      "\u001b[36mFile \u001b[39m\u001b[32m~/Documents/Master Big Data-IA-ML/TFM/ucm-tfm-grupo-4/.venv/lib/python3.11/site-packages/chromadb/api/fastapi.py:605\u001b[39m, in \u001b[36mFastAPI._query\u001b[39m\u001b[34m(self, collection_id, query_embeddings, ids, n_results, where, where_document, include, tenant, database)\u001b[39m\n\u001b[32m    602\u001b[39m filtered_include = [i \u001b[38;5;28;01mfor\u001b[39;00m i \u001b[38;5;129;01min\u001b[39;00m include \u001b[38;5;28;01mif\u001b[39;00m i != \u001b[33m\"\u001b[39m\u001b[33mdata\u001b[39m\u001b[33m\"\u001b[39m]\n\u001b[32m    604\u001b[39m \u001b[38;5;250m\u001b[39m\u001b[33;03m\"\"\"Gets the nearest neighbors of a single embedding\"\"\"\u001b[39;00m\n\u001b[32m--> \u001b[39m\u001b[32m605\u001b[39m resp_json = \u001b[38;5;28;43mself\u001b[39;49m\u001b[43m.\u001b[49m\u001b[43m_make_request\u001b[49m\u001b[43m(\u001b[49m\n\u001b[32m    606\u001b[39m \u001b[43m    \u001b[49m\u001b[33;43m\"\u001b[39;49m\u001b[33;43mpost\u001b[39;49m\u001b[33;43m\"\u001b[39;49m\u001b[43m,\u001b[49m\n\u001b[32m    607\u001b[39m \u001b[43m    \u001b[49m\u001b[33;43mf\u001b[39;49m\u001b[33;43m\"\u001b[39;49m\u001b[33;43m/tenants/\u001b[39;49m\u001b[38;5;132;43;01m{\u001b[39;49;00m\u001b[43mtenant\u001b[49m\u001b[38;5;132;43;01m}\u001b[39;49;00m\u001b[33;43m/databases/\u001b[39;49m\u001b[38;5;132;43;01m{\u001b[39;49;00m\u001b[43mdatabase\u001b[49m\u001b[38;5;132;43;01m}\u001b[39;49;00m\u001b[33;43m/collections/\u001b[39;49m\u001b[38;5;132;43;01m{\u001b[39;49;00m\u001b[43mcollection_id\u001b[49m\u001b[38;5;132;43;01m}\u001b[39;49;00m\u001b[33;43m/query\u001b[39;49m\u001b[33;43m\"\u001b[39;49m\u001b[43m,\u001b[49m\n\u001b[32m    608\u001b[39m \u001b[43m    \u001b[49m\u001b[43mjson\u001b[49m\u001b[43m=\u001b[49m\u001b[43m{\u001b[49m\n\u001b[32m    609\u001b[39m \u001b[43m        \u001b[49m\u001b[33;43m\"\u001b[39;49m\u001b[33;43mids\u001b[39;49m\u001b[33;43m\"\u001b[39;49m\u001b[43m:\u001b[49m\u001b[43m \u001b[49m\u001b[43mids\u001b[49m\u001b[43m,\u001b[49m\n\u001b[32m    610\u001b[39m \u001b[43m        \u001b[49m\u001b[33;43m\"\u001b[39;49m\u001b[33;43mquery_embeddings\u001b[39;49m\u001b[33;43m\"\u001b[39;49m\u001b[43m:\u001b[49m\u001b[43m \u001b[49m\u001b[43mconvert_np_embeddings_to_list\u001b[49m\u001b[43m(\u001b[49m\u001b[43mquery_embeddings\u001b[49m\u001b[43m)\u001b[49m\n\u001b[32m    611\u001b[39m \u001b[43m        \u001b[49m\u001b[38;5;28;43;01mif\u001b[39;49;00m\u001b[43m \u001b[49m\u001b[43mquery_embeddings\u001b[49m\u001b[43m \u001b[49m\u001b[38;5;129;43;01mis\u001b[39;49;00m\u001b[43m \u001b[49m\u001b[38;5;129;43;01mnot\u001b[39;49;00m\u001b[43m \u001b[49m\u001b[38;5;28;43;01mNone\u001b[39;49;00m\n\u001b[32m    612\u001b[39m \u001b[43m        \u001b[49m\u001b[38;5;28;43;01melse\u001b[39;49;00m\u001b[43m \u001b[49m\u001b[38;5;28;43;01mNone\u001b[39;49;00m\u001b[43m,\u001b[49m\n\u001b[32m    613\u001b[39m \u001b[43m        \u001b[49m\u001b[33;43m\"\u001b[39;49m\u001b[33;43mn_results\u001b[39;49m\u001b[33;43m\"\u001b[39;49m\u001b[43m:\u001b[49m\u001b[43m \u001b[49m\u001b[43mn_results\u001b[49m\u001b[43m,\u001b[49m\n\u001b[32m    614\u001b[39m \u001b[43m        \u001b[49m\u001b[33;43m\"\u001b[39;49m\u001b[33;43mwhere\u001b[39;49m\u001b[33;43m\"\u001b[39;49m\u001b[43m:\u001b[49m\u001b[43m \u001b[49m\u001b[43mwhere\u001b[49m\u001b[43m,\u001b[49m\n\u001b[32m    615\u001b[39m \u001b[43m        \u001b[49m\u001b[33;43m\"\u001b[39;49m\u001b[33;43mwhere_document\u001b[39;49m\u001b[33;43m\"\u001b[39;49m\u001b[43m:\u001b[49m\u001b[43m \u001b[49m\u001b[43mwhere_document\u001b[49m\u001b[43m,\u001b[49m\n\u001b[32m    616\u001b[39m \u001b[43m        \u001b[49m\u001b[33;43m\"\u001b[39;49m\u001b[33;43minclude\u001b[39;49m\u001b[33;43m\"\u001b[39;49m\u001b[43m:\u001b[49m\u001b[43m \u001b[49m\u001b[43mfiltered_include\u001b[49m\u001b[43m,\u001b[49m\n\u001b[32m    617\u001b[39m \u001b[43m    \u001b[49m\u001b[43m}\u001b[49m\u001b[43m,\u001b[49m\n\u001b[32m    618\u001b[39m \u001b[43m\u001b[49m\u001b[43m)\u001b[49m\n\u001b[32m    620\u001b[39m \u001b[38;5;28;01mreturn\u001b[39;00m QueryResult(\n\u001b[32m    621\u001b[39m     ids=resp_json[\u001b[33m\"\u001b[39m\u001b[33mids\u001b[39m\u001b[33m\"\u001b[39m],\n\u001b[32m    622\u001b[39m     distances=resp_json.get(\u001b[33m\"\u001b[39m\u001b[33mdistances\u001b[39m\u001b[33m\"\u001b[39m, \u001b[38;5;28;01mNone\u001b[39;00m),\n\u001b[32m   (...)\u001b[39m\u001b[32m    628\u001b[39m     included=include,\n\u001b[32m    629\u001b[39m )\n",
      "\u001b[36mFile \u001b[39m\u001b[32m~/Documents/Master Big Data-IA-ML/TFM/ucm-tfm-grupo-4/.venv/lib/python3.11/site-packages/chromadb/api/fastapi.py:108\u001b[39m, in \u001b[36mFastAPI._make_request\u001b[39m\u001b[34m(self, method, path, **kwargs)\u001b[39m\n\u001b[32m    105\u001b[39m url = \u001b[38;5;28mself\u001b[39m._api_url + escaped_path\n\u001b[32m    107\u001b[39m response = \u001b[38;5;28mself\u001b[39m._session.request(method, url, **cast(Any, kwargs))\n\u001b[32m--> \u001b[39m\u001b[32m108\u001b[39m \u001b[43mBaseHTTPClient\u001b[49m\u001b[43m.\u001b[49m\u001b[43m_raise_chroma_error\u001b[49m\u001b[43m(\u001b[49m\u001b[43mresponse\u001b[49m\u001b[43m)\u001b[49m\n\u001b[32m    109\u001b[39m \u001b[38;5;28;01mreturn\u001b[39;00m orjson.loads(response.text)\n",
      "\u001b[36mFile \u001b[39m\u001b[32m~/Documents/Master Big Data-IA-ML/TFM/ucm-tfm-grupo-4/.venv/lib/python3.11/site-packages/chromadb/api/base_http_client.py:97\u001b[39m, in \u001b[36mBaseHTTPClient._raise_chroma_error\u001b[39m\u001b[34m(resp)\u001b[39m\n\u001b[32m     94\u001b[39m     \u001b[38;5;28;01mpass\u001b[39;00m\n\u001b[32m     96\u001b[39m \u001b[38;5;28;01mif\u001b[39;00m chroma_error:\n\u001b[32m---> \u001b[39m\u001b[32m97\u001b[39m     \u001b[38;5;28;01mraise\u001b[39;00m chroma_error\n\u001b[32m     99\u001b[39m \u001b[38;5;28;01mtry\u001b[39;00m:\n\u001b[32m    100\u001b[39m     resp.raise_for_status()\n",
      "\u001b[31mInternalError\u001b[39m: Error executing plan: Internal error: Error finding id",
      "During task with name 'query_examples_retriever' and id '6a3e2a90-7bf0-6a50-05a6-fc12fffe6c73'"
     ]
    }
   ],
   "source": [
    "# Estado global del grafo padre\n",
    "class GlobalState(TypedDict, total=False):\n",
    "    context: str\n",
    "    user_query: str\n",
    "    dialect: NotRequired[str]\n",
    "    language: NotRequired[str]\n",
    "    sql_query: NotRequired[str]\n",
    "\n",
    "# Construcción del grafo padre con el subgrafo como nodo\n",
    "from langgraph.graph import StateGraph, START, END\n",
    "\n",
    "def build_parent_graph(subgraph):\n",
    "    g = StateGraph(State)\n",
    "    g.add_node(\"nl2sql\", subgraph)      # ← subgrafo compilado como nodo\n",
    "    g.add_edge(START, \"nl2sql\")\n",
    "    g.add_edge(\"nl2sql\", END)\n",
    "    return g.compile()\n",
    "\n",
    "# Usar el subgrafo ya compilado (del paso 1)\n",
    "parent_app = build_parent_graph(app)\n",
    "\n",
    "global_initial: State = {\n",
    "    \"context\": \"Tablas:\\n  customers(id, name, country)\\n\",\n",
    "    \"user_query\": \"Muéstrame los 10 productos más vendidos para el B2B en el último trimestre, excluyendo los Accesorios. Mes a mes indica cuántas unidades se vendieron, y muestra también a qué categoría y subcategoría pertenecen\",\n",
    "    \"language\": \"Spanish\"\n",
    "}\n",
    "\n",
    "app.invoke({\n",
    "    \"context\": \"Tablas:\\n  customers(id, name, country)\\n\",\n",
    "    \"user_query\": \"Muéstrame los 10 productos más vendidos para el B2B en el último trimestre, excluyendo los Accesorios. Mes a mes indica cuántas unidades se vendieron, y muestra también a qué categoría y subcategoría pertenecen\",\n",
    "    \"language\": \"Spanish\"\n",
    "})\n",
    "\n",
    "#global_final = parent_app.invoke(global_initial, config={\"recursion_limit\": 50})\n",
    "#print(\"FINAL SQL (padre):\", global_final.get(\"sql_query\"))\n"
   ]
  }
 ],
 "metadata": {
  "kernelspec": {
   "display_name": "ucm-tfm-grupo-4 (3.11.9)",
   "language": "python",
   "name": "python3"
  },
  "language_info": {
   "codemirror_mode": {
    "name": "ipython",
    "version": 3
   },
   "file_extension": ".py",
   "mimetype": "text/x-python",
   "name": "python",
   "nbconvert_exporter": "python",
   "pygments_lexer": "ipython3",
   "version": "3.11.9"
  }
 },
 "nbformat": 4,
 "nbformat_minor": 5
}
