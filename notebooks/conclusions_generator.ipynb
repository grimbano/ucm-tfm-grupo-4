{
 "cells": [
  {
   "cell_type": "markdown",
   "id": "dcdb371b",
   "metadata": {},
   "source": [
    "## 1. Inicialización del entorno"
   ]
  },
  {
   "cell_type": "code",
   "execution_count": 1,
   "id": "4580cc55",
   "metadata": {},
   "outputs": [],
   "source": [
    "from dotenv import load_dotenv\n",
    "import logging\n",
    "import json\n",
    "from typing import Any, Dict, List\n",
    "import plotly.graph_objects as go\n",
    "from plotly.subplots import make_subplots\n",
    "from IPython.display import Image\n",
    "\n",
    "from typing import TypedDict\n",
    "from langchain.prompts import ChatPromptTemplate\n",
    "from langchain.chat_models import init_chat_model\n",
    "from langgraph.graph import StateGraph, START, END\n",
    "\n",
    "load_dotenv()\n",
    "logging.basicConfig(level=logging.WARNING)\n"
   ]
  },
  {
   "cell_type": "markdown",
   "id": "39b4ac2c",
   "metadata": {},
   "source": [
    "### Constantes\n",
    "\n",
    "Parametrización:"
   ]
  },
  {
   "cell_type": "code",
   "execution_count": 2,
   "id": "00a6c62f",
   "metadata": {},
   "outputs": [],
   "source": [
    "CONLUSIONS_N_PHRASES = 10\n",
    "MAX_RETRIES = 3"
   ]
  },
  {
   "cell_type": "markdown",
   "id": "74c9aa2e",
   "metadata": {},
   "source": [
    "Valores de prueba:"
   ]
  },
  {
   "cell_type": "code",
   "execution_count": 3,
   "id": "393f7db3",
   "metadata": {},
   "outputs": [],
   "source": [
    "user_query = 'Muéstrame los 10 productos más vendidos para el B2B en el último trimestre, excluyendo los Accesorios. Mes a mes indica cuántas unidades se vendieron, y muestra también a qué categoría y subcategoría pertenecen'\n",
    "\n",
    "query_results = [{'producto': 'Camiseta clásica, P', 'categoria': 'Prenda', 'subcategoria': 'Camiseta', 'primer_mes': 381, 'segundo_mes': 380, 'tercer_mes': 190, 'total': 951},\n",
    "  {'producto': 'Jersey clásico de manga corta, SG', 'categoria': 'Prenda', 'subcategoria': 'Jersey', 'primer_mes': 329, 'segundo_mes': 299, 'tercer_mes': 183, 'total': 811},\n",
    "  {'producto': \"Women's Mountain Shorts, S\", 'categoria': 'Prenda', 'subcategoria': 'Pantalones cortos', 'primer_mes': 295, 'segundo_mes': 258, 'tercer_mes': 141, 'total': 694},\n",
    "  {'producto': 'Jersey con logotipo de manga larga, G', 'categoria': 'Prenda', 'subcategoria': 'Jersey', 'primer_mes': 312, 'segundo_mes': 243, 'tercer_mes': 129, 'total': 684},\n",
    "  {'producto': 'AWC Logo Cap', 'categoria': 'Prenda', 'subcategoria': 'Gorra', 'primer_mes': 291, 'segundo_mes': 243, 'tercer_mes': 121, 'total': 655},\n",
    "  {'producto': \"Women's Mountain Shorts, L\", 'categoria': 'Prenda', 'subcategoria': 'Pantalones cortos', 'primer_mes': 262, 'segundo_mes': 236, 'tercer_mes': 120, 'total': 618},\n",
    "  {'producto': 'Jersey clásico de manga corta, G', 'categoria': 'Prenda', 'subcategoria': 'Jersey', 'primer_mes': 217, 'segundo_mes': 231, 'tercer_mes': 113, 'total': 561},\n",
    "  {'producto': 'Calcetines para carreras, G', 'categoria': 'Prenda', 'subcategoria': 'Calcetines', 'primer_mes': 231, 'segundo_mes': 179, 'tercer_mes': 93, 'total': 503},\n",
    "  {'producto': 'Camiseta clásica, M', 'categoria': 'Prenda', 'subcategoria': 'Camiseta', 'primer_mes': 197, 'segundo_mes': 187, 'tercer_mes': 85, 'total': 469},\n",
    "  {'producto': 'Half-Finger Gloves, M', 'categoria': 'Prenda', 'subcategoria': 'Guantes', 'primer_mes': 187, 'segundo_mes': 168, 'tercer_mes': 82, 'total': 437}]\n",
    "\n",
    "sql_query = \"WITH \\nlast_quarter AS (\\n  SELECT\\n    fs.product_key,\\n    COALESCE(dp.spanish_product_name, dp.english_product_name) AS product_name,\\n    dp.spanish_product_category_name,\\n    dp.spanish_product_subcategory_name,\\n    EXTRACT(MONTH FROM fs.order_date) AS month_in_quarter,\\n    fs.order_quantity\\n  FROM\\n    sales.fact_sales fs\\n    JOIN sales.dim_product dp ON fs.product_key = dp.product_key\\n  WHERE\\n    fs.sale_source = 'reseller_sales'\\n    AND dp.spanish_product_category_name <> 'Accesorio'\\n    AND fs.order_date >= date_trunc('quarter', CURRENT_DATE - interval '3 months')\\n    AND fs.order_date < date_trunc('quarter', CURRENT_DATE)\\n),\\ntop_products AS (\\n  SELECT\\n    product_key,\\n    product_name,\\n    spanish_product_category_name,\\n    spanish_product_subcategory_name,\\n    SUM(order_quantity) AS total_qty\\n  FROM\\n    last_quarter\\n  GROUP BY\\n    product_key, product_name, spanish_product_category_name, spanish_product_subcategory_name\\n  ORDER BY\\n    total_qty DESC\\n  LIMIT 10\\n)\\nSELECT\\n  tp.product_name AS producto,\\n  tp.spanish_product_category_name AS categoria,\\n  tp.spanish_product_subcategory_name AS subcategoria,\\n  SUM(lq.order_quantity) FILTER (WHERE lq.month_in_quarter = EXTRACT(MONTH FROM date_trunc('quarter', CURRENT_DATE - interval '3 months'))) AS primer_mes,\\n  SUM(lq.order_quantity) FILTER (WHERE lq.month_in_quarter = EXTRACT(MONTH FROM date_trunc('quarter', CURRENT_DATE - interval '3 months') + interval '1 month')) AS segundo_mes,\\n  SUM(lq.order_quantity) FILTER (WHERE lq.month_in_quarter = EXTRACT(MONTH FROM date_trunc('quarter', CURRENT_DATE - interval '3 months') + interval '2 month')) AS tercer_mes,\\n  SUM(lq.order_quantity) AS total\\nFROM\\n  top_products tp\\n  LEFT JOIN last_quarter lq ON tp.product_key = lq.product_key\\nGROUP BY\\n  tp.product_name, tp.spanish_product_category_name, tp.spanish_product_subcategory_name\\nORDER BY\\n  total DESC;\""
   ]
  },
  {
   "cell_type": "markdown",
   "id": "27b4bab5",
   "metadata": {},
   "source": [
    "## 2. Configuración del Modelo a utilizar"
   ]
  },
  {
   "cell_type": "code",
   "execution_count": 4,
   "id": "756386b0",
   "metadata": {},
   "outputs": [],
   "source": [
    "llm_generator = init_chat_model(\n",
    "    model_provider= 'azure_openai',\n",
    "    model= 'gpt-4o',\n",
    "    temperature= 0.10,\n",
    ")\n",
    "\n",
    "llm_graphics_generator = init_chat_model(\n",
    "    model_provider= 'azure_openai',\n",
    "    model= 'gpt-4.1-mini',\n",
    "    temperature= 0.75,\n",
    ")"
   ]
  },
  {
   "cell_type": "markdown",
   "id": "40dc31be",
   "metadata": {},
   "source": [
    "## 3. Definición del Estado"
   ]
  },
  {
   "cell_type": "code",
   "execution_count": 5,
   "id": "d10448a1",
   "metadata": {},
   "outputs": [],
   "source": [
    "class ConclusionsGeneratorState(TypedDict):\n",
    "    user_query: str\n",
    "    sql_query: str\n",
    "    language: str\n",
    "    query_results: str\n",
    "    graphs_retries: int\n",
    "    nl_output: str\n",
    "    sql_explanation: str\n",
    "    graphics_json: str\n",
    "\n",
    "class ConclusionsGeneratorOutputState(TypedDict):\n",
    "    nl_output: str\n",
    "    sql_explanation: str\n",
    "    graphics_json: str"
   ]
  },
  {
   "cell_type": "markdown",
   "id": "f313a428",
   "metadata": {},
   "source": [
    "## 4. Funciones Auxiliares"
   ]
  },
  {
   "cell_type": "markdown",
   "id": "d13d9dc6",
   "metadata": {},
   "source": [
    "Función que permite convertir una lista de diccionarios a tabla Markdown."
   ]
  },
  {
   "cell_type": "code",
   "execution_count": 6,
   "id": "a5e8aa3f",
   "metadata": {},
   "outputs": [],
   "source": [
    "def convert_to_markdown_table(data: List[Dict[str, Any]]) -> str:\n",
    "    \"\"\"\n",
    "    Converts a list of dictionaries into a Markdown table string.\n",
    "\n",
    "    Args:\n",
    "        data: A list of dictionaries, where each dictionary represents a row\n",
    "                and keys are column headers.\n",
    "\n",
    "    Returns:\n",
    "        A string representing the data as a Markdown table.\n",
    "        Returns an empty string if the input list is empty.\n",
    "    \"\"\"\n",
    "    if not data:\n",
    "        return \"\"\n",
    "\n",
    "    # Get column headers from the keys of the first dictionary\n",
    "    headers = list(data[0].keys())\n",
    "\n",
    "    # Create the Markdown header row\n",
    "    header_row = \"| \" + \" | \".join(headers) + \" |\"\n",
    "\n",
    "    # Create the separator row for Markdown\n",
    "    separator_row = \"|---\" * len(headers) + \"|\"\n",
    "\n",
    "    # Create the data rows\n",
    "    data_rows = []\n",
    "    for row in data:\n",
    "        # Get values for each row in the same order as headers\n",
    "        values = [str(row.get(header, '')) for header in headers]\n",
    "        data_row = \"| \" + \" | \".join(values) + \" |\"\n",
    "        data_rows.append(data_row)\n",
    "\n",
    "    # Combine all parts into the final Markdown table string\n",
    "    return \"\\n\".join([header_row, separator_row] + data_rows)\n"
   ]
  },
  {
   "cell_type": "markdown",
   "id": "950eb524",
   "metadata": {},
   "source": [
    "Función que permite recrear gráficos de Plotly a partir de un JSON generado por un LLM."
   ]
  },
  {
   "cell_type": "code",
   "execution_count": 7,
   "id": "4ec44c50",
   "metadata": {},
   "outputs": [],
   "source": [
    "def create_dashboard_from_json(\n",
    "        json_str: str,\n",
    "        height: int = 900,\n",
    "        width: int = 1600,\n",
    "    ) -> None | go.Figure:\n",
    "    \"\"\"\n",
    "    Procesa un JSON de gráficos y crea un dashboard interactivo de Plotly.\n",
    "\n",
    "    Args:\n",
    "        json_str: Una cadena JSON válida que contiene el título del dashboard\n",
    "                y una lista de diccionarios de Plotly.\n",
    "        height: Alto total del conjunto de gráficos.\n",
    "        width: Ancho total del conjunto de gráficos.\n",
    "    \"\"\"\n",
    "    logging.basicConfig(level=logging.INFO, format='%(levelname)s: %(message)s')\n",
    "\n",
    "    try:\n",
    "        data = json.loads(json_str)\n",
    "        main_title = data.get('dashboard_title', 'Dashboard de Análisis')\n",
    "        json_graphs = data.get('charts', [])\n",
    "    except json.JSONDecodeError as e:\n",
    "        logging.error(f\"Error al decodificar el JSON: {e}\")\n",
    "        return None\n",
    "\n",
    "    if not json_graphs:\n",
    "        logging.info(\"No hay datos de gráficos para procesar. Saliendo.\")\n",
    "        return None\n",
    "\n",
    "    subplot_titles = []\n",
    "    specs = []\n",
    "    row_specs = []\n",
    "\n",
    "    for graph in json_graphs:\n",
    "        title_obj = graph['layout'].get('title', \"Sin Título\")\n",
    "        if isinstance(title_obj, dict):\n",
    "            title = title_obj.get('text', \"Sin Título\")\n",
    "        else:\n",
    "            title = title_obj\n",
    "        subplot_titles.append(title)\n",
    "        \n",
    "        graph_data = graph['data']\n",
    "        if isinstance(graph_data, dict):\n",
    "            graph_data = [graph_data]\n",
    "            \n",
    "        is_domain_chart = graph_data[0]['type'] in ['pie', 'funnelarea', 'sunburst', 'treemap']\n",
    "        row_specs.append({\"type\": \"domain\"} if is_domain_chart else {\"type\": \"xy\"})\n",
    "        \n",
    "        if len(row_specs) == 2:\n",
    "            specs.append(row_specs)\n",
    "            row_specs = []\n",
    "    \n",
    "    if len(specs) < 2 and len(json_graphs) > 2:\n",
    "        while len(specs) < 2:\n",
    "            specs.append([{}, {}])\n",
    "    \n",
    "    if len(specs) == 0:\n",
    "        specs = [[{}, {}], [{}, {}]]\n",
    "\n",
    "    fig = make_subplots(\n",
    "        rows=2, cols=2,\n",
    "        subplot_titles=subplot_titles,\n",
    "        specs=specs\n",
    "    )\n",
    "\n",
    "    row = 1\n",
    "    col = 1\n",
    "    for i, graph in enumerate(json_graphs):\n",
    "        graph_data = graph['data']\n",
    "        if isinstance(graph_data, dict):\n",
    "            graph_data = [graph_data]\n",
    "        \n",
    "        for trace_dict in graph_data:\n",
    "            trace_type = trace_dict.get('type')\n",
    "\n",
    "            if trace_type == 'pie':\n",
    "                fig.add_trace(go.Pie(trace_dict), row=row, col=col)\n",
    "                break  # <--- Agrega break aquí\n",
    "            elif trace_type == 'bar':\n",
    "                fig.add_trace(go.Bar(trace_dict), row=row, col=col)\n",
    "                break  # <--- Agrega break aquí\n",
    "            elif trace_type == 'scatter':\n",
    "                fig.add_trace(go.Scatter(trace_dict), row=row, col=col)\n",
    "                break  # <--- Agrega break aquí\n",
    "            elif trace_type == 'line':\n",
    "                fig.add_trace(go.Scatter(trace_dict), row=row, col=col)\n",
    "                break  # <--- Agrega break aquí\n",
    "            elif trace_type == 'heatmap':\n",
    "                fig.add_trace(go.Heatmap(trace_dict), row=row, col=col)\n",
    "                break  # <--- Agrega break aquí\n",
    "            elif trace_type == 'histogram':\n",
    "                fig.add_trace(go.Histogram(trace_dict), row=row, col=col)\n",
    "                break  # <--- Agrega break aquí\n",
    "            else:\n",
    "                logging.warning(f\"Tipo de gráfico desconocido: '{trace_type}'. Omitiendo traza en la posición ({row},{col}).\")\n",
    "                \n",
    "\n",
    "        subplot_layout = graph.get('layout', {})\n",
    "        \n",
    "        xaxis_title = subplot_layout.get('xaxis', {}).get('title', {})\n",
    "        if isinstance(xaxis_title, dict):\n",
    "            xaxis_title_text = xaxis_title.get('text')\n",
    "        else:\n",
    "            xaxis_title_text = xaxis_title\n",
    "            \n",
    "        yaxis_title = subplot_layout.get('yaxis', {}).get('title', {})\n",
    "        if isinstance(yaxis_title, dict):\n",
    "            yaxis_title_text = yaxis_title.get('text')\n",
    "        else:\n",
    "            yaxis_title_text = yaxis_title\n",
    "            \n",
    "        fig.update_xaxes(title_text=xaxis_title_text, row=row, col=col)\n",
    "        fig.update_yaxes(title_text=yaxis_title_text, row=row, col=col)\n",
    "        \n",
    "        col += 1\n",
    "        if col > 2:\n",
    "            col = 1\n",
    "            row += 1\n",
    "            \n",
    "    fig.update_layout(\n",
    "        height= height,\n",
    "        width= width,\n",
    "        autosize= True,\n",
    "        title_text= main_title,\n",
    "        title_x= 0.5,\n",
    "        font=dict(\n",
    "            family= \"Arial, sans-serif\",\n",
    "            size= 12\n",
    "        ),\n",
    "        paper_bgcolor=\"#f2f2f2\",\n",
    "        plot_bgcolor=\"#ffffff\",\n",
    "        margin=dict(l=50, r=50, t=80, b=50),\n",
    "    )\n",
    "\n",
    "    return fig\n"
   ]
  },
  {
   "cell_type": "markdown",
   "id": "c8006053",
   "metadata": {},
   "source": [
    "## 5. Definición de Agentes"
   ]
  },
  {
   "cell_type": "markdown",
   "id": "72d6e844",
   "metadata": {},
   "source": [
    "### NL Conclusions Generator"
   ]
  },
  {
   "cell_type": "code",
   "execution_count": 8,
   "id": "b90c22fc",
   "metadata": {},
   "outputs": [
    {
     "name": "stdout",
     "output_type": "stream",
     "text": [
      "1. La \"Camiseta clásica, P\" lidera las ventas con 951 unidades en el trimestre, destacándose como el producto más vendido.  \n",
      "2. Los jerseys son la subcategoría más recurrente en el top 10, con tres productos entre los más vendidos.  \n",
      "3. Los \"Women's Mountain Shorts\" aparecen en dos tallas diferentes (S y L), acumulando 1,312 unidades vendidas en conjunto.  \n",
      "4. La categoría \"Prenda\" domina completamente el ranking, sin presencia de otras categorías.  \n",
      "5. Los accesorios fueron correctamente excluidos, pero los guantes y calcetines, clasificados como prendas, están presentes en el listado.  \n",
      "6. El primer mes del trimestre muestra consistentemente mayores ventas en todos los productos del top 10.  \n",
      "7. La subcategoría \"Camiseta\" ocupa dos posiciones en el ranking, con un total combinado de 1,420 unidades vendidas.  \n",
      "8. El \"Jersey clásico de manga corta, SG\" y el \"Jersey con logotipo de manga larga, G\" juntos suman 1,495 unidades, consolidando la subcategoría Jersey.  \n",
      "9. Los \"Calcetines para carreras, G\" y los \"Half-Finger Gloves, M\" son los productos con menor volumen de ventas en el top 10.  \n",
      "10. La distribución mensual refleja una tendencia decreciente en las ventas hacia el tercer mes del trimestre.  \n"
     ]
    }
   ],
   "source": [
    "nl_conclusions_prompt = ChatPromptTemplate.from_messages([{\n",
    "    \"role\": \"system\",\n",
    "    \"content\": (\n",
    "        \"Eres un analista experto en el dominio de la base de datos consultada.\"\n",
    "        \"\\n\\nLa consulta realizada por un usuario de negocio es:\"\n",
    "        \"\\n\\n{user_query}\"\n",
    "        \"\\n\\nLa salida en texto plano (markdown) de la consulta SQL ejecutada es:\"\n",
    "        \"\\n\\n{query_results}\"\n",
    "        \"\\n\\n\\nTu tarea es extraer las conclusiones principales de los datos, redactadas de \"\n",
    "        \"forma breve y directa, sin explicaciones innecesarias ni contexto adicional.\"\n",
    "        \"\\nDirígete a un usuario de negocio con conocimientos en el tema, \"\n",
    "        \"por lo que no es necesario definir conceptos básicos.\"\n",
    "        \"\\nMáximo {n_phrases} frases concisas pero, usando terminología técnica del dominio cuando corresponda.\"\n",
    "        \"\\nNo incluyas datos sin relevancia ni interpretaciones especulativas.\"\n",
    "        \"\\nLa respuesta debe estar en el siguiente idioma: {language}\"\n",
    "    )\n",
    "}])\n",
    "\n",
    "nl_conclusions_generator = nl_conclusions_prompt | llm_generator\n",
    "\n",
    "print(\n",
    "    nl_conclusions_generator.invoke({\n",
    "        'user_query': user_query,\n",
    "        'query_results': convert_to_markdown_table(query_results),\n",
    "        'n_phrases': 10,\n",
    "        'language': 'Spanish'\n",
    "    }).content\n",
    ")\n"
   ]
  },
  {
   "cell_type": "markdown",
   "id": "25b323b5",
   "metadata": {},
   "source": [
    "### NL SQL Explanaitor"
   ]
  },
  {
   "cell_type": "code",
   "execution_count": 9,
   "id": "c3566383",
   "metadata": {},
   "outputs": [
    {
     "name": "stdout",
     "output_type": "stream",
     "text": [
      "## Análisis de la Lógica de la Consulta\n",
      "\n",
      "La consulta identifica los productos más vendidos en el último trimestre por la fuente de ventas \"reseller_sales\", excluyendo aquellos de la categoría \"Accesorio\". Primero, se filtran los datos de ventas y productos relevantes, limitándolos al trimestre anterior. Luego, se agrupan los productos por su clave y nombre, calculando la cantidad total vendida para cada uno. De estos, se seleccionan los 10 productos con mayor cantidad de ventas. Finalmente, se analiza la distribución de las ventas de estos productos por mes dentro del trimestre, mostrando las cantidades vendidas en cada mes y el total acumulado.\n",
      "\n",
      "## Conclusión y Resultados Clave\n",
      "\n",
      "La consulta proporciona un desglose detallado de los 10 productos más vendidos en el último trimestre, mostrando su categoría, subcategoría y las cantidades vendidas en cada mes del trimestre. Esto permite identificar patrones de ventas mensuales y evaluar el rendimiento de los productos más populares en el periodo analizado.\n"
     ]
    }
   ],
   "source": [
    "nl_sql_explanaition_prompt = ChatPromptTemplate.from_messages([{\n",
    "    \"role\": \"system\",\n",
    "    \"content\": (\n",
    "        \"Eres un analista de datos experimentado, especialista en el dominio de negocio \"\n",
    "        \"relacionado con la base de datos que se te consulta. Tu tarea es analizar la \"\n",
    "        \"consulta SQL ejecutada y explicar la lógica que subyace a la misma, para que \"\n",
    "        \"un usuario de negocio pueda entender cómo se llegó a la respuesta a su pregunta.\"\n",
    "        \"\\n\\nLa consulta del usuario de negocio es:\"\n",
    "        \"\\n\\n{user_query}\"\n",
    "        \"\\n\\nLa consulta SQL que se ejecutó para responderla es:\"\n",
    "        \"\\n\\n{sql_query}\"\n",
    "        \"\\n\\n\\nTu respuesta debe ser un análisis conciso y directo, sin jerga innecesaria. \"\n",
    "        \"Dirígete al usuario como si estuvieras explicando tu proceso de pensamiento.\"\n",
    "        \"\\n\\nSigue este formato:\"\n",
    "        \"\\n\\n## Análisis de la Lógica de la Consulta\"\n",
    "        \"\\n\\nExplica en un párrafo la lógica principal de la consulta. Describe cómo se \"\n",
    "        \"combinan las tablas y qué filtros se aplican para obtener los datos relevantes.\"\n",
    "        \"\\n\\n## Conclusión y Resultados Clave\"\n",
    "        \"\\n\\nProporciona las conclusiones principales de los datos, basándote en la \"\n",
    "        \"lógica de la consulta. Si no se han pasado los resultados, limita tu respuesta a \"\n",
    "        \"una explicación de qué tipo de información se obtendría. No especules sobre los \"\n",
    "        \"valores exactos.\"\n",
    "        \"\\n\\nUtiliza un máximo de dos párrafos en total. Usa terminología técnica del \"\n",
    "        \"dominio solo cuando sea estrictamente necesario para la claridad. No incluyas \"\n",
    "        \"información irrelevante ni interpretaciones especulativas.\"\n",
    "        \"\\n\\nLa respuesta debe estar en el siguiente idioma: {language}\"\n",
    "    )\n",
    "}])\n",
    "\n",
    "nl_sql_explanation_generator = nl_sql_explanaition_prompt | llm_generator\n",
    "\n",
    "user_query = 'Detalle de clientes con mayor cantidad de pedidos con promociones.'\n",
    "\n",
    "fixed_sql_query = \"WITH \\nlast_quarter AS (\\n  SELECT\\n    fs.product_key,\\n    COALESCE(dp.spanish_product_name, dp.english_product_name) AS product_name,\\n    dp.spanish_product_category_name,\\n    dp.spanish_product_subcategory_name,\\n    EXTRACT(MONTH FROM fs.order_date) AS month_in_quarter,\\n    fs.order_quantity\\n  FROM\\n    sales.fact_sales fs\\n    JOIN sales.dim_product dp ON fs.product_key = dp.product_key\\n  WHERE\\n    fs.sale_source = 'reseller_sales'\\n    AND dp.spanish_product_category_name <> 'Accesorio'\\n    AND fs.order_date >= date_trunc('quarter', CURRENT_DATE - interval '3 months')\\n    AND fs.order_date < date_trunc('quarter', CURRENT_DATE)\\n),\\ntop_products AS (\\n  SELECT\\n    product_key,\\n    product_name,\\n    spanish_product_category_name,\\n    spanish_product_subcategory_name,\\n    SUM(order_quantity) AS total_qty\\n  FROM\\n    last_quarter\\n  GROUP BY\\n    product_key, product_name, spanish_product_category_name, spanish_product_subcategory_name\\n  ORDER BY\\n    total_qty DESC\\n  LIMIT 10\\n)\\nSELECT\\n  tp.product_name AS producto,\\n  tp.spanish_product_category_name AS categoria,\\n  tp.spanish_product_subcategory_name AS subcategoria,\\n  SUM(lq.order_quantity) FILTER (WHERE lq.month_in_quarter = EXTRACT(MONTH FROM date_trunc('quarter', CURRENT_DATE - interval '3 months'))) AS primer_mes,\\n  SUM(lq.order_quantity) FILTER (WHERE lq.month_in_quarter = EXTRACT(MONTH FROM date_trunc('quarter', CURRENT_DATE - interval '3 months') + interval '1 month')) AS segundo_mes,\\n  SUM(lq.order_quantity) FILTER (WHERE lq.month_in_quarter = EXTRACT(MONTH FROM date_trunc('quarter', CURRENT_DATE - interval '3 months') + interval '2 month')) AS tercer_mes,\\n  SUM(lq.order_quantity) AS total\\nFROM\\n  top_products tp\\n  LEFT JOIN last_quarter lq ON tp.product_key = lq.product_key\\nGROUP BY\\n  tp.product_name, tp.spanish_product_category_name, tp.spanish_product_subcategory_name\\nORDER BY\\n  total DESC;\"\n",
    "\n",
    "print(\n",
    "    nl_sql_explanation_generator.invoke({\n",
    "        'user_query': user_query,\n",
    "        'sql_query': fixed_sql_query,\n",
    "        'language': 'Spanish'\n",
    "    }).content\n",
    ")\n"
   ]
  },
  {
   "cell_type": "markdown",
   "id": "15831fc9",
   "metadata": {},
   "source": [
    "### Graphics Generator"
   ]
  },
  {
   "cell_type": "code",
   "execution_count": 18,
   "id": "3d9981a3",
   "metadata": {},
   "outputs": [
    {
     "name": "stdout",
     "output_type": "stream",
     "text": [
      "{\n",
      " \"dashboard_title\": \"Análisis de Pedidos con Promociones por Producto y Categoría\",\n",
      " \"charts\": [\n",
      "  {\n",
      "   \"data\": [\n",
      "    {\n",
      "     \"type\": \"bar\",\n",
      "     \"x\": [\"Camiseta clásica, P\", \"Jersey clásico de manga corta, SG\", \"Women's Mountain Shorts, S\", \"Jersey con logotipo de manga larga, G\", \"AWC Logo Cap\", \"Women's Mountain Shorts, L\", \"Jersey clásico de manga corta, G\", \"Calcetines para carreras, G\", \"Camiseta clásica, M\", \"Half-Finger Gloves, M\"],\n",
      "     \"y\": [951, 811, 694, 684, 655, 618, 561, 503, 469, 437],\n",
      "     \"marker\": {\"color\": \"#1f77b4\"},\n",
      "     \"name\": \"Pedidos Totales\"\n",
      "    }\n",
      "   ],\n",
      "   \"layout\": {\n",
      "    \"title\": \"Total de Pedidos con Promoción por Producto\",\n",
      "    \"xaxis\": {\"title\": \"Producto\", \"tickangle\": -45},\n",
      "    \"yaxis\": {\"title\": \"Cantidad Total de Pedidos\"},\n",
      "    \"plot_bgcolor\": \"#f9f9f9\",\n",
      "    \"paper_bgcolor\": \"#ffffff\",\n",
      "    \"margin\": {\"b\":150}\n",
      "   }\n",
      "  },\n",
      "  {\n",
      "   \"data\": [\n",
      "    {\n",
      "     \"type\": \"line\",\n",
      "     \"x\": [\"primer_mes\", \"segundo_mes\", \"tercer_mes\"],\n",
      "     \"y\": [381, 380, 190],\n",
      "     \"mode\": \"lines+markers\",\n",
      "     \"name\": \"Camiseta clásica, P\"\n",
      "    },\n",
      "    {\n",
      "     \"type\": \"line\",\n",
      "     \"x\": [\"primer_mes\", \"segundo_mes\", \"tercer_mes\"],\n",
      "     \"y\": [329, 299, 183],\n",
      "     \"mode\": \"lines+markers\",\n",
      "     \"name\": \"Jersey clásico de manga corta, SG\"\n",
      "    },\n",
      "    {\n",
      "     \"type\": \"line\",\n",
      "     \"x\": [\"primer_mes\", \"segundo_mes\", \"tercer_mes\"],\n",
      "     \"y\": [295, 258, 141],\n",
      "     \"mode\": \"lines+markers\",\n",
      "     \"name\": \"Women's Mountain Shorts, S\"\n",
      "    },\n",
      "    {\n",
      "     \"type\": \"line\",\n",
      "     \"x\": [\"primer_mes\", \"segundo_mes\", \"tercer_mes\"],\n",
      "     \"y\": [312, 243, 129],\n",
      "     \"mode\": \"lines+markers\",\n",
      "     \"name\": \"Jersey con logotipo de manga larga, G\"\n",
      "    }\n",
      "   ],\n",
      "   \"layout\": {\n",
      "    \"title\": \"Evolución Mensual de Pedidos con Promoción - Top 4 Productos\",\n",
      "    \"xaxis\": {\"title\": \"Meses\"},\n",
      "    \"yaxis\": {\"title\": \"Cantidad de Pedidos\"},\n",
      "    \"plot_bgcolor\": \"#f9f9f9\",\n",
      "    \"paper_bgcolor\": \"#ffffff\"\n",
      "   }\n",
      "  },\n",
      "  {\n",
      "   \"data\": [\n",
      "    {\n",
      "     \"type\": \"pie\",\n",
      "     \"labels\": [\"Camiseta\", \"Jersey\", \"Pantalones cortos\", \"Gorra\", \"Otros\"],\n",
      "     \"values\": [1420, 2056, 1312, 655, 1010],\n",
      "     \"textinfo\": \"label+percent\",\n",
      "     \"insidetextorientation\": \"radial\",\n",
      "     \"marker\": {\"colors\": [\"#636efa\", \"#ef553b\", \"#00cc96\", \"#ab63fa\", \"#ffa15a\"]},\n",
      "     \"name\": \"Pedidos por Subcategoría Agrupada\"\n",
      "    }\n",
      "   ],\n",
      "   \"layout\": {\n",
      "    \"title\": \"Distribución de Pedidos con Promoción por Categoría Principal\",\n",
      "    \"plot_bgcolor\": \"#f9f9f9\",\n",
      "    \"paper_bgcolor\": \"#ffffff\"\n",
      "   }\n",
      "  },\n",
      "  {\n",
      "   \"data\": [\n",
      "    {\n",
      "     \"type\": \"scatter\",\n",
      "     \"x\": [381, 329, 295, 312, 291, 262, 217, 231, 197, 187],\n",
      "     \"y\": [951, 811, 694, 684, 655, 618, 561, 503, 469, 437],\n",
      "     \"mode\": \"markers\",\n",
      "     \"marker\": {\"size\": 12, \"color\": \"#19d3f3\"},\n",
      "     \"text\": [\"Camiseta clásica, P\", \"Jersey clásico de manga corta, SG\", \"Women's Mountain Shorts, S\", \"Jersey con logotipo de manga larga, G\", \"AWC Logo Cap\", \"Women's Mountain Shorts, L\", \"Jersey clásico de manga corta, G\", \"Calcetines para carreras, G\", \"Camiseta clásica, M\", \"Half-Finger Gloves, M\"],\n",
      "     \"name\": \"Relación Primer Mes vs Total de Pedidos\"\n",
      "    }\n",
      "   ],\n",
      "   \"layout\": {\n",
      "    \"title\": \"Relación entre Pedidos del Primer Mes y Total de Pedidos con Promoción por Producto\",\n",
      "    \"xaxis\": {\"title\": \"Pedidos en el Primer Mes\"},\n",
      "    \"yaxis\": {\"title\": \"Pedidos Totales\"},\n",
      "    \"plot_bgcolor\": \"#f9f9f9\",\n",
      "    \"paper_bgcolor\": \"#ffffff\"\n",
      "   }\n",
      "  }\n",
      " ]\n",
      "}\n"
     ]
    }
   ],
   "source": [
    "graphics_generator_prompt = ChatPromptTemplate.from_messages([{\n",
    "    \"role\": \"system\",\n",
    "    \"content\": (\n",
    "        \"Eres un consultor experto en análisis de negocios y un maestro en la visualización de datos. Tu misión es transformar datos brutos en una narrativa visual coherente y estratégica, a través de un dashboard empresarial de 4 gráficos. \"\n",
    "        \"Tu trabajo va más allá de la simple representación: cada gráfico debe ser un insight único que, en conjunto, cuente una historia completa y sin redundancia sobre los resultados de la consulta. \"\n",
    "        \"Debes mantener una visión global de cómo los 4 gráficos se complementan entre sí para responder a diferentes facetas de la consulta del usuario.\"\n",
    "        \"La salida debe ser un único JSON válido, conteniendo el título del dashboard y una lista de 4 diccionarios de Plotly. \"\n",
    "        \"Todo el texto del dashboard (títulos, etiquetas, descripciones, etc.) debe estar en el idioma definido por la variable '{language}'.\"\n",
    "        \"\\n\\nContexto de la consulta de negocio:\"\n",
    "        \"\\n\\n{user_query}\"\n",
    "        \"\\n\\nResultados de la consulta SQL:\"\n",
    "        \"\\n\\n{query_results}\"\n",
    "        \"\\n\\n**Estrategia de Visualización Creativa y Analítica:**\"\n",
    "        \"\\n- **Enfoque de la narrativa:** Cada gráfico debe abordar una faceta diferente del análisis. Combina tipos de gráficos de forma inteligente para guiar al usuario a través de un descubrimiento de datos. Por ejemplo, inicia con una visión general, luego muestra la evolución temporal, sigue con una comparación de rendimiento, y finaliza con la relación entre dos métricas clave.\"\n",
    "        \"\\n- **Juega con la granularidad:** Utiliza diferentes niveles de detalle en cada gráfico para ofrecer una visión completa. Un gráfico puede mostrar una vista de alto nivel (p. ej., ventas totales por año), mientras que otro muestra un detalle más fino (p. ej., ventas por mes desglosadas por categoría).\"\n",
    "        \"\\n- **Diversidad y sinergia:** Elige 4 tipos de gráficos distintos de la siguiente lista: barras (bar), líneas (line), tarta (pie), dispersión (scatter) e histogramas (histogram). La selección debe ser deliberada para potenciar la narrativa de los datos. Evita cualquier repetición de información entre gráficos.\"\n",
    "        \"\\n- **Claridad en gráficos complejos:**\"\n",
    "        \"\\n    - **Gráficos de Tarta (Pie Charts):** Solo utiliza un gráfico de tarta si hay **5 o menos categorías principales**. Si el número de elementos es mayor, agrupa los adicionales en una categoría única llamada 'Otros' para mantener la claridad y la legibilidad.\"\n",
    "        \"\\n    - **Gráficos de Líneas y Dispersión (line y scatter):** Es **imperativo y obligatorio** que estos gráficos muestren múltiples trazas. Cada traza debe corresponder a una categoría o grupo distinto, permitiendo un análisis comparativo y detallado dentro del mismo gráfico. **Evita usar estos gráficos si la serie de datos es demasiado corta (menos de 3 puntos).**\"\n",
    "        \"\\n- **Profesionalismo y prohibiciones:** Mantén una estética empresarial impecable. Los títulos, etiquetas y colores deben ser coherentes y profesionales. **Bajo ninguna circunstancia debes generar mapas de calor (heatmaps), ya que no son parte de este conjunto de visualizaciones.**\"\n",
    "        \"\\n\\n**Directrices de Formato y Salida (Extremadamente Estrictas):**\"\n",
    "        \"\\n- **La salida debe ser ÚNICAMENTE el JSON COMPLETO y VÁLIDO.**\"\n",
    "        \"\\n- **TIENES PROHIBIDO ABSOLUTAMENTE incluir cualquier tipo de texto, explicación, preámbulo, comentarios, o formato adicional (como Markdown, bloques de código, etc.).**\"\n",
    "        \"\\n- **El JSON debe empezar con `{{` y terminar con `}}`.**\"\n",
    "        \"\\n- **Asegura que cada par clave-valor esté separado por una coma (`,`) correcta.**\"\n",
    "        \"\\n- **No debe haber comas adicionales después del último elemento de una lista o diccionario.**\"\n",
    "        \"\\n- **Utiliza siempre comillas dobles (`\\\"`) para las claves y los valores de texto.**\"\n",
    "        \"\\n- **Si se requiere una suma o cualquier otro cálculo, realiza la operación tú mismo y coloca el valor numérico final directamente en el JSON.** **No incluyas expresiones matemáticas ni sumas dentro de los arrays.** Por ejemplo, en lugar de `[10, 20+5, 30]`, escribe `[10, 25, 30]`.\"\n",
    "        \"\\n- **ATENCIÓN: Debes trabajar ÚNICA Y EXCLUSIVAMENTE con los valores y datos proporcionados en los resultados de la consulta. No inventes valores, categorías, fechas, ni ninguna otra información que no esté explícitamente en el conjunto de datos.**\"\n",
    "        \"\\n\\n**Ejemplo del formato JSON requerido:**\"\n",
    "        \"\\n\\n{{\\n\"\n",
    "        \" \\\"dashboard_title\\\": \\\"Título Conciso del Dashboard\\\",\\n\"\n",
    "        \" \\\"charts\\\": [\\n\"\n",
    "        \"  {{\\n\"\n",
    "        \"   \\\"data\\\": [...],\\n\"\n",
    "        \"   \\\"layout\\\": {{\\n\"\n",
    "        \"    \\\"title\\\": \\\"Título del Gráfico 1\\\",\\n\"\n",
    "        \"    \\\"xaxis\\\": {{\\\"title\\\": \\\"Eje X\\\"}},\\n\"\n",
    "        \"    \\\"yaxis\\\": {{\\\"title\\\": \\\"Eje Y\\\"}},\\n\"\n",
    "        \"    \\\"plot_bgcolor\\\": \\\"#f2f2f2\\\",\\n\"\n",
    "        \"    \\\"paper_bgcolor\\\": \\\"#ffffff\\\"\\n\"\n",
    "        \"   }}\\n\"\n",
    "        \"  }},\\n\"\n",
    "        \"  ...\\n\"\n",
    "        \" ]\\n\"\n",
    "        \"}}\\n\"\n",
    "    )\n",
    "}])\n",
    "\n",
    "graphics_generator = graphics_generator_prompt | llm_graphics_generator\n",
    "\n",
    "json_str = graphics_generator.invoke({\n",
    "    'user_query': user_query,\n",
    "    'query_results': convert_to_markdown_table(query_results),\n",
    "    'language': 'Spanish',\n",
    "}).content\n",
    "\n",
    "print(json_str)\n"
   ]
  },
  {
   "cell_type": "code",
   "execution_count": 19,
   "id": "e7f39c90",
   "metadata": {},
   "outputs": [
    {
     "data": {
      "application/vnd.plotly.v1+json": {
       "config": {
        "plotlyServerURL": "https://plot.ly"
       },
       "data": [
        {
         "marker": {
          "color": "#1f77b4"
         },
         "name": "Pedidos Totales",
         "type": "bar",
         "x": [
          "Camiseta clásica, P",
          "Jersey clásico de manga corta, SG",
          "Women's Mountain Shorts, S",
          "Jersey con logotipo de manga larga, G",
          "AWC Logo Cap",
          "Women's Mountain Shorts, L",
          "Jersey clásico de manga corta, G",
          "Calcetines para carreras, G",
          "Camiseta clásica, M",
          "Half-Finger Gloves, M"
         ],
         "xaxis": "x",
         "y": [
          951,
          811,
          694,
          684,
          655,
          618,
          561,
          503,
          469,
          437
         ],
         "yaxis": "y"
        },
        {
         "mode": "lines+markers",
         "name": "Camiseta clásica, P",
         "type": "scatter",
         "x": [
          "primer_mes",
          "segundo_mes",
          "tercer_mes"
         ],
         "xaxis": "x2",
         "y": [
          381,
          380,
          190
         ],
         "yaxis": "y2"
        },
        {
         "domain": {
          "x": [
           0,
           0.45
          ],
          "y": [
           0,
           0.375
          ]
         },
         "insidetextorientation": "radial",
         "labels": [
          "Camiseta",
          "Jersey",
          "Pantalones cortos",
          "Gorra",
          "Otros"
         ],
         "marker": {
          "colors": [
           "#636efa",
           "#ef553b",
           "#00cc96",
           "#ab63fa",
           "#ffa15a"
          ]
         },
         "name": "Pedidos por Subcategoría Agrupada",
         "textinfo": "label+percent",
         "type": "pie",
         "values": [
          1420,
          2056,
          1312,
          655,
          1010
         ]
        },
        {
         "marker": {
          "color": "#19d3f3",
          "size": 12
         },
         "mode": "markers",
         "name": "Relación Primer Mes vs Total de Pedidos",
         "text": [
          "Camiseta clásica, P",
          "Jersey clásico de manga corta, SG",
          "Women's Mountain Shorts, S",
          "Jersey con logotipo de manga larga, G",
          "AWC Logo Cap",
          "Women's Mountain Shorts, L",
          "Jersey clásico de manga corta, G",
          "Calcetines para carreras, G",
          "Camiseta clásica, M",
          "Half-Finger Gloves, M"
         ],
         "type": "scatter",
         "x": [
          381,
          329,
          295,
          312,
          291,
          262,
          217,
          231,
          197,
          187
         ],
         "xaxis": "x3",
         "y": [
          951,
          811,
          694,
          684,
          655,
          618,
          561,
          503,
          469,
          437
         ],
         "yaxis": "y3"
        }
       ],
       "layout": {
        "annotations": [
         {
          "font": {
           "size": 16
          },
          "showarrow": false,
          "text": "Total de Pedidos con Promoción por Producto",
          "x": 0.225,
          "xanchor": "center",
          "xref": "paper",
          "y": 1,
          "yanchor": "bottom",
          "yref": "paper"
         },
         {
          "font": {
           "size": 16
          },
          "showarrow": false,
          "text": "Evolución Mensual de Pedidos con Promoción - Top 4 Productos",
          "x": 0.775,
          "xanchor": "center",
          "xref": "paper",
          "y": 1,
          "yanchor": "bottom",
          "yref": "paper"
         },
         {
          "font": {
           "size": 16
          },
          "showarrow": false,
          "text": "Distribución de Pedidos con Promoción por Categoría Principal",
          "x": 0.225,
          "xanchor": "center",
          "xref": "paper",
          "y": 0.375,
          "yanchor": "bottom",
          "yref": "paper"
         },
         {
          "font": {
           "size": 16
          },
          "showarrow": false,
          "text": "Relación entre Pedidos del Primer Mes y Total de Pedidos con Promoción por Producto",
          "x": 0.775,
          "xanchor": "center",
          "xref": "paper",
          "y": 0.375,
          "yanchor": "bottom",
          "yref": "paper"
         }
        ],
        "autosize": true,
        "font": {
         "family": "Arial, sans-serif",
         "size": 12
        },
        "height": 900,
        "margin": {
         "b": 50,
         "l": 50,
         "r": 50,
         "t": 80
        },
        "paper_bgcolor": "#f2f2f2",
        "plot_bgcolor": "#ffffff",
        "template": {
         "data": {
          "bar": [
           {
            "error_x": {
             "color": "#2a3f5f"
            },
            "error_y": {
             "color": "#2a3f5f"
            },
            "marker": {
             "line": {
              "color": "#E5ECF6",
              "width": 0.5
             },
             "pattern": {
              "fillmode": "overlay",
              "size": 10,
              "solidity": 0.2
             }
            },
            "type": "bar"
           }
          ],
          "barpolar": [
           {
            "marker": {
             "line": {
              "color": "#E5ECF6",
              "width": 0.5
             },
             "pattern": {
              "fillmode": "overlay",
              "size": 10,
              "solidity": 0.2
             }
            },
            "type": "barpolar"
           }
          ],
          "carpet": [
           {
            "aaxis": {
             "endlinecolor": "#2a3f5f",
             "gridcolor": "white",
             "linecolor": "white",
             "minorgridcolor": "white",
             "startlinecolor": "#2a3f5f"
            },
            "baxis": {
             "endlinecolor": "#2a3f5f",
             "gridcolor": "white",
             "linecolor": "white",
             "minorgridcolor": "white",
             "startlinecolor": "#2a3f5f"
            },
            "type": "carpet"
           }
          ],
          "choropleth": [
           {
            "colorbar": {
             "outlinewidth": 0,
             "ticks": ""
            },
            "type": "choropleth"
           }
          ],
          "contour": [
           {
            "colorbar": {
             "outlinewidth": 0,
             "ticks": ""
            },
            "colorscale": [
             [
              0,
              "#0d0887"
             ],
             [
              0.1111111111111111,
              "#46039f"
             ],
             [
              0.2222222222222222,
              "#7201a8"
             ],
             [
              0.3333333333333333,
              "#9c179e"
             ],
             [
              0.4444444444444444,
              "#bd3786"
             ],
             [
              0.5555555555555556,
              "#d8576b"
             ],
             [
              0.6666666666666666,
              "#ed7953"
             ],
             [
              0.7777777777777778,
              "#fb9f3a"
             ],
             [
              0.8888888888888888,
              "#fdca26"
             ],
             [
              1,
              "#f0f921"
             ]
            ],
            "type": "contour"
           }
          ],
          "contourcarpet": [
           {
            "colorbar": {
             "outlinewidth": 0,
             "ticks": ""
            },
            "type": "contourcarpet"
           }
          ],
          "heatmap": [
           {
            "colorbar": {
             "outlinewidth": 0,
             "ticks": ""
            },
            "colorscale": [
             [
              0,
              "#0d0887"
             ],
             [
              0.1111111111111111,
              "#46039f"
             ],
             [
              0.2222222222222222,
              "#7201a8"
             ],
             [
              0.3333333333333333,
              "#9c179e"
             ],
             [
              0.4444444444444444,
              "#bd3786"
             ],
             [
              0.5555555555555556,
              "#d8576b"
             ],
             [
              0.6666666666666666,
              "#ed7953"
             ],
             [
              0.7777777777777778,
              "#fb9f3a"
             ],
             [
              0.8888888888888888,
              "#fdca26"
             ],
             [
              1,
              "#f0f921"
             ]
            ],
            "type": "heatmap"
           }
          ],
          "histogram": [
           {
            "marker": {
             "pattern": {
              "fillmode": "overlay",
              "size": 10,
              "solidity": 0.2
             }
            },
            "type": "histogram"
           }
          ],
          "histogram2d": [
           {
            "colorbar": {
             "outlinewidth": 0,
             "ticks": ""
            },
            "colorscale": [
             [
              0,
              "#0d0887"
             ],
             [
              0.1111111111111111,
              "#46039f"
             ],
             [
              0.2222222222222222,
              "#7201a8"
             ],
             [
              0.3333333333333333,
              "#9c179e"
             ],
             [
              0.4444444444444444,
              "#bd3786"
             ],
             [
              0.5555555555555556,
              "#d8576b"
             ],
             [
              0.6666666666666666,
              "#ed7953"
             ],
             [
              0.7777777777777778,
              "#fb9f3a"
             ],
             [
              0.8888888888888888,
              "#fdca26"
             ],
             [
              1,
              "#f0f921"
             ]
            ],
            "type": "histogram2d"
           }
          ],
          "histogram2dcontour": [
           {
            "colorbar": {
             "outlinewidth": 0,
             "ticks": ""
            },
            "colorscale": [
             [
              0,
              "#0d0887"
             ],
             [
              0.1111111111111111,
              "#46039f"
             ],
             [
              0.2222222222222222,
              "#7201a8"
             ],
             [
              0.3333333333333333,
              "#9c179e"
             ],
             [
              0.4444444444444444,
              "#bd3786"
             ],
             [
              0.5555555555555556,
              "#d8576b"
             ],
             [
              0.6666666666666666,
              "#ed7953"
             ],
             [
              0.7777777777777778,
              "#fb9f3a"
             ],
             [
              0.8888888888888888,
              "#fdca26"
             ],
             [
              1,
              "#f0f921"
             ]
            ],
            "type": "histogram2dcontour"
           }
          ],
          "mesh3d": [
           {
            "colorbar": {
             "outlinewidth": 0,
             "ticks": ""
            },
            "type": "mesh3d"
           }
          ],
          "parcoords": [
           {
            "line": {
             "colorbar": {
              "outlinewidth": 0,
              "ticks": ""
             }
            },
            "type": "parcoords"
           }
          ],
          "pie": [
           {
            "automargin": true,
            "type": "pie"
           }
          ],
          "scatter": [
           {
            "fillpattern": {
             "fillmode": "overlay",
             "size": 10,
             "solidity": 0.2
            },
            "type": "scatter"
           }
          ],
          "scatter3d": [
           {
            "line": {
             "colorbar": {
              "outlinewidth": 0,
              "ticks": ""
             }
            },
            "marker": {
             "colorbar": {
              "outlinewidth": 0,
              "ticks": ""
             }
            },
            "type": "scatter3d"
           }
          ],
          "scattercarpet": [
           {
            "marker": {
             "colorbar": {
              "outlinewidth": 0,
              "ticks": ""
             }
            },
            "type": "scattercarpet"
           }
          ],
          "scattergeo": [
           {
            "marker": {
             "colorbar": {
              "outlinewidth": 0,
              "ticks": ""
             }
            },
            "type": "scattergeo"
           }
          ],
          "scattergl": [
           {
            "marker": {
             "colorbar": {
              "outlinewidth": 0,
              "ticks": ""
             }
            },
            "type": "scattergl"
           }
          ],
          "scattermap": [
           {
            "marker": {
             "colorbar": {
              "outlinewidth": 0,
              "ticks": ""
             }
            },
            "type": "scattermap"
           }
          ],
          "scattermapbox": [
           {
            "marker": {
             "colorbar": {
              "outlinewidth": 0,
              "ticks": ""
             }
            },
            "type": "scattermapbox"
           }
          ],
          "scatterpolar": [
           {
            "marker": {
             "colorbar": {
              "outlinewidth": 0,
              "ticks": ""
             }
            },
            "type": "scatterpolar"
           }
          ],
          "scatterpolargl": [
           {
            "marker": {
             "colorbar": {
              "outlinewidth": 0,
              "ticks": ""
             }
            },
            "type": "scatterpolargl"
           }
          ],
          "scatterternary": [
           {
            "marker": {
             "colorbar": {
              "outlinewidth": 0,
              "ticks": ""
             }
            },
            "type": "scatterternary"
           }
          ],
          "surface": [
           {
            "colorbar": {
             "outlinewidth": 0,
             "ticks": ""
            },
            "colorscale": [
             [
              0,
              "#0d0887"
             ],
             [
              0.1111111111111111,
              "#46039f"
             ],
             [
              0.2222222222222222,
              "#7201a8"
             ],
             [
              0.3333333333333333,
              "#9c179e"
             ],
             [
              0.4444444444444444,
              "#bd3786"
             ],
             [
              0.5555555555555556,
              "#d8576b"
             ],
             [
              0.6666666666666666,
              "#ed7953"
             ],
             [
              0.7777777777777778,
              "#fb9f3a"
             ],
             [
              0.8888888888888888,
              "#fdca26"
             ],
             [
              1,
              "#f0f921"
             ]
            ],
            "type": "surface"
           }
          ],
          "table": [
           {
            "cells": {
             "fill": {
              "color": "#EBF0F8"
             },
             "line": {
              "color": "white"
             }
            },
            "header": {
             "fill": {
              "color": "#C8D4E3"
             },
             "line": {
              "color": "white"
             }
            },
            "type": "table"
           }
          ]
         },
         "layout": {
          "annotationdefaults": {
           "arrowcolor": "#2a3f5f",
           "arrowhead": 0,
           "arrowwidth": 1
          },
          "autotypenumbers": "strict",
          "coloraxis": {
           "colorbar": {
            "outlinewidth": 0,
            "ticks": ""
           }
          },
          "colorscale": {
           "diverging": [
            [
             0,
             "#8e0152"
            ],
            [
             0.1,
             "#c51b7d"
            ],
            [
             0.2,
             "#de77ae"
            ],
            [
             0.3,
             "#f1b6da"
            ],
            [
             0.4,
             "#fde0ef"
            ],
            [
             0.5,
             "#f7f7f7"
            ],
            [
             0.6,
             "#e6f5d0"
            ],
            [
             0.7,
             "#b8e186"
            ],
            [
             0.8,
             "#7fbc41"
            ],
            [
             0.9,
             "#4d9221"
            ],
            [
             1,
             "#276419"
            ]
           ],
           "sequential": [
            [
             0,
             "#0d0887"
            ],
            [
             0.1111111111111111,
             "#46039f"
            ],
            [
             0.2222222222222222,
             "#7201a8"
            ],
            [
             0.3333333333333333,
             "#9c179e"
            ],
            [
             0.4444444444444444,
             "#bd3786"
            ],
            [
             0.5555555555555556,
             "#d8576b"
            ],
            [
             0.6666666666666666,
             "#ed7953"
            ],
            [
             0.7777777777777778,
             "#fb9f3a"
            ],
            [
             0.8888888888888888,
             "#fdca26"
            ],
            [
             1,
             "#f0f921"
            ]
           ],
           "sequentialminus": [
            [
             0,
             "#0d0887"
            ],
            [
             0.1111111111111111,
             "#46039f"
            ],
            [
             0.2222222222222222,
             "#7201a8"
            ],
            [
             0.3333333333333333,
             "#9c179e"
            ],
            [
             0.4444444444444444,
             "#bd3786"
            ],
            [
             0.5555555555555556,
             "#d8576b"
            ],
            [
             0.6666666666666666,
             "#ed7953"
            ],
            [
             0.7777777777777778,
             "#fb9f3a"
            ],
            [
             0.8888888888888888,
             "#fdca26"
            ],
            [
             1,
             "#f0f921"
            ]
           ]
          },
          "colorway": [
           "#636efa",
           "#EF553B",
           "#00cc96",
           "#ab63fa",
           "#FFA15A",
           "#19d3f3",
           "#FF6692",
           "#B6E880",
           "#FF97FF",
           "#FECB52"
          ],
          "font": {
           "color": "#2a3f5f"
          },
          "geo": {
           "bgcolor": "white",
           "lakecolor": "white",
           "landcolor": "#E5ECF6",
           "showlakes": true,
           "showland": true,
           "subunitcolor": "white"
          },
          "hoverlabel": {
           "align": "left"
          },
          "hovermode": "closest",
          "mapbox": {
           "style": "light"
          },
          "paper_bgcolor": "white",
          "plot_bgcolor": "#E5ECF6",
          "polar": {
           "angularaxis": {
            "gridcolor": "white",
            "linecolor": "white",
            "ticks": ""
           },
           "bgcolor": "#E5ECF6",
           "radialaxis": {
            "gridcolor": "white",
            "linecolor": "white",
            "ticks": ""
           }
          },
          "scene": {
           "xaxis": {
            "backgroundcolor": "#E5ECF6",
            "gridcolor": "white",
            "gridwidth": 2,
            "linecolor": "white",
            "showbackground": true,
            "ticks": "",
            "zerolinecolor": "white"
           },
           "yaxis": {
            "backgroundcolor": "#E5ECF6",
            "gridcolor": "white",
            "gridwidth": 2,
            "linecolor": "white",
            "showbackground": true,
            "ticks": "",
            "zerolinecolor": "white"
           },
           "zaxis": {
            "backgroundcolor": "#E5ECF6",
            "gridcolor": "white",
            "gridwidth": 2,
            "linecolor": "white",
            "showbackground": true,
            "ticks": "",
            "zerolinecolor": "white"
           }
          },
          "shapedefaults": {
           "line": {
            "color": "#2a3f5f"
           }
          },
          "ternary": {
           "aaxis": {
            "gridcolor": "white",
            "linecolor": "white",
            "ticks": ""
           },
           "baxis": {
            "gridcolor": "white",
            "linecolor": "white",
            "ticks": ""
           },
           "bgcolor": "#E5ECF6",
           "caxis": {
            "gridcolor": "white",
            "linecolor": "white",
            "ticks": ""
           }
          },
          "title": {
           "x": 0.05
          },
          "xaxis": {
           "automargin": true,
           "gridcolor": "white",
           "linecolor": "white",
           "ticks": "",
           "title": {
            "standoff": 15
           },
           "zerolinecolor": "white",
           "zerolinewidth": 2
          },
          "yaxis": {
           "automargin": true,
           "gridcolor": "white",
           "linecolor": "white",
           "ticks": "",
           "title": {
            "standoff": 15
           },
           "zerolinecolor": "white",
           "zerolinewidth": 2
          }
         }
        },
        "title": {
         "text": "Análisis de Pedidos con Promociones por Producto y Categoría",
         "x": 0.5
        },
        "width": 1600,
        "xaxis": {
         "anchor": "y",
         "domain": [
          0,
          0.45
         ],
         "title": {
          "text": "Producto"
         }
        },
        "xaxis2": {
         "anchor": "y2",
         "domain": [
          0.55,
          1
         ],
         "title": {
          "text": "Meses"
         }
        },
        "xaxis3": {
         "anchor": "y3",
         "domain": [
          0.55,
          1
         ],
         "title": {
          "text": "Pedidos en el Primer Mes"
         }
        },
        "yaxis": {
         "anchor": "x",
         "domain": [
          0.625,
          1
         ],
         "title": {
          "text": "Cantidad Total de Pedidos"
         }
        },
        "yaxis2": {
         "anchor": "x2",
         "domain": [
          0.625,
          1
         ],
         "title": {
          "text": "Cantidad de Pedidos"
         }
        },
        "yaxis3": {
         "anchor": "x3",
         "domain": [
          0,
          0.375
         ],
         "title": {
          "text": "Pedidos Totales"
         }
        }
       }
      }
     },
     "metadata": {},
     "output_type": "display_data"
    }
   ],
   "source": [
    "create_dashboard_from_json(json_str)"
   ]
  },
  {
   "cell_type": "markdown",
   "id": "5b41b672",
   "metadata": {},
   "source": [
    "## 6. Nodos"
   ]
  },
  {
   "cell_type": "code",
   "execution_count": 20,
   "id": "5ff65ca9",
   "metadata": {},
   "outputs": [],
   "source": [
    "def nl_conclusions_generation_node(state: ConclusionsGeneratorState):\n",
    "    \"\"\"\n",
    "    Nodo que analiza los resultados de la consulta SQL y genera \n",
    "    conclusiones relevantes para la consulta del usuario.\n",
    "    \"\"\"\n",
    "    print(\"\\n--- INICIANDO GENERACIÓN DE CONCLUSIONES 📝 ---\")\n",
    "    user_query = state['user_query']\n",
    "    language = state['language']\n",
    "    query_results = state['query_results']\n",
    "\n",
    "    nl_output = nl_conclusions_generator.invoke({\n",
    "        'user_query': user_query,\n",
    "        'language': language,\n",
    "        'query_results': convert_to_markdown_table(query_results),\n",
    "        'n_phrases': CONLUSIONS_N_PHRASES,\n",
    "    }).content\n",
    "    \n",
    "    return {\"nl_output\": nl_output}\n",
    "\n",
    "\n",
    "def sql_query_explanation_node(state: ConclusionsGeneratorState):\n",
    "    \"\"\"\n",
    "    Nodo que analiza la consulta SQL frente a la consulta del \n",
    "    usuario y genera una breve explicación de lo desarrollado.\n",
    "    \"\"\"\n",
    "    print(\"\\n--- INICIANDO EXPLICACIÓN DE CONSULTA SQL 🗂️ ---\")\n",
    "    user_query = state['user_query']\n",
    "    language = state['language']\n",
    "    sql_query = state['sql_query']\n",
    "\n",
    "    sql_explanation = nl_sql_explanation_generator.invoke({\n",
    "        'user_query': user_query,\n",
    "        'language': language,\n",
    "        'sql_query': sql_query,\n",
    "    }).content\n",
    "    \n",
    "    return {\"sql_explanation\": sql_explanation}\n",
    "\n",
    "\n",
    "def graphs_generation_node(state: ConclusionsGeneratorState) -> dict:\n",
    "    \"\"\"\n",
    "    Nodo que genera gráficos basados en los resultados de la consulta SQL, \n",
    "    que sean relevantes para la consulta del usuario.\n",
    "    \"\"\"\n",
    "    print(\"\\n--- INICIANDO GENERACIÓN DE GRÁFICOS 📊 ---\")\n",
    "    user_query = state['user_query']\n",
    "    language = state['language']\n",
    "    query_results = state['query_results']\n",
    "    graphs_retries = state.get('graphs_retries', 0) + 1\n",
    "    \n",
    "    graphics_json = graphics_generator.invoke({\n",
    "        'user_query': user_query,\n",
    "        'language': language,\n",
    "        'query_results': convert_to_markdown_table(query_results),\n",
    "    }).content\n",
    "\n",
    "    if create_dashboard_from_json(graphics_json) is None:\n",
    "        print(f\"\\n❌ Error al generar gráficos\")\n",
    "        return {\n",
    "            \"graphics_json\": None,\n",
    "            \"graphs_retries\": graphs_retries\n",
    "        }\n",
    "\n",
    "    return {\"graphics_json\": graphics_json}\n",
    "\n"
   ]
  },
  {
   "cell_type": "markdown",
   "id": "54cbd1d7",
   "metadata": {},
   "source": [
    "## 7. Grafo"
   ]
  },
  {
   "cell_type": "code",
   "execution_count": 21,
   "id": "f221fde7",
   "metadata": {},
   "outputs": [
    {
     "data": {
      "image/png": "[encoded data removed]",
      "text/plain": [
       "<IPython.core.display.Image object>"
      ]
     },
     "execution_count": 21,
     "metadata": {},
     "output_type": "execute_result"
    }
   ],
   "source": [
    "workflow = StateGraph(\n",
    "    state_schema= ConclusionsGeneratorState,\n",
    "    input_schema= ConclusionsGeneratorState,\n",
    "    output_schema= ConclusionsGeneratorOutputState,\n",
    ")\n",
    "\n",
    "workflow.add_node('generate_nl_conclusions', nl_conclusions_generation_node)\n",
    "workflow.add_node('generate_sql_explanation', sql_query_explanation_node)\n",
    "workflow.add_node('generate_plotly_graphs', graphs_generation_node)\n",
    "\n",
    "workflow.add_edge(START, 'generate_nl_conclusions')\n",
    "workflow.add_edge(START, 'generate_sql_explanation')\n",
    "workflow.add_edge('generate_nl_conclusions', 'generate_plotly_graphs')\n",
    "workflow.add_edge('generate_sql_explanation', 'generate_plotly_graphs')\n",
    "workflow.add_conditional_edges(\n",
    "    'generate_plotly_graphs',\n",
    "    lambda state: (\n",
    "        'retry'\n",
    "        if state.get('graphics_json') is None \n",
    "        and state.get('graphs_retries', 0) < MAX_RETRIES\n",
    "        else 'continue'\n",
    "    ),\n",
    "    {\n",
    "        'retry': 'generate_plotly_graphs',\n",
    "        'continue': END\n",
    "    }\n",
    ")\n",
    "\n",
    "conclusions_generator = workflow.compile()\n",
    "\n",
    "Image(conclusions_generator.get_graph().draw_mermaid_png())"
   ]
  },
  {
   "cell_type": "markdown",
   "id": "daff2ab2",
   "metadata": {},
   "source": [
    "## 8. Ejemplos"
   ]
  },
  {
   "cell_type": "code",
   "execution_count": 22,
   "id": "fb70468f",
   "metadata": {},
   "outputs": [
    {
     "name": "stdout",
     "output_type": "stream",
     "text": [
      "\n",
      "--- INICIANDO GENERACIÓN DE CONCLUSIONES 📝 ---\n",
      "\n",
      "--- INICIANDO EXPLICACIÓN DE CONSULTA SQL 🗂️ ---\n",
      "\n",
      "--- INICIANDO GENERACIÓN DE GRÁFICOS 📊 ---\n"
     ]
    },
    {
     "data": {
      "text/plain": [
       "{'nl_output': '1. La camiseta clásica (talla P) lidera en pedidos con promociones, acumulando un total de 951 unidades en tres meses.  \\n2. Los jerseys clásicos de manga corta (talla SG) ocupan el segundo lugar con 811 unidades totales.  \\n3. Los pantalones cortos Women\\'s Mountain Shorts (talla S) registran 694 unidades, destacándose en la categoría de prendas inferiores.  \\n4. El jersey con logotipo de manga larga (talla G) alcanza 684 unidades, siendo el segundo producto más solicitado en la subcategoría de jerseys.  \\n5. La gorra AWC Logo Cap acumula 655 unidades, posicionándose como el accesorio más demandado.  \\n6. Los pantalones cortos Women\\'s Mountain Shorts (talla L) suman 618 unidades, mostrando consistencia en la demanda por tallas grandes.  \\n7. Los calcetines para carreras (talla G) registran 503 unidades, liderando en la subcategoría de calcetines.  \\n8. La camiseta clásica (talla M) acumula 469 unidades, siendo la segunda talla más solicitada en esta subcategoría.  \\n9. Los guantes Half-Finger Gloves (talla M) alcanzan 437 unidades, destacándose en la subcategoría de guantes.  \\n10. Los productos de la categoría \"Prenda\" dominan la lista, reflejando una alta preferencia por promociones en ropa y accesorios.  ',\n",
       " 'sql_explanation': '## Análisis de la Lógica de la Consulta\\n\\nLa consulta identifica los productos más vendidos en el último trimestre (excluyendo accesorios) dentro de las ventas realizadas por revendedores. Primero, se filtran las ventas del último trimestre y se excluyen los productos categorizados como \"Accesorio\". Luego, se agrupan los datos por producto para calcular la cantidad total vendida y se seleccionan los 10 productos con mayor volumen de ventas. Finalmente, se analiza la distribución de las ventas de estos productos por mes dentro del trimestre, mostrando las cantidades vendidas en cada mes y el total acumulado.\\n\\n## Conclusión y Resultados Clave\\n\\nLa consulta genera un informe que detalla los 10 productos más vendidos en el último trimestre, junto con su categoría y subcategoría. Además, desglosa las ventas mensuales dentro del trimestre y calcula el total acumulado. Esto permite identificar patrones de demanda y evaluar el rendimiento de los productos más populares en el contexto de las promociones y ventas realizadas por revendedores.',\n",
       " 'graphics_json': '{\\n  \"dashboard_title\": \"Análisis de Productos con Mayor Cantidad de Pedidos Promocionales\",\\n  \"charts\": [\\n    {\\n      \"data\": [\\n        {\\n          \"type\": \"bar\",\\n          \"x\": [\\n            \"Camiseta clásica, P\",\\n            \"Jersey clásico de manga corta, SG\",\\n            \"Women\\'s Mountain Shorts, S\",\\n            \"Jersey con logotipo de manga larga, G\",\\n            \"AWC Logo Cap\",\\n            \"Women\\'s Mountain Shorts, L\",\\n            \"Jersey clásico de manga corta, G\",\\n            \"Calcetines para carreras, G\",\\n            \"Camiseta clásica, M\",\\n            \"Half-Finger Gloves, M\"\\n          ],\\n          \"y\": [951, 811, 694, 684, 655, 618, 561, 503, 469, 437],\\n          \"marker\": {\"color\": \"#1f77b4\"},\\n          \"name\": \"Total de Pedidos con Promoción\"\\n        }\\n      ],\\n      \"layout\": {\\n        \"title\": \"Total de Pedidos con Promoción por Producto\",\\n        \"xaxis\": {\"title\": \"Producto\", \"tickangle\": -45},\\n        \"yaxis\": {\"title\": \"Cantidad Total\"},\\n        \"plot_bgcolor\": \"#f9f9f9\",\\n        \"paper_bgcolor\": \"#ffffff\",\\n        \"bargap\": 0.3\\n      }\\n    },\\n    {\\n      \"data\": [\\n        {\\n          \"type\": \"line\",\\n          \"x\": [\"primer_mes\", \"segundo_mes\", \"tercer_mes\"],\\n          \"y\": [381, 380, 190],\\n          \"mode\": \"lines+markers\",\\n          \"name\": \"Camiseta clásica, P\"\\n        },\\n        {\\n          \"type\": \"line\",\\n          \"x\": [\"primer_mes\", \"segundo_mes\", \"tercer_mes\"],\\n          \"y\": [329, 299, 183],\\n          \"mode\": \"lines+markers\",\\n          \"name\": \"Jersey clásico de manga corta, SG\"\\n        },\\n        {\\n          \"type\": \"line\",\\n          \"x\": [\"primer_mes\", \"segundo_mes\", \"tercer_mes\"],\\n          \"y\": [295, 258, 141],\\n          \"mode\": \"lines+markers\",\\n          \"name\": \"Women\\'s Mountain Shorts, S\"\\n        },\\n        {\\n          \"type\": \"line\",\\n          \"x\": [\"primer_mes\", \"segundo_mes\", \"tercer_mes\"],\\n          \"y\": [312, 243, 129],\\n          \"mode\": \"lines+markers\",\\n          \"name\": \"Jersey con logotipo de manga larga, G\"\\n        },\\n        {\\n          \"type\": \"line\",\\n          \"x\": [\"primer_mes\", \"segundo_mes\", \"tercer_mes\"],\\n          \"y\": [291, 243, 121],\\n          \"mode\": \"lines+markers\",\\n          \"name\": \"AWC Logo Cap\"\\n        }\\n      ],\\n      \"layout\": {\\n        \"title\": \"Evolución Mensual de Pedidos con Promoción para los 5 Productos Líderes\",\\n        \"xaxis\": {\"title\": \"Mes\"},\\n        \"yaxis\": {\"title\": \"Cantidad de Pedidos\"},\\n        \"plot_bgcolor\": \"#f9f9f9\",\\n        \"paper_bgcolor\": \"#ffffff\"\\n      }\\n    },\\n    {\\n      \"data\": [\\n        {\\n          \"type\": \"pie\",\\n          \"labels\": [\"Camiseta\", \"Jersey\", \"Pantalones cortos\", \"Gorra\", \"Calcetines\", \"Otros\"],\\n          \"values\": [1420, 2056, 1312, 655, 503, 906],\\n          \"marker\": {\"colors\": [\"#1f77b4\", \"#ff7f0e\", \"#2ca02c\", \"#d62728\", \"#9467bd\", \"#8c564b\"]}\\n        }\\n      ],\\n      \"layout\": {\\n        \"title\": \"Distribución de Pedidos Promocionales por Subcategoría (Agrupando Menos Relevantes)\",\\n        \"plot_bgcolor\": \"#f9f9f9\",\\n        \"paper_bgcolor\": \"#ffffff\"\\n      }\\n    },\\n    {\\n      \"data\": [\\n        {\\n          \"type\": \"scatter\",\\n          \"x\": [951, 811, 694, 684, 655, 618, 561, 503, 469, 437],\\n          \"y\": [381, 329, 295, 312, 291, 262, 217, 231, 197, 187],\\n          \"mode\": \"markers+text\",\\n          \"text\": [\\n            \"Camiseta clásica, P\",\\n            \"Jersey clásico de manga corta, SG\",\\n            \"Women\\'s Mountain Shorts, S\",\\n            \"Jersey con logotipo de manga larga, G\",\\n            \"AWC Logo Cap\",\\n            \"Women\\'s Mountain Shorts, L\",\\n            \"Jersey clásico de manga corta, G\",\\n            \"Calcetines para carreras, G\",\\n            \"Camiseta clásica, M\",\\n            \"Half-Finger Gloves, M\"\\n          ],\\n          \"textposition\": \"top center\",\\n          \"marker\": {\"size\": 12, \"color\": \"#17becf\"}\\n        }\\n      ],\\n      \"layout\": {\\n        \"title\": \"Relación entre Total de Pedidos y Pedidos del Primer Mes por Producto\",\\n        \"xaxis\": {\"title\": \"Total de Pedidos con Promoción\"},\\n        \"yaxis\": {\"title\": \"Pedidos en el Primer Mes\"},\\n        \"plot_bgcolor\": \"#f9f9f9\",\\n        \"paper_bgcolor\": \"#ffffff\"\\n      }\\n    }\\n  ]\\n}'}"
      ]
     },
     "execution_count": 22,
     "metadata": {},
     "output_type": "execute_result"
    }
   ],
   "source": [
    "response = conclusions_generator.invoke({\n",
    "    'user_query': user_query,\n",
    "    'language': 'Spanish',\n",
    "    'sql_query': sql_query,\n",
    "    'query_results': query_results,\n",
    "})\n",
    "\n",
    "response"
   ]
  },
  {
   "cell_type": "code",
   "execution_count": 23,
   "id": "6f2e4052",
   "metadata": {},
   "outputs": [
    {
     "name": "stdout",
     "output_type": "stream",
     "text": [
      "1. La camiseta clásica (talla P) lidera en pedidos con promociones, acumulando un total de 951 unidades en tres meses.  \n",
      "2. Los jerseys clásicos de manga corta (talla SG) ocupan el segundo lugar con 811 unidades totales.  \n",
      "3. Los pantalones cortos Women's Mountain Shorts (talla S) registran 694 unidades, destacándose en la categoría de prendas inferiores.  \n",
      "4. El jersey con logotipo de manga larga (talla G) alcanza 684 unidades, siendo el segundo producto más solicitado en la subcategoría de jerseys.  \n",
      "5. La gorra AWC Logo Cap acumula 655 unidades, posicionándose como el accesorio más demandado.  \n",
      "6. Los pantalones cortos Women's Mountain Shorts (talla L) suman 618 unidades, mostrando consistencia en la demanda por tallas grandes.  \n",
      "7. Los calcetines para carreras (talla G) registran 503 unidades, liderando en la subcategoría de calcetines.  \n",
      "8. La camiseta clásica (talla M) acumula 469 unidades, siendo la segunda talla más solicitada en esta subcategoría.  \n",
      "9. Los guantes Half-Finger Gloves (talla M) alcanzan 437 unidades, destacándose en la subcategoría de guantes.  \n",
      "10. Los productos de la categoría \"Prenda\" dominan la lista, reflejando una alta preferencia por promociones en ropa y accesorios.  \n"
     ]
    }
   ],
   "source": [
    "print(response['nl_output'])"
   ]
  },
  {
   "cell_type": "code",
   "execution_count": 24,
   "id": "06c05923",
   "metadata": {},
   "outputs": [
    {
     "name": "stdout",
     "output_type": "stream",
     "text": [
      "## Análisis de la Lógica de la Consulta\n",
      "\n",
      "La consulta identifica los productos más vendidos en el último trimestre (excluyendo accesorios) dentro de las ventas realizadas por revendedores. Primero, se filtran las ventas del último trimestre y se excluyen los productos categorizados como \"Accesorio\". Luego, se agrupan los datos por producto para calcular la cantidad total vendida y se seleccionan los 10 productos con mayor volumen de ventas. Finalmente, se analiza la distribución de las ventas de estos productos por mes dentro del trimestre, mostrando las cantidades vendidas en cada mes y el total acumulado.\n",
      "\n",
      "## Conclusión y Resultados Clave\n",
      "\n",
      "La consulta genera un informe que detalla los 10 productos más vendidos en el último trimestre, junto con su categoría y subcategoría. Además, desglosa las ventas mensuales dentro del trimestre y calcula el total acumulado. Esto permite identificar patrones de demanda y evaluar el rendimiento de los productos más populares en el contexto de las promociones y ventas realizadas por revendedores.\n"
     ]
    }
   ],
   "source": [
    "print(response['sql_explanation'])"
   ]
  },
  {
   "cell_type": "code",
   "execution_count": 25,
   "id": "548058ea",
   "metadata": {},
   "outputs": [
    {
     "data": {
      "application/vnd.plotly.v1+json": {
       "config": {
        "plotlyServerURL": "https://plot.ly"
       },
       "data": [
        {
         "marker": {
          "color": "#1f77b4"
         },
         "name": "Total de Pedidos con Promoción",
         "type": "bar",
         "x": [
          "Camiseta clásica, P",
          "Jersey clásico de manga corta, SG",
          "Women's Mountain Shorts, S",
          "Jersey con logotipo de manga larga, G",
          "AWC Logo Cap",
          "Women's Mountain Shorts, L",
          "Jersey clásico de manga corta, G",
          "Calcetines para carreras, G",
          "Camiseta clásica, M",
          "Half-Finger Gloves, M"
         ],
         "xaxis": "x",
         "y": [
          951,
          811,
          694,
          684,
          655,
          618,
          561,
          503,
          469,
          437
         ],
         "yaxis": "y"
        },
        {
         "mode": "lines+markers",
         "name": "Camiseta clásica, P",
         "type": "scatter",
         "x": [
          "primer_mes",
          "segundo_mes",
          "tercer_mes"
         ],
         "xaxis": "x2",
         "y": [
          381,
          380,
          190
         ],
         "yaxis": "y2"
        },
        {
         "domain": {
          "x": [
           0,
           0.45
          ],
          "y": [
           0,
           0.375
          ]
         },
         "labels": [
          "Camiseta",
          "Jersey",
          "Pantalones cortos",
          "Gorra",
          "Calcetines",
          "Otros"
         ],
         "marker": {
          "colors": [
           "#1f77b4",
           "#ff7f0e",
           "#2ca02c",
           "#d62728",
           "#9467bd",
           "#8c564b"
          ]
         },
         "type": "pie",
         "values": [
          1420,
          2056,
          1312,
          655,
          503,
          906
         ]
        },
        {
         "marker": {
          "color": "#17becf",
          "size": 12
         },
         "mode": "markers+text",
         "text": [
          "Camiseta clásica, P",
          "Jersey clásico de manga corta, SG",
          "Women's Mountain Shorts, S",
          "Jersey con logotipo de manga larga, G",
          "AWC Logo Cap",
          "Women's Mountain Shorts, L",
          "Jersey clásico de manga corta, G",
          "Calcetines para carreras, G",
          "Camiseta clásica, M",
          "Half-Finger Gloves, M"
         ],
         "textposition": "top center",
         "type": "scatter",
         "x": [
          951,
          811,
          694,
          684,
          655,
          618,
          561,
          503,
          469,
          437
         ],
         "xaxis": "x3",
         "y": [
          381,
          329,
          295,
          312,
          291,
          262,
          217,
          231,
          197,
          187
         ],
         "yaxis": "y3"
        }
       ],
       "layout": {
        "annotations": [
         {
          "font": {
           "size": 16
          },
          "showarrow": false,
          "text": "Total de Pedidos con Promoción por Producto",
          "x": 0.225,
          "xanchor": "center",
          "xref": "paper",
          "y": 1,
          "yanchor": "bottom",
          "yref": "paper"
         },
         {
          "font": {
           "size": 16
          },
          "showarrow": false,
          "text": "Evolución Mensual de Pedidos con Promoción para los 5 Productos Líderes",
          "x": 0.775,
          "xanchor": "center",
          "xref": "paper",
          "y": 1,
          "yanchor": "bottom",
          "yref": "paper"
         },
         {
          "font": {
           "size": 16
          },
          "showarrow": false,
          "text": "Distribución de Pedidos Promocionales por Subcategoría (Agrupando Menos Relevantes)",
          "x": 0.225,
          "xanchor": "center",
          "xref": "paper",
          "y": 0.375,
          "yanchor": "bottom",
          "yref": "paper"
         },
         {
          "font": {
           "size": 16
          },
          "showarrow": false,
          "text": "Relación entre Total de Pedidos y Pedidos del Primer Mes por Producto",
          "x": 0.775,
          "xanchor": "center",
          "xref": "paper",
          "y": 0.375,
          "yanchor": "bottom",
          "yref": "paper"
         }
        ],
        "autosize": true,
        "font": {
         "family": "Arial, sans-serif",
         "size": 12
        },
        "height": 900,
        "margin": {
         "b": 50,
         "l": 50,
         "r": 50,
         "t": 80
        },
        "paper_bgcolor": "#f2f2f2",
        "plot_bgcolor": "#ffffff",
        "template": {
         "data": {
          "bar": [
           {
            "error_x": {
             "color": "#2a3f5f"
            },
            "error_y": {
             "color": "#2a3f5f"
            },
            "marker": {
             "line": {
              "color": "#E5ECF6",
              "width": 0.5
             },
             "pattern": {
              "fillmode": "overlay",
              "size": 10,
              "solidity": 0.2
             }
            },
            "type": "bar"
           }
          ],
          "barpolar": [
           {
            "marker": {
             "line": {
              "color": "#E5ECF6",
              "width": 0.5
             },
             "pattern": {
              "fillmode": "overlay",
              "size": 10,
              "solidity": 0.2
             }
            },
            "type": "barpolar"
           }
          ],
          "carpet": [
           {
            "aaxis": {
             "endlinecolor": "#2a3f5f",
             "gridcolor": "white",
             "linecolor": "white",
             "minorgridcolor": "white",
             "startlinecolor": "#2a3f5f"
            },
            "baxis": {
             "endlinecolor": "#2a3f5f",
             "gridcolor": "white",
             "linecolor": "white",
             "minorgridcolor": "white",
             "startlinecolor": "#2a3f5f"
            },
            "type": "carpet"
           }
          ],
          "choropleth": [
           {
            "colorbar": {
             "outlinewidth": 0,
             "ticks": ""
            },
            "type": "choropleth"
           }
          ],
          "contour": [
           {
            "colorbar": {
             "outlinewidth": 0,
             "ticks": ""
            },
            "colorscale": [
             [
              0,
              "#0d0887"
             ],
             [
              0.1111111111111111,
              "#46039f"
             ],
             [
              0.2222222222222222,
              "#7201a8"
             ],
             [
              0.3333333333333333,
              "#9c179e"
             ],
             [
              0.4444444444444444,
              "#bd3786"
             ],
             [
              0.5555555555555556,
              "#d8576b"
             ],
             [
              0.6666666666666666,
              "#ed7953"
             ],
             [
              0.7777777777777778,
              "#fb9f3a"
             ],
             [
              0.8888888888888888,
              "#fdca26"
             ],
             [
              1,
              "#f0f921"
             ]
            ],
            "type": "contour"
           }
          ],
          "contourcarpet": [
           {
            "colorbar": {
             "outlinewidth": 0,
             "ticks": ""
            },
            "type": "contourcarpet"
           }
          ],
          "heatmap": [
           {
            "colorbar": {
             "outlinewidth": 0,
             "ticks": ""
            },
            "colorscale": [
             [
              0,
              "#0d0887"
             ],
             [
              0.1111111111111111,
              "#46039f"
             ],
             [
              0.2222222222222222,
              "#7201a8"
             ],
             [
              0.3333333333333333,
              "#9c179e"
             ],
             [
              0.4444444444444444,
              "#bd3786"
             ],
             [
              0.5555555555555556,
              "#d8576b"
             ],
             [
              0.6666666666666666,
              "#ed7953"
             ],
             [
              0.7777777777777778,
              "#fb9f3a"
             ],
             [
              0.8888888888888888,
              "#fdca26"
             ],
             [
              1,
              "#f0f921"
             ]
            ],
            "type": "heatmap"
           }
          ],
          "histogram": [
           {
            "marker": {
             "pattern": {
              "fillmode": "overlay",
              "size": 10,
              "solidity": 0.2
             }
            },
            "type": "histogram"
           }
          ],
          "histogram2d": [
           {
            "colorbar": {
             "outlinewidth": 0,
             "ticks": ""
            },
            "colorscale": [
             [
              0,
              "#0d0887"
             ],
             [
              0.1111111111111111,
              "#46039f"
             ],
             [
              0.2222222222222222,
              "#7201a8"
             ],
             [
              0.3333333333333333,
              "#9c179e"
             ],
             [
              0.4444444444444444,
              "#bd3786"
             ],
             [
              0.5555555555555556,
              "#d8576b"
             ],
             [
              0.6666666666666666,
              "#ed7953"
             ],
             [
              0.7777777777777778,
              "#fb9f3a"
             ],
             [
              0.8888888888888888,
              "#fdca26"
             ],
             [
              1,
              "#f0f921"
             ]
            ],
            "type": "histogram2d"
           }
          ],
          "histogram2dcontour": [
           {
            "colorbar": {
             "outlinewidth": 0,
             "ticks": ""
            },
            "colorscale": [
             [
              0,
              "#0d0887"
             ],
             [
              0.1111111111111111,
              "#46039f"
             ],
             [
              0.2222222222222222,
              "#7201a8"
             ],
             [
              0.3333333333333333,
              "#9c179e"
             ],
             [
              0.4444444444444444,
              "#bd3786"
             ],
             [
              0.5555555555555556,
              "#d8576b"
             ],
             [
              0.6666666666666666,
              "#ed7953"
             ],
             [
              0.7777777777777778,
              "#fb9f3a"
             ],
             [
              0.8888888888888888,
              "#fdca26"
             ],
             [
              1,
              "#f0f921"
             ]
            ],
            "type": "histogram2dcontour"
           }
          ],
          "mesh3d": [
           {
            "colorbar": {
             "outlinewidth": 0,
             "ticks": ""
            },
            "type": "mesh3d"
           }
          ],
          "parcoords": [
           {
            "line": {
             "colorbar": {
              "outlinewidth": 0,
              "ticks": ""
             }
            },
            "type": "parcoords"
           }
          ],
          "pie": [
           {
            "automargin": true,
            "type": "pie"
           }
          ],
          "scatter": [
           {
            "fillpattern": {
             "fillmode": "overlay",
             "size": 10,
             "solidity": 0.2
            },
            "type": "scatter"
           }
          ],
          "scatter3d": [
           {
            "line": {
             "colorbar": {
              "outlinewidth": 0,
              "ticks": ""
             }
            },
            "marker": {
             "colorbar": {
              "outlinewidth": 0,
              "ticks": ""
             }
            },
            "type": "scatter3d"
           }
          ],
          "scattercarpet": [
           {
            "marker": {
             "colorbar": {
              "outlinewidth": 0,
              "ticks": ""
             }
            },
            "type": "scattercarpet"
           }
          ],
          "scattergeo": [
           {
            "marker": {
             "colorbar": {
              "outlinewidth": 0,
              "ticks": ""
             }
            },
            "type": "scattergeo"
           }
          ],
          "scattergl": [
           {
            "marker": {
             "colorbar": {
              "outlinewidth": 0,
              "ticks": ""
             }
            },
            "type": "scattergl"
           }
          ],
          "scattermap": [
           {
            "marker": {
             "colorbar": {
              "outlinewidth": 0,
              "ticks": ""
             }
            },
            "type": "scattermap"
           }
          ],
          "scattermapbox": [
           {
            "marker": {
             "colorbar": {
              "outlinewidth": 0,
              "ticks": ""
             }
            },
            "type": "scattermapbox"
           }
          ],
          "scatterpolar": [
           {
            "marker": {
             "colorbar": {
              "outlinewidth": 0,
              "ticks": ""
             }
            },
            "type": "scatterpolar"
           }
          ],
          "scatterpolargl": [
           {
            "marker": {
             "colorbar": {
              "outlinewidth": 0,
              "ticks": ""
             }
            },
            "type": "scatterpolargl"
           }
          ],
          "scatterternary": [
           {
            "marker": {
             "colorbar": {
              "outlinewidth": 0,
              "ticks": ""
             }
            },
            "type": "scatterternary"
           }
          ],
          "surface": [
           {
            "colorbar": {
             "outlinewidth": 0,
             "ticks": ""
            },
            "colorscale": [
             [
              0,
              "#0d0887"
             ],
             [
              0.1111111111111111,
              "#46039f"
             ],
             [
              0.2222222222222222,
              "#7201a8"
             ],
             [
              0.3333333333333333,
              "#9c179e"
             ],
             [
              0.4444444444444444,
              "#bd3786"
             ],
             [
              0.5555555555555556,
              "#d8576b"
             ],
             [
              0.6666666666666666,
              "#ed7953"
             ],
             [
              0.7777777777777778,
              "#fb9f3a"
             ],
             [
              0.8888888888888888,
              "#fdca26"
             ],
             [
              1,
              "#f0f921"
             ]
            ],
            "type": "surface"
           }
          ],
          "table": [
           {
            "cells": {
             "fill": {
              "color": "#EBF0F8"
             },
             "line": {
              "color": "white"
             }
            },
            "header": {
             "fill": {
              "color": "#C8D4E3"
             },
             "line": {
              "color": "white"
             }
            },
            "type": "table"
           }
          ]
         },
         "layout": {
          "annotationdefaults": {
           "arrowcolor": "#2a3f5f",
           "arrowhead": 0,
           "arrowwidth": 1
          },
          "autotypenumbers": "strict",
          "coloraxis": {
           "colorbar": {
            "outlinewidth": 0,
            "ticks": ""
           }
          },
          "colorscale": {
           "diverging": [
            [
             0,
             "#8e0152"
            ],
            [
             0.1,
             "#c51b7d"
            ],
            [
             0.2,
             "#de77ae"
            ],
            [
             0.3,
             "#f1b6da"
            ],
            [
             0.4,
             "#fde0ef"
            ],
            [
             0.5,
             "#f7f7f7"
            ],
            [
             0.6,
             "#e6f5d0"
            ],
            [
             0.7,
             "#b8e186"
            ],
            [
             0.8,
             "#7fbc41"
            ],
            [
             0.9,
             "#4d9221"
            ],
            [
             1,
             "#276419"
            ]
           ],
           "sequential": [
            [
             0,
             "#0d0887"
            ],
            [
             0.1111111111111111,
             "#46039f"
            ],
            [
             0.2222222222222222,
             "#7201a8"
            ],
            [
             0.3333333333333333,
             "#9c179e"
            ],
            [
             0.4444444444444444,
             "#bd3786"
            ],
            [
             0.5555555555555556,
             "#d8576b"
            ],
            [
             0.6666666666666666,
             "#ed7953"
            ],
            [
             0.7777777777777778,
             "#fb9f3a"
            ],
            [
             0.8888888888888888,
             "#fdca26"
            ],
            [
             1,
             "#f0f921"
            ]
           ],
           "sequentialminus": [
            [
             0,
             "#0d0887"
            ],
            [
             0.1111111111111111,
             "#46039f"
            ],
            [
             0.2222222222222222,
             "#7201a8"
            ],
            [
             0.3333333333333333,
             "#9c179e"
            ],
            [
             0.4444444444444444,
             "#bd3786"
            ],
            [
             0.5555555555555556,
             "#d8576b"
            ],
            [
             0.6666666666666666,
             "#ed7953"
            ],
            [
             0.7777777777777778,
             "#fb9f3a"
            ],
            [
             0.8888888888888888,
             "#fdca26"
            ],
            [
             1,
             "#f0f921"
            ]
           ]
          },
          "colorway": [
           "#636efa",
           "#EF553B",
           "#00cc96",
           "#ab63fa",
           "#FFA15A",
           "#19d3f3",
           "#FF6692",
           "#B6E880",
           "#FF97FF",
           "#FECB52"
          ],
          "font": {
           "color": "#2a3f5f"
          },
          "geo": {
           "bgcolor": "white",
           "lakecolor": "white",
           "landcolor": "#E5ECF6",
           "showlakes": true,
           "showland": true,
           "subunitcolor": "white"
          },
          "hoverlabel": {
           "align": "left"
          },
          "hovermode": "closest",
          "mapbox": {
           "style": "light"
          },
          "paper_bgcolor": "white",
          "plot_bgcolor": "#E5ECF6",
          "polar": {
           "angularaxis": {
            "gridcolor": "white",
            "linecolor": "white",
            "ticks": ""
           },
           "bgcolor": "#E5ECF6",
           "radialaxis": {
            "gridcolor": "white",
            "linecolor": "white",
            "ticks": ""
           }
          },
          "scene": {
           "xaxis": {
            "backgroundcolor": "#E5ECF6",
            "gridcolor": "white",
            "gridwidth": 2,
            "linecolor": "white",
            "showbackground": true,
            "ticks": "",
            "zerolinecolor": "white"
           },
           "yaxis": {
            "backgroundcolor": "#E5ECF6",
            "gridcolor": "white",
            "gridwidth": 2,
            "linecolor": "white",
            "showbackground": true,
            "ticks": "",
            "zerolinecolor": "white"
           },
           "zaxis": {
            "backgroundcolor": "#E5ECF6",
            "gridcolor": "white",
            "gridwidth": 2,
            "linecolor": "white",
            "showbackground": true,
            "ticks": "",
            "zerolinecolor": "white"
           }
          },
          "shapedefaults": {
           "line": {
            "color": "#2a3f5f"
           }
          },
          "ternary": {
           "aaxis": {
            "gridcolor": "white",
            "linecolor": "white",
            "ticks": ""
           },
           "baxis": {
            "gridcolor": "white",
            "linecolor": "white",
            "ticks": ""
           },
           "bgcolor": "#E5ECF6",
           "caxis": {
            "gridcolor": "white",
            "linecolor": "white",
            "ticks": ""
           }
          },
          "title": {
           "x": 0.05
          },
          "xaxis": {
           "automargin": true,
           "gridcolor": "white",
           "linecolor": "white",
           "ticks": "",
           "title": {
            "standoff": 15
           },
           "zerolinecolor": "white",
           "zerolinewidth": 2
          },
          "yaxis": {
           "automargin": true,
           "gridcolor": "white",
           "linecolor": "white",
           "ticks": "",
           "title": {
            "standoff": 15
           },
           "zerolinecolor": "white",
           "zerolinewidth": 2
          }
         }
        },
        "title": {
         "text": "Análisis de Productos con Mayor Cantidad de Pedidos Promocionales",
         "x": 0.5
        },
        "width": 1600,
        "xaxis": {
         "anchor": "y",
         "domain": [
          0,
          0.45
         ],
         "title": {
          "text": "Producto"
         }
        },
        "xaxis2": {
         "anchor": "y2",
         "domain": [
          0.55,
          1
         ],
         "title": {
          "text": "Mes"
         }
        },
        "xaxis3": {
         "anchor": "y3",
         "domain": [
          0.55,
          1
         ],
         "title": {
          "text": "Total de Pedidos con Promoción"
         }
        },
        "yaxis": {
         "anchor": "x",
         "domain": [
          0.625,
          1
         ],
         "title": {
          "text": "Cantidad Total"
         }
        },
        "yaxis2": {
         "anchor": "x2",
         "domain": [
          0.625,
          1
         ],
         "title": {
          "text": "Cantidad de Pedidos"
         }
        },
        "yaxis3": {
         "anchor": "x3",
         "domain": [
          0,
          0.375
         ],
         "title": {
          "text": "Pedidos en el Primer Mes"
         }
        }
       }
      }
     },
     "metadata": {},
     "output_type": "display_data"
    }
   ],
   "source": [
    "create_dashboard_from_json(response['graphics_json'])"
   ]
  },
  {
   "cell_type": "code",
   "execution_count": null,
   "id": "1646a59f",
   "metadata": {},
   "outputs": [],
   "source": []
  }
 ],
 "metadata": {
  "kernelspec": {
   "display_name": "ucm-tfm-grupo-4 (3.11.9)",
   "language": "python",
   "name": "python3"
  },
  "language_info": {
   "codemirror_mode": {
    "name": "ipython",
    "version": 3
   },
   "file_extension": ".py",
   "mimetype": "text/x-python",
   "name": "python",
   "nbconvert_exporter": "python",
   "pygments_lexer": "ipython3",
   "version": "3.11.9"
  }
 },
 "nbformat": 4,
 "nbformat_minor": 5
}
