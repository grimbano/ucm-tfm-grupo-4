{
 "cells": [
  {
   "cell_type": "code",
   "execution_count": 1,
   "id": "38857eda",
   "metadata": {},
   "outputs": [],
   "source": [
    "import sys\n",
    "import logging\n",
    "from pathlib import Path\n",
    "from IPython.display import Markdown, Image\n",
    "\n",
    "\n",
    "# Añadimos el directorio raíz del proyecto al path\n",
    "try:\n",
    "    # Para scripts .py\n",
    "    current_file = Path(__file__).resolve()\n",
    "    project_root = current_file.parent.parent  # Ajusta si tu estructura cambia\n",
    "except NameError:\n",
    "    # Para notebooks\n",
    "    current_file = Path().resolve()\n",
    "    project_root = current_file.parent  # Ajusta según donde esté tu notebook\n",
    "\n",
    "# Añadir al sys.path si no está ya\n",
    "if str(project_root) not in sys.path:\n",
    "    sys.path.append(str(project_root))\n",
    "\n",
    "\n",
    "from src.utils.graphics import create_dashboard_from_json\n",
    "from src.back.graphs import (\n",
    "    BusinessLogicRetrievalGraph,\n",
    "    ChunkProcessingGraph,\n",
    "    ContextGeneratorGraph,\n",
    "    get_conclusions_generator_graph,\n",
    "    get_query_generator_graph,\n",
    "    get_query_validator_graph,\n",
    "    get_main_graph,\n",
    "    MdlRetrievalGraph,\n",
    ")"
   ]
  },
  {
   "cell_type": "markdown",
   "id": "f8865210",
   "metadata": {},
   "source": [
    "---\n",
    "\n",
    "## Chunk Processing"
   ]
  },
  {
   "cell_type": "code",
   "execution_count": 2,
   "id": "fc0c4f49",
   "metadata": {},
   "outputs": [
    {
     "name": "stdout",
     "output_type": "stream",
     "text": [
      "--- BUILDING CHUNK PROCESSING GRAPH 🏗️ ---\n",
      "--- CHUNK PROCESSING GRAPH COMPILED SUCCESSFULLY ⚙️✅ ---\n"
     ]
    }
   ],
   "source": [
    "chunk_processing_graph = ChunkProcessingGraph()\n",
    "chunk_processing_graph = chunk_processing_graph.get_compiled_graph()"
   ]
  },
  {
   "cell_type": "code",
   "execution_count": 3,
   "id": "1f6265ef",
   "metadata": {},
   "outputs": [
    {
     "data": {
      "image/png": "[encoded data removed]",
      "text/plain": [
       "<IPython.core.display.Image object>"
      ]
     },
     "metadata": {},
     "output_type": "display_data"
    }
   ],
   "source": [
    "display(Image(chunk_processing_graph.get_graph().draw_mermaid_png()))"
   ]
  },
  {
   "cell_type": "code",
   "execution_count": 4,
   "id": "924ec39d",
   "metadata": {},
   "outputs": [
    {
     "name": "stdout",
     "output_type": "stream",
     "text": [
      "--- GRADE CHUNK RELEVANCE TO QUESTION ❔ ---\n",
      "--- GRADE: RELEVANT CHUNK ✅ ---\n",
      "--- SUMMARIZE CHUNK 📝📚 ---\n",
      "--- CHECK ITERATIONS 🔁 ---\n",
      "--- GRADE HALLUCINATIONS 👻 ---\n",
      "--- DECISION: GENERATION IS GROUNDED IN DOCUMENTS ✅ ---\n",
      "--- DECISION: GENERATION ADDRESSES QUESTION ✅ ---\n"
     ]
    },
    {
     "data": {
      "text/plain": [
       "{'chunk_summary': ['Synthesized Business Logic\\n\\n### High-Level Summary\\nThe context provides business rules and metrics related to retail sales, including definitions and interpretations of \"most sold\" products and other related metrics. It specifies how to measure and interpret sales data, including unit sales, revenue, and profitability.\\n\\n### Detailed Breakdown\\n\\n#### Definition of \"Most Sold\" Products\\n- The term \"most sold\" generally refers to the quantity of units sold (`order_quantity`).\\n- Alternatively, it can be measured by the revenue generated (`sales_amount`), which identifies products that generate higher income despite lower sales volume. This distinction is explicitly made when terms like \"highest revenue\" are used.\\n\\n#### Related Metrics and Interpretations\\n- **Revenue Metrics:**\\n  - `sales_amount` is used to measure the total revenue generated by sales.\\n  - `net sales` can also be used for evaluating sales performance.\\n- **Profitability Metrics:**\\n  - `gross margin` and `gross margin percentage` are key metrics for understanding the profitability of products or sales.\\n  - These metrics help evaluate the operational efficiency and contribution of sales to overall profits.\\n- **Promotional Effectiveness:**\\n  - Success of promotions is measured by the increase in `order_quantity` or `sales_amount` directly attributable to the promotion.\\n  - Additional metrics include `discount_amount` and `average_discount_rate`.\\n\\n#### Sales Channels\\n- **B2C (Business-to-Consumer):**\\n  - Transactions directly with consumers.\\n  - Identified in the model where `sale_source` equals `\\'internet_sales\\'`.\\n- **B2B (Business-to-Business):**\\n  - Transactions between businesses, such as with distributors or retailers.\\n  - Identified in the model where `sale_source` equals `\\'reseller_sales\\'`.\\n\\n### Conclusion\\nThe context provides clear definitions and metrics for identifying the \"most sold\" products, emphasizing unit sales (`order_quantity`) as the primary measure, with revenue (`sales_amount`) as an alternative metric for products generating higher income. It also outlines related metrics for profitability and promotional effectiveness, as well as distinctions between B2C and B2B sales channels.']}"
      ]
     },
     "execution_count": 4,
     "metadata": {},
     "output_type": "execute_result"
    }
   ],
   "source": [
    "logging.basicConfig(level=logging.WARNING)\n",
    "\n",
    "doc_txt = \"\"\"\n",
    "3. Métricas Clásicas del Retail y su Interpretación\n",
    "\n",
    "Es crucial entender cómo se miden las diferentes métricas en el contexto de negocio.- Cuando se habla de productos \"más vendidos\", sin especificar más, generalmente nos referimos a la cantidad de unidades (`order_quantity`) vendidas. También puede ser relevante medir esto por el importe facturado (`sales_amount`) para identificar productos que, aunque se vendan en menor volumen, generan más ingresos. Pero, en este último caso se especificarán términos como \"de mayor facturación\".\n",
    "- Cuando se refiere a clientes, tiendas/distribuidores o vendedores que \"más compran/venden\", esto se mide por el importe facturado (`sales_amount`) o `net sales`. Adicionalmente, se puede considerar la frecuencia de compra (para clientes y distribuidores) o el número de pedidos gestionados (para vendedores) como métricas complementarias.\n",
    "- Para el análisis de rentabilidad, la métrica clave es el margen bruto (`gross margin`) o el porcentaje de margen bruto (`gross margin percentage`), lo cual permite comprender la contribución real de cada venta o producto a las ganancias, más allá del volumen o ingreso total. Este enfoque es vital para evaluar la eficiencia operativa.\n",
    "- En el contexto de la gestión de promociones, el éxito no solo se mide por el discount_amount o average_discount_rate, sino también por el incremento en `order_quantity` o `sales_amount` directamente atribuible a la promoción. Es fundamental analizar la rentabilidad general del período promocional para determinar su efectividad.\n",
    "- Ventas B2C (Business-to-Consumer): Estas ventas se refieren a transacciones directas con el consumidor final. En el modelo, corresponden a los pedidos donde `sale_source` es igual a `'internet_sales'`. Puede identificarse también como la unidad de negocio encargada del comercio minorista.\n",
    "- Ventas B2B (Business-to-Business): Estas ventas se refieren a transacciones entre empresas, como las realizadas con distribuidores o tiendas minoristas. En el modelo, corresponden a los pedidos donde `sale_source` es igual a `'reseller_sales'`. Puede identificarse también como la unidad de negocio encargada del comercio mayorista.\n",
    "\"\"\"\n",
    "\n",
    "user_query = 'The name of the product most selled.'\n",
    "\n",
    "test_chunk = chunk_processing_graph.invoke({\n",
    "    \"user_query\": user_query,\n",
    "    \"language\": 'English',\n",
    "    \"entity\": 'business_logic',\n",
    "    \"chunk_txt\": doc_txt, \n",
    "})\n",
    "\n",
    "test_chunk"
   ]
  },
  {
   "cell_type": "markdown",
   "id": "1e8e59e7",
   "metadata": {},
   "source": [
    "---\n",
    "\n",
    "## Business Logic"
   ]
  },
  {
   "cell_type": "code",
   "execution_count": 5,
   "id": "24258cdc",
   "metadata": {},
   "outputs": [
    {
     "name": "stdout",
     "output_type": "stream",
     "text": [
      "--- BUILDING BUSINESSLOGICRETRIEVALGRAPH GRAPH 🏗️ ---\n",
      "--- BUILDING CHUNK PROCESSING GRAPH 🏗️ ---\n",
      "--- CHUNK PROCESSING GRAPH COMPILED SUCCESSFULLY ⚙️✅ ---\n",
      "--- BUSINESSLOGICRETRIEVALGRAPH COMPILED SUCCESSFULLY ✅ ---\n"
     ]
    }
   ],
   "source": [
    "business_logic_graph = BusinessLogicRetrievalGraph()\n",
    "business_logic_graph = business_logic_graph.get_compiled_graph()"
   ]
  },
  {
   "cell_type": "code",
   "execution_count": 6,
   "id": "8cb8d54f",
   "metadata": {},
   "outputs": [
    {
     "data": {
      "image/png": "[encoded data removed]",
      "text/plain": [
       "<IPython.core.display.Image object>"
      ]
     },
     "metadata": {},
     "output_type": "display_data"
    }
   ],
   "source": [
    "display(Image(business_logic_graph.get_graph(xray=1).draw_mermaid_png()))"
   ]
  },
  {
   "cell_type": "code",
   "execution_count": 7,
   "id": "02562851",
   "metadata": {},
   "outputs": [
    {
     "name": "stdout",
     "output_type": "stream",
     "text": [
      "--- GENERATING BUSINESS_LOGIC SUB-QUERIES 📚 ---\n",
      "--- BUSINESS_LOGIC RETRIEVE TOOL 🛠️ ---\n",
      "--- PARALLELIZE GENERATION 🔢 ---\n",
      "--- GRADE CHUNK RELEVANCE TO QUESTION ❔ ---\n",
      "--- GRADE CHUNK RELEVANCE TO QUESTION ❔ ---\n",
      "--- GRADE CHUNK RELEVANCE TO QUESTION ❔ ---\n",
      "--- GRADE CHUNK RELEVANCE TO QUESTION ❔ ---\n",
      "--- GRADE CHUNK RELEVANCE TO QUESTION ❔ ---\n",
      "--- GRADE CHUNK RELEVANCE TO QUESTION ❔ ---\n",
      "--- GRADE CHUNK RELEVANCE TO QUESTION ❔ ---\n",
      "--- GRADE CHUNK RELEVANCE TO QUESTION ❔ ---\n",
      "--- GRADE CHUNK RELEVANCE TO QUESTION ❔ ---\n",
      "--- GRADE CHUNK RELEVANCE TO QUESTION ❔ ---\n",
      "--- GRADE CHUNK RELEVANCE TO QUESTION ❔ ---\n",
      "--- GRADE CHUNK RELEVANCE TO QUESTION ❔ ---\n",
      "--- GRADE CHUNK RELEVANCE TO QUESTION ❔ ---\n",
      "--- GRADE CHUNK RELEVANCE TO QUESTION ❔ ---\n",
      "--- GRADE CHUNK RELEVANCE TO QUESTION ❔ ---\n",
      "--- GRADE: RELEVANT CHUNK ✅ ------ GRADE: NOT RELEVANT CHUNK 🗑️ ---\n",
      "--- SET RETRIEVAL GRADE OUTPUT KO ❌ ---\n",
      "\n",
      "--- SUMMARIZE CHUNK 📝📚 ---\n",
      "--- GRADE: RELEVANT CHUNK ✅ ---\n",
      "--- SUMMARIZE CHUNK 📝📚 ---\n",
      "--- GRADE: NOT RELEVANT CHUNK 🗑️ ---\n",
      "--- SET RETRIEVAL GRADE OUTPUT KO ❌ ---\n",
      "--- GRADE: NOT RELEVANT CHUNK 🗑️ ---\n",
      "--- SET RETRIEVAL GRADE OUTPUT KO ❌ ---\n",
      "--- GRADE: RELEVANT CHUNK ✅ ---\n",
      "--- SUMMARIZE CHUNK 📝📚 ---\n",
      "--- GRADE: RELEVANT CHUNK ✅ ---\n",
      "--- SUMMARIZE CHUNK 📝📚 ---\n",
      "--- GRADE: NOT RELEVANT CHUNK 🗑️ ---\n",
      "--- SET RETRIEVAL GRADE OUTPUT KO ❌ ---\n",
      "--- GRADE: NOT RELEVANT CHUNK 🗑️ ---\n",
      "--- SET RETRIEVAL GRADE OUTPUT KO ❌ ---\n",
      "--- GRADE: NOT RELEVANT CHUNK 🗑️ ---\n",
      "--- SET RETRIEVAL GRADE OUTPUT KO ❌ ---\n",
      "--- GRADE: RELEVANT CHUNK ✅ ---\n",
      "--- SUMMARIZE CHUNK 📝📚 ---\n",
      "--- GRADE: NOT RELEVANT CHUNK 🗑️ ---\n",
      "--- SET RETRIEVAL GRADE OUTPUT KO ❌ ---\n",
      "--- GRADE: RELEVANT CHUNK ✅ ---\n",
      "--- SUMMARIZE CHUNK 📝📚 ---\n",
      "--- GRADE: NOT RELEVANT CHUNK 🗑️ ---\n",
      "--- SET RETRIEVAL GRADE OUTPUT KO ❌ ---\n",
      "--- GRADE: RELEVANT CHUNK ✅ ---\n",
      "--- SUMMARIZE CHUNK 📝📚 ---\n",
      "--- CHECK ITERATIONS 🔁 ---\n",
      "--- GRADE HALLUCINATIONS 👻 ---\n",
      "--- DECISION: GENERATION IS GROUNDED IN DOCUMENTS ✅ ---\n",
      "--- CHECK ITERATIONS 🔁 ---\n",
      "--- GRADE HALLUCINATIONS 👻 ---\n",
      "--- DECISION: GENERATION ADDRESSES QUESTION ✅ ---\n",
      "--- DECISION: GENERATION IS GROUNDED IN DOCUMENTS ✅ ---\n",
      "--- CHECK ITERATIONS 🔁 ---\n",
      "--- GRADE HALLUCINATIONS 👻 ---\n",
      "--- CHECK ITERATIONS 🔁 ---\n",
      "--- GRADE HALLUCINATIONS 👻 ---\n",
      "--- DECISION: GENERATION IS GROUNDED IN DOCUMENTS ✅ ---\n",
      "--- DECISION: GENERATION ADDRESSES QUESTION ✅ ---\n",
      "--- DECISION: GENERATION ADDRESSES QUESTION ✅ ---\n",
      "--- DECISION: GENERATION IS GROUNDED IN DOCUMENTS ✅ ---\n",
      "--- CHECK ITERATIONS 🔁 ---\n",
      "--- GRADE HALLUCINATIONS 👻 ---\n",
      "--- DECISION: GENERATION ADDRESSES QUESTION ✅ ---\n",
      "--- CHECK ITERATIONS 🔁 ---\n",
      "--- GRADE HALLUCINATIONS 👻 ---\n",
      "--- CHECK ITERATIONS 🔁 ---\n",
      "--- GRADE HALLUCINATIONS 👻 ---\n",
      "--- DECISION: GENERATION IS GROUNDED IN DOCUMENTS ✅ ---\n",
      "--- DECISION: GENERATION IS GROUNDED IN DOCUMENTS ✅ ---\n",
      "--- DECISION: GENERATION IS GROUNDED IN DOCUMENTS ✅ ---\n",
      "--- DECISION: GENERATION ADDRESSES QUESTION ✅ ---\n",
      "--- DECISION: GENERATION ADDRESSES QUESTION ✅ ---\n",
      "--- DECISION: GENERATION ADDRESSES QUESTION ✅ ---\n",
      "--- SUMMARIZE BUSINES LOGIC 📝👨‍💼 ---\n"
     ]
    },
    {
     "data": {
      "text/markdown": [
       "### Lógica de Negocio Sintetizada\n",
       "\n",
       "#### Resumen General\n",
       "El contexto proporciona reglas y ejemplos para calcular las ventas por trimestre y detallar los datos por categorías de producto. Se incluyen definiciones de períodos trimestrales, funciones SQL útiles, y ejemplos de consultas que pueden ser adaptadas para obtener las ventas del último trimestre.\n",
       "\n",
       "#### Detalles Específicos\n",
       "\n",
       "1. **Definición de Trimestre**:\n",
       "   - Un trimestre es un período de tres meses.\n",
       "   - Los trimestres en un año natural son:\n",
       "     - Q1: Enero-Marzo\n",
       "     - Q2: Abril-Junio\n",
       "     - Q3: Julio-Septiembre\n",
       "     - Q4: Octubre-Diciembre.\n",
       "\n",
       "2. **Reglas para el cálculo de ventas por trimestre**:\n",
       "   - **Ventas del trimestre pasado**:\n",
       "     ```sql\n",
       "     SELECT *\n",
       "     FROM sales.fact_sales\n",
       "     WHERE order_date BETWEEN DATE_TRUNC('quarter', CURRENT_DATE - INTERVAL '3 months') AND DATE_TRUNC('quarter', CURRENT_DATE) - INTERVAL '1 day';\n",
       "     ```\n",
       "   - Este cálculo utiliza el campo `order_date` de la tabla `fact_sales` para filtrar las fechas correspondientes al último trimestre.\n",
       "\n",
       "3. **Detallado por categorías de producto**:\n",
       "   - Para detallar las ventas por categorías de producto, se puede utilizar la siguiente lógica:\n",
       "     ```sql\n",
       "     SELECT product_key, SUM(sales_amount) AS total_sales\n",
       "     FROM sales.fact_sales\n",
       "     WHERE order_date BETWEEN DATE_TRUNC('quarter', CURRENT_DATE - INTERVAL '3 months') AND DATE_TRUNC('quarter', CURRENT_DATE) - INTERVAL '1 day'\n",
       "     GROUP BY product_key;\n",
       "     ```\n",
       "   - Esto agrega las ventas (`sales_amount`) por cada categoría de producto (`product_key`) dentro del período del último trimestre.\n",
       "\n",
       "4. **Funciones SQL útiles**:\n",
       "   - `DATE_TRUNC('quarter', date)` para truncar fechas al inicio del trimestre.\n",
       "   - `INTERVAL` para operaciones de resta de tiempo.\n",
       "   - `SUM(sales_amount)` para calcular el total de ventas.\n",
       "\n",
       "#### Observaciones\n",
       "El contexto proporciona suficiente información para construir una consulta que calcule las ventas del último trimestre y las detalle por categorías de producto, utilizando las reglas y ejemplos proporcionados."
      ],
      "text/plain": [
       "<IPython.core.display.Markdown object>"
      ]
     },
     "execution_count": 7,
     "metadata": {},
     "output_type": "execute_result"
    }
   ],
   "source": [
    "logging.basicConfig(level=logging.WARNING)\n",
    "\n",
    "user_query = 'Dime las ventas del último trimestre detallas por categorías de producto.'\n",
    "\n",
    "business_logic_test = business_logic_graph.invoke({\n",
    "    \"user_query\": user_query,\n",
    "    'language': 'Spanish'\n",
    "})['business_logic']\n",
    "\n",
    "Markdown(business_logic_test)"
   ]
  },
  {
   "cell_type": "markdown",
   "id": "61acdcdd",
   "metadata": {},
   "source": [
    "---\n",
    "\n",
    "## MDL Data Schema"
   ]
  },
  {
   "cell_type": "code",
   "execution_count": 8,
   "id": "e87c4434",
   "metadata": {},
   "outputs": [
    {
     "name": "stdout",
     "output_type": "stream",
     "text": [
      "--- BUILDING MDLRETRIEVALGRAPH GRAPH 🏗️ ---\n",
      "--- BUILDING CHUNK PROCESSING GRAPH 🏗️ ---\n",
      "--- CHUNK PROCESSING GRAPH COMPILED SUCCESSFULLY ⚙️✅ ---\n",
      "--- MDLRETRIEVALGRAPH COMPILED SUCCESSFULLY ✅ ---\n"
     ]
    }
   ],
   "source": [
    "mdl_graph = MdlRetrievalGraph()\n",
    "mdl_graph = mdl_graph.get_compiled_graph()"
   ]
  },
  {
   "cell_type": "code",
   "execution_count": 9,
   "id": "3bd04457",
   "metadata": {},
   "outputs": [
    {
     "data": {
      "image/png": "[encoded data removed]",
      "text/plain": [
       "<IPython.core.display.Image object>"
      ]
     },
     "metadata": {},
     "output_type": "display_data"
    }
   ],
   "source": [
    "display(Image(mdl_graph.get_graph(xray=1).draw_mermaid_png()))"
   ]
  },
  {
   "cell_type": "code",
   "execution_count": 10,
   "id": "d3766a29",
   "metadata": {},
   "outputs": [
    {
     "name": "stdout",
     "output_type": "stream",
     "text": [
      "--- GENERATING MDL SUB-QUERIES 📚 ---\n",
      "--- MDL RETRIEVE TOOL 🛠️ ---\n"
     ]
    },
    {
     "name": "stderr",
     "output_type": "stream",
     "text": [
      "WARNING:langchain_core.vectorstores.base:No relevant docs were retrieved using the relevance score threshold 0.75\n",
      "WARNING:langchain_core.vectorstores.base:No relevant docs were retrieved using the relevance score threshold 0.75\n",
      "WARNING:langchain_core.vectorstores.base:No relevant docs were retrieved using the relevance score threshold 0.75\n",
      "WARNING:langchain_core.vectorstores.base:No relevant docs were retrieved using the relevance score threshold 0.75\n",
      "WARNING:langchain_core.vectorstores.base:No relevant docs were retrieved using the relevance score threshold 0.75\n"
     ]
    },
    {
     "name": "stdout",
     "output_type": "stream",
     "text": [
      "--- PARALLELIZE GENERATION 🔢 ---\n",
      "--- GRADE CHUNK RELEVANCE TO QUESTION ❔ ---\n",
      "--- GRADE CHUNK RELEVANCE TO QUESTION ❔ ---\n",
      "--- GRADE CHUNK RELEVANCE TO QUESTION ❔ ---\n",
      "--- GRADE CHUNK RELEVANCE TO QUESTION ❔ ---\n",
      "--- GRADE CHUNK RELEVANCE TO QUESTION ❔ ---\n",
      "--- GRADE CHUNK RELEVANCE TO QUESTION ❔ ---\n",
      "--- GRADE CHUNK RELEVANCE TO QUESTION ❔ ---\n",
      "--- GRADE CHUNK RELEVANCE TO QUESTION ❔ ---\n",
      "--- GRADE CHUNK RELEVANCE TO QUESTION ❔ ---\n",
      "--- GRADE: NOT RELEVANT CHUNK 🗑️ ---\n",
      "--- SET RETRIEVAL GRADE OUTPUT KO ❌ ---\n",
      "--- GRADE: NOT RELEVANT CHUNK 🗑️ ---\n",
      "--- SET RETRIEVAL GRADE OUTPUT KO ❌ ---\n",
      "--- GRADE: NOT RELEVANT CHUNK 🗑️ ---\n",
      "--- SET RETRIEVAL GRADE OUTPUT KO ❌ ---\n",
      "--- GRADE: NOT RELEVANT CHUNK 🗑️ ---\n",
      "--- SET RETRIEVAL GRADE OUTPUT KO ❌ ---\n",
      "--- GRADE: NOT RELEVANT CHUNK 🗑️ ---\n",
      "--- SET RETRIEVAL GRADE OUTPUT KO ❌ ---\n",
      "--- GRADE: RELEVANT CHUNK ✅ ---\n",
      "--- SUMMARIZE CHUNK 📝📚 ---\n",
      "--- GRADE: NOT RELEVANT CHUNK 🗑️ ---\n",
      "--- SET RETRIEVAL GRADE OUTPUT KO ❌ ---\n",
      "--- GRADE: NOT RELEVANT CHUNK 🗑️ ---\n",
      "--- SET RETRIEVAL GRADE OUTPUT KO ❌ ---\n",
      "--- GRADE: RELEVANT CHUNK ✅ ---\n",
      "--- SUMMARIZE CHUNK 📝📚 ---\n",
      "--- CHECK ITERATIONS 🔁 ---\n",
      "--- GRADE HALLUCINATIONS 👻 ---\n",
      "--- CHECK ITERATIONS 🔁 ---\n",
      "--- GRADE HALLUCINATIONS 👻 ---\n",
      "--- DECISION: GENERATION IS GROUNDED IN DOCUMENTS ✅ ---\n",
      "--- DECISION: GENERATION IS GROUNDED IN DOCUMENTS ✅ ---\n",
      "--- DECISION: GENERATION ADDRESSES QUESTION ✅ ---\n",
      "--- DECISION: GENERATION ADDRESSES QUESTION ✅ ---\n",
      "--- SUMMARIZE MDL 📝🗂️ ---\n"
     ]
    },
    {
     "data": {
      "text/markdown": [
       "### Información detallada de tablas y columnas relevantes\n",
       "\n",
       "#### Base de datos y esquema\n",
       "- **Base de datos:** adventure_works_dw\n",
       "- **Esquema:** sales\n",
       "\n",
       "#### Tabla: dim_product\n",
       "- **Descripción:** Contiene información detallada de cada producto vendido, incluyendo categorías y subcategorías.\n",
       "- **Clave primaria:** product_key\n",
       "- **Columnas relevantes:**\n",
       "  - **spanish_product_category_name**: VARCHAR(50), nunca NULL. Categoría principal del producto en español.\n",
       "  - **spanish_product_subcategory_name**: VARCHAR(50), nunca NULL. Subcategoría del producto en español.\n",
       "  - **list_price**: NUMERIC, precio de venta en USD.\n",
       "  - **start_date**: DATE, fecha de inicio de disponibilidad del producto.\n",
       "  - **end_date**: DATE, fecha de fin de disponibilidad del producto, puede ser NULL.\n",
       "  - **active**: BOOL, indica si el producto sigue disponible.\n",
       "\n",
       "#### Tabla: fact_sales\n",
       "- **Descripción:** Contiene detalles de las órdenes de ventas entregadas, con granularidad a nivel de línea.\n",
       "- **Claves primarias:** sales_order_number, sales_order_line_number\n",
       "- **Claves foráneas:**\n",
       "  - product_key → sales.dim_product.product_key\n",
       "- **Columnas relevantes:**\n",
       "  - **order_quantity**: INT2, cantidad vendida de cada producto.\n",
       "  - **sales_amount**: NUMERIC, subtotal en USD de la línea de orden de venta.\n",
       "  - **order_date**: DATE, fecha de creación del pedido.\n",
       "  - **product_key**: Clave foránea, relaciona con la tabla `dim_product`.\n",
       "\n",
       "### Relaciones entre tablas\n",
       "- **Condición de unión:** `fact_sales.product_key = sales.dim_product.product_key`\n",
       "\n",
       "### Fragmentos SQL relevantes\n",
       "- **Filtrar por fechas del último trimestre:** `WHERE order_date >= 'YYYY-MM-DD' AND order_date <= 'YYYY-MM-DD'`\n",
       "- **Agrupar por categoría de producto:** `GROUP BY spanish_product_category_name`\n",
       "- **Seleccionar columnas relevantes:** `SELECT spanish_product_category_name, SUM(sales_amount)`"
      ],
      "text/plain": [
       "<IPython.core.display.Markdown object>"
      ]
     },
     "execution_count": 10,
     "metadata": {},
     "output_type": "execute_result"
    }
   ],
   "source": [
    "logging.basicConfig(level=logging.WARNING)\n",
    "\n",
    "user_query = 'Dime las ventas del último trimestre detallas por categorías de producto.'\n",
    "\n",
    "mdl_test = mdl_graph.invoke({\n",
    "    \"user_query\": user_query,\n",
    "    'language': 'Spanish'\n",
    "})['data_schema']\n",
    "\n",
    "Markdown(mdl_test)"
   ]
  },
  {
   "cell_type": "markdown",
   "id": "93a33cc9",
   "metadata": {},
   "source": [
    "---\n",
    "\n",
    "## Global Context Generator"
   ]
  },
  {
   "cell_type": "code",
   "execution_count": 11,
   "id": "0b8663aa",
   "metadata": {},
   "outputs": [
    {
     "name": "stdout",
     "output_type": "stream",
     "text": [
      "--- BUILDING CONTEXT GENERATOR GRAPH 🏗️ ---\n",
      "--- BUILDING BUSINESSLOGICRETRIEVALGRAPH GRAPH 🏗️ ---\n",
      "--- BUILDING CHUNK PROCESSING GRAPH 🏗️ ---\n",
      "--- CHUNK PROCESSING GRAPH COMPILED SUCCESSFULLY ⚙️✅ ---\n",
      "--- BUSINESSLOGICRETRIEVALGRAPH COMPILED SUCCESSFULLY ✅ ---\n",
      "--- BUILDING MDLRETRIEVALGRAPH GRAPH 🏗️ ---\n",
      "--- BUILDING CHUNK PROCESSING GRAPH 🏗️ ---\n",
      "--- CHUNK PROCESSING GRAPH COMPILED SUCCESSFULLY ⚙️✅ ---\n",
      "--- MDLRETRIEVALGRAPH COMPILED SUCCESSFULLY ✅ ---\n",
      "--- CONTEXT GENERATOR COMPILED SUCCESSFULLY ✅ ---\n"
     ]
    }
   ],
   "source": [
    "context_generator_graph = ContextGeneratorGraph()\n",
    "context_generator_graph = context_generator_graph.get_compiled_graph()"
   ]
  },
  {
   "cell_type": "code",
   "execution_count": 12,
   "id": "8788071e",
   "metadata": {},
   "outputs": [
    {
     "data": {
      "image/png": "[encoded data removed]",
      "text/plain": [
       "<IPython.core.display.Image object>"
      ]
     },
     "metadata": {},
     "output_type": "display_data"
    }
   ],
   "source": [
    "display(Image(context_generator_graph.get_graph(xray=3).draw_mermaid_png()))"
   ]
  },
  {
   "cell_type": "code",
   "execution_count": 14,
   "id": "81930146",
   "metadata": {},
   "outputs": [
    {
     "name": "stdout",
     "output_type": "stream",
     "text": [
      "--- GENERATING BUSINESS_LOGIC SUB-QUERIES 📚 ---\n",
      "--- GENERATING MDL SUB-QUERIES 📚 ---\n",
      "--- MDL RETRIEVE TOOL 🛠️ ---\n",
      "--- BUSINESS_LOGIC RETRIEVE TOOL 🛠️ ---\n"
     ]
    },
    {
     "name": "stderr",
     "output_type": "stream",
     "text": [
      "WARNING:langchain_core.vectorstores.base:No relevant docs were retrieved using the relevance score threshold 0.75\n"
     ]
    },
    {
     "name": "stdout",
     "output_type": "stream",
     "text": [
      "--- PARALLELIZE GENERATION 🔢 ---\n",
      "--- GRADE CHUNK RELEVANCE TO QUESTION ❔ ---\n",
      "--- GRADE CHUNK RELEVANCE TO QUESTION ❔ ---\n",
      "--- GRADE CHUNK RELEVANCE TO QUESTION ❔ ---\n",
      "--- GRADE CHUNK RELEVANCE TO QUESTION ❔ ---\n",
      "--- GRADE CHUNK RELEVANCE TO QUESTION ❔ ---\n",
      "--- GRADE CHUNK RELEVANCE TO QUESTION ❔ ---\n",
      "--- GRADE CHUNK RELEVANCE TO QUESTION ❔ ---\n",
      "--- GRADE CHUNK RELEVANCE TO QUESTION ❔ ---\n",
      "--- GRADE CHUNK RELEVANCE TO QUESTION ❔ ---\n",
      "--- GRADE CHUNK RELEVANCE TO QUESTION ❔ ---\n",
      "--- GRADE CHUNK RELEVANCE TO QUESTION ❔ ---\n",
      "--- GRADE CHUNK RELEVANCE TO QUESTION ❔ ---\n",
      "--- GRADE CHUNK RELEVANCE TO QUESTION ❔ ---\n",
      "--- GRADE CHUNK RELEVANCE TO QUESTION ❔ ---\n",
      "--- GRADE CHUNK RELEVANCE TO QUESTION ❔ ---\n",
      "--- GRADE: NOT RELEVANT CHUNK 🗑️ ---\n",
      "--- SET RETRIEVAL GRADE OUTPUT KO ❌ ---\n",
      "--- GRADE: RELEVANT CHUNK ✅ ---\n",
      "--- SUMMARIZE CHUNK 📝📚 ---\n",
      "--- GRADE: NOT RELEVANT CHUNK 🗑️ ---\n",
      "--- SET RETRIEVAL GRADE OUTPUT KO ❌ ---\n",
      "--- GRADE: NOT RELEVANT CHUNK 🗑️ ---\n",
      "--- SET RETRIEVAL GRADE OUTPUT KO ❌ ---\n",
      "--- GRADE: NOT RELEVANT CHUNK 🗑️ ---\n",
      "--- SET RETRIEVAL GRADE OUTPUT KO ❌ ---\n",
      "--- GRADE: NOT RELEVANT CHUNK 🗑️ ---\n",
      "--- SET RETRIEVAL GRADE OUTPUT KO ❌ ---\n",
      "--- GRADE: RELEVANT CHUNK ✅ ---\n",
      "--- SUMMARIZE CHUNK 📝📚 ---\n",
      "--- GRADE: RELEVANT CHUNK ✅ ---\n",
      "--- SUMMARIZE CHUNK 📝📚 ---\n",
      "--- GRADE: NOT RELEVANT CHUNK 🗑️ ---\n",
      "--- SET RETRIEVAL GRADE OUTPUT KO ❌ ---\n",
      "--- GRADE: NOT RELEVANT CHUNK 🗑️ ---\n",
      "--- SET RETRIEVAL GRADE OUTPUT KO ❌ ---\n",
      "--- GRADE: RELEVANT CHUNK ✅ ---\n",
      "--- SUMMARIZE CHUNK 📝📚 ---\n",
      "--- GRADE: RELEVANT CHUNK ✅ ---\n",
      "--- SUMMARIZE CHUNK 📝📚 ---\n",
      "--- GRADE: RELEVANT CHUNK ✅ ---\n",
      "--- SUMMARIZE CHUNK 📝📚 ---\n",
      "--- GRADE: NOT RELEVANT CHUNK 🗑️ ---\n",
      "--- SET RETRIEVAL GRADE OUTPUT KO ❌ ---\n",
      "--- GRADE: RELEVANT CHUNK ✅ ---\n",
      "--- SUMMARIZE CHUNK 📝📚 ---\n",
      "--- CHECK ITERATIONS 🔁 ---\n",
      "--- GRADE HALLUCINATIONS 👻 ---\n",
      "--- CHECK ITERATIONS 🔁 ---\n",
      "--- GRADE HALLUCINATIONS 👻 ---\n",
      "--- DECISION: GENERATION IS NOT GROUNDED (HALLUCINATIONS) 👻❌ ---\n",
      "--- SUMMARIZE CHUNK 📝📚 ---\n",
      "--- CHECK ITERATIONS 🔁 ---\n",
      "--- GRADE HALLUCINATIONS 👻 ---\n",
      "--- DECISION: GENERATION IS GROUNDED IN DOCUMENTS ✅ ---\n",
      "--- DECISION: GENERATION IS GROUNDED IN DOCUMENTS ✅ ---\n",
      "--- DECISION: GENERATION ADDRESSES QUESTION ✅ ---\n",
      "--- DECISION: GENERATION ADDRESSES QUESTION ✅ ---\n",
      "--- CHECK ITERATIONS 🔁 ---\n",
      "--- GRADE HALLUCINATIONS 👻 ---\n",
      "--- DECISION: GENERATION IS GROUNDED IN DOCUMENTS ✅ ---\n",
      "--- DECISION: GENERATION ADDRESSES QUESTION ✅ ---\n",
      "--- CHECK ITERATIONS 🔁 ---\n",
      "--- GRADE HALLUCINATIONS 👻 ---\n"
     ]
    },
    {
     "name": "stderr",
     "output_type": "stream",
     "text": [
      "WARNING:langchain_core.vectorstores.base:No relevant docs were retrieved using the relevance score threshold 0.75\n"
     ]
    },
    {
     "name": "stdout",
     "output_type": "stream",
     "text": [
      "--- DECISION: GENERATION IS GROUNDED IN DOCUMENTS ✅ ---\n",
      "--- CHECK ITERATIONS 🔁 ---\n",
      "--- GRADE HALLUCINATIONS 👻 ---\n",
      "--- DECISION: GENERATION ADDRESSES QUESTION ✅ ---\n",
      "--- CHECK ITERATIONS 🔁 ---\n",
      "--- GRADE HALLUCINATIONS 👻 ---\n",
      "--- CHECK ITERATIONS 🔁 ---\n",
      "--- GRADE HALLUCINATIONS 👻 ---\n",
      "--- DECISION: GENERATION IS GROUNDED IN DOCUMENTS ✅ ---\n",
      "--- DECISION: GENERATION IS GROUNDED IN DOCUMENTS ✅ ---\n",
      "--- DECISION: GENERATION ADDRESSES QUESTION ✅ ---\n",
      "--- DECISION: GENERATION ADDRESSES QUESTION ✅ ---\n",
      "--- DECISION: GENERATION IS GROUNDED IN DOCUMENTS ✅ ---\n",
      "--- DECISION: GENERATION ADDRESSES QUESTION ✅ ---\n",
      "--- SUMMARIZE BUSINES LOGIC 📝👨‍💼 ---\n"
     ]
    },
    {
     "name": "stderr",
     "output_type": "stream",
     "text": [
      "WARNING:langchain_core.vectorstores.base:No relevant docs were retrieved using the relevance score threshold 0.75\n",
      "WARNING:langchain_core.vectorstores.base:No relevant docs were retrieved using the relevance score threshold 0.75\n",
      "WARNING:langchain_core.vectorstores.base:No relevant docs were retrieved using the relevance score threshold 0.75\n"
     ]
    },
    {
     "name": "stdout",
     "output_type": "stream",
     "text": [
      "--- PARALLELIZE GENERATION 🔢 ---\n",
      "--- GRADE CHUNK RELEVANCE TO QUESTION ❔ ---\n",
      "--- GRADE CHUNK RELEVANCE TO QUESTION ❔ ---\n",
      "--- GRADE CHUNK RELEVANCE TO QUESTION ❔ ---\n",
      "--- GRADE CHUNK RELEVANCE TO QUESTION ❔ ---\n",
      "--- GRADE CHUNK RELEVANCE TO QUESTION ❔ ---\n",
      "--- GRADE CHUNK RELEVANCE TO QUESTION ❔ ---\n",
      "--- GRADE CHUNK RELEVANCE TO QUESTION ❔ ---\n",
      "--- GRADE CHUNK RELEVANCE TO QUESTION ❔ ---\n",
      "--- GRADE CHUNK RELEVANCE TO QUESTION ❔ ---\n",
      "--- GRADE: NOT RELEVANT CHUNK 🗑️ ------ GRADE: NOT RELEVANT CHUNK 🗑️ ---\n",
      "--- SET RETRIEVAL GRADE OUTPUT KO ❌ ---\n",
      "\n",
      "--- SET RETRIEVAL GRADE OUTPUT KO ❌ ---\n",
      "--- GRADE: NOT RELEVANT CHUNK 🗑️ ---\n",
      "--- SET RETRIEVAL GRADE OUTPUT KO ❌ ---\n",
      "--- GRADE: NOT RELEVANT CHUNK 🗑️ ---\n",
      "--- SET RETRIEVAL GRADE OUTPUT KO ❌ ---\n",
      "--- GRADE: NOT RELEVANT CHUNK 🗑️ ---\n",
      "--- SET RETRIEVAL GRADE OUTPUT KO ❌ ---\n",
      "--- GRADE: RELEVANT CHUNK ✅ ---\n",
      "--- SUMMARIZE CHUNK 📝📚 ---\n",
      "--- GRADE: RELEVANT CHUNK ✅ ---\n",
      "--- SUMMARIZE CHUNK 📝📚 ---\n",
      "--- GRADE: NOT RELEVANT CHUNK 🗑️ ---\n",
      "--- SET RETRIEVAL GRADE OUTPUT KO ❌ ---\n",
      "--- GRADE: NOT RELEVANT CHUNK 🗑️ ---\n",
      "--- SET RETRIEVAL GRADE OUTPUT KO ❌ ---\n",
      "--- CHECK ITERATIONS 🔁 ---\n",
      "--- GRADE HALLUCINATIONS 👻 ---\n",
      "--- DECISION: GENERATION IS GROUNDED IN DOCUMENTS ✅ ---\n",
      "--- DECISION: GENERATION ADDRESSES QUESTION ✅ ---\n",
      "--- CHECK ITERATIONS 🔁 ---\n",
      "--- GRADE HALLUCINATIONS 👻 ---\n",
      "--- DECISION: GENERATION IS GROUNDED IN DOCUMENTS ✅ ---\n",
      "--- DECISION: GENERATION ADDRESSES QUESTION ✅ ---\n",
      "--- SUMMARIZE MDL 📝🗂️ ---\n",
      "--- EXTRACT DB SCHEMA 🧮 ---\n",
      "--- GRADE CONTEXT SUMMARIES 🔍 ---\n",
      "--- GENERATE GLOBAL CONTEXT 📝🌐 ---\n"
     ]
    },
    {
     "data": {
      "text/plain": [
       "{'language': 'Spanish',\n",
       " 'db_name': 'adventure_works_dw',\n",
       " 'schema_name': 'sales',\n",
       " 'relevant_context': True,\n",
       " 'context': \"### Resumen General\\nEl objetivo es calcular las ventas del último trimestre desglosadas por categorías de producto. Esto implica utilizar las tablas `fact_sales` y `dim_product` del esquema `sales` en la base de datos `adventure_works_dw`. La tabla `fact_sales` contiene los datos de ventas, mientras que la tabla `dim_product` proporciona información categórica de los productos.\\n\\n### Esquema Detallado y Relaciones\\n#### Tabla: `fact_sales`\\n- **Base de datos:** adventure_works_dw\\n- **Esquema:** sales\\n- **Descripción:** Contiene detalles de las órdenes de ventas realizadas.\\n- **Columnas relevantes:**\\n  - `order_date` (DATE, NOT NULL): Fecha de la orden de venta, utilizada para filtrar las ventas del último trimestre.\\n  - `product_key` (INT, NOT NULL): Clave foránea que se relaciona con `dim_product.product_key`.\\n  - `sales_amount` (NUMERIC, NOT NULL): Monto total de la venta, utilizado para calcular el total de ventas por categoría.\\n\\n#### Tabla: `dim_product`\\n- **Base de datos:** adventure_works_dw\\n- **Esquema:** sales\\n- **Descripción:** Contiene información detallada de cada producto, incluyendo categorías y subcategorías en español.\\n- **Columnas relevantes:**\\n  - `product_key` (INT, NOT NULL): Clave primaria que se relaciona con `fact_sales.product_key`.\\n  - `spanish_product_category_name` (VARCHAR(50), NOT NULL): Nombre de la categoría del producto en español.\\n  - `spanish_product_subcategory_name` (VARCHAR(50), NOT NULL): Nombre de la subcategoría del producto en español.\\n\\n#### Relaciones entre tablas\\n- La columna `product_key` en `fact_sales` se relaciona con `dim_product.product_key` para obtener información categórica de los productos.\\n\\n### Reglas de Negocio y Lógica\\n1. **Definición del Último Trimestre:**\\n   - El último trimestre se define como el período de tres meses inmediatamente anterior al trimestre actual.\\n   - Para calcular este período, se utiliza la lógica temporal:\\n     ```sql\\n     DATE_TRUNC('quarter', CURRENT_DATE - INTERVAL '3 months') AS inicio_trimestre,\\n     DATE_TRUNC('quarter', CURRENT_DATE) - INTERVAL '1 day' AS fin_trimestre\\n     ```\\n\\n2. **Filtrado por Fecha:**\\n   - Utilizar el campo `order_date` de la tabla `fact_sales` para filtrar las ventas dentro del período del último trimestre.\\n\\n3. **Desglose por Categorías de Producto:**\\n   - Realizar una agregación de las ventas utilizando `SUM(sales_amount)` para calcular el total de ventas por categoría.\\n   - Relacionar la columna `product_key` de `fact_sales` con `dim_product.product_key` para obtener los nombres de las categorías y subcategorías.\\n\\n4. **Ejemplo de Consulta SQL:**\\n   - La consulta para obtener las ventas del último trimestre detalladas por categorías de producto es:\\n     ```sql\\n     SELECT dp.spanish_product_category_name, dp.spanish_product_subcategory_name, SUM(fs.sales_amount) AS total_sales\\n     FROM sales.fact_sales fs\\n     JOIN sales.dim_product dp ON fs.product_key = dp.product_key\\n     WHERE fs.order_date BETWEEN DATE_TRUNC('quarter', CURRENT_DATE - INTERVAL '3 months') AND DATE_TRUNC('quarter', CURRENT_DATE) - INTERVAL '1 day'\\n     GROUP BY dp.spanish_product_category_name, dp.spanish_product_subcategory_name;\\n     ```\"}"
      ]
     },
     "execution_count": 14,
     "metadata": {},
     "output_type": "execute_result"
    }
   ],
   "source": [
    "user_query = 'Dime las ventas del último trimestre detallas por categorías de producto.'\n",
    "\n",
    "global_context_test = context_generator_graph.invoke({\n",
    "    \"user_query\": user_query,\n",
    "    'language': 'Spanish'\n",
    "})\n",
    "\n",
    "global_context_test"
   ]
  },
  {
   "cell_type": "code",
   "execution_count": 15,
   "id": "696b0508",
   "metadata": {},
   "outputs": [
    {
     "data": {
      "text/markdown": [
       "### Resumen General\n",
       "El objetivo es calcular las ventas del último trimestre desglosadas por categorías de producto. Esto implica utilizar las tablas `fact_sales` y `dim_product` del esquema `sales` en la base de datos `adventure_works_dw`. La tabla `fact_sales` contiene los datos de ventas, mientras que la tabla `dim_product` proporciona información categórica de los productos.\n",
       "\n",
       "### Esquema Detallado y Relaciones\n",
       "#### Tabla: `fact_sales`\n",
       "- **Base de datos:** adventure_works_dw\n",
       "- **Esquema:** sales\n",
       "- **Descripción:** Contiene detalles de las órdenes de ventas realizadas.\n",
       "- **Columnas relevantes:**\n",
       "  - `order_date` (DATE, NOT NULL): Fecha de la orden de venta, utilizada para filtrar las ventas del último trimestre.\n",
       "  - `product_key` (INT, NOT NULL): Clave foránea que se relaciona con `dim_product.product_key`.\n",
       "  - `sales_amount` (NUMERIC, NOT NULL): Monto total de la venta, utilizado para calcular el total de ventas por categoría.\n",
       "\n",
       "#### Tabla: `dim_product`\n",
       "- **Base de datos:** adventure_works_dw\n",
       "- **Esquema:** sales\n",
       "- **Descripción:** Contiene información detallada de cada producto, incluyendo categorías y subcategorías en español.\n",
       "- **Columnas relevantes:**\n",
       "  - `product_key` (INT, NOT NULL): Clave primaria que se relaciona con `fact_sales.product_key`.\n",
       "  - `spanish_product_category_name` (VARCHAR(50), NOT NULL): Nombre de la categoría del producto en español.\n",
       "  - `spanish_product_subcategory_name` (VARCHAR(50), NOT NULL): Nombre de la subcategoría del producto en español.\n",
       "\n",
       "#### Relaciones entre tablas\n",
       "- La columna `product_key` en `fact_sales` se relaciona con `dim_product.product_key` para obtener información categórica de los productos.\n",
       "\n",
       "### Reglas de Negocio y Lógica\n",
       "1. **Definición del Último Trimestre:**\n",
       "   - El último trimestre se define como el período de tres meses inmediatamente anterior al trimestre actual.\n",
       "   - Para calcular este período, se utiliza la lógica temporal:\n",
       "     ```sql\n",
       "     DATE_TRUNC('quarter', CURRENT_DATE - INTERVAL '3 months') AS inicio_trimestre,\n",
       "     DATE_TRUNC('quarter', CURRENT_DATE) - INTERVAL '1 day' AS fin_trimestre\n",
       "     ```\n",
       "\n",
       "2. **Filtrado por Fecha:**\n",
       "   - Utilizar el campo `order_date` de la tabla `fact_sales` para filtrar las ventas dentro del período del último trimestre.\n",
       "\n",
       "3. **Desglose por Categorías de Producto:**\n",
       "   - Realizar una agregación de las ventas utilizando `SUM(sales_amount)` para calcular el total de ventas por categoría.\n",
       "   - Relacionar la columna `product_key` de `fact_sales` con `dim_product.product_key` para obtener los nombres de las categorías y subcategorías.\n",
       "\n",
       "4. **Ejemplo de Consulta SQL:**\n",
       "   - La consulta para obtener las ventas del último trimestre detalladas por categorías de producto es:\n",
       "     ```sql\n",
       "     SELECT dp.spanish_product_category_name, dp.spanish_product_subcategory_name, SUM(fs.sales_amount) AS total_sales\n",
       "     FROM sales.fact_sales fs\n",
       "     JOIN sales.dim_product dp ON fs.product_key = dp.product_key\n",
       "     WHERE fs.order_date BETWEEN DATE_TRUNC('quarter', CURRENT_DATE - INTERVAL '3 months') AND DATE_TRUNC('quarter', CURRENT_DATE) - INTERVAL '1 day'\n",
       "     GROUP BY dp.spanish_product_category_name, dp.spanish_product_subcategory_name;\n",
       "     ```"
      ],
      "text/plain": [
       "<IPython.core.display.Markdown object>"
      ]
     },
     "execution_count": 15,
     "metadata": {},
     "output_type": "execute_result"
    }
   ],
   "source": [
    "Markdown(global_context_test['context'])"
   ]
  },
  {
   "cell_type": "code",
   "execution_count": 17,
   "id": "4225c0cf",
   "metadata": {},
   "outputs": [
    {
     "name": "stdout",
     "output_type": "stream",
     "text": [
      "--- GENERATING BUSINESS_LOGIC SUB-QUERIES 📚 ---\n",
      "--- GENERATING MDL SUB-QUERIES 📚 ---\n",
      "--- BUSINESS_LOGIC RETRIEVE TOOL 🛠️ ---\n",
      "--- MDL RETRIEVE TOOL 🛠️ ---\n",
      "--- PARALLELIZE GENERATION 🔢 ---\n",
      "--- GRADE CHUNK RELEVANCE TO QUESTION ❔ ---\n",
      "--- GRADE CHUNK RELEVANCE TO QUESTION ❔ ---\n",
      "--- GRADE CHUNK RELEVANCE TO QUESTION ❔ ---\n",
      "--- GRADE CHUNK RELEVANCE TO QUESTION ❔ ---\n",
      "--- GRADE CHUNK RELEVANCE TO QUESTION ❔ ---\n",
      "--- GRADE CHUNK RELEVANCE TO QUESTION ❔ ---\n",
      "--- GRADE CHUNK RELEVANCE TO QUESTION ❔ ---\n",
      "--- GRADE CHUNK RELEVANCE TO QUESTION ❔ ---\n",
      "--- GRADE CHUNK RELEVANCE TO QUESTION ❔ ---\n",
      "--- GRADE CHUNK RELEVANCE TO QUESTION ❔ ---\n",
      "--- GRADE CHUNK RELEVANCE TO QUESTION ❔ ---\n",
      "--- GRADE CHUNK RELEVANCE TO QUESTION ❔ ---\n",
      "--- GRADE CHUNK RELEVANCE TO QUESTION ❔ ---\n",
      "--- GRADE CHUNK RELEVANCE TO QUESTION ❔ ---\n",
      "--- GRADE CHUNK RELEVANCE TO QUESTION ❔ ---\n",
      "--- GRADE: NOT RELEVANT CHUNK 🗑️ ---\n",
      "--- SET RETRIEVAL GRADE OUTPUT KO ❌ ---\n",
      "--- GRADE: NOT RELEVANT CHUNK 🗑️ ---\n",
      "--- SET RETRIEVAL GRADE OUTPUT KO ❌ ---\n",
      "--- GRADE: RELEVANT CHUNK ✅ ---\n",
      "--- SUMMARIZE CHUNK 📝📚 ---\n",
      "--- GRADE: NOT RELEVANT CHUNK 🗑️ ---\n",
      "--- SET RETRIEVAL GRADE OUTPUT KO ❌ ---\n",
      "--- GRADE: NOT RELEVANT CHUNK 🗑️ ---\n",
      "--- SET RETRIEVAL GRADE OUTPUT KO ❌ ---\n",
      "--- GRADE: NOT RELEVANT CHUNK 🗑️ ---\n",
      "--- SET RETRIEVAL GRADE OUTPUT KO ❌ ---\n",
      "--- GRADE: NOT RELEVANT CHUNK 🗑️ ---\n",
      "--- SET RETRIEVAL GRADE OUTPUT KO ❌ ---\n",
      "--- GRADE: NOT RELEVANT CHUNK 🗑️ ---\n",
      "--- SET RETRIEVAL GRADE OUTPUT KO ❌ ---\n",
      "--- GRADE: RELEVANT CHUNK ✅ ---\n",
      "--- SUMMARIZE CHUNK 📝📚 ---\n",
      "--- GRADE: NOT RELEVANT CHUNK 🗑️ ---\n",
      "--- SET RETRIEVAL GRADE OUTPUT KO ❌ ---\n",
      "--- GRADE: NOT RELEVANT CHUNK 🗑️ ---\n",
      "--- SET RETRIEVAL GRADE OUTPUT KO ❌ ---\n",
      "--- GRADE: NOT RELEVANT CHUNK 🗑️ ---\n",
      "--- SET RETRIEVAL GRADE OUTPUT KO ❌ ---\n",
      "--- GRADE: NOT RELEVANT CHUNK 🗑️ ---\n",
      "--- SET RETRIEVAL GRADE OUTPUT KO ❌ ---\n",
      "--- GRADE: NOT RELEVANT CHUNK 🗑️ ---\n",
      "--- SET RETRIEVAL GRADE OUTPUT KO ❌ ---\n"
     ]
    },
    {
     "name": "stderr",
     "output_type": "stream",
     "text": [
      "WARNING:langchain_core.vectorstores.base:No relevant docs were retrieved using the relevance score threshold 0.75\n"
     ]
    },
    {
     "name": "stdout",
     "output_type": "stream",
     "text": [
      "--- GRADE: RELEVANT CHUNK ✅ ---\n",
      "--- SUMMARIZE CHUNK 📝📚 ---\n",
      "--- CHECK ITERATIONS 🔁 ---\n",
      "--- GRADE HALLUCINATIONS 👻 ---\n",
      "--- DECISION: GENERATION IS GROUNDED IN DOCUMENTS ✅ ---\n",
      "--- CHECK ITERATIONS 🔁 ---\n",
      "--- GRADE HALLUCINATIONS 👻 ---\n",
      "--- DECISION: GENERATION IS NOT GROUNDED (HALLUCINATIONS) 👻❌ ---\n",
      "--- SUMMARIZE CHUNK 📝📚 ---\n",
      "--- DECISION: GENERATION ADDRESSES QUESTION ✅ ---\n",
      "--- CHECK ITERATIONS 🔁 ---\n",
      "--- GRADE HALLUCINATIONS 👻 ---\n"
     ]
    },
    {
     "name": "stderr",
     "output_type": "stream",
     "text": [
      "WARNING:langchain_core.vectorstores.base:No relevant docs were retrieved using the relevance score threshold 0.75\n"
     ]
    },
    {
     "name": "stdout",
     "output_type": "stream",
     "text": [
      "--- DECISION: GENERATION IS GROUNDED IN DOCUMENTS ✅ ---\n",
      "--- DECISION: GENERATION ADDRESSES QUESTION ✅ ---\n",
      "--- CHECK ITERATIONS 🔁 ---\n",
      "--- GRADE HALLUCINATIONS 👻 ---\n"
     ]
    },
    {
     "name": "stderr",
     "output_type": "stream",
     "text": [
      "WARNING:langchain_core.vectorstores.base:No relevant docs were retrieved using the relevance score threshold 0.75\n"
     ]
    },
    {
     "name": "stdout",
     "output_type": "stream",
     "text": [
      "--- DECISION: GENERATION IS GROUNDED IN DOCUMENTS ✅ ---\n",
      "--- DECISION: GENERATION ADDRESSES QUESTION ✅ ---\n",
      "--- SUMMARIZE BUSINES LOGIC 📝👨‍💼 ---\n"
     ]
    },
    {
     "name": "stderr",
     "output_type": "stream",
     "text": [
      "WARNING:langchain_core.vectorstores.base:No relevant docs were retrieved using the relevance score threshold 0.75\n",
      "WARNING:langchain_core.vectorstores.base:No relevant docs were retrieved using the relevance score threshold 0.75\n"
     ]
    },
    {
     "name": "stdout",
     "output_type": "stream",
     "text": [
      "--- PARALLELIZE GENERATION 🔢 ---\n",
      "--- GRADE CHUNK RELEVANCE TO QUESTION ❔ ---\n",
      "--- GRADE CHUNK RELEVANCE TO QUESTION ❔ ---\n",
      "--- GRADE CHUNK RELEVANCE TO QUESTION ❔ ---\n",
      "--- GRADE CHUNK RELEVANCE TO QUESTION ❔ ---\n",
      "--- GRADE CHUNK RELEVANCE TO QUESTION ❔ ---\n",
      "--- GRADE CHUNK RELEVANCE TO QUESTION ❔ ---\n",
      "--- GRADE CHUNK RELEVANCE TO QUESTION ❔ ---\n",
      "--- GRADE CHUNK RELEVANCE TO QUESTION ❔ ---\n",
      "--- GRADE CHUNK RELEVANCE TO QUESTION ❔ ---\n",
      "--- GRADE: NOT RELEVANT CHUNK 🗑️ ---\n",
      "--- SET RETRIEVAL GRADE OUTPUT KO ❌ ---\n",
      "--- GRADE: NOT RELEVANT CHUNK 🗑️ ---\n",
      "--- SET RETRIEVAL GRADE OUTPUT KO ❌ ---\n",
      "--- GRADE: RELEVANT CHUNK ✅ ---\n",
      "--- SUMMARIZE CHUNK 📝📚 ---\n",
      "--- GRADE: NOT RELEVANT CHUNK 🗑️ ---\n",
      "--- SET RETRIEVAL GRADE OUTPUT KO ❌ ---\n",
      "--- GRADE: NOT RELEVANT CHUNK 🗑️ ---\n",
      "--- SET RETRIEVAL GRADE OUTPUT KO ❌ ---\n",
      "--- GRADE: NOT RELEVANT CHUNK 🗑️ ---\n",
      "--- SET RETRIEVAL GRADE OUTPUT KO ❌ ---\n",
      "--- GRADE: NOT RELEVANT CHUNK 🗑️ ---\n",
      "--- SET RETRIEVAL GRADE OUTPUT KO ❌ ---\n",
      "--- GRADE: RELEVANT CHUNK ✅ ---\n",
      "--- SUMMARIZE CHUNK 📝📚 ---\n",
      "--- GRADE: NOT RELEVANT CHUNK 🗑️ ---\n",
      "--- SET RETRIEVAL GRADE OUTPUT KO ❌ ---\n",
      "--- CHECK ITERATIONS 🔁 ---\n",
      "--- GRADE HALLUCINATIONS 👻 ---\n",
      "--- DECISION: GENERATION IS GROUNDED IN DOCUMENTS ✅ ---\n",
      "--- DECISION: GENERATION ADDRESSES QUESTION ✅ ---\n",
      "--- CHECK ITERATIONS 🔁 ---\n",
      "--- GRADE HALLUCINATIONS 👻 ---\n",
      "--- DECISION: GENERATION IS GROUNDED IN DOCUMENTS ✅ ---\n",
      "--- DECISION: GENERATION ADDRESSES QUESTION ✅ ---\n",
      "--- SUMMARIZE MDL 📝🗂️ ---\n",
      "--- EXTRACT DB SCHEMA 🧮 ---\n",
      "--- GRADE CONTEXT SUMMARIES 🔍 ---\n",
      "--- GENERATE GLOBAL CONTEXT 📝🌐 ---\n"
     ]
    },
    {
     "data": {
      "text/plain": [
       "{'language': 'Spanish',\n",
       " 'db_name': 'adventure_works_dw',\n",
       " 'schema_name': 'sales',\n",
       " 'relevant_context': True,\n",
       " 'context': '### Resumen General\\nLa consulta busca identificar los 10 clientes que más han comprado durante el mes pasado. Para ello, se utiliza la tabla `fact_sales` para obtener las transacciones de ventas y la tabla `dim_customer` para los datos de los clientes. El volumen de ventas se calcula como la suma del campo `sales_amount` agrupado por `customer_key`, y se filtran las transacciones realizadas en el mes anterior.\\n\\n### Esquema Detallado y Relaciones\\n#### Base de datos y esquema\\n- **Base de datos:** adventure_works_dw\\n- **Esquema:** sales\\n\\n#### Tabla: dim_customer\\n- **Descripción:** Contiene información demográfica y de ingresos de los clientes.\\n- **Clave primaria:** customer_key\\n- **Columnas relevantes:**\\n  - **customer_full_name**: Tipo de dato TEXT, nombre completo del cliente.\\n\\n#### Tabla: fact_sales\\n- **Descripción:** Registra detalles de órdenes de ventas con granularidad a nivel de línea.\\n- **Claves primarias:** sales_order_number, sales_order_line_number\\n- **Columnas relevantes:**\\n  - **order_date**: Tipo de dato DATE, fecha de creación del pedido.\\n  - **sales_amount**: Tipo de dato NUMERIC, subtotal en USD de la línea de orden de venta.\\n  - **customer_key**: Referencia a `dim_customer.customer_key`, identificador del cliente asociado.\\n\\n#### Relación entre tablas\\n- **Condición de unión:** `fact_sales.customer_key = dim_customer.customer_key`\\n\\n### Reglas de Negocio y Lógica\\n1. **Cálculo del Volumen de Ventas por Cliente:**\\n   - Se utiliza la función de agregación `SUM` sobre la columna `sales_amount` agrupada por `customer_key`.\\n\\n2. **Filtro Temporal:**\\n   - Para limitar las transacciones al mes pasado, se utiliza la columna `order_date` con una condición en el `WHERE` que filtra las fechas entre el primer y último día del mes anterior. Ejemplo:\\n     ```sql\\n     WHERE order_date BETWEEN DATEADD(MONTH, -1, DATEFROMPARTS(YEAR(GETDATE()), MONTH(GETDATE()), 1)) AND DATEADD(DAY, -1, DATEFROMPARTS(YEAR(GETDATE()), MONTH(GETDATE()), 1))\\n     ```\\n\\n3. **Orden y Limitación de Resultados:**\\n   - Los resultados se ordenan en orden descendente por el volumen de ventas calculado y se limita la salida a los 10 primeros clientes utilizando `ORDER BY` y `LIMIT 10`.\\n\\n4. **Ejemplo de Consulta SQL:**\\n   ```sql\\n   SELECT\\n       fs.customer_key,\\n       dc.customer_full_name AS cliente,\\n       SUM(fs.sales_amount) AS importe_ventas_por_cliente\\n   FROM sales.fact_sales fs\\n   JOIN sales.dim_customer dc ON fs.customer_key = dc.customer_key\\n   WHERE fs.order_date BETWEEN DATEADD(MONTH, -1, DATEFROMPARTS(YEAR(GETDATE()), MONTH(GETDATE()), 1)) AND DATEADD(DAY, -1, DATEFROMPARTS(YEAR(GETDATE()), MONTH(GETDATE()), 1))\\n   GROUP BY fs.customer_key, dc.customer_full_name\\n   ORDER BY importe_ventas_por_cliente DESC\\n   LIMIT 10;\\n   ```'}"
      ]
     },
     "execution_count": 17,
     "metadata": {},
     "output_type": "execute_result"
    }
   ],
   "source": [
    "user_query = 'Dime los 10 clientes que más han comprado el mes pasado.'\n",
    "\n",
    "global_context_test = context_generator_graph.invoke({\n",
    "    \"user_query\": user_query,\n",
    "    \"language\": 'Spanish'\n",
    "})\n",
    "\n",
    "global_context_test"
   ]
  },
  {
   "cell_type": "code",
   "execution_count": 18,
   "id": "43bd866e",
   "metadata": {},
   "outputs": [
    {
     "data": {
      "text/markdown": [
       "### Resumen General\n",
       "La consulta busca identificar los 10 clientes que más han comprado durante el mes pasado. Para ello, se utiliza la tabla `fact_sales` para obtener las transacciones de ventas y la tabla `dim_customer` para los datos de los clientes. El volumen de ventas se calcula como la suma del campo `sales_amount` agrupado por `customer_key`, y se filtran las transacciones realizadas en el mes anterior.\n",
       "\n",
       "### Esquema Detallado y Relaciones\n",
       "#### Base de datos y esquema\n",
       "- **Base de datos:** adventure_works_dw\n",
       "- **Esquema:** sales\n",
       "\n",
       "#### Tabla: dim_customer\n",
       "- **Descripción:** Contiene información demográfica y de ingresos de los clientes.\n",
       "- **Clave primaria:** customer_key\n",
       "- **Columnas relevantes:**\n",
       "  - **customer_full_name**: Tipo de dato TEXT, nombre completo del cliente.\n",
       "\n",
       "#### Tabla: fact_sales\n",
       "- **Descripción:** Registra detalles de órdenes de ventas con granularidad a nivel de línea.\n",
       "- **Claves primarias:** sales_order_number, sales_order_line_number\n",
       "- **Columnas relevantes:**\n",
       "  - **order_date**: Tipo de dato DATE, fecha de creación del pedido.\n",
       "  - **sales_amount**: Tipo de dato NUMERIC, subtotal en USD de la línea de orden de venta.\n",
       "  - **customer_key**: Referencia a `dim_customer.customer_key`, identificador del cliente asociado.\n",
       "\n",
       "#### Relación entre tablas\n",
       "- **Condición de unión:** `fact_sales.customer_key = dim_customer.customer_key`\n",
       "\n",
       "### Reglas de Negocio y Lógica\n",
       "1. **Cálculo del Volumen de Ventas por Cliente:**\n",
       "   - Se utiliza la función de agregación `SUM` sobre la columna `sales_amount` agrupada por `customer_key`.\n",
       "\n",
       "2. **Filtro Temporal:**\n",
       "   - Para limitar las transacciones al mes pasado, se utiliza la columna `order_date` con una condición en el `WHERE` que filtra las fechas entre el primer y último día del mes anterior. Ejemplo:\n",
       "     ```sql\n",
       "     WHERE order_date BETWEEN DATEADD(MONTH, -1, DATEFROMPARTS(YEAR(GETDATE()), MONTH(GETDATE()), 1)) AND DATEADD(DAY, -1, DATEFROMPARTS(YEAR(GETDATE()), MONTH(GETDATE()), 1))\n",
       "     ```\n",
       "\n",
       "3. **Orden y Limitación de Resultados:**\n",
       "   - Los resultados se ordenan en orden descendente por el volumen de ventas calculado y se limita la salida a los 10 primeros clientes utilizando `ORDER BY` y `LIMIT 10`.\n",
       "\n",
       "4. **Ejemplo de Consulta SQL:**\n",
       "   ```sql\n",
       "   SELECT\n",
       "       fs.customer_key,\n",
       "       dc.customer_full_name AS cliente,\n",
       "       SUM(fs.sales_amount) AS importe_ventas_por_cliente\n",
       "   FROM sales.fact_sales fs\n",
       "   JOIN sales.dim_customer dc ON fs.customer_key = dc.customer_key\n",
       "   WHERE fs.order_date BETWEEN DATEADD(MONTH, -1, DATEFROMPARTS(YEAR(GETDATE()), MONTH(GETDATE()), 1)) AND DATEADD(DAY, -1, DATEFROMPARTS(YEAR(GETDATE()), MONTH(GETDATE()), 1))\n",
       "   GROUP BY fs.customer_key, dc.customer_full_name\n",
       "   ORDER BY importe_ventas_por_cliente DESC\n",
       "   LIMIT 10;\n",
       "   ```"
      ],
      "text/plain": [
       "<IPython.core.display.Markdown object>"
      ]
     },
     "execution_count": 18,
     "metadata": {},
     "output_type": "execute_result"
    }
   ],
   "source": [
    "Markdown(global_context_test['context'])"
   ]
  },
  {
   "cell_type": "code",
   "execution_count": 19,
   "id": "e9478a84",
   "metadata": {},
   "outputs": [
    {
     "name": "stdout",
     "output_type": "stream",
     "text": [
      "--- GENERATING BUSINESS_LOGIC SUB-QUERIES 📚 ---\n",
      "--- GENERATING MDL SUB-QUERIES 📚 ---\n",
      "--- MDL RETRIEVE TOOL 🛠️ ---\n",
      "--- BUSINESS_LOGIC RETRIEVE TOOL 🛠️ ---\n",
      "--- PARALLELIZE GENERATION 🔢 ---\n",
      "--- GRADE CHUNK RELEVANCE TO QUESTION ❔ ---\n",
      "--- GRADE CHUNK RELEVANCE TO QUESTION ❔ ---\n",
      "--- GRADE CHUNK RELEVANCE TO QUESTION ❔ ---\n",
      "--- GRADE CHUNK RELEVANCE TO QUESTION ❔ ---\n",
      "--- GRADE CHUNK RELEVANCE TO QUESTION ❔ ---\n",
      "--- GRADE CHUNK RELEVANCE TO QUESTION ❔ ---\n",
      "--- GRADE CHUNK RELEVANCE TO QUESTION ❔ ---\n",
      "--- GRADE CHUNK RELEVANCE TO QUESTION ❔ ---\n",
      "--- GRADE CHUNK RELEVANCE TO QUESTION ❔ ---\n",
      "--- GRADE CHUNK RELEVANCE TO QUESTION ❔ ---\n",
      "--- GRADE: NOT RELEVANT CHUNK 🗑️ ---\n",
      "--- SET RETRIEVAL GRADE OUTPUT KO ❌ ---\n",
      "--- GRADE: NOT RELEVANT CHUNK 🗑️ ---\n",
      "--- SET RETRIEVAL GRADE OUTPUT KO ❌ ---\n",
      "--- GRADE: NOT RELEVANT CHUNK 🗑️ ---\n",
      "--- SET RETRIEVAL GRADE OUTPUT KO ❌ ---\n",
      "--- GRADE: NOT RELEVANT CHUNK 🗑️ ---\n",
      "--- SET RETRIEVAL GRADE OUTPUT KO ❌ ---\n",
      "--- GRADE: NOT RELEVANT CHUNK 🗑️ ---\n",
      "--- SET RETRIEVAL GRADE OUTPUT KO ❌ ---\n",
      "--- GRADE: NOT RELEVANT CHUNK 🗑️ ---\n",
      "--- SET RETRIEVAL GRADE OUTPUT KO ❌ ---\n",
      "--- GRADE: NOT RELEVANT CHUNK 🗑️ ---\n",
      "--- SET RETRIEVAL GRADE OUTPUT KO ❌ ---\n",
      "--- GRADE: NOT RELEVANT CHUNK 🗑️ ---\n",
      "--- SET RETRIEVAL GRADE OUTPUT KO ❌ ---\n",
      "--- GRADE: NOT RELEVANT CHUNK 🗑️ ---\n",
      "--- SET RETRIEVAL GRADE OUTPUT KO ❌ ---\n",
      "--- GRADE: NOT RELEVANT CHUNK 🗑️ ---\n",
      "--- SET RETRIEVAL GRADE OUTPUT KO ❌ ---\n",
      "--- SUMMARIZE BUSINES LOGIC 📝👨‍💼 ---\n"
     ]
    },
    {
     "name": "stderr",
     "output_type": "stream",
     "text": [
      "WARNING:langchain_core.vectorstores.base:No relevant docs were retrieved using the relevance score threshold 0.75\n",
      "WARNING:langchain_core.vectorstores.base:No relevant docs were retrieved using the relevance score threshold 0.75\n",
      "WARNING:langchain_core.vectorstores.base:No relevant docs were retrieved using the relevance score threshold 0.75\n",
      "WARNING:langchain_core.vectorstores.base:No relevant docs were retrieved using the relevance score threshold 0.75\n",
      "WARNING:langchain_core.vectorstores.base:No relevant docs were retrieved using the relevance score threshold 0.75\n"
     ]
    },
    {
     "name": "stdout",
     "output_type": "stream",
     "text": [
      "--- PARALLELIZE GENERATION 🔢 ---\n",
      "--- GRADE CHUNK RELEVANCE TO QUESTION ❔ ---\n",
      "--- GRADE CHUNK RELEVANCE TO QUESTION ❔ ---\n",
      "--- GRADE CHUNK RELEVANCE TO QUESTION ❔ ---\n",
      "--- GRADE CHUNK RELEVANCE TO QUESTION ❔ ---\n",
      "--- GRADE CHUNK RELEVANCE TO QUESTION ❔ ---\n",
      "--- GRADE CHUNK RELEVANCE TO QUESTION ❔ ---\n",
      "--- GRADE CHUNK RELEVANCE TO QUESTION ❔ ---\n",
      "--- GRADE CHUNK RELEVANCE TO QUESTION ❔ ---\n",
      "--- GRADE CHUNK RELEVANCE TO QUESTION ❔ ---\n",
      "--- GRADE: NOT RELEVANT CHUNK 🗑️ ---\n",
      "--- SET RETRIEVAL GRADE OUTPUT KO ❌ ---\n",
      "--- GRADE: NOT RELEVANT CHUNK 🗑️ ---\n",
      "--- SET RETRIEVAL GRADE OUTPUT KO ❌ ---\n",
      "--- GRADE: NOT RELEVANT CHUNK 🗑️ ---\n",
      "--- SET RETRIEVAL GRADE OUTPUT KO ❌ ---\n",
      "--- GRADE: NOT RELEVANT CHUNK 🗑️ ---\n",
      "--- SET RETRIEVAL GRADE OUTPUT KO ❌ ---\n",
      "--- GRADE: NOT RELEVANT CHUNK 🗑️ ---\n",
      "--- SET RETRIEVAL GRADE OUTPUT KO ❌ ---\n",
      "--- GRADE: NOT RELEVANT CHUNK 🗑️ ---\n",
      "--- SET RETRIEVAL GRADE OUTPUT KO ❌ ---\n",
      "--- GRADE: NOT RELEVANT CHUNK 🗑️ ---\n",
      "--- SET RETRIEVAL GRADE OUTPUT KO ❌ ---\n",
      "--- GRADE: NOT RELEVANT CHUNK 🗑️ ---\n",
      "--- SET RETRIEVAL GRADE OUTPUT KO ❌ ---\n",
      "--- GRADE: NOT RELEVANT CHUNK 🗑️ ---\n",
      "--- SET RETRIEVAL GRADE OUTPUT KO ❌ ---\n",
      "--- SUMMARIZE MDL 📝🗂️ ---\n",
      "--- EXTRACT DB SCHEMA 🧮 ---\n",
      "--- GRADE CONTEXT SUMMARIES 🔍 ---\n",
      "--- GENERATE NO RELEVANT CONTEXT RESPONSE 📝⛔ ---\n"
     ]
    },
    {
     "data": {
      "text/plain": [
       "{'language': 'Spanish',\n",
       " 'db_name': '[Not Found]',\n",
       " 'schema_name': '[Not Found]',\n",
       " 'relevant_context': False,\n",
       " 'no_relevant_context_msg': 'Lo siento mucho, pero no puedo responder a tu pregunta sobre el departamento con el salario medio más alto, ya que este tema está fuera del alcance de la información proporcionada. Sin embargo, puedo ayudarte con temas relacionados con el análisis de ventas, como el cálculo del volumen de ventas por agente comercial o el valor promedio por orden. Por favor, dime cómo puedo asistirte.'}"
      ]
     },
     "execution_count": 19,
     "metadata": {},
     "output_type": "execute_result"
    }
   ],
   "source": [
    "user_query = 'Dime el departamento con el salario medio más alto.'\n",
    "\n",
    "global_context_test = context_generator_graph.invoke({\n",
    "    \"user_query\": user_query,\n",
    "    \"language\": 'Spanish'\n",
    "})\n",
    "\n",
    "global_context_test"
   ]
  },
  {
   "cell_type": "code",
   "execution_count": 20,
   "id": "12a82fc9",
   "metadata": {},
   "outputs": [
    {
     "data": {
      "text/markdown": [
       "Lo siento mucho, pero no puedo responder a tu pregunta sobre el departamento con el salario medio más alto, ya que este tema está fuera del alcance de la información proporcionada. Sin embargo, puedo ayudarte con temas relacionados con el análisis de ventas, como el cálculo del volumen de ventas por agente comercial o el valor promedio por orden. Por favor, dime cómo puedo asistirte."
      ],
      "text/plain": [
       "<IPython.core.display.Markdown object>"
      ]
     },
     "execution_count": 20,
     "metadata": {},
     "output_type": "execute_result"
    }
   ],
   "source": [
    "Markdown(global_context_test['no_relevant_context_msg'])"
   ]
  },
  {
   "cell_type": "markdown",
   "id": "9fc036f9",
   "metadata": {},
   "source": [
    "---\n",
    "\n",
    "## Query Generator"
   ]
  },
  {
   "cell_type": "code",
   "execution_count": 21,
   "id": "cb0dab02",
   "metadata": {},
   "outputs": [],
   "source": [
    "query_generator_graph = get_query_generator_graph()"
   ]
  },
  {
   "cell_type": "code",
   "execution_count": 22,
   "id": "c964fdea",
   "metadata": {},
   "outputs": [
    {
     "data": {
      "image/png": "[encoded data removed]",
      "text/plain": [
       "<IPython.core.display.Image object>"
      ]
     },
     "execution_count": 22,
     "metadata": {},
     "output_type": "execute_result"
    }
   ],
   "source": [
    "Image(query_generator_graph.get_graph().draw_mermaid_png())"
   ]
  },
  {
   "cell_type": "code",
   "execution_count": 23,
   "id": "c63f7640",
   "metadata": {},
   "outputs": [
    {
     "name": "stdout",
     "output_type": "stream",
     "text": [
      "---QUERY EXAMPLES RETRIEVE TOOL---\n"
     ]
    },
    {
     "data": {
      "text/plain": [
       "{'sql_query': \"WITH \\nlast_quarter AS (\\n  SELECT\\n    fs.product_key,\\n    COALESCE(dp.spanish_product_name, dp.english_product_name) AS product_name,\\n    dp.spanish_product_category_name,\\n    dp.spanish_product_subcategory_name,\\n    EXTRACT(MONTH FROM fs.order_date) AS month_in_quarter,\\n    fs.order_quantity\\n  FROM\\n    sales.fact_sales fs\\n    JOIN sales.dim_product dp ON fs.product_key = dp.product_key\\n  WHERE\\n    fs.sale_source = 'reseller_sales'\\n    AND dp.spanish_product_category_name <> 'Accesorio'\\n    AND fs.order_date >= date_trunc('quarter', CURRENT_DATE - interval '3 months')\\n    AND fs.order_date < date_trunc('quarter', CURRENT_DATE)\\n),\\ntop_products AS (\\n  SELECT\\n    product_key,\\n    product_name,\\n    spanish_product_category_name,\\n    spanish_product_subcategory_name,\\n    SUM(order_quantity) AS total_qty\\n  FROM\\n    last_quarter\\n  GROUP BY\\n    product_key, product_name, spanish_product_category_name, spanish_product_subcategory_name\\n  ORDER BY\\n    total_qty DESC\\n  LIMIT 10\\n)\\nSELECT\\n  tp.product_name AS producto,\\n  tp.spanish_product_category_name AS categoria,\\n  tp.spanish_product_subcategory_name AS subcategoria,\\n  SUM(lq.order_quantity) FILTER (WHERE lq.month_in_quarter = EXTRACT(MONTH FROM date_trunc('quarter', CURRENT_DATE - interval '3 months'))) AS primer_mes,\\n  SUM(lq.order_quantity) FILTER (WHERE lq.month_in_quarter = EXTRACT(MONTH FROM date_trunc('quarter', CURRENT_DATE - interval '3 months') + interval '1 month')) AS segundo_mes,\\n  SUM(lq.order_quantity) FILTER (WHERE lq.month_in_quarter = EXTRACT(MONTH FROM date_trunc('quarter', CURRENT_DATE - interval '3 months') + interval '2 month')) AS tercer_mes,\\n  SUM(lq.order_quantity) AS total\\nFROM\\n  top_products tp\\n  LEFT JOIN last_quarter lq ON tp.product_key = lq.product_key\\nGROUP BY\\n  producto, categoria, subcategoria\\nORDER BY\\n  total DESC\",\n",
       " 'valid_query_generated': True}"
      ]
     },
     "execution_count": 23,
     "metadata": {},
     "output_type": "execute_result"
    }
   ],
   "source": [
    "logging.basicConfig(level=logging.WARNING)\n",
    "\n",
    "query_generator_graph.invoke({\n",
    "    \"context\": \"Tablas:\\n  customers(id, name, country)\\n\",\n",
    "    \"user_query\": \"Muéstrame los 10 productos más vendidos para el B2B en el último trimestre, excluyendo los Accesorios. Mes a mes indica cuántas unidades se vendieron, y muestra también a qué categoría y subcategoría pertenecen\",\n",
    "    \"language\": \"Spanish\"\n",
    "})"
   ]
  },
  {
   "cell_type": "markdown",
   "id": "a113c546",
   "metadata": {},
   "source": [
    "---\n",
    "\n",
    "## Query Validator"
   ]
  },
  {
   "cell_type": "code",
   "execution_count": 2,
   "id": "9733b172",
   "metadata": {},
   "outputs": [],
   "source": [
    "query_validator_graph = get_query_validator_graph()"
   ]
  },
  {
   "cell_type": "code",
   "execution_count": 3,
   "id": "ca5a1834",
   "metadata": {},
   "outputs": [
    {
     "data": {
      "image/png": "[encoded data removed]",
      "text/plain": [
       "<IPython.core.display.Image object>"
      ]
     },
     "execution_count": 3,
     "metadata": {},
     "output_type": "execute_result"
    }
   ],
   "source": [
    "Image(query_validator_graph.get_graph().draw_mermaid_png())"
   ]
  },
  {
   "cell_type": "markdown",
   "id": "1ee323ad",
   "metadata": {},
   "source": [
    "#### Ejemplo 1"
   ]
  },
  {
   "cell_type": "code",
   "execution_count": 4,
   "id": "e72e88dc",
   "metadata": {},
   "outputs": [
    {
     "name": "stdout",
     "output_type": "stream",
     "text": [
      "\n",
      "--- INICIANDO COMPROBACIÓN DE CONEXIÓN A BBDD ⚙️ ---\n",
      "✅ Conexión a la base de datos establecida correctamente.\n",
      "\n",
      "--- INICIANDO FASE DE EXTRACCIÓN DE TABLAS CON LLM 🧮 ---\n",
      "Tablas detectadas por el LLM: ['ventas', 'productos']\n",
      "\n",
      "--- INICIANDO FASE DE JUEZ DE COHERENCIA 👩‍⚖️ ---\n",
      "\n",
      "Veredicto del juez: COHERENTE ✅\n",
      "\n",
      "--- PASANDO A FASE DE EJECUCIÓN EN POSTGRESQL ---\n",
      "\n",
      "\n",
      "❌ Error de PostgreSQL detectado: table_names {'ventas'} not found in database\n",
      "\n",
      "--- INICIANDO FASE DE CORRECIÓN 📝 ---\n",
      "\n",
      "✅  > Query corregida recibida: WITH \n",
      "last_quarter AS (\n",
      "  SELECT\n",
      "    fs.product_key,\n",
      "    COALESCE(dp.s...\n",
      "\n",
      "--- INICIANDO FASE DE EXTRACCIÓN DE TABLAS CON LLM 🧮 ---\n",
      "Tablas detectadas por el LLM: ['fact_sales', 'dim_product']\n",
      "\n",
      "--- INICIANDO FASE DE JUEZ DE COHERENCIA 👩‍⚖️ ---\n",
      "\n",
      "Veredicto del juez: COHERENTE ✅\n",
      "\n",
      "--- PASANDO A FASE DE EJECUCIÓN EN POSTGRESQL ---\n",
      "\n",
      "\n",
      "✅ Query ejecutada correctamente.\n"
     ]
    },
    {
     "data": {
      "text/plain": [
       "{'sql_query': \"WITH \\nlast_quarter AS (\\n  SELECT\\n    fs.product_key,\\n    COALESCE(dp.spanish_product_name, dp.english_product_name) AS product_name,\\n    dp.spanish_product_category_name,\\n    dp.spanish_product_subcategory_name,\\n    EXTRACT(MONTH FROM fs.order_date) AS month_in_quarter,\\n    fs.order_quantity\\n  FROM\\n    sales.fact_sales fs\\n    JOIN sales.dim_product dp ON fs.product_key = dp.product_key\\n  WHERE\\n    fs.sale_source = 'reseller_sales'\\n    AND dp.spanish_product_category_name <> 'Accesorio'\\n    AND fs.order_date >= date_trunc('quarter', CURRENT_DATE - interval '3 months')\\n    AND fs.order_date < date_trunc('quarter', CURRENT_DATE)\\n),\\ntop_products AS (\\n  SELECT\\n    product_key,\\n    product_name,\\n    spanish_product_category_name,\\n    spanish_product_subcategory_name,\\n    SUM(order_quantity) AS total_qty\\n  FROM\\n    last_quarter\\n  GROUP BY\\n    product_key, product_name, spanish_product_category_name, spanish_product_subcategory_name\\n  ORDER BY\\n    total_qty DESC\\n  LIMIT 10\\n)\\nSELECT\\n  tp.product_name AS producto,\\n  tp.spanish_product_category_name AS categoria,\\n  tp.spanish_product_subcategory_name AS subcategoria,\\n  SUM(lq.order_quantity) FILTER (WHERE lq.month_in_quarter = EXTRACT(MONTH FROM date_trunc('quarter', CURRENT_DATE - interval '3 months'))) AS primer_mes,\\n  SUM(lq.order_quantity) FILTER (WHERE lq.month_in_quarter = EXTRACT(MONTH FROM date_trunc('quarter', CURRENT_DATE - interval '3 months') + interval '1 month')) AS segundo_mes,\\n  SUM(lq.order_quantity) FILTER (WHERE lq.month_in_quarter = EXTRACT(MONTH FROM date_trunc('quarter', CURRENT_DATE - interval '3 months') + interval '2 month')) AS tercer_mes,\\n  SUM(lq.order_quantity) AS total\\nFROM\\n  top_products tp\\n  LEFT JOIN last_quarter lq ON tp.product_key = lq.product_key\\nGROUP BY\\n  tp.product_name, tp.spanish_product_category_name, tp.spanish_product_subcategory_name\\nORDER BY\\n  total DESC;\",\n",
       " 'table_names': ['fact_sales', 'dim_product'],\n",
       " 'tables_info': ['\\nCREATE TABLE fact_sales (\\n\\tproduct_key INTEGER, \\n\\treseller_key INTEGER, \\n\\temployee_key INTEGER, \\n\\tcustomer_key INTEGER, \\n\\tpromotion_key INTEGER, \\n\\tsales_territory_key INTEGER, \\n\\tsales_order_number VARCHAR(20) NOT NULL, \\n\\tsales_order_line_number SMALLINT NOT NULL, \\n\\torder_quantity SMALLINT, \\n\\tunit_price NUMERIC(19, 4), \\n\\textended_amount NUMERIC(19, 4), \\n\\tunit_price_discount_pct DOUBLE PRECISION, \\n\\tdiscount_amount DOUBLE PRECISION, \\n\\tproduct_standard_cost NUMERIC(19, 4), \\n\\ttotal_product_cost NUMERIC(19, 4), \\n\\tsales_amount NUMERIC(19, 4), \\n\\ttax_amt NUMERIC(19, 4), \\n\\tfreight NUMERIC(19, 4), \\n\\torder_date DATE, \\n\\tdue_date DATE, \\n\\tship_date DATE, \\n\\tsale_source TEXT, \\n\\tCONSTRAINT fact_sales_pkey PRIMARY KEY (sales_order_number, sales_order_line_number), \\n\\tCONSTRAINT fk_fact_sales_customer FOREIGN KEY(customer_key) REFERENCES dim_customer (customer_key), \\n\\tCONSTRAINT fk_fact_sales_person FOREIGN KEY(employee_key) REFERENCES dim_sales_person (employee_key), \\n\\tCONSTRAINT fk_fact_sales_product FOREIGN KEY(product_key) REFERENCES dim_product (product_key), \\n\\tCONSTRAINT fk_fact_sales_promotion FOREIGN KEY(promotion_key) REFERENCES dim_promotion (promotion_key), \\n\\tCONSTRAINT fk_fact_sales_reseller FOREIGN KEY(reseller_key) REFERENCES dim_reseller (reseller_key), \\n\\tCONSTRAINT fk_fact_sales_sales_territory FOREIGN KEY(sales_territory_key) REFERENCES dim_sales_territory (sales_territory_key)\\n)\\n\\n/*\\n3 rows from fact_sales table:\\nproduct_key\\treseller_key\\temployee_key\\tcustomer_key\\tpromotion_key\\tsales_territory_key\\tsales_order_number\\tsales_order_line_number\\torder_quantity\\tunit_price\\textended_amount\\tunit_price_discount_pct\\tdiscount_amount\\tproduct_standard_cost\\ttotal_product_cost\\tsales_amount\\ttax_amt\\tfreight\\torder_date\\tdue_date\\tship_date\\tsale_source\\n212\\t3\\t283\\tNone\\t1\\t4\\tSO44124\\t14\\t1\\t20.1865\\t20.1865\\t0.0\\t0.0\\t12.0278\\t12.0278\\t20.1865\\t1.6149\\t0.5047\\t2023-03-01\\t2023-03-13\\t2023-03-08\\treseller_sales\\n212\\t3\\t283\\tNone\\t1\\t4\\tSO45568\\t11\\t3\\t20.1865\\t60.5595\\t0.0\\t0.0\\t12.0278\\t36.0834\\t60.5595\\t4.8448\\t1.5140\\t2023-08-29\\t2023-09-10\\t2023-09-05\\treseller_sales\\n212\\t3\\t283\\tNone\\t1\\t4\\tSO46377\\t2\\t1\\t20.1865\\t20.1865\\t0.0\\t0.0\\t12.0278\\t12.0278\\t20.1865\\t1.6149\\t0.5047\\t2023-11-29\\t2023-12-11\\t2023-12-06\\treseller_sales\\n*/',\n",
       "  '\\nCREATE TABLE dim_product (\\n\\tproduct_key INTEGER NOT NULL, \\n\\tweight_unit_measure_code CHAR(3), \\n\\tsize_unit_measure_code CHAR(3), \\n\\tenglish_product_name VARCHAR(50), \\n\\tspanish_product_name VARCHAR(50), \\n\\tstandard_cost NUMERIC(19, 4), \\n\\tfinished_goods_flag BOOLEAN, \\n\\tcolor VARCHAR(15), \\n\\tsafety_stock_level SMALLINT, \\n\\treorder_point SMALLINT, \\n\\tlist_price NUMERIC(19, 4), \\n\\tsize VARCHAR(50), \\n\\tsize_range VARCHAR(50), \\n\\tweight DOUBLE PRECISION, \\n\\tdays_to_manufacture INTEGER, \\n\\tproduct_line CHAR(2), \\n\\tdealer_price NUMERIC(19, 4), \\n\\tclass CHAR(2), \\n\\tstyle CHAR(2), \\n\\tmodel_name VARCHAR(50), \\n\\tenglish_description VARCHAR(400), \\n\\tstart_date DATE, \\n\\tend_date DATE, \\n\\tactive BOOLEAN, \\n\\tenglish_product_subcategory_name VARCHAR(50), \\n\\tspanish_product_subcategory_name VARCHAR(50), \\n\\tenglish_product_category_name VARCHAR(50), \\n\\tspanish_product_category_name VARCHAR(50), \\n\\tCONSTRAINT dim_product_pkey PRIMARY KEY (product_key)\\n)\\n\\n/*\\n3 rows from dim_product table:\\nproduct_key\\tweight_unit_measure_code\\tsize_unit_measure_code\\tenglish_product_name\\tspanish_product_name\\tstandard_cost\\tfinished_goods_flag\\tcolor\\tsafety_stock_level\\treorder_point\\tlist_price\\tsize\\tsize_range\\tweight\\tdays_to_manufacture\\tproduct_line\\tdealer_price\\tclass\\tstyle\\tmodel_name\\tenglish_description\\tstart_date\\tend_date\\tactive\\tenglish_product_subcategory_name\\tspanish_product_subcategory_name\\tenglish_product_category_name\\tspanish_product_category_name\\n528\\tNone\\tNone\\tMountain Tire Tube\\tCubierta para cámara de montaña\\t1.8663\\tTrue\\tNA\\t500\\t375\\t4.9900\\tNone\\tNA\\tNone\\t0\\tM \\t2.9940\\tNone\\tNone\\tMountain Tire Tube\\tSelf-sealing tube.\\t2025-07-01\\tNone\\tTrue\\tTires and Tubes\\tCubierta y cámara\\tAccessories\\tAccesorio\\n384\\tLB \\tCM \\tRoad-550-W Yellow, 40\\tCarretera: 550 para mujer, amarilla, 40\\t713.0798\\tTrue\\tYellow\\t100\\t75\\t1120.4900\\t40\\t38-40 CM\\t17.77\\t4\\tR \\t672.2940\\tM \\tW \\tRoad-550-W\\tSame technology as all of our Road series bikes, but the frame is sized for a woman.  Perfect all-ar\\t2025-07-01\\tNone\\tTrue\\tRoad Bikes\\tBicicleta de carretera\\tBikes\\tBicicleta\\n407\\tNone\\tNone\\tHL Road Handlebars\\tManillar de carretera GA\\t48.5453\\tTrue\\tNA\\t500\\t375\\t109.3364\\tNone\\tNA\\tNone\\t1\\tR \\t65.6018\\tH \\tNone\\tHL Road Handlebars\\tDesigned for racers; high-end anatomically shaped bar from aluminum alloy.\\t2024-07-01\\t2020-12-27\\tFalse\\tHandlebars\\tBarra\\tComponents\\tComponente\\n*/'],\n",
       " 'query_results': [{'producto': 'Camiseta clásica, P', 'categoria': 'Prenda', 'subcategoria': 'Camiseta', 'primer_mes': 381, 'segundo_mes': 380, 'tercer_mes': 190, 'total': 951},\n",
       "  {'producto': 'Jersey clásico de manga corta, SG', 'categoria': 'Prenda', 'subcategoria': 'Jersey', 'primer_mes': 329, 'segundo_mes': 299, 'tercer_mes': 183, 'total': 811},\n",
       "  {'producto': \"Women's Mountain Shorts, S\", 'categoria': 'Prenda', 'subcategoria': 'Pantalones cortos', 'primer_mes': 295, 'segundo_mes': 258, 'tercer_mes': 141, 'total': 694},\n",
       "  {'producto': 'Jersey con logotipo de manga larga, G', 'categoria': 'Prenda', 'subcategoria': 'Jersey', 'primer_mes': 312, 'segundo_mes': 243, 'tercer_mes': 129, 'total': 684},\n",
       "  {'producto': 'AWC Logo Cap', 'categoria': 'Prenda', 'subcategoria': 'Gorra', 'primer_mes': 291, 'segundo_mes': 243, 'tercer_mes': 121, 'total': 655},\n",
       "  {'producto': \"Women's Mountain Shorts, L\", 'categoria': 'Prenda', 'subcategoria': 'Pantalones cortos', 'primer_mes': 262, 'segundo_mes': 236, 'tercer_mes': 120, 'total': 618},\n",
       "  {'producto': 'Jersey clásico de manga corta, G', 'categoria': 'Prenda', 'subcategoria': 'Jersey', 'primer_mes': 217, 'segundo_mes': 231, 'tercer_mes': 113, 'total': 561},\n",
       "  {'producto': 'Calcetines para carreras, G', 'categoria': 'Prenda', 'subcategoria': 'Calcetines', 'primer_mes': 231, 'segundo_mes': 179, 'tercer_mes': 93, 'total': 503},\n",
       "  {'producto': 'Camiseta clásica, M', 'categoria': 'Prenda', 'subcategoria': 'Camiseta', 'primer_mes': 197, 'segundo_mes': 187, 'tercer_mes': 85, 'total': 469},\n",
       "  {'producto': 'Half-Finger Gloves, M', 'categoria': 'Prenda', 'subcategoria': 'Guantes', 'primer_mes': 187, 'segundo_mes': 168, 'tercer_mes': 82, 'total': 437}],\n",
       " 'valid_query_execution': True,\n",
       " 'query_validation_error_msg': 'error_db'}"
      ]
     },
     "execution_count": 4,
     "metadata": {},
     "output_type": "execute_result"
    }
   ],
   "source": [
    "logging.basicConfig(level=logging.WARNING)\n",
    "\n",
    "user_query = 'Muéstrame los 10 productos más vendidos para el B2B en el último trimestre, excluyendo los Accesorios. Mes a mes indica cuántas unidades se vendieron, y muestra también a qué categoría y subcategoría pertenecen'\n",
    "sql_query = \"WITH \\nlast_quarter AS (\\n  SELECT\\n    fs.product_key,\\n    COALESCE(dp.spanish_product_name, dp.english_product_name) AS product_name,\\n    dp.spanish_product_category_name,\\n    dp.spanish_product_subcategory_name,\\n    EXTRACT(MONTH FROM fs.order_date) AS month_in_quarter,\\n    fs.order_quantity\\n  FROM\\n    sales.ventas fs\\n    JOIN sales.productos dp ON fs.product_key = dp.product_key\\n  WHERE\\n    fs.sale_source = 'reseller_sales'\\n    AND dp.spanish_product_category_name <> 'Accesorio'\\n    AND fs.order_date >= date_trunc('quarter', CURRENT_DATE - interval '3 months')\\n    AND fs.order_date < date_trunc('quarter', CURRENT_DATE)\\n),\\ntop_products AS (\\n  SELECT\\n    product_key,\\n    product_name,\\n    spanish_product_category_name,\\n    spanish_product_subcategory_name,\\n    SUM(order_quantity) AS total_qty\\n  FROM\\n    last_quarter\\n  GROUP BY\\n    product_key, product_name, spanish_product_category_name, spanish_product_subcategory_name\\n  ORDER BY\\n    total_qty DESC\\n  LIMIT 10\\n)\\nSELECT\\n  tp.product_name AS producto,\\n  tp.spanish_product_category_name AS categoria,\\n  tp.spanish_product_subcategory_name AS subcategoria,\\n  SUM(lq.order_quantity) FILTER (WHERE lq.month_in_quarter = EXTRACT(MONTH FROM date_trunc('quarter', CURRENT_DATE - interval '3 months'))) AS primer_mes,\\n  SUM(lq.order_quantity) FILTER (WHERE lq.month_in_quarter = EXTRACT(MONTH FROM date_trunc('quarter', CURRENT_DATE - interval '3 months') + interval '1 month')) AS segundo_mes,\\n  SUM(lq.order_quantity) FILTER (WHERE lq.month_in_quarter = EXTRACT(MONTH FROM date_trunc('quarter', CURRENT_DATE - interval '3 months') + interval '2 month')) AS tercer_mes,\\n  SUM(lq.order_quantity) AS total\\nFROM\\n  top_products tp\\n  LEFT JOIN last_quarter lq ON tp.product_key = lq.product_key\\nGROUP BY\\n  producto, categoria, subcategoria\\nORDER BY\\n  total DESC\"\n",
    "context = \"### Resumen General\\nEl objetivo de la consulta es identificar los 10 productos más vendidos en el modelo de negocio B2B durante el último trimestre, excluyendo aquellos clasificados como accesorios. Además, se requiere un desglose mensual de las unidades vendidas y la inclusión de información sobre la categoría y subcategoría de cada producto.\\n\\n### Esquema Detallado y Relaciones\\n#### Base de datos y esquema\\n- **Base de datos:** adventure_works_dw\\n- **Esquema:** sales\\n\\n#### Tabla: dim_product\\n- **Descripción:** Contiene información detallada de los productos vendidos.\\n- **Clave primaria:** product_key\\n- **Columnas relevantes:**\\n  - **english_product_category_name**: VARCHAR(50), nunca NULL.\\n  - **spanish_product_category_name**: VARCHAR(50), nunca NULL.\\n  - **english_product_subcategory_name**: VARCHAR(50), nunca NULL.\\n  - **spanish_product_subcategory_name**: VARCHAR(50), nunca NULL.\\n  - **spanish_product_name**: VARCHAR(50), puede ser NULL.\\n  - **english_product_name**: VARCHAR(50), nunca NULL.\\n  - **finished_goods_flag**: BOOL.\\n  - **start_date**: DATE.\\n  - **end_date**: DATE, puede ser NULL.\\n  - **dealer_price**: NUMERIC.\\n  - **list_price**: NUMERIC.\\n\\n#### Tabla: fact_sales\\n- **Descripción:** Contiene detalles de las órdenes de ventas realizadas.\\n- **Clave primaria:** sales_order_number, sales_order_line_number\\n- **Claves foráneas:**\\n  - product_key → sales.dim_product.product_key\\n- **Columnas relevantes:**\\n  - **order_quantity**: INT2.\\n  - **sale_source**: TEXT.\\n  - **order_date**: DATE.\\n  - **product_key**: Referencia a sales.dim_product.product_key.\\n\\n#### Relaciones entre tablas\\n- Para unir las tablas **fact_sales** y **dim_product**, se utiliza la clave foránea **product_key**.\\n- Condiciones de unión: `fact_sales.product_key = dim_product.product_key`.\\n\\n### Reglas de Negocio y Lógica\\n1. **Modelo de Negocio B2B:**\\n   - Las ventas B2B se identifican con el campo `sale_source` igual a `'reseller_sales'`.\\n\\n2. **Productos Más Vendidos:**\\n   - Se define por la cantidad de unidades vendidas (`order_quantity`).\\n   - Implementación SQL:\\n     ```sql\\n     SUM(order_quantity) AS cantidad_vendida\\n     ```\\n\\n3. **Exclusión de Accesorios:**\\n   - Se aplica el filtro `spanish_product_category_name != 'Accesorio'`.\\n\\n4. **Desglose Temporal:**\\n   - Para calcular el último trimestre, se utiliza el campo `order_date` en la tabla `fact_sales`.\\n   - Ejemplo de filtro SQL para el último trimestre:\\n     ```sql\\n     WHERE order_date BETWEEN DATE_TRUNC('quarter', CURRENT_DATE - INTERVAL '3 months') AND DATE_TRUNC('quarter', CURRENT_DATE) - INTERVAL '1 day';\\n     ```\\n   - Para el desglose mensual, se puede usar la función `EXTRACT(MONTH FROM order_date)`.\\n\\n5. **Categorías y Subcategorías:**\\n   - Para mostrar nombres de categorías y subcategorías, se priorizan los campos en español (`spanish_product_category_name`, `spanish_product_subcategory_name`). Si son nulos, se utiliza la versión en inglés como alternativa.\\n   - Ejemplo de lógica SQL:\\n     ```sql\\n     SELECT\\n         COALESCE(spanish_product_category_name, english_product_category_name) AS producto_categoria,\\n         COALESCE(spanish_product_subcategory_name, english_product_subcategory_name) AS producto_subcategoria\\n     FROM sales.dim_product;\\n     ```\"\n",
    "\n",
    "results = query_validator_graph.invoke({\n",
    "    \"user_query\": user_query, \n",
    "    \"sql_query\": sql_query, \n",
    "    \"context\": context,\n",
    "    \"db_name\": \"adventure_works_dw\",\n",
    "    \"schema_name\": \"sales\"\n",
    "})\n",
    "\n",
    "results"
   ]
  },
  {
   "cell_type": "markdown",
   "id": "6b8c7f9a",
   "metadata": {},
   "source": [
    "#### Ejemplo 2"
   ]
  },
  {
   "cell_type": "code",
   "execution_count": 5,
   "id": "82f4760b",
   "metadata": {},
   "outputs": [
    {
     "name": "stdout",
     "output_type": "stream",
     "text": [
      "\n",
      "--- INICIANDO COMPROBACIÓN DE CONEXIÓN A BBDD ⚙️ ---\n",
      "✅ Conexión a la base de datos establecida correctamente.\n",
      "\n",
      "--- INICIANDO FASE DE EXTRACCIÓN DE TABLAS CON LLM 🧮 ---\n",
      "Tablas detectadas por el LLM: ['fact_sales']\n",
      "\n",
      "--- INICIANDO FASE DE JUEZ DE COHERENCIA 👩‍⚖️ ---\n",
      "\n",
      "Veredicto del juez: INCOHERENTE ❌\n",
      "\n",
      "❌ La query es incoherente. No se ejecutará en la BBDD.\n",
      "\n",
      "--- INICIANDO FASE DE CORRECIÓN 📝 ---\n",
      "\n",
      "✅  > Query corregida recibida: SELECT customer_full_name FROM sales.dim_customer LIMIT 10...\n",
      "\n",
      "--- INICIANDO FASE DE EXTRACCIÓN DE TABLAS CON LLM 🧮 ---\n",
      "Tablas detectadas por el LLM: ['dim_customer']\n",
      "\n",
      "--- INICIANDO FASE DE JUEZ DE COHERENCIA 👩‍⚖️ ---\n",
      "\n",
      "Veredicto del juez: COHERENTE ✅\n",
      "\n",
      "--- PASANDO A FASE DE EJECUCIÓN EN POSTGRESQL ---\n",
      "\n",
      "\n",
      "✅ Query ejecutada correctamente.\n"
     ]
    },
    {
     "data": {
      "text/plain": [
       "{'sql_query': 'SELECT customer_full_name FROM sales.dim_customer LIMIT 10',\n",
       " 'table_names': ['dim_customer'],\n",
       " 'tables_info': ['\\nCREATE TABLE dim_customer (\\n\\tcustomer_key INTEGER NOT NULL, \\n\\tgeography_key INTEGER, \\n\\tcustomer_full_name TEXT, \\n\\tbirth_date DATE, \\n\\tmarital_status CHAR(1), \\n\\tgender VARCHAR(1), \\n\\tyearly_income NUMERIC(19, 4), \\n\\ttotal_children SMALLINT, \\n\\tnumber_children_at_home SMALLINT, \\n\\tenglish_education VARCHAR(40), \\n\\tspanish_education VARCHAR(40), \\n\\tenglish_occupation VARCHAR(100), \\n\\tspanish_occupation VARCHAR(100), \\n\\thouse_owner BOOLEAN, \\n\\tnumber_cars_owned SMALLINT, \\n\\tcommute_distance VARCHAR(15), \\n\\tCONSTRAINT dim_customer_pkey PRIMARY KEY (customer_key), \\n\\tCONSTRAINT fk_dim_customer_geography FOREIGN KEY(geography_key) REFERENCES dim_geography (geography_key)\\n)\\n\\n/*\\n3 rows from dim_customer table:\\ncustomer_key\\tgeography_key\\tcustomer_full_name\\tbirth_date\\tmarital_status\\tgender\\tyearly_income\\ttotal_children\\tnumber_children_at_home\\tenglish_education\\tspanish_education\\tenglish_occupation\\tspanish_occupation\\thouse_owner\\tnumber_cars_owned\\tcommute_distance\\n11000\\t26\\tJon Yang\\t1983-10-06\\tM\\tM\\t90000.0000\\t2\\t0\\tBachelors\\tLicenciatura\\tProfessional\\tProfesional\\tTrue\\t0\\t1-2 Miles\\n11001\\t37\\tEugene Huang\\t1988-05-10\\tS\\tM\\t60000.0000\\t3\\t3\\tBachelors\\tLicenciatura\\tProfessional\\tProfesional\\tFalse\\t1\\t0-1 Miles\\n11002\\t31\\tRuben Torres\\t1983-02-09\\tM\\tM\\t60000.0000\\t3\\t3\\tBachelors\\tLicenciatura\\tProfessional\\tProfesional\\tTrue\\t1\\t2-5 Miles\\n*/'],\n",
       " 'query_results': [{'customer_full_name': 'Jon Yang'},\n",
       "  {'customer_full_name': 'Eugene Huang'},\n",
       "  {'customer_full_name': 'Ruben Torres'},\n",
       "  {'customer_full_name': 'Christy Zhu'},\n",
       "  {'customer_full_name': 'Elizabeth Johnson'},\n",
       "  {'customer_full_name': 'Julio Ruiz'},\n",
       "  {'customer_full_name': 'Janet Alvarez'},\n",
       "  {'customer_full_name': 'Marco Mehta'},\n",
       "  {'customer_full_name': 'Rob Verhoff'},\n",
       "  {'customer_full_name': 'Shannon Carlson'}],\n",
       " 'valid_query_execution': True,\n",
       " 'query_validation_error_msg': 'error_coherence'}"
      ]
     },
     "execution_count": 5,
     "metadata": {},
     "output_type": "execute_result"
    }
   ],
   "source": [
    "user_msg_ko_coherencia = \"Quiero ver los nombres de los clientes.(solo 10)\"\n",
    "query_ko_coherencia = \"SELECT sales_amount FROM sales.fact_sales limit 10\" # Coherente sintácticamente, incoherente semánticamente\n",
    "high_level_summary = \"###Detalle de Tablas y Columnas Relevantes\\n#### Tabla: dim_customer\\n- *Descripción:* Contiene información detallada de clientes.\\n- *Columnas Relevantes:\\n  - customer_key: Clave primaria, tipo NUMERIC.\\n  - customer_full_name: Nombre y apellido del cliente, tipo TEXT.n\\n#### Tabla: fact_sales\\n- **Descripción:* Contiene detalles de las órdenes de ventas.\\n- *Columnas Relevantes:*\\n  - customer_key: Llave foránea, tipo NUMERIC.\\n  - sales_amount: Subtotal de la línea de orden de venta, tipo NUMERIC.\\n  - order_date: Fecha de creación del pedido, tipo DATE.\\n\"\n",
    "\n",
    "results = query_validator_graph.invoke({\n",
    "    \"user_query\": user_msg_ko_coherencia, \n",
    "    \"sql_query\": query_ko_coherencia, \n",
    "    \"context\": high_level_summary,\n",
    "    \"db_name\": \"adventure_works_dw\",\n",
    "    \"schema_name\": \"sales\"\n",
    "})\n",
    "\n",
    "results"
   ]
  },
  {
   "cell_type": "markdown",
   "id": "262fc689",
   "metadata": {},
   "source": [
    "#### Ejemplo 3"
   ]
  },
  {
   "cell_type": "code",
   "execution_count": 6,
   "id": "cf9777c9",
   "metadata": {},
   "outputs": [
    {
     "name": "stdout",
     "output_type": "stream",
     "text": [
      "\n",
      "--- INICIANDO COMPROBACIÓN DE CONEXIÓN A BBDD ⚙️ ---\n",
      "✅ Conexión a la base de datos establecida correctamente.\n",
      "\n",
      "--- INICIANDO FASE DE EXTRACCIÓN DE TABLAS CON LLM 🧮 ---\n",
      "Tablas detectadas por el LLM: ['dimen_customer']\n",
      "\n",
      "--- INICIANDO FASE DE JUEZ DE COHERENCIA 👩‍⚖️ ---\n",
      "\n",
      "Veredicto del juez: COHERENTE ✅\n",
      "\n",
      "--- PASANDO A FASE DE EJECUCIÓN EN POSTGRESQL ---\n",
      "\n",
      "\n",
      "❌ Error de PostgreSQL detectado: table_names {'dimen_customer'} not found in database\n",
      "\n",
      "--- INICIANDO FASE DE CORRECIÓN 📝 ---\n",
      "\n",
      "✅  > Query corregida recibida: SELECT dim_customer.gender, COUNT(*) AS total_clients FROM sales.dim_c...\n",
      "\n",
      "--- INICIANDO FASE DE EXTRACCIÓN DE TABLAS CON LLM 🧮 ---\n",
      "Tablas detectadas por el LLM: ['dim_customer']\n",
      "\n",
      "--- INICIANDO FASE DE JUEZ DE COHERENCIA 👩‍⚖️ ---\n",
      "\n",
      "Veredicto del juez: INCOHERENTE ❌\n",
      "\n",
      "❌ La query es incoherente. No se ejecutará en la BBDD.\n",
      "\n",
      "--- INICIANDO FASE DE CORRECIÓN 📝 ---\n",
      "\n",
      "✅  > Query corregida recibida: SELECT sales.dim_customer.gender, COUNT(*) AS total_clients FROM sales...\n",
      "\n",
      "--- INICIANDO FASE DE EXTRACCIÓN DE TABLAS CON LLM 🧮 ---\n",
      "Tablas detectadas por el LLM: ['dim_customer']\n",
      "\n",
      "--- INICIANDO FASE DE JUEZ DE COHERENCIA 👩‍⚖️ ---\n",
      "\n",
      "Veredicto del juez: COHERENTE ✅\n",
      "\n",
      "--- PASANDO A FASE DE EJECUCIÓN EN POSTGRESQL ---\n",
      "\n",
      "\n",
      "✅ Query ejecutada correctamente.\n"
     ]
    },
    {
     "data": {
      "text/plain": [
       "{'sql_query': 'SELECT sales.dim_customer.gender, COUNT(*) AS total_clients FROM sales.dim_customer GROUP BY sales.dim_customer.gender;',\n",
       " 'table_names': ['dim_customer'],\n",
       " 'tables_info': ['\\nCREATE TABLE dim_customer (\\n\\tcustomer_key INTEGER NOT NULL, \\n\\tgeography_key INTEGER, \\n\\tcustomer_full_name TEXT, \\n\\tbirth_date DATE, \\n\\tmarital_status CHAR(1), \\n\\tgender VARCHAR(1), \\n\\tyearly_income NUMERIC(19, 4), \\n\\ttotal_children SMALLINT, \\n\\tnumber_children_at_home SMALLINT, \\n\\tenglish_education VARCHAR(40), \\n\\tspanish_education VARCHAR(40), \\n\\tenglish_occupation VARCHAR(100), \\n\\tspanish_occupation VARCHAR(100), \\n\\thouse_owner BOOLEAN, \\n\\tnumber_cars_owned SMALLINT, \\n\\tcommute_distance VARCHAR(15), \\n\\tCONSTRAINT dim_customer_pkey PRIMARY KEY (customer_key), \\n\\tCONSTRAINT fk_dim_customer_geography FOREIGN KEY(geography_key) REFERENCES dim_geography (geography_key)\\n)\\n\\n/*\\n3 rows from dim_customer table:\\ncustomer_key\\tgeography_key\\tcustomer_full_name\\tbirth_date\\tmarital_status\\tgender\\tyearly_income\\ttotal_children\\tnumber_children_at_home\\tenglish_education\\tspanish_education\\tenglish_occupation\\tspanish_occupation\\thouse_owner\\tnumber_cars_owned\\tcommute_distance\\n11000\\t26\\tJon Yang\\t1983-10-06\\tM\\tM\\t90000.0000\\t2\\t0\\tBachelors\\tLicenciatura\\tProfessional\\tProfesional\\tTrue\\t0\\t1-2 Miles\\n11001\\t37\\tEugene Huang\\t1988-05-10\\tS\\tM\\t60000.0000\\t3\\t3\\tBachelors\\tLicenciatura\\tProfessional\\tProfesional\\tFalse\\t1\\t0-1 Miles\\n11002\\t31\\tRuben Torres\\t1983-02-09\\tM\\tM\\t60000.0000\\t3\\t3\\tBachelors\\tLicenciatura\\tProfessional\\tProfesional\\tTrue\\t1\\t2-5 Miles\\n*/'],\n",
       " 'query_results': [{'gender': 'M', 'total_clients': 9351},\n",
       "  {'gender': 'F', 'total_clients': 9133}],\n",
       " 'valid_query_execution': True,\n",
       " 'query_validation_error_msg': 'error_coherence'}"
      ]
     },
     "execution_count": 6,
     "metadata": {},
     "output_type": "execute_result"
    }
   ],
   "source": [
    "user_msg_ko_db = \"Quiero saber el total de clientes por genero.\"\n",
    "query_ko_db = \"SELECT gender, COUNT(*) AS total_clients FROM sales.dimen_customer GROUP BY gender\" # Nombre de tabla incorrecto\n",
    "high_level_summary = \"###Detalle de Tablas y Columnas Relevantes\\n#### Tabla: dim_customer\\n- *Descripción:* Contiene información detallada de clientes.\\n- *Columnas Relevantes:\\n  - customer_key: Clave primaria, tipo NUMERIC.\\n  - gender: genero del cliente, tipo TEXT.\\n\\n#### Tabla: fact_sales\\n- **Descripción:* Contiene detalles de las órdenes de ventas.\\n- *Columnas Relevantes:*\\n  - customer_key: Llave foránea, tipo NUMERIC.\\n  - sales_amount: Subtotal de la línea de orden de venta, tipo NUMERIC.\\n  - order_date: Fecha de creación del pedido, tipo DATE.\\n\"\n",
    "\n",
    "results = query_validator_graph.invoke({\n",
    "    \"user_query\": user_msg_ko_db, \n",
    "    \"sql_query\": query_ko_db, \n",
    "    \"context\": high_level_summary,\n",
    "    \"db_name\": \"adventure_works_dw\",\n",
    "    \"schema_name\": \"sales\"\n",
    "})\n",
    "\n",
    "results"
   ]
  },
  {
   "cell_type": "markdown",
   "id": "f6dbec7d",
   "metadata": {},
   "source": [
    "---\n",
    "\n",
    "## Conclusions Generator"
   ]
  },
  {
   "cell_type": "code",
   "execution_count": 27,
   "id": "95aba945",
   "metadata": {},
   "outputs": [],
   "source": [
    "conclusions_generator_graph = get_conclusions_generator_graph()"
   ]
  },
  {
   "cell_type": "code",
   "execution_count": 28,
   "id": "9b06863a",
   "metadata": {},
   "outputs": [
    {
     "data": {
      "image/png": "[encoded data removed]",
      "text/plain": [
       "<IPython.core.display.Image object>"
      ]
     },
     "execution_count": 28,
     "metadata": {},
     "output_type": "execute_result"
    }
   ],
   "source": [
    "Image(conclusions_generator_graph.get_graph().draw_mermaid_png())"
   ]
  },
  {
   "cell_type": "code",
   "execution_count": 29,
   "id": "2bc355e9",
   "metadata": {},
   "outputs": [
    {
     "name": "stdout",
     "output_type": "stream",
     "text": [
      "\n",
      "--- INICIANDO GENERACIÓN DE CONCLUSIONES 📝 ---\n",
      "\n",
      "--- INICIANDO EXPLICACIÓN DE CONSULTA SQL 🗂️ ---\n",
      "\n",
      "--- INICIANDO GENERACIÓN DE GRÁFICOS 📊 ---\n"
     ]
    },
    {
     "data": {
      "text/plain": [
       "{'nl_output': '1. Los productos más vendidos en B2B en el último trimestre son exclusivamente prendas, sin presencia de accesorios.  \\n2. La camiseta clásica en talla P lidera las ventas con 951 unidades, seguida por el jersey clásico de manga corta en talla SG con 811 unidades.  \\n3. La categoría predominante es \"Prenda\", con subcategorías destacadas como camiseta, jersey y pantalones cortos.  \\n4. Las ventas mensuales muestran una tendencia decreciente en el trimestre para todos los productos listados.  \\n5. Los pantalones cortos femeninos en tallas S y L ocupan posiciones relevantes, con 694 y 618 unidades respectivamente.  \\n6. El jersey con logotipo de manga larga en talla G también tiene un volumen significativo, con 684 unidades vendidas.  \\n7. Las gorras (AWC Logo Cap) alcanzan 655 unidades, siendo el único producto fuera de las prendas básicas (camiseta, jersey, pantalones cortos) con alta demanda.  \\n8. Los calcetines para carreras y guantes de medio dedo completan el top 10, con ventas totales de 503 y 437 unidades respectivamente.  \\n9. La distribución mensual indica que el primer mes del trimestre es el de mayor volumen de ventas para todos los productos.  \\n10. No se registran ventas relevantes de accesorios en el segmento B2B durante el último trimestre, conforme al filtro aplicado.',\n",
       " 'sql_explanation': '## Análisis de la Lógica de la Consulta\\n\\nLa consulta primero identifica las ventas del último trimestre completo, filtrando solo las realizadas a través del canal B2B (indicado como \\'reseller_sales\\') y excluyendo productos de la categoría \"Accesorio\". Para ello, une la tabla de ventas con la tabla de productos para obtener el nombre, categoría y subcategoría de cada producto. Luego, calcula el total de unidades vendidas por producto en ese periodo y selecciona los 10 productos con mayor volumen de ventas. Finalmente, para esos 10 productos, desglosa las unidades vendidas mes a mes dentro del trimestre, mostrando también la categoría y subcategoría a la que pertenecen.\\n\\n## Conclusión y Resultados Clave\\n\\nCon esta consulta se obtiene una lista clara de los 10 productos más vendidos en el canal B2B durante el último trimestre, excluyendo accesorios, junto con la cantidad de unidades vendidas en cada uno de los tres meses del trimestre. Además, se muestra la categoría y subcategoría de cada producto para facilitar el análisis por segmentos. Esta información permite entender no solo qué productos lideran las ventas, sino también cómo se distribuyen sus ventas a lo largo del trimestre.',\n",
       " 'graphics_json': '{\\n  \"dashboard_title\": \"Ventas B2B Último Trimestre: Top 10 Productos sin Accesorios\",\\n  \"charts\": [\\n    {\\n      \"data\": [\\n        {\\n          \"type\": \"bar\",\\n          \"x\": [\\n            \"Camiseta clásica, P\",\\n            \"Jersey clásico de manga corta, SG\",\\n            \"Women\\'s Mountain Shorts, S\",\\n            \"Jersey con logotipo de manga larga, G\",\\n            \"AWC Logo Cap\",\\n            \"Women\\'s Mountain Shorts, L\",\\n            \"Jersey clásico de manga corta, G\",\\n            \"Calcetines para carreras, G\",\\n            \"Camiseta clásica, M\",\\n            \"Half-Finger Gloves, M\"\\n          ],\\n          \"y\": [\\n            951,\\n            811,\\n            694,\\n            684,\\n            655,\\n            618,\\n            561,\\n            503,\\n            469,\\n            437\\n          ],\\n          \"marker\": {\\n            \"color\": \"#1f77b4\"\\n          },\\n          \"name\": \"Unidades Totales\"\\n        }\\n      ],\\n      \"layout\": {\\n        \"title\": \"Top 10 Productos Más Vendidos en el Último Trimestre\",\\n        \"xaxis\": {\\n          \"title\": \"Producto\",\\n          \"tickangle\": -45,\\n          \"automargin\": true\\n        },\\n        \"yaxis\": {\\n          \"title\": \"Unidades Vendidas\"\\n        },\\n        \"plot_bgcolor\": \"#f9f9f9\",\\n        \"paper_bgcolor\": \"#ffffff\"\\n      }\\n    },\\n    {\\n      \"data\": [\\n        {\\n          \"type\": \"line\",\\n          \"x\": [\"Primer Mes\", \"Segundo Mes\", \"Tercer Mes\"],\\n          \"y\": [381, 380, 190],\\n          \"mode\": \"lines+markers\",\\n          \"name\": \"Camiseta clásica, P\"\\n        },\\n        {\\n          \"type\": \"line\",\\n          \"x\": [\"Primer Mes\", \"Segundo Mes\", \"Tercer Mes\"],\\n          \"y\": [329, 299, 183],\\n          \"mode\": \"lines+markers\",\\n          \"name\": \"Jersey clásico de manga corta, SG\"\\n        },\\n        {\\n          \"type\": \"line\",\\n          \"x\": [\"Primer Mes\", \"Segundo Mes\", \"Tercer Mes\"],\\n          \"y\": [295, 258, 141],\\n          \"mode\": \"lines+markers\",\\n          \"name\": \"Women\\'s Mountain Shorts, S\"\\n        },\\n        {\\n          \"type\": \"line\",\\n          \"x\": [\"Primer Mes\", \"Segundo Mes\", \"Tercer Mes\"],\\n          \"y\": [312, 243, 129],\\n          \"mode\": \"lines+markers\",\\n          \"name\": \"Jersey con logotipo de manga larga, G\"\\n        },\\n        {\\n          \"type\": \"line\",\\n          \"x\": [\"Primer Mes\", \"Segundo Mes\", \"Tercer Mes\"],\\n          \"y\": [291, 243, 121],\\n          \"mode\": \"lines+markers\",\\n          \"name\": \"AWC Logo Cap\"\\n        }\\n      ],\\n      \"layout\": {\\n        \"title\": \"Evolución Mensual de Ventas de los 5 Productos Más Vendidos\",\\n        \"xaxis\": {\\n          \"title\": \"Mes\"\\n        },\\n        \"yaxis\": {\\n          \"title\": \"Unidades Vendidas\"\\n        },\\n        \"plot_bgcolor\": \"#f9f9f9\",\\n        \"paper_bgcolor\": \"#ffffff\",\\n        \"legend\": {\\n          \"x\": 1,\\n          \"y\": 1,\\n          \"xanchor\": \"left\"\\n        }\\n      }\\n    },\\n    {\\n      \"data\": [\\n        {\\n          \"type\": \"pie\",\\n          \"labels\": [\"Camisa\", \"Jersey\", \"Pantalones cortos\", \"Gorra\", \"Calcetines\", \"Guantes\"],\\n          \"values\": [1420, 2259, 1312, 655, 503, 437],\\n          \"marker\": {\\n            \"colors\": [\\n              \"#636efa\",\\n              \"#ef553b\",\\n              \"#00cc96\",\\n              \"#ab63fa\",\\n              \"#ffa15a\",\\n              \"#19d3f3\"\\n            ]\\n          },\\n          \"name\": \"Ventas Totales por Subcategoría\",\\n          \"textinfo\": \"label+percent\",\\n          \"insidetextorientation\": \"radial\"\\n        }\\n      ],\\n      \"layout\": {\\n        \"title\": \"Distribución de Ventas Totales por Subcategoría\",\\n        \"plot_bgcolor\": \"#f9f9f9\",\\n        \"paper_bgcolor\": \"#ffffff\"\\n      }\\n    },\\n    {\\n      \"data\": [\\n        {\\n          \"type\": \"scatter\",\\n          \"mode\": \"markers\",\\n          \"x\": [\\n            951,\\n            811,\\n            694,\\n            684,\\n            655,\\n            618,\\n            561,\\n            503,\\n            469,\\n            437\\n          ],\\n          \"y\": [\\n            \"Camiseta\",\\n            \"Jersey\",\\n            \"Pantalones cortos\",\\n            \"Jersey\",\\n            \"Gorra\",\\n            \"Pantalones cortos\",\\n            \"Jersey\",\\n            \"Calcetines\",\\n            \"Camiseta\",\\n            \"Guantes\"\\n          ],\\n          \"text\": [\\n            \"Camiseta clásica, P\",\\n            \"Jersey clásico de manga corta, SG\",\\n            \"Women\\'s Mountain Shorts, S\",\\n            \"Jersey con logotipo de manga larga, G\",\\n            \"AWC Logo Cap\",\\n            \"Women\\'s Mountain Shorts, L\",\\n            \"Jersey clásico de manga corta, G\",\\n            \"Calcetines para carreras, G\",\\n            \"Camiseta clásica, M\",\\n            \"Half-Finger Gloves, M\"\\n          ],\\n          \"marker\": {\\n            \"color\": [\\n              \"#1f77b4\",\\n              \"#ff7f0e\",\\n              \"#2ca02c\",\\n              \"#d62728\",\\n              \"#9467bd\",\\n              \"#8c564b\",\\n              \"#e377c2\",\\n              \"#7f7f7f\",\\n              \"#bcbd22\",\\n              \"#17becf\"\\n            ],\\n            \"size\": 12\\n          },\\n          \"name\": \"Productos\"\\n        }\\n      ],\\n      \"layout\": {\\n        \"title\": \"Relación entre Unidades Totales Vendidas y Categoría de Producto\",\\n        \"xaxis\": {\\n          \"title\": \"Unidades Vendidas Totales\",\\n          \"range\": [400, 1000]\\n        },\\n        \"yaxis\": {\\n          \"title\": \"Categoría\",\\n          \"categoryorder\": \"category ascending\"\\n        },\\n        \"plot_bgcolor\": \"#f9f9f9\",\\n        \"paper_bgcolor\": \"#ffffff\",\\n        \"hovermode\": \"closest\"\\n      }\\n    }\\n  ]\\n}'}"
      ]
     },
     "execution_count": 29,
     "metadata": {},
     "output_type": "execute_result"
    }
   ],
   "source": [
    "logging.basicConfig(level=logging.WARNING)\n",
    "\n",
    "user_query = 'Muéstrame los 10 productos más vendidos para el B2B en el último trimestre, excluyendo los Accesorios. Mes a mes indica cuántas unidades se vendieron, y muestra también a qué categoría y subcategoría pertenecen'\n",
    "\n",
    "query_results = [{'producto': 'Camiseta clásica, P', 'categoria': 'Prenda', 'subcategoria': 'Camiseta', 'primer_mes': 381, 'segundo_mes': 380, 'tercer_mes': 190, 'total': 951},\n",
    "  {'producto': 'Jersey clásico de manga corta, SG', 'categoria': 'Prenda', 'subcategoria': 'Jersey', 'primer_mes': 329, 'segundo_mes': 299, 'tercer_mes': 183, 'total': 811},\n",
    "  {'producto': \"Women's Mountain Shorts, S\", 'categoria': 'Prenda', 'subcategoria': 'Pantalones cortos', 'primer_mes': 295, 'segundo_mes': 258, 'tercer_mes': 141, 'total': 694},\n",
    "  {'producto': 'Jersey con logotipo de manga larga, G', 'categoria': 'Prenda', 'subcategoria': 'Jersey', 'primer_mes': 312, 'segundo_mes': 243, 'tercer_mes': 129, 'total': 684},\n",
    "  {'producto': 'AWC Logo Cap', 'categoria': 'Prenda', 'subcategoria': 'Gorra', 'primer_mes': 291, 'segundo_mes': 243, 'tercer_mes': 121, 'total': 655},\n",
    "  {'producto': \"Women's Mountain Shorts, L\", 'categoria': 'Prenda', 'subcategoria': 'Pantalones cortos', 'primer_mes': 262, 'segundo_mes': 236, 'tercer_mes': 120, 'total': 618},\n",
    "  {'producto': 'Jersey clásico de manga corta, G', 'categoria': 'Prenda', 'subcategoria': 'Jersey', 'primer_mes': 217, 'segundo_mes': 231, 'tercer_mes': 113, 'total': 561},\n",
    "  {'producto': 'Calcetines para carreras, G', 'categoria': 'Prenda', 'subcategoria': 'Calcetines', 'primer_mes': 231, 'segundo_mes': 179, 'tercer_mes': 93, 'total': 503},\n",
    "  {'producto': 'Camiseta clásica, M', 'categoria': 'Prenda', 'subcategoria': 'Camiseta', 'primer_mes': 197, 'segundo_mes': 187, 'tercer_mes': 85, 'total': 469},\n",
    "  {'producto': 'Half-Finger Gloves, M', 'categoria': 'Prenda', 'subcategoria': 'Guantes', 'primer_mes': 187, 'segundo_mes': 168, 'tercer_mes': 82, 'total': 437}]\n",
    "\n",
    "sql_query = \"WITH \\nlast_quarter AS (\\n  SELECT\\n    fs.product_key,\\n    COALESCE(dp.spanish_product_name, dp.english_product_name) AS product_name,\\n    dp.spanish_product_category_name,\\n    dp.spanish_product_subcategory_name,\\n    EXTRACT(MONTH FROM fs.order_date) AS month_in_quarter,\\n    fs.order_quantity\\n  FROM\\n    sales.fact_sales fs\\n    JOIN sales.dim_product dp ON fs.product_key = dp.product_key\\n  WHERE\\n    fs.sale_source = 'reseller_sales'\\n    AND dp.spanish_product_category_name <> 'Accesorio'\\n    AND fs.order_date >= date_trunc('quarter', CURRENT_DATE - interval '3 months')\\n    AND fs.order_date < date_trunc('quarter', CURRENT_DATE)\\n),\\ntop_products AS (\\n  SELECT\\n    product_key,\\n    product_name,\\n    spanish_product_category_name,\\n    spanish_product_subcategory_name,\\n    SUM(order_quantity) AS total_qty\\n  FROM\\n    last_quarter\\n  GROUP BY\\n    product_key, product_name, spanish_product_category_name, spanish_product_subcategory_name\\n  ORDER BY\\n    total_qty DESC\\n  LIMIT 10\\n)\\nSELECT\\n  tp.product_name AS producto,\\n  tp.spanish_product_category_name AS categoria,\\n  tp.spanish_product_subcategory_name AS subcategoria,\\n  SUM(lq.order_quantity) FILTER (WHERE lq.month_in_quarter = EXTRACT(MONTH FROM date_trunc('quarter', CURRENT_DATE - interval '3 months'))) AS primer_mes,\\n  SUM(lq.order_quantity) FILTER (WHERE lq.month_in_quarter = EXTRACT(MONTH FROM date_trunc('quarter', CURRENT_DATE - interval '3 months') + interval '1 month')) AS segundo_mes,\\n  SUM(lq.order_quantity) FILTER (WHERE lq.month_in_quarter = EXTRACT(MONTH FROM date_trunc('quarter', CURRENT_DATE - interval '3 months') + interval '2 month')) AS tercer_mes,\\n  SUM(lq.order_quantity) AS total\\nFROM\\n  top_products tp\\n  LEFT JOIN last_quarter lq ON tp.product_key = lq.product_key\\nGROUP BY\\n  tp.product_name, tp.spanish_product_category_name, tp.spanish_product_subcategory_name\\nORDER BY\\n  total DESC;\"\n",
    "\n",
    "results = conclusions_generator_graph.invoke({\n",
    "    'user_query': user_query,\n",
    "    'language': 'Spanish',\n",
    "    'sql_query': sql_query,\n",
    "    'query_results': query_results,\n",
    "})\n",
    "\n",
    "results"
   ]
  },
  {
   "cell_type": "code",
   "execution_count": 30,
   "id": "95586f4e",
   "metadata": {},
   "outputs": [
    {
     "name": "stdout",
     "output_type": "stream",
     "text": [
      "1. Los productos más vendidos en B2B en el último trimestre son exclusivamente prendas, sin presencia de accesorios.  \n",
      "2. La camiseta clásica en talla P lidera las ventas con 951 unidades, seguida por el jersey clásico de manga corta en talla SG con 811 unidades.  \n",
      "3. La categoría predominante es \"Prenda\", con subcategorías destacadas como camiseta, jersey y pantalones cortos.  \n",
      "4. Las ventas mensuales muestran una tendencia decreciente en el trimestre para todos los productos listados.  \n",
      "5. Los pantalones cortos femeninos en tallas S y L ocupan posiciones relevantes, con 694 y 618 unidades respectivamente.  \n",
      "6. El jersey con logotipo de manga larga en talla G también tiene un volumen significativo, con 684 unidades vendidas.  \n",
      "7. Las gorras (AWC Logo Cap) alcanzan 655 unidades, siendo el único producto fuera de las prendas básicas (camiseta, jersey, pantalones cortos) con alta demanda.  \n",
      "8. Los calcetines para carreras y guantes de medio dedo completan el top 10, con ventas totales de 503 y 437 unidades respectivamente.  \n",
      "9. La distribución mensual indica que el primer mes del trimestre es el de mayor volumen de ventas para todos los productos.  \n",
      "10. No se registran ventas relevantes de accesorios en el segmento B2B durante el último trimestre, conforme al filtro aplicado.\n"
     ]
    }
   ],
   "source": [
    "print(results['nl_output'])"
   ]
  },
  {
   "cell_type": "code",
   "execution_count": 31,
   "id": "1982cf46",
   "metadata": {},
   "outputs": [
    {
     "name": "stdout",
     "output_type": "stream",
     "text": [
      "## Análisis de la Lógica de la Consulta\n",
      "\n",
      "La consulta primero identifica las ventas del último trimestre completo, filtrando solo las realizadas a través del canal B2B (indicado como 'reseller_sales') y excluyendo productos de la categoría \"Accesorio\". Para ello, une la tabla de ventas con la tabla de productos para obtener el nombre, categoría y subcategoría de cada producto. Luego, calcula el total de unidades vendidas por producto en ese periodo y selecciona los 10 productos con mayor volumen de ventas. Finalmente, para esos 10 productos, desglosa las unidades vendidas mes a mes dentro del trimestre, mostrando también la categoría y subcategoría a la que pertenecen.\n",
      "\n",
      "## Conclusión y Resultados Clave\n",
      "\n",
      "Con esta consulta se obtiene una lista clara de los 10 productos más vendidos en el canal B2B durante el último trimestre, excluyendo accesorios, junto con la cantidad de unidades vendidas en cada uno de los tres meses del trimestre. Además, se muestra la categoría y subcategoría de cada producto para facilitar el análisis por segmentos. Esta información permite entender no solo qué productos lideran las ventas, sino también cómo se distribuyen sus ventas a lo largo del trimestre.\n"
     ]
    }
   ],
   "source": [
    "print(results['sql_explanation'])"
   ]
  },
  {
   "cell_type": "code",
   "execution_count": 32,
   "id": "3f16c5fe",
   "metadata": {},
   "outputs": [
    {
     "data": {
      "application/vnd.plotly.v1+json": {
       "config": {
        "plotlyServerURL": "https://plot.ly"
       },
       "data": [
        {
         "marker": {
          "color": "#1f77b4"
         },
         "name": "Unidades Totales",
         "type": "bar",
         "x": [
          "Camiseta clásica, P",
          "Jersey clásico de manga corta, SG",
          "Women's Mountain Shorts, S",
          "Jersey con logotipo de manga larga, G",
          "AWC Logo Cap",
          "Women's Mountain Shorts, L",
          "Jersey clásico de manga corta, G",
          "Calcetines para carreras, G",
          "Camiseta clásica, M",
          "Half-Finger Gloves, M"
         ],
         "xaxis": "x",
         "y": [
          951,
          811,
          694,
          684,
          655,
          618,
          561,
          503,
          469,
          437
         ],
         "yaxis": "y"
        },
        {
         "mode": "lines+markers",
         "name": "Camiseta clásica, P",
         "type": "scatter",
         "x": [
          "Primer Mes",
          "Segundo Mes",
          "Tercer Mes"
         ],
         "xaxis": "x2",
         "y": [
          381,
          380,
          190
         ],
         "yaxis": "y2"
        },
        {
         "domain": {
          "x": [
           0,
           0.45
          ],
          "y": [
           0,
           0.375
          ]
         },
         "insidetextorientation": "radial",
         "labels": [
          "Camisa",
          "Jersey",
          "Pantalones cortos",
          "Gorra",
          "Calcetines",
          "Guantes"
         ],
         "marker": {
          "colors": [
           "#636efa",
           "#ef553b",
           "#00cc96",
           "#ab63fa",
           "#ffa15a",
           "#19d3f3"
          ]
         },
         "name": "Ventas Totales por Subcategoría",
         "textinfo": "label+percent",
         "type": "pie",
         "values": [
          1420,
          2259,
          1312,
          655,
          503,
          437
         ]
        },
        {
         "marker": {
          "color": [
           "#1f77b4",
           "#ff7f0e",
           "#2ca02c",
           "#d62728",
           "#9467bd",
           "#8c564b",
           "#e377c2",
           "#7f7f7f",
           "#bcbd22",
           "#17becf"
          ],
          "size": 12
         },
         "mode": "markers",
         "name": "Productos",
         "text": [
          "Camiseta clásica, P",
          "Jersey clásico de manga corta, SG",
          "Women's Mountain Shorts, S",
          "Jersey con logotipo de manga larga, G",
          "AWC Logo Cap",
          "Women's Mountain Shorts, L",
          "Jersey clásico de manga corta, G",
          "Calcetines para carreras, G",
          "Camiseta clásica, M",
          "Half-Finger Gloves, M"
         ],
         "type": "scatter",
         "x": [
          951,
          811,
          694,
          684,
          655,
          618,
          561,
          503,
          469,
          437
         ],
         "xaxis": "x3",
         "y": [
          "Camiseta",
          "Jersey",
          "Pantalones cortos",
          "Jersey",
          "Gorra",
          "Pantalones cortos",
          "Jersey",
          "Calcetines",
          "Camiseta",
          "Guantes"
         ],
         "yaxis": "y3"
        }
       ],
       "layout": {
        "annotations": [
         {
          "font": {
           "size": 16
          },
          "showarrow": false,
          "text": "Top 10 Productos Más Vendidos en el Último Trimestre",
          "x": 0.225,
          "xanchor": "center",
          "xref": "paper",
          "y": 1,
          "yanchor": "bottom",
          "yref": "paper"
         },
         {
          "font": {
           "size": 16
          },
          "showarrow": false,
          "text": "Evolución Mensual de Ventas de los 5 Productos Más Vendidos",
          "x": 0.775,
          "xanchor": "center",
          "xref": "paper",
          "y": 1,
          "yanchor": "bottom",
          "yref": "paper"
         },
         {
          "font": {
           "size": 16
          },
          "showarrow": false,
          "text": "Distribución de Ventas Totales por Subcategoría",
          "x": 0.225,
          "xanchor": "center",
          "xref": "paper",
          "y": 0.375,
          "yanchor": "bottom",
          "yref": "paper"
         },
         {
          "font": {
           "size": 16
          },
          "showarrow": false,
          "text": "Relación entre Unidades Totales Vendidas y Categoría de Producto",
          "x": 0.775,
          "xanchor": "center",
          "xref": "paper",
          "y": 0.375,
          "yanchor": "bottom",
          "yref": "paper"
         }
        ],
        "autosize": true,
        "font": {
         "family": "Arial, sans-serif",
         "size": 12
        },
        "height": 900,
        "margin": {
         "b": 50,
         "l": 50,
         "r": 50,
         "t": 80
        },
        "paper_bgcolor": "#f2f2f2",
        "plot_bgcolor": "#ffffff",
        "template": {
         "data": {
          "bar": [
           {
            "error_x": {
             "color": "#2a3f5f"
            },
            "error_y": {
             "color": "#2a3f5f"
            },
            "marker": {
             "line": {
              "color": "#E5ECF6",
              "width": 0.5
             },
             "pattern": {
              "fillmode": "overlay",
              "size": 10,
              "solidity": 0.2
             }
            },
            "type": "bar"
           }
          ],
          "barpolar": [
           {
            "marker": {
             "line": {
              "color": "#E5ECF6",
              "width": 0.5
             },
             "pattern": {
              "fillmode": "overlay",
              "size": 10,
              "solidity": 0.2
             }
            },
            "type": "barpolar"
           }
          ],
          "carpet": [
           {
            "aaxis": {
             "endlinecolor": "#2a3f5f",
             "gridcolor": "white",
             "linecolor": "white",
             "minorgridcolor": "white",
             "startlinecolor": "#2a3f5f"
            },
            "baxis": {
             "endlinecolor": "#2a3f5f",
             "gridcolor": "white",
             "linecolor": "white",
             "minorgridcolor": "white",
             "startlinecolor": "#2a3f5f"
            },
            "type": "carpet"
           }
          ],
          "choropleth": [
           {
            "colorbar": {
             "outlinewidth": 0,
             "ticks": ""
            },
            "type": "choropleth"
           }
          ],
          "contour": [
           {
            "colorbar": {
             "outlinewidth": 0,
             "ticks": ""
            },
            "colorscale": [
             [
              0,
              "#0d0887"
             ],
             [
              0.1111111111111111,
              "#46039f"
             ],
             [
              0.2222222222222222,
              "#7201a8"
             ],
             [
              0.3333333333333333,
              "#9c179e"
             ],
             [
              0.4444444444444444,
              "#bd3786"
             ],
             [
              0.5555555555555556,
              "#d8576b"
             ],
             [
              0.6666666666666666,
              "#ed7953"
             ],
             [
              0.7777777777777778,
              "#fb9f3a"
             ],
             [
              0.8888888888888888,
              "#fdca26"
             ],
             [
              1,
              "#f0f921"
             ]
            ],
            "type": "contour"
           }
          ],
          "contourcarpet": [
           {
            "colorbar": {
             "outlinewidth": 0,
             "ticks": ""
            },
            "type": "contourcarpet"
           }
          ],
          "heatmap": [
           {
            "colorbar": {
             "outlinewidth": 0,
             "ticks": ""
            },
            "colorscale": [
             [
              0,
              "#0d0887"
             ],
             [
              0.1111111111111111,
              "#46039f"
             ],
             [
              0.2222222222222222,
              "#7201a8"
             ],
             [
              0.3333333333333333,
              "#9c179e"
             ],
             [
              0.4444444444444444,
              "#bd3786"
             ],
             [
              0.5555555555555556,
              "#d8576b"
             ],
             [
              0.6666666666666666,
              "#ed7953"
             ],
             [
              0.7777777777777778,
              "#fb9f3a"
             ],
             [
              0.8888888888888888,
              "#fdca26"
             ],
             [
              1,
              "#f0f921"
             ]
            ],
            "type": "heatmap"
           }
          ],
          "histogram": [
           {
            "marker": {
             "pattern": {
              "fillmode": "overlay",
              "size": 10,
              "solidity": 0.2
             }
            },
            "type": "histogram"
           }
          ],
          "histogram2d": [
           {
            "colorbar": {
             "outlinewidth": 0,
             "ticks": ""
            },
            "colorscale": [
             [
              0,
              "#0d0887"
             ],
             [
              0.1111111111111111,
              "#46039f"
             ],
             [
              0.2222222222222222,
              "#7201a8"
             ],
             [
              0.3333333333333333,
              "#9c179e"
             ],
             [
              0.4444444444444444,
              "#bd3786"
             ],
             [
              0.5555555555555556,
              "#d8576b"
             ],
             [
              0.6666666666666666,
              "#ed7953"
             ],
             [
              0.7777777777777778,
              "#fb9f3a"
             ],
             [
              0.8888888888888888,
              "#fdca26"
             ],
             [
              1,
              "#f0f921"
             ]
            ],
            "type": "histogram2d"
           }
          ],
          "histogram2dcontour": [
           {
            "colorbar": {
             "outlinewidth": 0,
             "ticks": ""
            },
            "colorscale": [
             [
              0,
              "#0d0887"
             ],
             [
              0.1111111111111111,
              "#46039f"
             ],
             [
              0.2222222222222222,
              "#7201a8"
             ],
             [
              0.3333333333333333,
              "#9c179e"
             ],
             [
              0.4444444444444444,
              "#bd3786"
             ],
             [
              0.5555555555555556,
              "#d8576b"
             ],
             [
              0.6666666666666666,
              "#ed7953"
             ],
             [
              0.7777777777777778,
              "#fb9f3a"
             ],
             [
              0.8888888888888888,
              "#fdca26"
             ],
             [
              1,
              "#f0f921"
             ]
            ],
            "type": "histogram2dcontour"
           }
          ],
          "mesh3d": [
           {
            "colorbar": {
             "outlinewidth": 0,
             "ticks": ""
            },
            "type": "mesh3d"
           }
          ],
          "parcoords": [
           {
            "line": {
             "colorbar": {
              "outlinewidth": 0,
              "ticks": ""
             }
            },
            "type": "parcoords"
           }
          ],
          "pie": [
           {
            "automargin": true,
            "type": "pie"
           }
          ],
          "scatter": [
           {
            "fillpattern": {
             "fillmode": "overlay",
             "size": 10,
             "solidity": 0.2
            },
            "type": "scatter"
           }
          ],
          "scatter3d": [
           {
            "line": {
             "colorbar": {
              "outlinewidth": 0,
              "ticks": ""
             }
            },
            "marker": {
             "colorbar": {
              "outlinewidth": 0,
              "ticks": ""
             }
            },
            "type": "scatter3d"
           }
          ],
          "scattercarpet": [
           {
            "marker": {
             "colorbar": {
              "outlinewidth": 0,
              "ticks": ""
             }
            },
            "type": "scattercarpet"
           }
          ],
          "scattergeo": [
           {
            "marker": {
             "colorbar": {
              "outlinewidth": 0,
              "ticks": ""
             }
            },
            "type": "scattergeo"
           }
          ],
          "scattergl": [
           {
            "marker": {
             "colorbar": {
              "outlinewidth": 0,
              "ticks": ""
             }
            },
            "type": "scattergl"
           }
          ],
          "scattermap": [
           {
            "marker": {
             "colorbar": {
              "outlinewidth": 0,
              "ticks": ""
             }
            },
            "type": "scattermap"
           }
          ],
          "scattermapbox": [
           {
            "marker": {
             "colorbar": {
              "outlinewidth": 0,
              "ticks": ""
             }
            },
            "type": "scattermapbox"
           }
          ],
          "scatterpolar": [
           {
            "marker": {
             "colorbar": {
              "outlinewidth": 0,
              "ticks": ""
             }
            },
            "type": "scatterpolar"
           }
          ],
          "scatterpolargl": [
           {
            "marker": {
             "colorbar": {
              "outlinewidth": 0,
              "ticks": ""
             }
            },
            "type": "scatterpolargl"
           }
          ],
          "scatterternary": [
           {
            "marker": {
             "colorbar": {
              "outlinewidth": 0,
              "ticks": ""
             }
            },
            "type": "scatterternary"
           }
          ],
          "surface": [
           {
            "colorbar": {
             "outlinewidth": 0,
             "ticks": ""
            },
            "colorscale": [
             [
              0,
              "#0d0887"
             ],
             [
              0.1111111111111111,
              "#46039f"
             ],
             [
              0.2222222222222222,
              "#7201a8"
             ],
             [
              0.3333333333333333,
              "#9c179e"
             ],
             [
              0.4444444444444444,
              "#bd3786"
             ],
             [
              0.5555555555555556,
              "#d8576b"
             ],
             [
              0.6666666666666666,
              "#ed7953"
             ],
             [
              0.7777777777777778,
              "#fb9f3a"
             ],
             [
              0.8888888888888888,
              "#fdca26"
             ],
             [
              1,
              "#f0f921"
             ]
            ],
            "type": "surface"
           }
          ],
          "table": [
           {
            "cells": {
             "fill": {
              "color": "#EBF0F8"
             },
             "line": {
              "color": "white"
             }
            },
            "header": {
             "fill": {
              "color": "#C8D4E3"
             },
             "line": {
              "color": "white"
             }
            },
            "type": "table"
           }
          ]
         },
         "layout": {
          "annotationdefaults": {
           "arrowcolor": "#2a3f5f",
           "arrowhead": 0,
           "arrowwidth": 1
          },
          "autotypenumbers": "strict",
          "coloraxis": {
           "colorbar": {
            "outlinewidth": 0,
            "ticks": ""
           }
          },
          "colorscale": {
           "diverging": [
            [
             0,
             "#8e0152"
            ],
            [
             0.1,
             "#c51b7d"
            ],
            [
             0.2,
             "#de77ae"
            ],
            [
             0.3,
             "#f1b6da"
            ],
            [
             0.4,
             "#fde0ef"
            ],
            [
             0.5,
             "#f7f7f7"
            ],
            [
             0.6,
             "#e6f5d0"
            ],
            [
             0.7,
             "#b8e186"
            ],
            [
             0.8,
             "#7fbc41"
            ],
            [
             0.9,
             "#4d9221"
            ],
            [
             1,
             "#276419"
            ]
           ],
           "sequential": [
            [
             0,
             "#0d0887"
            ],
            [
             0.1111111111111111,
             "#46039f"
            ],
            [
             0.2222222222222222,
             "#7201a8"
            ],
            [
             0.3333333333333333,
             "#9c179e"
            ],
            [
             0.4444444444444444,
             "#bd3786"
            ],
            [
             0.5555555555555556,
             "#d8576b"
            ],
            [
             0.6666666666666666,
             "#ed7953"
            ],
            [
             0.7777777777777778,
             "#fb9f3a"
            ],
            [
             0.8888888888888888,
             "#fdca26"
            ],
            [
             1,
             "#f0f921"
            ]
           ],
           "sequentialminus": [
            [
             0,
             "#0d0887"
            ],
            [
             0.1111111111111111,
             "#46039f"
            ],
            [
             0.2222222222222222,
             "#7201a8"
            ],
            [
             0.3333333333333333,
             "#9c179e"
            ],
            [
             0.4444444444444444,
             "#bd3786"
            ],
            [
             0.5555555555555556,
             "#d8576b"
            ],
            [
             0.6666666666666666,
             "#ed7953"
            ],
            [
             0.7777777777777778,
             "#fb9f3a"
            ],
            [
             0.8888888888888888,
             "#fdca26"
            ],
            [
             1,
             "#f0f921"
            ]
           ]
          },
          "colorway": [
           "#636efa",
           "#EF553B",
           "#00cc96",
           "#ab63fa",
           "#FFA15A",
           "#19d3f3",
           "#FF6692",
           "#B6E880",
           "#FF97FF",
           "#FECB52"
          ],
          "font": {
           "color": "#2a3f5f"
          },
          "geo": {
           "bgcolor": "white",
           "lakecolor": "white",
           "landcolor": "#E5ECF6",
           "showlakes": true,
           "showland": true,
           "subunitcolor": "white"
          },
          "hoverlabel": {
           "align": "left"
          },
          "hovermode": "closest",
          "mapbox": {
           "style": "light"
          },
          "paper_bgcolor": "white",
          "plot_bgcolor": "#E5ECF6",
          "polar": {
           "angularaxis": {
            "gridcolor": "white",
            "linecolor": "white",
            "ticks": ""
           },
           "bgcolor": "#E5ECF6",
           "radialaxis": {
            "gridcolor": "white",
            "linecolor": "white",
            "ticks": ""
           }
          },
          "scene": {
           "xaxis": {
            "backgroundcolor": "#E5ECF6",
            "gridcolor": "white",
            "gridwidth": 2,
            "linecolor": "white",
            "showbackground": true,
            "ticks": "",
            "zerolinecolor": "white"
           },
           "yaxis": {
            "backgroundcolor": "#E5ECF6",
            "gridcolor": "white",
            "gridwidth": 2,
            "linecolor": "white",
            "showbackground": true,
            "ticks": "",
            "zerolinecolor": "white"
           },
           "zaxis": {
            "backgroundcolor": "#E5ECF6",
            "gridcolor": "white",
            "gridwidth": 2,
            "linecolor": "white",
            "showbackground": true,
            "ticks": "",
            "zerolinecolor": "white"
           }
          },
          "shapedefaults": {
           "line": {
            "color": "#2a3f5f"
           }
          },
          "ternary": {
           "aaxis": {
            "gridcolor": "white",
            "linecolor": "white",
            "ticks": ""
           },
           "baxis": {
            "gridcolor": "white",
            "linecolor": "white",
            "ticks": ""
           },
           "bgcolor": "#E5ECF6",
           "caxis": {
            "gridcolor": "white",
            "linecolor": "white",
            "ticks": ""
           }
          },
          "title": {
           "x": 0.05
          },
          "xaxis": {
           "automargin": true,
           "gridcolor": "white",
           "linecolor": "white",
           "ticks": "",
           "title": {
            "standoff": 15
           },
           "zerolinecolor": "white",
           "zerolinewidth": 2
          },
          "yaxis": {
           "automargin": true,
           "gridcolor": "white",
           "linecolor": "white",
           "ticks": "",
           "title": {
            "standoff": 15
           },
           "zerolinecolor": "white",
           "zerolinewidth": 2
          }
         }
        },
        "title": {
         "text": "Ventas B2B Último Trimestre: Top 10 Productos sin Accesorios",
         "x": 0.5
        },
        "width": 1600,
        "xaxis": {
         "anchor": "y",
         "domain": [
          0,
          0.45
         ],
         "title": {
          "text": "Producto"
         }
        },
        "xaxis2": {
         "anchor": "y2",
         "domain": [
          0.55,
          1
         ],
         "title": {
          "text": "Mes"
         }
        },
        "xaxis3": {
         "anchor": "y3",
         "domain": [
          0.55,
          1
         ],
         "title": {
          "text": "Unidades Vendidas Totales"
         }
        },
        "yaxis": {
         "anchor": "x",
         "domain": [
          0.625,
          1
         ],
         "title": {
          "text": "Unidades Vendidas"
         }
        },
        "yaxis2": {
         "anchor": "x2",
         "domain": [
          0.625,
          1
         ],
         "title": {
          "text": "Unidades Vendidas"
         }
        },
        "yaxis3": {
         "anchor": "x3",
         "domain": [
          0,
          0.375
         ],
         "title": {
          "text": "Categoría"
         }
        }
       }
      }
     },
     "metadata": {},
     "output_type": "display_data"
    }
   ],
   "source": [
    "create_dashboard_from_json(results['graphics_json'])"
   ]
  },
  {
   "cell_type": "markdown",
   "id": "27ca8e6a",
   "metadata": {},
   "source": [
    "---\n",
    "\n",
    "## Main Graph"
   ]
  },
  {
   "cell_type": "code",
   "execution_count": 2,
   "id": "3ba80784",
   "metadata": {},
   "outputs": [
    {
     "name": "stdout",
     "output_type": "stream",
     "text": [
      "--- BUILDING CONTEXT GENERATOR GRAPH 🏗️ ---\n",
      "--- BUILDING BUSINESSLOGICRETRIEVALGRAPH GRAPH 🏗️ ---\n",
      "--- BUILDING CHUNK PROCESSING GRAPH 🏗️ ---\n",
      "--- CHUNK PROCESSING GRAPH COMPILED SUCCESSFULLY ⚙️✅ ---\n",
      "--- BUSINESSLOGICRETRIEVALGRAPH COMPILED SUCCESSFULLY ✅ ---\n",
      "--- BUILDING MDLRETRIEVALGRAPH GRAPH 🏗️ ---\n",
      "--- BUILDING CHUNK PROCESSING GRAPH 🏗️ ---\n",
      "--- CHUNK PROCESSING GRAPH COMPILED SUCCESSFULLY ⚙️✅ ---\n",
      "--- MDLRETRIEVALGRAPH COMPILED SUCCESSFULLY ✅ ---\n",
      "--- CONTEXT GENERATOR COMPILED SUCCESSFULLY ✅ ---\n",
      "--- MAIN GRAPH COMPILED SUCCESSFULLY ✅ ---\n"
     ]
    }
   ],
   "source": [
    "main_graph = get_main_graph()"
   ]
  },
  {
   "cell_type": "code",
   "execution_count": 3,
   "id": "dced3b40",
   "metadata": {},
   "outputs": [
    {
     "data": {
      "image/png": "[encoded data removed]",
      "text/plain": [
       "<IPython.core.display.Image object>"
      ]
     },
     "execution_count": 3,
     "metadata": {},
     "output_type": "execute_result"
    }
   ],
   "source": [
    "Image(main_graph.get_graph().draw_mermaid_png())"
   ]
  },
  {
   "cell_type": "code",
   "execution_count": 4,
   "id": "ce405817",
   "metadata": {},
   "outputs": [
    {
     "data": {
      "image/png": "[encoded data removed]",
      "text/plain": [
       "<IPython.core.display.Image object>"
      ]
     },
     "execution_count": 4,
     "metadata": {},
     "output_type": "execute_result"
    }
   ],
   "source": [
    "Image(main_graph.get_graph(xray=1).draw_mermaid_png())"
   ]
  },
  {
   "cell_type": "markdown",
   "id": "20b870f5",
   "metadata": {},
   "source": [
    "### Ejemplo Completo"
   ]
  },
  {
   "cell_type": "markdown",
   "id": "cb4d87c8",
   "metadata": {},
   "source": [
    "#### Ejemplo 1"
   ]
  },
  {
   "cell_type": "code",
   "execution_count": 5,
   "id": "025a8332",
   "metadata": {},
   "outputs": [
    {
     "name": "stdout",
     "output_type": "stream",
     "text": [
      "--- DEFINE USER QUERY LANGUAGE 🔣 ---\n",
      "--- GRADE BUSINESS RELEVANCE 🏢 ---\n",
      "--- GENERATING BUSINESS_LOGIC SUB-QUERIES 📚 ---\n",
      "--- GENERATING MDL SUB-QUERIES 📚 ---\n",
      "--- MDL RETRIEVE TOOL 🛠️ ---\n",
      "--- BUSINESS_LOGIC RETRIEVE TOOL 🛠️ ---\n"
     ]
    },
    {
     "name": "stderr",
     "output_type": "stream",
     "text": [
      "WARNING:langchain_core.vectorstores.base:No relevant docs were retrieved using the relevance score threshold 0.75\n"
     ]
    },
    {
     "name": "stdout",
     "output_type": "stream",
     "text": [
      "--- PARALLELIZE GENERATION 🔢 ---\n",
      "--- GRADE CHUNK RELEVANCE TO QUESTION ❔ ---\n",
      "--- GRADE CHUNK RELEVANCE TO QUESTION ❔ ---\n",
      "--- GRADE CHUNK RELEVANCE TO QUESTION ❔ ---\n",
      "--- GRADE CHUNK RELEVANCE TO QUESTION ❔ ---\n",
      "--- GRADE CHUNK RELEVANCE TO QUESTION ❔ ---\n",
      "--- GRADE CHUNK RELEVANCE TO QUESTION ❔ ---\n",
      "--- GRADE CHUNK RELEVANCE TO QUESTION ❔ ---\n",
      "--- GRADE CHUNK RELEVANCE TO QUESTION ❔ ---\n",
      "--- GRADE CHUNK RELEVANCE TO QUESTION ❔ ---\n",
      "--- GRADE CHUNK RELEVANCE TO QUESTION ❔ ---\n",
      "--- GRADE CHUNK RELEVANCE TO QUESTION ❔ ---\n",
      "--- GRADE CHUNK RELEVANCE TO QUESTION ❔ ---\n",
      "--- GRADE CHUNK RELEVANCE TO QUESTION ❔ ---\n",
      "--- GRADE CHUNK RELEVANCE TO QUESTION ❔ ---\n",
      "--- GRADE: RELEVANT CHUNK ✅ ---\n",
      "--- SUMMARIZE CHUNK 📝📚 ---\n",
      "--- GRADE: NOT RELEVANT CHUNK 🗑️ ---\n",
      "--- SET RETRIEVAL GRADE OUTPUT KO ❌ ---\n",
      "--- GRADE: NOT RELEVANT CHUNK 🗑️ ---\n",
      "--- SET RETRIEVAL GRADE OUTPUT KO ❌ ---\n",
      "--- GRADE: NOT RELEVANT CHUNK 🗑️ ---\n",
      "--- SET RETRIEVAL GRADE OUTPUT KO ❌ ---\n",
      "--- GRADE: RELEVANT CHUNK ✅ ---\n",
      "--- SUMMARIZE CHUNK 📝📚 ---\n",
      "--- GRADE: RELEVANT CHUNK ✅ ---\n",
      "--- SUMMARIZE CHUNK 📝📚 ---\n",
      "--- GRADE: NOT RELEVANT CHUNK 🗑️ ---\n",
      "--- SET RETRIEVAL GRADE OUTPUT KO ❌ ---\n",
      "--- GRADE: NOT RELEVANT CHUNK 🗑️ ---\n",
      "--- SET RETRIEVAL GRADE OUTPUT KO ❌ ---\n",
      "--- GRADE: RELEVANT CHUNK ✅ ---\n",
      "--- SUMMARIZE CHUNK 📝📚 ---\n",
      "--- GRADE: NOT RELEVANT CHUNK 🗑️ ---\n",
      "--- SET RETRIEVAL GRADE OUTPUT KO ❌ ---\n",
      "--- GRADE: NOT RELEVANT CHUNK 🗑️ ---\n",
      "--- SET RETRIEVAL GRADE OUTPUT KO ❌ ---\n",
      "--- GRADE: NOT RELEVANT CHUNK 🗑️ ---\n",
      "--- SET RETRIEVAL GRADE OUTPUT KO ❌ ---\n",
      "--- GRADE: NOT RELEVANT CHUNK 🗑️ ---\n",
      "--- SET RETRIEVAL GRADE OUTPUT KO ❌ ---\n",
      "--- GRADE: NOT RELEVANT CHUNK 🗑️ ---\n",
      "--- SET RETRIEVAL GRADE OUTPUT KO ❌ ---\n"
     ]
    },
    {
     "name": "stderr",
     "output_type": "stream",
     "text": [
      "WARNING:langchain_core.vectorstores.base:No relevant docs were retrieved using the relevance score threshold 0.75\n"
     ]
    },
    {
     "name": "stdout",
     "output_type": "stream",
     "text": [
      "--- CHECK ITERATIONS 🔁 ---\n",
      "--- GRADE HALLUCINATIONS 👻 ---\n",
      "--- DECISION: GENERATION IS GROUNDED IN DOCUMENTS ✅ ---\n",
      "--- CHECK ITERATIONS 🔁 ---\n",
      "--- GRADE HALLUCINATIONS 👻 ---\n"
     ]
    },
    {
     "name": "stderr",
     "output_type": "stream",
     "text": [
      "WARNING:langchain_core.vectorstores.base:No relevant docs were retrieved using the relevance score threshold 0.75\n"
     ]
    },
    {
     "name": "stdout",
     "output_type": "stream",
     "text": [
      "--- DECISION: GENERATION ADDRESSES QUESTION ✅ ---\n",
      "--- DECISION: GENERATION IS GROUNDED IN DOCUMENTS ✅ ---\n",
      "--- CHECK ITERATIONS 🔁 ---\n",
      "--- GRADE HALLUCINATIONS 👻 ---\n",
      "--- DECISION: GENERATION ADDRESSES QUESTION ✅ ---\n",
      "--- DECISION: GENERATION IS GROUNDED IN DOCUMENTS ✅ ---\n",
      "--- DECISION: GENERATION ADDRESSES QUESTION ✅ ---\n",
      "--- CHECK ITERATIONS 🔁 ---\n",
      "--- GRADE HALLUCINATIONS 👻 ---\n",
      "--- DECISION: GENERATION IS NOT GROUNDED (HALLUCINATIONS) 👻❌ ---\n",
      "--- SUMMARIZE CHUNK 📝📚 ---\n"
     ]
    },
    {
     "name": "stderr",
     "output_type": "stream",
     "text": [
      "WARNING:langchain_core.vectorstores.base:No relevant docs were retrieved using the relevance score threshold 0.75\n",
      "WARNING:langchain_core.vectorstores.base:No relevant docs were retrieved using the relevance score threshold 0.75\n"
     ]
    },
    {
     "name": "stdout",
     "output_type": "stream",
     "text": [
      "--- PARALLELIZE GENERATION 🔢 ---\n",
      "--- GRADE CHUNK RELEVANCE TO QUESTION ❔ ---\n",
      "--- GRADE CHUNK RELEVANCE TO QUESTION ❔ ---\n",
      "--- GRADE CHUNK RELEVANCE TO QUESTION ❔ ---\n",
      "--- GRADE CHUNK RELEVANCE TO QUESTION ❔ ---\n",
      "--- GRADE CHUNK RELEVANCE TO QUESTION ❔ ---\n",
      "--- GRADE CHUNK RELEVANCE TO QUESTION ❔ ---\n",
      "--- GRADE CHUNK RELEVANCE TO QUESTION ❔ ---\n",
      "--- GRADE CHUNK RELEVANCE TO QUESTION ❔ ---\n",
      "--- GRADE CHUNK RELEVANCE TO QUESTION ❔ ---\n",
      "--- CHECK ITERATIONS 🔁 ---\n",
      "--- GRADE HALLUCINATIONS 👻 ---\n",
      "--- GRADE: NOT RELEVANT CHUNK 🗑️ ---\n",
      "--- SET RETRIEVAL GRADE OUTPUT KO ❌ ---\n",
      "--- GRADE: NOT RELEVANT CHUNK 🗑️ ---\n",
      "--- SET RETRIEVAL GRADE OUTPUT KO ❌ ---\n",
      "--- GRADE: RELEVANT CHUNK ✅ ---\n",
      "--- SUMMARIZE CHUNK 📝📚 ---\n",
      "--- GRADE: NOT RELEVANT CHUNK 🗑️ ---\n",
      "--- SET RETRIEVAL GRADE OUTPUT KO ❌ ---\n",
      "--- GRADE: NOT RELEVANT CHUNK 🗑️ ---\n",
      "--- SET RETRIEVAL GRADE OUTPUT KO ❌ ---\n",
      "--- GRADE: NOT RELEVANT CHUNK 🗑️ ---\n",
      "--- SET RETRIEVAL GRADE OUTPUT KO ❌ ---\n",
      "--- GRADE: NOT RELEVANT CHUNK 🗑️ ---\n",
      "--- SET RETRIEVAL GRADE OUTPUT KO ❌ ---\n",
      "--- GRADE: NOT RELEVANT CHUNK 🗑️ ---\n",
      "--- SET RETRIEVAL GRADE OUTPUT KO ❌ ---\n",
      "--- GRADE: RELEVANT CHUNK ✅ ---\n",
      "--- SUMMARIZE CHUNK 📝📚 ---\n",
      "--- DECISION: GENERATION IS GROUNDED IN DOCUMENTS ✅ ---\n",
      "--- DECISION: GENERATION DOES NOT ADDRESS QUESTION ❌ ---\n",
      "--- SUMMARIZE CHUNK 📝📚 ---\n",
      "--- CHECK ITERATIONS 🔁 ---\n",
      "--- GRADE HALLUCINATIONS 👻 ---\n",
      "--- DECISION: GENERATION IS GROUNDED IN DOCUMENTS ✅ ------ CHECK ITERATIONS 🔁 ---\n",
      "--- GRADE HALLUCINATIONS 👻 ---\n",
      "\n",
      "--- DECISION: GENERATION IS GROUNDED IN DOCUMENTS ✅ ---\n",
      "--- DECISION: GENERATION ADDRESSES QUESTION ✅ ---\n",
      "--- DECISION: GENERATION ADDRESSES QUESTION ✅ ---\n",
      "--- SUMMARIZE MDL 📝🗂️ ---\n",
      "--- CHECK ITERATIONS 🔁 ---\n",
      "--- DECISION: MAX ITERATIONS REACHED (3) 🔚 ---\n",
      "--- SET RETRIEVAL GRADE OUTPUT KO ❌ ---\n",
      "--- SUMMARIZE BUSINES LOGIC 📝👨‍💼 ---\n",
      "--- EXTRACT DB SCHEMA 🧮 ---\n",
      "--- GRADE CONTEXT SUMMARIES 🔍 ---\n",
      "--- GENERATE GLOBAL CONTEXT 📝🌐 ---\n",
      "---QUERY EXAMPLES RETRIEVE TOOL---\n",
      "\n",
      "--- INICIANDO COMPROBACIÓN DE CONEXIÓN A BBDD ⚙️ ---\n",
      "✅ Conexión a la base de datos establecida correctamente.\n",
      "\n",
      "--- INICIANDO FASE DE EXTRACCIÓN DE TABLAS CON LLM 🧮 ---\n",
      "Tablas detectadas por el LLM: ['fact_sales', 'dim_product']\n",
      "\n",
      "--- INICIANDO FASE DE JUEZ DE COHERENCIA 👩‍⚖️ ---\n",
      "\n",
      "Veredicto del juez: COHERENTE ✅\n",
      "\n",
      "--- PASANDO A FASE DE EJECUCIÓN EN POSTGRESQL ---\n",
      "\n",
      "\n",
      "✅ Query ejecutada correctamente.\n",
      "\n",
      "--- INICIANDO GENERACIÓN DE CONCLUSIONES 📝 ---\n",
      "\n",
      "--- INICIANDO EXPLICACIÓN DE CONSULTA SQL 🗂️ ---\n",
      "\n",
      "--- INICIANDO GENERACIÓN DE GRÁFICOS 📊 ---\n",
      "--- 🥁 GENERATE FINAL RESPONSE 🥁 ---\n"
     ]
    },
    {
     "data": {
      "text/plain": [
       "{'global_execution_ok': True,\n",
       " 'nl_output': '1. Las prendas dominan las ventas B2B en el último trimestre, con todas las posiciones en el top 10 perteneciendo a esta categoría.  \\n2. La subcategoría Camiseta lidera en unidades vendidas, con el producto \"Camiseta clásica, P\" acumulando 951 unidades.  \\n3. Los Jerseys, en sus variantes de manga corta y larga, ocupan tres posiciones en el ranking, sumando un volumen significativo.  \\n4. Los pantalones cortos también tienen presencia destacada con dos tallas diferentes en el top 10.  \\n5. La distribución mensual muestra una tendencia decreciente en unidades vendidas de mes a mes para todos los productos listados.  \\n6. El producto con mayor venta mensual es \"Camiseta clásica, P\" con 381 unidades en el primer mes.  \\n7. La exclusión de accesorios confirma que el foco de compra B2B está en prendas funcionales y básicas.  \\n8. La variedad de subcategorías (camiseta, jersey, pantalones cortos, gorra, calcetines, guantes) indica diversidad en la demanda dentro del segmento prendas.  \\n9. Ningún producto supera las 1,000 unidades vendidas en el trimestre, reflejando un mercado fragmentado o con ventas distribuidas.  \\n10. La suma total de unidades vendidas en el top 10 es 6,944, concentrando la mayor parte del volumen en prendas específicas.',\n",
       " 'sql_query': \"WITH \\n  last_quarter AS (\\n    SELECT\\n      fs.product_key,\\n      COALESCE(dp.spanish_product_name, dp.english_product_name) AS product_name,\\n      dp.spanish_product_category_name,\\n      dp.spanish_product_subcategory_name,\\n      EXTRACT(MONTH FROM fs.order_date) AS month_in_quarter,\\n      fs.order_quantity\\n    FROM\\n      sales.fact_sales fs\\n      JOIN sales.dim_product dp ON fs.product_key = dp.product_key\\n    WHERE\\n      fs.sale_source = 'reseller_sales'\\n      AND dp.spanish_product_category_name <> 'Accesorio'\\n      AND fs.order_date >= date_trunc('quarter', CURRENT_DATE - interval '3 months')\\n      AND fs.order_date < date_trunc('quarter', CURRENT_DATE)\\n  ),\\n  top_products AS (\\n    SELECT\\n      product_key,\\n      product_name,\\n      spanish_product_category_name,\\n      spanish_product_subcategory_name,\\n      SUM(order_quantity) AS total_qty\\n    FROM\\n      last_quarter\\n    GROUP BY\\n      product_key, product_name, spanish_product_category_name, spanish_product_subcategory_name\\n    ORDER BY\\n      total_qty DESC\\n    LIMIT 10\\n  )\\nSELECT\\n  tp.product_name AS producto,\\n  tp.spanish_product_category_name AS categoria,\\n  tp.spanish_product_subcategory_name AS subcategoria,\\n  SUM(lq.order_quantity) FILTER (WHERE lq.month_in_quarter = EXTRACT(MONTH FROM date_trunc('quarter', CURRENT_DATE - interval '3 months'))) AS primer_mes,\\n  SUM(lq.order_quantity) FILTER (WHERE lq.month_in_quarter = EXTRACT(MONTH FROM date_trunc('quarter', CURRENT_DATE - interval '3 months') + interval '1 month')) AS segundo_mes,\\n  SUM(lq.order_quantity) FILTER (WHERE lq.month_in_quarter = EXTRACT(MONTH FROM date_trunc('quarter', CURRENT_DATE - interval '3 months') + interval '2 month')) AS tercer_mes,\\n  SUM(lq.order_quantity) AS total\\nFROM\\n  top_products tp\\n  LEFT JOIN last_quarter lq ON tp.product_key = lq.product_key\\nGROUP BY\\n  producto, categoria, subcategoria\\nORDER BY\\n  total DESC\",\n",
       " 'query_results': [{'producto': 'Camiseta clásica, P', 'categoria': 'Prenda', 'subcategoria': 'Camiseta', 'primer_mes': 381, 'segundo_mes': 380, 'tercer_mes': 190, 'total': 951},\n",
       "  {'producto': 'Jersey clásico de manga corta, SG', 'categoria': 'Prenda', 'subcategoria': 'Jersey', 'primer_mes': 329, 'segundo_mes': 299, 'tercer_mes': 183, 'total': 811},\n",
       "  {'producto': \"Women's Mountain Shorts, S\", 'categoria': 'Prenda', 'subcategoria': 'Pantalones cortos', 'primer_mes': 295, 'segundo_mes': 258, 'tercer_mes': 141, 'total': 694},\n",
       "  {'producto': 'Jersey con logotipo de manga larga, G', 'categoria': 'Prenda', 'subcategoria': 'Jersey', 'primer_mes': 312, 'segundo_mes': 243, 'tercer_mes': 129, 'total': 684},\n",
       "  {'producto': 'AWC Logo Cap', 'categoria': 'Prenda', 'subcategoria': 'Gorra', 'primer_mes': 291, 'segundo_mes': 243, 'tercer_mes': 121, 'total': 655},\n",
       "  {'producto': \"Women's Mountain Shorts, L\", 'categoria': 'Prenda', 'subcategoria': 'Pantalones cortos', 'primer_mes': 262, 'segundo_mes': 236, 'tercer_mes': 120, 'total': 618},\n",
       "  {'producto': 'Jersey clásico de manga corta, G', 'categoria': 'Prenda', 'subcategoria': 'Jersey', 'primer_mes': 217, 'segundo_mes': 231, 'tercer_mes': 113, 'total': 561},\n",
       "  {'producto': 'Calcetines para carreras, G', 'categoria': 'Prenda', 'subcategoria': 'Calcetines', 'primer_mes': 231, 'segundo_mes': 179, 'tercer_mes': 93, 'total': 503},\n",
       "  {'producto': 'Camiseta clásica, M', 'categoria': 'Prenda', 'subcategoria': 'Camiseta', 'primer_mes': 197, 'segundo_mes': 187, 'tercer_mes': 85, 'total': 469},\n",
       "  {'producto': 'Half-Finger Gloves, M', 'categoria': 'Prenda', 'subcategoria': 'Guantes', 'primer_mes': 187, 'segundo_mes': 168, 'tercer_mes': 82, 'total': 437}],\n",
       " 'sql_explanation': '## Análisis de la Lógica de la Consulta\\n\\nLa consulta primero identifica las ventas del último trimestre completo, considerando solo las realizadas a través del canal B2B (denominado \\'reseller_sales\\') y excluyendo productos de la categoría \"Accesorio\". Para ello, une la tabla de ventas con la tabla de productos para obtener el nombre, categoría y subcategoría de cada producto. Luego, calcula la cantidad total vendida por producto en ese periodo y selecciona los 10 productos con mayor volumen de unidades vendidas. Finalmente, para esos 10 productos, desglosa las unidades vendidas mes a mes dentro del trimestre, mostrando también la categoría y subcategoría a la que pertenecen.\\n\\n## Conclusión y Resultados Clave\\n\\nEl resultado de esta consulta proporciona una lista clara de los 10 productos más vendidos en el canal B2B durante el último trimestre, excluyendo accesorios, con un detalle mensual de las unidades vendidas. Esto permite entender no solo cuáles son los productos líderes en ventas, sino también cómo se distribuyen esas ventas a lo largo de los tres meses del trimestre, facilitando análisis de tendencias y planificación comercial. Además, al incluir la categoría y subcategoría, se puede evaluar el desempeño por segmentos de producto.',\n",
       " 'graphics_json': '{\\n  \"dashboard_title\": \"Análisis Trimestral de los 10 Productos B2B Más Vendidos (Excluyendo Accesorios)\",\\n  \"charts\": [\\n    {\\n      \"data\": [\\n        {\\n          \"type\": \"bar\",\\n          \"x\": [\\n            \"Camiseta clásica, P\",\\n            \"Jersey clásico de manga corta, SG\",\\n            \"Women\\'s Mountain Shorts, S\",\\n            \"Jersey con logotipo de manga larga, G\",\\n            \"AWC Logo Cap\",\\n            \"Women\\'s Mountain Shorts, L\",\\n            \"Jersey clásico de manga corta, G\",\\n            \"Calcetines para carreras, G\",\\n            \"Camiseta clásica, M\",\\n            \"Half-Finger Gloves, M\"\\n          ],\\n          \"y\": [951, 811, 694, 684, 655, 618, 561, 503, 469, 437],\\n          \"marker\": {\"color\": \"#2a9d8f\"},\\n          \"name\": \"Total Unidades\",\\n          \"hovertemplate\": \"%{x}<br>Total unidades vendidas: %{y}<extra></extra>\"\\n        }\\n      ],\\n      \"layout\": {\\n        \"title\": \"Total de Unidades Vendidas por Producto en el Último Trimestre\",\\n        \"xaxis\": {\"title\": \"Producto\", \"tickangle\": -45},\\n        \"yaxis\": {\"title\": \"Unidades Totales Vendidas\"},\\n        \"plot_bgcolor\": \"#f9f9f9\",\\n        \"paper_bgcolor\": \"#ffffff\",\\n        \"margin\": {\"b\": 120}\\n      }\\n    },\\n    {\\n      \"data\": [\\n        {\\n          \"type\": \"line\",\\n          \"x\": [\"Primer mes\", \"Segundo mes\", \"Tercer mes\"],\\n          \"y\": [381, 380, 190],\\n          \"mode\": \"lines+markers\",\\n          \"name\": \"Camiseta clásica, P\"\\n        },\\n        {\\n          \"type\": \"line\",\\n          \"x\": [\"Primer mes\", \"Segundo mes\", \"Tercer mes\"],\\n          \"y\": [329, 299, 183],\\n          \"mode\": \"lines+markers\",\\n          \"name\": \"Jersey clásico de manga corta, SG\"\\n        },\\n        {\\n          \"type\": \"line\",\\n          \"x\": [\"Primer mes\", \"Segundo mes\", \"Tercer mes\"],\\n          \"y\": [295, 258, 141],\\n          \"mode\": \"lines+markers\",\\n          \"name\": \"Women\\'s Mountain Shorts, S\"\\n        },\\n        {\\n          \"type\": \"line\",\\n          \"x\": [\"Primer mes\", \"Segundo mes\", \"Tercer mes\"],\\n          \"y\": [312, 243, 129],\\n          \"mode\": \"lines+markers\",\\n          \"name\": \"Jersey con logotipo de manga larga, G\"\\n        },\\n        {\\n          \"type\": \"line\",\\n          \"x\": [\"Primer mes\", \"Segundo mes\", \"Tercer mes\"],\\n          \"y\": [291, 243, 121],\\n          \"mode\": \"lines+markers\",\\n          \"name\": \"AWC Logo Cap\"\\n        },\\n        {\\n          \"type\": \"line\",\\n          \"x\": [\"Primer mes\", \"Segundo mes\", \"Tercer mes\"],\\n          \"y\": [262, 236, 120],\\n          \"mode\": \"lines+markers\",\\n          \"name\": \"Women\\'s Mountain Shorts, L\"\\n        },\\n        {\\n          \"type\": \"line\",\\n          \"x\": [\"Primer mes\", \"Segundo mes\", \"Tercer mes\"],\\n          \"y\": [217, 231, 113],\\n          \"mode\": \"lines+markers\",\\n          \"name\": \"Jersey clásico de manga corta, G\"\\n        },\\n        {\\n          \"type\": \"line\",\\n          \"x\": [\"Primer mes\", \"Segundo mes\", \"Tercer mes\"],\\n          \"y\": [231, 179, 93],\\n          \"mode\": \"lines+markers\",\\n          \"name\": \"Calcetines para carreras, G\"\\n        },\\n        {\\n          \"type\": \"line\",\\n          \"x\": [\"Primer mes\", \"Segundo mes\", \"Tercer mes\"],\\n          \"y\": [197, 187, 85],\\n          \"mode\": \"lines+markers\",\\n          \"name\": \"Camiseta clásica, M\"\\n        },\\n        {\\n          \"type\": \"line\",\\n          \"x\": [\"Primer mes\", \"Segundo mes\", \"Tercer mes\"],\\n          \"y\": [187, 168, 82],\\n          \"mode\": \"lines+markers\",\\n          \"name\": \"Half-Finger Gloves, M\"\\n        }\\n      ],\\n      \"layout\": {\\n        \"title\": \"Evolución Mensual de Unidades Vendidas por Producto\",\\n        \"xaxis\": {\"title\": \"Meses\"},\\n        \"yaxis\": {\"title\": \"Unidades Vendidas\"},\\n        \"legend\": {\"orientation\": \"v\", \"x\": 1.05, \"y\": 1},\\n        \"plot_bgcolor\": \"#f9f9f9\",\\n        \"paper_bgcolor\": \"#ffffff\",\\n        \"margin\": {\"r\": 200}\\n      }\\n    },\\n    {\\n      \"data\": [\\n        {\\n          \"type\": \"pie\",\\n          \"labels\": [\"Prenda\"],\\n          \"values\": [6493],\\n          \"textinfo\": \"label+percent\",\\n          \"marker\": {\"colors\": [\"#e76f51\"]}\\n        }\\n      ],\\n      \"layout\": {\\n        \"title\": \"Distribución de Ventas por Categoría\",\\n        \"plot_bgcolor\": \"#f9f9f9\",\\n        \"paper_bgcolor\": \"#ffffff\"\\n      }\\n    },\\n    {\\n      \"data\": [\\n        {\\n          \"type\": \"scatter\",\\n          \"mode\": \"markers\",\\n          \"x\": [\\n            951,\\n            811,\\n            694,\\n            684,\\n            655,\\n            618,\\n            561,\\n            503,\\n            469,\\n            437\\n          ],\\n          \"y\": [\\n            \"Camiseta\",\\n            \"Jersey\",\\n            \"Pantalones cortos\",\\n            \"Jersey\",\\n            \"Gorra\",\\n            \"Pantalones cortos\",\\n            \"Jersey\",\\n            \"Calcetines\",\\n            \"Camiseta\",\\n            \"Guantes\"\\n          ],\\n          \"marker\": {\\n            \"size\": [\\n              381,\\n              329,\\n              295,\\n              312,\\n              291,\\n              262,\\n              217,\\n              231,\\n              197,\\n              187\\n            ],\\n            \"color\": [\\n              190,\\n              183,\\n              141,\\n              129,\\n              121,\\n              120,\\n              113,\\n              93,\\n              85,\\n              82\\n            ],\\n            \"colorscale\": \"Viridis\",\\n            \"colorbar\": {\\n              \"title\": \"Ventas Tercer Mes\"\\n            },\\n            \"sizemode\": \"area\",\\n            \"sizeref\": 2,\\n            \"sizemin\": 6\\n          },\\n          \"text\": [\\n            \"Camiseta clásica, P\",\\n            \"Jersey clásico de manga corta, SG\",\\n            \"Women\\'s Mountain Shorts, S\",\\n            \"Jersey con logotipo de manga larga, G\",\\n            \"AWC Logo Cap\",\\n            \"Women\\'s Mountain Shorts, L\",\\n            \"Jersey clásico de manga corta, G\",\\n            \"Calcetines para carreras, G\",\\n            \"Camiseta clásica, M\",\\n            \"Half-Finger Gloves, M\"\\n          ],\\n          \"hovertemplate\": \"%{text}<br>Total ventas: %{x}<br>Categoría: Prenda<br>Subcategoría: %{y}<br>Ventas 1er mes: %{marker.size}<br>Ventas 3er mes: %{marker.color}<extra></extra>\"\\n        }\\n      ],\\n      \"layout\": {\\n        \"title\": \"Relación entre Ventas Totales, Subcategoría y Ventas Primer y Tercer Mes\",\\n        \"xaxis\": {\"title\": \"Unidades Totales Vendidas\"},\\n        \"yaxis\": {\"title\": \"Subcategoría\"},\\n        \"plot_bgcolor\": \"#f9f9f9\",\\n        \"paper_bgcolor\": \"#ffffff\",\\n        \"hovermode\": \"closest\"\\n      }\\n    }\\n  ]\\n}'}"
      ]
     },
     "execution_count": 5,
     "metadata": {},
     "output_type": "execute_result"
    }
   ],
   "source": [
    "logging.basicConfig(level=logging.WARNING)\n",
    "\n",
    "result = main_graph.invoke({\n",
    "    \"user_query\": \"Muéstrame los 10 productos más vendidos para el B2B en el último trimestre, excluyendo los Accesorios. Mes a mes indica cuántas unidades se vendieron, y muestra también a qué categoría y subcategoría pertenecen\",\n",
    "})\n",
    "\n",
    "result"
   ]
  },
  {
   "cell_type": "code",
   "execution_count": 6,
   "id": "b0cfafde",
   "metadata": {},
   "outputs": [
    {
     "name": "stdout",
     "output_type": "stream",
     "text": [
      "WITH \n",
      "  last_quarter AS (\n",
      "    SELECT\n",
      "      fs.product_key,\n",
      "      COALESCE(dp.spanish_product_name, dp.english_product_name) AS product_name,\n",
      "      dp.spanish_product_category_name,\n",
      "      dp.spanish_product_subcategory_name,\n",
      "      EXTRACT(MONTH FROM fs.order_date) AS month_in_quarter,\n",
      "      fs.order_quantity\n",
      "    FROM\n",
      "      sales.fact_sales fs\n",
      "      JOIN sales.dim_product dp ON fs.product_key = dp.product_key\n",
      "    WHERE\n",
      "      fs.sale_source = 'reseller_sales'\n",
      "      AND dp.spanish_product_category_name <> 'Accesorio'\n",
      "      AND fs.order_date >= date_trunc('quarter', CURRENT_DATE - interval '3 months')\n",
      "      AND fs.order_date < date_trunc('quarter', CURRENT_DATE)\n",
      "  ),\n",
      "  top_products AS (\n",
      "    SELECT\n",
      "      product_key,\n",
      "      product_name,\n",
      "      spanish_product_category_name,\n",
      "      spanish_product_subcategory_name,\n",
      "      SUM(order_quantity) AS total_qty\n",
      "    FROM\n",
      "      last_quarter\n",
      "    GROUP BY\n",
      "      product_key, product_name, spanish_product_category_name, spanish_product_subcategory_name\n",
      "    ORDER BY\n",
      "      total_qty DESC\n",
      "    LIMIT 10\n",
      "  )\n",
      "SELECT\n",
      "  tp.product_name AS producto,\n",
      "  tp.spanish_product_category_name AS categoria,\n",
      "  tp.spanish_product_subcategory_name AS subcategoria,\n",
      "  SUM(lq.order_quantity) FILTER (WHERE lq.month_in_quarter = EXTRACT(MONTH FROM date_trunc('quarter', CURRENT_DATE - interval '3 months'))) AS primer_mes,\n",
      "  SUM(lq.order_quantity) FILTER (WHERE lq.month_in_quarter = EXTRACT(MONTH FROM date_trunc('quarter', CURRENT_DATE - interval '3 months') + interval '1 month')) AS segundo_mes,\n",
      "  SUM(lq.order_quantity) FILTER (WHERE lq.month_in_quarter = EXTRACT(MONTH FROM date_trunc('quarter', CURRENT_DATE - interval '3 months') + interval '2 month')) AS tercer_mes,\n",
      "  SUM(lq.order_quantity) AS total\n",
      "FROM\n",
      "  top_products tp\n",
      "  LEFT JOIN last_quarter lq ON tp.product_key = lq.product_key\n",
      "GROUP BY\n",
      "  producto, categoria, subcategoria\n",
      "ORDER BY\n",
      "  total DESC\n"
     ]
    }
   ],
   "source": [
    "print(result['sql_query'])"
   ]
  },
  {
   "cell_type": "code",
   "execution_count": 7,
   "id": "eb72dd82",
   "metadata": {},
   "outputs": [
    {
     "name": "stdout",
     "output_type": "stream",
     "text": [
      "[{'producto': 'Camiseta clásica, P', 'categoria': 'Prenda', 'subcategoria': 'Camiseta', 'primer_mes': 381, 'segundo_mes': 380, 'tercer_mes': 190, 'total': 951}, {'producto': 'Jersey clásico de manga corta, SG', 'categoria': 'Prenda', 'subcategoria': 'Jersey', 'primer_mes': 329, 'segundo_mes': 299, 'tercer_mes': 183, 'total': 811}, {'producto': \"Women's Mountain Shorts, S\", 'categoria': 'Prenda', 'subcategoria': 'Pantalones cortos', 'primer_mes': 295, 'segundo_mes': 258, 'tercer_mes': 141, 'total': 694}, {'producto': 'Jersey con logotipo de manga larga, G', 'categoria': 'Prenda', 'subcategoria': 'Jersey', 'primer_mes': 312, 'segundo_mes': 243, 'tercer_mes': 129, 'total': 684}, {'producto': 'AWC Logo Cap', 'categoria': 'Prenda', 'subcategoria': 'Gorra', 'primer_mes': 291, 'segundo_mes': 243, 'tercer_mes': 121, 'total': 655}, {'producto': \"Women's Mountain Shorts, L\", 'categoria': 'Prenda', 'subcategoria': 'Pantalones cortos', 'primer_mes': 262, 'segundo_mes': 236, 'tercer_mes': 120, 'total': 618}, {'producto': 'Jersey clásico de manga corta, G', 'categoria': 'Prenda', 'subcategoria': 'Jersey', 'primer_mes': 217, 'segundo_mes': 231, 'tercer_mes': 113, 'total': 561}, {'producto': 'Calcetines para carreras, G', 'categoria': 'Prenda', 'subcategoria': 'Calcetines', 'primer_mes': 231, 'segundo_mes': 179, 'tercer_mes': 93, 'total': 503}, {'producto': 'Camiseta clásica, M', 'categoria': 'Prenda', 'subcategoria': 'Camiseta', 'primer_mes': 197, 'segundo_mes': 187, 'tercer_mes': 85, 'total': 469}, {'producto': 'Half-Finger Gloves, M', 'categoria': 'Prenda', 'subcategoria': 'Guantes', 'primer_mes': 187, 'segundo_mes': 168, 'tercer_mes': 82, 'total': 437}]\n"
     ]
    }
   ],
   "source": [
    "print(result['query_results'])"
   ]
  },
  {
   "cell_type": "code",
   "execution_count": 8,
   "id": "6801734c",
   "metadata": {},
   "outputs": [
    {
     "name": "stdout",
     "output_type": "stream",
     "text": [
      "1. Las prendas dominan las ventas B2B en el último trimestre, con todas las posiciones en el top 10 perteneciendo a esta categoría.  \n",
      "2. La subcategoría Camiseta lidera en unidades vendidas, con el producto \"Camiseta clásica, P\" acumulando 951 unidades.  \n",
      "3. Los Jerseys, en sus variantes de manga corta y larga, ocupan tres posiciones en el ranking, sumando un volumen significativo.  \n",
      "4. Los pantalones cortos también tienen presencia destacada con dos tallas diferentes en el top 10.  \n",
      "5. La distribución mensual muestra una tendencia decreciente en unidades vendidas de mes a mes para todos los productos listados.  \n",
      "6. El producto con mayor venta mensual es \"Camiseta clásica, P\" con 381 unidades en el primer mes.  \n",
      "7. La exclusión de accesorios confirma que el foco de compra B2B está en prendas funcionales y básicas.  \n",
      "8. La variedad de subcategorías (camiseta, jersey, pantalones cortos, gorra, calcetines, guantes) indica diversidad en la demanda dentro del segmento prendas.  \n",
      "9. Ningún producto supera las 1,000 unidades vendidas en el trimestre, reflejando un mercado fragmentado o con ventas distribuidas.  \n",
      "10. La suma total de unidades vendidas en el top 10 es 6,944, concentrando la mayor parte del volumen en prendas específicas.\n"
     ]
    }
   ],
   "source": [
    "print(result['nl_output'])"
   ]
  },
  {
   "cell_type": "code",
   "execution_count": 9,
   "id": "ae4fec9a",
   "metadata": {},
   "outputs": [
    {
     "name": "stdout",
     "output_type": "stream",
     "text": [
      "## Análisis de la Lógica de la Consulta\n",
      "\n",
      "La consulta primero identifica las ventas del último trimestre completo, considerando solo las realizadas a través del canal B2B (denominado 'reseller_sales') y excluyendo productos de la categoría \"Accesorio\". Para ello, une la tabla de ventas con la tabla de productos para obtener el nombre, categoría y subcategoría de cada producto. Luego, calcula la cantidad total vendida por producto en ese periodo y selecciona los 10 productos con mayor volumen de unidades vendidas. Finalmente, para esos 10 productos, desglosa las unidades vendidas mes a mes dentro del trimestre, mostrando también la categoría y subcategoría a la que pertenecen.\n",
      "\n",
      "## Conclusión y Resultados Clave\n",
      "\n",
      "El resultado de esta consulta proporciona una lista clara de los 10 productos más vendidos en el canal B2B durante el último trimestre, excluyendo accesorios, con un detalle mensual de las unidades vendidas. Esto permite entender no solo cuáles son los productos líderes en ventas, sino también cómo se distribuyen esas ventas a lo largo de los tres meses del trimestre, facilitando análisis de tendencias y planificación comercial. Además, al incluir la categoría y subcategoría, se puede evaluar el desempeño por segmentos de producto.\n"
     ]
    }
   ],
   "source": [
    "print(result['sql_explanation'])"
   ]
  },
  {
   "cell_type": "code",
   "execution_count": 10,
   "id": "144892e8",
   "metadata": {},
   "outputs": [
    {
     "data": {
      "application/vnd.plotly.v1+json": {
       "config": {
        "plotlyServerURL": "https://plot.ly"
       },
       "data": [
        {
         "hovertemplate": "%{x}<br>Total unidades vendidas: %{y}<extra></extra>",
         "marker": {
          "color": "#2a9d8f"
         },
         "name": "Total Unidades",
         "type": "bar",
         "x": [
          "Camiseta clásica, P",
          "Jersey clásico de manga corta, SG",
          "Women's Mountain Shorts, S",
          "Jersey con logotipo de manga larga, G",
          "AWC Logo Cap",
          "Women's Mountain Shorts, L",
          "Jersey clásico de manga corta, G",
          "Calcetines para carreras, G",
          "Camiseta clásica, M",
          "Half-Finger Gloves, M"
         ],
         "xaxis": "x",
         "y": [
          951,
          811,
          694,
          684,
          655,
          618,
          561,
          503,
          469,
          437
         ],
         "yaxis": "y"
        },
        {
         "mode": "lines+markers",
         "name": "Camiseta clásica, P",
         "type": "scatter",
         "x": [
          "Primer mes",
          "Segundo mes",
          "Tercer mes"
         ],
         "xaxis": "x2",
         "y": [
          381,
          380,
          190
         ],
         "yaxis": "y2"
        },
        {
         "domain": {
          "x": [
           0,
           0.45
          ],
          "y": [
           0,
           0.375
          ]
         },
         "labels": [
          "Prenda"
         ],
         "marker": {
          "colors": [
           "#e76f51"
          ]
         },
         "textinfo": "label+percent",
         "type": "pie",
         "values": [
          6493
         ]
        },
        {
         "hovertemplate": "%{text}<br>Total ventas: %{x}<br>Categoría: Prenda<br>Subcategoría: %{y}<br>Ventas 1er mes: %{marker.size}<br>Ventas 3er mes: %{marker.color}<extra></extra>",
         "marker": {
          "color": [
           190,
           183,
           141,
           129,
           121,
           120,
           113,
           93,
           85,
           82
          ],
          "colorbar": {
           "title": {
            "text": "Ventas Tercer Mes"
           }
          },
          "colorscale": [
           [
            0,
            "#440154"
           ],
           [
            0.1111111111111111,
            "#482878"
           ],
           [
            0.2222222222222222,
            "#3e4989"
           ],
           [
            0.3333333333333333,
            "#31688e"
           ],
           [
            0.4444444444444444,
            "#26828e"
           ],
           [
            0.5555555555555556,
            "#1f9e89"
           ],
           [
            0.6666666666666666,
            "#35b779"
           ],
           [
            0.7777777777777778,
            "#6ece58"
           ],
           [
            0.8888888888888888,
            "#b5de2b"
           ],
           [
            1,
            "#fde725"
           ]
          ],
          "size": [
           381,
           329,
           295,
           312,
           291,
           262,
           217,
           231,
           197,
           187
          ],
          "sizemin": 6,
          "sizemode": "area",
          "sizeref": 2
         },
         "mode": "markers",
         "text": [
          "Camiseta clásica, P",
          "Jersey clásico de manga corta, SG",
          "Women's Mountain Shorts, S",
          "Jersey con logotipo de manga larga, G",
          "AWC Logo Cap",
          "Women's Mountain Shorts, L",
          "Jersey clásico de manga corta, G",
          "Calcetines para carreras, G",
          "Camiseta clásica, M",
          "Half-Finger Gloves, M"
         ],
         "type": "scatter",
         "x": [
          951,
          811,
          694,
          684,
          655,
          618,
          561,
          503,
          469,
          437
         ],
         "xaxis": "x3",
         "y": [
          "Camiseta",
          "Jersey",
          "Pantalones cortos",
          "Jersey",
          "Gorra",
          "Pantalones cortos",
          "Jersey",
          "Calcetines",
          "Camiseta",
          "Guantes"
         ],
         "yaxis": "y3"
        }
       ],
       "layout": {
        "annotations": [
         {
          "font": {
           "size": 16
          },
          "showarrow": false,
          "text": "Total de Unidades Vendidas por Producto en el Último Trimestre",
          "x": 0.225,
          "xanchor": "center",
          "xref": "paper",
          "y": 1,
          "yanchor": "bottom",
          "yref": "paper"
         },
         {
          "font": {
           "size": 16
          },
          "showarrow": false,
          "text": "Evolución Mensual de Unidades Vendidas por Producto",
          "x": 0.775,
          "xanchor": "center",
          "xref": "paper",
          "y": 1,
          "yanchor": "bottom",
          "yref": "paper"
         },
         {
          "font": {
           "size": 16
          },
          "showarrow": false,
          "text": "Distribución de Ventas por Categoría",
          "x": 0.225,
          "xanchor": "center",
          "xref": "paper",
          "y": 0.375,
          "yanchor": "bottom",
          "yref": "paper"
         },
         {
          "font": {
           "size": 16
          },
          "showarrow": false,
          "text": "Relación entre Ventas Totales, Subcategoría y Ventas Primer y Tercer Mes",
          "x": 0.775,
          "xanchor": "center",
          "xref": "paper",
          "y": 0.375,
          "yanchor": "bottom",
          "yref": "paper"
         }
        ],
        "autosize": true,
        "font": {
         "family": "Arial, sans-serif",
         "size": 12
        },
        "height": 900,
        "margin": {
         "b": 50,
         "l": 50,
         "r": 50,
         "t": 80
        },
        "paper_bgcolor": "#f2f2f2",
        "plot_bgcolor": "#ffffff",
        "template": {
         "data": {
          "bar": [
           {
            "error_x": {
             "color": "#2a3f5f"
            },
            "error_y": {
             "color": "#2a3f5f"
            },
            "marker": {
             "line": {
              "color": "#E5ECF6",
              "width": 0.5
             },
             "pattern": {
              "fillmode": "overlay",
              "size": 10,
              "solidity": 0.2
             }
            },
            "type": "bar"
           }
          ],
          "barpolar": [
           {
            "marker": {
             "line": {
              "color": "#E5ECF6",
              "width": 0.5
             },
             "pattern": {
              "fillmode": "overlay",
              "size": 10,
              "solidity": 0.2
             }
            },
            "type": "barpolar"
           }
          ],
          "carpet": [
           {
            "aaxis": {
             "endlinecolor": "#2a3f5f",
             "gridcolor": "white",
             "linecolor": "white",
             "minorgridcolor": "white",
             "startlinecolor": "#2a3f5f"
            },
            "baxis": {
             "endlinecolor": "#2a3f5f",
             "gridcolor": "white",
             "linecolor": "white",
             "minorgridcolor": "white",
             "startlinecolor": "#2a3f5f"
            },
            "type": "carpet"
           }
          ],
          "choropleth": [
           {
            "colorbar": {
             "outlinewidth": 0,
             "ticks": ""
            },
            "type": "choropleth"
           }
          ],
          "contour": [
           {
            "colorbar": {
             "outlinewidth": 0,
             "ticks": ""
            },
            "colorscale": [
             [
              0,
              "#0d0887"
             ],
             [
              0.1111111111111111,
              "#46039f"
             ],
             [
              0.2222222222222222,
              "#7201a8"
             ],
             [
              0.3333333333333333,
              "#9c179e"
             ],
             [
              0.4444444444444444,
              "#bd3786"
             ],
             [
              0.5555555555555556,
              "#d8576b"
             ],
             [
              0.6666666666666666,
              "#ed7953"
             ],
             [
              0.7777777777777778,
              "#fb9f3a"
             ],
             [
              0.8888888888888888,
              "#fdca26"
             ],
             [
              1,
              "#f0f921"
             ]
            ],
            "type": "contour"
           }
          ],
          "contourcarpet": [
           {
            "colorbar": {
             "outlinewidth": 0,
             "ticks": ""
            },
            "type": "contourcarpet"
           }
          ],
          "heatmap": [
           {
            "colorbar": {
             "outlinewidth": 0,
             "ticks": ""
            },
            "colorscale": [
             [
              0,
              "#0d0887"
             ],
             [
              0.1111111111111111,
              "#46039f"
             ],
             [
              0.2222222222222222,
              "#7201a8"
             ],
             [
              0.3333333333333333,
              "#9c179e"
             ],
             [
              0.4444444444444444,
              "#bd3786"
             ],
             [
              0.5555555555555556,
              "#d8576b"
             ],
             [
              0.6666666666666666,
              "#ed7953"
             ],
             [
              0.7777777777777778,
              "#fb9f3a"
             ],
             [
              0.8888888888888888,
              "#fdca26"
             ],
             [
              1,
              "#f0f921"
             ]
            ],
            "type": "heatmap"
           }
          ],
          "histogram": [
           {
            "marker": {
             "pattern": {
              "fillmode": "overlay",
              "size": 10,
              "solidity": 0.2
             }
            },
            "type": "histogram"
           }
          ],
          "histogram2d": [
           {
            "colorbar": {
             "outlinewidth": 0,
             "ticks": ""
            },
            "colorscale": [
             [
              0,
              "#0d0887"
             ],
             [
              0.1111111111111111,
              "#46039f"
             ],
             [
              0.2222222222222222,
              "#7201a8"
             ],
             [
              0.3333333333333333,
              "#9c179e"
             ],
             [
              0.4444444444444444,
              "#bd3786"
             ],
             [
              0.5555555555555556,
              "#d8576b"
             ],
             [
              0.6666666666666666,
              "#ed7953"
             ],
             [
              0.7777777777777778,
              "#fb9f3a"
             ],
             [
              0.8888888888888888,
              "#fdca26"
             ],
             [
              1,
              "#f0f921"
             ]
            ],
            "type": "histogram2d"
           }
          ],
          "histogram2dcontour": [
           {
            "colorbar": {
             "outlinewidth": 0,
             "ticks": ""
            },
            "colorscale": [
             [
              0,
              "#0d0887"
             ],
             [
              0.1111111111111111,
              "#46039f"
             ],
             [
              0.2222222222222222,
              "#7201a8"
             ],
             [
              0.3333333333333333,
              "#9c179e"
             ],
             [
              0.4444444444444444,
              "#bd3786"
             ],
             [
              0.5555555555555556,
              "#d8576b"
             ],
             [
              0.6666666666666666,
              "#ed7953"
             ],
             [
              0.7777777777777778,
              "#fb9f3a"
             ],
             [
              0.8888888888888888,
              "#fdca26"
             ],
             [
              1,
              "#f0f921"
             ]
            ],
            "type": "histogram2dcontour"
           }
          ],
          "mesh3d": [
           {
            "colorbar": {
             "outlinewidth": 0,
             "ticks": ""
            },
            "type": "mesh3d"
           }
          ],
          "parcoords": [
           {
            "line": {
             "colorbar": {
              "outlinewidth": 0,
              "ticks": ""
             }
            },
            "type": "parcoords"
           }
          ],
          "pie": [
           {
            "automargin": true,
            "type": "pie"
           }
          ],
          "scatter": [
           {
            "fillpattern": {
             "fillmode": "overlay",
             "size": 10,
             "solidity": 0.2
            },
            "type": "scatter"
           }
          ],
          "scatter3d": [
           {
            "line": {
             "colorbar": {
              "outlinewidth": 0,
              "ticks": ""
             }
            },
            "marker": {
             "colorbar": {
              "outlinewidth": 0,
              "ticks": ""
             }
            },
            "type": "scatter3d"
           }
          ],
          "scattercarpet": [
           {
            "marker": {
             "colorbar": {
              "outlinewidth": 0,
              "ticks": ""
             }
            },
            "type": "scattercarpet"
           }
          ],
          "scattergeo": [
           {
            "marker": {
             "colorbar": {
              "outlinewidth": 0,
              "ticks": ""
             }
            },
            "type": "scattergeo"
           }
          ],
          "scattergl": [
           {
            "marker": {
             "colorbar": {
              "outlinewidth": 0,
              "ticks": ""
             }
            },
            "type": "scattergl"
           }
          ],
          "scattermap": [
           {
            "marker": {
             "colorbar": {
              "outlinewidth": 0,
              "ticks": ""
             }
            },
            "type": "scattermap"
           }
          ],
          "scattermapbox": [
           {
            "marker": {
             "colorbar": {
              "outlinewidth": 0,
              "ticks": ""
             }
            },
            "type": "scattermapbox"
           }
          ],
          "scatterpolar": [
           {
            "marker": {
             "colorbar": {
              "outlinewidth": 0,
              "ticks": ""
             }
            },
            "type": "scatterpolar"
           }
          ],
          "scatterpolargl": [
           {
            "marker": {
             "colorbar": {
              "outlinewidth": 0,
              "ticks": ""
             }
            },
            "type": "scatterpolargl"
           }
          ],
          "scatterternary": [
           {
            "marker": {
             "colorbar": {
              "outlinewidth": 0,
              "ticks": ""
             }
            },
            "type": "scatterternary"
           }
          ],
          "surface": [
           {
            "colorbar": {
             "outlinewidth": 0,
             "ticks": ""
            },
            "colorscale": [
             [
              0,
              "#0d0887"
             ],
             [
              0.1111111111111111,
              "#46039f"
             ],
             [
              0.2222222222222222,
              "#7201a8"
             ],
             [
              0.3333333333333333,
              "#9c179e"
             ],
             [
              0.4444444444444444,
              "#bd3786"
             ],
             [
              0.5555555555555556,
              "#d8576b"
             ],
             [
              0.6666666666666666,
              "#ed7953"
             ],
             [
              0.7777777777777778,
              "#fb9f3a"
             ],
             [
              0.8888888888888888,
              "#fdca26"
             ],
             [
              1,
              "#f0f921"
             ]
            ],
            "type": "surface"
           }
          ],
          "table": [
           {
            "cells": {
             "fill": {
              "color": "#EBF0F8"
             },
             "line": {
              "color": "white"
             }
            },
            "header": {
             "fill": {
              "color": "#C8D4E3"
             },
             "line": {
              "color": "white"
             }
            },
            "type": "table"
           }
          ]
         },
         "layout": {
          "annotationdefaults": {
           "arrowcolor": "#2a3f5f",
           "arrowhead": 0,
           "arrowwidth": 1
          },
          "autotypenumbers": "strict",
          "coloraxis": {
           "colorbar": {
            "outlinewidth": 0,
            "ticks": ""
           }
          },
          "colorscale": {
           "diverging": [
            [
             0,
             "#8e0152"
            ],
            [
             0.1,
             "#c51b7d"
            ],
            [
             0.2,
             "#de77ae"
            ],
            [
             0.3,
             "#f1b6da"
            ],
            [
             0.4,
             "#fde0ef"
            ],
            [
             0.5,
             "#f7f7f7"
            ],
            [
             0.6,
             "#e6f5d0"
            ],
            [
             0.7,
             "#b8e186"
            ],
            [
             0.8,
             "#7fbc41"
            ],
            [
             0.9,
             "#4d9221"
            ],
            [
             1,
             "#276419"
            ]
           ],
           "sequential": [
            [
             0,
             "#0d0887"
            ],
            [
             0.1111111111111111,
             "#46039f"
            ],
            [
             0.2222222222222222,
             "#7201a8"
            ],
            [
             0.3333333333333333,
             "#9c179e"
            ],
            [
             0.4444444444444444,
             "#bd3786"
            ],
            [
             0.5555555555555556,
             "#d8576b"
            ],
            [
             0.6666666666666666,
             "#ed7953"
            ],
            [
             0.7777777777777778,
             "#fb9f3a"
            ],
            [
             0.8888888888888888,
             "#fdca26"
            ],
            [
             1,
             "#f0f921"
            ]
           ],
           "sequentialminus": [
            [
             0,
             "#0d0887"
            ],
            [
             0.1111111111111111,
             "#46039f"
            ],
            [
             0.2222222222222222,
             "#7201a8"
            ],
            [
             0.3333333333333333,
             "#9c179e"
            ],
            [
             0.4444444444444444,
             "#bd3786"
            ],
            [
             0.5555555555555556,
             "#d8576b"
            ],
            [
             0.6666666666666666,
             "#ed7953"
            ],
            [
             0.7777777777777778,
             "#fb9f3a"
            ],
            [
             0.8888888888888888,
             "#fdca26"
            ],
            [
             1,
             "#f0f921"
            ]
           ]
          },
          "colorway": [
           "#636efa",
           "#EF553B",
           "#00cc96",
           "#ab63fa",
           "#FFA15A",
           "#19d3f3",
           "#FF6692",
           "#B6E880",
           "#FF97FF",
           "#FECB52"
          ],
          "font": {
           "color": "#2a3f5f"
          },
          "geo": {
           "bgcolor": "white",
           "lakecolor": "white",
           "landcolor": "#E5ECF6",
           "showlakes": true,
           "showland": true,
           "subunitcolor": "white"
          },
          "hoverlabel": {
           "align": "left"
          },
          "hovermode": "closest",
          "mapbox": {
           "style": "light"
          },
          "paper_bgcolor": "white",
          "plot_bgcolor": "#E5ECF6",
          "polar": {
           "angularaxis": {
            "gridcolor": "white",
            "linecolor": "white",
            "ticks": ""
           },
           "bgcolor": "#E5ECF6",
           "radialaxis": {
            "gridcolor": "white",
            "linecolor": "white",
            "ticks": ""
           }
          },
          "scene": {
           "xaxis": {
            "backgroundcolor": "#E5ECF6",
            "gridcolor": "white",
            "gridwidth": 2,
            "linecolor": "white",
            "showbackground": true,
            "ticks": "",
            "zerolinecolor": "white"
           },
           "yaxis": {
            "backgroundcolor": "#E5ECF6",
            "gridcolor": "white",
            "gridwidth": 2,
            "linecolor": "white",
            "showbackground": true,
            "ticks": "",
            "zerolinecolor": "white"
           },
           "zaxis": {
            "backgroundcolor": "#E5ECF6",
            "gridcolor": "white",
            "gridwidth": 2,
            "linecolor": "white",
            "showbackground": true,
            "ticks": "",
            "zerolinecolor": "white"
           }
          },
          "shapedefaults": {
           "line": {
            "color": "#2a3f5f"
           }
          },
          "ternary": {
           "aaxis": {
            "gridcolor": "white",
            "linecolor": "white",
            "ticks": ""
           },
           "baxis": {
            "gridcolor": "white",
            "linecolor": "white",
            "ticks": ""
           },
           "bgcolor": "#E5ECF6",
           "caxis": {
            "gridcolor": "white",
            "linecolor": "white",
            "ticks": ""
           }
          },
          "title": {
           "x": 0.05
          },
          "xaxis": {
           "automargin": true,
           "gridcolor": "white",
           "linecolor": "white",
           "ticks": "",
           "title": {
            "standoff": 15
           },
           "zerolinecolor": "white",
           "zerolinewidth": 2
          },
          "yaxis": {
           "automargin": true,
           "gridcolor": "white",
           "linecolor": "white",
           "ticks": "",
           "title": {
            "standoff": 15
           },
           "zerolinecolor": "white",
           "zerolinewidth": 2
          }
         }
        },
        "title": {
         "text": "Análisis Trimestral de los 10 Productos B2B Más Vendidos (Excluyendo Accesorios)",
         "x": 0.5
        },
        "width": 1600,
        "xaxis": {
         "anchor": "y",
         "domain": [
          0,
          0.45
         ],
         "title": {
          "text": "Producto"
         }
        },
        "xaxis2": {
         "anchor": "y2",
         "domain": [
          0.55,
          1
         ],
         "title": {
          "text": "Meses"
         }
        },
        "xaxis3": {
         "anchor": "y3",
         "domain": [
          0.55,
          1
         ],
         "title": {
          "text": "Unidades Totales Vendidas"
         }
        },
        "yaxis": {
         "anchor": "x",
         "domain": [
          0.625,
          1
         ],
         "title": {
          "text": "Unidades Totales Vendidas"
         }
        },
        "yaxis2": {
         "anchor": "x2",
         "domain": [
          0.625,
          1
         ],
         "title": {
          "text": "Unidades Vendidas"
         }
        },
        "yaxis3": {
         "anchor": "x3",
         "domain": [
          0,
          0.375
         ],
         "title": {
          "text": "Subcategoría"
         }
        }
       }
      }
     },
     "metadata": {},
     "output_type": "display_data"
    }
   ],
   "source": [
    "create_dashboard_from_json(result['graphics_json'])"
   ]
  },
  {
   "cell_type": "markdown",
   "id": "3c8f2a91",
   "metadata": {},
   "source": [
    "#### Ejemplo 2"
   ]
  },
  {
   "cell_type": "code",
   "execution_count": 5,
   "id": "8facf66d",
   "metadata": {},
   "outputs": [
    {
     "name": "stdout",
     "output_type": "stream",
     "text": [
      "--- DEFINE USER QUERY LANGUAGE 🔣 ---\n",
      "--- GRADE BUSINESS RELEVANCE 🏢 ---\n",
      "--- GENERATING BUSINESS_LOGIC SUB-QUERIES 📚 ---\n",
      "--- GENERATING MDL SUB-QUERIES 📚 ---\n",
      "--- BUSINESS_LOGIC RETRIEVE TOOL 🛠️ ---\n",
      "--- MDL RETRIEVE TOOL 🛠️ ---\n"
     ]
    },
    {
     "name": "stderr",
     "output_type": "stream",
     "text": [
      "WARNING:langchain_core.vectorstores.base:No relevant docs were retrieved using the relevance score threshold 0.75\n"
     ]
    },
    {
     "name": "stdout",
     "output_type": "stream",
     "text": [
      "--- PARALLELIZE GENERATION 🔢 ---\n",
      "--- GRADE CHUNK RELEVANCE TO QUESTION ❔ ---\n",
      "--- GRADE CHUNK RELEVANCE TO QUESTION ❔ ---\n",
      "--- GRADE CHUNK RELEVANCE TO QUESTION ❔ ---\n",
      "--- GRADE CHUNK RELEVANCE TO QUESTION ❔ ---\n",
      "--- GRADE CHUNK RELEVANCE TO QUESTION ❔ ---\n",
      "--- GRADE CHUNK RELEVANCE TO QUESTION ❔ ---\n",
      "--- GRADE CHUNK RELEVANCE TO QUESTION ❔ ---\n",
      "--- GRADE CHUNK RELEVANCE TO QUESTION ❔ ---\n",
      "--- GRADE CHUNK RELEVANCE TO QUESTION ❔ ---\n",
      "--- GRADE CHUNK RELEVANCE TO QUESTION ❔ ---\n",
      "--- GRADE CHUNK RELEVANCE TO QUESTION ❔ ---\n",
      "--- GRADE CHUNK RELEVANCE TO QUESTION ❔ ---\n",
      "--- GRADE: RELEVANT CHUNK ✅ ---\n",
      "--- SUMMARIZE CHUNK 📝📚 ---\n",
      "--- GRADE: NOT RELEVANT CHUNK 🗑️ ---\n",
      "--- SET RETRIEVAL GRADE OUTPUT KO ❌ ---\n",
      "--- GRADE: RELEVANT CHUNK ✅ ---\n",
      "--- SUMMARIZE CHUNK 📝📚 ---\n",
      "--- GRADE: NOT RELEVANT CHUNK 🗑️ ---\n",
      "--- SET RETRIEVAL GRADE OUTPUT KO ❌ ---\n",
      "--- GRADE: RELEVANT CHUNK ✅ ---\n",
      "--- SUMMARIZE CHUNK 📝📚 ---\n",
      "--- GRADE: RELEVANT CHUNK ✅ ---\n",
      "--- SUMMARIZE CHUNK 📝📚 ---\n",
      "--- GRADE: NOT RELEVANT CHUNK 🗑️ ---\n",
      "--- SET RETRIEVAL GRADE OUTPUT KO ❌ ---\n",
      "--- GRADE: NOT RELEVANT CHUNK 🗑️ ---\n",
      "--- SET RETRIEVAL GRADE OUTPUT KO ❌ ---\n",
      "--- GRADE: NOT RELEVANT CHUNK 🗑️ ---\n",
      "--- SET RETRIEVAL GRADE OUTPUT KO ❌ ---\n",
      "--- GRADE: NOT RELEVANT CHUNK 🗑️ ---\n",
      "--- SET RETRIEVAL GRADE OUTPUT KO ❌ ---\n",
      "--- GRADE: NOT RELEVANT CHUNK 🗑️ ---\n",
      "--- SET RETRIEVAL GRADE OUTPUT KO ❌ ---\n",
      "--- GRADE: RELEVANT CHUNK ✅ ---\n",
      "--- SUMMARIZE CHUNK 📝📚 ---\n"
     ]
    },
    {
     "name": "stderr",
     "output_type": "stream",
     "text": [
      "WARNING:langchain_core.vectorstores.base:No relevant docs were retrieved using the relevance score threshold 0.75\n"
     ]
    },
    {
     "name": "stdout",
     "output_type": "stream",
     "text": [
      "--- CHECK ITERATIONS 🔁 ---\n",
      "--- GRADE HALLUCINATIONS 👻 ---\n",
      "--- DECISION: GENERATION IS GROUNDED IN DOCUMENTS ✅ ---\n",
      "--- CHECK ITERATIONS 🔁 ---\n",
      "--- GRADE HALLUCINATIONS 👻 ---\n",
      "--- DECISION: GENERATION ADDRESSES QUESTION ✅ ---\n",
      "--- DECISION: GENERATION IS GROUNDED IN DOCUMENTS ✅ ---\n",
      "--- DECISION: GENERATION ADDRESSES QUESTION ✅ ---\n"
     ]
    },
    {
     "name": "stderr",
     "output_type": "stream",
     "text": [
      "WARNING:langchain_core.vectorstores.base:No relevant docs were retrieved using the relevance score threshold 0.75\n"
     ]
    },
    {
     "name": "stdout",
     "output_type": "stream",
     "text": [
      "--- CHECK ITERATIONS 🔁 ---\n",
      "--- GRADE HALLUCINATIONS 👻 ---\n",
      "--- DECISION: GENERATION IS GROUNDED IN DOCUMENTS ✅ ---\n",
      "--- DECISION: GENERATION ADDRESSES QUESTION ✅ ---\n"
     ]
    },
    {
     "name": "stderr",
     "output_type": "stream",
     "text": [
      "WARNING:langchain_core.vectorstores.base:No relevant docs were retrieved using the relevance score threshold 0.75\n"
     ]
    },
    {
     "name": "stdout",
     "output_type": "stream",
     "text": [
      "--- CHECK ITERATIONS 🔁 ---\n",
      "--- GRADE HALLUCINATIONS 👻 ---\n",
      "--- DECISION: GENERATION IS GROUNDED IN DOCUMENTS ✅ ---\n",
      "--- DECISION: GENERATION ADDRESSES QUESTION ✅ ---\n",
      "--- CHECK ITERATIONS 🔁 ---\n",
      "--- GRADE HALLUCINATIONS 👻 ---\n",
      "--- DECISION: GENERATION IS GROUNDED IN DOCUMENTS ✅ ---\n",
      "--- DECISION: GENERATION ADDRESSES QUESTION ✅ ---\n",
      "--- SUMMARIZE BUSINES LOGIC 📝👨‍💼 ---\n"
     ]
    },
    {
     "name": "stderr",
     "output_type": "stream",
     "text": [
      "WARNING:langchain_core.vectorstores.base:No relevant docs were retrieved using the relevance score threshold 0.75\n"
     ]
    },
    {
     "name": "stdout",
     "output_type": "stream",
     "text": [
      "--- PARALLELIZE GENERATION 🔢 ---\n",
      "--- GRADE CHUNK RELEVANCE TO QUESTION ❔ ---\n",
      "--- GRADE CHUNK RELEVANCE TO QUESTION ❔ ---\n",
      "--- GRADE CHUNK RELEVANCE TO QUESTION ❔ ---\n",
      "--- GRADE CHUNK RELEVANCE TO QUESTION ❔ ---\n",
      "--- GRADE CHUNK RELEVANCE TO QUESTION ❔ ---\n",
      "--- GRADE CHUNK RELEVANCE TO QUESTION ❔ ---\n",
      "--- GRADE CHUNK RELEVANCE TO QUESTION ❔ ---\n",
      "--- GRADE CHUNK RELEVANCE TO QUESTION ❔ ---\n",
      "--- GRADE CHUNK RELEVANCE TO QUESTION ❔ ---\n",
      "--- GRADE: RELEVANT CHUNK ✅ ---\n",
      "--- SUMMARIZE CHUNK 📝📚 ---\n",
      "--- GRADE: NOT RELEVANT CHUNK 🗑️ ---\n",
      "--- SET RETRIEVAL GRADE OUTPUT KO ❌ ---\n",
      "--- GRADE: NOT RELEVANT CHUNK 🗑️ ---\n",
      "--- SET RETRIEVAL GRADE OUTPUT KO ❌ ---\n",
      "--- GRADE: RELEVANT CHUNK ✅ ---\n",
      "--- SUMMARIZE CHUNK 📝📚 ---\n",
      "--- GRADE: NOT RELEVANT CHUNK 🗑️ ---\n",
      "--- SET RETRIEVAL GRADE OUTPUT KO ❌ ---\n",
      "--- GRADE: NOT RELEVANT CHUNK 🗑️ ---\n",
      "--- SET RETRIEVAL GRADE OUTPUT KO ❌ ---\n",
      "--- GRADE: NOT RELEVANT CHUNK 🗑️ ---\n",
      "--- SET RETRIEVAL GRADE OUTPUT KO ❌ ---\n",
      "--- GRADE: NOT RELEVANT CHUNK 🗑️ ---\n",
      "--- SET RETRIEVAL GRADE OUTPUT KO ❌ ---\n",
      "--- GRADE: NOT RELEVANT CHUNK 🗑️ ---\n",
      "--- SET RETRIEVAL GRADE OUTPUT KO ❌ ---\n",
      "--- CHECK ITERATIONS 🔁 ---\n",
      "--- GRADE HALLUCINATIONS 👻 ---\n",
      "--- DECISION: GENERATION IS GROUNDED IN DOCUMENTS ✅ ---\n",
      "--- DECISION: GENERATION ADDRESSES QUESTION ✅ ---\n",
      "--- CHECK ITERATIONS 🔁 ---\n",
      "--- GRADE HALLUCINATIONS 👻 ---\n",
      "--- DECISION: GENERATION IS GROUNDED IN DOCUMENTS ✅ ---\n",
      "--- DECISION: GENERATION ADDRESSES QUESTION ✅ ---\n",
      "--- SUMMARIZE MDL 📝🗂️ ---\n",
      "--- EXTRACT DB SCHEMA 🧮 ---\n",
      "--- GRADE CONTEXT SUMMARIES 🔍 ---\n",
      "--- GENERATE GLOBAL CONTEXT 📝🌐 ---\n",
      "---QUERY EXAMPLES RETRIEVE TOOL---\n",
      "\n",
      "--- INICIANDO COMPROBACIÓN DE CONEXIÓN A BBDD ⚙️ ---\n",
      "✅ Conexión a la base de datos establecida correctamente.\n",
      "\n",
      "--- INICIANDO FASE DE EXTRACCIÓN DE TABLAS CON LLM 🧮 ---\n",
      "Tablas detectadas por el LLM: ['fact_sales', 'dim_sales_territory', 'dim_product']\n",
      "\n",
      "--- INICIANDO FASE DE JUEZ DE COHERENCIA 👩‍⚖️ ---\n",
      "\n",
      "Veredicto del juez: COHERENTE ✅\n",
      "\n",
      "--- PASANDO A FASE DE EJECUCIÓN EN POSTGRESQL ---\n",
      "\n",
      "\n",
      "✅ Query ejecutada correctamente.\n",
      "\n",
      "--- INICIANDO GENERACIÓN DE CONCLUSIONES 📝 ---\n",
      "\n",
      "--- INICIANDO EXPLICACIÓN DE CONSULTA SQL 🗂️ ---\n",
      "\n",
      "--- INICIANDO GENERACIÓN DE GRÁFICOS 📊 ---\n",
      "--- 🥁 GENERATE FINAL RESPONSE 🥁 ---\n"
     ]
    },
    {
     "data": {
      "text/plain": [
       "{'global_execution_ok': True,\n",
       " 'nl_output': '1. La división territorial con mayores ventas B2C en el último mes es North America.  \\n2. La categoría de producto con mayor facturación es Bicicleta en todas las divisiones territoriales.  \\n3. North America lidera en ventas de Bicicletas con 544,794.76 unidades monetarias.  \\n4. Europe ocupa el segundo lugar en ventas totales de Bicicletas con 500,861.65.  \\n5. Pacific presenta el menor volumen de ventas en Bicicletas con 415,836.86.  \\n6. En la categoría Accesorio, North America también registra el mayor total con 28,795.51.  \\n7. Europe y Pacific tienen ventas de Accesorios significativamente menores, 17,933.25 y 13,008.23 respectivamente.  \\n8. Las ventas de Prendas son las más bajas en comparación con las otras categorías en todas las divisiones.  \\n9. North America lidera en ventas de Prendas con 16,873.05, seguida por Europe y Pacific con cifras inferiores a 7,000.  \\n10. La distribución de ventas muestra una clara concentración en Bicicletas, seguida por Accesorios y finalmente Prendas.',\n",
       " 'sql_query': \"SELECT\\n  COALESCE(dst.sales_territory_group, dst.sales_territory_country, dst.sales_territory_region) AS division_territorial,\\n  COALESCE(dp.spanish_product_category_name, dp.english_product_category_name) AS categoria_producto,\\n  SUM(COALESCE(fs.sales_amount, 0)) AS total_ventas\\nFROM\\n  sales.fact_sales fs\\n  JOIN sales.dim_sales_territory dst ON fs.sales_territory_key = dst.sales_territory_key\\n  JOIN sales.dim_product dp ON fs.product_key = dp.product_key\\nWHERE\\n  fs.sale_source = 'internet_sales'\\n  AND fs.order_date >= date_trunc('month', CURRENT_DATE - interval '1 month')\\n  AND fs.order_date < date_trunc('month', CURRENT_DATE)\\nGROUP BY\\n  division_territorial,\\n  categoria_producto\\nORDER BY\\n  total_ventas DESC\",\n",
       " 'query_results': [{'division_territorial': 'North America', 'categoria_producto': 'Bicicleta', 'total_ventas': Decimal('544794.7600')},\n",
       "  {'division_territorial': 'Europe', 'categoria_producto': 'Bicicleta', 'total_ventas': Decimal('500861.6500')},\n",
       "  {'division_territorial': 'Pacific', 'categoria_producto': 'Bicicleta', 'total_ventas': Decimal('415836.8600')},\n",
       "  {'division_territorial': 'North America', 'categoria_producto': 'Accesorio', 'total_ventas': Decimal('28795.5100')},\n",
       "  {'division_territorial': 'Europe', 'categoria_producto': 'Accesorio', 'total_ventas': Decimal('17933.2500')},\n",
       "  {'division_territorial': 'North America', 'categoria_producto': 'Prenda', 'total_ventas': Decimal('16873.0500')},\n",
       "  {'division_territorial': 'Pacific', 'categoria_producto': 'Accesorio', 'total_ventas': Decimal('13008.2300')},\n",
       "  {'division_territorial': 'Europe', 'categoria_producto': 'Prenda', 'total_ventas': Decimal('6782.0200')},\n",
       "  {'division_territorial': 'Pacific', 'categoria_producto': 'Prenda', 'total_ventas': Decimal('6180.2300')}],\n",
       " 'sql_explanation': '## Análisis de la Lógica de la Consulta\\n\\nLa consulta obtiene el total de ventas realizadas a través de internet (ventas B2C) durante el último mes completo. Para ello, une la tabla de hechos de ventas con las tablas de dimensiones de territorio y producto, lo que permite clasificar las ventas según la división territorial y la categoría del producto. Se utiliza la función COALESCE para seleccionar el nivel más específico disponible de división territorial y para mostrar el nombre de la categoría del producto en español o inglés, según esté disponible. El filtro de fechas asegura que solo se consideren las ventas del mes anterior al mes actual, y finalmente se agrupan los resultados por división territorial y categoría para sumar el total de ventas en cada combinación.\\n\\n## Conclusión y Resultados Clave\\n\\nCon esta consulta se obtiene un desglose claro del volumen total de ventas B2C del último mes, segmentado por las diferentes divisiones territoriales y categorías de productos. Esto permite identificar qué regiones y qué tipos de productos generaron mayores ingresos en ese período, facilitando la toma de decisiones comerciales basadas en el desempeño reciente.',\n",
       " 'graphics_json': '{\\n  \"dashboard_title\": \"Ventas Totales B2C Último Mes por División Territorial y Categoría de Producto\",\\n  \"charts\": [\\n    {\\n      \"data\": [\\n        {\\n          \"type\": \"pie\",\\n          \"labels\": [\"North America\", \"Europe\", \"Pacific\"],\\n          \"values\": [591463.32, 526576.92, 433025.32],\\n          \"marker\": {\"colors\": [\"#1f77b4\", \"#ff7f0e\", \"#2ca02c\"]},\\n          \"hoverinfo\": \"label+value+percent\",\\n          \"textinfo\": \"label+percent\",\\n          \"name\": \"Total Ventas por División\"\\n        }\\n      ],\\n      \"layout\": {\\n        \"title\": \"Distribución Total de Ventas B2C por División Territorial\",\\n        \"legend\": {\"title\": {\"text\": \"Divisiones\"}},\\n        \"plot_bgcolor\": \"#f9f9f9\",\\n        \"paper_bgcolor\": \"#ffffff\"\\n      }\\n    },\\n    {\\n      \"data\": [\\n        {\\n          \"type\": \"bar\",\\n          \"x\": [\"North America\", \"Europe\", \"Pacific\"],\\n          \"y\": [544794.76, 500861.65, 415836.86],\\n          \"name\": \"Bicicleta\",\\n          \"marker\": {\"color\": \"#1f77b4\"}\\n        },\\n        {\\n          \"type\": \"bar\",\\n          \"x\": [\"North America\", \"Europe\", \"Pacific\"],\\n          \"y\": [28795.51, 17933.25, 13008.23],\\n          \"name\": \"Accesorio\",\\n          \"marker\": {\"color\": \"#ff7f0e\"}\\n        },\\n        {\\n          \"type\": \"bar\",\\n          \"x\": [\"North America\", \"Europe\", \"Pacific\"],\\n          \"y\": [16873.05, 6782.02, 6180.23],\\n          \"name\": \"Prenda\",\\n          \"marker\": {\"color\": \"#2ca02c\"}\\n        }\\n      ],\\n      \"layout\": {\\n        \"title\": \"Ventas B2C por División Territorial y Categoría de Producto\",\\n        \"xaxis\": {\"title\": \"División Territorial\"},\\n        \"yaxis\": {\"title\": \"Total Ventas (USD)\"},\\n        \"barmode\": \"group\",\\n        \"plot_bgcolor\": \"#f9f9f9\",\\n        \"paper_bgcolor\": \"#ffffff\",\\n        \"legend\": {\"title\": {\"text\": \"Categorías\"}}\\n      }\\n    },\\n    {\\n      \"data\": [\\n        {\\n          \"type\": \"scatter\",\\n          \"mode\": \"markers\",\\n          \"x\": [\"North America\", \"Europe\", \"Pacific\"],\\n          \"y\": [544794.76, 500861.65, 415836.86],\\n          \"name\": \"Bicicleta\",\\n          \"marker\": {\"size\": [54, 50, 41], \"color\": \"#1f77b4\"}\\n        },\\n        {\\n          \"type\": \"scatter\",\\n          \"mode\": \"markers\",\\n          \"x\": [\"North America\", \"Europe\", \"Pacific\"],\\n          \"y\": [28795.51, 17933.25, 13008.23],\\n          \"name\": \"Accesorio\",\\n          \"marker\": {\"size\": [2.9, 1.7, 1.3], \"color\": \"#ff7f0e\"}\\n        },\\n        {\\n          \"type\": \"scatter\",\\n          \"mode\": \"markers\",\\n          \"x\": [\"North America\", \"Europe\", \"Pacific\"],\\n          \"y\": [16873.05, 6782.02, 6180.23],\\n          \"name\": \"Prenda\",\\n          \"marker\": {\"size\": [1.7, 0.7, 0.6], \"color\": \"#2ca02c\"}\\n        }\\n      ],\\n      \"layout\": {\\n        \"title\": \"Comparación Visual de Ventas por Categoría y División\",\\n        \"xaxis\": {\"title\": \"División Territorial\"},\\n        \"yaxis\": {\"title\": \"Total Ventas (USD)\"},\\n        \"plot_bgcolor\": \"#f9f9f9\",\\n        \"paper_bgcolor\": \"#ffffff\",\\n        \"legend\": {\"title\": {\"text\": \"Categorías\"}}\\n      }\\n    },\\n    {\\n      \"data\": [\\n        {\\n          \"type\": \"bar\",\\n          \"x\": [\"Bicicleta\", \"Accesorio\", \"Prenda\"],\\n          \"y\": [1462493.27, 59736.99, 29735.30],\\n          \"marker\": {\"color\": [\"#1f77b4\", \"#ff7f0e\", \"#2ca02c\"]},\\n          \"name\": \"Ventas Totales por Categoría\"\\n        }\\n      ],\\n      \"layout\": {\\n        \"title\": \"Ventas Totales B2C por Categoría de Producto\",\\n        \"xaxis\": {\"title\": \"Categoría de Producto\"},\\n        \"yaxis\": {\"title\": \"Total Ventas (USD)\"},\\n        \"plot_bgcolor\": \"#f9f9f9\",\\n        \"paper_bgcolor\": \"#ffffff\"\\n      }\\n    }\\n  ]\\n}'}"
      ]
     },
     "execution_count": 5,
     "metadata": {},
     "output_type": "execute_result"
    }
   ],
   "source": [
    "logging.basicConfig(level=logging.WARNING)\n",
    "\n",
    "result = main_graph.invoke({\n",
    "    \"user_query\": \"Quiero saber el total de ventas B2C para el último mes, desglosado por división terrirotial y categoría de productos.\",\n",
    "})\n",
    "\n",
    "result"
   ]
  },
  {
   "cell_type": "code",
   "execution_count": 6,
   "id": "fcc9eb1f",
   "metadata": {},
   "outputs": [
    {
     "name": "stdout",
     "output_type": "stream",
     "text": [
      "SELECT\n",
      "  COALESCE(dst.sales_territory_group, dst.sales_territory_country, dst.sales_territory_region) AS division_territorial,\n",
      "  COALESCE(dp.spanish_product_category_name, dp.english_product_category_name) AS categoria_producto,\n",
      "  SUM(COALESCE(fs.sales_amount, 0)) AS total_ventas\n",
      "FROM\n",
      "  sales.fact_sales fs\n",
      "  JOIN sales.dim_sales_territory dst ON fs.sales_territory_key = dst.sales_territory_key\n",
      "  JOIN sales.dim_product dp ON fs.product_key = dp.product_key\n",
      "WHERE\n",
      "  fs.sale_source = 'internet_sales'\n",
      "  AND fs.order_date >= date_trunc('month', CURRENT_DATE - interval '1 month')\n",
      "  AND fs.order_date < date_trunc('month', CURRENT_DATE)\n",
      "GROUP BY\n",
      "  division_territorial,\n",
      "  categoria_producto\n",
      "ORDER BY\n",
      "  total_ventas DESC\n"
     ]
    }
   ],
   "source": [
    "print(result['sql_query'])"
   ]
  },
  {
   "cell_type": "code",
   "execution_count": 7,
   "id": "94389a7d",
   "metadata": {},
   "outputs": [
    {
     "name": "stdout",
     "output_type": "stream",
     "text": [
      "[{'division_territorial': 'North America', 'categoria_producto': 'Bicicleta', 'total_ventas': Decimal('544794.7600')}, {'division_territorial': 'Europe', 'categoria_producto': 'Bicicleta', 'total_ventas': Decimal('500861.6500')}, {'division_territorial': 'Pacific', 'categoria_producto': 'Bicicleta', 'total_ventas': Decimal('415836.8600')}, {'division_territorial': 'North America', 'categoria_producto': 'Accesorio', 'total_ventas': Decimal('28795.5100')}, {'division_territorial': 'Europe', 'categoria_producto': 'Accesorio', 'total_ventas': Decimal('17933.2500')}, {'division_territorial': 'North America', 'categoria_producto': 'Prenda', 'total_ventas': Decimal('16873.0500')}, {'division_territorial': 'Pacific', 'categoria_producto': 'Accesorio', 'total_ventas': Decimal('13008.2300')}, {'division_territorial': 'Europe', 'categoria_producto': 'Prenda', 'total_ventas': Decimal('6782.0200')}, {'division_territorial': 'Pacific', 'categoria_producto': 'Prenda', 'total_ventas': Decimal('6180.2300')}]\n"
     ]
    }
   ],
   "source": [
    "print(result['query_results'])"
   ]
  },
  {
   "cell_type": "code",
   "execution_count": 8,
   "id": "4a0ab447",
   "metadata": {},
   "outputs": [
    {
     "name": "stdout",
     "output_type": "stream",
     "text": [
      "1. La división territorial con mayores ventas B2C en el último mes es North America.  \n",
      "2. La categoría de producto con mayor facturación es Bicicleta en todas las divisiones territoriales.  \n",
      "3. North America lidera en ventas de Bicicletas con 544,794.76 unidades monetarias.  \n",
      "4. Europe ocupa el segundo lugar en ventas totales de Bicicletas con 500,861.65.  \n",
      "5. Pacific presenta el menor volumen de ventas en Bicicletas con 415,836.86.  \n",
      "6. En la categoría Accesorio, North America también registra el mayor total con 28,795.51.  \n",
      "7. Europe y Pacific tienen ventas de Accesorios significativamente menores, 17,933.25 y 13,008.23 respectivamente.  \n",
      "8. Las ventas de Prendas son las más bajas en comparación con las otras categorías en todas las divisiones.  \n",
      "9. North America lidera en ventas de Prendas con 16,873.05, seguida por Europe y Pacific con cifras inferiores a 7,000.  \n",
      "10. La distribución de ventas muestra una clara concentración en Bicicletas, seguida por Accesorios y finalmente Prendas.\n"
     ]
    }
   ],
   "source": [
    "print(result['nl_output'])"
   ]
  },
  {
   "cell_type": "code",
   "execution_count": 9,
   "id": "9767f21f",
   "metadata": {},
   "outputs": [
    {
     "name": "stdout",
     "output_type": "stream",
     "text": [
      "## Análisis de la Lógica de la Consulta\n",
      "\n",
      "La consulta obtiene el total de ventas realizadas a través de internet (ventas B2C) durante el último mes completo. Para ello, une la tabla de hechos de ventas con las tablas de dimensiones de territorio y producto, lo que permite clasificar las ventas según la división territorial y la categoría del producto. Se utiliza la función COALESCE para seleccionar el nivel más específico disponible de división territorial y para mostrar el nombre de la categoría del producto en español o inglés, según esté disponible. El filtro de fechas asegura que solo se consideren las ventas del mes anterior al mes actual, y finalmente se agrupan los resultados por división territorial y categoría para sumar el total de ventas en cada combinación.\n",
      "\n",
      "## Conclusión y Resultados Clave\n",
      "\n",
      "Con esta consulta se obtiene un desglose claro del volumen total de ventas B2C del último mes, segmentado por las diferentes divisiones territoriales y categorías de productos. Esto permite identificar qué regiones y qué tipos de productos generaron mayores ingresos en ese período, facilitando la toma de decisiones comerciales basadas en el desempeño reciente.\n"
     ]
    }
   ],
   "source": [
    "print(result['sql_explanation'])"
   ]
  },
  {
   "cell_type": "code",
   "execution_count": 10,
   "id": "1bb34672",
   "metadata": {},
   "outputs": [
    {
     "data": {
      "application/vnd.plotly.v1+json": {
       "config": {
        "plotlyServerURL": "https://plot.ly"
       },
       "data": [
        {
         "domain": {
          "x": [
           0,
           0.45
          ],
          "y": [
           0.625,
           1
          ]
         },
         "hoverinfo": "label+value+percent",
         "labels": [
          "North America",
          "Europe",
          "Pacific"
         ],
         "marker": {
          "colors": [
           "#1f77b4",
           "#ff7f0e",
           "#2ca02c"
          ]
         },
         "name": "Total Ventas por División",
         "textinfo": "label+percent",
         "type": "pie",
         "values": [
          591463.32,
          526576.92,
          433025.32
         ]
        },
        {
         "marker": {
          "color": "#1f77b4"
         },
         "name": "Bicicleta",
         "type": "bar",
         "x": [
          "North America",
          "Europe",
          "Pacific"
         ],
         "xaxis": "x",
         "y": [
          544794.76,
          500861.65,
          415836.86
         ],
         "yaxis": "y"
        },
        {
         "marker": {
          "color": "#1f77b4",
          "size": [
           54,
           50,
           41
          ]
         },
         "mode": "markers",
         "name": "Bicicleta",
         "type": "scatter",
         "x": [
          "North America",
          "Europe",
          "Pacific"
         ],
         "xaxis": "x2",
         "y": [
          544794.76,
          500861.65,
          415836.86
         ],
         "yaxis": "y2"
        },
        {
         "marker": {
          "color": [
           "#1f77b4",
           "#ff7f0e",
           "#2ca02c"
          ]
         },
         "name": "Ventas Totales por Categoría",
         "type": "bar",
         "x": [
          "Bicicleta",
          "Accesorio",
          "Prenda"
         ],
         "xaxis": "x3",
         "y": [
          1462493.27,
          59736.99,
          29735.3
         ],
         "yaxis": "y3"
        }
       ],
       "layout": {
        "annotations": [
         {
          "font": {
           "size": 16
          },
          "showarrow": false,
          "text": "Distribución Total de Ventas B2C por División Territorial",
          "x": 0.225,
          "xanchor": "center",
          "xref": "paper",
          "y": 1,
          "yanchor": "bottom",
          "yref": "paper"
         },
         {
          "font": {
           "size": 16
          },
          "showarrow": false,
          "text": "Ventas B2C por División Territorial y Categoría de Producto",
          "x": 0.775,
          "xanchor": "center",
          "xref": "paper",
          "y": 1,
          "yanchor": "bottom",
          "yref": "paper"
         },
         {
          "font": {
           "size": 16
          },
          "showarrow": false,
          "text": "Comparación Visual de Ventas por Categoría y División",
          "x": 0.225,
          "xanchor": "center",
          "xref": "paper",
          "y": 0.375,
          "yanchor": "bottom",
          "yref": "paper"
         },
         {
          "font": {
           "size": 16
          },
          "showarrow": false,
          "text": "Ventas Totales B2C por Categoría de Producto",
          "x": 0.775,
          "xanchor": "center",
          "xref": "paper",
          "y": 0.375,
          "yanchor": "bottom",
          "yref": "paper"
         }
        ],
        "autosize": true,
        "font": {
         "family": "Arial, sans-serif",
         "size": 12
        },
        "height": 900,
        "margin": {
         "b": 50,
         "l": 50,
         "r": 50,
         "t": 80
        },
        "paper_bgcolor": "#f2f2f2",
        "plot_bgcolor": "#ffffff",
        "template": {
         "data": {
          "bar": [
           {
            "error_x": {
             "color": "#2a3f5f"
            },
            "error_y": {
             "color": "#2a3f5f"
            },
            "marker": {
             "line": {
              "color": "#E5ECF6",
              "width": 0.5
             },
             "pattern": {
              "fillmode": "overlay",
              "size": 10,
              "solidity": 0.2
             }
            },
            "type": "bar"
           }
          ],
          "barpolar": [
           {
            "marker": {
             "line": {
              "color": "#E5ECF6",
              "width": 0.5
             },
             "pattern": {
              "fillmode": "overlay",
              "size": 10,
              "solidity": 0.2
             }
            },
            "type": "barpolar"
           }
          ],
          "carpet": [
           {
            "aaxis": {
             "endlinecolor": "#2a3f5f",
             "gridcolor": "white",
             "linecolor": "white",
             "minorgridcolor": "white",
             "startlinecolor": "#2a3f5f"
            },
            "baxis": {
             "endlinecolor": "#2a3f5f",
             "gridcolor": "white",
             "linecolor": "white",
             "minorgridcolor": "white",
             "startlinecolor": "#2a3f5f"
            },
            "type": "carpet"
           }
          ],
          "choropleth": [
           {
            "colorbar": {
             "outlinewidth": 0,
             "ticks": ""
            },
            "type": "choropleth"
           }
          ],
          "contour": [
           {
            "colorbar": {
             "outlinewidth": 0,
             "ticks": ""
            },
            "colorscale": [
             [
              0,
              "#0d0887"
             ],
             [
              0.1111111111111111,
              "#46039f"
             ],
             [
              0.2222222222222222,
              "#7201a8"
             ],
             [
              0.3333333333333333,
              "#9c179e"
             ],
             [
              0.4444444444444444,
              "#bd3786"
             ],
             [
              0.5555555555555556,
              "#d8576b"
             ],
             [
              0.6666666666666666,
              "#ed7953"
             ],
             [
              0.7777777777777778,
              "#fb9f3a"
             ],
             [
              0.8888888888888888,
              "#fdca26"
             ],
             [
              1,
              "#f0f921"
             ]
            ],
            "type": "contour"
           }
          ],
          "contourcarpet": [
           {
            "colorbar": {
             "outlinewidth": 0,
             "ticks": ""
            },
            "type": "contourcarpet"
           }
          ],
          "heatmap": [
           {
            "colorbar": {
             "outlinewidth": 0,
             "ticks": ""
            },
            "colorscale": [
             [
              0,
              "#0d0887"
             ],
             [
              0.1111111111111111,
              "#46039f"
             ],
             [
              0.2222222222222222,
              "#7201a8"
             ],
             [
              0.3333333333333333,
              "#9c179e"
             ],
             [
              0.4444444444444444,
              "#bd3786"
             ],
             [
              0.5555555555555556,
              "#d8576b"
             ],
             [
              0.6666666666666666,
              "#ed7953"
             ],
             [
              0.7777777777777778,
              "#fb9f3a"
             ],
             [
              0.8888888888888888,
              "#fdca26"
             ],
             [
              1,
              "#f0f921"
             ]
            ],
            "type": "heatmap"
           }
          ],
          "histogram": [
           {
            "marker": {
             "pattern": {
              "fillmode": "overlay",
              "size": 10,
              "solidity": 0.2
             }
            },
            "type": "histogram"
           }
          ],
          "histogram2d": [
           {
            "colorbar": {
             "outlinewidth": 0,
             "ticks": ""
            },
            "colorscale": [
             [
              0,
              "#0d0887"
             ],
             [
              0.1111111111111111,
              "#46039f"
             ],
             [
              0.2222222222222222,
              "#7201a8"
             ],
             [
              0.3333333333333333,
              "#9c179e"
             ],
             [
              0.4444444444444444,
              "#bd3786"
             ],
             [
              0.5555555555555556,
              "#d8576b"
             ],
             [
              0.6666666666666666,
              "#ed7953"
             ],
             [
              0.7777777777777778,
              "#fb9f3a"
             ],
             [
              0.8888888888888888,
              "#fdca26"
             ],
             [
              1,
              "#f0f921"
             ]
            ],
            "type": "histogram2d"
           }
          ],
          "histogram2dcontour": [
           {
            "colorbar": {
             "outlinewidth": 0,
             "ticks": ""
            },
            "colorscale": [
             [
              0,
              "#0d0887"
             ],
             [
              0.1111111111111111,
              "#46039f"
             ],
             [
              0.2222222222222222,
              "#7201a8"
             ],
             [
              0.3333333333333333,
              "#9c179e"
             ],
             [
              0.4444444444444444,
              "#bd3786"
             ],
             [
              0.5555555555555556,
              "#d8576b"
             ],
             [
              0.6666666666666666,
              "#ed7953"
             ],
             [
              0.7777777777777778,
              "#fb9f3a"
             ],
             [
              0.8888888888888888,
              "#fdca26"
             ],
             [
              1,
              "#f0f921"
             ]
            ],
            "type": "histogram2dcontour"
           }
          ],
          "mesh3d": [
           {
            "colorbar": {
             "outlinewidth": 0,
             "ticks": ""
            },
            "type": "mesh3d"
           }
          ],
          "parcoords": [
           {
            "line": {
             "colorbar": {
              "outlinewidth": 0,
              "ticks": ""
             }
            },
            "type": "parcoords"
           }
          ],
          "pie": [
           {
            "automargin": true,
            "type": "pie"
           }
          ],
          "scatter": [
           {
            "fillpattern": {
             "fillmode": "overlay",
             "size": 10,
             "solidity": 0.2
            },
            "type": "scatter"
           }
          ],
          "scatter3d": [
           {
            "line": {
             "colorbar": {
              "outlinewidth": 0,
              "ticks": ""
             }
            },
            "marker": {
             "colorbar": {
              "outlinewidth": 0,
              "ticks": ""
             }
            },
            "type": "scatter3d"
           }
          ],
          "scattercarpet": [
           {
            "marker": {
             "colorbar": {
              "outlinewidth": 0,
              "ticks": ""
             }
            },
            "type": "scattercarpet"
           }
          ],
          "scattergeo": [
           {
            "marker": {
             "colorbar": {
              "outlinewidth": 0,
              "ticks": ""
             }
            },
            "type": "scattergeo"
           }
          ],
          "scattergl": [
           {
            "marker": {
             "colorbar": {
              "outlinewidth": 0,
              "ticks": ""
             }
            },
            "type": "scattergl"
           }
          ],
          "scattermap": [
           {
            "marker": {
             "colorbar": {
              "outlinewidth": 0,
              "ticks": ""
             }
            },
            "type": "scattermap"
           }
          ],
          "scattermapbox": [
           {
            "marker": {
             "colorbar": {
              "outlinewidth": 0,
              "ticks": ""
             }
            },
            "type": "scattermapbox"
           }
          ],
          "scatterpolar": [
           {
            "marker": {
             "colorbar": {
              "outlinewidth": 0,
              "ticks": ""
             }
            },
            "type": "scatterpolar"
           }
          ],
          "scatterpolargl": [
           {
            "marker": {
             "colorbar": {
              "outlinewidth": 0,
              "ticks": ""
             }
            },
            "type": "scatterpolargl"
           }
          ],
          "scatterternary": [
           {
            "marker": {
             "colorbar": {
              "outlinewidth": 0,
              "ticks": ""
             }
            },
            "type": "scatterternary"
           }
          ],
          "surface": [
           {
            "colorbar": {
             "outlinewidth": 0,
             "ticks": ""
            },
            "colorscale": [
             [
              0,
              "#0d0887"
             ],
             [
              0.1111111111111111,
              "#46039f"
             ],
             [
              0.2222222222222222,
              "#7201a8"
             ],
             [
              0.3333333333333333,
              "#9c179e"
             ],
             [
              0.4444444444444444,
              "#bd3786"
             ],
             [
              0.5555555555555556,
              "#d8576b"
             ],
             [
              0.6666666666666666,
              "#ed7953"
             ],
             [
              0.7777777777777778,
              "#fb9f3a"
             ],
             [
              0.8888888888888888,
              "#fdca26"
             ],
             [
              1,
              "#f0f921"
             ]
            ],
            "type": "surface"
           }
          ],
          "table": [
           {
            "cells": {
             "fill": {
              "color": "#EBF0F8"
             },
             "line": {
              "color": "white"
             }
            },
            "header": {
             "fill": {
              "color": "#C8D4E3"
             },
             "line": {
              "color": "white"
             }
            },
            "type": "table"
           }
          ]
         },
         "layout": {
          "annotationdefaults": {
           "arrowcolor": "#2a3f5f",
           "arrowhead": 0,
           "arrowwidth": 1
          },
          "autotypenumbers": "strict",
          "coloraxis": {
           "colorbar": {
            "outlinewidth": 0,
            "ticks": ""
           }
          },
          "colorscale": {
           "diverging": [
            [
             0,
             "#8e0152"
            ],
            [
             0.1,
             "#c51b7d"
            ],
            [
             0.2,
             "#de77ae"
            ],
            [
             0.3,
             "#f1b6da"
            ],
            [
             0.4,
             "#fde0ef"
            ],
            [
             0.5,
             "#f7f7f7"
            ],
            [
             0.6,
             "#e6f5d0"
            ],
            [
             0.7,
             "#b8e186"
            ],
            [
             0.8,
             "#7fbc41"
            ],
            [
             0.9,
             "#4d9221"
            ],
            [
             1,
             "#276419"
            ]
           ],
           "sequential": [
            [
             0,
             "#0d0887"
            ],
            [
             0.1111111111111111,
             "#46039f"
            ],
            [
             0.2222222222222222,
             "#7201a8"
            ],
            [
             0.3333333333333333,
             "#9c179e"
            ],
            [
             0.4444444444444444,
             "#bd3786"
            ],
            [
             0.5555555555555556,
             "#d8576b"
            ],
            [
             0.6666666666666666,
             "#ed7953"
            ],
            [
             0.7777777777777778,
             "#fb9f3a"
            ],
            [
             0.8888888888888888,
             "#fdca26"
            ],
            [
             1,
             "#f0f921"
            ]
           ],
           "sequentialminus": [
            [
             0,
             "#0d0887"
            ],
            [
             0.1111111111111111,
             "#46039f"
            ],
            [
             0.2222222222222222,
             "#7201a8"
            ],
            [
             0.3333333333333333,
             "#9c179e"
            ],
            [
             0.4444444444444444,
             "#bd3786"
            ],
            [
             0.5555555555555556,
             "#d8576b"
            ],
            [
             0.6666666666666666,
             "#ed7953"
            ],
            [
             0.7777777777777778,
             "#fb9f3a"
            ],
            [
             0.8888888888888888,
             "#fdca26"
            ],
            [
             1,
             "#f0f921"
            ]
           ]
          },
          "colorway": [
           "#636efa",
           "#EF553B",
           "#00cc96",
           "#ab63fa",
           "#FFA15A",
           "#19d3f3",
           "#FF6692",
           "#B6E880",
           "#FF97FF",
           "#FECB52"
          ],
          "font": {
           "color": "#2a3f5f"
          },
          "geo": {
           "bgcolor": "white",
           "lakecolor": "white",
           "landcolor": "#E5ECF6",
           "showlakes": true,
           "showland": true,
           "subunitcolor": "white"
          },
          "hoverlabel": {
           "align": "left"
          },
          "hovermode": "closest",
          "mapbox": {
           "style": "light"
          },
          "paper_bgcolor": "white",
          "plot_bgcolor": "#E5ECF6",
          "polar": {
           "angularaxis": {
            "gridcolor": "white",
            "linecolor": "white",
            "ticks": ""
           },
           "bgcolor": "#E5ECF6",
           "radialaxis": {
            "gridcolor": "white",
            "linecolor": "white",
            "ticks": ""
           }
          },
          "scene": {
           "xaxis": {
            "backgroundcolor": "#E5ECF6",
            "gridcolor": "white",
            "gridwidth": 2,
            "linecolor": "white",
            "showbackground": true,
            "ticks": "",
            "zerolinecolor": "white"
           },
           "yaxis": {
            "backgroundcolor": "#E5ECF6",
            "gridcolor": "white",
            "gridwidth": 2,
            "linecolor": "white",
            "showbackground": true,
            "ticks": "",
            "zerolinecolor": "white"
           },
           "zaxis": {
            "backgroundcolor": "#E5ECF6",
            "gridcolor": "white",
            "gridwidth": 2,
            "linecolor": "white",
            "showbackground": true,
            "ticks": "",
            "zerolinecolor": "white"
           }
          },
          "shapedefaults": {
           "line": {
            "color": "#2a3f5f"
           }
          },
          "ternary": {
           "aaxis": {
            "gridcolor": "white",
            "linecolor": "white",
            "ticks": ""
           },
           "baxis": {
            "gridcolor": "white",
            "linecolor": "white",
            "ticks": ""
           },
           "bgcolor": "#E5ECF6",
           "caxis": {
            "gridcolor": "white",
            "linecolor": "white",
            "ticks": ""
           }
          },
          "title": {
           "x": 0.05
          },
          "xaxis": {
           "automargin": true,
           "gridcolor": "white",
           "linecolor": "white",
           "ticks": "",
           "title": {
            "standoff": 15
           },
           "zerolinecolor": "white",
           "zerolinewidth": 2
          },
          "yaxis": {
           "automargin": true,
           "gridcolor": "white",
           "linecolor": "white",
           "ticks": "",
           "title": {
            "standoff": 15
           },
           "zerolinecolor": "white",
           "zerolinewidth": 2
          }
         }
        },
        "title": {
         "text": "Ventas Totales B2C Último Mes por División Territorial y Categoría de Producto",
         "x": 0.5
        },
        "width": 1600,
        "xaxis": {
         "anchor": "y",
         "domain": [
          0.55,
          1
         ],
         "title": {
          "text": "División Territorial"
         }
        },
        "xaxis2": {
         "anchor": "y2",
         "domain": [
          0,
          0.45
         ],
         "title": {
          "text": "División Territorial"
         }
        },
        "xaxis3": {
         "anchor": "y3",
         "domain": [
          0.55,
          1
         ],
         "title": {
          "text": "Categoría de Producto"
         }
        },
        "yaxis": {
         "anchor": "x",
         "domain": [
          0.625,
          1
         ],
         "title": {
          "text": "Total Ventas (USD)"
         }
        },
        "yaxis2": {
         "anchor": "x2",
         "domain": [
          0,
          0.375
         ],
         "title": {
          "text": "Total Ventas (USD)"
         }
        },
        "yaxis3": {
         "anchor": "x3",
         "domain": [
          0,
          0.375
         ],
         "title": {
          "text": "Total Ventas (USD)"
         }
        }
       }
      }
     },
     "metadata": {},
     "output_type": "display_data"
    }
   ],
   "source": [
    "create_dashboard_from_json(result['graphics_json'])"
   ]
  },
  {
   "cell_type": "markdown",
   "id": "28d044b7",
   "metadata": {},
   "source": [
    "### Ejemplo No Relevante para Negocio"
   ]
  },
  {
   "cell_type": "code",
   "execution_count": 17,
   "id": "191b448d",
   "metadata": {},
   "outputs": [
    {
     "name": "stdout",
     "output_type": "stream",
     "text": [
      "--- DEFINE USER QUERY LANGUAGE 🔣 ---\n",
      "--- GRADE BUSINESS RELEVANCE 🏢 ---\n",
      "--- 🥁 GENERATE FINAL RESPONSE 🥁 ---\n",
      "--- ❌ FAIL DETECTED: 'no_relevant_question' ❌ ---\n"
     ]
    },
    {
     "data": {
      "text/plain": [
       "{'global_execution_ok': False,\n",
       " 'nl_output': \"I'm sorry, but your question falls outside the scope of what I can assist with. I am equipped to provide information related to business data, such as sales figures, customer statistics, or inventory. Please let me know if you have any questions in these areas.\",\n",
       " 'sql_query': None,\n",
       " 'query_results': None,\n",
       " 'sql_explanation': None,\n",
       " 'graphics_json': None}"
      ]
     },
     "execution_count": 17,
     "metadata": {},
     "output_type": "execute_result"
    }
   ],
   "source": [
    "logging.basicConfig(level=logging.WARNING)\n",
    "\n",
    "result = main_graph.invoke({\n",
    "    \"user_query\": \"Give me a python script for web-scrapping\",\n",
    "})\n",
    "\n",
    "result"
   ]
  },
  {
   "cell_type": "markdown",
   "id": "a87161a5",
   "metadata": {},
   "source": [
    "### Ejemplo No Relevante para Contexto"
   ]
  },
  {
   "cell_type": "code",
   "execution_count": 18,
   "id": "0511130f",
   "metadata": {},
   "outputs": [
    {
     "name": "stdout",
     "output_type": "stream",
     "text": [
      "--- DEFINE USER QUERY LANGUAGE 🔣 ---\n",
      "--- GRADE BUSINESS RELEVANCE 🏢 ---\n",
      "--- GENERATING BUSINESS_LOGIC SUB-QUERIES 📚 ------ GENERATING MDL SUB-QUERIES 📚 ---\n",
      "\n",
      "--- MDL RETRIEVE TOOL 🛠️ ---\n",
      "--- BUSINESS_LOGIC RETRIEVE TOOL 🛠️ ---\n"
     ]
    },
    {
     "name": "stderr",
     "output_type": "stream",
     "text": [
      "WARNING:langchain_core.vectorstores.base:No relevant docs were retrieved using the relevance score threshold 0.75\n"
     ]
    },
    {
     "name": "stdout",
     "output_type": "stream",
     "text": [
      "--- PARALLELIZE GENERATION 🔢 ---\n",
      "--- GRADE CHUNK RELEVANCE TO QUESTION ❔ ---\n",
      "--- GRADE CHUNK RELEVANCE TO QUESTION ❔ ---\n",
      "--- GRADE CHUNK RELEVANCE TO QUESTION ❔ ---\n",
      "--- GRADE CHUNK RELEVANCE TO QUESTION ❔ ---\n",
      "--- GRADE CHUNK RELEVANCE TO QUESTION ❔ ---\n",
      "--- GRADE CHUNK RELEVANCE TO QUESTION ❔ ---\n",
      "--- GRADE CHUNK RELEVANCE TO QUESTION ❔ ---\n",
      "--- GRADE CHUNK RELEVANCE TO QUESTION ❔ ---\n",
      "--- GRADE CHUNK RELEVANCE TO QUESTION ❔ ---\n",
      "--- GRADE CHUNK RELEVANCE TO QUESTION ❔ ---\n",
      "--- GRADE CHUNK RELEVANCE TO QUESTION ❔ ---\n",
      "--- GRADE: NOT RELEVANT CHUNK 🗑️ ------ GRADE: NOT RELEVANT CHUNK 🗑️ ---\n",
      "--- SET RETRIEVAL GRADE OUTPUT KO ❌ ---\n",
      "\n",
      "--- SET RETRIEVAL GRADE OUTPUT KO ❌ ---\n",
      "--- GRADE: NOT RELEVANT CHUNK 🗑️ ---\n",
      "--- SET RETRIEVAL GRADE OUTPUT KO ❌ ---\n",
      "--- GRADE: NOT RELEVANT CHUNK 🗑️ ---\n",
      "--- SET RETRIEVAL GRADE OUTPUT KO ❌ ---\n",
      "--- GRADE: NOT RELEVANT CHUNK 🗑️ ---\n",
      "--- SET RETRIEVAL GRADE OUTPUT KO ❌ ---\n",
      "--- GRADE: NOT RELEVANT CHUNK 🗑️ ---\n",
      "--- SET RETRIEVAL GRADE OUTPUT KO ❌ ---\n",
      "--- GRADE: NOT RELEVANT CHUNK 🗑️ ---\n",
      "--- SET RETRIEVAL GRADE OUTPUT KO ❌ ---\n",
      "--- GRADE: NOT RELEVANT CHUNK 🗑️ ---\n",
      "--- SET RETRIEVAL GRADE OUTPUT KO ❌ ---\n",
      "--- GRADE: NOT RELEVANT CHUNK 🗑️ ---\n",
      "--- SET RETRIEVAL GRADE OUTPUT KO ❌ ---\n",
      "--- GRADE: NOT RELEVANT CHUNK 🗑️ ---\n",
      "--- SET RETRIEVAL GRADE OUTPUT KO ❌ ---\n",
      "--- GRADE: NOT RELEVANT CHUNK 🗑️ ---\n",
      "--- SET RETRIEVAL GRADE OUTPUT KO ❌ ---\n",
      "--- SUMMARIZE BUSINES LOGIC 📝👨‍💼 ---\n"
     ]
    },
    {
     "name": "stderr",
     "output_type": "stream",
     "text": [
      "WARNING:langchain_core.vectorstores.base:No relevant docs were retrieved using the relevance score threshold 0.75\n",
      "WARNING:langchain_core.vectorstores.base:No relevant docs were retrieved using the relevance score threshold 0.75\n",
      "WARNING:langchain_core.vectorstores.base:No relevant docs were retrieved using the relevance score threshold 0.75\n",
      "WARNING:langchain_core.vectorstores.base:No relevant docs were retrieved using the relevance score threshold 0.75\n"
     ]
    },
    {
     "name": "stdout",
     "output_type": "stream",
     "text": [
      "--- PARALLELIZE GENERATION 🔢 ---\n",
      "--- GRADE CHUNK RELEVANCE TO QUESTION ❔ ---\n",
      "--- GRADE CHUNK RELEVANCE TO QUESTION ❔ ---\n",
      "--- GRADE CHUNK RELEVANCE TO QUESTION ❔ ---\n",
      "--- GRADE CHUNK RELEVANCE TO QUESTION ❔ ---\n",
      "--- GRADE CHUNK RELEVANCE TO QUESTION ❔ ---\n",
      "--- GRADE CHUNK RELEVANCE TO QUESTION ❔ ---\n",
      "--- GRADE CHUNK RELEVANCE TO QUESTION ❔ ---\n",
      "--- GRADE CHUNK RELEVANCE TO QUESTION ❔ ---\n",
      "--- GRADE CHUNK RELEVANCE TO QUESTION ❔ ---\n",
      "--- GRADE: NOT RELEVANT CHUNK 🗑️ ---\n",
      "--- SET RETRIEVAL GRADE OUTPUT KO ❌ ---\n",
      "--- GRADE: NOT RELEVANT CHUNK 🗑️ ---\n",
      "--- SET RETRIEVAL GRADE OUTPUT KO ❌ ---\n",
      "--- GRADE: NOT RELEVANT CHUNK 🗑️ ---\n",
      "--- SET RETRIEVAL GRADE OUTPUT KO ❌ ---\n",
      "--- GRADE: NOT RELEVANT CHUNK 🗑️ ---\n",
      "--- SET RETRIEVAL GRADE OUTPUT KO ❌ ---\n",
      "--- GRADE: NOT RELEVANT CHUNK 🗑️ ---\n",
      "--- SET RETRIEVAL GRADE OUTPUT KO ❌ ---\n",
      "--- GRADE: NOT RELEVANT CHUNK 🗑️ ---\n",
      "--- SET RETRIEVAL GRADE OUTPUT KO ❌ ---\n",
      "--- GRADE: NOT RELEVANT CHUNK 🗑️ ---\n",
      "--- SET RETRIEVAL GRADE OUTPUT KO ❌ ---\n",
      "--- GRADE: NOT RELEVANT CHUNK 🗑️ ---\n",
      "--- SET RETRIEVAL GRADE OUTPUT KO ❌ ---\n",
      "--- GRADE: NOT RELEVANT CHUNK 🗑️ ---\n",
      "--- SET RETRIEVAL GRADE OUTPUT KO ❌ ---\n",
      "--- SUMMARIZE MDL 📝🗂️ ---\n",
      "--- EXTRACT DB SCHEMA 🧮 ---\n",
      "--- GRADE CONTEXT SUMMARIES 🔍 ---\n",
      "--- GENERATE NO RELEVANT CONTEXT RESPONSE 📝⛔ ---\n",
      "--- 🥁 GENERATE FINAL RESPONSE 🥁 ---\n"
     ]
    },
    {
     "data": {
      "text/plain": [
       "{'global_execution_ok': False,\n",
       " 'nl_output': \"I'm sorry, but I cannot provide an answer to your query as it falls outside the scope of the available information. However, I can assist with topics such as analyzing sales data by time periods, calculating average order values, or segmenting customers based on income and lifestyle. Please let me know how I can help!\",\n",
       " 'sql_query': None,\n",
       " 'query_results': None,\n",
       " 'sql_explanation': None,\n",
       " 'graphics_json': None}"
      ]
     },
     "execution_count": 18,
     "metadata": {},
     "output_type": "execute_result"
    }
   ],
   "source": [
    "logging.basicConfig(level=logging.WARNING)\n",
    "\n",
    "result = main_graph.invoke({\n",
    "    \"user_query\": \"Show me the deparment with the high mid salaries\",\n",
    "})\n",
    "\n",
    "result"
   ]
  },
  {
   "cell_type": "code",
   "execution_count": null,
   "id": "230ba37e",
   "metadata": {},
   "outputs": [],
   "source": []
  }
 ],
 "metadata": {
  "kernelspec": {
   "display_name": "ucm-tfm-grupo-4 (3.11.9)",
   "language": "python",
   "name": "python3"
  },
  "language_info": {
   "codemirror_mode": {
    "name": "ipython",
    "version": 3
   },
   "file_extension": ".py",
   "mimetype": "text/x-python",
   "name": "python",
   "nbconvert_exporter": "python",
   "pygments_lexer": "ipython3",
   "version": "3.11.9"
  }
 },
 "nbformat": 4,
 "nbformat_minor": 5
}
