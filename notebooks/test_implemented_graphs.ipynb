{
 "cells": [
  {
   "cell_type": "code",
   "execution_count": 1,
   "id": "38857eda",
   "metadata": {},
   "outputs": [],
   "source": [
    "import os\n",
    "import sys\n",
    "from dotenv import load_dotenv\n",
    "from pathlib import Path\n",
    "import json\n",
    "from IPython.display import Markdown, Image\n",
    "\n",
    "\n",
    "# Añadimos el directorio raíz del proyecto al path\n",
    "try:\n",
    "    # Para scripts .py\n",
    "    current_file = Path(__file__).resolve()\n",
    "    project_root = current_file.parent.parent  # Ajusta si tu estructura cambia\n",
    "except NameError:\n",
    "    # Para notebooks\n",
    "    current_file = Path().resolve()\n",
    "    project_root = current_file.parent  # Ajusta según donde esté tu notebook\n",
    "\n",
    "# Añadir al sys.path si no está ya\n",
    "if str(project_root) not in sys.path:\n",
    "    sys.path.append(str(project_root))\n",
    "\n",
    "\n",
    "from src.back.graphs import (\n",
    "    ChunkProcessingGraph,\n",
    "    BusinessLogicRetrievalGraph,\n",
    "    MdlRetrievalGraph,\n",
    "    ContextGeneratorGraph,\n",
    ")"
   ]
  },
  {
   "cell_type": "markdown",
   "id": "f8865210",
   "metadata": {},
   "source": [
    "---\n",
    "\n",
    "## Chunk Processing"
   ]
  },
  {
   "cell_type": "code",
   "execution_count": 2,
   "id": "fc0c4f49",
   "metadata": {},
   "outputs": [
    {
     "name": "stdout",
     "output_type": "stream",
     "text": [
      "--- BUILDING CHUNK PROCESSING GRAPH 🏗️ ---\n",
      "--- CHUNK PROCESSING GRAPH COMPILED SUCCESSFULLY ⚙️✅ ---\n"
     ]
    }
   ],
   "source": [
    "chunk_processing_graph = ChunkProcessingGraph()\n",
    "\n",
    "chunk_processing_graph = chunk_processing_graph.get_compiled_graph()"
   ]
  },
  {
   "cell_type": "code",
   "execution_count": 3,
   "id": "1f6265ef",
   "metadata": {},
   "outputs": [
    {
     "data": {
      "image/png": "[encoded data removed]",
      "text/plain": [
       "<IPython.core.display.Image object>"
      ]
     },
     "metadata": {},
     "output_type": "display_data"
    }
   ],
   "source": [
    "display(Image(chunk_processing_graph.get_graph().draw_mermaid_png()))"
   ]
  },
  {
   "cell_type": "code",
   "execution_count": 4,
   "id": "924ec39d",
   "metadata": {},
   "outputs": [
    {
     "name": "stdout",
     "output_type": "stream",
     "text": [
      "--- GRADE CHUNK RELEVANCE TO QUESTION ❔ ---\n",
      "--- GRADE: RELEVANT CHUNK ✅ ---\n",
      "--- SUMMARIZE CHUNK 📝📚 ---\n",
      "--- CHECK ITERATIONS 🔁 ---\n",
      "--- GRADE HALLUCINATIONS 👻 ---\n",
      "--- DECISION: GENERATION IS GROUNDED IN DOCUMENTS ✅ ---\n",
      "--- DECISION: GENERATION ADDRESSES QUESTION ✅ ---\n"
     ]
    },
    {
     "data": {
      "text/plain": [
       "{'chunk_summary': ['Synthesized Business Logic\\n\\n### High-Level Summary\\nThe context provides business rules and metrics related to retail sales, including definitions and interpretations of \"most sold products\" and other related metrics. It specifies how to measure and interpret sales data, including unit sales, revenue, and profitability.\\n\\n### Detailed Breakdown\\n\\n#### Definition of \"Most Sold Products\"\\n- The term \"most sold products\" generally refers to the quantity of units sold (`order_quantity`).\\n- Alternatively, it can be measured by the revenue generated (`sales_amount`), which identifies products that generate higher income despite lower sales volume. This is explicitly referred to as \"products with the highest revenue\" or \"de mayor facturación\".\\n\\n#### Related Metrics and Interpretations\\n- **Sales Metrics:**\\n  - `order_quantity`: Represents the number of units sold.\\n  - `sales_amount`: Represents the total revenue generated from sales.\\n- **Profitability Metrics:**\\n  - `gross margin`: Indicates the absolute profit from sales.\\n  - `gross margin percentage`: Represents the profit margin as a percentage of sales.\\n\\n#### Contextual Applications\\n- **Promotions:**\\n  - Success of promotions is measured by the increase in `order_quantity` or `sales_amount` directly attributable to the promotion.\\n  - Overall profitability during the promotional period is analyzed to determine effectiveness.\\n- **Sales Channels:**\\n  - B2C (Business-to-Consumer): Transactions with end consumers, identified by `sale_source = \\'internet_sales\\'`.\\n  - B2B (Business-to-Business): Transactions between businesses, identified by `sale_source = \\'reseller_sales\\'`.\\n\\n### SQL Expressions and Data Model References\\n- No explicit SQL expressions are provided in the context, but the metrics mentioned (`order_quantity`, `sales_amount`, `gross margin`, `gross margin percentage`, `sale_source`) are likely fields in the data model.\\n\\nThis synthesized logic provides a comprehensive understanding of how \"most sold products\" and related metrics are defined and measured in the retail business context.']}"
      ]
     },
     "execution_count": 4,
     "metadata": {},
     "output_type": "execute_result"
    }
   ],
   "source": [
    "doc_txt = \"\"\"\n",
    "3. Métricas Clásicas del Retail y su Interpretación\n",
    "\n",
    "Es crucial entender cómo se miden las diferentes métricas en el contexto de negocio.- Cuando se habla de productos \"más vendidos\", sin especificar más, generalmente nos referimos a la cantidad de unidades (`order_quantity`) vendidas. También puede ser relevante medir esto por el importe facturado (`sales_amount`) para identificar productos que, aunque se vendan en menor volumen, generan más ingresos. Pero, en este último caso se especificarán términos como \"de mayor facturación\".\n",
    "- Cuando se refiere a clientes, tiendas/distribuidores o vendedores que \"más compran/venden\", esto se mide por el importe facturado (`sales_amount`) o `net sales`. Adicionalmente, se puede considerar la frecuencia de compra (para clientes y distribuidores) o el número de pedidos gestionados (para vendedores) como métricas complementarias.\n",
    "- Para el análisis de rentabilidad, la métrica clave es el margen bruto (`gross margin`) o el porcentaje de margen bruto (`gross margin percentage`), lo cual permite comprender la contribución real de cada venta o producto a las ganancias, más allá del volumen o ingreso total. Este enfoque es vital para evaluar la eficiencia operativa.\n",
    "- En el contexto de la gestión de promociones, el éxito no solo se mide por el discount_amount o average_discount_rate, sino también por el incremento en `order_quantity` o `sales_amount` directamente atribuible a la promoción. Es fundamental analizar la rentabilidad general del período promocional para determinar su efectividad.\n",
    "- Ventas B2C (Business-to-Consumer): Estas ventas se refieren a transacciones directas con el consumidor final. En el modelo, corresponden a los pedidos donde `sale_source` es igual a `'internet_sales'`. Puede identificarse también como la unidad de negocio encargada del comercio minorista.\n",
    "- Ventas B2B (Business-to-Business): Estas ventas se refieren a transacciones entre empresas, como las realizadas con distribuidores o tiendas minoristas. En el modelo, corresponden a los pedidos donde `sale_source` es igual a `'reseller_sales'`. Puede identificarse también como la unidad de negocio encargada del comercio mayorista.\n",
    "\"\"\"\n",
    "\n",
    "user_query = 'The name of the product most selled.'\n",
    "\n",
    "test_chunk = chunk_processing_graph.invoke({\n",
    "    \"user_query\": user_query,\n",
    "    \"language\": 'English',\n",
    "    \"entity\": 'business_logic',\n",
    "    \"chunk_txt\": doc_txt, \n",
    "})\n",
    "\n",
    "test_chunk"
   ]
  },
  {
   "cell_type": "markdown",
   "id": "1e8e59e7",
   "metadata": {},
   "source": [
    "---\n",
    "\n",
    "## Business Logic"
   ]
  },
  {
   "cell_type": "code",
   "execution_count": 5,
   "id": "24258cdc",
   "metadata": {},
   "outputs": [
    {
     "name": "stdout",
     "output_type": "stream",
     "text": [
      "--- BUILDING BUSINESSLOGICRETRIEVALGRAPH GRAPH 🏗️ ---\n",
      "--- BUILDING CHUNK PROCESSING GRAPH 🏗️ ---\n",
      "--- CHUNK PROCESSING GRAPH COMPILED SUCCESSFULLY ⚙️✅ ---\n",
      "--- BUSINESSLOGICRETRIEVALGRAPH COMPILED SUCCESSFULLY ✅ ---\n"
     ]
    }
   ],
   "source": [
    "business_logic_graph = BusinessLogicRetrievalGraph()\n",
    "\n",
    "business_logic_graph = business_logic_graph.get_compiled_graph()"
   ]
  },
  {
   "cell_type": "code",
   "execution_count": 6,
   "id": "8cb8d54f",
   "metadata": {},
   "outputs": [
    {
     "data": {
      "image/png": "[encoded data removed]",
      "text/plain": [
       "<IPython.core.display.Image object>"
      ]
     },
     "metadata": {},
     "output_type": "display_data"
    }
   ],
   "source": [
    "display(Image(business_logic_graph.get_graph(xray=1).draw_mermaid_png()))"
   ]
  },
  {
   "cell_type": "code",
   "execution_count": 7,
   "id": "02562851",
   "metadata": {},
   "outputs": [
    {
     "name": "stdout",
     "output_type": "stream",
     "text": [
      "--- GENERATING BUSINESS_LOGIC SUB-QUERIES 📚 ---\n",
      "--- BUSINESS_LOGIC RETRIEVE TOOL 🛠️ ---\n",
      "--- PARALLELIZE GENERATION 🔢 ---\n",
      "--- GRADE CHUNK RELEVANCE TO QUESTION ❔ ---\n",
      "--- GRADE CHUNK RELEVANCE TO QUESTION ❔ ---\n",
      "--- GRADE CHUNK RELEVANCE TO QUESTION ❔ ---\n",
      "--- GRADE CHUNK RELEVANCE TO QUESTION ❔ ---\n",
      "--- GRADE CHUNK RELEVANCE TO QUESTION ❔ ---\n",
      "--- GRADE CHUNK RELEVANCE TO QUESTION ❔ ---\n",
      "--- GRADE CHUNK RELEVANCE TO QUESTION ❔ ---\n",
      "--- GRADE CHUNK RELEVANCE TO QUESTION ❔ ---\n",
      "--- GRADE CHUNK RELEVANCE TO QUESTION ❔ ---\n",
      "--- GRADE CHUNK RELEVANCE TO QUESTION ❔ ---\n",
      "--- GRADE CHUNK RELEVANCE TO QUESTION ❔ ---\n",
      "--- GRADE CHUNK RELEVANCE TO QUESTION ❔ ---\n",
      "--- GRADE CHUNK RELEVANCE TO QUESTION ❔ ---\n",
      "--- GRADE CHUNK RELEVANCE TO QUESTION ❔ ---\n",
      "--- GRADE CHUNK RELEVANCE TO QUESTION ❔ ---\n",
      "--- GRADE: RELEVANT CHUNK ✅ ---\n",
      "--- SUMMARIZE CHUNK 📝📚 ---\n",
      "--- GRADE: NOT RELEVANT CHUNK 🗑️ ---\n",
      "--- SET RETRIEVAL GRADE OUTPUT KO ❌ ---\n",
      "--- GRADE: NOT RELEVANT CHUNK 🗑️ ---\n",
      "--- SET RETRIEVAL GRADE OUTPUT KO ❌ ---\n",
      "--- GRADE: RELEVANT CHUNK ✅ ---\n",
      "--- SUMMARIZE CHUNK 📝📚 ---\n",
      "--- GRADE: NOT RELEVANT CHUNK 🗑️ ---\n",
      "--- SET RETRIEVAL GRADE OUTPUT KO ❌ ---\n",
      "--- GRADE: RELEVANT CHUNK ✅ ---\n",
      "--- SUMMARIZE CHUNK 📝📚 ---\n",
      "--- GRADE: NOT RELEVANT CHUNK 🗑️ ---\n",
      "--- SET RETRIEVAL GRADE OUTPUT KO ❌ ---\n",
      "--- GRADE: RELEVANT CHUNK ✅ ---\n",
      "--- SUMMARIZE CHUNK 📝📚 ---\n",
      "--- GRADE: NOT RELEVANT CHUNK 🗑️ ---\n",
      "--- SET RETRIEVAL GRADE OUTPUT KO ❌ ---\n",
      "--- GRADE: RELEVANT CHUNK ✅ ---\n",
      "--- SUMMARIZE CHUNK 📝📚 ---\n",
      "--- GRADE: NOT RELEVANT CHUNK 🗑️ ---\n",
      "--- SET RETRIEVAL GRADE OUTPUT KO ❌ ---\n",
      "--- GRADE: NOT RELEVANT CHUNK 🗑️ ---\n",
      "--- SET RETRIEVAL GRADE OUTPUT KO ❌ ---\n",
      "--- GRADE: RELEVANT CHUNK ✅ ---\n",
      "--- SUMMARIZE CHUNK 📝📚 ---\n",
      "--- GRADE: NOT RELEVANT CHUNK 🗑️ ---\n",
      "--- SET RETRIEVAL GRADE OUTPUT KO ❌ ---\n",
      "--- GRADE: RELEVANT CHUNK ✅ ---\n",
      "--- SUMMARIZE CHUNK 📝📚 ---\n",
      "--- CHECK ITERATIONS 🔁 ---\n",
      "--- GRADE HALLUCINATIONS 👻 ---\n",
      "--- DECISION: GENERATION IS GROUNDED IN DOCUMENTS ✅ ---\n",
      "--- CHECK ITERATIONS 🔁 ---\n",
      "--- GRADE HALLUCINATIONS 👻 ---\n",
      "--- DECISION: GENERATION ADDRESSES QUESTION ✅ ---\n",
      "--- CHECK ITERATIONS 🔁 ---\n",
      "--- GRADE HALLUCINATIONS 👻 ---\n",
      "--- DECISION: GENERATION IS GROUNDED IN DOCUMENTS ✅ ---\n",
      "--- DECISION: GENERATION IS GROUNDED IN DOCUMENTS ✅ ---\n",
      "--- DECISION: GENERATION ADDRESSES QUESTION ✅ ---\n",
      "--- DECISION: GENERATION ADDRESSES QUESTION ✅ ---\n",
      "--- CHECK ITERATIONS 🔁 ---\n",
      "--- GRADE HALLUCINATIONS 👻 ---\n",
      "--- DECISION: GENERATION IS GROUNDED IN DOCUMENTS ✅ ---\n",
      "--- DECISION: GENERATION ADDRESSES QUESTION ✅ ---\n",
      "--- CHECK ITERATIONS 🔁 ---\n",
      "--- GRADE HALLUCINATIONS 👻 ---\n",
      "--- DECISION: GENERATION IS GROUNDED IN DOCUMENTS ✅ ---\n",
      "--- CHECK ITERATIONS 🔁 ---\n",
      "--- GRADE HALLUCINATIONS 👻 ---\n",
      "--- DECISION: GENERATION ADDRESSES QUESTION ✅ ---\n",
      "--- DECISION: GENERATION IS GROUNDED IN DOCUMENTS ✅ ---\n",
      "--- DECISION: GENERATION ADDRESSES QUESTION ✅ ---\n",
      "--- CHECK ITERATIONS 🔁 ---\n",
      "--- GRADE HALLUCINATIONS 👻 ---\n",
      "--- DECISION: GENERATION IS GROUNDED IN DOCUMENTS ✅ ---\n",
      "--- DECISION: GENERATION ADDRESSES QUESTION ✅ ---\n",
      "--- SUMMARIZE BUSINES LOGIC 📝👨‍💼 ---\n"
     ]
    },
    {
     "data": {
      "text/markdown": [
       "### Lógica de Negocio Sintetizada\n",
       "\n",
       "#### Resumen de Alto Nivel\n",
       "El contexto proporciona reglas y ejemplos específicos para calcular las ventas del último trimestre y desglosarlas por categorías de producto. Se incluyen definiciones de períodos trimestrales, herramientas SQL para manipulación de fechas, y ejemplos de consultas SQL relevantes.\n",
       "\n",
       "#### Detalles Específicos\n",
       "\n",
       "1. **Definición de Trimestre**:\n",
       "   - Un trimestre es un período de tres meses.\n",
       "   - Los trimestres en un año natural son:\n",
       "     - Q1: Enero-Marzo\n",
       "     - Q2: Abril-Junio\n",
       "     - Q3: Julio-Septiembre\n",
       "     - Q4: Octubre-Diciembre.\n",
       "\n",
       "2. **Uso del Campo `order_date`**:\n",
       "   - Todas las consultas relacionadas con períodos temporales deben utilizar el campo `order_date` de la tabla `fact_sales`.\n",
       "\n",
       "3. **Consultas SQL Relevantes**:\n",
       "   - **Ventas del Trimestre Pasado**:\n",
       "     ```sql\n",
       "     SELECT product_key, SUM(sales_amount) AS total_sales\n",
       "     FROM sales.fact_sales\n",
       "     WHERE order_date BETWEEN DATE_TRUNC('quarter', CURRENT_DATE - INTERVAL '3 months') AND DATE_TRUNC('quarter', CURRENT_DATE) - INTERVAL '1 day'\n",
       "     GROUP BY product_key;\n",
       "     ```\n",
       "   - Esta consulta calcula las ventas del trimestre anterior y las desglosa por categorías de producto (`product_key`).\n",
       "\n",
       "4. **Herramientas SQL para Manipulación de Fechas**:\n",
       "   - `DATE_TRUNC('quarter', date)` para truncar fechas al inicio del trimestre.\n",
       "   - `INTERVAL` para operaciones de tiempo.\n",
       "\n",
       "#### Observaciones\n",
       "El contexto incluye toda la información necesaria para calcular las ventas del último trimestre y desglosarlas por categorías de producto, utilizando el campo `order_date` y agrupando por `product_key`."
      ],
      "text/plain": [
       "<IPython.core.display.Markdown object>"
      ]
     },
     "execution_count": 7,
     "metadata": {},
     "output_type": "execute_result"
    }
   ],
   "source": [
    "user_query = 'Dime las ventas del último trimestre detallas por categorías de producto.'\n",
    "\n",
    "business_logic_test = business_logic_graph.invoke({\n",
    "    \"user_query\": user_query,\n",
    "    'language': 'Spanish'\n",
    "})['business_logic']\n",
    "\n",
    "Markdown(business_logic_test)"
   ]
  },
  {
   "cell_type": "markdown",
   "id": "61acdcdd",
   "metadata": {},
   "source": [
    "---\n",
    "\n",
    "## MDL"
   ]
  },
  {
   "cell_type": "code",
   "execution_count": 8,
   "id": "e87c4434",
   "metadata": {},
   "outputs": [
    {
     "name": "stdout",
     "output_type": "stream",
     "text": [
      "--- BUILDING MDLRETRIEVALGRAPH GRAPH 🏗️ ---\n",
      "--- BUILDING CHUNK PROCESSING GRAPH 🏗️ ---\n",
      "--- CHUNK PROCESSING GRAPH COMPILED SUCCESSFULLY ⚙️✅ ---\n",
      "--- MDLRETRIEVALGRAPH COMPILED SUCCESSFULLY ✅ ---\n"
     ]
    }
   ],
   "source": [
    "mdl_graph = MdlRetrievalGraph()\n",
    "\n",
    "mdl_graph = mdl_graph.get_compiled_graph()"
   ]
  },
  {
   "cell_type": "code",
   "execution_count": 9,
   "id": "3bd04457",
   "metadata": {},
   "outputs": [
    {
     "data": {
      "image/png": "[encoded data removed]",
      "text/plain": [
       "<IPython.core.display.Image object>"
      ]
     },
     "metadata": {},
     "output_type": "display_data"
    }
   ],
   "source": [
    "display(Image(mdl_graph.get_graph(xray=1).draw_mermaid_png()))"
   ]
  },
  {
   "cell_type": "code",
   "execution_count": 10,
   "id": "d3766a29",
   "metadata": {},
   "outputs": [
    {
     "name": "stdout",
     "output_type": "stream",
     "text": [
      "--- GENERATING MDL SUB-QUERIES 📚 ---\n",
      "--- MDL RETRIEVE TOOL 🛠️ ---\n"
     ]
    },
    {
     "name": "stderr",
     "output_type": "stream",
     "text": [
      "No relevant docs were retrieved using the relevance score threshold 0.75\n",
      "No relevant docs were retrieved using the relevance score threshold 0.75\n",
      "No relevant docs were retrieved using the relevance score threshold 0.75\n",
      "No relevant docs were retrieved using the relevance score threshold 0.75\n",
      "No relevant docs were retrieved using the relevance score threshold 0.75\n"
     ]
    },
    {
     "name": "stdout",
     "output_type": "stream",
     "text": [
      "--- PARALLELIZE GENERATION 🔢 ---\n",
      "--- GRADE CHUNK RELEVANCE TO QUESTION ❔ ---\n",
      "--- GRADE CHUNK RELEVANCE TO QUESTION ❔ ---\n",
      "--- GRADE CHUNK RELEVANCE TO QUESTION ❔ ---\n",
      "--- GRADE CHUNK RELEVANCE TO QUESTION ❔ ---\n",
      "--- GRADE CHUNK RELEVANCE TO QUESTION ❔ ---\n",
      "--- GRADE CHUNK RELEVANCE TO QUESTION ❔ ---\n",
      "--- GRADE CHUNK RELEVANCE TO QUESTION ❔ ---\n",
      "--- GRADE CHUNK RELEVANCE TO QUESTION ❔ ---\n",
      "--- GRADE CHUNK RELEVANCE TO QUESTION ❔ ---\n",
      "--- GRADE: NOT RELEVANT CHUNK 🗑️ ------ GRADE: NOT RELEVANT CHUNK 🗑️ ---\n",
      "--- SET RETRIEVAL GRADE OUTPUT KO ❌ ---\n",
      "\n",
      "--- SET RETRIEVAL GRADE OUTPUT KO ❌ ---\n",
      "--- GRADE: NOT RELEVANT CHUNK 🗑️ ---\n",
      "--- SET RETRIEVAL GRADE OUTPUT KO ❌ ---\n",
      "--- GRADE: NOT RELEVANT CHUNK 🗑️ ---\n",
      "--- SET RETRIEVAL GRADE OUTPUT KO ❌ ---\n",
      "--- GRADE: NOT RELEVANT CHUNK 🗑️ ---\n",
      "--- SET RETRIEVAL GRADE OUTPUT KO ❌ ---\n",
      "--- GRADE: RELEVANT CHUNK ✅ ---\n",
      "--- SUMMARIZE CHUNK 📝📚 ---\n",
      "--- GRADE: NOT RELEVANT CHUNK 🗑️ ---\n",
      "--- SET RETRIEVAL GRADE OUTPUT KO ❌ ---\n",
      "--- GRADE: RELEVANT CHUNK ✅ ---\n",
      "--- SUMMARIZE CHUNK 📝📚 ---\n",
      "--- GRADE: NOT RELEVANT CHUNK 🗑️ ---\n",
      "--- SET RETRIEVAL GRADE OUTPUT KO ❌ ---\n",
      "--- CHECK ITERATIONS 🔁 ------ CHECK ITERATIONS 🔁 ---\n",
      "--- GRADE HALLUCINATIONS 👻 ---\n",
      "\n",
      "--- GRADE HALLUCINATIONS 👻 ---\n",
      "--- DECISION: GENERATION IS GROUNDED IN DOCUMENTS ✅ ---\n",
      "--- DECISION: GENERATION IS GROUNDED IN DOCUMENTS ✅ ---\n",
      "--- DECISION: GENERATION ADDRESSES QUESTION ✅ ------ DECISION: GENERATION ADDRESSES QUESTION ✅ ---\n",
      "\n",
      "--- SUMMARIZE MDL 📝🗂️ ---\n"
     ]
    },
    {
     "data": {
      "text/markdown": [
       "### Información detallada de tablas y columnas relevantes\n",
       "\n",
       "#### Base de datos y esquema\n",
       "- **Base de datos:** adventure_works_dw\n",
       "- **Esquema:** sales\n",
       "\n",
       "#### Tabla: dim_product\n",
       "- **Descripción:** Contiene información detallada de cada producto vendido.\n",
       "- **Clave primaria:** product_key\n",
       "- **Columnas relevantes:**\n",
       "  - **spanish_product_category_name** (VARCHAR(50)): Categoría principal del producto en español. Nunca NULL.\n",
       "  - **spanish_product_subcategory_name** (VARCHAR(50)): Subcategoría del producto en español. Nunca NULL.\n",
       "  - **spanish_product_name** (VARCHAR(50)): Nombre del producto en español. Puede ser NULL.\n",
       "  - **list_price** (NUMERIC): Precio de venta del producto en USD.\n",
       "  - **start_date** (DATE): Fecha de disponibilidad del producto para la venta.\n",
       "  - **end_date** (DATE): Fecha de fin de disponibilidad del producto. Puede ser NULL.\n",
       "  - **active** (BOOL): Indicador de disponibilidad actual del producto.\n",
       "\n",
       "#### Tabla: fact_sales\n",
       "- **Descripción:** Contiene detalles de órdenes de ventas entregadas, con granularidad a nivel de línea.\n",
       "- **Clave primaria:**\n",
       "  - sales_order_number\n",
       "  - sales_order_line_number\n",
       "- **Claves foráneas:**\n",
       "  - product_key → sales.dim_product.product_key\n",
       "- **Columnas relevantes:**\n",
       "  - **order_quantity** (INT2): Cantidad vendida de cada producto.\n",
       "  - **sales_amount** (NUMERIC): Subtotal en USD de la línea de orden de venta.\n",
       "  - **order_date** (DATE): Fecha de creación del pedido.\n",
       "  - **product_key**: Relaciona con `sales.dim_product`.\n",
       "\n",
       "### Relación entre tablas\n",
       "- La tabla `fact_sales` se relaciona con `dim_product` mediante la clave foránea `product_key`.\n",
       "- Condición de unión: `fact_sales.product_key = dim_product.product_key`.\n",
       "\n",
       "### Condiciones para el cálculo del último trimestre\n",
       "- Filtrar las ventas en `fact_sales` utilizando la columna `order_date` para el último trimestre.\n",
       "- Relacionar con `dim_product` para obtener las categorías de producto mediante `spanish_product_category_name`."
      ],
      "text/plain": [
       "<IPython.core.display.Markdown object>"
      ]
     },
     "execution_count": 10,
     "metadata": {},
     "output_type": "execute_result"
    }
   ],
   "source": [
    "user_query = 'Dime las ventas del último trimestre detallas por categorías de producto.'\n",
    "\n",
    "mdl_test = mdl_graph.invoke({\n",
    "    \"user_query\": user_query,\n",
    "    'language': 'Spanish'\n",
    "})['data_schema']\n",
    "\n",
    "Markdown(mdl_test)"
   ]
  },
  {
   "cell_type": "markdown",
   "id": "93a33cc9",
   "metadata": {},
   "source": [
    "---\n",
    "\n",
    "## GLOBAL"
   ]
  },
  {
   "cell_type": "code",
   "execution_count": 2,
   "id": "0b8663aa",
   "metadata": {},
   "outputs": [
    {
     "name": "stdout",
     "output_type": "stream",
     "text": [
      "--- BUILDING CONTEXT GENERATOR GRAPH 🏗️ ---\n",
      "--- BUILDING BUSINESSLOGICRETRIEVALGRAPH GRAPH 🏗️ ---\n",
      "--- BUILDING CHUNK PROCESSING GRAPH 🏗️ ---\n",
      "--- CHUNK PROCESSING GRAPH COMPILED SUCCESSFULLY ⚙️✅ ---\n",
      "--- BUSINESSLOGICRETRIEVALGRAPH COMPILED SUCCESSFULLY ✅ ---\n",
      "--- BUILDING MDLRETRIEVALGRAPH GRAPH 🏗️ ---\n",
      "--- BUILDING CHUNK PROCESSING GRAPH 🏗️ ---\n",
      "--- CHUNK PROCESSING GRAPH COMPILED SUCCESSFULLY ⚙️✅ ---\n",
      "--- MDLRETRIEVALGRAPH COMPILED SUCCESSFULLY ✅ ---\n",
      "--- CONTEXT GENERATOR COMPILED SUCCESSFULLY ✅ ---\n"
     ]
    }
   ],
   "source": [
    "context_generator_graph = ContextGeneratorGraph()\n",
    "\n",
    "context_generator_graph = context_generator_graph.get_compiled_graph()"
   ]
  },
  {
   "cell_type": "code",
   "execution_count": 3,
   "id": "8788071e",
   "metadata": {},
   "outputs": [
    {
     "data": {
      "image/png": "[encoded data removed]",
      "text/plain": [
       "<IPython.core.display.Image object>"
      ]
     },
     "metadata": {},
     "output_type": "display_data"
    }
   ],
   "source": [
    "display(Image(context_generator_graph.get_graph().draw_mermaid_png()))"
   ]
  },
  {
   "cell_type": "code",
   "execution_count": 4,
   "id": "81930146",
   "metadata": {},
   "outputs": [
    {
     "name": "stdout",
     "output_type": "stream",
     "text": [
      "--- DEFINE USER QUERY LANGUAGE 🔣 ---\n",
      "--- GENERATING BUSINESS_LOGIC SUB-QUERIES 📚 ---\n",
      "--- GENERATING MDL SUB-QUERIES 📚 ---\n",
      "--- MDL RETRIEVE TOOL 🛠️ ---\n",
      "--- BUSINESS_LOGIC RETRIEVE TOOL 🛠️ ---\n"
     ]
    },
    {
     "name": "stderr",
     "output_type": "stream",
     "text": [
      "No relevant docs were retrieved using the relevance score threshold 0.75\n"
     ]
    },
    {
     "name": "stdout",
     "output_type": "stream",
     "text": [
      "--- PARALLELIZE GENERATION 🔢 ---\n",
      "--- GRADE CHUNK RELEVANCE TO QUESTION ❔ ---\n",
      "--- GRADE CHUNK RELEVANCE TO QUESTION ❔ ---\n",
      "--- GRADE CHUNK RELEVANCE TO QUESTION ❔ ---\n",
      "--- GRADE CHUNK RELEVANCE TO QUESTION ❔ ---\n",
      "--- GRADE CHUNK RELEVANCE TO QUESTION ❔ ---\n",
      "--- GRADE CHUNK RELEVANCE TO QUESTION ❔ ---\n",
      "--- GRADE CHUNK RELEVANCE TO QUESTION ❔ ---\n",
      "--- GRADE CHUNK RELEVANCE TO QUESTION ❔ ---\n",
      "--- GRADE CHUNK RELEVANCE TO QUESTION ❔ ---\n",
      "--- GRADE CHUNK RELEVANCE TO QUESTION ❔ ---\n",
      "--- GRADE CHUNK RELEVANCE TO QUESTION ❔ ---\n",
      "--- GRADE CHUNK RELEVANCE TO QUESTION ❔ ---\n",
      "--- GRADE CHUNK RELEVANCE TO QUESTION ❔ ---\n",
      "--- GRADE CHUNK RELEVANCE TO QUESTION ❔ ---\n",
      "--- GRADE CHUNK RELEVANCE TO QUESTION ❔ ---\n",
      "--- GRADE: RELEVANT CHUNK ✅ ---\n",
      "--- SUMMARIZE CHUNK 📝📚 ---\n",
      "--- GRADE: RELEVANT CHUNK ✅ ---\n",
      "--- SUMMARIZE CHUNK 📝📚 ---\n",
      "--- GRADE: RELEVANT CHUNK ✅ ---\n",
      "--- SUMMARIZE CHUNK 📝📚 ---\n",
      "--- GRADE: NOT RELEVANT CHUNK 🗑️ ---\n",
      "--- SET RETRIEVAL GRADE OUTPUT KO ❌ ---\n",
      "--- GRADE: NOT RELEVANT CHUNK 🗑️ ---\n",
      "--- SET RETRIEVAL GRADE OUTPUT KO ❌ ---\n",
      "--- GRADE: NOT RELEVANT CHUNK 🗑️ ---\n",
      "--- SET RETRIEVAL GRADE OUTPUT KO ❌ ---\n",
      "--- GRADE: RELEVANT CHUNK ✅ ---\n",
      "--- SUMMARIZE CHUNK 📝📚 ---\n",
      "--- GRADE: NOT RELEVANT CHUNK 🗑️ ---\n",
      "--- SET RETRIEVAL GRADE OUTPUT KO ❌ ---\n",
      "--- GRADE: NOT RELEVANT CHUNK 🗑️ ---\n",
      "--- SET RETRIEVAL GRADE OUTPUT KO ❌ ---\n",
      "--- GRADE: RELEVANT CHUNK ✅ ---\n",
      "--- SUMMARIZE CHUNK 📝📚 ---\n",
      "--- GRADE: RELEVANT CHUNK ✅ ---\n",
      "--- SUMMARIZE CHUNK 📝📚 ---\n",
      "--- GRADE: RELEVANT CHUNK ✅ ---\n",
      "--- SUMMARIZE CHUNK 📝📚 ---\n",
      "--- GRADE: NOT RELEVANT CHUNK 🗑️ ---\n",
      "--- SET RETRIEVAL GRADE OUTPUT KO ❌ ---\n",
      "--- GRADE: NOT RELEVANT CHUNK 🗑️ ---\n",
      "--- SET RETRIEVAL GRADE OUTPUT KO ❌ ---\n",
      "--- GRADE: NOT RELEVANT CHUNK 🗑️ ---\n",
      "--- SET RETRIEVAL GRADE OUTPUT KO ❌ ---\n"
     ]
    },
    {
     "name": "stderr",
     "output_type": "stream",
     "text": [
      "No relevant docs were retrieved using the relevance score threshold 0.75\n"
     ]
    },
    {
     "name": "stdout",
     "output_type": "stream",
     "text": [
      "--- CHECK ITERATIONS 🔁 ---\n",
      "--- GRADE HALLUCINATIONS 👻 ---\n",
      "--- CHECK ITERATIONS 🔁 ---\n",
      "--- GRADE HALLUCINATIONS 👻 ---\n",
      "--- DECISION: GENERATION IS GROUNDED IN DOCUMENTS ✅ ---\n",
      "--- DECISION: GENERATION IS GROUNDED IN DOCUMENTS ✅ ---\n",
      "--- CHECK ITERATIONS 🔁 ---\n",
      "--- GRADE HALLUCINATIONS 👻 ---\n",
      "--- DECISION: GENERATION ADDRESSES QUESTION ✅ ---\n",
      "--- DECISION: GENERATION ADDRESSES QUESTION ✅ ---\n",
      "--- DECISION: GENERATION IS GROUNDED IN DOCUMENTS ✅ ---\n",
      "--- DECISION: GENERATION ADDRESSES QUESTION ✅ ---\n"
     ]
    },
    {
     "name": "stderr",
     "output_type": "stream",
     "text": [
      "No relevant docs were retrieved using the relevance score threshold 0.75\n"
     ]
    },
    {
     "name": "stdout",
     "output_type": "stream",
     "text": [
      "--- CHECK ITERATIONS 🔁 ---\n",
      "--- GRADE HALLUCINATIONS 👻 ---\n",
      "--- DECISION: GENERATION IS GROUNDED IN DOCUMENTS ✅ ---\n"
     ]
    },
    {
     "name": "stderr",
     "output_type": "stream",
     "text": [
      "No relevant docs were retrieved using the relevance score threshold 0.75\n"
     ]
    },
    {
     "name": "stdout",
     "output_type": "stream",
     "text": [
      "--- DECISION: GENERATION ADDRESSES QUESTION ✅ ---\n",
      "--- CHECK ITERATIONS 🔁 ---\n",
      "--- GRADE HALLUCINATIONS 👻 ---\n",
      "--- CHECK ITERATIONS 🔁 ---\n",
      "--- GRADE HALLUCINATIONS 👻 ---\n",
      "--- DECISION: GENERATION IS GROUNDED IN DOCUMENTS ✅ ---\n",
      "--- DECISION: GENERATION IS GROUNDED IN DOCUMENTS ✅ ---\n",
      "--- DECISION: GENERATION ADDRESSES QUESTION ✅ ---\n",
      "--- DECISION: GENERATION ADDRESSES QUESTION ✅ ---\n",
      "--- CHECK ITERATIONS 🔁 ---\n",
      "--- GRADE HALLUCINATIONS 👻 ---\n",
      "--- DECISION: GENERATION IS GROUNDED IN DOCUMENTS ✅ ---\n",
      "--- DECISION: GENERATION ADDRESSES QUESTION ✅ ---\n",
      "--- SUMMARIZE BUSINES LOGIC 📝👨‍💼 ---\n"
     ]
    },
    {
     "name": "stderr",
     "output_type": "stream",
     "text": [
      "No relevant docs were retrieved using the relevance score threshold 0.75\n"
     ]
    },
    {
     "name": "stdout",
     "output_type": "stream",
     "text": [
      "--- PARALLELIZE GENERATION 🔢 ---\n",
      "--- GRADE CHUNK RELEVANCE TO QUESTION ❔ ---\n",
      "--- GRADE CHUNK RELEVANCE TO QUESTION ❔ ---\n",
      "--- GRADE CHUNK RELEVANCE TO QUESTION ❔ ---\n",
      "--- GRADE CHUNK RELEVANCE TO QUESTION ❔ ---\n",
      "--- GRADE CHUNK RELEVANCE TO QUESTION ❔ ---\n",
      "--- GRADE CHUNK RELEVANCE TO QUESTION ❔ ---\n",
      "--- GRADE CHUNK RELEVANCE TO QUESTION ❔ ---\n",
      "--- GRADE CHUNK RELEVANCE TO QUESTION ❔ ---\n",
      "--- GRADE CHUNK RELEVANCE TO QUESTION ❔ ---\n",
      "--- GRADE: NOT RELEVANT CHUNK 🗑️ ---\n",
      "--- SET RETRIEVAL GRADE OUTPUT KO ❌ ---\n",
      "--- GRADE: RELEVANT CHUNK ✅ ---\n",
      "--- SUMMARIZE CHUNK 📝📚 ---\n",
      "--- GRADE: RELEVANT CHUNK ✅ ---\n",
      "--- SUMMARIZE CHUNK 📝📚 ---\n",
      "--- GRADE: NOT RELEVANT CHUNK 🗑️ ---\n",
      "--- SET RETRIEVAL GRADE OUTPUT KO ❌ ---\n",
      "--- GRADE: NOT RELEVANT CHUNK 🗑️ ---\n",
      "--- SET RETRIEVAL GRADE OUTPUT KO ❌ ---\n",
      "--- GRADE: NOT RELEVANT CHUNK 🗑️ ---\n",
      "--- SET RETRIEVAL GRADE OUTPUT KO ❌ ---\n",
      "--- GRADE: NOT RELEVANT CHUNK 🗑️ ---\n",
      "--- SET RETRIEVAL GRADE OUTPUT KO ❌ ---\n",
      "--- GRADE: NOT RELEVANT CHUNK 🗑️ ---\n",
      "--- SET RETRIEVAL GRADE OUTPUT KO ❌ ---\n",
      "--- GRADE: NOT RELEVANT CHUNK 🗑️ ---\n",
      "--- SET RETRIEVAL GRADE OUTPUT KO ❌ ---\n",
      "--- CHECK ITERATIONS 🔁 ---\n",
      "--- GRADE HALLUCINATIONS 👻 ---\n",
      "--- DECISION: GENERATION IS GROUNDED IN DOCUMENTS ✅ ---\n",
      "--- DECISION: GENERATION ADDRESSES QUESTION ✅ ---\n",
      "--- CHECK ITERATIONS 🔁 ---\n",
      "--- GRADE HALLUCINATIONS 👻 ---\n",
      "--- DECISION: GENERATION IS GROUNDED IN DOCUMENTS ✅ ---\n",
      "--- DECISION: GENERATION ADDRESSES QUESTION ✅ ---\n",
      "--- SUMMARIZE MDL 📝🗂️ ---\n",
      "--- GRADE CONTEXT SUMMARIES 🔍 ---\n",
      "--- GENERATE GLOBAL CONTEXT 📝🌐 ---\n"
     ]
    },
    {
     "data": {
      "text/plain": [
       "{'language': 'Spanish',\n",
       " 'relevant_context': True,\n",
       " 'context': \"### Resumen General\\nEl objetivo es calcular las ventas del último trimestre, desglosadas por categorías de producto. Esto implica utilizar datos de ventas y productos, aplicando filtros temporales y uniendo tablas relevantes para obtener las categorías de producto y sus ventas asociadas.\\n\\n### Esquema Detallado y Relaciones\\n#### Base de datos y esquema\\n- **Base de datos:** adventure_works_dw\\n- **Esquema:** sales\\n\\n#### Tabla: dim_product\\n- **Descripción:** Contiene información detallada de productos, incluyendo categorías y precios.\\n- **Clave primaria:** product_key\\n- **Columnas relevantes:**\\n  - **spanish_product_category_name** (VARCHAR(50), NOT NULL): Categoría principal del producto en español.\\n  - **spanish_product_subcategory_name** (VARCHAR(50), NOT NULL): Subcategoría del producto en español.\\n  - **spanish_product_name** (VARCHAR(50), NULL): Nombre del producto en español.\\n  - **list_price** (NUMERIC): Precio de venta del producto en USD.\\n  - **start_date** (DATE): Fecha de disponibilidad del producto para la venta.\\n  - **end_date** (DATE, NULL): Fecha de fin de disponibilidad del producto.\\n\\n#### Tabla: fact_sales\\n- **Descripción:** Contiene detalles de órdenes de ventas con granularidad a nivel de línea.\\n- **Clave primaria:**\\n  - sales_order_number\\n  - sales_order_line_number\\n- **Claves foráneas:**\\n  - product_key → sales.dim_product.product_key\\n- **Columnas relevantes:**\\n  - **order_date** (DATE): Fecha de creación del pedido.\\n  - **sales_amount** (NUMERIC): Subtotal en USD de la línea de orden de venta.\\n  - **order_quantity** (INT2): Cantidad vendida de cada producto.\\n  - **product_key**: Referencia a la tabla `sales.dim_product`.\\n\\n#### Relaciones entre tablas\\n- Para obtener las categorías de producto y sus ventas, se debe realizar un JOIN entre `fact_sales` y `dim_product` utilizando la clave foránea `product_key`:\\n  ```sql\\n  ON fact_sales.product_key = dim_product.product_key\\n  ```\\n- Para filtrar las ventas del último trimestre, se debe aplicar un filtro en la columna `order_date` con el rango de fechas correspondiente.\\n\\n### Reglas de Negocio y Lógica\\n1. **Definición de Trimestre:**\\n   - Un trimestre es un período de tres meses.\\n   - Los trimestres en un año natural son:\\n     - Q1: Enero a Marzo.\\n     - Q2: Abril a Junio.\\n     - Q3: Julio a Septiembre.\\n     - Q4: Octubre a Diciembre.\\n\\n2. **Filtro Temporal:**\\n   - Para calcular las ventas del último trimestre, se utiliza el campo `order_date` de la tabla `fact_sales` con el siguiente rango de fechas:\\n     ```sql\\n     WHERE order_date BETWEEN DATE_TRUNC('quarter', CURRENT_DATE - INTERVAL '3 months') AND DATE_TRUNC('quarter', CURRENT_DATE) - INTERVAL '1 day'\\n     ```\\n\\n3. **Cálculo de Ventas:**\\n   - Las ventas totales se calculan sumando el campo `sales_amount`.\\n\\n4. **Representación de Categorías de Producto:**\\n   - Se prioriza el uso del campo `spanish_product_category_name` de la tabla `dim_product`. Si este es nulo, se puede usar un campo alternativo como `english_product_category_name`.\\n\\n5. **Consulta SQL Representativa:**\\n   - Una consulta representativa para obtener las ventas del último trimestre desglosadas por categorías de producto sería:\\n     ```sql\\n     SELECT \\n         COALESCE(spanish_product_category_name, 'Categoría no registrada') AS categoria_producto,\\n         SUM(sales_amount) AS ventas_totales\\n     FROM \\n         sales.fact_sales\\n     JOIN \\n         sales.dim_product\\n     ON \\n         fact_sales.product_key = dim_product.product_key\\n     WHERE \\n         order_date BETWEEN DATE_TRUNC('quarter', CURRENT_DATE - INTERVAL '3 months') AND DATE_TRUNC('quarter', CURRENT_DATE) - INTERVAL '1 day'\\n     GROUP BY \\n         spanish_product_category_name;\\n     ```\"}"
      ]
     },
     "execution_count": 4,
     "metadata": {},
     "output_type": "execute_result"
    }
   ],
   "source": [
    "user_query = 'Dime las ventas del último trimestre detallas por categorías de producto.'\n",
    "\n",
    "global_context_test = context_generator_graph.invoke({\n",
    "    \"user_query\": user_query\n",
    "})\n",
    "\n",
    "global_context_test"
   ]
  },
  {
   "cell_type": "code",
   "execution_count": 5,
   "id": "696b0508",
   "metadata": {},
   "outputs": [
    {
     "data": {
      "text/markdown": [
       "### Resumen General\n",
       "El objetivo es calcular las ventas del último trimestre, desglosadas por categorías de producto. Esto implica utilizar datos de ventas y productos, aplicando filtros temporales y uniendo tablas relevantes para obtener las categorías de producto y sus ventas asociadas.\n",
       "\n",
       "### Esquema Detallado y Relaciones\n",
       "#### Base de datos y esquema\n",
       "- **Base de datos:** adventure_works_dw\n",
       "- **Esquema:** sales\n",
       "\n",
       "#### Tabla: dim_product\n",
       "- **Descripción:** Contiene información detallada de productos, incluyendo categorías y precios.\n",
       "- **Clave primaria:** product_key\n",
       "- **Columnas relevantes:**\n",
       "  - **spanish_product_category_name** (VARCHAR(50), NOT NULL): Categoría principal del producto en español.\n",
       "  - **spanish_product_subcategory_name** (VARCHAR(50), NOT NULL): Subcategoría del producto en español.\n",
       "  - **spanish_product_name** (VARCHAR(50), NULL): Nombre del producto en español.\n",
       "  - **list_price** (NUMERIC): Precio de venta del producto en USD.\n",
       "  - **start_date** (DATE): Fecha de disponibilidad del producto para la venta.\n",
       "  - **end_date** (DATE, NULL): Fecha de fin de disponibilidad del producto.\n",
       "\n",
       "#### Tabla: fact_sales\n",
       "- **Descripción:** Contiene detalles de órdenes de ventas con granularidad a nivel de línea.\n",
       "- **Clave primaria:**\n",
       "  - sales_order_number\n",
       "  - sales_order_line_number\n",
       "- **Claves foráneas:**\n",
       "  - product_key → sales.dim_product.product_key\n",
       "- **Columnas relevantes:**\n",
       "  - **order_date** (DATE): Fecha de creación del pedido.\n",
       "  - **sales_amount** (NUMERIC): Subtotal en USD de la línea de orden de venta.\n",
       "  - **order_quantity** (INT2): Cantidad vendida de cada producto.\n",
       "  - **product_key**: Referencia a la tabla `sales.dim_product`.\n",
       "\n",
       "#### Relaciones entre tablas\n",
       "- Para obtener las categorías de producto y sus ventas, se debe realizar un JOIN entre `fact_sales` y `dim_product` utilizando la clave foránea `product_key`:\n",
       "  ```sql\n",
       "  ON fact_sales.product_key = dim_product.product_key\n",
       "  ```\n",
       "- Para filtrar las ventas del último trimestre, se debe aplicar un filtro en la columna `order_date` con el rango de fechas correspondiente.\n",
       "\n",
       "### Reglas de Negocio y Lógica\n",
       "1. **Definición de Trimestre:**\n",
       "   - Un trimestre es un período de tres meses.\n",
       "   - Los trimestres en un año natural son:\n",
       "     - Q1: Enero a Marzo.\n",
       "     - Q2: Abril a Junio.\n",
       "     - Q3: Julio a Septiembre.\n",
       "     - Q4: Octubre a Diciembre.\n",
       "\n",
       "2. **Filtro Temporal:**\n",
       "   - Para calcular las ventas del último trimestre, se utiliza el campo `order_date` de la tabla `fact_sales` con el siguiente rango de fechas:\n",
       "     ```sql\n",
       "     WHERE order_date BETWEEN DATE_TRUNC('quarter', CURRENT_DATE - INTERVAL '3 months') AND DATE_TRUNC('quarter', CURRENT_DATE) - INTERVAL '1 day'\n",
       "     ```\n",
       "\n",
       "3. **Cálculo de Ventas:**\n",
       "   - Las ventas totales se calculan sumando el campo `sales_amount`.\n",
       "\n",
       "4. **Representación de Categorías de Producto:**\n",
       "   - Se prioriza el uso del campo `spanish_product_category_name` de la tabla `dim_product`. Si este es nulo, se puede usar un campo alternativo como `english_product_category_name`.\n",
       "\n",
       "5. **Consulta SQL Representativa:**\n",
       "   - Una consulta representativa para obtener las ventas del último trimestre desglosadas por categorías de producto sería:\n",
       "     ```sql\n",
       "     SELECT \n",
       "         COALESCE(spanish_product_category_name, 'Categoría no registrada') AS categoria_producto,\n",
       "         SUM(sales_amount) AS ventas_totales\n",
       "     FROM \n",
       "         sales.fact_sales\n",
       "     JOIN \n",
       "         sales.dim_product\n",
       "     ON \n",
       "         fact_sales.product_key = dim_product.product_key\n",
       "     WHERE \n",
       "         order_date BETWEEN DATE_TRUNC('quarter', CURRENT_DATE - INTERVAL '3 months') AND DATE_TRUNC('quarter', CURRENT_DATE) - INTERVAL '1 day'\n",
       "     GROUP BY \n",
       "         spanish_product_category_name;\n",
       "     ```"
      ],
      "text/plain": [
       "<IPython.core.display.Markdown object>"
      ]
     },
     "execution_count": 5,
     "metadata": {},
     "output_type": "execute_result"
    }
   ],
   "source": [
    "Markdown(global_context_test['context'])"
   ]
  },
  {
   "cell_type": "code",
   "execution_count": 6,
   "id": "4225c0cf",
   "metadata": {},
   "outputs": [
    {
     "name": "stdout",
     "output_type": "stream",
     "text": [
      "--- DEFINE USER QUERY LANGUAGE 🔣 ---\n",
      "--- GENERATING BUSINESS_LOGIC SUB-QUERIES 📚 ---\n",
      "--- GENERATING MDL SUB-QUERIES 📚 ---\n",
      "--- MDL RETRIEVE TOOL 🛠️ ---\n",
      "--- BUSINESS_LOGIC RETRIEVE TOOL 🛠️ ---\n"
     ]
    },
    {
     "name": "stderr",
     "output_type": "stream",
     "text": [
      "No relevant docs were retrieved using the relevance score threshold 0.75\n"
     ]
    },
    {
     "name": "stdout",
     "output_type": "stream",
     "text": [
      "--- PARALLELIZE GENERATION 🔢 ---\n",
      "--- GRADE CHUNK RELEVANCE TO QUESTION ❔ ---\n",
      "--- GRADE CHUNK RELEVANCE TO QUESTION ❔ ---\n",
      "--- GRADE CHUNK RELEVANCE TO QUESTION ❔ ---\n",
      "--- GRADE CHUNK RELEVANCE TO QUESTION ❔ ---\n",
      "--- GRADE CHUNK RELEVANCE TO QUESTION ❔ ---\n",
      "--- GRADE CHUNK RELEVANCE TO QUESTION ❔ ---\n",
      "--- GRADE CHUNK RELEVANCE TO QUESTION ❔ ---\n",
      "--- GRADE CHUNK RELEVANCE TO QUESTION ❔ ---\n",
      "--- GRADE CHUNK RELEVANCE TO QUESTION ❔ ---\n",
      "--- GRADE CHUNK RELEVANCE TO QUESTION ❔ ---\n",
      "--- GRADE CHUNK RELEVANCE TO QUESTION ❔ ---\n",
      "--- GRADE CHUNK RELEVANCE TO QUESTION ❔ ---\n",
      "--- GRADE CHUNK RELEVANCE TO QUESTION ❔ ---\n",
      "--- GRADE CHUNK RELEVANCE TO QUESTION ❔ ---\n",
      "--- GRADE CHUNK RELEVANCE TO QUESTION ❔ ---\n",
      "--- GRADE CHUNK RELEVANCE TO QUESTION ❔ ---\n",
      "--- GRADE: RELEVANT CHUNK ✅ ---\n",
      "--- SUMMARIZE CHUNK 📝📚 ---\n",
      "--- GRADE: NOT RELEVANT CHUNK 🗑️ ---\n",
      "--- SET RETRIEVAL GRADE OUTPUT KO ❌ ---\n",
      "--- GRADE: NOT RELEVANT CHUNK 🗑️ ---\n",
      "--- SET RETRIEVAL GRADE OUTPUT KO ❌ ---\n",
      "--- GRADE: NOT RELEVANT CHUNK 🗑️ ---\n",
      "--- SET RETRIEVAL GRADE OUTPUT KO ❌ ---\n",
      "--- GRADE: NOT RELEVANT CHUNK 🗑️ ---\n",
      "--- SET RETRIEVAL GRADE OUTPUT KO ❌ ---\n",
      "--- GRADE: RELEVANT CHUNK ✅ ---\n",
      "--- SUMMARIZE CHUNK 📝📚 ---\n",
      "--- GRADE: RELEVANT CHUNK ✅ ---\n",
      "--- SUMMARIZE CHUNK 📝📚 ---\n",
      "--- GRADE: NOT RELEVANT CHUNK 🗑️ ---\n",
      "--- SET RETRIEVAL GRADE OUTPUT KO ❌ ---\n",
      "--- GRADE: NOT RELEVANT CHUNK 🗑️ ---\n",
      "--- SET RETRIEVAL GRADE OUTPUT KO ❌ ---\n",
      "--- GRADE: RELEVANT CHUNK ✅ ---\n",
      "--- SUMMARIZE CHUNK 📝📚 ---\n",
      "--- GRADE: NOT RELEVANT CHUNK 🗑️ ---\n",
      "--- SET RETRIEVAL GRADE OUTPUT KO ❌ ---\n",
      "--- GRADE: NOT RELEVANT CHUNK 🗑️ ---\n",
      "--- SET RETRIEVAL GRADE OUTPUT KO ❌ ---\n",
      "--- GRADE: NOT RELEVANT CHUNK 🗑️ ---\n",
      "--- SET RETRIEVAL GRADE OUTPUT KO ❌ ---\n",
      "--- GRADE: NOT RELEVANT CHUNK 🗑️ ---\n",
      "--- SET RETRIEVAL GRADE OUTPUT KO ❌ ---\n",
      "--- GRADE: NOT RELEVANT CHUNK 🗑️ ---\n",
      "--- SET RETRIEVAL GRADE OUTPUT KO ❌ ---\n",
      "--- GRADE: NOT RELEVANT CHUNK 🗑️ ---\n",
      "--- SET RETRIEVAL GRADE OUTPUT KO ❌ ---\n"
     ]
    },
    {
     "name": "stderr",
     "output_type": "stream",
     "text": [
      "No relevant docs were retrieved using the relevance score threshold 0.75\n"
     ]
    },
    {
     "name": "stdout",
     "output_type": "stream",
     "text": [
      "--- CHECK ITERATIONS 🔁 ---\n",
      "--- GRADE HALLUCINATIONS 👻 ---\n",
      "--- DECISION: GENERATION IS GROUNDED IN DOCUMENTS ✅ ---\n"
     ]
    },
    {
     "name": "stderr",
     "output_type": "stream",
     "text": [
      "No relevant docs were retrieved using the relevance score threshold 0.75\n"
     ]
    },
    {
     "name": "stdout",
     "output_type": "stream",
     "text": [
      "--- DECISION: GENERATION ADDRESSES QUESTION ✅ ---\n",
      "--- CHECK ITERATIONS 🔁 ---\n",
      "--- GRADE HALLUCINATIONS 👻 ---\n",
      "--- CHECK ITERATIONS 🔁 ---\n",
      "--- GRADE HALLUCINATIONS 👻 ---\n",
      "--- DECISION: GENERATION IS NOT GROUNDED (HALLUCINATIONS) 👻❌ ---\n",
      "--- SUMMARIZE CHUNK 📝📚 ---\n",
      "--- DECISION: GENERATION IS GROUNDED IN DOCUMENTS ✅ ---\n",
      "--- CHECK ITERATIONS 🔁 ---\n",
      "--- GRADE HALLUCINATIONS 👻 ---\n"
     ]
    },
    {
     "name": "stderr",
     "output_type": "stream",
     "text": [
      "No relevant docs were retrieved using the relevance score threshold 0.75\n"
     ]
    },
    {
     "name": "stdout",
     "output_type": "stream",
     "text": [
      "--- DECISION: GENERATION ADDRESSES QUESTION ✅ ---\n",
      "--- DECISION: GENERATION IS GROUNDED IN DOCUMENTS ✅ ---\n",
      "--- DECISION: GENERATION ADDRESSES QUESTION ✅ ---\n"
     ]
    },
    {
     "name": "stderr",
     "output_type": "stream",
     "text": [
      "No relevant docs were retrieved using the relevance score threshold 0.75\n"
     ]
    },
    {
     "name": "stdout",
     "output_type": "stream",
     "text": [
      "--- PARALLELIZE GENERATION 🔢 ---\n",
      "--- GRADE CHUNK RELEVANCE TO QUESTION ❔ ---\n",
      "--- GRADE CHUNK RELEVANCE TO QUESTION ❔ ---\n",
      "--- GRADE CHUNK RELEVANCE TO QUESTION ❔ ---\n",
      "--- GRADE CHUNK RELEVANCE TO QUESTION ❔ ---\n",
      "--- GRADE CHUNK RELEVANCE TO QUESTION ❔ ---\n",
      "--- GRADE CHUNK RELEVANCE TO QUESTION ❔ ---\n",
      "--- GRADE CHUNK RELEVANCE TO QUESTION ❔ ---\n",
      "--- GRADE CHUNK RELEVANCE TO QUESTION ❔ ---\n",
      "--- GRADE CHUNK RELEVANCE TO QUESTION ❔ ---\n",
      "--- GRADE: RELEVANT CHUNK ✅ ---\n",
      "--- SUMMARIZE CHUNK 📝📚 ---\n",
      "--- GRADE: NOT RELEVANT CHUNK 🗑️ ---\n",
      "--- SET RETRIEVAL GRADE OUTPUT KO ❌ ---\n",
      "--- GRADE: NOT RELEVANT CHUNK 🗑️ ---\n",
      "--- SET RETRIEVAL GRADE OUTPUT KO ❌ ---\n",
      "--- GRADE: NOT RELEVANT CHUNK 🗑️ ---\n",
      "--- SET RETRIEVAL GRADE OUTPUT KO ❌ ---\n",
      "--- GRADE: NOT RELEVANT CHUNK 🗑️ ---\n",
      "--- SET RETRIEVAL GRADE OUTPUT KO ❌ ---\n",
      "--- GRADE: NOT RELEVANT CHUNK 🗑️ ---\n",
      "--- SET RETRIEVAL GRADE OUTPUT KO ❌ ---\n",
      "--- GRADE: NOT RELEVANT CHUNK 🗑️ ---\n",
      "--- SET RETRIEVAL GRADE OUTPUT KO ❌ ---\n",
      "--- GRADE: NOT RELEVANT CHUNK 🗑️ ---\n",
      "--- SET RETRIEVAL GRADE OUTPUT KO ❌ ---\n",
      "--- GRADE: RELEVANT CHUNK ✅ ---\n",
      "--- SUMMARIZE CHUNK 📝📚 ---\n",
      "--- CHECK ITERATIONS 🔁 ---\n",
      "--- GRADE HALLUCINATIONS 👻 ---\n",
      "--- DECISION: GENERATION IS NOT GROUNDED (HALLUCINATIONS) 👻❌ ---\n",
      "--- SUMMARIZE CHUNK 📝📚 ---\n",
      "--- CHECK ITERATIONS 🔁 ---\n",
      "--- GRADE HALLUCINATIONS 👻 ---\n",
      "--- DECISION: GENERATION IS GROUNDED IN DOCUMENTS ✅ ---\n",
      "--- CHECK ITERATIONS 🔁 ---\n",
      "--- GRADE HALLUCINATIONS 👻 ---\n",
      "--- DECISION: GENERATION ADDRESSES QUESTION ✅ ---\n",
      "--- DECISION: GENERATION IS GROUNDED IN DOCUMENTS ✅ ---\n",
      "--- CHECK ITERATIONS 🔁 ---\n",
      "--- DECISION: MAX ITERATIONS REACHED (3) 🔚 ---\n",
      "--- SET RETRIEVAL GRADE OUTPUT KO ❌ ---\n",
      "--- SUMMARIZE BUSINES LOGIC 📝👨‍💼 ---\n",
      "--- DECISION: GENERATION ADDRESSES QUESTION ✅ ---\n",
      "--- SUMMARIZE MDL 📝🗂️ ---\n",
      "--- GRADE CONTEXT SUMMARIES 🔍 ---\n",
      "--- GENERATE GLOBAL CONTEXT 📝🌐 ---\n"
     ]
    },
    {
     "data": {
      "text/plain": [
       "{'language': 'Spanish',\n",
       " 'relevant_context': True,\n",
       " 'context': \"### Resumen General\\nEl objetivo es identificar los 10 clientes que más han comprado durante el mes pasado, considerando únicamente las ventas realizadas en línea (B2C). Esto implica calcular el volumen total de ventas por cliente, filtrando las transacciones por el mes anterior y ordenando los resultados en orden descendente según el importe total de ventas.\\n\\n### Esquema Detallado y Relaciones\\n#### Base de datos y esquema\\n- **Base de datos:** adventure_works_dw\\n- **Esquema:** sales\\n\\n#### Tabla: dim_customer\\n- **Descripción:** Contiene información detallada de clientes que han realizado compras en línea en el segmento minorista (B2C).\\n- **Clave primaria:** customer_key\\n- **Columnas relevantes:**\\n  1. **customer_full_name**: Tipo de dato: TEXT, Descripción: Nombre/s y apellido/s del cliente.\\n\\n#### Tabla: fact_sales\\n- **Descripción:** Contiene el detalle de las órdenes de ventas entregadas, con granularidad a nivel de línea.\\n- **Clave primaria:** sales_order_number, sales_order_line_number\\n- **Claves foráneas:** customer_key (referencia a sales.dim_customer.customer_key)\\n- **Columnas relevantes:**\\n  1. **order_date**: Tipo de dato: DATE, Descripción: Fecha en la que el pedido fue creado.\\n  2. **sales_amount**: Tipo de dato: NUMERIC, Descripción: Subtotal en USD de la línea de orden de venta.\\n  3. **customer_key**: Tipo de dato: Referencia a sales.dim_customer.customer_key, Descripción: Identificador del cliente asociado a la orden de venta.\\n\\n#### Relaciones entre tablas\\n- La tabla `fact_sales` se relaciona con la tabla `dim_customer` mediante la clave foránea `customer_key`.\\n- Para calcular el total de compras por cliente: Usar la columna `sales_amount` y agrupar por `customer_key`.\\n- Para filtrar las ventas del mes pasado: Usar la columna `order_date` con una condición de rango de fechas.\\n\\n### Reglas de Negocio y Lógica\\n1. **Cálculo del Volumen de Ventas por Cliente:**\\n   - El volumen de ventas por cliente se define como la suma del campo `sales_amount` agrupado por la clave del cliente (`customer_key`).\\n   - Ejemplo de cálculo:\\n     ```sql\\n     SELECT\\n         fs.customer_key,\\n         dc.customer_full_name AS cliente,\\n         SUM(fs.sales_amount) AS importe_ventas_por_cliente\\n     FROM sales.fact_sales fs\\n     JOIN sales.dim_customer dc ON fs.customer_key = dc.customer_key\\n     WHERE fs.sale_source = 'internet_sales'\\n     GROUP BY fs.customer_key, dc.customer_full_name\\n     ORDER BY importe_ventas_por_cliente DESC;\\n     ```\\n\\n2. **Filtro Temporal para el Mes Pasado:**\\n   - Para limitar las ventas al mes anterior, se debe incluir una condición en la cláusula `WHERE` que utilice la columna `order_date`. Ejemplo de filtro temporal:\\n     ```sql\\n     WHERE fs.order_date >= DATEADD(MONTH, -1, DATEFROMPARTS(YEAR(GETDATE()), MONTH(GETDATE()), 1))\\n       AND fs.order_date < DATEFROMPARTS(YEAR(GETDATE()), MONTH(GETDATE()), 1)\\n     ```\\n\\n3. **Orden y Límite:**\\n   - Los resultados deben ordenarse en orden descendente según el importe total de ventas (`importe_ventas_por_cliente`).\\n   - Se deben limitar los resultados a los 10 primeros clientes utilizando `TOP 10` o `LIMIT 10` dependiendo del sistema SQL.\"}"
      ]
     },
     "execution_count": 6,
     "metadata": {},
     "output_type": "execute_result"
    }
   ],
   "source": [
    "user_query = 'Dime los 10 clientes que más han comprado el mes pasado.'\n",
    "\n",
    "global_context_test = context_generator_graph.invoke({\n",
    "    \"user_query\": user_query\n",
    "})\n",
    "\n",
    "global_context_test"
   ]
  },
  {
   "cell_type": "code",
   "execution_count": 7,
   "id": "43bd866e",
   "metadata": {},
   "outputs": [
    {
     "data": {
      "text/markdown": [
       "### Resumen General\n",
       "El objetivo es identificar los 10 clientes que más han comprado durante el mes pasado, considerando únicamente las ventas realizadas en línea (B2C). Esto implica calcular el volumen total de ventas por cliente, filtrando las transacciones por el mes anterior y ordenando los resultados en orden descendente según el importe total de ventas.\n",
       "\n",
       "### Esquema Detallado y Relaciones\n",
       "#### Base de datos y esquema\n",
       "- **Base de datos:** adventure_works_dw\n",
       "- **Esquema:** sales\n",
       "\n",
       "#### Tabla: dim_customer\n",
       "- **Descripción:** Contiene información detallada de clientes que han realizado compras en línea en el segmento minorista (B2C).\n",
       "- **Clave primaria:** customer_key\n",
       "- **Columnas relevantes:**\n",
       "  1. **customer_full_name**: Tipo de dato: TEXT, Descripción: Nombre/s y apellido/s del cliente.\n",
       "\n",
       "#### Tabla: fact_sales\n",
       "- **Descripción:** Contiene el detalle de las órdenes de ventas entregadas, con granularidad a nivel de línea.\n",
       "- **Clave primaria:** sales_order_number, sales_order_line_number\n",
       "- **Claves foráneas:** customer_key (referencia a sales.dim_customer.customer_key)\n",
       "- **Columnas relevantes:**\n",
       "  1. **order_date**: Tipo de dato: DATE, Descripción: Fecha en la que el pedido fue creado.\n",
       "  2. **sales_amount**: Tipo de dato: NUMERIC, Descripción: Subtotal en USD de la línea de orden de venta.\n",
       "  3. **customer_key**: Tipo de dato: Referencia a sales.dim_customer.customer_key, Descripción: Identificador del cliente asociado a la orden de venta.\n",
       "\n",
       "#### Relaciones entre tablas\n",
       "- La tabla `fact_sales` se relaciona con la tabla `dim_customer` mediante la clave foránea `customer_key`.\n",
       "- Para calcular el total de compras por cliente: Usar la columna `sales_amount` y agrupar por `customer_key`.\n",
       "- Para filtrar las ventas del mes pasado: Usar la columna `order_date` con una condición de rango de fechas.\n",
       "\n",
       "### Reglas de Negocio y Lógica\n",
       "1. **Cálculo del Volumen de Ventas por Cliente:**\n",
       "   - El volumen de ventas por cliente se define como la suma del campo `sales_amount` agrupado por la clave del cliente (`customer_key`).\n",
       "   - Ejemplo de cálculo:\n",
       "     ```sql\n",
       "     SELECT\n",
       "         fs.customer_key,\n",
       "         dc.customer_full_name AS cliente,\n",
       "         SUM(fs.sales_amount) AS importe_ventas_por_cliente\n",
       "     FROM sales.fact_sales fs\n",
       "     JOIN sales.dim_customer dc ON fs.customer_key = dc.customer_key\n",
       "     WHERE fs.sale_source = 'internet_sales'\n",
       "     GROUP BY fs.customer_key, dc.customer_full_name\n",
       "     ORDER BY importe_ventas_por_cliente DESC;\n",
       "     ```\n",
       "\n",
       "2. **Filtro Temporal para el Mes Pasado:**\n",
       "   - Para limitar las ventas al mes anterior, se debe incluir una condición en la cláusula `WHERE` que utilice la columna `order_date`. Ejemplo de filtro temporal:\n",
       "     ```sql\n",
       "     WHERE fs.order_date >= DATEADD(MONTH, -1, DATEFROMPARTS(YEAR(GETDATE()), MONTH(GETDATE()), 1))\n",
       "       AND fs.order_date < DATEFROMPARTS(YEAR(GETDATE()), MONTH(GETDATE()), 1)\n",
       "     ```\n",
       "\n",
       "3. **Orden y Límite:**\n",
       "   - Los resultados deben ordenarse en orden descendente según el importe total de ventas (`importe_ventas_por_cliente`).\n",
       "   - Se deben limitar los resultados a los 10 primeros clientes utilizando `TOP 10` o `LIMIT 10` dependiendo del sistema SQL."
      ],
      "text/plain": [
       "<IPython.core.display.Markdown object>"
      ]
     },
     "execution_count": 7,
     "metadata": {},
     "output_type": "execute_result"
    }
   ],
   "source": [
    "Markdown(global_context_test['context'])"
   ]
  },
  {
   "cell_type": "code",
   "execution_count": 8,
   "id": "e9478a84",
   "metadata": {},
   "outputs": [
    {
     "name": "stdout",
     "output_type": "stream",
     "text": [
      "--- DEFINE USER QUERY LANGUAGE 🔣 ---\n",
      "--- GENERATING BUSINESS_LOGIC SUB-QUERIES 📚 ---\n",
      "--- GENERATING MDL SUB-QUERIES 📚 ---\n",
      "--- MDL RETRIEVE TOOL 🛠️ ---\n",
      "--- BUSINESS_LOGIC RETRIEVE TOOL 🛠️ ---\n",
      "--- PARALLELIZE GENERATION 🔢 ---\n",
      "--- GRADE CHUNK RELEVANCE TO QUESTION ❔ ---\n",
      "--- GRADE CHUNK RELEVANCE TO QUESTION ❔ ---\n",
      "--- GRADE CHUNK RELEVANCE TO QUESTION ❔ ---\n",
      "--- GRADE CHUNK RELEVANCE TO QUESTION ❔ ---\n",
      "--- GRADE CHUNK RELEVANCE TO QUESTION ❔ ---\n",
      "--- GRADE CHUNK RELEVANCE TO QUESTION ❔ ---\n",
      "--- GRADE CHUNK RELEVANCE TO QUESTION ❔ ---\n",
      "--- GRADE CHUNK RELEVANCE TO QUESTION ❔ ---\n",
      "--- GRADE CHUNK RELEVANCE TO QUESTION ❔ ---\n",
      "--- GRADE CHUNK RELEVANCE TO QUESTION ❔ ---\n",
      "--- GRADE: NOT RELEVANT CHUNK 🗑️ ---\n",
      "--- SET RETRIEVAL GRADE OUTPUT KO ❌ ---\n",
      "--- GRADE: NOT RELEVANT CHUNK 🗑️ ---\n",
      "--- SET RETRIEVAL GRADE OUTPUT KO ❌ ---\n",
      "--- GRADE: NOT RELEVANT CHUNK 🗑️ ---\n",
      "--- SET RETRIEVAL GRADE OUTPUT KO ❌ ---\n",
      "--- GRADE: NOT RELEVANT CHUNK 🗑️ ---\n",
      "--- SET RETRIEVAL GRADE OUTPUT KO ❌ ---\n",
      "--- GRADE: NOT RELEVANT CHUNK 🗑️ ---\n",
      "--- SET RETRIEVAL GRADE OUTPUT KO ❌ ---\n",
      "--- GRADE: NOT RELEVANT CHUNK 🗑️ ---\n",
      "--- SET RETRIEVAL GRADE OUTPUT KO ❌ ---\n",
      "--- GRADE: NOT RELEVANT CHUNK 🗑️ ---\n",
      "--- SET RETRIEVAL GRADE OUTPUT KO ❌ ---\n",
      "--- GRADE: NOT RELEVANT CHUNK 🗑️ ---\n",
      "--- SET RETRIEVAL GRADE OUTPUT KO ❌ ---\n",
      "--- GRADE: NOT RELEVANT CHUNK 🗑️ ---\n",
      "--- SET RETRIEVAL GRADE OUTPUT KO ❌ ---\n",
      "--- GRADE: NOT RELEVANT CHUNK 🗑️ ---\n",
      "--- SET RETRIEVAL GRADE OUTPUT KO ❌ ---\n",
      "--- SUMMARIZE BUSINES LOGIC 📝👨‍💼 ---\n"
     ]
    },
    {
     "name": "stderr",
     "output_type": "stream",
     "text": [
      "No relevant docs were retrieved using the relevance score threshold 0.75\n",
      "No relevant docs were retrieved using the relevance score threshold 0.75\n",
      "No relevant docs were retrieved using the relevance score threshold 0.75\n",
      "No relevant docs were retrieved using the relevance score threshold 0.75\n",
      "No relevant docs were retrieved using the relevance score threshold 0.75\n"
     ]
    },
    {
     "name": "stdout",
     "output_type": "stream",
     "text": [
      "--- PARALLELIZE GENERATION 🔢 ---\n",
      "--- GRADE CHUNK RELEVANCE TO QUESTION ❔ ---\n",
      "--- GRADE CHUNK RELEVANCE TO QUESTION ❔ ---\n",
      "--- GRADE CHUNK RELEVANCE TO QUESTION ❔ ---\n",
      "--- GRADE CHUNK RELEVANCE TO QUESTION ❔ ---\n",
      "--- GRADE CHUNK RELEVANCE TO QUESTION ❔ ---\n",
      "--- GRADE CHUNK RELEVANCE TO QUESTION ❔ ---\n",
      "--- GRADE CHUNK RELEVANCE TO QUESTION ❔ ---\n",
      "--- GRADE CHUNK RELEVANCE TO QUESTION ❔ ---\n",
      "--- GRADE CHUNK RELEVANCE TO QUESTION ❔ ---\n",
      "--- GRADE: NOT RELEVANT CHUNK 🗑️ ---\n",
      "--- SET RETRIEVAL GRADE OUTPUT KO ❌ ---\n",
      "--- GRADE: NOT RELEVANT CHUNK 🗑️ ---\n",
      "--- SET RETRIEVAL GRADE OUTPUT KO ❌ ---\n",
      "--- GRADE: NOT RELEVANT CHUNK 🗑️ ---\n",
      "--- SET RETRIEVAL GRADE OUTPUT KO ❌ ---\n",
      "--- GRADE: NOT RELEVANT CHUNK 🗑️ ---\n",
      "--- SET RETRIEVAL GRADE OUTPUT KO ❌ ---\n",
      "--- GRADE: NOT RELEVANT CHUNK 🗑️ ---\n",
      "--- SET RETRIEVAL GRADE OUTPUT KO ❌ ---\n",
      "--- GRADE: NOT RELEVANT CHUNK 🗑️ ---\n",
      "--- SET RETRIEVAL GRADE OUTPUT KO ❌ ---\n",
      "--- GRADE: NOT RELEVANT CHUNK 🗑️ ---\n",
      "--- SET RETRIEVAL GRADE OUTPUT KO ❌ ---\n",
      "--- GRADE: NOT RELEVANT CHUNK 🗑️ ---\n",
      "--- SET RETRIEVAL GRADE OUTPUT KO ❌ ---\n",
      "--- GRADE: NOT RELEVANT CHUNK 🗑️ ---\n",
      "--- SET RETRIEVAL GRADE OUTPUT KO ❌ ---\n",
      "--- SUMMARIZE MDL 📝🗂️ ---\n",
      "--- GRADE CONTEXT SUMMARIES 🔍 ---\n",
      "--- GENERATE NO RELEVANT CONTEXT RESPONSE 📝⛔ ---\n"
     ]
    },
    {
     "data": {
      "text/plain": [
       "{'language': 'Spanish',\n",
       " 'relevant_context': False,\n",
       " 'no_relevant_context_msg': 'Lo siento mucho, pero no puedo responder a tu pregunta sobre el departamento con el salario medio más alto, ya que este tema está fuera del alcance de la información proporcionada. Sin embargo, puedo ayudarte con temas relacionados con el análisis de ventas, como el cálculo del volumen de ventas por agente comercial o el valor promedio por orden. Por favor, dime cómo puedo asistirte.'}"
      ]
     },
     "execution_count": 8,
     "metadata": {},
     "output_type": "execute_result"
    }
   ],
   "source": [
    "user_query = 'Dime el departamento con el salario medio más alto.'\n",
    "\n",
    "global_context_test = context_generator_graph.invoke({\n",
    "    \"user_query\": user_query\n",
    "})\n",
    "\n",
    "global_context_test"
   ]
  },
  {
   "cell_type": "code",
   "execution_count": 9,
   "id": "12a82fc9",
   "metadata": {},
   "outputs": [
    {
     "data": {
      "text/markdown": [
       "Lo siento mucho, pero no puedo responder a tu pregunta sobre el departamento con el salario medio más alto, ya que este tema está fuera del alcance de la información proporcionada. Sin embargo, puedo ayudarte con temas relacionados con el análisis de ventas, como el cálculo del volumen de ventas por agente comercial o el valor promedio por orden. Por favor, dime cómo puedo asistirte."
      ],
      "text/plain": [
       "<IPython.core.display.Markdown object>"
      ]
     },
     "execution_count": 9,
     "metadata": {},
     "output_type": "execute_result"
    }
   ],
   "source": [
    "Markdown(global_context_test['no_relevant_context_msg'])"
   ]
  },
  {
   "cell_type": "code",
   "execution_count": null,
   "id": "230ba37e",
   "metadata": {},
   "outputs": [],
   "source": []
  }
 ],
 "metadata": {
  "kernelspec": {
   "display_name": "ucm-tfm-grupo-4 (3.11.9)",
   "language": "python",
   "name": "python3"
  },
  "language_info": {
   "codemirror_mode": {
    "name": "ipython",
    "version": 3
   },
   "file_extension": ".py",
   "mimetype": "text/x-python",
   "name": "python",
   "nbconvert_exporter": "python",
   "pygments_lexer": "ipython3",
   "version": "3.11.9"
  }
 },
 "nbformat": 4,
 "nbformat_minor": 5
}
