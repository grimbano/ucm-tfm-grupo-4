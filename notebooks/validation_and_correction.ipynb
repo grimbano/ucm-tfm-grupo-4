{
 "cells": [
  {
   "cell_type": "markdown",
   "id": "b4b96296",
   "metadata": {},
   "source": [
    "## 🧪 Validador de Query\n",
    "\n",
    "-   Toma la salida del generador de query, que incluye tanto la **sentencia SQL como el mensaje original del usuario**. Actúa como un juez para validar la coherencia de la query.\n",
    "    1.  **Juez de coherencia**: Con la ayuda de un modelo de lenguaje, decide si la query SQL es **semánticamente coherente** con la petición del usuario.\n",
    "        * Si el veredicto es **`INCOHERENTE`**, el validador no ejecuta la query y pasa el error de coherencia al corrector.\n",
    "        * Si el veredicto es **`COHERENTE`**, el validador procede a ejecutar la query en la BBDD.\n",
    "    2.  **Conexión y ejecución**: Se conecta a la base de datos PostgreSQL con el `search_path` configurado y, respecto a la salida:\n",
    "        * ✅ **Success**: Pasa la sentencia SQL, el mensaje del usuario y la salida de la BBDD al siguiente agente (generador de conclusiones).\n",
    "        * ❌ **Error**: Pasa el error de ejecución de la BBDD (sintaxis, tabla no existe, etc.) al corrector de query.\n",
    "\n",
    "***\n",
    "\n",
    "## 🛠️ Corrector de Query\n",
    "\n",
    "-   Recibe un error generado por el validador, que puede ser de **dos tipos**:\n",
    "    * Un error de **`incoherencia`** (el juez rechazó la query).\n",
    "    * Un error de **`ejecución en la BBDD`** (la query falló en PostgreSQL).\n",
    "-   Analiza el mensaje de error (o el veredicto del juez) y la query original, usando el contexto del mensaje del usuario para entender la intención.\n",
    "-   Propone una **versión corregida y coherente** de la query.\n",
    "-   Envía la nueva query de vuelta al validador para que intente ejecutarla nuevamente, reiniciando así el ciclo de validación."
   ]
  },
  {
   "cell_type": "markdown",
   "id": "cfcd24de",
   "metadata": {},
   "source": [
    "### 1. Configuracion de entorno"
   ]
  },
  {
   "cell_type": "code",
   "execution_count": 3,
   "id": "73090024",
   "metadata": {},
   "outputs": [
    {
     "name": "stderr",
     "output_type": "stream",
     "text": [
      "\u001b[2mUsing Python 3.11.13 environment at: C:\\MASTER\\TFM\\ucm-tfm-grupo-4\\.venv\u001b[0m\n",
      "\u001b[2mResolved \u001b[1m31 packages\u001b[0m \u001b[2min 1m 47s\u001b[0m\u001b[0m\n",
      "\u001b[2mPrepared \u001b[1m6 packages\u001b[0m \u001b[2min 8.32s\u001b[0m\u001b[0m\n",
      "\u001b[2mInstalled \u001b[1m6 packages\u001b[0m \u001b[2min 125ms\u001b[0m\u001b[0m\n",
      " \u001b[32m+\u001b[39m \u001b[1mlanggraph\u001b[0m\u001b[2m==0.6.6\u001b[0m\n",
      " \u001b[32m+\u001b[39m \u001b[1mlanggraph-checkpoint\u001b[0m\u001b[2m==2.1.1\u001b[0m\n",
      " \u001b[32m+\u001b[39m \u001b[1mlanggraph-prebuilt\u001b[0m\u001b[2m==0.6.4\u001b[0m\n",
      " \u001b[32m+\u001b[39m \u001b[1mlanggraph-sdk\u001b[0m\u001b[2m==0.2.4\u001b[0m\n",
      " \u001b[32m+\u001b[39m \u001b[1mormsgpack\u001b[0m\u001b[2m==1.10.0\u001b[0m\n",
      " \u001b[32m+\u001b[39m \u001b[1mxxhash\u001b[0m\u001b[2m==3.5.0\u001b[0m\n"
     ]
    }
   ],
   "source": [
    "# Instalar las librerías necesarias\n",
    "!uv pip install langgraph"
   ]
  },
  {
   "cell_type": "code",
   "execution_count": 28,
   "id": "0422d111",
   "metadata": {},
   "outputs": [
    {
     "name": "stdout",
     "output_type": "stream",
     "text": [
      "Conexión a la base de datos establecida correctamente.\n"
     ]
    }
   ],
   "source": [
    "import os\n",
    "import re\n",
    "from dotenv import load_dotenv\n",
    "from openai import AzureOpenAI\n",
    "from langchain_community.utilities import SQLDatabase\n",
    "from langgraph.graph import StateGraph, END\n",
    "from typing import TypedDict, Optional, Any\n",
    "\n",
    "\n",
    "# Cargar las variables de entorno desde el archivo .env\n",
    "load_dotenv()\n",
    "\n",
    "# --- Configuración de Azure OpenAI ---\n",
    "azure_api_key = os.getenv(\"AZURE_OPENAI_API_KEY\")\n",
    "azure_endpoint = os.getenv(\"AZURE_OPENAI_ENDPOINT\")\n",
    "azure_api_version = os.getenv(\"AZURE_OPENAI_API_VERSION\")\n",
    "azure_deployment_name = os.getenv(\"AZURE_OPENAI_DEPLOYMENT_NAME\")\n",
    "\n",
    "if not all([azure_api_key, azure_endpoint, azure_api_version, azure_deployment_name]):\n",
    "    raise ValueError(\"Faltan una o más variables de entorno de Azure OpenAI.\")\n",
    "\n",
    "# Instancia del cliente de Azure OpenAI\n",
    "client = AzureOpenAI(\n",
    "    api_key=azure_api_key,\n",
    "    azure_endpoint=azure_endpoint,\n",
    "    api_version=azure_api_version\n",
    ")\n",
    "\n",
    "# --- Configuración de la conexión a la BBDD ---\n",
    "db_user = os.getenv(\"DB_USER\")\n",
    "db_pass = os.getenv(\"DB_PASS\")\n",
    "db_host = os.getenv(\"DB_HOST\")\n",
    "db_port = os.getenv(\"DB_PORT\")\n",
    "db_name = os.getenv(\"DB_NAME\")\n",
    "schema_name = os.getenv(\"DB_SCHEMA\")\n",
    "\n",
    "db_uri = f\"postgresql+psycopg2://{db_user}:{db_pass}@{db_host}:{db_port}/{db_name}?options=-csearch_path%3D{schema_name}\"\n",
    "\n",
    "try:\n",
    "    db = SQLDatabase.from_uri(db_uri)\n",
    "    print(\"Conexión a la base de datos establecida correctamente.\")\n",
    "except Exception as e:\n",
    "    print(f\"Error al conectar a la base de datos: {e}\")\n",
    "    db = None\n",
    "\n",
    "# --- Estado del Grafo ---\n",
    "class GraphState(TypedDict):\n",
    "    \"\"\"Estado del grafo que se pasa entre los nodos.\"\"\"\n",
    "    user_message: str\n",
    "    sql_query: str\n",
    "    high_level_summary: str\n",
    "    db_output: Optional[dict]\n",
    "    error_message: Optional[str]\n",
    "    retries: int"
   ]
  },
  {
   "cell_type": "markdown",
   "id": "825494c0",
   "metadata": {},
   "source": [
    "### 2. Definicion de Nodos\n"
   ]
  },
  {
   "cell_type": "code",
   "execution_count": 56,
   "id": "a16a8dfb",
   "metadata": {},
   "outputs": [],
   "source": [
    "MAX_RETRIES = 3\n",
    "\n",
    "def validador_juez_y_query_node(state: GraphState) -> GraphState:\n",
    "    sql_query = state.get(\"sql_query\")\n",
    "    user_message = state.get(\"user_message\")\n",
    "    high_level_summary = state.get(\"high_level_summary\")\n",
    "    retries = state.get(\"retries\", 0) + 1\n",
    "    \n",
    "    if retries > MAX_RETRIES:\n",
    "        print(f\"\\nLímite de {MAX_RETRIES} reintentos alcanzado. Finalizando.\")\n",
    "        return {\"error_message\": \"limit_reached\"}\n",
    "\n",
    "    print(\"\\n--- INICIANDO FASE DE JUEZ DE COHERENCIA ---\")\n",
    "    messages = [{\"role\": \"system\", \"content\": \"Eres un juez experto en SQL y vas a recibir un mensaje de usuario, una query y un resumen en alto nivel de las tablas involucradas en la query. Responde SÓLO con 'COHERENTE' si la query es correcta para el mensaje, o con 'INCOHERENTE'.\"},\n",
    "                {\"role\": \"user\", \"content\": f\"Mensaje del usuario: '{user_message}'\\nQuery SQL: '{sql_query}'\\nResumen de alto nivel: '{high_level_summary}'\"}]\n",
    "    \n",
    "    try:\n",
    "        response = client.chat.completions.create(messages=messages, model=azure_deployment_name, temperature=0)\n",
    "        veredicto = response.choices[0].message.content.strip().upper()\n",
    "        print(f\"Veredicto del juez: {veredicto}\")\n",
    "        \n",
    "        if \"INCOHERENTE\" in veredicto:\n",
    "            print(\"\\n[X] La query es incoherente. No se ejecutará en la BBDD.\")\n",
    "            return {\"error_message\": \"error_coherencia\", \"retries\": retries}\n",
    "    except Exception as e:\n",
    "        print(f\"Error al llamar al juez: {e}\")\n",
    "        return {\"error_message\": \"error_juez\", \"retries\": retries}\n",
    "        \n",
    "    print(\"\\n--- PASANDO A FASE DE EJECUCIÓN EN POSTGRESQL ---\")\n",
    "    if not db:\n",
    "        return {\"error_message\": \"error_db\", \"retries\": retries}\n",
    "\n",
    "    try:\n",
    "        match = re.search(r\"FROM\\s+(\\w+)\\.?(\\w+)\\s*\", sql_query, re.IGNORECASE)\n",
    "        table_name = match.group(2) if match and match.group(2) else (match.group(1) if match else None)\n",
    "        \n",
    "        table_info = db.get_table_info([table_name]) if table_name else None\n",
    "        result_string = db.run(sql_query)\n",
    "        \n",
    "        db_output = {\"schema\": table_info, \"data\": result_string}\n",
    "        return {\"db_output\": db_output, \"error_message\": None, \"retries\": retries}\n",
    "\n",
    "    except Exception as e:\n",
    "        error_message = str(e)\n",
    "        print(f\"\\n[X] Error de PostgreSQL detectado: {error_message}\")\n",
    "        return {\"error_message\": \"error_db\", \"retries\": retries}\n",
    "\n",
    "def corrector_de_query_node(state: GraphState) -> GraphState:\n",
    "    original_query = state.get(\"sql_query\")\n",
    "    user_message = state.get(\"user_message\")\n",
    "    high_level_summary = state.get(\"high_level_summary\")\n",
    "    error_type = state.get(\"error_message\")\n",
    "\n",
    "    if error_type == \"error_coherencia\":\n",
    "        prompt_content = f\"La siguiente query SQL es incoherente con el mensaje del usuario, corrígela para que lo sea. Es necesario que pongas el nombre del esquema cuando referencias una tabla.. Mensaje: '{user_message}' Query: '{original_query}' Resumen tablas involucradas{high_level_summary}\"\n",
    "    elif error_type == \"error_db\":\n",
    "        prompt_content = f\"La siguiente query SQL ha fallado. La query era: '{original_query}'. La petición original: '{user_message}'.  Resumen tablas involucradas '{high_level_summary}'. Es necesario que pongas el nombre del esquema cuando referencias una tabla. Corrige la query.\"\n",
    "    else:\n",
    "        print(\"Error no reconocido. Saliendo del corrector.\")\n",
    "        return {\"sql_query\": original_query}\n",
    "\n",
    "    messages = [{\"role\": \"system\", \"content\": \"Eres un experto en bases de datos. Devuelve SÓLO la query corregida, sin usar MARKDOWN, sin explicaciones ni texto adicional.\"},\n",
    "                {\"role\": \"user\", \"content\": prompt_content}]\n",
    "    \n",
    "    print(f\"\\n> Mandando error a Azure OpenAI para corrección...\")\n",
    "    try:\n",
    "        response = client.chat.completions.create(messages=messages, model=azure_deployment_name, temperature=0, max_tokens=2048)\n",
    "        query_corregida = response.choices[0].message.content.strip()\n",
    "        query_corregida = query_corregida.replace(\"```sql\", \"\").replace(\"```\", \"\").rstrip(\";\")\n",
    "        query_corregida = query_corregida.strip()\n",
    "        \n",
    "        print(f\"  > Query corregida recibida: {query_corregida[:70]}...\")\n",
    "        return {\"sql_query\": query_corregida}\n",
    "    except Exception as e:\n",
    "        print(f\"Error al llamar a Azure OpenAI: {e}\")\n",
    "        return {\"sql_query\": original_query}\n",
    "\n",
    "def siguiente_tool_node(state: GraphState):\n",
    "    print(\"\\n--- LLAMADA A LA SIGUIENTE TOOL ---\")\n",
    "    db_output = state.get('db_output', {})\n",
    "    data = db_output.get('data')\n",
    "    print(\"La siguiente tool ha recibido los datos:\")\n",
    "    print(f\"Mensaje del usuario: {state.get('user_message')}\")\n",
    "    print(f\"Query SQL: {state.get('sql_query')}\")\n",
    "    print(f\"Salida de la BBDD: {data}\")\n",
    "    return {}"
   ]
  },
  {
   "cell_type": "markdown",
   "id": "17f880fe",
   "metadata": {},
   "source": [
    "### 3. Construcción de los Subgrafos y el Grafo Principal\n",
    "Esta es la sección clave donde redefinimos la arquitectura.\n",
    "\n",
    "#### A. Subgrafo del Validador\n",
    "Este grafo se encarga de la lógica de juez y ejecución. Si la query es exitosa, termina en END_SUCCESS. Si hay un error, termina en END_ERROR."
   ]
  },
  {
   "cell_type": "code",
   "execution_count": 57,
   "id": "42394727",
   "metadata": {},
   "outputs": [
    {
     "data": {
      "text/plain": [
       "<langgraph.graph.state.StateGraph at 0x200c1a2f7d0>"
      ]
     },
     "execution_count": 57,
     "metadata": {},
     "output_type": "execute_result"
    }
   ],
   "source": [
    "validator_subgraph = StateGraph(GraphState)\n",
    "validator_subgraph.add_node(\"validate\", validador_juez_y_query_node)\n",
    "\n",
    "validator_subgraph.add_conditional_edges(\n",
    "    \"validate\",\n",
    "    lambda state: \"success\" if not state.get(\"error_message\") else \"error\",\n",
    "    {\n",
    "        \"success\": END,\n",
    "        \"error\": END,\n",
    "    }\n",
    ")\n",
    "validator_subgraph.set_entry_point(\"validate\")"
   ]
  },
  {
   "cell_type": "markdown",
   "id": "d054ca15",
   "metadata": {},
   "source": [
    "#### B. Subgrafo del Corrector\n",
    "Este grafo es más simple. Su único propósito es corregir la query y devolverla al grafo principal, por lo que su nodo va directo a END."
   ]
  },
  {
   "cell_type": "code",
   "execution_count": 58,
   "id": "77a93c7f",
   "metadata": {},
   "outputs": [
    {
     "data": {
      "text/plain": [
       "<langgraph.graph.state.StateGraph at 0x200c1a17550>"
      ]
     },
     "execution_count": 58,
     "metadata": {},
     "output_type": "execute_result"
    }
   ],
   "source": [
    "corrector_subgraph = StateGraph(GraphState)\n",
    "corrector_subgraph.add_node(\"correct\", corrector_de_query_node)\n",
    "corrector_subgraph.add_edge(\"correct\", END)\n",
    "corrector_subgraph.set_entry_point(\"correct\")"
   ]
  },
  {
   "cell_type": "markdown",
   "id": "ac9f90ff",
   "metadata": {},
   "source": [
    "#### C. Grafo Orquestador Principal\n",
    "El orquestador une los subgrafos como si fueran nodos normales y define la lógica de bucle."
   ]
  },
  {
   "cell_type": "code",
   "execution_count": 59,
   "id": "d11e0b32",
   "metadata": {},
   "outputs": [],
   "source": [
    "# Construcción del grafo principal (orquestador)\n",
    "builder = StateGraph(GraphState)\n",
    "\n",
    "# Añadimos los subgrafos como nodos al grafo principal\n",
    "builder.add_node(\"validador_subgraph\", validator_subgraph.compile())\n",
    "builder.add_node(\"corrector_subgraph\", corrector_subgraph.compile())\n",
    "builder.add_node(\"finalizador\", siguiente_tool_node)\n",
    "\n",
    "# Definimos el flujo principal\n",
    "builder.set_entry_point(\"validador_subgraph\")\n",
    "\n",
    "# Si el validador devuelve un estado con error, vamos al corrector. Si no, al finalizador.\n",
    "builder.add_conditional_edges(\n",
    "    \"validador_subgraph\",\n",
    "    lambda state: \"error\" if state.get(\"error_message\") else \"success\",\n",
    "    {\n",
    "        \"success\": \"finalizador\",\n",
    "        \"error\": \"corrector_subgraph\",\n",
    "    }\n",
    ")\n",
    "\n",
    "# Después de corregir, la query vuelve al validador para un nuevo intento.\n",
    "builder.add_edge(\"corrector_subgraph\", \"validador_subgraph\")\n",
    "\n",
    "# El flujo termina después de la herramienta final.\n",
    "builder.add_edge(\"finalizador\", END)\n",
    "\n",
    "# Compilamos el grafo\n",
    "orchestrator = builder.compile()"
   ]
  },
  {
   "cell_type": "markdown",
   "id": "6572026f",
   "metadata": {},
   "source": [
    "### 4. Simulacion de casos del flujo de trabajo"
   ]
  },
  {
   "cell_type": "markdown",
   "id": "1647d5a0",
   "metadata": {},
   "source": [
    "#### A. query coherente sin fallo en la BBDD"
   ]
  },
  {
   "cell_type": "code",
   "execution_count": 60,
   "id": "c72ffcc2",
   "metadata": {},
   "outputs": [
    {
     "name": "stdout",
     "output_type": "stream",
     "text": [
      "\n",
      "--- INICIANDO FASE DE JUEZ DE COHERENCIA ---\n",
      "Veredicto del juez: COHERENTE\n",
      "\n",
      "--- PASANDO A FASE DE EJECUCIÓN EN POSTGRESQL ---\n",
      "{'validador_subgraph': {'user_message': 'Quiero saber cuántos clientes hay en total.', 'sql_query': 'SELECT COUNT(*) FROM adventure_works.dim_customer', 'high_level_summary': '###Detalle de Tablas y Columnas Relevantes\\n#### Tabla: dim_customer\\n- *Descripción:* Contiene información detallada de clientes.\\n- *Columnas Relevantes:\\n  - customer_key: Clave primaria, tipo NUMERIC.\\n  - customer_full_name: Nombre completo del cliente, tipo TEXT.\\n\\n#### Tabla: fact_sales\\n- **Descripción:* Contiene detalles de las órdenes de ventas.\\n- *Columnas Relevantes:*\\n  - customer_key: Llave foránea, tipo NUMERIC.\\n  - sales_amount: Subtotal de la línea de orden de venta, tipo NUMERIC.\\n  - order_date: Fecha de creación del pedido, tipo DATE.\\n', 'db_output': {'schema': '\\nCREATE TABLE dim_customer (\\n\\tcustomer_key SERIAL NOT NULL, \\n\\tgeography_key INTEGER, \\n\\tcustomer_alternate_key VARCHAR(15) NOT NULL, \\n\\ttitle VARCHAR(8), \\n\\tfirst_name VARCHAR(50), \\n\\tmiddle_name VARCHAR(50), \\n\\tlast_name VARCHAR(50), \\n\\tname_style BOOLEAN, \\n\\tbirth_date DATE, \\n\\tmarital_status CHAR(1), \\n\\tsuffix VARCHAR(10), \\n\\tgender VARCHAR(1), \\n\\temail_address VARCHAR(50), \\n\\tyearly_income NUMERIC(19, 4), \\n\\ttotal_children SMALLINT, \\n\\tnumber_children_at_home SMALLINT, \\n\\tenglish_education VARCHAR(40), \\n\\tspanish_education VARCHAR(40), \\n\\tfrench_education VARCHAR(40), \\n\\tenglish_occupation VARCHAR(100), \\n\\tspanish_occupation VARCHAR(100), \\n\\tfrench_occupation VARCHAR(100), \\n\\thouse_owner_flag CHAR(1), \\n\\tnumber_cars_owned SMALLINT, \\n\\taddress_line1 VARCHAR(120), \\n\\taddress_line2 VARCHAR(120), \\n\\tphone VARCHAR(20), \\n\\tdate_first_purchase DATE, \\n\\tcommute_distance VARCHAR(15), \\n\\tCONSTRAINT dim_customer_pkey PRIMARY KEY (customer_key), \\n\\tCONSTRAINT fk_dim_customer_geography FOREIGN KEY(geography_key) REFERENCES dim_geography (geography_key)\\n)\\n\\n/*\\n3 rows from dim_customer table:\\ncustomer_key\\tgeography_key\\tcustomer_alternate_key\\ttitle\\tfirst_name\\tmiddle_name\\tlast_name\\tname_style\\tbirth_date\\tmarital_status\\tsuffix\\tgender\\temail_address\\tyearly_income\\ttotal_children\\tnumber_children_at_home\\tenglish_education\\tspanish_education\\tfrench_education\\tenglish_occupation\\tspanish_occupation\\tfrench_occupation\\thouse_owner_flag\\tnumber_cars_owned\\taddress_line1\\taddress_line2\\tphone\\tdate_first_purchase\\tcommute_distance\\n11000\\t26\\tAW00011000\\tNone\\tJon\\tV\\tYang\\tFalse\\t1971-10-06\\tM\\tNone\\tM\\tjon24@adventure-works.com\\t90000.0000\\t2\\t0\\tBachelors\\tLicenciatura\\tBac + 4\\tProfessional\\tProfesional\\tCadre\\t1\\t0\\t3761 N. 14th St\\tNone\\t1 (11) 500 555-0162\\t2011-01-19\\t1-2 Miles\\n11001\\t37\\tAW00011001\\tNone\\tEugene\\tL\\tHuang\\tFalse\\t1976-05-10\\tS\\tNone\\tM\\teugene10@adventure-works.com\\t60000.0000\\t3\\t3\\tBachelors\\tLicenciatura\\tBac + 4\\tProfessional\\tProfesional\\tCadre\\t0\\t1\\t2243 W St.\\tNone\\t1 (11) 500 555-0110\\t2011-01-15\\t0-1 Miles\\n11002\\t31\\tAW00011002\\tNone\\tRuben\\tNone\\tTorres\\tFalse\\t1971-02-09\\tM\\tNone\\tM\\truben35@adventure-works.com\\t60000.0000\\t3\\t3\\tBachelors\\tLicenciatura\\tBac + 4\\tProfessional\\tProfesional\\tCadre\\t1\\t1\\t5844 Linden Land\\tNone\\t1 (11) 500 555-0184\\t2011-01-07\\t2-5 Miles\\n*/', 'data': '[(18484,)]'}, 'error_message': None, 'retries': 1}}\n",
      "\n",
      "--- LLAMADA A LA SIGUIENTE TOOL ---\n",
      "La siguiente tool ha recibido los datos:\n",
      "Mensaje del usuario: Quiero saber cuántos clientes hay en total.\n",
      "Query SQL: SELECT COUNT(*) FROM adventure_works.dim_customer\n",
      "Salida de la BBDD: [(18484,)]\n",
      "{'finalizador': None}\n"
     ]
    }
   ],
   "source": [
    "user_msg_ok = \"Quiero saber cuántos clientes hay en total.\"\n",
    "query_ok = \"SELECT COUNT(*) FROM adventure_works.dim_customer\"\n",
    "high_level_summary = \"###Detalle de Tablas y Columnas Relevantes\\n#### Tabla: dim_customer\\n- *Descripción:* Contiene información detallada de clientes.\\n- *Columnas Relevantes:\\n  - customer_key: Clave primaria, tipo NUMERIC.\\n  - customer_full_name: Nombre completo del cliente, tipo TEXT.\\n\\n#### Tabla: fact_sales\\n- **Descripción:* Contiene detalles de las órdenes de ventas.\\n- *Columnas Relevantes:*\\n  - customer_key: Llave foránea, tipo NUMERIC.\\n  - sales_amount: Subtotal de la línea de orden de venta, tipo NUMERIC.\\n  - order_date: Fecha de creación del pedido, tipo DATE.\\n\"\n",
    "inputs = {\"user_message\": user_msg_ok, \"sql_query\": query_ok, \"high_level_summary\": high_level_summary, \"retries\": 0}\n",
    "for step in orchestrator.stream(inputs):\n",
    "    print(step)"
   ]
  },
  {
   "cell_type": "code",
   "execution_count": 39,
   "id": "8dd08c3f",
   "metadata": {},
   "outputs": [],
   "source": [
    "#### B. Corrección por Incoherencia Semántica"
   ]
  },
  {
   "cell_type": "code",
   "execution_count": 61,
   "id": "40f34b46",
   "metadata": {},
   "outputs": [
    {
     "name": "stdout",
     "output_type": "stream",
     "text": [
      "--- INICIANDO FLUJO PARA CORRECCIÓN DE INCOHERENCIA ---\n",
      "\n",
      "--- INICIANDO FASE DE JUEZ DE COHERENCIA ---\n",
      "Veredicto del juez: INCOHERENTE\n",
      "\n",
      "[X] La query es incoherente. No se ejecutará en la BBDD.\n",
      "{'validador_subgraph': {'user_message': 'Quiero ver los nombres de los clientes.(solo 10)', 'sql_query': 'SELECT SUM(sales_amount) FROM adventure_works.fact_sales', 'high_level_summary': '###Detalle de Tablas y Columnas Relevantes\\n#### Tabla: dim_customer\\n- *Descripción:* Contiene información detallada de clientes.\\n- *Columnas Relevantes:\\n  - customer_key: Clave primaria, tipo NUMERIC.\\n  - first_name: Nombre del cliente, tipo TEXT.\\n - last_name: Apellido del cliente, tipo TEXT.\\n\\n#### Tabla: fact_sales\\n- **Descripción:* Contiene detalles de las órdenes de ventas.\\n- *Columnas Relevantes:*\\n  - customer_key: Llave foránea, tipo NUMERIC.\\n  - sales_amount: Subtotal de la línea de orden de venta, tipo NUMERIC.\\n  - order_date: Fecha de creación del pedido, tipo DATE.\\n', 'error_message': 'error_coherencia', 'retries': 1}}\n",
      "\n",
      "> Mandando error a Azure OpenAI para corrección...\n",
      "  > Query corregida recibida: SELECT first_name, last_name FROM adventure_works.dim_customer LIMIT 1...\n",
      "{'corrector_subgraph': {'user_message': 'Quiero ver los nombres de los clientes.(solo 10)', 'sql_query': 'SELECT first_name, last_name FROM adventure_works.dim_customer LIMIT 10', 'high_level_summary': '###Detalle de Tablas y Columnas Relevantes\\n#### Tabla: dim_customer\\n- *Descripción:* Contiene información detallada de clientes.\\n- *Columnas Relevantes:\\n  - customer_key: Clave primaria, tipo NUMERIC.\\n  - first_name: Nombre del cliente, tipo TEXT.\\n - last_name: Apellido del cliente, tipo TEXT.\\n\\n#### Tabla: fact_sales\\n- **Descripción:* Contiene detalles de las órdenes de ventas.\\n- *Columnas Relevantes:*\\n  - customer_key: Llave foránea, tipo NUMERIC.\\n  - sales_amount: Subtotal de la línea de orden de venta, tipo NUMERIC.\\n  - order_date: Fecha de creación del pedido, tipo DATE.\\n', 'error_message': 'error_coherencia', 'retries': 1}}\n",
      "\n",
      "--- INICIANDO FASE DE JUEZ DE COHERENCIA ---\n",
      "Veredicto del juez: COHERENTE\n",
      "\n",
      "--- PASANDO A FASE DE EJECUCIÓN EN POSTGRESQL ---\n",
      "{'validador_subgraph': {'user_message': 'Quiero ver los nombres de los clientes.(solo 10)', 'sql_query': 'SELECT first_name, last_name FROM adventure_works.dim_customer LIMIT 10', 'high_level_summary': '###Detalle de Tablas y Columnas Relevantes\\n#### Tabla: dim_customer\\n- *Descripción:* Contiene información detallada de clientes.\\n- *Columnas Relevantes:\\n  - customer_key: Clave primaria, tipo NUMERIC.\\n  - first_name: Nombre del cliente, tipo TEXT.\\n - last_name: Apellido del cliente, tipo TEXT.\\n\\n#### Tabla: fact_sales\\n- **Descripción:* Contiene detalles de las órdenes de ventas.\\n- *Columnas Relevantes:*\\n  - customer_key: Llave foránea, tipo NUMERIC.\\n  - sales_amount: Subtotal de la línea de orden de venta, tipo NUMERIC.\\n  - order_date: Fecha de creación del pedido, tipo DATE.\\n', 'db_output': {'schema': '\\nCREATE TABLE dim_customer (\\n\\tcustomer_key SERIAL NOT NULL, \\n\\tgeography_key INTEGER, \\n\\tcustomer_alternate_key VARCHAR(15) NOT NULL, \\n\\ttitle VARCHAR(8), \\n\\tfirst_name VARCHAR(50), \\n\\tmiddle_name VARCHAR(50), \\n\\tlast_name VARCHAR(50), \\n\\tname_style BOOLEAN, \\n\\tbirth_date DATE, \\n\\tmarital_status CHAR(1), \\n\\tsuffix VARCHAR(10), \\n\\tgender VARCHAR(1), \\n\\temail_address VARCHAR(50), \\n\\tyearly_income NUMERIC(19, 4), \\n\\ttotal_children SMALLINT, \\n\\tnumber_children_at_home SMALLINT, \\n\\tenglish_education VARCHAR(40), \\n\\tspanish_education VARCHAR(40), \\n\\tfrench_education VARCHAR(40), \\n\\tenglish_occupation VARCHAR(100), \\n\\tspanish_occupation VARCHAR(100), \\n\\tfrench_occupation VARCHAR(100), \\n\\thouse_owner_flag CHAR(1), \\n\\tnumber_cars_owned SMALLINT, \\n\\taddress_line1 VARCHAR(120), \\n\\taddress_line2 VARCHAR(120), \\n\\tphone VARCHAR(20), \\n\\tdate_first_purchase DATE, \\n\\tcommute_distance VARCHAR(15), \\n\\tCONSTRAINT dim_customer_pkey PRIMARY KEY (customer_key), \\n\\tCONSTRAINT fk_dim_customer_geography FOREIGN KEY(geography_key) REFERENCES dim_geography (geography_key)\\n)\\n\\n/*\\n3 rows from dim_customer table:\\ncustomer_key\\tgeography_key\\tcustomer_alternate_key\\ttitle\\tfirst_name\\tmiddle_name\\tlast_name\\tname_style\\tbirth_date\\tmarital_status\\tsuffix\\tgender\\temail_address\\tyearly_income\\ttotal_children\\tnumber_children_at_home\\tenglish_education\\tspanish_education\\tfrench_education\\tenglish_occupation\\tspanish_occupation\\tfrench_occupation\\thouse_owner_flag\\tnumber_cars_owned\\taddress_line1\\taddress_line2\\tphone\\tdate_first_purchase\\tcommute_distance\\n11000\\t26\\tAW00011000\\tNone\\tJon\\tV\\tYang\\tFalse\\t1971-10-06\\tM\\tNone\\tM\\tjon24@adventure-works.com\\t90000.0000\\t2\\t0\\tBachelors\\tLicenciatura\\tBac + 4\\tProfessional\\tProfesional\\tCadre\\t1\\t0\\t3761 N. 14th St\\tNone\\t1 (11) 500 555-0162\\t2011-01-19\\t1-2 Miles\\n11001\\t37\\tAW00011001\\tNone\\tEugene\\tL\\tHuang\\tFalse\\t1976-05-10\\tS\\tNone\\tM\\teugene10@adventure-works.com\\t60000.0000\\t3\\t3\\tBachelors\\tLicenciatura\\tBac + 4\\tProfessional\\tProfesional\\tCadre\\t0\\t1\\t2243 W St.\\tNone\\t1 (11) 500 555-0110\\t2011-01-15\\t0-1 Miles\\n11002\\t31\\tAW00011002\\tNone\\tRuben\\tNone\\tTorres\\tFalse\\t1971-02-09\\tM\\tNone\\tM\\truben35@adventure-works.com\\t60000.0000\\t3\\t3\\tBachelors\\tLicenciatura\\tBac + 4\\tProfessional\\tProfesional\\tCadre\\t1\\t1\\t5844 Linden Land\\tNone\\t1 (11) 500 555-0184\\t2011-01-07\\t2-5 Miles\\n*/', 'data': \"[('Jon', 'Yang'), ('Eugene', 'Huang'), ('Ruben', 'Torres'), ('Christy', 'Zhu'), ('Elizabeth', 'Johnson'), ('Julio', 'Ruiz'), ('Janet', 'Alvarez'), ('Marco', 'Mehta'), ('Rob', 'Verhoff'), ('Shannon', 'Carlson')]\"}, 'error_message': None, 'retries': 2}}\n",
      "\n",
      "--- LLAMADA A LA SIGUIENTE TOOL ---\n",
      "La siguiente tool ha recibido los datos:\n",
      "Mensaje del usuario: Quiero ver los nombres de los clientes.(solo 10)\n",
      "Query SQL: SELECT first_name, last_name FROM adventure_works.dim_customer LIMIT 10\n",
      "Salida de la BBDD: [('Jon', 'Yang'), ('Eugene', 'Huang'), ('Ruben', 'Torres'), ('Christy', 'Zhu'), ('Elizabeth', 'Johnson'), ('Julio', 'Ruiz'), ('Janet', 'Alvarez'), ('Marco', 'Mehta'), ('Rob', 'Verhoff'), ('Shannon', 'Carlson')]\n",
      "{'finalizador': None}\n"
     ]
    }
   ],
   "source": [
    "# Escenario de incoherencia semántica: Query no relacionada con la pregunta\n",
    "user_msg_ko_coherencia = \"Quiero ver los nombres de los clientes.(solo 10)\"\n",
    "query_ko_coherencia = \"SELECT SUM(sales_amount) FROM adventure_works.fact_sales\" # Coherente sintácticamente, incoherente semánticamente\n",
    "high_level_summary = \"###Detalle de Tablas y Columnas Relevantes\\n#### Tabla: dim_customer\\n- *Descripción:* Contiene información detallada de clientes.\\n- *Columnas Relevantes:\\n  - customer_key: Clave primaria, tipo NUMERIC.\\n  - first_name: Nombre del cliente, tipo TEXT.\\n - last_name: Apellido del cliente, tipo TEXT.\\n\\n#### Tabla: fact_sales\\n- **Descripción:* Contiene detalles de las órdenes de ventas.\\n- *Columnas Relevantes:*\\n  - customer_key: Llave foránea, tipo NUMERIC.\\n  - sales_amount: Subtotal de la línea de orden de venta, tipo NUMERIC.\\n  - order_date: Fecha de creación del pedido, tipo DATE.\\n\"\n",
    "\n",
    "print(\"--- INICIANDO FLUJO PARA CORRECCIÓN DE INCOHERENCIA ---\")\n",
    "inputs = {\"user_message\": user_msg_ko_coherencia, \"sql_query\": query_ko_coherencia, \"high_level_summary\": high_level_summary, \"retries\": 0}\n",
    "\n",
    "for step in orchestrator.stream(inputs):\n",
    "    print(step)"
   ]
  },
  {
   "cell_type": "code",
   "execution_count": null,
   "id": "0274c37b",
   "metadata": {},
   "outputs": [],
   "source": [
    "#### C. Corrección de Fallo en la BBDD"
   ]
  },
  {
   "cell_type": "code",
   "execution_count": 69,
   "id": "547f278e",
   "metadata": {},
   "outputs": [
    {
     "name": "stdout",
     "output_type": "stream",
     "text": [
      "--- INICIANDO FLUJO PARA CORRECCIÓN DE ERROR EN BBDD ---\n",
      "\n",
      "--- INICIANDO FASE DE JUEZ DE COHERENCIA ---\n",
      "Veredicto del juez: COHERENTE\n",
      "\n",
      "--- PASANDO A FASE DE EJECUCIÓN EN POSTGRESQL ---\n",
      "\n",
      "[X] Error de PostgreSQL detectado: table_names {'dimen_customer'} not found in database\n",
      "{'validador_subgraph': {'user_message': 'Quiero saber el total de clientes por genero.', 'sql_query': 'SELECT gender, COUNT(*) AS total_clients FROM adventure_works.dimen_customer GROUP BY gender', 'high_level_summary': '###Detalle de Tablas y Columnas Relevantes\\n#### Tabla: dim_customer\\n- *Descripción:* Contiene información detallada de clientes.\\n- *Columnas Relevantes:\\n  - customer_key: Clave primaria, tipo NUMERIC.\\n  - gender: genero del cliente, tipo TEXT.\\n\\n#### Tabla: fact_sales\\n- **Descripción:* Contiene detalles de las órdenes de ventas.\\n- *Columnas Relevantes:*\\n  - customer_key: Llave foránea, tipo NUMERIC.\\n  - sales_amount: Subtotal de la línea de orden de venta, tipo NUMERIC.\\n  - order_date: Fecha de creación del pedido, tipo DATE.\\n', 'error_message': 'error_db', 'retries': 1}}\n",
      "\n",
      "> Mandando error a Azure OpenAI para corrección...\n",
      "  > Query corregida recibida: SELECT gender, COUNT(*) AS total_clients FROM adventure_works.dim_cust...\n",
      "{'corrector_subgraph': {'user_message': 'Quiero saber el total de clientes por genero.', 'sql_query': 'SELECT gender, COUNT(*) AS total_clients FROM adventure_works.dim_customer GROUP BY gender', 'high_level_summary': '###Detalle de Tablas y Columnas Relevantes\\n#### Tabla: dim_customer\\n- *Descripción:* Contiene información detallada de clientes.\\n- *Columnas Relevantes:\\n  - customer_key: Clave primaria, tipo NUMERIC.\\n  - gender: genero del cliente, tipo TEXT.\\n\\n#### Tabla: fact_sales\\n- **Descripción:* Contiene detalles de las órdenes de ventas.\\n- *Columnas Relevantes:*\\n  - customer_key: Llave foránea, tipo NUMERIC.\\n  - sales_amount: Subtotal de la línea de orden de venta, tipo NUMERIC.\\n  - order_date: Fecha de creación del pedido, tipo DATE.\\n', 'error_message': 'error_db', 'retries': 1}}\n",
      "\n",
      "--- INICIANDO FASE DE JUEZ DE COHERENCIA ---\n",
      "Veredicto del juez: COHERENTE\n",
      "\n",
      "--- PASANDO A FASE DE EJECUCIÓN EN POSTGRESQL ---\n",
      "{'validador_subgraph': {'user_message': 'Quiero saber el total de clientes por genero.', 'sql_query': 'SELECT gender, COUNT(*) AS total_clients FROM adventure_works.dim_customer GROUP BY gender', 'high_level_summary': '###Detalle de Tablas y Columnas Relevantes\\n#### Tabla: dim_customer\\n- *Descripción:* Contiene información detallada de clientes.\\n- *Columnas Relevantes:\\n  - customer_key: Clave primaria, tipo NUMERIC.\\n  - gender: genero del cliente, tipo TEXT.\\n\\n#### Tabla: fact_sales\\n- **Descripción:* Contiene detalles de las órdenes de ventas.\\n- *Columnas Relevantes:*\\n  - customer_key: Llave foránea, tipo NUMERIC.\\n  - sales_amount: Subtotal de la línea de orden de venta, tipo NUMERIC.\\n  - order_date: Fecha de creación del pedido, tipo DATE.\\n', 'db_output': {'schema': '\\nCREATE TABLE dim_customer (\\n\\tcustomer_key SERIAL NOT NULL, \\n\\tgeography_key INTEGER, \\n\\tcustomer_alternate_key VARCHAR(15) NOT NULL, \\n\\ttitle VARCHAR(8), \\n\\tfirst_name VARCHAR(50), \\n\\tmiddle_name VARCHAR(50), \\n\\tlast_name VARCHAR(50), \\n\\tname_style BOOLEAN, \\n\\tbirth_date DATE, \\n\\tmarital_status CHAR(1), \\n\\tsuffix VARCHAR(10), \\n\\tgender VARCHAR(1), \\n\\temail_address VARCHAR(50), \\n\\tyearly_income NUMERIC(19, 4), \\n\\ttotal_children SMALLINT, \\n\\tnumber_children_at_home SMALLINT, \\n\\tenglish_education VARCHAR(40), \\n\\tspanish_education VARCHAR(40), \\n\\tfrench_education VARCHAR(40), \\n\\tenglish_occupation VARCHAR(100), \\n\\tspanish_occupation VARCHAR(100), \\n\\tfrench_occupation VARCHAR(100), \\n\\thouse_owner_flag CHAR(1), \\n\\tnumber_cars_owned SMALLINT, \\n\\taddress_line1 VARCHAR(120), \\n\\taddress_line2 VARCHAR(120), \\n\\tphone VARCHAR(20), \\n\\tdate_first_purchase DATE, \\n\\tcommute_distance VARCHAR(15), \\n\\tCONSTRAINT dim_customer_pkey PRIMARY KEY (customer_key), \\n\\tCONSTRAINT fk_dim_customer_geography FOREIGN KEY(geography_key) REFERENCES dim_geography (geography_key)\\n)\\n\\n/*\\n3 rows from dim_customer table:\\ncustomer_key\\tgeography_key\\tcustomer_alternate_key\\ttitle\\tfirst_name\\tmiddle_name\\tlast_name\\tname_style\\tbirth_date\\tmarital_status\\tsuffix\\tgender\\temail_address\\tyearly_income\\ttotal_children\\tnumber_children_at_home\\tenglish_education\\tspanish_education\\tfrench_education\\tenglish_occupation\\tspanish_occupation\\tfrench_occupation\\thouse_owner_flag\\tnumber_cars_owned\\taddress_line1\\taddress_line2\\tphone\\tdate_first_purchase\\tcommute_distance\\n11000\\t26\\tAW00011000\\tNone\\tJon\\tV\\tYang\\tFalse\\t1971-10-06\\tM\\tNone\\tM\\tjon24@adventure-works.com\\t90000.0000\\t2\\t0\\tBachelors\\tLicenciatura\\tBac + 4\\tProfessional\\tProfesional\\tCadre\\t1\\t0\\t3761 N. 14th St\\tNone\\t1 (11) 500 555-0162\\t2011-01-19\\t1-2 Miles\\n11001\\t37\\tAW00011001\\tNone\\tEugene\\tL\\tHuang\\tFalse\\t1976-05-10\\tS\\tNone\\tM\\teugene10@adventure-works.com\\t60000.0000\\t3\\t3\\tBachelors\\tLicenciatura\\tBac + 4\\tProfessional\\tProfesional\\tCadre\\t0\\t1\\t2243 W St.\\tNone\\t1 (11) 500 555-0110\\t2011-01-15\\t0-1 Miles\\n11002\\t31\\tAW00011002\\tNone\\tRuben\\tNone\\tTorres\\tFalse\\t1971-02-09\\tM\\tNone\\tM\\truben35@adventure-works.com\\t60000.0000\\t3\\t3\\tBachelors\\tLicenciatura\\tBac + 4\\tProfessional\\tProfesional\\tCadre\\t1\\t1\\t5844 Linden Land\\tNone\\t1 (11) 500 555-0184\\t2011-01-07\\t2-5 Miles\\n*/', 'data': \"[('M', 9351), ('F', 9133)]\"}, 'error_message': None, 'retries': 2}}\n",
      "\n",
      "--- LLAMADA A LA SIGUIENTE TOOL ---\n",
      "La siguiente tool ha recibido los datos:\n",
      "Mensaje del usuario: Quiero saber el total de clientes por genero.\n",
      "Query SQL: SELECT gender, COUNT(*) AS total_clients FROM adventure_works.dim_customer GROUP BY gender\n",
      "Salida de la BBDD: [('M', 9351), ('F', 9133)]\n",
      "{'finalizador': None}\n"
     ]
    }
   ],
   "source": [
    "# Escenario de error en BBDD: Tabla con nombre incorrecto\n",
    "user_msg_ko_db = \"Quiero saber el total de clientes por genero.\"\n",
    "query_ko_db = \"SELECT gender, COUNT(*) AS total_clients FROM adventure_works.dimen_customer GROUP BY gender\" # Nombre de tabla incorrecto\n",
    "high_level_summary = \"###Detalle de Tablas y Columnas Relevantes\\n#### Tabla: dim_customer\\n- *Descripción:* Contiene información detallada de clientes.\\n- *Columnas Relevantes:\\n  - customer_key: Clave primaria, tipo NUMERIC.\\n  - gender: genero del cliente, tipo TEXT.\\n\\n#### Tabla: fact_sales\\n- **Descripción:* Contiene detalles de las órdenes de ventas.\\n- *Columnas Relevantes:*\\n  - customer_key: Llave foránea, tipo NUMERIC.\\n  - sales_amount: Subtotal de la línea de orden de venta, tipo NUMERIC.\\n  - order_date: Fecha de creación del pedido, tipo DATE.\\n\"\n",
    "\n",
    "print(\"--- INICIANDO FLUJO PARA CORRECCIÓN DE ERROR EN BBDD ---\")\n",
    "inputs = {\"user_message\": user_msg_ko_db, \"sql_query\": query_ko_db, \"high_level_summary\": high_level_summary, \"retries\": 0}\n",
    "\n",
    "for step in orchestrator.stream(inputs):\n",
    "    print(step)"
   ]
  }
 ],
 "metadata": {
  "kernelspec": {
   "display_name": "ucm-tfm-grupo-4",
   "language": "python",
   "name": "python3"
  },
  "language_info": {
   "codemirror_mode": {
    "name": "ipython",
    "version": 3
   },
   "file_extension": ".py",
   "mimetype": "text/x-python",
   "name": "python",
   "nbconvert_exporter": "python",
   "pygments_lexer": "ipython3",
   "version": "3.11.13"
  }
 },
 "nbformat": 4,
 "nbformat_minor": 5
}
