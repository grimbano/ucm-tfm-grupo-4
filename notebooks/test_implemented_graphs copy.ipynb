{
 "cells": [
  {
   "cell_type": "code",
   "execution_count": 1,
   "id": "38857eda",
   "metadata": {},
   "outputs": [],
   "source": [
    "import os\n",
    "import sys\n",
    "from dotenv import load_dotenv\n",
    "from pathlib import Path\n",
    "import json\n",
    "from IPython.display import Markdown, Image\n",
    "\n",
    "\n",
    "# Añadimos el directorio raíz del proyecto al path\n",
    "try:\n",
    "    # Para scripts .py\n",
    "    current_file = Path(__file__).resolve()\n",
    "    project_root = current_file.parent.parent  # Ajusta si tu estructura cambia\n",
    "except NameError:\n",
    "    # Para notebooks\n",
    "    current_file = Path().resolve()\n",
    "    project_root = current_file.parent  # Ajusta según donde esté tu notebook\n",
    "\n",
    "# Añadir al sys.path si no está ya\n",
    "if str(project_root) not in sys.path:\n",
    "    sys.path.append(str(project_root))\n",
    "\n",
    "\n",
    "from src.utils.graphics import create_dashboard_from_json\n",
    "from src.back.graphs import (\n",
    "    BusinessLogicRetrievalGraph,\n",
    "    ChunkProcessingGraph,\n",
    "    ContextGeneratorGraph,\n",
    "    get_conclusions_generator_graph,\n",
    "    get_query_generator_graph,\n",
    "    get_query_validator_graph,\n",
    "    get_main_graph,\n",
    "    MdlRetrievalGraph,\n",
    ")"
   ]
  },
  {
   "cell_type": "markdown",
   "id": "1c6cea9b",
   "metadata": {},
   "source": [
    "---\n",
    "\n",
    "## CONCLUSIONS GENERATOR"
   ]
  },
  {
   "cell_type": "code",
   "execution_count": 2,
   "id": "18f7b9f9",
   "metadata": {},
   "outputs": [
    {
     "data": {
      "image/png": "[encoded data removed]",
      "text/plain": [
       "<IPython.core.display.Image object>"
      ]
     },
     "execution_count": 2,
     "metadata": {},
     "output_type": "execute_result"
    }
   ],
   "source": [
    "conclusions_generator_graph = get_conclusions_generator_graph()\n",
    "Image(conclusions_generator_graph.get_graph().draw_mermaid_png())"
   ]
  },
  {
   "cell_type": "code",
   "execution_count": 3,
   "id": "a8b7f22e",
   "metadata": {},
   "outputs": [
    {
     "name": "stdout",
     "output_type": "stream",
     "text": [
      "\n",
      "--- INICIANDO GENERACIÓN DE CONCLUSIONES 📝 ---\n",
      "\n",
      "--- INICIANDO EXPLICACIÓN DE CONSULTA SQL 🗂️ ---\n",
      "\n",
      "--- INICIANDO GENERACIÓN DE GRÁFICOS 📊 ---\n"
     ]
    },
    {
     "data": {
      "text/plain": [
       "{'nl_output': '1. Las prendas dominan las ventas B2B en el último trimestre, con todas las posiciones en el top 10 perteneciendo a esta categoría.  \\n2. La subcategoría \"Camiseta\" lidera en unidades vendidas, destacando la \"Camiseta clásica, P\" con 951 unidades totales.  \\n3. Los jerseys, tanto de manga corta como larga, son productos clave, sumando tres posiciones en el ranking.  \\n4. Los pantalones cortos femeninos (\"Women\\'s Mountain Shorts\") aparecen en dos tallas (S y L) dentro del top 10.  \\n5. La venta mensual muestra una tendencia decreciente en unidades vendidas de mes a mes para todos los productos listados.  \\n6. La gorra \"AWC Logo Cap\" es el único accesorio que aparece, pero está clasificada como prenda, confirmando la exclusión de accesorios.  \\n7. Los calcetines y guantes también forman parte del top 10, indicando diversidad dentro de la categoría prenda.  \\n8. El producto con menor volumen en el top 10 es \"Half-Finger Gloves, M\" con 437 unidades vendidas en total.  \\n9. La suma total de unidades vendidas en el top 10 es 6,944 unidades en el último trimestre.  \\n10. La distribución mensual permite identificar patrones de demanda decreciente que pueden orientar la planificación de inventarios.',\n",
       " 'sql_explanation': '## Análisis de la Lógica de la Consulta\\n\\nLa consulta primero identifica las ventas del último trimestre completo, filtrando solo las realizadas a través del canal B2B (denominado aquí como \"reseller_sales\") y excluyendo productos de la categoría \"Accesorio\". Para ello, une la tabla de ventas con la tabla de productos para obtener el nombre, categoría y subcategoría de cada producto. Luego, suma la cantidad vendida de cada producto en ese periodo y selecciona los 10 productos con mayor volumen de ventas. Finalmente, para esos 10 productos, calcula la cantidad vendida en cada uno de los tres meses del trimestre, mostrando también la categoría y subcategoría a la que pertenecen.\\n\\n## Conclusión y Resultados Clave\\n\\nEl resultado proporciona una lista clara de los 10 productos más vendidos en el canal B2B durante el último trimestre, con un desglose mensual de las unidades vendidas, lo que permite observar tendencias de venta dentro del trimestre. Además, al incluir la categoría y subcategoría, se facilita entender a qué segmento de productos pertenecen estos top ventas, ayudando a tomar decisiones informadas sobre inventario, marketing o estrategia comercial.',\n",
       " 'graphics_json': '{\\n  \"dashboard_title\": \"Análisis de Ventas B2B Último Trimestre - Top 10 Productos\",\\n  \"charts\": [\\n    {\\n      \"data\": [\\n        {\\n          \"type\": \"bar\",\\n          \"x\": [\"Camiseta clásica, P\", \"Jersey clásico de manga corta, SG\", \"Women\\'s Mountain Shorts, S\", \"Jersey con logotipo de manga larga, G\", \"AWC Logo Cap\", \"Women\\'s Mountain Shorts, L\", \"Jersey clásico de manga corta, G\", \"Calcetines para carreras, G\", \"Camiseta clásica, M\", \"Half-Finger Gloves, M\"],\\n          \"y\": [951, 811, 694, 684, 655, 618, 561, 503, 469, 437],\\n          \"marker\": {\"color\": \"#1f77b4\"},\\n          \"name\": \"Unidades Totales\"\\n        }\\n      ],\\n      \"layout\": {\\n        \"title\": \"Top 10 Productos Más Vendidos en el Último Trimestre\",\\n        \"xaxis\": {\"title\": \"Producto\", \"tickangle\": -45},\\n        \"yaxis\": {\"title\": \"Unidades Vendidas Totales\"},\\n        \"plot_bgcolor\": \"#f9f9f9\",\\n        \"paper_bgcolor\": \"#ffffff\",\\n        \"margin\": {\"b\": 120}\\n      }\\n    },\\n    {\\n      \"data\": [\\n        {\\n          \"type\": \"line\",\\n          \"x\": [\"Primer Mes\", \"Segundo Mes\", \"Tercer Mes\"],\\n          \"y\": [381, 380, 190],\\n          \"mode\": \"lines+markers\",\\n          \"name\": \"Camiseta clásica, P\"\\n        },\\n        {\\n          \"type\": \"line\",\\n          \"x\": [\"Primer Mes\", \"Segundo Mes\", \"Tercer Mes\"],\\n          \"y\": [329, 299, 183],\\n          \"mode\": \"lines+markers\",\\n          \"name\": \"Jersey clásico de manga corta, SG\"\\n        },\\n        {\\n          \"type\": \"line\",\\n          \"x\": [\"Primer Mes\", \"Segundo Mes\", \"Tercer Mes\"],\\n          \"y\": [295, 258, 141],\\n          \"mode\": \"lines+markers\",\\n          \"name\": \"Women\\'s Mountain Shorts, S\"\\n        },\\n        {\\n          \"type\": \"line\",\\n          \"x\": [\"Primer Mes\", \"Segundo Mes\", \"Tercer Mes\"],\\n          \"y\": [312, 243, 129],\\n          \"mode\": \"lines+markers\",\\n          \"name\": \"Jersey con logotipo de manga larga, G\"\\n        },\\n        {\\n          \"type\": \"line\",\\n          \"x\": [\"Primer Mes\", \"Segundo Mes\", \"Tercer Mes\"],\\n          \"y\": [291, 243, 121],\\n          \"mode\": \"lines+markers\",\\n          \"name\": \"AWC Logo Cap\"\\n        }\\n      ],\\n      \"layout\": {\\n        \"title\": \"Evolución Mensual de Unidades Vendidas - Top 5 Productos\",\\n        \"xaxis\": {\"title\": \"Mes\"},\\n        \"yaxis\": {\"title\": \"Unidades Vendidas\"},\\n        \"legend\": {\"orientation\": \"h\", \"x\": 0, \"y\": -0.2},\\n        \"plot_bgcolor\": \"#f9f9f9\",\\n        \"paper_bgcolor\": \"#ffffff\",\\n        \"margin\": {\"b\": 80}\\n      }\\n    },\\n    {\\n      \"data\": [\\n        {\\n          \"type\": \"pie\",\\n          \"labels\": [\"Camisa\", \"Jersey\", \"Pantalones cortos\", \"Gorra\", \"Calcetines\", \"Guantes\"],\\n          \"values\": [1420, 2056, 1312, 655, 503, 437],\\n          \"textinfo\": \"label+percent\",\\n          \"insidetextorientation\": \"radial\",\\n          \"marker\": {\\n            \"colors\": [\"#636efa\", \"#ef553b\", \"#00cc96\", \"#ab63fa\", \"#ffa15a\", \"#19d3f3\"]\\n          },\\n          \"name\": \"Distribución por Subcategoría\"\\n        }\\n      ],\\n      \"layout\": {\\n        \"title\": \"Distribución de Ventas Totales por Subcategoría\",\\n        \"plot_bgcolor\": \"#f9f9f9\",\\n        \"paper_bgcolor\": \"#ffffff\"\\n      }\\n    },\\n    {\\n      \"data\": [\\n        {\\n          \"type\": \"scatter\",\\n          \"mode\": \"markers\",\\n          \"x\": [951, 811, 694, 684, 655, 618, 561, 503, 469, 437],\\n          \"y\": [381, 329, 295, 312, 291, 262, 217, 231, 197, 187],\\n          \"text\": [\"Camiseta clásica, P\", \"Jersey clásico de manga corta, SG\", \"Women\\'s Mountain Shorts, S\", \"Jersey con logotipo de manga larga, G\", \"AWC Logo Cap\", \"Women\\'s Mountain Shorts, L\", \"Jersey clásico de manga corta, G\", \"Calcetines para carreras, G\", \"Camiseta clásica, M\", \"Half-Finger Gloves, M\"],\\n          \"marker\": {\"size\": 12, \"color\": \"#636efa\"},\\n          \"name\": \"Producto\"\\n        }\\n      ],\\n      \"layout\": {\\n        \"title\": \"Relación entre Ventas Totales y Ventas en el Primer Mes\",\\n        \"xaxis\": {\"title\": \"Unidades Totales Vendidas\"},\\n        \"yaxis\": {\"title\": \"Unidades Vendidas en el Primer Mes\"},\\n        \"hovermode\": \"closest\",\\n        \"plot_bgcolor\": \"#f9f9f9\",\\n        \"paper_bgcolor\": \"#ffffff\"\\n      }\\n    }\\n  ]\\n}'}"
      ]
     },
     "execution_count": 3,
     "metadata": {},
     "output_type": "execute_result"
    }
   ],
   "source": [
    "user_query = 'Muéstrame los 10 productos más vendidos para el B2B en el último trimestre, excluyendo los Accesorios. Mes a mes indica cuántas unidades se vendieron, y muestra también a qué categoría y subcategoría pertenecen'\n",
    "\n",
    "query_results = [{'producto': 'Camiseta clásica, P', 'categoria': 'Prenda', 'subcategoria': 'Camiseta', 'primer_mes': 381, 'segundo_mes': 380, 'tercer_mes': 190, 'total': 951},\n",
    "  {'producto': 'Jersey clásico de manga corta, SG', 'categoria': 'Prenda', 'subcategoria': 'Jersey', 'primer_mes': 329, 'segundo_mes': 299, 'tercer_mes': 183, 'total': 811},\n",
    "  {'producto': \"Women's Mountain Shorts, S\", 'categoria': 'Prenda', 'subcategoria': 'Pantalones cortos', 'primer_mes': 295, 'segundo_mes': 258, 'tercer_mes': 141, 'total': 694},\n",
    "  {'producto': 'Jersey con logotipo de manga larga, G', 'categoria': 'Prenda', 'subcategoria': 'Jersey', 'primer_mes': 312, 'segundo_mes': 243, 'tercer_mes': 129, 'total': 684},\n",
    "  {'producto': 'AWC Logo Cap', 'categoria': 'Prenda', 'subcategoria': 'Gorra', 'primer_mes': 291, 'segundo_mes': 243, 'tercer_mes': 121, 'total': 655},\n",
    "  {'producto': \"Women's Mountain Shorts, L\", 'categoria': 'Prenda', 'subcategoria': 'Pantalones cortos', 'primer_mes': 262, 'segundo_mes': 236, 'tercer_mes': 120, 'total': 618},\n",
    "  {'producto': 'Jersey clásico de manga corta, G', 'categoria': 'Prenda', 'subcategoria': 'Jersey', 'primer_mes': 217, 'segundo_mes': 231, 'tercer_mes': 113, 'total': 561},\n",
    "  {'producto': 'Calcetines para carreras, G', 'categoria': 'Prenda', 'subcategoria': 'Calcetines', 'primer_mes': 231, 'segundo_mes': 179, 'tercer_mes': 93, 'total': 503},\n",
    "  {'producto': 'Camiseta clásica, M', 'categoria': 'Prenda', 'subcategoria': 'Camiseta', 'primer_mes': 197, 'segundo_mes': 187, 'tercer_mes': 85, 'total': 469},\n",
    "  {'producto': 'Half-Finger Gloves, M', 'categoria': 'Prenda', 'subcategoria': 'Guantes', 'primer_mes': 187, 'segundo_mes': 168, 'tercer_mes': 82, 'total': 437}]\n",
    "\n",
    "sql_query = \"WITH \\nlast_quarter AS (\\n  SELECT\\n    fs.product_key,\\n    COALESCE(dp.spanish_product_name, dp.english_product_name) AS product_name,\\n    dp.spanish_product_category_name,\\n    dp.spanish_product_subcategory_name,\\n    EXTRACT(MONTH FROM fs.order_date) AS month_in_quarter,\\n    fs.order_quantity\\n  FROM\\n    sales.fact_sales fs\\n    JOIN sales.dim_product dp ON fs.product_key = dp.product_key\\n  WHERE\\n    fs.sale_source = 'reseller_sales'\\n    AND dp.spanish_product_category_name <> 'Accesorio'\\n    AND fs.order_date >= date_trunc('quarter', CURRENT_DATE - interval '3 months')\\n    AND fs.order_date < date_trunc('quarter', CURRENT_DATE)\\n),\\ntop_products AS (\\n  SELECT\\n    product_key,\\n    product_name,\\n    spanish_product_category_name,\\n    spanish_product_subcategory_name,\\n    SUM(order_quantity) AS total_qty\\n  FROM\\n    last_quarter\\n  GROUP BY\\n    product_key, product_name, spanish_product_category_name, spanish_product_subcategory_name\\n  ORDER BY\\n    total_qty DESC\\n  LIMIT 10\\n)\\nSELECT\\n  tp.product_name AS producto,\\n  tp.spanish_product_category_name AS categoria,\\n  tp.spanish_product_subcategory_name AS subcategoria,\\n  SUM(lq.order_quantity) FILTER (WHERE lq.month_in_quarter = EXTRACT(MONTH FROM date_trunc('quarter', CURRENT_DATE - interval '3 months'))) AS primer_mes,\\n  SUM(lq.order_quantity) FILTER (WHERE lq.month_in_quarter = EXTRACT(MONTH FROM date_trunc('quarter', CURRENT_DATE - interval '3 months') + interval '1 month')) AS segundo_mes,\\n  SUM(lq.order_quantity) FILTER (WHERE lq.month_in_quarter = EXTRACT(MONTH FROM date_trunc('quarter', CURRENT_DATE - interval '3 months') + interval '2 month')) AS tercer_mes,\\n  SUM(lq.order_quantity) AS total\\nFROM\\n  top_products tp\\n  LEFT JOIN last_quarter lq ON tp.product_key = lq.product_key\\nGROUP BY\\n  tp.product_name, tp.spanish_product_category_name, tp.spanish_product_subcategory_name\\nORDER BY\\n  total DESC;\"\n",
    "\n",
    "results = conclusions_generator_graph.invoke({\n",
    "    'user_query': user_query,\n",
    "    'language': 'Spanish',\n",
    "    'sql_query': sql_query,\n",
    "    'query_results': query_results,\n",
    "})\n",
    "\n",
    "results"
   ]
  },
  {
   "cell_type": "code",
   "execution_count": 4,
   "id": "678c8ce9",
   "metadata": {},
   "outputs": [
    {
     "name": "stdout",
     "output_type": "stream",
     "text": [
      "1. Las prendas dominan las ventas B2B en el último trimestre, con todas las posiciones en el top 10 perteneciendo a esta categoría.  \n",
      "2. La subcategoría \"Camiseta\" lidera en unidades vendidas, destacando la \"Camiseta clásica, P\" con 951 unidades totales.  \n",
      "3. Los jerseys, tanto de manga corta como larga, son productos clave, sumando tres posiciones en el ranking.  \n",
      "4. Los pantalones cortos femeninos (\"Women's Mountain Shorts\") aparecen en dos tallas (S y L) dentro del top 10.  \n",
      "5. La venta mensual muestra una tendencia decreciente en unidades vendidas de mes a mes para todos los productos listados.  \n",
      "6. La gorra \"AWC Logo Cap\" es el único accesorio que aparece, pero está clasificada como prenda, confirmando la exclusión de accesorios.  \n",
      "7. Los calcetines y guantes también forman parte del top 10, indicando diversidad dentro de la categoría prenda.  \n",
      "8. El producto con menor volumen en el top 10 es \"Half-Finger Gloves, M\" con 437 unidades vendidas en total.  \n",
      "9. La suma total de unidades vendidas en el top 10 es 6,944 unidades en el último trimestre.  \n",
      "10. La distribución mensual permite identificar patrones de demanda decreciente que pueden orientar la planificación de inventarios.\n"
     ]
    }
   ],
   "source": [
    "print(results['nl_output'])"
   ]
  },
  {
   "cell_type": "code",
   "execution_count": 5,
   "id": "6373e6c4",
   "metadata": {},
   "outputs": [
    {
     "name": "stdout",
     "output_type": "stream",
     "text": [
      "## Análisis de la Lógica de la Consulta\n",
      "\n",
      "La consulta primero identifica las ventas del último trimestre completo, filtrando solo las realizadas a través del canal B2B (denominado aquí como \"reseller_sales\") y excluyendo productos de la categoría \"Accesorio\". Para ello, une la tabla de ventas con la tabla de productos para obtener el nombre, categoría y subcategoría de cada producto. Luego, suma la cantidad vendida de cada producto en ese periodo y selecciona los 10 productos con mayor volumen de ventas. Finalmente, para esos 10 productos, calcula la cantidad vendida en cada uno de los tres meses del trimestre, mostrando también la categoría y subcategoría a la que pertenecen.\n",
      "\n",
      "## Conclusión y Resultados Clave\n",
      "\n",
      "El resultado proporciona una lista clara de los 10 productos más vendidos en el canal B2B durante el último trimestre, con un desglose mensual de las unidades vendidas, lo que permite observar tendencias de venta dentro del trimestre. Además, al incluir la categoría y subcategoría, se facilita entender a qué segmento de productos pertenecen estos top ventas, ayudando a tomar decisiones informadas sobre inventario, marketing o estrategia comercial.\n"
     ]
    }
   ],
   "source": [
    "print(results['sql_explanation'])"
   ]
  },
  {
   "cell_type": "code",
   "execution_count": 7,
   "id": "e8ec2851",
   "metadata": {},
   "outputs": [
    {
     "data": {
      "application/vnd.plotly.v1+json": {
       "config": {
        "plotlyServerURL": "https://plot.ly"
       },
       "data": [
        {
         "marker": {
          "color": "#1f77b4"
         },
         "name": "Unidades Totales",
         "type": "bar",
         "x": [
          "Camiseta clásica, P",
          "Jersey clásico de manga corta, SG",
          "Women's Mountain Shorts, S",
          "Jersey con logotipo de manga larga, G",
          "AWC Logo Cap",
          "Women's Mountain Shorts, L",
          "Jersey clásico de manga corta, G",
          "Calcetines para carreras, G",
          "Camiseta clásica, M",
          "Half-Finger Gloves, M"
         ],
         "xaxis": "x",
         "y": [
          951,
          811,
          694,
          684,
          655,
          618,
          561,
          503,
          469,
          437
         ],
         "yaxis": "y"
        },
        {
         "mode": "lines+markers",
         "name": "Camiseta clásica, P",
         "type": "scatter",
         "x": [
          "Primer Mes",
          "Segundo Mes",
          "Tercer Mes"
         ],
         "xaxis": "x2",
         "y": [
          381,
          380,
          190
         ],
         "yaxis": "y2"
        },
        {
         "domain": {
          "x": [
           0,
           0.45
          ],
          "y": [
           0,
           0.375
          ]
         },
         "insidetextorientation": "radial",
         "labels": [
          "Camisa",
          "Jersey",
          "Pantalones cortos",
          "Gorra",
          "Calcetines",
          "Guantes"
         ],
         "marker": {
          "colors": [
           "#636efa",
           "#ef553b",
           "#00cc96",
           "#ab63fa",
           "#ffa15a",
           "#19d3f3"
          ]
         },
         "name": "Distribución por Subcategoría",
         "textinfo": "label+percent",
         "type": "pie",
         "values": [
          1420,
          2056,
          1312,
          655,
          503,
          437
         ]
        },
        {
         "marker": {
          "color": "#636efa",
          "size": 12
         },
         "mode": "markers",
         "name": "Producto",
         "text": [
          "Camiseta clásica, P",
          "Jersey clásico de manga corta, SG",
          "Women's Mountain Shorts, S",
          "Jersey con logotipo de manga larga, G",
          "AWC Logo Cap",
          "Women's Mountain Shorts, L",
          "Jersey clásico de manga corta, G",
          "Calcetines para carreras, G",
          "Camiseta clásica, M",
          "Half-Finger Gloves, M"
         ],
         "type": "scatter",
         "x": [
          951,
          811,
          694,
          684,
          655,
          618,
          561,
          503,
          469,
          437
         ],
         "xaxis": "x3",
         "y": [
          381,
          329,
          295,
          312,
          291,
          262,
          217,
          231,
          197,
          187
         ],
         "yaxis": "y3"
        }
       ],
       "layout": {
        "annotations": [
         {
          "font": {
           "size": 16
          },
          "showarrow": false,
          "text": "Top 10 Productos Más Vendidos en el Último Trimestre",
          "x": 0.225,
          "xanchor": "center",
          "xref": "paper",
          "y": 1,
          "yanchor": "bottom",
          "yref": "paper"
         },
         {
          "font": {
           "size": 16
          },
          "showarrow": false,
          "text": "Evolución Mensual de Unidades Vendidas - Top 5 Productos",
          "x": 0.775,
          "xanchor": "center",
          "xref": "paper",
          "y": 1,
          "yanchor": "bottom",
          "yref": "paper"
         },
         {
          "font": {
           "size": 16
          },
          "showarrow": false,
          "text": "Distribución de Ventas Totales por Subcategoría",
          "x": 0.225,
          "xanchor": "center",
          "xref": "paper",
          "y": 0.375,
          "yanchor": "bottom",
          "yref": "paper"
         },
         {
          "font": {
           "size": 16
          },
          "showarrow": false,
          "text": "Relación entre Ventas Totales y Ventas en el Primer Mes",
          "x": 0.775,
          "xanchor": "center",
          "xref": "paper",
          "y": 0.375,
          "yanchor": "bottom",
          "yref": "paper"
         }
        ],
        "autosize": true,
        "font": {
         "family": "Arial, sans-serif",
         "size": 12
        },
        "height": 900,
        "margin": {
         "b": 50,
         "l": 50,
         "r": 50,
         "t": 80
        },
        "paper_bgcolor": "#f2f2f2",
        "plot_bgcolor": "#ffffff",
        "template": {
         "data": {
          "bar": [
           {
            "error_x": {
             "color": "#2a3f5f"
            },
            "error_y": {
             "color": "#2a3f5f"
            },
            "marker": {
             "line": {
              "color": "#E5ECF6",
              "width": 0.5
             },
             "pattern": {
              "fillmode": "overlay",
              "size": 10,
              "solidity": 0.2
             }
            },
            "type": "bar"
           }
          ],
          "barpolar": [
           {
            "marker": {
             "line": {
              "color": "#E5ECF6",
              "width": 0.5
             },
             "pattern": {
              "fillmode": "overlay",
              "size": 10,
              "solidity": 0.2
             }
            },
            "type": "barpolar"
           }
          ],
          "carpet": [
           {
            "aaxis": {
             "endlinecolor": "#2a3f5f",
             "gridcolor": "white",
             "linecolor": "white",
             "minorgridcolor": "white",
             "startlinecolor": "#2a3f5f"
            },
            "baxis": {
             "endlinecolor": "#2a3f5f",
             "gridcolor": "white",
             "linecolor": "white",
             "minorgridcolor": "white",
             "startlinecolor": "#2a3f5f"
            },
            "type": "carpet"
           }
          ],
          "choropleth": [
           {
            "colorbar": {
             "outlinewidth": 0,
             "ticks": ""
            },
            "type": "choropleth"
           }
          ],
          "contour": [
           {
            "colorbar": {
             "outlinewidth": 0,
             "ticks": ""
            },
            "colorscale": [
             [
              0,
              "#0d0887"
             ],
             [
              0.1111111111111111,
              "#46039f"
             ],
             [
              0.2222222222222222,
              "#7201a8"
             ],
             [
              0.3333333333333333,
              "#9c179e"
             ],
             [
              0.4444444444444444,
              "#bd3786"
             ],
             [
              0.5555555555555556,
              "#d8576b"
             ],
             [
              0.6666666666666666,
              "#ed7953"
             ],
             [
              0.7777777777777778,
              "#fb9f3a"
             ],
             [
              0.8888888888888888,
              "#fdca26"
             ],
             [
              1,
              "#f0f921"
             ]
            ],
            "type": "contour"
           }
          ],
          "contourcarpet": [
           {
            "colorbar": {
             "outlinewidth": 0,
             "ticks": ""
            },
            "type": "contourcarpet"
           }
          ],
          "heatmap": [
           {
            "colorbar": {
             "outlinewidth": 0,
             "ticks": ""
            },
            "colorscale": [
             [
              0,
              "#0d0887"
             ],
             [
              0.1111111111111111,
              "#46039f"
             ],
             [
              0.2222222222222222,
              "#7201a8"
             ],
             [
              0.3333333333333333,
              "#9c179e"
             ],
             [
              0.4444444444444444,
              "#bd3786"
             ],
             [
              0.5555555555555556,
              "#d8576b"
             ],
             [
              0.6666666666666666,
              "#ed7953"
             ],
             [
              0.7777777777777778,
              "#fb9f3a"
             ],
             [
              0.8888888888888888,
              "#fdca26"
             ],
             [
              1,
              "#f0f921"
             ]
            ],
            "type": "heatmap"
           }
          ],
          "histogram": [
           {
            "marker": {
             "pattern": {
              "fillmode": "overlay",
              "size": 10,
              "solidity": 0.2
             }
            },
            "type": "histogram"
           }
          ],
          "histogram2d": [
           {
            "colorbar": {
             "outlinewidth": 0,
             "ticks": ""
            },
            "colorscale": [
             [
              0,
              "#0d0887"
             ],
             [
              0.1111111111111111,
              "#46039f"
             ],
             [
              0.2222222222222222,
              "#7201a8"
             ],
             [
              0.3333333333333333,
              "#9c179e"
             ],
             [
              0.4444444444444444,
              "#bd3786"
             ],
             [
              0.5555555555555556,
              "#d8576b"
             ],
             [
              0.6666666666666666,
              "#ed7953"
             ],
             [
              0.7777777777777778,
              "#fb9f3a"
             ],
             [
              0.8888888888888888,
              "#fdca26"
             ],
             [
              1,
              "#f0f921"
             ]
            ],
            "type": "histogram2d"
           }
          ],
          "histogram2dcontour": [
           {
            "colorbar": {
             "outlinewidth": 0,
             "ticks": ""
            },
            "colorscale": [
             [
              0,
              "#0d0887"
             ],
             [
              0.1111111111111111,
              "#46039f"
             ],
             [
              0.2222222222222222,
              "#7201a8"
             ],
             [
              0.3333333333333333,
              "#9c179e"
             ],
             [
              0.4444444444444444,
              "#bd3786"
             ],
             [
              0.5555555555555556,
              "#d8576b"
             ],
             [
              0.6666666666666666,
              "#ed7953"
             ],
             [
              0.7777777777777778,
              "#fb9f3a"
             ],
             [
              0.8888888888888888,
              "#fdca26"
             ],
             [
              1,
              "#f0f921"
             ]
            ],
            "type": "histogram2dcontour"
           }
          ],
          "mesh3d": [
           {
            "colorbar": {
             "outlinewidth": 0,
             "ticks": ""
            },
            "type": "mesh3d"
           }
          ],
          "parcoords": [
           {
            "line": {
             "colorbar": {
              "outlinewidth": 0,
              "ticks": ""
             }
            },
            "type": "parcoords"
           }
          ],
          "pie": [
           {
            "automargin": true,
            "type": "pie"
           }
          ],
          "scatter": [
           {
            "fillpattern": {
             "fillmode": "overlay",
             "size": 10,
             "solidity": 0.2
            },
            "type": "scatter"
           }
          ],
          "scatter3d": [
           {
            "line": {
             "colorbar": {
              "outlinewidth": 0,
              "ticks": ""
             }
            },
            "marker": {
             "colorbar": {
              "outlinewidth": 0,
              "ticks": ""
             }
            },
            "type": "scatter3d"
           }
          ],
          "scattercarpet": [
           {
            "marker": {
             "colorbar": {
              "outlinewidth": 0,
              "ticks": ""
             }
            },
            "type": "scattercarpet"
           }
          ],
          "scattergeo": [
           {
            "marker": {
             "colorbar": {
              "outlinewidth": 0,
              "ticks": ""
             }
            },
            "type": "scattergeo"
           }
          ],
          "scattergl": [
           {
            "marker": {
             "colorbar": {
              "outlinewidth": 0,
              "ticks": ""
             }
            },
            "type": "scattergl"
           }
          ],
          "scattermap": [
           {
            "marker": {
             "colorbar": {
              "outlinewidth": 0,
              "ticks": ""
             }
            },
            "type": "scattermap"
           }
          ],
          "scattermapbox": [
           {
            "marker": {
             "colorbar": {
              "outlinewidth": 0,
              "ticks": ""
             }
            },
            "type": "scattermapbox"
           }
          ],
          "scatterpolar": [
           {
            "marker": {
             "colorbar": {
              "outlinewidth": 0,
              "ticks": ""
             }
            },
            "type": "scatterpolar"
           }
          ],
          "scatterpolargl": [
           {
            "marker": {
             "colorbar": {
              "outlinewidth": 0,
              "ticks": ""
             }
            },
            "type": "scatterpolargl"
           }
          ],
          "scatterternary": [
           {
            "marker": {
             "colorbar": {
              "outlinewidth": 0,
              "ticks": ""
             }
            },
            "type": "scatterternary"
           }
          ],
          "surface": [
           {
            "colorbar": {
             "outlinewidth": 0,
             "ticks": ""
            },
            "colorscale": [
             [
              0,
              "#0d0887"
             ],
             [
              0.1111111111111111,
              "#46039f"
             ],
             [
              0.2222222222222222,
              "#7201a8"
             ],
             [
              0.3333333333333333,
              "#9c179e"
             ],
             [
              0.4444444444444444,
              "#bd3786"
             ],
             [
              0.5555555555555556,
              "#d8576b"
             ],
             [
              0.6666666666666666,
              "#ed7953"
             ],
             [
              0.7777777777777778,
              "#fb9f3a"
             ],
             [
              0.8888888888888888,
              "#fdca26"
             ],
             [
              1,
              "#f0f921"
             ]
            ],
            "type": "surface"
           }
          ],
          "table": [
           {
            "cells": {
             "fill": {
              "color": "#EBF0F8"
             },
             "line": {
              "color": "white"
             }
            },
            "header": {
             "fill": {
              "color": "#C8D4E3"
             },
             "line": {
              "color": "white"
             }
            },
            "type": "table"
           }
          ]
         },
         "layout": {
          "annotationdefaults": {
           "arrowcolor": "#2a3f5f",
           "arrowhead": 0,
           "arrowwidth": 1
          },
          "autotypenumbers": "strict",
          "coloraxis": {
           "colorbar": {
            "outlinewidth": 0,
            "ticks": ""
           }
          },
          "colorscale": {
           "diverging": [
            [
             0,
             "#8e0152"
            ],
            [
             0.1,
             "#c51b7d"
            ],
            [
             0.2,
             "#de77ae"
            ],
            [
             0.3,
             "#f1b6da"
            ],
            [
             0.4,
             "#fde0ef"
            ],
            [
             0.5,
             "#f7f7f7"
            ],
            [
             0.6,
             "#e6f5d0"
            ],
            [
             0.7,
             "#b8e186"
            ],
            [
             0.8,
             "#7fbc41"
            ],
            [
             0.9,
             "#4d9221"
            ],
            [
             1,
             "#276419"
            ]
           ],
           "sequential": [
            [
             0,
             "#0d0887"
            ],
            [
             0.1111111111111111,
             "#46039f"
            ],
            [
             0.2222222222222222,
             "#7201a8"
            ],
            [
             0.3333333333333333,
             "#9c179e"
            ],
            [
             0.4444444444444444,
             "#bd3786"
            ],
            [
             0.5555555555555556,
             "#d8576b"
            ],
            [
             0.6666666666666666,
             "#ed7953"
            ],
            [
             0.7777777777777778,
             "#fb9f3a"
            ],
            [
             0.8888888888888888,
             "#fdca26"
            ],
            [
             1,
             "#f0f921"
            ]
           ],
           "sequentialminus": [
            [
             0,
             "#0d0887"
            ],
            [
             0.1111111111111111,
             "#46039f"
            ],
            [
             0.2222222222222222,
             "#7201a8"
            ],
            [
             0.3333333333333333,
             "#9c179e"
            ],
            [
             0.4444444444444444,
             "#bd3786"
            ],
            [
             0.5555555555555556,
             "#d8576b"
            ],
            [
             0.6666666666666666,
             "#ed7953"
            ],
            [
             0.7777777777777778,
             "#fb9f3a"
            ],
            [
             0.8888888888888888,
             "#fdca26"
            ],
            [
             1,
             "#f0f921"
            ]
           ]
          },
          "colorway": [
           "#636efa",
           "#EF553B",
           "#00cc96",
           "#ab63fa",
           "#FFA15A",
           "#19d3f3",
           "#FF6692",
           "#B6E880",
           "#FF97FF",
           "#FECB52"
          ],
          "font": {
           "color": "#2a3f5f"
          },
          "geo": {
           "bgcolor": "white",
           "lakecolor": "white",
           "landcolor": "#E5ECF6",
           "showlakes": true,
           "showland": true,
           "subunitcolor": "white"
          },
          "hoverlabel": {
           "align": "left"
          },
          "hovermode": "closest",
          "mapbox": {
           "style": "light"
          },
          "paper_bgcolor": "white",
          "plot_bgcolor": "#E5ECF6",
          "polar": {
           "angularaxis": {
            "gridcolor": "white",
            "linecolor": "white",
            "ticks": ""
           },
           "bgcolor": "#E5ECF6",
           "radialaxis": {
            "gridcolor": "white",
            "linecolor": "white",
            "ticks": ""
           }
          },
          "scene": {
           "xaxis": {
            "backgroundcolor": "#E5ECF6",
            "gridcolor": "white",
            "gridwidth": 2,
            "linecolor": "white",
            "showbackground": true,
            "ticks": "",
            "zerolinecolor": "white"
           },
           "yaxis": {
            "backgroundcolor": "#E5ECF6",
            "gridcolor": "white",
            "gridwidth": 2,
            "linecolor": "white",
            "showbackground": true,
            "ticks": "",
            "zerolinecolor": "white"
           },
           "zaxis": {
            "backgroundcolor": "#E5ECF6",
            "gridcolor": "white",
            "gridwidth": 2,
            "linecolor": "white",
            "showbackground": true,
            "ticks": "",
            "zerolinecolor": "white"
           }
          },
          "shapedefaults": {
           "line": {
            "color": "#2a3f5f"
           }
          },
          "ternary": {
           "aaxis": {
            "gridcolor": "white",
            "linecolor": "white",
            "ticks": ""
           },
           "baxis": {
            "gridcolor": "white",
            "linecolor": "white",
            "ticks": ""
           },
           "bgcolor": "#E5ECF6",
           "caxis": {
            "gridcolor": "white",
            "linecolor": "white",
            "ticks": ""
           }
          },
          "title": {
           "x": 0.05
          },
          "xaxis": {
           "automargin": true,
           "gridcolor": "white",
           "linecolor": "white",
           "ticks": "",
           "title": {
            "standoff": 15
           },
           "zerolinecolor": "white",
           "zerolinewidth": 2
          },
          "yaxis": {
           "automargin": true,
           "gridcolor": "white",
           "linecolor": "white",
           "ticks": "",
           "title": {
            "standoff": 15
           },
           "zerolinecolor": "white",
           "zerolinewidth": 2
          }
         }
        },
        "title": {
         "text": "Análisis de Ventas B2B Último Trimestre - Top 10 Productos",
         "x": 0.5
        },
        "width": 1600,
        "xaxis": {
         "anchor": "y",
         "domain": [
          0,
          0.45
         ],
         "title": {
          "text": "Producto"
         }
        },
        "xaxis2": {
         "anchor": "y2",
         "domain": [
          0.55,
          1
         ],
         "title": {
          "text": "Mes"
         }
        },
        "xaxis3": {
         "anchor": "y3",
         "domain": [
          0.55,
          1
         ],
         "title": {
          "text": "Unidades Totales Vendidas"
         }
        },
        "yaxis": {
         "anchor": "x",
         "domain": [
          0.625,
          1
         ],
         "title": {
          "text": "Unidades Vendidas Totales"
         }
        },
        "yaxis2": {
         "anchor": "x2",
         "domain": [
          0.625,
          1
         ],
         "title": {
          "text": "Unidades Vendidas"
         }
        },
        "yaxis3": {
         "anchor": "x3",
         "domain": [
          0,
          0.375
         ],
         "title": {
          "text": "Unidades Vendidas en el Primer Mes"
         }
        }
       }
      }
     },
     "metadata": {},
     "output_type": "display_data"
    }
   ],
   "source": [
    "create_dashboard_from_json(results['graphics_json'])"
   ]
  },
  {
   "cell_type": "markdown",
   "id": "53b47a50",
   "metadata": {},
   "source": [
    "---\n",
    "\n",
    "## QUERY VALIDATOR"
   ]
  },
  {
   "cell_type": "code",
   "execution_count": 2,
   "id": "e8d7f543",
   "metadata": {},
   "outputs": [
    {
     "data": {
      "image/png": "[encoded data removed]",
      "text/plain": [
       "<IPython.core.display.Image object>"
      ]
     },
     "execution_count": 2,
     "metadata": {},
     "output_type": "execute_result"
    }
   ],
   "source": [
    "query_validator_graph = get_query_validator_graph()\n",
    "Image(query_validator_graph.get_graph().draw_mermaid_png())"
   ]
  },
  {
   "cell_type": "code",
   "execution_count": 3,
   "id": "6fbabc32",
   "metadata": {},
   "outputs": [
    {
     "name": "stdout",
     "output_type": "stream",
     "text": [
      "\n",
      "--- INICIANDO COMPROBACIÓN DE CONEXIÓN A BBDD ⚙️ ---\n",
      "✅ Conexión a la base de datos establecida correctamente.\n",
      "\n",
      "--- INICIANDO FASE DE EXTRACCIÓN DE TABLAS CON LLM 🧮 ---\n",
      "Tablas detectadas por el LLM: ['ventas', 'productos']\n",
      "\n",
      "--- INICIANDO FASE DE JUEZ DE COHERENCIA 👩‍⚖️ ---\n",
      "\n",
      "Veredicto del juez: COHERENTE ✅\n",
      "\n",
      "--- PASANDO A FASE DE EJECUCIÓN EN POSTGRESQL ---\n",
      "\n",
      "\n",
      "❌ Error de PostgreSQL detectado: table_names {'ventas'} not found in database\n",
      "\n",
      "--- INICIANDO FASE DE CORRECIÓN 📝 ---\n",
      "\n",
      "✅  > Query corregida recibida: WITH \n",
      "last_quarter AS (\n",
      "  SELECT\n",
      "    fs.product_key,\n",
      "    COALESCE(dp.s...\n",
      "\n",
      "--- INICIANDO FASE DE EXTRACCIÓN DE TABLAS CON LLM 🧮 ---\n",
      "Tablas detectadas por el LLM: ['fact_sales', 'dim_product']\n",
      "\n",
      "--- INICIANDO FASE DE JUEZ DE COHERENCIA 👩‍⚖️ ---\n",
      "\n",
      "Veredicto del juez: COHERENTE ✅\n",
      "\n",
      "--- PASANDO A FASE DE EJECUCIÓN EN POSTGRESQL ---\n",
      "\n",
      "\n",
      "✅ Query ejecutada correctamente.\n"
     ]
    },
    {
     "data": {
      "text/plain": [
       "{'sql_query': \"WITH \\nlast_quarter AS (\\n  SELECT\\n    fs.product_key,\\n    COALESCE(dp.spanish_product_name, dp.english_product_name) AS product_name,\\n    dp.spanish_product_category_name,\\n    dp.spanish_product_subcategory_name,\\n    EXTRACT(MONTH FROM fs.order_date) AS month_in_quarter,\\n    fs.order_quantity\\n  FROM\\n    sales.fact_sales fs\\n    JOIN sales.dim_product dp ON fs.product_key = dp.product_key\\n  WHERE\\n    fs.sale_source = 'reseller_sales'\\n    AND dp.spanish_product_category_name <> 'Accesorio'\\n    AND fs.order_date >= date_trunc('quarter', CURRENT_DATE - interval '3 months')\\n    AND fs.order_date < date_trunc('quarter', CURRENT_DATE)\\n),\\ntop_products AS (\\n  SELECT\\n    product_key,\\n    product_name,\\n    spanish_product_category_name,\\n    spanish_product_subcategory_name,\\n    SUM(order_quantity) AS total_qty\\n  FROM\\n    last_quarter\\n  GROUP BY\\n    product_key, product_name, spanish_product_category_name, spanish_product_subcategory_name\\n  ORDER BY\\n    total_qty DESC\\n  LIMIT 10\\n)\\nSELECT\\n  tp.product_name AS producto,\\n  tp.spanish_product_category_name AS categoria,\\n  tp.spanish_product_subcategory_name AS subcategoria,\\n  SUM(lq.order_quantity) FILTER (WHERE lq.month_in_quarter = EXTRACT(MONTH FROM date_trunc('quarter', CURRENT_DATE - interval '3 months'))) AS primer_mes,\\n  SUM(lq.order_quantity) FILTER (WHERE lq.month_in_quarter = EXTRACT(MONTH FROM date_trunc('quarter', CURRENT_DATE - interval '3 months') + interval '1 month')) AS segundo_mes,\\n  SUM(lq.order_quantity) FILTER (WHERE lq.month_in_quarter = EXTRACT(MONTH FROM date_trunc('quarter', CURRENT_DATE - interval '3 months') + interval '2 month')) AS tercer_mes,\\n  SUM(lq.order_quantity) AS total\\nFROM\\n  top_products tp\\n  LEFT JOIN last_quarter lq ON tp.product_key = lq.product_key\\nGROUP BY\\n  tp.product_name, tp.spanish_product_category_name, tp.spanish_product_subcategory_name\\nORDER BY\\n  total DESC\",\n",
       " 'table_names': ['fact_sales', 'dim_product'],\n",
       " 'tables_info': ['\\nCREATE TABLE fact_sales (\\n\\tproduct_key INTEGER, \\n\\treseller_key INTEGER, \\n\\temployee_key INTEGER, \\n\\tcustomer_key INTEGER, \\n\\tpromotion_key INTEGER, \\n\\tsales_territory_key INTEGER, \\n\\tsales_order_number VARCHAR(20) NOT NULL, \\n\\tsales_order_line_number SMALLINT NOT NULL, \\n\\torder_quantity SMALLINT, \\n\\tunit_price NUMERIC(19, 4), \\n\\textended_amount NUMERIC(19, 4), \\n\\tunit_price_discount_pct DOUBLE PRECISION, \\n\\tdiscount_amount DOUBLE PRECISION, \\n\\tproduct_standard_cost NUMERIC(19, 4), \\n\\ttotal_product_cost NUMERIC(19, 4), \\n\\tsales_amount NUMERIC(19, 4), \\n\\ttax_amt NUMERIC(19, 4), \\n\\tfreight NUMERIC(19, 4), \\n\\torder_date DATE, \\n\\tdue_date DATE, \\n\\tship_date DATE, \\n\\tsale_source TEXT, \\n\\tCONSTRAINT fact_sales_pkey PRIMARY KEY (sales_order_number, sales_order_line_number), \\n\\tCONSTRAINT fk_fact_sales_customer FOREIGN KEY(customer_key) REFERENCES dim_customer (customer_key), \\n\\tCONSTRAINT fk_fact_sales_person FOREIGN KEY(employee_key) REFERENCES dim_sales_person (employee_key), \\n\\tCONSTRAINT fk_fact_sales_product FOREIGN KEY(product_key) REFERENCES dim_product (product_key), \\n\\tCONSTRAINT fk_fact_sales_promotion FOREIGN KEY(promotion_key) REFERENCES dim_promotion (promotion_key), \\n\\tCONSTRAINT fk_fact_sales_reseller FOREIGN KEY(reseller_key) REFERENCES dim_reseller (reseller_key), \\n\\tCONSTRAINT fk_fact_sales_sales_territory FOREIGN KEY(sales_territory_key) REFERENCES dim_sales_territory (sales_territory_key)\\n)\\n\\n/*\\n3 rows from fact_sales table:\\nproduct_key\\treseller_key\\temployee_key\\tcustomer_key\\tpromotion_key\\tsales_territory_key\\tsales_order_number\\tsales_order_line_number\\torder_quantity\\tunit_price\\textended_amount\\tunit_price_discount_pct\\tdiscount_amount\\tproduct_standard_cost\\ttotal_product_cost\\tsales_amount\\ttax_amt\\tfreight\\torder_date\\tdue_date\\tship_date\\tsale_source\\n212\\t3\\t283\\tNone\\t1\\t4\\tSO44124\\t14\\t1\\t20.1865\\t20.1865\\t0.0\\t0.0\\t12.0278\\t12.0278\\t20.1865\\t1.6149\\t0.5047\\t2023-03-01\\t2023-03-13\\t2023-03-08\\treseller_sales\\n212\\t3\\t283\\tNone\\t1\\t4\\tSO45568\\t11\\t3\\t20.1865\\t60.5595\\t0.0\\t0.0\\t12.0278\\t36.0834\\t60.5595\\t4.8448\\t1.5140\\t2023-08-29\\t2023-09-10\\t2023-09-05\\treseller_sales\\n212\\t3\\t283\\tNone\\t1\\t4\\tSO46377\\t2\\t1\\t20.1865\\t20.1865\\t0.0\\t0.0\\t12.0278\\t12.0278\\t20.1865\\t1.6149\\t0.5047\\t2023-11-29\\t2023-12-11\\t2023-12-06\\treseller_sales\\n*/',\n",
       "  '\\nCREATE TABLE dim_product (\\n\\tproduct_key INTEGER NOT NULL, \\n\\tweight_unit_measure_code CHAR(3), \\n\\tsize_unit_measure_code CHAR(3), \\n\\tenglish_product_name VARCHAR(50), \\n\\tspanish_product_name VARCHAR(50), \\n\\tstandard_cost NUMERIC(19, 4), \\n\\tfinished_goods_flag BOOLEAN, \\n\\tcolor VARCHAR(15), \\n\\tsafety_stock_level SMALLINT, \\n\\treorder_point SMALLINT, \\n\\tlist_price NUMERIC(19, 4), \\n\\tsize VARCHAR(50), \\n\\tsize_range VARCHAR(50), \\n\\tweight DOUBLE PRECISION, \\n\\tdays_to_manufacture INTEGER, \\n\\tproduct_line CHAR(2), \\n\\tdealer_price NUMERIC(19, 4), \\n\\tclass CHAR(2), \\n\\tstyle CHAR(2), \\n\\tmodel_name VARCHAR(50), \\n\\tenglish_description VARCHAR(400), \\n\\tstart_date DATE, \\n\\tend_date DATE, \\n\\tactive BOOLEAN, \\n\\tenglish_product_subcategory_name VARCHAR(50), \\n\\tspanish_product_subcategory_name VARCHAR(50), \\n\\tenglish_product_category_name VARCHAR(50), \\n\\tspanish_product_category_name VARCHAR(50), \\n\\tCONSTRAINT dim_product_pkey PRIMARY KEY (product_key)\\n)\\n\\n/*\\n3 rows from dim_product table:\\nproduct_key\\tweight_unit_measure_code\\tsize_unit_measure_code\\tenglish_product_name\\tspanish_product_name\\tstandard_cost\\tfinished_goods_flag\\tcolor\\tsafety_stock_level\\treorder_point\\tlist_price\\tsize\\tsize_range\\tweight\\tdays_to_manufacture\\tproduct_line\\tdealer_price\\tclass\\tstyle\\tmodel_name\\tenglish_description\\tstart_date\\tend_date\\tactive\\tenglish_product_subcategory_name\\tspanish_product_subcategory_name\\tenglish_product_category_name\\tspanish_product_category_name\\n528\\tNone\\tNone\\tMountain Tire Tube\\tCubierta para cámara de montaña\\t1.8663\\tTrue\\tNA\\t500\\t375\\t4.9900\\tNone\\tNA\\tNone\\t0\\tM \\t2.9940\\tNone\\tNone\\tMountain Tire Tube\\tSelf-sealing tube.\\t2025-07-01\\tNone\\tTrue\\tTires and Tubes\\tCubierta y cámara\\tAccessories\\tAccesorio\\n384\\tLB \\tCM \\tRoad-550-W Yellow, 40\\tCarretera: 550 para mujer, amarilla, 40\\t713.0798\\tTrue\\tYellow\\t100\\t75\\t1120.4900\\t40\\t38-40 CM\\t17.77\\t4\\tR \\t672.2940\\tM \\tW \\tRoad-550-W\\tSame technology as all of our Road series bikes, but the frame is sized for a woman.  Perfect all-ar\\t2025-07-01\\tNone\\tTrue\\tRoad Bikes\\tBicicleta de carretera\\tBikes\\tBicicleta\\n407\\tNone\\tNone\\tHL Road Handlebars\\tManillar de carretera GA\\t48.5453\\tTrue\\tNA\\t500\\t375\\t109.3364\\tNone\\tNA\\tNone\\t1\\tR \\t65.6018\\tH \\tNone\\tHL Road Handlebars\\tDesigned for racers; high-end anatomically shaped bar from aluminum alloy.\\t2024-07-01\\t2020-12-27\\tFalse\\tHandlebars\\tBarra\\tComponents\\tComponente\\n*/'],\n",
       " 'query_results': [{'producto': 'Camiseta clásica, P', 'categoria': 'Prenda', 'subcategoria': 'Camiseta', 'primer_mes': 381, 'segundo_mes': 380, 'tercer_mes': 190, 'total': 951},\n",
       "  {'producto': 'Jersey clásico de manga corta, SG', 'categoria': 'Prenda', 'subcategoria': 'Jersey', 'primer_mes': 329, 'segundo_mes': 299, 'tercer_mes': 183, 'total': 811},\n",
       "  {'producto': \"Women's Mountain Shorts, S\", 'categoria': 'Prenda', 'subcategoria': 'Pantalones cortos', 'primer_mes': 295, 'segundo_mes': 258, 'tercer_mes': 141, 'total': 694},\n",
       "  {'producto': 'Jersey con logotipo de manga larga, G', 'categoria': 'Prenda', 'subcategoria': 'Jersey', 'primer_mes': 312, 'segundo_mes': 243, 'tercer_mes': 129, 'total': 684},\n",
       "  {'producto': 'AWC Logo Cap', 'categoria': 'Prenda', 'subcategoria': 'Gorra', 'primer_mes': 291, 'segundo_mes': 243, 'tercer_mes': 121, 'total': 655},\n",
       "  {'producto': \"Women's Mountain Shorts, L\", 'categoria': 'Prenda', 'subcategoria': 'Pantalones cortos', 'primer_mes': 262, 'segundo_mes': 236, 'tercer_mes': 120, 'total': 618},\n",
       "  {'producto': 'Jersey clásico de manga corta, G', 'categoria': 'Prenda', 'subcategoria': 'Jersey', 'primer_mes': 217, 'segundo_mes': 231, 'tercer_mes': 113, 'total': 561},\n",
       "  {'producto': 'Calcetines para carreras, G', 'categoria': 'Prenda', 'subcategoria': 'Calcetines', 'primer_mes': 231, 'segundo_mes': 179, 'tercer_mes': 93, 'total': 503},\n",
       "  {'producto': 'Camiseta clásica, M', 'categoria': 'Prenda', 'subcategoria': 'Camiseta', 'primer_mes': 197, 'segundo_mes': 187, 'tercer_mes': 85, 'total': 469},\n",
       "  {'producto': 'Half-Finger Gloves, M', 'categoria': 'Prenda', 'subcategoria': 'Guantes', 'primer_mes': 187, 'segundo_mes': 168, 'tercer_mes': 82, 'total': 437}],\n",
       " 'valid_query_execution': True,\n",
       " 'query_validation_error_msg': 'error_db'}"
      ]
     },
     "execution_count": 3,
     "metadata": {},
     "output_type": "execute_result"
    }
   ],
   "source": [
    "user_query = 'Muéstrame los 10 productos más vendidos para el B2B en el último trimestre, excluyendo los Accesorios. Mes a mes indica cuántas unidades se vendieron, y muestra también a qué categoría y subcategoría pertenecen'\n",
    "sql_query = \"WITH \\nlast_quarter AS (\\n  SELECT\\n    fs.product_key,\\n    COALESCE(dp.spanish_product_name, dp.english_product_name) AS product_name,\\n    dp.spanish_product_category_name,\\n    dp.spanish_product_subcategory_name,\\n    EXTRACT(MONTH FROM fs.order_date) AS month_in_quarter,\\n    fs.order_quantity\\n  FROM\\n    sales.ventas fs\\n    JOIN sales.productos dp ON fs.product_key = dp.product_key\\n  WHERE\\n    fs.sale_source = 'reseller_sales'\\n    AND dp.spanish_product_category_name <> 'Accesorio'\\n    AND fs.order_date >= date_trunc('quarter', CURRENT_DATE - interval '3 months')\\n    AND fs.order_date < date_trunc('quarter', CURRENT_DATE)\\n),\\ntop_products AS (\\n  SELECT\\n    product_key,\\n    product_name,\\n    spanish_product_category_name,\\n    spanish_product_subcategory_name,\\n    SUM(order_quantity) AS total_qty\\n  FROM\\n    last_quarter\\n  GROUP BY\\n    product_key, product_name, spanish_product_category_name, spanish_product_subcategory_name\\n  ORDER BY\\n    total_qty DESC\\n  LIMIT 10\\n)\\nSELECT\\n  tp.product_name AS producto,\\n  tp.spanish_product_category_name AS categoria,\\n  tp.spanish_product_subcategory_name AS subcategoria,\\n  SUM(lq.order_quantity) FILTER (WHERE lq.month_in_quarter = EXTRACT(MONTH FROM date_trunc('quarter', CURRENT_DATE - interval '3 months'))) AS primer_mes,\\n  SUM(lq.order_quantity) FILTER (WHERE lq.month_in_quarter = EXTRACT(MONTH FROM date_trunc('quarter', CURRENT_DATE - interval '3 months') + interval '1 month')) AS segundo_mes,\\n  SUM(lq.order_quantity) FILTER (WHERE lq.month_in_quarter = EXTRACT(MONTH FROM date_trunc('quarter', CURRENT_DATE - interval '3 months') + interval '2 month')) AS tercer_mes,\\n  SUM(lq.order_quantity) AS total\\nFROM\\n  top_products tp\\n  LEFT JOIN last_quarter lq ON tp.product_key = lq.product_key\\nGROUP BY\\n  producto, categoria, subcategoria\\nORDER BY\\n  total DESC\"\n",
    "context = \"### Resumen General\\nEl objetivo de la consulta es identificar los 10 productos más vendidos en el modelo de negocio B2B durante el último trimestre, excluyendo aquellos clasificados como accesorios. Además, se requiere un desglose mensual de las unidades vendidas y la inclusión de información sobre la categoría y subcategoría de cada producto.\\n\\n### Esquema Detallado y Relaciones\\n#### Base de datos y esquema\\n- **Base de datos:** adventure_works_dw\\n- **Esquema:** sales\\n\\n#### Tabla: dim_product\\n- **Descripción:** Contiene información detallada de los productos vendidos.\\n- **Clave primaria:** product_key\\n- **Columnas relevantes:**\\n  - **english_product_category_name**: VARCHAR(50), nunca NULL.\\n  - **spanish_product_category_name**: VARCHAR(50), nunca NULL.\\n  - **english_product_subcategory_name**: VARCHAR(50), nunca NULL.\\n  - **spanish_product_subcategory_name**: VARCHAR(50), nunca NULL.\\n  - **spanish_product_name**: VARCHAR(50), puede ser NULL.\\n  - **english_product_name**: VARCHAR(50), nunca NULL.\\n  - **finished_goods_flag**: BOOL.\\n  - **start_date**: DATE.\\n  - **end_date**: DATE, puede ser NULL.\\n  - **dealer_price**: NUMERIC.\\n  - **list_price**: NUMERIC.\\n\\n#### Tabla: fact_sales\\n- **Descripción:** Contiene detalles de las órdenes de ventas realizadas.\\n- **Clave primaria:** sales_order_number, sales_order_line_number\\n- **Claves foráneas:**\\n  - product_key → sales.dim_product.product_key\\n- **Columnas relevantes:**\\n  - **order_quantity**: INT2.\\n  - **sale_source**: TEXT.\\n  - **order_date**: DATE.\\n  - **product_key**: Referencia a sales.dim_product.product_key.\\n\\n#### Relaciones entre tablas\\n- Para unir las tablas **fact_sales** y **dim_product**, se utiliza la clave foránea **product_key**.\\n- Condiciones de unión: `fact_sales.product_key = dim_product.product_key`.\\n\\n### Reglas de Negocio y Lógica\\n1. **Modelo de Negocio B2B:**\\n   - Las ventas B2B se identifican con el campo `sale_source` igual a `'reseller_sales'`.\\n\\n2. **Productos Más Vendidos:**\\n   - Se define por la cantidad de unidades vendidas (`order_quantity`).\\n   - Implementación SQL:\\n     ```sql\\n     SUM(order_quantity) AS cantidad_vendida\\n     ```\\n\\n3. **Exclusión de Accesorios:**\\n   - Se aplica el filtro `spanish_product_category_name != 'Accesorio'`.\\n\\n4. **Desglose Temporal:**\\n   - Para calcular el último trimestre, se utiliza el campo `order_date` en la tabla `fact_sales`.\\n   - Ejemplo de filtro SQL para el último trimestre:\\n     ```sql\\n     WHERE order_date BETWEEN DATE_TRUNC('quarter', CURRENT_DATE - INTERVAL '3 months') AND DATE_TRUNC('quarter', CURRENT_DATE) - INTERVAL '1 day';\\n     ```\\n   - Para el desglose mensual, se puede usar la función `EXTRACT(MONTH FROM order_date)`.\\n\\n5. **Categorías y Subcategorías:**\\n   - Para mostrar nombres de categorías y subcategorías, se priorizan los campos en español (`spanish_product_category_name`, `spanish_product_subcategory_name`). Si son nulos, se utiliza la versión en inglés como alternativa.\\n   - Ejemplo de lógica SQL:\\n     ```sql\\n     SELECT\\n         COALESCE(spanish_product_category_name, english_product_category_name) AS producto_categoria,\\n         COALESCE(spanish_product_subcategory_name, english_product_subcategory_name) AS producto_subcategoria\\n     FROM sales.dim_product;\\n     ```\"\n",
    "\n",
    "results = query_validator_graph.invoke({\n",
    "    \"user_query\": user_query, \n",
    "    \"sql_query\": sql_query, \n",
    "    \"context\": context,\n",
    "    \"db_name\": \"adventure_works_dw\",\n",
    "    \"schema_name\": \"sales\"\n",
    "})\n",
    "\n",
    "results"
   ]
  },
  {
   "cell_type": "markdown",
   "id": "74444cb6",
   "metadata": {},
   "source": [
    "---\n",
    "\n",
    "## MAIN GRAPH"
   ]
  },
  {
   "cell_type": "code",
   "execution_count": 10,
   "id": "25c066ad",
   "metadata": {},
   "outputs": [
    {
     "name": "stderr",
     "output_type": "stream",
     "text": [
      "INFO: Anonymized telemetry enabled. See                     https://docs.trychroma.com/telemetry for more information.\n",
      "INFO: HTTP Request: GET http://localhost:8000/api/v2/auth/identity \"HTTP/1.1 200 OK\"\n",
      "INFO: Anonymized telemetry enabled. See                     https://docs.trychroma.com/telemetry for more information.\n",
      "INFO: HTTP Request: GET http://localhost:8000/api/v2/tenants/default_tenant \"HTTP/1.1 200 OK\"\n",
      "INFO: HTTP Request: GET http://localhost:8000/api/v2/tenants/default_tenant/databases/default_database \"HTTP/1.1 200 OK\"\n",
      "INFO: HTTP Request: POST http://localhost:8000/api/v2/tenants/default_tenant/databases/default_database/collections \"HTTP/1.1 200 OK\"\n",
      "INFO: Anonymized telemetry enabled. See                     https://docs.trychroma.com/telemetry for more information.\n",
      "INFO: HTTP Request: GET http://localhost:8000/api/v2/auth/identity \"HTTP/1.1 200 OK\"\n",
      "INFO: Anonymized telemetry enabled. See                     https://docs.trychroma.com/telemetry for more information.\n",
      "INFO: HTTP Request: GET http://localhost:8000/api/v2/tenants/default_tenant \"HTTP/1.1 200 OK\"\n",
      "INFO: HTTP Request: GET http://localhost:8000/api/v2/tenants/default_tenant/databases/default_database \"HTTP/1.1 200 OK\"\n",
      "INFO: HTTP Request: POST http://localhost:8000/api/v2/tenants/default_tenant/databases/default_database/collections \"HTTP/1.1 200 OK\"\n",
      "INFO: Anonymized telemetry enabled. See                     https://docs.trychroma.com/telemetry for more information.\n",
      "INFO: HTTP Request: GET http://localhost:8000/api/v2/auth/identity \"HTTP/1.1 200 OK\"\n",
      "INFO: Anonymized telemetry enabled. See                     https://docs.trychroma.com/telemetry for more information.\n",
      "INFO: HTTP Request: GET http://localhost:8000/api/v2/tenants/default_tenant \"HTTP/1.1 200 OK\"\n",
      "INFO: HTTP Request: GET http://localhost:8000/api/v2/tenants/default_tenant/databases/default_database \"HTTP/1.1 200 OK\"\n",
      "INFO: HTTP Request: POST http://localhost:8000/api/v2/tenants/default_tenant/databases/default_database/collections \"HTTP/1.1 200 OK\"\n"
     ]
    },
    {
     "name": "stdout",
     "output_type": "stream",
     "text": [
      "--- BUILDING CONTEXT GENERATOR GRAPH 🏗️ ---\n",
      "--- BUILDING BUSINESSLOGICRETRIEVALGRAPH GRAPH 🏗️ ---\n",
      "--- BUILDING CHUNK PROCESSING GRAPH 🏗️ ---\n",
      "--- CHUNK PROCESSING GRAPH COMPILED SUCCESSFULLY ⚙️✅ ---\n",
      "--- BUSINESSLOGICRETRIEVALGRAPH COMPILED SUCCESSFULLY ✅ ---\n",
      "--- BUILDING MDLRETRIEVALGRAPH GRAPH 🏗️ ---\n",
      "--- BUILDING CHUNK PROCESSING GRAPH 🏗️ ---\n",
      "--- CHUNK PROCESSING GRAPH COMPILED SUCCESSFULLY ⚙️✅ ---\n",
      "--- MDLRETRIEVALGRAPH COMPILED SUCCESSFULLY ✅ ---\n",
      "--- CONTEXT GENERATOR COMPILED SUCCESSFULLY ✅ ---\n"
     ]
    },
    {
     "name": "stderr",
     "output_type": "stream",
     "text": [
      "INFO: Anonymized telemetry enabled. See                     https://docs.trychroma.com/telemetry for more information.\n",
      "INFO: HTTP Request: GET http://localhost:8000/api/v2/auth/identity \"HTTP/1.1 200 OK\"\n",
      "INFO: Anonymized telemetry enabled. See                     https://docs.trychroma.com/telemetry for more information.\n",
      "INFO: HTTP Request: GET http://localhost:8000/api/v2/tenants/default_tenant \"HTTP/1.1 200 OK\"\n",
      "INFO: HTTP Request: GET http://localhost:8000/api/v2/tenants/default_tenant/databases/default_database \"HTTP/1.1 200 OK\"\n",
      "INFO: HTTP Request: POST http://localhost:8000/api/v2/tenants/default_tenant/databases/default_database/collections \"HTTP/1.1 200 OK\"\n"
     ]
    },
    {
     "name": "stdout",
     "output_type": "stream",
     "text": [
      "--- MAIN GRAPH COMPILED SUCCESSFULLY ✅ ---\n"
     ]
    },
    {
     "data": {
      "image/png": "[encoded data removed]",
      "text/plain": [
       "<IPython.core.display.Image object>"
      ]
     },
     "execution_count": 10,
     "metadata": {},
     "output_type": "execute_result"
    }
   ],
   "source": [
    "main_graph = get_main_graph()\n",
    "Image(main_graph.get_graph(xray=2).draw_mermaid_png())"
   ]
  },
  {
   "cell_type": "code",
   "execution_count": 3,
   "id": "19acf70d",
   "metadata": {},
   "outputs": [
    {
     "name": "stdout",
     "output_type": "stream",
     "text": [
      "--- DEFINE USER QUERY LANGUAGE 🔣 ---\n",
      "--- GENERATING BUSINESS_LOGIC SUB-QUERIES 📚 ---\n",
      "--- GENERATING MDL SUB-QUERIES 📚 ---\n",
      "--- MDL RETRIEVE TOOL 🛠️ ---\n",
      "--- BUSINESS_LOGIC RETRIEVE TOOL 🛠️ ---\n",
      "--- PARALLELIZE GENERATION 🔢 ---\n",
      "--- GRADE CHUNK RELEVANCE TO QUESTION ❔ ---\n",
      "--- GRADE CHUNK RELEVANCE TO QUESTION ❔ ---\n",
      "--- GRADE CHUNK RELEVANCE TO QUESTION ❔ ---\n",
      "--- GRADE CHUNK RELEVANCE TO QUESTION ❔ ---\n",
      "--- GRADE CHUNK RELEVANCE TO QUESTION ❔ ---\n",
      "--- GRADE CHUNK RELEVANCE TO QUESTION ❔ ---\n",
      "--- GRADE CHUNK RELEVANCE TO QUESTION ❔ ---\n",
      "--- GRADE CHUNK RELEVANCE TO QUESTION ❔ ---\n",
      "--- GRADE CHUNK RELEVANCE TO QUESTION ❔ ---\n",
      "--- GRADE CHUNK RELEVANCE TO QUESTION ❔ ---\n",
      "--- GRADE CHUNK RELEVANCE TO QUESTION ❔ ---\n",
      "--- GRADE CHUNK RELEVANCE TO QUESTION ❔ ---\n",
      "--- GRADE CHUNK RELEVANCE TO QUESTION ❔ ---\n",
      "--- GRADE CHUNK RELEVANCE TO QUESTION ❔ ---\n",
      "--- GRADE: RELEVANT CHUNK ✅ ---\n",
      "--- SUMMARIZE CHUNK 📝📚 ---\n",
      "--- GRADE: NOT RELEVANT CHUNK 🗑️ ---\n",
      "--- SET RETRIEVAL GRADE OUTPUT KO ❌ ---\n",
      "--- GRADE: NOT RELEVANT CHUNK 🗑️ ---\n",
      "--- SET RETRIEVAL GRADE OUTPUT KO ❌ ---\n",
      "--- GRADE: NOT RELEVANT CHUNK 🗑️ ---\n",
      "--- SET RETRIEVAL GRADE OUTPUT KO ❌ ---\n",
      "--- GRADE: NOT RELEVANT CHUNK 🗑️ ---\n",
      "--- SET RETRIEVAL GRADE OUTPUT KO ❌ ---\n",
      "--- GRADE: NOT RELEVANT CHUNK 🗑️ ---\n",
      "--- SET RETRIEVAL GRADE OUTPUT KO ❌ ---\n",
      "--- GRADE: RELEVANT CHUNK ✅ ---\n",
      "--- SUMMARIZE CHUNK 📝📚 ---\n",
      "--- GRADE: NOT RELEVANT CHUNK 🗑️ ---\n",
      "--- SET RETRIEVAL GRADE OUTPUT KO ❌ ---\n",
      "--- GRADE: NOT RELEVANT CHUNK 🗑️ ---\n",
      "--- SET RETRIEVAL GRADE OUTPUT KO ❌ ---\n",
      "--- GRADE: NOT RELEVANT CHUNK 🗑️ ---\n",
      "--- SET RETRIEVAL GRADE OUTPUT KO ❌ ---\n",
      "--- GRADE: NOT RELEVANT CHUNK 🗑️ ---\n",
      "--- SET RETRIEVAL GRADE OUTPUT KO ❌ ---\n",
      "--- GRADE: NOT RELEVANT CHUNK 🗑️ ---\n",
      "--- SET RETRIEVAL GRADE OUTPUT KO ❌ ---\n",
      "--- GRADE: RELEVANT CHUNK ✅ ---\n",
      "--- SUMMARIZE CHUNK 📝📚 ---\n"
     ]
    },
    {
     "name": "stderr",
     "output_type": "stream",
     "text": [
      "No relevant docs were retrieved using the relevance score threshold 0.75\n"
     ]
    },
    {
     "name": "stdout",
     "output_type": "stream",
     "text": [
      "--- GRADE: NOT RELEVANT CHUNK 🗑️ ---\n",
      "--- SET RETRIEVAL GRADE OUTPUT KO ❌ ---\n"
     ]
    },
    {
     "name": "stderr",
     "output_type": "stream",
     "text": [
      "No relevant docs were retrieved using the relevance score threshold 0.75\n"
     ]
    },
    {
     "name": "stdout",
     "output_type": "stream",
     "text": [
      "--- CHECK ITERATIONS 🔁 ---\n",
      "--- GRADE HALLUCINATIONS 👻 ---\n",
      "--- DECISION: GENERATION IS GROUNDED IN DOCUMENTS ✅ ---\n",
      "--- DECISION: GENERATION ADDRESSES QUESTION ✅ ---\n",
      "--- CHECK ITERATIONS 🔁 ------ CHECK ITERATIONS 🔁 ---\n",
      "--- GRADE HALLUCINATIONS 👻 ---\n",
      "\n",
      "--- GRADE HALLUCINATIONS 👻 ---\n",
      "--- DECISION: GENERATION IS GROUNDED IN DOCUMENTS ✅ ---\n",
      "--- DECISION: GENERATION IS GROUNDED IN DOCUMENTS ✅ ---\n",
      "--- DECISION: GENERATION ADDRESSES QUESTION ✅ ------ DECISION: GENERATION ADDRESSES QUESTION ✅ ---\n",
      "\n",
      "--- SUMMARIZE BUSINES LOGIC 📝👨‍💼 ---\n"
     ]
    },
    {
     "name": "stderr",
     "output_type": "stream",
     "text": [
      "No relevant docs were retrieved using the relevance score threshold 0.75\n",
      "No relevant docs were retrieved using the relevance score threshold 0.75\n",
      "No relevant docs were retrieved using the relevance score threshold 0.75\n"
     ]
    },
    {
     "name": "stdout",
     "output_type": "stream",
     "text": [
      "--- PARALLELIZE GENERATION 🔢 ---\n",
      "--- GRADE CHUNK RELEVANCE TO QUESTION ❔ ---\n",
      "--- GRADE CHUNK RELEVANCE TO QUESTION ❔ ---\n",
      "--- GRADE CHUNK RELEVANCE TO QUESTION ❔ ---\n",
      "--- GRADE CHUNK RELEVANCE TO QUESTION ❔ ---\n",
      "--- GRADE CHUNK RELEVANCE TO QUESTION ❔ ---\n",
      "--- GRADE CHUNK RELEVANCE TO QUESTION ❔ ---\n",
      "--- GRADE CHUNK RELEVANCE TO QUESTION ❔ ---\n",
      "--- GRADE CHUNK RELEVANCE TO QUESTION ❔ ---\n",
      "--- GRADE CHUNK RELEVANCE TO QUESTION ❔ ---\n",
      "--- GRADE: NOT RELEVANT CHUNK 🗑️ ---\n",
      "--- SET RETRIEVAL GRADE OUTPUT KO ❌ ---\n",
      "--- GRADE: NOT RELEVANT CHUNK 🗑️ ---\n",
      "--- SET RETRIEVAL GRADE OUTPUT KO ❌ ---\n",
      "--- GRADE: NOT RELEVANT CHUNK 🗑️ ---\n",
      "--- SET RETRIEVAL GRADE OUTPUT KO ❌ ---\n",
      "--- GRADE: NOT RELEVANT CHUNK 🗑️ ---\n",
      "--- SET RETRIEVAL GRADE OUTPUT KO ❌ ---\n",
      "--- GRADE: NOT RELEVANT CHUNK 🗑️ ---\n",
      "--- SET RETRIEVAL GRADE OUTPUT KO ❌ ---\n",
      "--- GRADE: RELEVANT CHUNK ✅ ---\n",
      "--- SUMMARIZE CHUNK 📝📚 ---\n",
      "--- GRADE: NOT RELEVANT CHUNK 🗑️ ---\n",
      "--- SET RETRIEVAL GRADE OUTPUT KO ❌ ---\n",
      "--- GRADE: NOT RELEVANT CHUNK 🗑️ ---\n",
      "--- SET RETRIEVAL GRADE OUTPUT KO ❌ ---\n",
      "--- GRADE: RELEVANT CHUNK ✅ ---\n",
      "--- SUMMARIZE CHUNK 📝📚 ---\n",
      "--- CHECK ITERATIONS 🔁 ---\n",
      "--- GRADE HALLUCINATIONS 👻 ---\n",
      "--- DECISION: GENERATION IS GROUNDED IN DOCUMENTS ✅ ---\n",
      "--- DECISION: GENERATION ADDRESSES QUESTION ✅ ---\n",
      "--- CHECK ITERATIONS 🔁 ---\n",
      "--- GRADE HALLUCINATIONS 👻 ---\n",
      "--- DECISION: GENERATION IS GROUNDED IN DOCUMENTS ✅ ---\n",
      "--- DECISION: GENERATION ADDRESSES QUESTION ✅ ---\n",
      "--- SUMMARIZE MDL 📝🗂️ ---\n",
      "--- EXTRACT DB SCHEMA 🧮 ---\n",
      "--- GRADE CONTEXT SUMMARIES 🔍 ---\n",
      "--- GENERATE GLOBAL CONTEXT 📝🌐 ---\n",
      "---QUERY EXAMPLES RETRIEVE TOOL---\n",
      "\n",
      "--- INICIANDO COMPROBACIÓN DE CONEXIÓN A BBDD ⚙️ ---\n",
      "✅ Conexión a la base de datos establecida correctamente.\n",
      "\n",
      "--- INICIANDO FASE DE EXTRACCIÓN DE TABLAS CON LLM 🧮 ---\n",
      "Tablas detectadas por el LLM: ['fact_sales', 'dim_product']\n",
      "\n",
      "--- INICIANDO FASE DE JUEZ DE COHERENCIA 👩‍⚖️ ---\n",
      "\n",
      "Veredicto del juez: COHERENTE ✅\n",
      "\n",
      "--- PASANDO A FASE DE EJECUCIÓN EN POSTGRESQL ---\n",
      "\n",
      "\n",
      "✅ Query ejecutada correctamente.\n",
      "\n",
      "--- INICIANDO GENERACIÓN DE CONCLUSIONES 📝 ---\n",
      "\n",
      "--- INICIANDO EXPLICACIÓN DE CONSULTA SQL 🗂️ ---\n",
      "\n",
      "--- INICIANDO GENERACIÓN DE GRÁFICOS 📊 ---\n"
     ]
    },
    {
     "data": {
      "text/plain": [
       "{'user_query': 'Muéstrame los 10 productos más vendidos para el B2B en el último trimestre, excluyendo los Accesorios. Mes a mes indica cuántas unidades se vendieron, y muestra también a qué categoría y subcategoría pertenecen',\n",
       " 'language': 'Spanish',\n",
       " 'relevant_context': True,\n",
       " 'context': '### Resumen General\\nEl objetivo es identificar los 10 productos más vendidos en el contexto de ventas B2B durante el último trimestre, excluyendo aquellos que pertenecen a la categoría \"Accesorios\". Además, se requiere desglosar las ventas mes a mes, mostrando la cantidad de unidades vendidas junto con la categoría y subcategoría de cada producto.\\n\\n### Esquema de Datos y Relaciones\\n#### Base de Datos y Esquema\\n- **Base de datos:** adventure_works_dw\\n- **Esquema:** sales\\n\\n#### Tabla: fact_sales\\n- **Descripción:** Contiene detalles de órdenes de ventas entregadas, con granularidad a nivel de línea.\\n- **Columnas relevantes:**\\n  - **order_quantity**: INT2, cantidad vendida de cada producto.\\n  - **sale_source**: TEXT, indicador de la fuente del pedido (\\'reseller_sales\\' para B2B).\\n  - **order_date**: DATE, fecha de creación del pedido.\\n  - **product_key**: Clave foránea, relaciona con `sales.dim_product`.\\n\\n#### Tabla: dim_product\\n- **Descripción:** Almacena información detallada de cada producto vendido.\\n- **Columnas relevantes:**\\n  - **spanish_product_category_name**: VARCHAR(50), categoría principal del producto en español.\\n  - **spanish_product_subcategory_name**: VARCHAR(50), subcategoría del producto en español.\\n  - **spanish_product_name**: VARCHAR(50), nombre del producto en español.\\n\\n#### Relaciones entre tablas\\n- **Unión:**\\n  ```sql\\n  ON fact_sales.product_key = dim_product.product_key\\n  ```\\n- **Filtrar ventas B2B:**\\n  ```sql\\n  WHERE fact_sales.sale_source = \\'reseller_sales\\'\\n  ```\\n- **Excluir accesorios:**\\n  ```sql\\n  WHERE dim_product.spanish_product_category_name != \\'Accesorio\\'\\n  ```\\n- **Filtrar por último trimestre:**\\n  ```sql\\n  WHERE fact_sales.order_date BETWEEN \\'fecha_inicio_trimestre\\' AND \\'fecha_fin_trimestre\\'\\n  ```\\n\\n### Lógica de Negocio\\n1. **Identificación de Productos Más Vendidos:**\\n   - Los productos más vendidos se determinan por la cantidad de unidades vendidas (`order_quantity`).\\n   - Se utiliza la métrica:\\n     ```sql\\n     SUM(order_quantity) AS cantidad_vendida\\n     ```\\n2. **Ventas B2B:**\\n   - Se identifican mediante el campo `sale_source` con el valor `\\'reseller_sales\\'`.\\n3. **Exclusión de Categorías:**\\n   - Se excluyen productos cuya categoría sea \"Accesorio\".\\n4. **Desglose por Mes:**\\n   - Se agrupan las ventas por mes utilizando la columna `order_date`.\\n5. **Representación de Nombres:**\\n   - Para nombres de productos, categorías y subcategorías, se priorizan los campos que terminan en `_name`.\\n   - Si el nombre en español es nulo, se utiliza el nombre en inglés.\\n   - Ejemplo:\\n     ```sql\\n     COALESCE(spanish_product_name, english_product_name) AS producto_nombre,\\n     COALESCE(spanish_product_category_name, english_product_category_name) AS producto_categoria,\\n     COALESCE(spanish_product_subcategory_name, english_product_subcategory_name) AS producto_subcategoria\\n     ```',\n",
       " 'db_name': 'adventure_works_dw',\n",
       " 'schema_name': 'sales',\n",
       " 'sql_query': \"WITH \\nlast_quarter AS (\\n  SELECT\\n    fs.product_key,\\n    COALESCE(dp.spanish_product_name, dp.english_product_name) AS product_name,\\n    dp.spanish_product_category_name,\\n    dp.spanish_product_subcategory_name,\\n    EXTRACT(MONTH FROM fs.order_date) AS month_in_quarter,\\n    fs.order_quantity\\n  FROM\\n    sales.fact_sales fs\\n    JOIN sales.dim_product dp ON fs.product_key = dp.product_key\\n  WHERE\\n    fs.sale_source = 'reseller_sales'\\n    AND dp.spanish_product_category_name <> 'Accesorio'\\n    AND fs.order_date >= date_trunc('quarter', CURRENT_DATE - interval '3 months')\\n    AND fs.order_date < date_trunc('quarter', CURRENT_DATE)\\n),\\ntop_products AS (\\n  SELECT\\n    product_key,\\n    product_name,\\n    spanish_product_category_name,\\n    spanish_product_subcategory_name,\\n    SUM(order_quantity) AS total_qty\\n  FROM\\n    last_quarter\\n  GROUP BY\\n    product_key, product_name, spanish_product_category_name, spanish_product_subcategory_name\\n  ORDER BY\\n    total_qty DESC\\n  LIMIT 10\\n)\\nSELECT\\n  tp.product_name AS producto,\\n  tp.spanish_product_category_name AS categoria,\\n  tp.spanish_product_subcategory_name AS subcategoria,\\n  SUM(lq.order_quantity) FILTER (WHERE lq.month_in_quarter = EXTRACT(MONTH FROM date_trunc('quarter', CURRENT_DATE - interval '3 months'))) AS primer_mes,\\n  SUM(lq.order_quantity) FILTER (WHERE lq.month_in_quarter = EXTRACT(MONTH FROM date_trunc('quarter', CURRENT_DATE - interval '3 months') + interval '1 month')) AS segundo_mes,\\n  SUM(lq.order_quantity) FILTER (WHERE lq.month_in_quarter = EXTRACT(MONTH FROM date_trunc('quarter', CURRENT_DATE - interval '3 months') + interval '2 month')) AS tercer_mes,\\n  SUM(lq.order_quantity) AS total\\nFROM\\n  top_products tp\\n  LEFT JOIN last_quarter lq ON tp.product_key = lq.product_key\\nGROUP BY\\n  producto, categoria, subcategoria\\nORDER BY\\n  total DESC\",\n",
       " 'valid_query_generated': True,\n",
       " 'table_names': ['fact_sales', 'dim_product'],\n",
       " 'tables_info': ['\\nCREATE TABLE fact_sales (\\n\\tproduct_key INTEGER, \\n\\treseller_key INTEGER, \\n\\temployee_key INTEGER, \\n\\tcustomer_key INTEGER, \\n\\tpromotion_key INTEGER, \\n\\tsales_territory_key INTEGER, \\n\\tsales_order_number VARCHAR(20) NOT NULL, \\n\\tsales_order_line_number SMALLINT NOT NULL, \\n\\torder_quantity SMALLINT, \\n\\tunit_price NUMERIC(19, 4), \\n\\textended_amount NUMERIC(19, 4), \\n\\tunit_price_discount_pct DOUBLE PRECISION, \\n\\tdiscount_amount DOUBLE PRECISION, \\n\\tproduct_standard_cost NUMERIC(19, 4), \\n\\ttotal_product_cost NUMERIC(19, 4), \\n\\tsales_amount NUMERIC(19, 4), \\n\\ttax_amt NUMERIC(19, 4), \\n\\tfreight NUMERIC(19, 4), \\n\\torder_date DATE, \\n\\tdue_date DATE, \\n\\tship_date DATE, \\n\\tsale_source TEXT, \\n\\tCONSTRAINT fact_sales_pkey PRIMARY KEY (sales_order_number, sales_order_line_number), \\n\\tCONSTRAINT fk_fact_sales_customer FOREIGN KEY(customer_key) REFERENCES dim_customer (customer_key), \\n\\tCONSTRAINT fk_fact_sales_person FOREIGN KEY(employee_key) REFERENCES dim_sales_person (employee_key), \\n\\tCONSTRAINT fk_fact_sales_product FOREIGN KEY(product_key) REFERENCES dim_product (product_key), \\n\\tCONSTRAINT fk_fact_sales_promotion FOREIGN KEY(promotion_key) REFERENCES dim_promotion (promotion_key), \\n\\tCONSTRAINT fk_fact_sales_reseller FOREIGN KEY(reseller_key) REFERENCES dim_reseller (reseller_key), \\n\\tCONSTRAINT fk_fact_sales_sales_territory FOREIGN KEY(sales_territory_key) REFERENCES dim_sales_territory (sales_territory_key)\\n)\\n\\n/*\\n3 rows from fact_sales table:\\nproduct_key\\treseller_key\\temployee_key\\tcustomer_key\\tpromotion_key\\tsales_territory_key\\tsales_order_number\\tsales_order_line_number\\torder_quantity\\tunit_price\\textended_amount\\tunit_price_discount_pct\\tdiscount_amount\\tproduct_standard_cost\\ttotal_product_cost\\tsales_amount\\ttax_amt\\tfreight\\torder_date\\tdue_date\\tship_date\\tsale_source\\n212\\t3\\t283\\tNone\\t1\\t4\\tSO44124\\t14\\t1\\t20.1865\\t20.1865\\t0.0\\t0.0\\t12.0278\\t12.0278\\t20.1865\\t1.6149\\t0.5047\\t2023-03-01\\t2023-03-13\\t2023-03-08\\treseller_sales\\n212\\t3\\t283\\tNone\\t1\\t4\\tSO45568\\t11\\t3\\t20.1865\\t60.5595\\t0.0\\t0.0\\t12.0278\\t36.0834\\t60.5595\\t4.8448\\t1.5140\\t2023-08-29\\t2023-09-10\\t2023-09-05\\treseller_sales\\n212\\t3\\t283\\tNone\\t1\\t4\\tSO46377\\t2\\t1\\t20.1865\\t20.1865\\t0.0\\t0.0\\t12.0278\\t12.0278\\t20.1865\\t1.6149\\t0.5047\\t2023-11-29\\t2023-12-11\\t2023-12-06\\treseller_sales\\n*/',\n",
       "  '\\nCREATE TABLE dim_product (\\n\\tproduct_key INTEGER NOT NULL, \\n\\tweight_unit_measure_code CHAR(3), \\n\\tsize_unit_measure_code CHAR(3), \\n\\tenglish_product_name VARCHAR(50), \\n\\tspanish_product_name VARCHAR(50), \\n\\tstandard_cost NUMERIC(19, 4), \\n\\tfinished_goods_flag BOOLEAN, \\n\\tcolor VARCHAR(15), \\n\\tsafety_stock_level SMALLINT, \\n\\treorder_point SMALLINT, \\n\\tlist_price NUMERIC(19, 4), \\n\\tsize VARCHAR(50), \\n\\tsize_range VARCHAR(50), \\n\\tweight DOUBLE PRECISION, \\n\\tdays_to_manufacture INTEGER, \\n\\tproduct_line CHAR(2), \\n\\tdealer_price NUMERIC(19, 4), \\n\\tclass CHAR(2), \\n\\tstyle CHAR(2), \\n\\tmodel_name VARCHAR(50), \\n\\tenglish_description VARCHAR(400), \\n\\tstart_date DATE, \\n\\tend_date DATE, \\n\\tactive BOOLEAN, \\n\\tenglish_product_subcategory_name VARCHAR(50), \\n\\tspanish_product_subcategory_name VARCHAR(50), \\n\\tenglish_product_category_name VARCHAR(50), \\n\\tspanish_product_category_name VARCHAR(50), \\n\\tCONSTRAINT dim_product_pkey PRIMARY KEY (product_key)\\n)\\n\\n/*\\n3 rows from dim_product table:\\nproduct_key\\tweight_unit_measure_code\\tsize_unit_measure_code\\tenglish_product_name\\tspanish_product_name\\tstandard_cost\\tfinished_goods_flag\\tcolor\\tsafety_stock_level\\treorder_point\\tlist_price\\tsize\\tsize_range\\tweight\\tdays_to_manufacture\\tproduct_line\\tdealer_price\\tclass\\tstyle\\tmodel_name\\tenglish_description\\tstart_date\\tend_date\\tactive\\tenglish_product_subcategory_name\\tspanish_product_subcategory_name\\tenglish_product_category_name\\tspanish_product_category_name\\n528\\tNone\\tNone\\tMountain Tire Tube\\tCubierta para cámara de montaña\\t1.8663\\tTrue\\tNA\\t500\\t375\\t4.9900\\tNone\\tNA\\tNone\\t0\\tM \\t2.9940\\tNone\\tNone\\tMountain Tire Tube\\tSelf-sealing tube.\\t2025-07-01\\tNone\\tTrue\\tTires and Tubes\\tCubierta y cámara\\tAccessories\\tAccesorio\\n384\\tLB \\tCM \\tRoad-550-W Yellow, 40\\tCarretera: 550 para mujer, amarilla, 40\\t713.0798\\tTrue\\tYellow\\t100\\t75\\t1120.4900\\t40\\t38-40 CM\\t17.77\\t4\\tR \\t672.2940\\tM \\tW \\tRoad-550-W\\tSame technology as all of our Road series bikes, but the frame is sized for a woman.  Perfect all-ar\\t2025-07-01\\tNone\\tTrue\\tRoad Bikes\\tBicicleta de carretera\\tBikes\\tBicicleta\\n407\\tNone\\tNone\\tHL Road Handlebars\\tManillar de carretera GA\\t48.5453\\tTrue\\tNA\\t500\\t375\\t109.3364\\tNone\\tNA\\tNone\\t1\\tR \\t65.6018\\tH \\tNone\\tHL Road Handlebars\\tDesigned for racers; high-end anatomically shaped bar from aluminum alloy.\\t2024-07-01\\t2020-12-27\\tFalse\\tHandlebars\\tBarra\\tComponents\\tComponente\\n*/'],\n",
       " 'query_results': [{'producto': 'Camiseta clásica, P', 'categoria': 'Prenda', 'subcategoria': 'Camiseta', 'primer_mes': 381, 'segundo_mes': 380, 'tercer_mes': 190, 'total': 951},\n",
       "  {'producto': 'Jersey clásico de manga corta, SG', 'categoria': 'Prenda', 'subcategoria': 'Jersey', 'primer_mes': 329, 'segundo_mes': 299, 'tercer_mes': 183, 'total': 811},\n",
       "  {'producto': \"Women's Mountain Shorts, S\", 'categoria': 'Prenda', 'subcategoria': 'Pantalones cortos', 'primer_mes': 295, 'segundo_mes': 258, 'tercer_mes': 141, 'total': 694},\n",
       "  {'producto': 'Jersey con logotipo de manga larga, G', 'categoria': 'Prenda', 'subcategoria': 'Jersey', 'primer_mes': 312, 'segundo_mes': 243, 'tercer_mes': 129, 'total': 684},\n",
       "  {'producto': 'AWC Logo Cap', 'categoria': 'Prenda', 'subcategoria': 'Gorra', 'primer_mes': 291, 'segundo_mes': 243, 'tercer_mes': 121, 'total': 655},\n",
       "  {'producto': \"Women's Mountain Shorts, L\", 'categoria': 'Prenda', 'subcategoria': 'Pantalones cortos', 'primer_mes': 262, 'segundo_mes': 236, 'tercer_mes': 120, 'total': 618},\n",
       "  {'producto': 'Jersey clásico de manga corta, G', 'categoria': 'Prenda', 'subcategoria': 'Jersey', 'primer_mes': 217, 'segundo_mes': 231, 'tercer_mes': 113, 'total': 561},\n",
       "  {'producto': 'Calcetines para carreras, G', 'categoria': 'Prenda', 'subcategoria': 'Calcetines', 'primer_mes': 231, 'segundo_mes': 179, 'tercer_mes': 93, 'total': 503},\n",
       "  {'producto': 'Camiseta clásica, M', 'categoria': 'Prenda', 'subcategoria': 'Camiseta', 'primer_mes': 197, 'segundo_mes': 187, 'tercer_mes': 85, 'total': 469},\n",
       "  {'producto': 'Half-Finger Gloves, M', 'categoria': 'Prenda', 'subcategoria': 'Guantes', 'primer_mes': 187, 'segundo_mes': 168, 'tercer_mes': 82, 'total': 437}],\n",
       " 'valid_query_execution': True,\n",
       " 'nl_output': '1. Las prendas dominan las ventas B2B en el último trimestre, con todas las posiciones en el top 10 perteneciendo a esta categoría.  \\n2. La subcategoría Camiseta lidera en unidades vendidas, destacando la \"Camiseta clásica, P\" con 951 unidades totales.  \\n3. Los Jerseys, tanto de manga corta como larga, tienen una fuerte presencia con tres productos en el ranking.  \\n4. Los Pantalones cortos también son relevantes, con dos tallas diferentes en el top 10.  \\n5. La venta mensual muestra una tendencia decreciente en unidades vendidas de primer a tercer mes para todos los productos.  \\n6. La gorra \"AWC Logo Cap\" es el único producto fuera de prendas básicas (camisetas, jerseys, pantalones cortos) en el top 10.  \\n7. Los calcetines y guantes, aunque en menor volumen, mantienen presencia en el ranking, indicando diversidad en la oferta de prendas.  \\n8. Ningún accesorio aparece en el top 10, cumpliendo la exclusión solicitada.  \\n9. La suma total de unidades vendidas por producto varía entre 437 y 951 unidades en el trimestre.  \\n10. El análisis mes a mes permite identificar productos con ventas más estables frente a aquellos con mayor caída en el último mes.',\n",
       " 'sql_explanation': '## Análisis de la Lógica de la Consulta\\n\\nLa consulta primero identifica las ventas del último trimestre para el canal B2B (denominado aquí como \"reseller_sales\"), excluyendo los productos que pertenecen a la categoría \"Accesorio\". Para ello, une la tabla de ventas con la tabla de productos para obtener el nombre, categoría y subcategoría de cada producto vendido. Luego, agrupa estas ventas por producto para calcular el total de unidades vendidas en ese periodo y selecciona los 10 productos con mayor volumen de ventas. Finalmente, para esos 10 productos, desglosa las unidades vendidas mes a mes dentro del trimestre, mostrando también la categoría y subcategoría a la que pertenecen.\\n\\n## Conclusión y Resultados Clave\\n\\nCon esta consulta se obtiene una lista clara de los 10 productos más vendidos en el canal B2B durante el último trimestre, excluyendo accesorios, junto con la cantidad de unidades vendidas en cada uno de los tres meses del trimestre. Además, se muestra la categoría y subcategoría de cada producto para facilitar el análisis por segmentos. Esta información permite entender cuáles son los productos líderes en ventas y cómo se distribuyen sus ventas a lo largo del trimestre.',\n",
       " 'graphics_json': '{\\n  \"dashboard_title\": \"Análisis de los 10 Productos Más Vendidos en B2B Último Trimestre\",\\n  \"charts\": [\\n    {\\n      \"data\": [\\n        {\\n          \"type\": \"bar\",\\n          \"x\": [\\n            \"Camiseta clásica, P\",\\n            \"Jersey clásico de manga corta, SG\",\\n            \"Women\\'s Mountain Shorts, S\",\\n            \"Jersey con logotipo de manga larga, G\",\\n            \"AWC Logo Cap\",\\n            \"Women\\'s Mountain Shorts, L\",\\n            \"Jersey clásico de manga corta, G\",\\n            \"Calcetines para carreras, G\",\\n            \"Camiseta clásica, M\",\\n            \"Half-Finger Gloves, M\"\\n          ],\\n          \"y\": [951, 811, 694, 684, 655, 618, 561, 503, 469, 437],\\n          \"marker\": {\"color\": \"#2a9d8f\"},\\n          \"name\": \"Unidades Totales\"\\n        }\\n      ],\\n      \"layout\": {\\n        \"title\": \"Top 10 Productos Más Vendidos en Total Último Trimestre\",\\n        \"xaxis\": {\"title\": \"Producto\", \"tickangle\": -45},\\n        \"yaxis\": {\"title\": \"Unidades Vendidas\"},\\n        \"plot_bgcolor\": \"#f9f9f9\",\\n        \"paper_bgcolor\": \"#ffffff\",\\n        \"margin\": {\"b\": 120}\\n      }\\n    },\\n    {\\n      \"data\": [\\n        {\\n          \"type\": \"line\",\\n          \"x\": [\"Primer Mes\", \"Segundo Mes\", \"Tercer Mes\"],\\n          \"y\": [381, 380, 190],\\n          \"mode\": \"lines+markers\",\\n          \"name\": \"Camiseta clásica, P\"\\n        },\\n        {\\n          \"type\": \"line\",\\n          \"x\": [\"Primer Mes\", \"Segundo Mes\", \"Tercer Mes\"],\\n          \"y\": [329, 299, 183],\\n          \"mode\": \"lines+markers\",\\n          \"name\": \"Jersey clásico de manga corta, SG\"\\n        },\\n        {\\n          \"type\": \"line\",\\n          \"x\": [\"Primer Mes\", \"Segundo Mes\", \"Tercer Mes\"],\\n          \"y\": [295, 258, 141],\\n          \"mode\": \"lines+markers\",\\n          \"name\": \"Women\\'s Mountain Shorts, S\"\\n        },\\n        {\\n          \"type\": \"line\",\\n          \"x\": [\"Primer Mes\", \"Segundo Mes\", \"Tercer Mes\"],\\n          \"y\": [312, 243, 129],\\n          \"mode\": \"lines+markers\",\\n          \"name\": \"Jersey con logotipo de manga larga, G\"\\n        }\\n      ],\\n      \"layout\": {\\n        \"title\": \"Evolución Mensual de Unidades Vendidas (Primeros 4 Productos)\",\\n        \"xaxis\": {\"title\": \"Mes\", \"dtick\": 1},\\n        \"yaxis\": {\"title\": \"Unidades Vendidas\"},\\n        \"plot_bgcolor\": \"#f9f9f9\",\\n        \"paper_bgcolor\": \"#ffffff\",\\n        \"legend\": {\"x\": 1, \"xanchor\": \"right\", \"y\": 1}\\n      }\\n    },\\n    {\\n      \"data\": [\\n        {\\n          \"type\": \"pie\",\\n          \"labels\": [\"Prenda\"],\\n          \"values\": [6633],\\n          \"textinfo\": \"label+value+percent\",\\n          \"insidetextorientation\": \"radial\",\\n          \"marker\": {\"colors\": [\"#264653\"]},\\n          \"name\": \"Categoría\"\\n        }\\n      ],\\n      \"layout\": {\\n        \"title\": \"Distribución por Categoría de los Top 10 Productos\",\\n        \"plot_bgcolor\": \"#f9f9f9\",\\n        \"paper_bgcolor\": \"#ffffff\"\\n      }\\n    },\\n    {\\n      \"data\": [\\n        {\\n          \"type\": \"scatter\",\\n          \"mode\": \"markers\",\\n          \"x\": [\\n            \"Camiseta clásica, P\",\\n            \"Jersey clásico de manga corta, SG\",\\n            \"Women\\'s Mountain Shorts, S\",\\n            \"Jersey con logotipo de manga larga, G\",\\n            \"AWC Logo Cap\",\\n            \"Women\\'s Mountain Shorts, L\",\\n            \"Jersey clásico de manga corta, G\",\\n            \"Calcetines para carreras, G\",\\n            \"Camiseta clásica, M\",\\n            \"Half-Finger Gloves, M\"\\n          ],\\n          \"y\": [951, 811, 694, 684, 655, 618, 561, 503, 469, 437],\\n          \"text\": [\\n            \"Camisa\",\\n            \"Jersey SG\",\\n            \"Shorts S\",\\n            \"Jersey G\",\\n            \"Gorra\",\\n            \"Shorts L\",\\n            \"Jersey G\",\\n            \"Calcetines G\",\\n            \"Camisa M\",\\n            \"Guantes M\"\\n          ],\\n          \"marker\": {\\n            \"size\": [381, 329, 295, 312, 291, 262, 217, 231, 197, 187],\\n            \"sizemode\": \"area\",\\n            \"sizeref\": 2,\\n            \"color\": [\\n              \"#e76f51\",\\n              \"#f4a261\",\\n              \"#e9c46a\",\\n              \"#f4a261\",\\n              \"#e76f51\",\\n              \"#e9c46a\",\\n              \"#f4a261\",\\n              \"#e76f51\",\\n              \"#e9c46a\",\\n              \"#f4a261\"\\n            ],\\n            \"opacity\": 0.7,\\n            \"line\": {\"width\": 1, \"color\": \"black\"}\\n          },\\n          \"name\": \"Relación Primer Mes vs Total\"\\n        }\\n      ],\\n      \"layout\": {\\n        \"title\": \"Relación entre Unidades Vendidas en el Primer Mes y Total por Producto\",\\n        \"xaxis\": {\\n          \"title\": \"Producto\",\\n          \"tickangle\": -45,\\n          \"showticklabels\": true,\\n          \"categoryorder\": \"array\",\\n          \"categoryarray\": [\\n            \"Camiseta clásica, P\",\\n            \"Jersey clásico de manga corta, SG\",\\n            \"Women\\'s Mountain Shorts, S\",\\n            \"Jersey con logotipo de manga larga, G\",\\n            \"AWC Logo Cap\",\\n            \"Women\\'s Mountain Shorts, L\",\\n            \"Jersey clásico de manga corta, G\",\\n            \"Calcetines para carreras, G\",\\n            \"Camiseta clásica, M\",\\n            \"Half-Finger Gloves, M\"\\n          ]\\n        },\\n        \"yaxis\": {\"title\": \"Unidades Totales Vendidas\"},\\n        \"plot_bgcolor\": \"#f9f9f9\",\\n        \"paper_bgcolor\": \"#ffffff\",\\n        \"showlegend\": false,\\n        \"margin\": {\"b\": 120}\\n      }\\n    }\\n  ]\\n}'}"
      ]
     },
     "execution_count": 3,
     "metadata": {},
     "output_type": "execute_result"
    }
   ],
   "source": [
    "result = main_graph.invoke({\n",
    "    \"user_query\": \"Muéstrame los 10 productos más vendidos para el B2B en el último trimestre, excluyendo los Accesorios. Mes a mes indica cuántas unidades se vendieron, y muestra también a qué categoría y subcategoría pertenecen\",\n",
    "})\n",
    "\n",
    "result"
   ]
  },
  {
   "cell_type": "code",
   "execution_count": 4,
   "id": "ba2ebe4d",
   "metadata": {},
   "outputs": [
    {
     "name": "stdout",
     "output_type": "stream",
     "text": [
      "WITH \n",
      "last_quarter AS (\n",
      "  SELECT\n",
      "    fs.product_key,\n",
      "    COALESCE(dp.spanish_product_name, dp.english_product_name) AS product_name,\n",
      "    dp.spanish_product_category_name,\n",
      "    dp.spanish_product_subcategory_name,\n",
      "    EXTRACT(MONTH FROM fs.order_date) AS month_in_quarter,\n",
      "    fs.order_quantity\n",
      "  FROM\n",
      "    sales.fact_sales fs\n",
      "    JOIN sales.dim_product dp ON fs.product_key = dp.product_key\n",
      "  WHERE\n",
      "    fs.sale_source = 'reseller_sales'\n",
      "    AND dp.spanish_product_category_name <> 'Accesorio'\n",
      "    AND fs.order_date >= date_trunc('quarter', CURRENT_DATE - interval '3 months')\n",
      "    AND fs.order_date < date_trunc('quarter', CURRENT_DATE)\n",
      "),\n",
      "top_products AS (\n",
      "  SELECT\n",
      "    product_key,\n",
      "    product_name,\n",
      "    spanish_product_category_name,\n",
      "    spanish_product_subcategory_name,\n",
      "    SUM(order_quantity) AS total_qty\n",
      "  FROM\n",
      "    last_quarter\n",
      "  GROUP BY\n",
      "    product_key, product_name, spanish_product_category_name, spanish_product_subcategory_name\n",
      "  ORDER BY\n",
      "    total_qty DESC\n",
      "  LIMIT 10\n",
      ")\n",
      "SELECT\n",
      "  tp.product_name AS producto,\n",
      "  tp.spanish_product_category_name AS categoria,\n",
      "  tp.spanish_product_subcategory_name AS subcategoria,\n",
      "  SUM(lq.order_quantity) FILTER (WHERE lq.month_in_quarter = EXTRACT(MONTH FROM date_trunc('quarter', CURRENT_DATE - interval '3 months'))) AS primer_mes,\n",
      "  SUM(lq.order_quantity) FILTER (WHERE lq.month_in_quarter = EXTRACT(MONTH FROM date_trunc('quarter', CURRENT_DATE - interval '3 months') + interval '1 month')) AS segundo_mes,\n",
      "  SUM(lq.order_quantity) FILTER (WHERE lq.month_in_quarter = EXTRACT(MONTH FROM date_trunc('quarter', CURRENT_DATE - interval '3 months') + interval '2 month')) AS tercer_mes,\n",
      "  SUM(lq.order_quantity) AS total\n",
      "FROM\n",
      "  top_products tp\n",
      "  LEFT JOIN last_quarter lq ON tp.product_key = lq.product_key\n",
      "GROUP BY\n",
      "  producto, categoria, subcategoria\n",
      "ORDER BY\n",
      "  total DESC\n"
     ]
    }
   ],
   "source": [
    "print(result['sql_query'])"
   ]
  },
  {
   "cell_type": "code",
   "execution_count": 5,
   "id": "4b6551d3",
   "metadata": {},
   "outputs": [
    {
     "name": "stdout",
     "output_type": "stream",
     "text": [
      "[{'producto': 'Camiseta clásica, P', 'categoria': 'Prenda', 'subcategoria': 'Camiseta', 'primer_mes': 381, 'segundo_mes': 380, 'tercer_mes': 190, 'total': 951}, {'producto': 'Jersey clásico de manga corta, SG', 'categoria': 'Prenda', 'subcategoria': 'Jersey', 'primer_mes': 329, 'segundo_mes': 299, 'tercer_mes': 183, 'total': 811}, {'producto': \"Women's Mountain Shorts, S\", 'categoria': 'Prenda', 'subcategoria': 'Pantalones cortos', 'primer_mes': 295, 'segundo_mes': 258, 'tercer_mes': 141, 'total': 694}, {'producto': 'Jersey con logotipo de manga larga, G', 'categoria': 'Prenda', 'subcategoria': 'Jersey', 'primer_mes': 312, 'segundo_mes': 243, 'tercer_mes': 129, 'total': 684}, {'producto': 'AWC Logo Cap', 'categoria': 'Prenda', 'subcategoria': 'Gorra', 'primer_mes': 291, 'segundo_mes': 243, 'tercer_mes': 121, 'total': 655}, {'producto': \"Women's Mountain Shorts, L\", 'categoria': 'Prenda', 'subcategoria': 'Pantalones cortos', 'primer_mes': 262, 'segundo_mes': 236, 'tercer_mes': 120, 'total': 618}, {'producto': 'Jersey clásico de manga corta, G', 'categoria': 'Prenda', 'subcategoria': 'Jersey', 'primer_mes': 217, 'segundo_mes': 231, 'tercer_mes': 113, 'total': 561}, {'producto': 'Calcetines para carreras, G', 'categoria': 'Prenda', 'subcategoria': 'Calcetines', 'primer_mes': 231, 'segundo_mes': 179, 'tercer_mes': 93, 'total': 503}, {'producto': 'Camiseta clásica, M', 'categoria': 'Prenda', 'subcategoria': 'Camiseta', 'primer_mes': 197, 'segundo_mes': 187, 'tercer_mes': 85, 'total': 469}, {'producto': 'Half-Finger Gloves, M', 'categoria': 'Prenda', 'subcategoria': 'Guantes', 'primer_mes': 187, 'segundo_mes': 168, 'tercer_mes': 82, 'total': 437}]\n"
     ]
    }
   ],
   "source": [
    "print(result['query_results'])"
   ]
  },
  {
   "cell_type": "code",
   "execution_count": 6,
   "id": "6ff1ed7a",
   "metadata": {},
   "outputs": [
    {
     "name": "stdout",
     "output_type": "stream",
     "text": [
      "1. Las prendas dominan las ventas B2B en el último trimestre, con todas las posiciones en el top 10 perteneciendo a esta categoría.  \n",
      "2. La subcategoría Camiseta lidera en unidades vendidas, destacando la \"Camiseta clásica, P\" con 951 unidades totales.  \n",
      "3. Los Jerseys, tanto de manga corta como larga, tienen una fuerte presencia con tres productos en el ranking.  \n",
      "4. Los Pantalones cortos también son relevantes, con dos tallas diferentes en el top 10.  \n",
      "5. La venta mensual muestra una tendencia decreciente en unidades vendidas de primer a tercer mes para todos los productos.  \n",
      "6. La gorra \"AWC Logo Cap\" es el único producto fuera de prendas básicas (camisetas, jerseys, pantalones cortos) en el top 10.  \n",
      "7. Los calcetines y guantes, aunque en menor volumen, mantienen presencia en el ranking, indicando diversidad en la oferta de prendas.  \n",
      "8. Ningún accesorio aparece en el top 10, cumpliendo la exclusión solicitada.  \n",
      "9. La suma total de unidades vendidas por producto varía entre 437 y 951 unidades en el trimestre.  \n",
      "10. El análisis mes a mes permite identificar productos con ventas más estables frente a aquellos con mayor caída en el último mes.\n"
     ]
    }
   ],
   "source": [
    "print(result['nl_output'])"
   ]
  },
  {
   "cell_type": "code",
   "execution_count": 7,
   "id": "746875d4",
   "metadata": {},
   "outputs": [
    {
     "name": "stdout",
     "output_type": "stream",
     "text": [
      "## Análisis de la Lógica de la Consulta\n",
      "\n",
      "La consulta primero identifica las ventas del último trimestre para el canal B2B (denominado aquí como \"reseller_sales\"), excluyendo los productos que pertenecen a la categoría \"Accesorio\". Para ello, une la tabla de ventas con la tabla de productos para obtener el nombre, categoría y subcategoría de cada producto vendido. Luego, agrupa estas ventas por producto para calcular el total de unidades vendidas en ese periodo y selecciona los 10 productos con mayor volumen de ventas. Finalmente, para esos 10 productos, desglosa las unidades vendidas mes a mes dentro del trimestre, mostrando también la categoría y subcategoría a la que pertenecen.\n",
      "\n",
      "## Conclusión y Resultados Clave\n",
      "\n",
      "Con esta consulta se obtiene una lista clara de los 10 productos más vendidos en el canal B2B durante el último trimestre, excluyendo accesorios, junto con la cantidad de unidades vendidas en cada uno de los tres meses del trimestre. Además, se muestra la categoría y subcategoría de cada producto para facilitar el análisis por segmentos. Esta información permite entender cuáles son los productos líderes en ventas y cómo se distribuyen sus ventas a lo largo del trimestre.\n"
     ]
    }
   ],
   "source": [
    "print(result['sql_explanation'])"
   ]
  },
  {
   "cell_type": "code",
   "execution_count": 8,
   "id": "2d590056",
   "metadata": {},
   "outputs": [
    {
     "data": {
      "application/vnd.plotly.v1+json": {
       "config": {
        "plotlyServerURL": "https://plot.ly"
       },
       "data": [
        {
         "marker": {
          "color": "#2a9d8f"
         },
         "name": "Unidades Totales",
         "type": "bar",
         "x": [
          "Camiseta clásica, P",
          "Jersey clásico de manga corta, SG",
          "Women's Mountain Shorts, S",
          "Jersey con logotipo de manga larga, G",
          "AWC Logo Cap",
          "Women's Mountain Shorts, L",
          "Jersey clásico de manga corta, G",
          "Calcetines para carreras, G",
          "Camiseta clásica, M",
          "Half-Finger Gloves, M"
         ],
         "xaxis": "x",
         "y": [
          951,
          811,
          694,
          684,
          655,
          618,
          561,
          503,
          469,
          437
         ],
         "yaxis": "y"
        },
        {
         "mode": "lines+markers",
         "name": "Camiseta clásica, P",
         "type": "scatter",
         "x": [
          "Primer Mes",
          "Segundo Mes",
          "Tercer Mes"
         ],
         "xaxis": "x2",
         "y": [
          381,
          380,
          190
         ],
         "yaxis": "y2"
        },
        {
         "domain": {
          "x": [
           0,
           0.45
          ],
          "y": [
           0,
           0.375
          ]
         },
         "insidetextorientation": "radial",
         "labels": [
          "Prenda"
         ],
         "marker": {
          "colors": [
           "#264653"
          ]
         },
         "name": "Categoría",
         "textinfo": "label+value+percent",
         "type": "pie",
         "values": [
          6633
         ]
        },
        {
         "marker": {
          "color": [
           "#e76f51",
           "#f4a261",
           "#e9c46a",
           "#f4a261",
           "#e76f51",
           "#e9c46a",
           "#f4a261",
           "#e76f51",
           "#e9c46a",
           "#f4a261"
          ],
          "line": {
           "color": "black",
           "width": 1
          },
          "opacity": 0.7,
          "size": [
           381,
           329,
           295,
           312,
           291,
           262,
           217,
           231,
           197,
           187
          ],
          "sizemode": "area",
          "sizeref": 2
         },
         "mode": "markers",
         "name": "Relación Primer Mes vs Total",
         "text": [
          "Camisa",
          "Jersey SG",
          "Shorts S",
          "Jersey G",
          "Gorra",
          "Shorts L",
          "Jersey G",
          "Calcetines G",
          "Camisa M",
          "Guantes M"
         ],
         "type": "scatter",
         "x": [
          "Camiseta clásica, P",
          "Jersey clásico de manga corta, SG",
          "Women's Mountain Shorts, S",
          "Jersey con logotipo de manga larga, G",
          "AWC Logo Cap",
          "Women's Mountain Shorts, L",
          "Jersey clásico de manga corta, G",
          "Calcetines para carreras, G",
          "Camiseta clásica, M",
          "Half-Finger Gloves, M"
         ],
         "xaxis": "x3",
         "y": [
          951,
          811,
          694,
          684,
          655,
          618,
          561,
          503,
          469,
          437
         ],
         "yaxis": "y3"
        }
       ],
       "layout": {
        "annotations": [
         {
          "font": {
           "size": 16
          },
          "showarrow": false,
          "text": "Top 10 Productos Más Vendidos en Total Último Trimestre",
          "x": 0.225,
          "xanchor": "center",
          "xref": "paper",
          "y": 1,
          "yanchor": "bottom",
          "yref": "paper"
         },
         {
          "font": {
           "size": 16
          },
          "showarrow": false,
          "text": "Evolución Mensual de Unidades Vendidas (Primeros 4 Productos)",
          "x": 0.775,
          "xanchor": "center",
          "xref": "paper",
          "y": 1,
          "yanchor": "bottom",
          "yref": "paper"
         },
         {
          "font": {
           "size": 16
          },
          "showarrow": false,
          "text": "Distribución por Categoría de los Top 10 Productos",
          "x": 0.225,
          "xanchor": "center",
          "xref": "paper",
          "y": 0.375,
          "yanchor": "bottom",
          "yref": "paper"
         },
         {
          "font": {
           "size": 16
          },
          "showarrow": false,
          "text": "Relación entre Unidades Vendidas en el Primer Mes y Total por Producto",
          "x": 0.775,
          "xanchor": "center",
          "xref": "paper",
          "y": 0.375,
          "yanchor": "bottom",
          "yref": "paper"
         }
        ],
        "autosize": true,
        "font": {
         "family": "Arial, sans-serif",
         "size": 12
        },
        "height": 900,
        "margin": {
         "b": 50,
         "l": 50,
         "r": 50,
         "t": 80
        },
        "paper_bgcolor": "#f2f2f2",
        "plot_bgcolor": "#ffffff",
        "template": {
         "data": {
          "bar": [
           {
            "error_x": {
             "color": "#2a3f5f"
            },
            "error_y": {
             "color": "#2a3f5f"
            },
            "marker": {
             "line": {
              "color": "#E5ECF6",
              "width": 0.5
             },
             "pattern": {
              "fillmode": "overlay",
              "size": 10,
              "solidity": 0.2
             }
            },
            "type": "bar"
           }
          ],
          "barpolar": [
           {
            "marker": {
             "line": {
              "color": "#E5ECF6",
              "width": 0.5
             },
             "pattern": {
              "fillmode": "overlay",
              "size": 10,
              "solidity": 0.2
             }
            },
            "type": "barpolar"
           }
          ],
          "carpet": [
           {
            "aaxis": {
             "endlinecolor": "#2a3f5f",
             "gridcolor": "white",
             "linecolor": "white",
             "minorgridcolor": "white",
             "startlinecolor": "#2a3f5f"
            },
            "baxis": {
             "endlinecolor": "#2a3f5f",
             "gridcolor": "white",
             "linecolor": "white",
             "minorgridcolor": "white",
             "startlinecolor": "#2a3f5f"
            },
            "type": "carpet"
           }
          ],
          "choropleth": [
           {
            "colorbar": {
             "outlinewidth": 0,
             "ticks": ""
            },
            "type": "choropleth"
           }
          ],
          "contour": [
           {
            "colorbar": {
             "outlinewidth": 0,
             "ticks": ""
            },
            "colorscale": [
             [
              0,
              "#0d0887"
             ],
             [
              0.1111111111111111,
              "#46039f"
             ],
             [
              0.2222222222222222,
              "#7201a8"
             ],
             [
              0.3333333333333333,
              "#9c179e"
             ],
             [
              0.4444444444444444,
              "#bd3786"
             ],
             [
              0.5555555555555556,
              "#d8576b"
             ],
             [
              0.6666666666666666,
              "#ed7953"
             ],
             [
              0.7777777777777778,
              "#fb9f3a"
             ],
             [
              0.8888888888888888,
              "#fdca26"
             ],
             [
              1,
              "#f0f921"
             ]
            ],
            "type": "contour"
           }
          ],
          "contourcarpet": [
           {
            "colorbar": {
             "outlinewidth": 0,
             "ticks": ""
            },
            "type": "contourcarpet"
           }
          ],
          "heatmap": [
           {
            "colorbar": {
             "outlinewidth": 0,
             "ticks": ""
            },
            "colorscale": [
             [
              0,
              "#0d0887"
             ],
             [
              0.1111111111111111,
              "#46039f"
             ],
             [
              0.2222222222222222,
              "#7201a8"
             ],
             [
              0.3333333333333333,
              "#9c179e"
             ],
             [
              0.4444444444444444,
              "#bd3786"
             ],
             [
              0.5555555555555556,
              "#d8576b"
             ],
             [
              0.6666666666666666,
              "#ed7953"
             ],
             [
              0.7777777777777778,
              "#fb9f3a"
             ],
             [
              0.8888888888888888,
              "#fdca26"
             ],
             [
              1,
              "#f0f921"
             ]
            ],
            "type": "heatmap"
           }
          ],
          "histogram": [
           {
            "marker": {
             "pattern": {
              "fillmode": "overlay",
              "size": 10,
              "solidity": 0.2
             }
            },
            "type": "histogram"
           }
          ],
          "histogram2d": [
           {
            "colorbar": {
             "outlinewidth": 0,
             "ticks": ""
            },
            "colorscale": [
             [
              0,
              "#0d0887"
             ],
             [
              0.1111111111111111,
              "#46039f"
             ],
             [
              0.2222222222222222,
              "#7201a8"
             ],
             [
              0.3333333333333333,
              "#9c179e"
             ],
             [
              0.4444444444444444,
              "#bd3786"
             ],
             [
              0.5555555555555556,
              "#d8576b"
             ],
             [
              0.6666666666666666,
              "#ed7953"
             ],
             [
              0.7777777777777778,
              "#fb9f3a"
             ],
             [
              0.8888888888888888,
              "#fdca26"
             ],
             [
              1,
              "#f0f921"
             ]
            ],
            "type": "histogram2d"
           }
          ],
          "histogram2dcontour": [
           {
            "colorbar": {
             "outlinewidth": 0,
             "ticks": ""
            },
            "colorscale": [
             [
              0,
              "#0d0887"
             ],
             [
              0.1111111111111111,
              "#46039f"
             ],
             [
              0.2222222222222222,
              "#7201a8"
             ],
             [
              0.3333333333333333,
              "#9c179e"
             ],
             [
              0.4444444444444444,
              "#bd3786"
             ],
             [
              0.5555555555555556,
              "#d8576b"
             ],
             [
              0.6666666666666666,
              "#ed7953"
             ],
             [
              0.7777777777777778,
              "#fb9f3a"
             ],
             [
              0.8888888888888888,
              "#fdca26"
             ],
             [
              1,
              "#f0f921"
             ]
            ],
            "type": "histogram2dcontour"
           }
          ],
          "mesh3d": [
           {
            "colorbar": {
             "outlinewidth": 0,
             "ticks": ""
            },
            "type": "mesh3d"
           }
          ],
          "parcoords": [
           {
            "line": {
             "colorbar": {
              "outlinewidth": 0,
              "ticks": ""
             }
            },
            "type": "parcoords"
           }
          ],
          "pie": [
           {
            "automargin": true,
            "type": "pie"
           }
          ],
          "scatter": [
           {
            "fillpattern": {
             "fillmode": "overlay",
             "size": 10,
             "solidity": 0.2
            },
            "type": "scatter"
           }
          ],
          "scatter3d": [
           {
            "line": {
             "colorbar": {
              "outlinewidth": 0,
              "ticks": ""
             }
            },
            "marker": {
             "colorbar": {
              "outlinewidth": 0,
              "ticks": ""
             }
            },
            "type": "scatter3d"
           }
          ],
          "scattercarpet": [
           {
            "marker": {
             "colorbar": {
              "outlinewidth": 0,
              "ticks": ""
             }
            },
            "type": "scattercarpet"
           }
          ],
          "scattergeo": [
           {
            "marker": {
             "colorbar": {
              "outlinewidth": 0,
              "ticks": ""
             }
            },
            "type": "scattergeo"
           }
          ],
          "scattergl": [
           {
            "marker": {
             "colorbar": {
              "outlinewidth": 0,
              "ticks": ""
             }
            },
            "type": "scattergl"
           }
          ],
          "scattermap": [
           {
            "marker": {
             "colorbar": {
              "outlinewidth": 0,
              "ticks": ""
             }
            },
            "type": "scattermap"
           }
          ],
          "scattermapbox": [
           {
            "marker": {
             "colorbar": {
              "outlinewidth": 0,
              "ticks": ""
             }
            },
            "type": "scattermapbox"
           }
          ],
          "scatterpolar": [
           {
            "marker": {
             "colorbar": {
              "outlinewidth": 0,
              "ticks": ""
             }
            },
            "type": "scatterpolar"
           }
          ],
          "scatterpolargl": [
           {
            "marker": {
             "colorbar": {
              "outlinewidth": 0,
              "ticks": ""
             }
            },
            "type": "scatterpolargl"
           }
          ],
          "scatterternary": [
           {
            "marker": {
             "colorbar": {
              "outlinewidth": 0,
              "ticks": ""
             }
            },
            "type": "scatterternary"
           }
          ],
          "surface": [
           {
            "colorbar": {
             "outlinewidth": 0,
             "ticks": ""
            },
            "colorscale": [
             [
              0,
              "#0d0887"
             ],
             [
              0.1111111111111111,
              "#46039f"
             ],
             [
              0.2222222222222222,
              "#7201a8"
             ],
             [
              0.3333333333333333,
              "#9c179e"
             ],
             [
              0.4444444444444444,
              "#bd3786"
             ],
             [
              0.5555555555555556,
              "#d8576b"
             ],
             [
              0.6666666666666666,
              "#ed7953"
             ],
             [
              0.7777777777777778,
              "#fb9f3a"
             ],
             [
              0.8888888888888888,
              "#fdca26"
             ],
             [
              1,
              "#f0f921"
             ]
            ],
            "type": "surface"
           }
          ],
          "table": [
           {
            "cells": {
             "fill": {
              "color": "#EBF0F8"
             },
             "line": {
              "color": "white"
             }
            },
            "header": {
             "fill": {
              "color": "#C8D4E3"
             },
             "line": {
              "color": "white"
             }
            },
            "type": "table"
           }
          ]
         },
         "layout": {
          "annotationdefaults": {
           "arrowcolor": "#2a3f5f",
           "arrowhead": 0,
           "arrowwidth": 1
          },
          "autotypenumbers": "strict",
          "coloraxis": {
           "colorbar": {
            "outlinewidth": 0,
            "ticks": ""
           }
          },
          "colorscale": {
           "diverging": [
            [
             0,
             "#8e0152"
            ],
            [
             0.1,
             "#c51b7d"
            ],
            [
             0.2,
             "#de77ae"
            ],
            [
             0.3,
             "#f1b6da"
            ],
            [
             0.4,
             "#fde0ef"
            ],
            [
             0.5,
             "#f7f7f7"
            ],
            [
             0.6,
             "#e6f5d0"
            ],
            [
             0.7,
             "#b8e186"
            ],
            [
             0.8,
             "#7fbc41"
            ],
            [
             0.9,
             "#4d9221"
            ],
            [
             1,
             "#276419"
            ]
           ],
           "sequential": [
            [
             0,
             "#0d0887"
            ],
            [
             0.1111111111111111,
             "#46039f"
            ],
            [
             0.2222222222222222,
             "#7201a8"
            ],
            [
             0.3333333333333333,
             "#9c179e"
            ],
            [
             0.4444444444444444,
             "#bd3786"
            ],
            [
             0.5555555555555556,
             "#d8576b"
            ],
            [
             0.6666666666666666,
             "#ed7953"
            ],
            [
             0.7777777777777778,
             "#fb9f3a"
            ],
            [
             0.8888888888888888,
             "#fdca26"
            ],
            [
             1,
             "#f0f921"
            ]
           ],
           "sequentialminus": [
            [
             0,
             "#0d0887"
            ],
            [
             0.1111111111111111,
             "#46039f"
            ],
            [
             0.2222222222222222,
             "#7201a8"
            ],
            [
             0.3333333333333333,
             "#9c179e"
            ],
            [
             0.4444444444444444,
             "#bd3786"
            ],
            [
             0.5555555555555556,
             "#d8576b"
            ],
            [
             0.6666666666666666,
             "#ed7953"
            ],
            [
             0.7777777777777778,
             "#fb9f3a"
            ],
            [
             0.8888888888888888,
             "#fdca26"
            ],
            [
             1,
             "#f0f921"
            ]
           ]
          },
          "colorway": [
           "#636efa",
           "#EF553B",
           "#00cc96",
           "#ab63fa",
           "#FFA15A",
           "#19d3f3",
           "#FF6692",
           "#B6E880",
           "#FF97FF",
           "#FECB52"
          ],
          "font": {
           "color": "#2a3f5f"
          },
          "geo": {
           "bgcolor": "white",
           "lakecolor": "white",
           "landcolor": "#E5ECF6",
           "showlakes": true,
           "showland": true,
           "subunitcolor": "white"
          },
          "hoverlabel": {
           "align": "left"
          },
          "hovermode": "closest",
          "mapbox": {
           "style": "light"
          },
          "paper_bgcolor": "white",
          "plot_bgcolor": "#E5ECF6",
          "polar": {
           "angularaxis": {
            "gridcolor": "white",
            "linecolor": "white",
            "ticks": ""
           },
           "bgcolor": "#E5ECF6",
           "radialaxis": {
            "gridcolor": "white",
            "linecolor": "white",
            "ticks": ""
           }
          },
          "scene": {
           "xaxis": {
            "backgroundcolor": "#E5ECF6",
            "gridcolor": "white",
            "gridwidth": 2,
            "linecolor": "white",
            "showbackground": true,
            "ticks": "",
            "zerolinecolor": "white"
           },
           "yaxis": {
            "backgroundcolor": "#E5ECF6",
            "gridcolor": "white",
            "gridwidth": 2,
            "linecolor": "white",
            "showbackground": true,
            "ticks": "",
            "zerolinecolor": "white"
           },
           "zaxis": {
            "backgroundcolor": "#E5ECF6",
            "gridcolor": "white",
            "gridwidth": 2,
            "linecolor": "white",
            "showbackground": true,
            "ticks": "",
            "zerolinecolor": "white"
           }
          },
          "shapedefaults": {
           "line": {
            "color": "#2a3f5f"
           }
          },
          "ternary": {
           "aaxis": {
            "gridcolor": "white",
            "linecolor": "white",
            "ticks": ""
           },
           "baxis": {
            "gridcolor": "white",
            "linecolor": "white",
            "ticks": ""
           },
           "bgcolor": "#E5ECF6",
           "caxis": {
            "gridcolor": "white",
            "linecolor": "white",
            "ticks": ""
           }
          },
          "title": {
           "x": 0.05
          },
          "xaxis": {
           "automargin": true,
           "gridcolor": "white",
           "linecolor": "white",
           "ticks": "",
           "title": {
            "standoff": 15
           },
           "zerolinecolor": "white",
           "zerolinewidth": 2
          },
          "yaxis": {
           "automargin": true,
           "gridcolor": "white",
           "linecolor": "white",
           "ticks": "",
           "title": {
            "standoff": 15
           },
           "zerolinecolor": "white",
           "zerolinewidth": 2
          }
         }
        },
        "title": {
         "text": "Análisis de los 10 Productos Más Vendidos en B2B Último Trimestre",
         "x": 0.5
        },
        "width": 1600,
        "xaxis": {
         "anchor": "y",
         "domain": [
          0,
          0.45
         ],
         "title": {
          "text": "Producto"
         }
        },
        "xaxis2": {
         "anchor": "y2",
         "domain": [
          0.55,
          1
         ],
         "title": {
          "text": "Mes"
         }
        },
        "xaxis3": {
         "anchor": "y3",
         "domain": [
          0.55,
          1
         ],
         "title": {
          "text": "Producto"
         }
        },
        "yaxis": {
         "anchor": "x",
         "domain": [
          0.625,
          1
         ],
         "title": {
          "text": "Unidades Vendidas"
         }
        },
        "yaxis2": {
         "anchor": "x2",
         "domain": [
          0.625,
          1
         ],
         "title": {
          "text": "Unidades Vendidas"
         }
        },
        "yaxis3": {
         "anchor": "x3",
         "domain": [
          0,
          0.375
         ],
         "title": {
          "text": "Unidades Totales Vendidas"
         }
        }
       }
      }
     },
     "metadata": {},
     "output_type": "display_data"
    }
   ],
   "source": [
    "create_dashboard_from_json(result['graphics_json'])"
   ]
  },
  {
   "cell_type": "markdown",
   "id": "c812bf58",
   "metadata": {},
   "source": [
    "---\n",
    "\n",
    "## QUERY GENERATOR"
   ]
  },
  {
   "cell_type": "code",
   "execution_count": 7,
   "id": "98eb352c",
   "metadata": {},
   "outputs": [
    {
     "data": {
      "image/png": "[encoded data removed]",
      "text/plain": [
       "<IPython.core.display.Image object>"
      ]
     },
     "execution_count": 7,
     "metadata": {},
     "output_type": "execute_result"
    }
   ],
   "source": [
    "query_generator_graph = get_query_generator_graph()\n",
    "Image(query_generator_graph.get_graph().draw_mermaid_png())"
   ]
  },
  {
   "cell_type": "code",
   "execution_count": 3,
   "id": "8a19607f",
   "metadata": {},
   "outputs": [
    {
     "name": "stdout",
     "output_type": "stream",
     "text": [
      "---QUERY EXAMPLES RETRIEVE TOOL---\n"
     ]
    },
    {
     "data": {
      "text/plain": [
       "{'sql_query': \"WITH \\nlast_quarter AS (\\n  SELECT\\n    fs.product_key,\\n    COALESCE(dp.spanish_product_name, dp.english_product_name) AS product_name,\\n    dp.spanish_product_category_name,\\n    dp.spanish_product_subcategory_name,\\n    EXTRACT(MONTH FROM fs.order_date) AS month_in_quarter,\\n    fs.order_quantity\\n  FROM\\n    sales.fact_sales fs\\n    JOIN sales.dim_product dp ON fs.product_key = dp.product_key\\n  WHERE\\n    fs.sale_source = 'reseller_sales'\\n    AND dp.spanish_product_category_name <> 'Accesorio'\\n    AND fs.order_date >= date_trunc('quarter', CURRENT_DATE - interval '3 months')\\n    AND fs.order_date < date_trunc('quarter', CURRENT_DATE)\\n),\\ntop_products AS (\\n  SELECT\\n    product_key,\\n    product_name,\\n    spanish_product_category_name,\\n    spanish_product_subcategory_name,\\n    SUM(order_quantity) AS total_qty\\n  FROM\\n    last_quarter\\n  GROUP BY\\n    product_key, product_name, spanish_product_category_name, spanish_product_subcategory_name\\n  ORDER BY\\n    total_qty DESC\\n  LIMIT 10\\n)\\nSELECT\\n  tp.product_name AS producto,\\n  tp.spanish_product_category_name AS categoria,\\n  tp.spanish_product_subcategory_name AS subcategoria,\\n  SUM(lq.order_quantity) FILTER (WHERE lq.month_in_quarter = EXTRACT(MONTH FROM date_trunc('quarter', CURRENT_DATE - interval '3 months'))) AS primer_mes,\\n  SUM(lq.order_quantity) FILTER (WHERE lq.month_in_quarter = EXTRACT(MONTH FROM date_trunc('quarter', CURRENT_DATE - interval '3 months') + interval '1 month')) AS segundo_mes,\\n  SUM(lq.order_quantity) FILTER (WHERE lq.month_in_quarter = EXTRACT(MONTH FROM date_trunc('quarter', CURRENT_DATE - interval '3 months') + interval '2 month')) AS tercer_mes,\\n  SUM(lq.order_quantity) AS total\\nFROM\\n  top_products tp\\n  LEFT JOIN last_quarter lq ON tp.product_key = lq.product_key\\nGROUP BY\\n  producto, categoria, subcategoria\\nORDER BY\\n  total DESC\",\n",
       " 'valid_query_generated': True}"
      ]
     },
     "execution_count": 3,
     "metadata": {},
     "output_type": "execute_result"
    }
   ],
   "source": [
    "query_generator_graph.invoke({\n",
    "    \"context\": \"Tablas:\\n  customers(id, name, country)\\n\",\n",
    "    \"user_query\": \"Muéstrame los 10 productos más vendidos para el B2B en el último trimestre, excluyendo los Accesorios. Mes a mes indica cuántas unidades se vendieron, y muestra también a qué categoría y subcategoría pertenecen\",\n",
    "    \"language\": \"Spanish\"\n",
    "})"
   ]
  },
  {
   "cell_type": "code",
   "execution_count": null,
   "id": "3573775b",
   "metadata": {},
   "outputs": [],
   "source": []
  },
  {
   "cell_type": "code",
   "execution_count": null,
   "id": "126ab3fa",
   "metadata": {},
   "outputs": [],
   "source": []
  },
  {
   "cell_type": "markdown",
   "id": "f8865210",
   "metadata": {},
   "source": [
    "---\n",
    "\n",
    "## Chunk Processing"
   ]
  },
  {
   "cell_type": "code",
   "execution_count": null,
   "id": "fc0c4f49",
   "metadata": {},
   "outputs": [
    {
     "name": "stdout",
     "output_type": "stream",
     "text": [
      "--- BUILDING CHUNK PROCESSING GRAPH 🏗️ ---\n",
      "--- CHUNK PROCESSING GRAPH COMPILED SUCCESSFULLY ⚙️✅ ---\n"
     ]
    }
   ],
   "source": [
    "chunk_processing_graph = ChunkProcessingGraph()\n",
    "\n",
    "chunk_processing_graph = chunk_processing_graph.get_compiled_graph()"
   ]
  },
  {
   "cell_type": "code",
   "execution_count": 3,
   "id": "1f6265ef",
   "metadata": {},
   "outputs": [
    {
     "data": {
      "image/png": "[encoded data removed]",
      "text/plain": [
       "<IPython.core.display.Image object>"
      ]
     },
     "metadata": {},
     "output_type": "display_data"
    }
   ],
   "source": [
    "display(Image(chunk_processing_graph.get_graph().draw_mermaid_png()))"
   ]
  },
  {
   "cell_type": "code",
   "execution_count": 4,
   "id": "924ec39d",
   "metadata": {},
   "outputs": [
    {
     "name": "stdout",
     "output_type": "stream",
     "text": [
      "--- GRADE CHUNK RELEVANCE TO QUESTION ❔ ---\n",
      "--- GRADE: RELEVANT CHUNK ✅ ---\n",
      "--- SUMMARIZE CHUNK 📝📚 ---\n",
      "--- CHECK ITERATIONS 🔁 ---\n",
      "--- GRADE HALLUCINATIONS 👻 ---\n",
      "--- DECISION: GENERATION IS GROUNDED IN DOCUMENTS ✅ ---\n",
      "--- DECISION: GENERATION ADDRESSES QUESTION ✅ ---\n"
     ]
    },
    {
     "data": {
      "text/plain": [
       "{'chunk_summary': ['Synthesized Business Logic\\n\\n### High-Level Summary\\nThe context provides business rules and metrics related to retail sales, including definitions and interpretations of \"most sold products\" and other related metrics. It specifies how to measure and interpret sales data, including unit sales, revenue, and profitability.\\n\\n### Detailed Breakdown\\n\\n#### Definition of \"Most Sold Products\"\\n- The term \"most sold products\" generally refers to the quantity of units sold (`order_quantity`).\\n- Alternatively, it can be measured by the revenue generated (`sales_amount`), which identifies products that generate higher income despite lower sales volume. This is explicitly referred to as \"products with the highest revenue\" or \"de mayor facturación\".\\n\\n#### Related Metrics and Interpretations\\n- **Sales Metrics:**\\n  - `order_quantity`: Represents the number of units sold.\\n  - `sales_amount`: Represents the total revenue generated from sales.\\n- **Profitability Metrics:**\\n  - `gross margin`: Indicates the absolute profit from sales.\\n  - `gross margin percentage`: Represents the profit margin as a percentage of sales.\\n\\n#### Contextual Applications\\n- **Promotions:**\\n  - Success of promotions is measured by the increase in `order_quantity` or `sales_amount` directly attributable to the promotion.\\n  - Overall profitability during the promotional period is analyzed to determine effectiveness.\\n- **Sales Channels:**\\n  - B2C (Business-to-Consumer): Transactions with end consumers, identified by `sale_source = \\'internet_sales\\'`.\\n  - B2B (Business-to-Business): Transactions between businesses, identified by `sale_source = \\'reseller_sales\\'`.\\n\\n### SQL Expressions and Data Model References\\n- No explicit SQL expressions are provided in the context, but the metrics mentioned (`order_quantity`, `sales_amount`, `gross margin`, `gross margin percentage`, `sale_source`) are likely fields in the data model.\\n\\nThis synthesized logic provides a comprehensive understanding of how \"most sold products\" and related metrics are defined and measured in the retail business context.']}"
      ]
     },
     "execution_count": 4,
     "metadata": {},
     "output_type": "execute_result"
    }
   ],
   "source": [
    "doc_txt = \"\"\"\n",
    "3. Métricas Clásicas del Retail y su Interpretación\n",
    "\n",
    "Es crucial entender cómo se miden las diferentes métricas en el contexto de negocio.- Cuando se habla de productos \"más vendidos\", sin especificar más, generalmente nos referimos a la cantidad de unidades (`order_quantity`) vendidas. También puede ser relevante medir esto por el importe facturado (`sales_amount`) para identificar productos que, aunque se vendan en menor volumen, generan más ingresos. Pero, en este último caso se especificarán términos como \"de mayor facturación\".\n",
    "- Cuando se refiere a clientes, tiendas/distribuidores o vendedores que \"más compran/venden\", esto se mide por el importe facturado (`sales_amount`) o `net sales`. Adicionalmente, se puede considerar la frecuencia de compra (para clientes y distribuidores) o el número de pedidos gestionados (para vendedores) como métricas complementarias.\n",
    "- Para el análisis de rentabilidad, la métrica clave es el margen bruto (`gross margin`) o el porcentaje de margen bruto (`gross margin percentage`), lo cual permite comprender la contribución real de cada venta o producto a las ganancias, más allá del volumen o ingreso total. Este enfoque es vital para evaluar la eficiencia operativa.\n",
    "- En el contexto de la gestión de promociones, el éxito no solo se mide por el discount_amount o average_discount_rate, sino también por el incremento en `order_quantity` o `sales_amount` directamente atribuible a la promoción. Es fundamental analizar la rentabilidad general del período promocional para determinar su efectividad.\n",
    "- Ventas B2C (Business-to-Consumer): Estas ventas se refieren a transacciones directas con el consumidor final. En el modelo, corresponden a los pedidos donde `sale_source` es igual a `'internet_sales'`. Puede identificarse también como la unidad de negocio encargada del comercio minorista.\n",
    "- Ventas B2B (Business-to-Business): Estas ventas se refieren a transacciones entre empresas, como las realizadas con distribuidores o tiendas minoristas. En el modelo, corresponden a los pedidos donde `sale_source` es igual a `'reseller_sales'`. Puede identificarse también como la unidad de negocio encargada del comercio mayorista.\n",
    "\"\"\"\n",
    "\n",
    "user_query = 'The name of the product most selled.'\n",
    "\n",
    "test_chunk = chunk_processing_graph.invoke({\n",
    "    \"user_query\": user_query,\n",
    "    \"language\": 'English',\n",
    "    \"entity\": 'business_logic',\n",
    "    \"chunk_txt\": doc_txt, \n",
    "})\n",
    "\n",
    "test_chunk"
   ]
  },
  {
   "cell_type": "markdown",
   "id": "1e8e59e7",
   "metadata": {},
   "source": [
    "---\n",
    "\n",
    "## Business Logic"
   ]
  },
  {
   "cell_type": "code",
   "execution_count": null,
   "id": "24258cdc",
   "metadata": {},
   "outputs": [
    {
     "name": "stdout",
     "output_type": "stream",
     "text": [
      "--- BUILDING BUSINESSLOGICRETRIEVALGRAPH GRAPH 🏗️ ---\n",
      "--- BUILDING CHUNK PROCESSING GRAPH 🏗️ ---\n",
      "--- CHUNK PROCESSING GRAPH COMPILED SUCCESSFULLY ⚙️✅ ---\n",
      "--- BUSINESSLOGICRETRIEVALGRAPH COMPILED SUCCESSFULLY ✅ ---\n"
     ]
    }
   ],
   "source": [
    "business_logic_graph = BusinessLogicRetrievalGraph()\n",
    "\n",
    "business_logic_graph = business_logic_graph.get_compiled_graph()"
   ]
  },
  {
   "cell_type": "code",
   "execution_count": 6,
   "id": "8cb8d54f",
   "metadata": {},
   "outputs": [
    {
     "data": {
      "image/png": "[encoded data removed]",
      "text/plain": [
       "<IPython.core.display.Image object>"
      ]
     },
     "metadata": {},
     "output_type": "display_data"
    }
   ],
   "source": [
    "display(Image(business_logic_graph.get_graph(xray=1).draw_mermaid_png()))"
   ]
  },
  {
   "cell_type": "code",
   "execution_count": 7,
   "id": "02562851",
   "metadata": {},
   "outputs": [
    {
     "name": "stdout",
     "output_type": "stream",
     "text": [
      "--- GENERATING BUSINESS_LOGIC SUB-QUERIES 📚 ---\n",
      "--- BUSINESS_LOGIC RETRIEVE TOOL 🛠️ ---\n",
      "--- PARALLELIZE GENERATION 🔢 ---\n",
      "--- GRADE CHUNK RELEVANCE TO QUESTION ❔ ---\n",
      "--- GRADE CHUNK RELEVANCE TO QUESTION ❔ ---\n",
      "--- GRADE CHUNK RELEVANCE TO QUESTION ❔ ---\n",
      "--- GRADE CHUNK RELEVANCE TO QUESTION ❔ ---\n",
      "--- GRADE CHUNK RELEVANCE TO QUESTION ❔ ---\n",
      "--- GRADE CHUNK RELEVANCE TO QUESTION ❔ ---\n",
      "--- GRADE CHUNK RELEVANCE TO QUESTION ❔ ---\n",
      "--- GRADE CHUNK RELEVANCE TO QUESTION ❔ ---\n",
      "--- GRADE CHUNK RELEVANCE TO QUESTION ❔ ---\n",
      "--- GRADE CHUNK RELEVANCE TO QUESTION ❔ ---\n",
      "--- GRADE CHUNK RELEVANCE TO QUESTION ❔ ---\n",
      "--- GRADE CHUNK RELEVANCE TO QUESTION ❔ ---\n",
      "--- GRADE CHUNK RELEVANCE TO QUESTION ❔ ---\n",
      "--- GRADE CHUNK RELEVANCE TO QUESTION ❔ ---\n",
      "--- GRADE CHUNK RELEVANCE TO QUESTION ❔ ---\n",
      "--- GRADE: RELEVANT CHUNK ✅ ---\n",
      "--- SUMMARIZE CHUNK 📝📚 ---\n",
      "--- GRADE: NOT RELEVANT CHUNK 🗑️ ---\n",
      "--- SET RETRIEVAL GRADE OUTPUT KO ❌ ---\n",
      "--- GRADE: NOT RELEVANT CHUNK 🗑️ ---\n",
      "--- SET RETRIEVAL GRADE OUTPUT KO ❌ ---\n",
      "--- GRADE: RELEVANT CHUNK ✅ ---\n",
      "--- SUMMARIZE CHUNK 📝📚 ---\n",
      "--- GRADE: NOT RELEVANT CHUNK 🗑️ ---\n",
      "--- SET RETRIEVAL GRADE OUTPUT KO ❌ ---\n",
      "--- GRADE: RELEVANT CHUNK ✅ ---\n",
      "--- SUMMARIZE CHUNK 📝📚 ---\n",
      "--- GRADE: NOT RELEVANT CHUNK 🗑️ ---\n",
      "--- SET RETRIEVAL GRADE OUTPUT KO ❌ ---\n",
      "--- GRADE: RELEVANT CHUNK ✅ ---\n",
      "--- SUMMARIZE CHUNK 📝📚 ---\n",
      "--- GRADE: NOT RELEVANT CHUNK 🗑️ ---\n",
      "--- SET RETRIEVAL GRADE OUTPUT KO ❌ ---\n",
      "--- GRADE: RELEVANT CHUNK ✅ ---\n",
      "--- SUMMARIZE CHUNK 📝📚 ---\n",
      "--- GRADE: NOT RELEVANT CHUNK 🗑️ ---\n",
      "--- SET RETRIEVAL GRADE OUTPUT KO ❌ ---\n",
      "--- GRADE: NOT RELEVANT CHUNK 🗑️ ---\n",
      "--- SET RETRIEVAL GRADE OUTPUT KO ❌ ---\n",
      "--- GRADE: RELEVANT CHUNK ✅ ---\n",
      "--- SUMMARIZE CHUNK 📝📚 ---\n",
      "--- GRADE: NOT RELEVANT CHUNK 🗑️ ---\n",
      "--- SET RETRIEVAL GRADE OUTPUT KO ❌ ---\n",
      "--- GRADE: RELEVANT CHUNK ✅ ---\n",
      "--- SUMMARIZE CHUNK 📝📚 ---\n",
      "--- CHECK ITERATIONS 🔁 ---\n",
      "--- GRADE HALLUCINATIONS 👻 ---\n",
      "--- DECISION: GENERATION IS GROUNDED IN DOCUMENTS ✅ ---\n",
      "--- CHECK ITERATIONS 🔁 ---\n",
      "--- GRADE HALLUCINATIONS 👻 ---\n",
      "--- DECISION: GENERATION ADDRESSES QUESTION ✅ ---\n",
      "--- CHECK ITERATIONS 🔁 ---\n",
      "--- GRADE HALLUCINATIONS 👻 ---\n",
      "--- DECISION: GENERATION IS GROUNDED IN DOCUMENTS ✅ ---\n",
      "--- DECISION: GENERATION IS GROUNDED IN DOCUMENTS ✅ ---\n",
      "--- DECISION: GENERATION ADDRESSES QUESTION ✅ ---\n",
      "--- DECISION: GENERATION ADDRESSES QUESTION ✅ ---\n",
      "--- CHECK ITERATIONS 🔁 ---\n",
      "--- GRADE HALLUCINATIONS 👻 ---\n",
      "--- DECISION: GENERATION IS GROUNDED IN DOCUMENTS ✅ ---\n",
      "--- DECISION: GENERATION ADDRESSES QUESTION ✅ ---\n",
      "--- CHECK ITERATIONS 🔁 ---\n",
      "--- GRADE HALLUCINATIONS 👻 ---\n",
      "--- DECISION: GENERATION IS GROUNDED IN DOCUMENTS ✅ ---\n",
      "--- CHECK ITERATIONS 🔁 ---\n",
      "--- GRADE HALLUCINATIONS 👻 ---\n",
      "--- DECISION: GENERATION ADDRESSES QUESTION ✅ ---\n",
      "--- DECISION: GENERATION IS GROUNDED IN DOCUMENTS ✅ ---\n",
      "--- DECISION: GENERATION ADDRESSES QUESTION ✅ ---\n",
      "--- CHECK ITERATIONS 🔁 ---\n",
      "--- GRADE HALLUCINATIONS 👻 ---\n",
      "--- DECISION: GENERATION IS GROUNDED IN DOCUMENTS ✅ ---\n",
      "--- DECISION: GENERATION ADDRESSES QUESTION ✅ ---\n",
      "--- SUMMARIZE BUSINES LOGIC 📝👨‍💼 ---\n"
     ]
    },
    {
     "data": {
      "text/markdown": [
       "### Lógica de Negocio Sintetizada\n",
       "\n",
       "#### Resumen de Alto Nivel\n",
       "El contexto proporciona reglas y ejemplos específicos para calcular las ventas del último trimestre y desglosarlas por categorías de producto. Se incluyen definiciones de períodos trimestrales, herramientas SQL para manipulación de fechas, y ejemplos de consultas SQL relevantes.\n",
       "\n",
       "#### Detalles Específicos\n",
       "\n",
       "1. **Definición de Trimestre**:\n",
       "   - Un trimestre es un período de tres meses.\n",
       "   - Los trimestres en un año natural son:\n",
       "     - Q1: Enero-Marzo\n",
       "     - Q2: Abril-Junio\n",
       "     - Q3: Julio-Septiembre\n",
       "     - Q4: Octubre-Diciembre.\n",
       "\n",
       "2. **Uso del Campo `order_date`**:\n",
       "   - Todas las consultas relacionadas con períodos temporales deben utilizar el campo `order_date` de la tabla `fact_sales`.\n",
       "\n",
       "3. **Consultas SQL Relevantes**:\n",
       "   - **Ventas del Trimestre Pasado**:\n",
       "     ```sql\n",
       "     SELECT product_key, SUM(sales_amount) AS total_sales\n",
       "     FROM sales.fact_sales\n",
       "     WHERE order_date BETWEEN DATE_TRUNC('quarter', CURRENT_DATE - INTERVAL '3 months') AND DATE_TRUNC('quarter', CURRENT_DATE) - INTERVAL '1 day'\n",
       "     GROUP BY product_key;\n",
       "     ```\n",
       "   - Esta consulta calcula las ventas del trimestre anterior y las desglosa por categorías de producto (`product_key`).\n",
       "\n",
       "4. **Herramientas SQL para Manipulación de Fechas**:\n",
       "   - `DATE_TRUNC('quarter', date)` para truncar fechas al inicio del trimestre.\n",
       "   - `INTERVAL` para operaciones de tiempo.\n",
       "\n",
       "#### Observaciones\n",
       "El contexto incluye toda la información necesaria para calcular las ventas del último trimestre y desglosarlas por categorías de producto, utilizando el campo `order_date` y agrupando por `product_key`."
      ],
      "text/plain": [
       "<IPython.core.display.Markdown object>"
      ]
     },
     "execution_count": 7,
     "metadata": {},
     "output_type": "execute_result"
    }
   ],
   "source": [
    "user_query = 'Dime las ventas del último trimestre detallas por categorías de producto.'\n",
    "\n",
    "business_logic_test = business_logic_graph.invoke({\n",
    "    \"user_query\": user_query,\n",
    "    'language': 'Spanish'\n",
    "})['business_logic']\n",
    "\n",
    "Markdown(business_logic_test)"
   ]
  },
  {
   "cell_type": "markdown",
   "id": "61acdcdd",
   "metadata": {},
   "source": [
    "---\n",
    "\n",
    "## MDL"
   ]
  },
  {
   "cell_type": "code",
   "execution_count": 8,
   "id": "e87c4434",
   "metadata": {},
   "outputs": [
    {
     "name": "stdout",
     "output_type": "stream",
     "text": [
      "--- BUILDING MDLRETRIEVALGRAPH GRAPH 🏗️ ---\n",
      "--- BUILDING CHUNK PROCESSING GRAPH 🏗️ ---\n",
      "--- CHUNK PROCESSING GRAPH COMPILED SUCCESSFULLY ⚙️✅ ---\n",
      "--- MDLRETRIEVALGRAPH COMPILED SUCCESSFULLY ✅ ---\n"
     ]
    }
   ],
   "source": [
    "mdl_graph = MdlRetrievalGraph()\n",
    "\n",
    "mdl_graph = mdl_graph.get_compiled_graph()"
   ]
  },
  {
   "cell_type": "code",
   "execution_count": 9,
   "id": "3bd04457",
   "metadata": {},
   "outputs": [
    {
     "data": {
      "image/png": "[encoded data removed]",
      "text/plain": [
       "<IPython.core.display.Image object>"
      ]
     },
     "metadata": {},
     "output_type": "display_data"
    }
   ],
   "source": [
    "display(Image(mdl_graph.get_graph(xray=1).draw_mermaid_png()))"
   ]
  },
  {
   "cell_type": "code",
   "execution_count": 10,
   "id": "d3766a29",
   "metadata": {},
   "outputs": [
    {
     "name": "stdout",
     "output_type": "stream",
     "text": [
      "--- GENERATING MDL SUB-QUERIES 📚 ---\n",
      "--- MDL RETRIEVE TOOL 🛠️ ---\n"
     ]
    },
    {
     "name": "stderr",
     "output_type": "stream",
     "text": [
      "No relevant docs were retrieved using the relevance score threshold 0.75\n",
      "No relevant docs were retrieved using the relevance score threshold 0.75\n",
      "No relevant docs were retrieved using the relevance score threshold 0.75\n",
      "No relevant docs were retrieved using the relevance score threshold 0.75\n",
      "No relevant docs were retrieved using the relevance score threshold 0.75\n"
     ]
    },
    {
     "name": "stdout",
     "output_type": "stream",
     "text": [
      "--- PARALLELIZE GENERATION 🔢 ---\n",
      "--- GRADE CHUNK RELEVANCE TO QUESTION ❔ ---\n",
      "--- GRADE CHUNK RELEVANCE TO QUESTION ❔ ---\n",
      "--- GRADE CHUNK RELEVANCE TO QUESTION ❔ ---\n",
      "--- GRADE CHUNK RELEVANCE TO QUESTION ❔ ---\n",
      "--- GRADE CHUNK RELEVANCE TO QUESTION ❔ ---\n",
      "--- GRADE CHUNK RELEVANCE TO QUESTION ❔ ---\n",
      "--- GRADE CHUNK RELEVANCE TO QUESTION ❔ ---\n",
      "--- GRADE CHUNK RELEVANCE TO QUESTION ❔ ---\n",
      "--- GRADE CHUNK RELEVANCE TO QUESTION ❔ ---\n",
      "--- GRADE: NOT RELEVANT CHUNK 🗑️ ------ GRADE: NOT RELEVANT CHUNK 🗑️ ---\n",
      "--- SET RETRIEVAL GRADE OUTPUT KO ❌ ---\n",
      "\n",
      "--- SET RETRIEVAL GRADE OUTPUT KO ❌ ---\n",
      "--- GRADE: NOT RELEVANT CHUNK 🗑️ ---\n",
      "--- SET RETRIEVAL GRADE OUTPUT KO ❌ ---\n",
      "--- GRADE: NOT RELEVANT CHUNK 🗑️ ---\n",
      "--- SET RETRIEVAL GRADE OUTPUT KO ❌ ---\n",
      "--- GRADE: NOT RELEVANT CHUNK 🗑️ ---\n",
      "--- SET RETRIEVAL GRADE OUTPUT KO ❌ ---\n",
      "--- GRADE: RELEVANT CHUNK ✅ ---\n",
      "--- SUMMARIZE CHUNK 📝📚 ---\n",
      "--- GRADE: NOT RELEVANT CHUNK 🗑️ ---\n",
      "--- SET RETRIEVAL GRADE OUTPUT KO ❌ ---\n",
      "--- GRADE: RELEVANT CHUNK ✅ ---\n",
      "--- SUMMARIZE CHUNK 📝📚 ---\n",
      "--- GRADE: NOT RELEVANT CHUNK 🗑️ ---\n",
      "--- SET RETRIEVAL GRADE OUTPUT KO ❌ ---\n",
      "--- CHECK ITERATIONS 🔁 ------ CHECK ITERATIONS 🔁 ---\n",
      "--- GRADE HALLUCINATIONS 👻 ---\n",
      "\n",
      "--- GRADE HALLUCINATIONS 👻 ---\n",
      "--- DECISION: GENERATION IS GROUNDED IN DOCUMENTS ✅ ---\n",
      "--- DECISION: GENERATION IS GROUNDED IN DOCUMENTS ✅ ---\n",
      "--- DECISION: GENERATION ADDRESSES QUESTION ✅ ------ DECISION: GENERATION ADDRESSES QUESTION ✅ ---\n",
      "\n",
      "--- SUMMARIZE MDL 📝🗂️ ---\n"
     ]
    },
    {
     "data": {
      "text/markdown": [
       "### Información detallada de tablas y columnas relevantes\n",
       "\n",
       "#### Base de datos y esquema\n",
       "- **Base de datos:** adventure_works_dw\n",
       "- **Esquema:** sales\n",
       "\n",
       "#### Tabla: dim_product\n",
       "- **Descripción:** Contiene información detallada de cada producto vendido.\n",
       "- **Clave primaria:** product_key\n",
       "- **Columnas relevantes:**\n",
       "  - **spanish_product_category_name** (VARCHAR(50)): Categoría principal del producto en español. Nunca NULL.\n",
       "  - **spanish_product_subcategory_name** (VARCHAR(50)): Subcategoría del producto en español. Nunca NULL.\n",
       "  - **spanish_product_name** (VARCHAR(50)): Nombre del producto en español. Puede ser NULL.\n",
       "  - **list_price** (NUMERIC): Precio de venta del producto en USD.\n",
       "  - **start_date** (DATE): Fecha de disponibilidad del producto para la venta.\n",
       "  - **end_date** (DATE): Fecha de fin de disponibilidad del producto. Puede ser NULL.\n",
       "  - **active** (BOOL): Indicador de disponibilidad actual del producto.\n",
       "\n",
       "#### Tabla: fact_sales\n",
       "- **Descripción:** Contiene detalles de órdenes de ventas entregadas, con granularidad a nivel de línea.\n",
       "- **Clave primaria:**\n",
       "  - sales_order_number\n",
       "  - sales_order_line_number\n",
       "- **Claves foráneas:**\n",
       "  - product_key → sales.dim_product.product_key\n",
       "- **Columnas relevantes:**\n",
       "  - **order_quantity** (INT2): Cantidad vendida de cada producto.\n",
       "  - **sales_amount** (NUMERIC): Subtotal en USD de la línea de orden de venta.\n",
       "  - **order_date** (DATE): Fecha de creación del pedido.\n",
       "  - **product_key**: Relaciona con `sales.dim_product`.\n",
       "\n",
       "### Relación entre tablas\n",
       "- La tabla `fact_sales` se relaciona con `dim_product` mediante la clave foránea `product_key`.\n",
       "- Condición de unión: `fact_sales.product_key = dim_product.product_key`.\n",
       "\n",
       "### Condiciones para el cálculo del último trimestre\n",
       "- Filtrar las ventas en `fact_sales` utilizando la columna `order_date` para el último trimestre.\n",
       "- Relacionar con `dim_product` para obtener las categorías de producto mediante `spanish_product_category_name`."
      ],
      "text/plain": [
       "<IPython.core.display.Markdown object>"
      ]
     },
     "execution_count": 10,
     "metadata": {},
     "output_type": "execute_result"
    }
   ],
   "source": [
    "user_query = 'Dime las ventas del último trimestre detallas por categorías de producto.'\n",
    "\n",
    "mdl_test = mdl_graph.invoke({\n",
    "    \"user_query\": user_query,\n",
    "    'language': 'Spanish'\n",
    "})['data_schema']\n",
    "\n",
    "Markdown(mdl_test)"
   ]
  },
  {
   "cell_type": "markdown",
   "id": "93a33cc9",
   "metadata": {},
   "source": [
    "---\n",
    "\n",
    "## GLOBAL"
   ]
  },
  {
   "cell_type": "code",
   "execution_count": 2,
   "id": "0b8663aa",
   "metadata": {},
   "outputs": [
    {
     "name": "stdout",
     "output_type": "stream",
     "text": [
      "--- BUILDING CONTEXT GENERATOR GRAPH 🏗️ ---\n",
      "--- BUILDING BUSINESSLOGICRETRIEVALGRAPH GRAPH 🏗️ ---\n",
      "--- BUILDING CHUNK PROCESSING GRAPH 🏗️ ---\n",
      "--- CHUNK PROCESSING GRAPH COMPILED SUCCESSFULLY ⚙️✅ ---\n",
      "--- BUSINESSLOGICRETRIEVALGRAPH COMPILED SUCCESSFULLY ✅ ---\n",
      "--- BUILDING MDLRETRIEVALGRAPH GRAPH 🏗️ ---\n",
      "--- BUILDING CHUNK PROCESSING GRAPH 🏗️ ---\n",
      "--- CHUNK PROCESSING GRAPH COMPILED SUCCESSFULLY ⚙️✅ ---\n",
      "--- MDLRETRIEVALGRAPH COMPILED SUCCESSFULLY ✅ ---\n",
      "--- CONTEXT GENERATOR COMPILED SUCCESSFULLY ✅ ---\n"
     ]
    }
   ],
   "source": [
    "context_generator_graph = ContextGeneratorGraph()\n",
    "\n",
    "context_generator_graph = context_generator_graph.get_compiled_graph()"
   ]
  },
  {
   "cell_type": "code",
   "execution_count": 3,
   "id": "8788071e",
   "metadata": {},
   "outputs": [
    {
     "data": {
      "image/png": "[encoded data removed]",
      "text/plain": [
       "<IPython.core.display.Image object>"
      ]
     },
     "metadata": {},
     "output_type": "display_data"
    }
   ],
   "source": [
    "display(Image(context_generator_graph.get_graph(xray=3).draw_mermaid_png()))"
   ]
  },
  {
   "cell_type": "code",
   "execution_count": 4,
   "id": "81930146",
   "metadata": {},
   "outputs": [
    {
     "name": "stdout",
     "output_type": "stream",
     "text": [
      "--- DEFINE USER QUERY LANGUAGE 🔣 ---\n",
      "--- GENERATING BUSINESS_LOGIC SUB-QUERIES 📚 ---\n",
      "--- GENERATING MDL SUB-QUERIES 📚 ---\n",
      "--- MDL RETRIEVE TOOL 🛠️ ---\n",
      "--- BUSINESS_LOGIC RETRIEVE TOOL 🛠️ ---\n"
     ]
    },
    {
     "name": "stderr",
     "output_type": "stream",
     "text": [
      "No relevant docs were retrieved using the relevance score threshold 0.75\n"
     ]
    },
    {
     "name": "stdout",
     "output_type": "stream",
     "text": [
      "--- PARALLELIZE GENERATION 🔢 ---\n",
      "--- GRADE CHUNK RELEVANCE TO QUESTION ❔ ---\n",
      "--- GRADE CHUNK RELEVANCE TO QUESTION ❔ ---\n",
      "--- GRADE CHUNK RELEVANCE TO QUESTION ❔ ---\n",
      "--- GRADE CHUNK RELEVANCE TO QUESTION ❔ ---\n",
      "--- GRADE CHUNK RELEVANCE TO QUESTION ❔ ---\n",
      "--- GRADE CHUNK RELEVANCE TO QUESTION ❔ ---\n",
      "--- GRADE CHUNK RELEVANCE TO QUESTION ❔ ---\n",
      "--- GRADE CHUNK RELEVANCE TO QUESTION ❔ ---\n",
      "--- GRADE CHUNK RELEVANCE TO QUESTION ❔ ---\n",
      "--- GRADE CHUNK RELEVANCE TO QUESTION ❔ ---\n",
      "--- GRADE CHUNK RELEVANCE TO QUESTION ❔ ---\n",
      "--- GRADE CHUNK RELEVANCE TO QUESTION ❔ ---\n",
      "--- GRADE CHUNK RELEVANCE TO QUESTION ❔ ---\n",
      "--- GRADE CHUNK RELEVANCE TO QUESTION ❔ ---\n",
      "--- GRADE CHUNK RELEVANCE TO QUESTION ❔ ---\n",
      "--- GRADE: RELEVANT CHUNK ✅ ---\n",
      "--- SUMMARIZE CHUNK 📝📚 ---\n",
      "--- GRADE: RELEVANT CHUNK ✅ ---\n",
      "--- SUMMARIZE CHUNK 📝📚 ---\n",
      "--- GRADE: RELEVANT CHUNK ✅ ---\n",
      "--- SUMMARIZE CHUNK 📝📚 ---\n",
      "--- GRADE: NOT RELEVANT CHUNK 🗑️ ---\n",
      "--- SET RETRIEVAL GRADE OUTPUT KO ❌ ---\n",
      "--- GRADE: NOT RELEVANT CHUNK 🗑️ ---\n",
      "--- SET RETRIEVAL GRADE OUTPUT KO ❌ ---\n",
      "--- GRADE: NOT RELEVANT CHUNK 🗑️ ---\n",
      "--- SET RETRIEVAL GRADE OUTPUT KO ❌ ---\n",
      "--- GRADE: RELEVANT CHUNK ✅ ---\n",
      "--- SUMMARIZE CHUNK 📝📚 ---\n",
      "--- GRADE: NOT RELEVANT CHUNK 🗑️ ---\n",
      "--- SET RETRIEVAL GRADE OUTPUT KO ❌ ---\n",
      "--- GRADE: NOT RELEVANT CHUNK 🗑️ ---\n",
      "--- SET RETRIEVAL GRADE OUTPUT KO ❌ ---\n",
      "--- GRADE: RELEVANT CHUNK ✅ ---\n",
      "--- SUMMARIZE CHUNK 📝📚 ---\n",
      "--- GRADE: RELEVANT CHUNK ✅ ---\n",
      "--- SUMMARIZE CHUNK 📝📚 ---\n",
      "--- GRADE: RELEVANT CHUNK ✅ ---\n",
      "--- SUMMARIZE CHUNK 📝📚 ---\n",
      "--- GRADE: NOT RELEVANT CHUNK 🗑️ ---\n",
      "--- SET RETRIEVAL GRADE OUTPUT KO ❌ ---\n",
      "--- GRADE: NOT RELEVANT CHUNK 🗑️ ---\n",
      "--- SET RETRIEVAL GRADE OUTPUT KO ❌ ---\n",
      "--- GRADE: NOT RELEVANT CHUNK 🗑️ ---\n",
      "--- SET RETRIEVAL GRADE OUTPUT KO ❌ ---\n"
     ]
    },
    {
     "name": "stderr",
     "output_type": "stream",
     "text": [
      "No relevant docs were retrieved using the relevance score threshold 0.75\n"
     ]
    },
    {
     "name": "stdout",
     "output_type": "stream",
     "text": [
      "--- CHECK ITERATIONS 🔁 ---\n",
      "--- GRADE HALLUCINATIONS 👻 ---\n",
      "--- CHECK ITERATIONS 🔁 ---\n",
      "--- GRADE HALLUCINATIONS 👻 ---\n",
      "--- DECISION: GENERATION IS GROUNDED IN DOCUMENTS ✅ ---\n",
      "--- DECISION: GENERATION IS GROUNDED IN DOCUMENTS ✅ ---\n",
      "--- CHECK ITERATIONS 🔁 ---\n",
      "--- GRADE HALLUCINATIONS 👻 ---\n",
      "--- DECISION: GENERATION ADDRESSES QUESTION ✅ ---\n",
      "--- DECISION: GENERATION ADDRESSES QUESTION ✅ ---\n",
      "--- DECISION: GENERATION IS GROUNDED IN DOCUMENTS ✅ ---\n",
      "--- DECISION: GENERATION ADDRESSES QUESTION ✅ ---\n"
     ]
    },
    {
     "name": "stderr",
     "output_type": "stream",
     "text": [
      "No relevant docs were retrieved using the relevance score threshold 0.75\n"
     ]
    },
    {
     "name": "stdout",
     "output_type": "stream",
     "text": [
      "--- CHECK ITERATIONS 🔁 ---\n",
      "--- GRADE HALLUCINATIONS 👻 ---\n",
      "--- DECISION: GENERATION IS GROUNDED IN DOCUMENTS ✅ ---\n"
     ]
    },
    {
     "name": "stderr",
     "output_type": "stream",
     "text": [
      "No relevant docs were retrieved using the relevance score threshold 0.75\n"
     ]
    },
    {
     "name": "stdout",
     "output_type": "stream",
     "text": [
      "--- DECISION: GENERATION ADDRESSES QUESTION ✅ ---\n",
      "--- CHECK ITERATIONS 🔁 ---\n",
      "--- GRADE HALLUCINATIONS 👻 ---\n",
      "--- CHECK ITERATIONS 🔁 ---\n",
      "--- GRADE HALLUCINATIONS 👻 ---\n",
      "--- DECISION: GENERATION IS GROUNDED IN DOCUMENTS ✅ ---\n",
      "--- DECISION: GENERATION IS GROUNDED IN DOCUMENTS ✅ ---\n",
      "--- DECISION: GENERATION ADDRESSES QUESTION ✅ ---\n",
      "--- DECISION: GENERATION ADDRESSES QUESTION ✅ ---\n",
      "--- CHECK ITERATIONS 🔁 ---\n",
      "--- GRADE HALLUCINATIONS 👻 ---\n",
      "--- DECISION: GENERATION IS GROUNDED IN DOCUMENTS ✅ ---\n",
      "--- DECISION: GENERATION ADDRESSES QUESTION ✅ ---\n",
      "--- SUMMARIZE BUSINES LOGIC 📝👨‍💼 ---\n"
     ]
    },
    {
     "name": "stderr",
     "output_type": "stream",
     "text": [
      "No relevant docs were retrieved using the relevance score threshold 0.75\n"
     ]
    },
    {
     "name": "stdout",
     "output_type": "stream",
     "text": [
      "--- PARALLELIZE GENERATION 🔢 ---\n",
      "--- GRADE CHUNK RELEVANCE TO QUESTION ❔ ---\n",
      "--- GRADE CHUNK RELEVANCE TO QUESTION ❔ ---\n",
      "--- GRADE CHUNK RELEVANCE TO QUESTION ❔ ---\n",
      "--- GRADE CHUNK RELEVANCE TO QUESTION ❔ ---\n",
      "--- GRADE CHUNK RELEVANCE TO QUESTION ❔ ---\n",
      "--- GRADE CHUNK RELEVANCE TO QUESTION ❔ ---\n",
      "--- GRADE CHUNK RELEVANCE TO QUESTION ❔ ---\n",
      "--- GRADE CHUNK RELEVANCE TO QUESTION ❔ ---\n",
      "--- GRADE CHUNK RELEVANCE TO QUESTION ❔ ---\n",
      "--- GRADE: NOT RELEVANT CHUNK 🗑️ ---\n",
      "--- SET RETRIEVAL GRADE OUTPUT KO ❌ ---\n",
      "--- GRADE: RELEVANT CHUNK ✅ ---\n",
      "--- SUMMARIZE CHUNK 📝📚 ---\n",
      "--- GRADE: RELEVANT CHUNK ✅ ---\n",
      "--- SUMMARIZE CHUNK 📝📚 ---\n",
      "--- GRADE: NOT RELEVANT CHUNK 🗑️ ---\n",
      "--- SET RETRIEVAL GRADE OUTPUT KO ❌ ---\n",
      "--- GRADE: NOT RELEVANT CHUNK 🗑️ ---\n",
      "--- SET RETRIEVAL GRADE OUTPUT KO ❌ ---\n",
      "--- GRADE: NOT RELEVANT CHUNK 🗑️ ---\n",
      "--- SET RETRIEVAL GRADE OUTPUT KO ❌ ---\n",
      "--- GRADE: NOT RELEVANT CHUNK 🗑️ ---\n",
      "--- SET RETRIEVAL GRADE OUTPUT KO ❌ ---\n",
      "--- GRADE: NOT RELEVANT CHUNK 🗑️ ---\n",
      "--- SET RETRIEVAL GRADE OUTPUT KO ❌ ---\n",
      "--- GRADE: NOT RELEVANT CHUNK 🗑️ ---\n",
      "--- SET RETRIEVAL GRADE OUTPUT KO ❌ ---\n",
      "--- CHECK ITERATIONS 🔁 ---\n",
      "--- GRADE HALLUCINATIONS 👻 ---\n",
      "--- DECISION: GENERATION IS GROUNDED IN DOCUMENTS ✅ ---\n",
      "--- DECISION: GENERATION ADDRESSES QUESTION ✅ ---\n",
      "--- CHECK ITERATIONS 🔁 ---\n",
      "--- GRADE HALLUCINATIONS 👻 ---\n",
      "--- DECISION: GENERATION IS GROUNDED IN DOCUMENTS ✅ ---\n",
      "--- DECISION: GENERATION ADDRESSES QUESTION ✅ ---\n",
      "--- SUMMARIZE MDL 📝🗂️ ---\n",
      "--- GRADE CONTEXT SUMMARIES 🔍 ---\n",
      "--- GENERATE GLOBAL CONTEXT 📝🌐 ---\n"
     ]
    },
    {
     "data": {
      "text/plain": [
       "{'language': 'Spanish',\n",
       " 'relevant_context': True,\n",
       " 'context': \"### Resumen General\\nEl objetivo es calcular las ventas del último trimestre, desglosadas por categorías de producto. Esto implica utilizar datos de ventas y productos, aplicando filtros temporales y uniendo tablas relevantes para obtener las categorías de producto y sus ventas asociadas.\\n\\n### Esquema Detallado y Relaciones\\n#### Base de datos y esquema\\n- **Base de datos:** adventure_works_dw\\n- **Esquema:** sales\\n\\n#### Tabla: dim_product\\n- **Descripción:** Contiene información detallada de productos, incluyendo categorías y precios.\\n- **Clave primaria:** product_key\\n- **Columnas relevantes:**\\n  - **spanish_product_category_name** (VARCHAR(50), NOT NULL): Categoría principal del producto en español.\\n  - **spanish_product_subcategory_name** (VARCHAR(50), NOT NULL): Subcategoría del producto en español.\\n  - **spanish_product_name** (VARCHAR(50), NULL): Nombre del producto en español.\\n  - **list_price** (NUMERIC): Precio de venta del producto en USD.\\n  - **start_date** (DATE): Fecha de disponibilidad del producto para la venta.\\n  - **end_date** (DATE, NULL): Fecha de fin de disponibilidad del producto.\\n\\n#### Tabla: fact_sales\\n- **Descripción:** Contiene detalles de órdenes de ventas con granularidad a nivel de línea.\\n- **Clave primaria:**\\n  - sales_order_number\\n  - sales_order_line_number\\n- **Claves foráneas:**\\n  - product_key → sales.dim_product.product_key\\n- **Columnas relevantes:**\\n  - **order_date** (DATE): Fecha de creación del pedido.\\n  - **sales_amount** (NUMERIC): Subtotal en USD de la línea de orden de venta.\\n  - **order_quantity** (INT2): Cantidad vendida de cada producto.\\n  - **product_key**: Referencia a la tabla `sales.dim_product`.\\n\\n#### Relaciones entre tablas\\n- Para obtener las categorías de producto y sus ventas, se debe realizar un JOIN entre `fact_sales` y `dim_product` utilizando la clave foránea `product_key`:\\n  ```sql\\n  ON fact_sales.product_key = dim_product.product_key\\n  ```\\n- Para filtrar las ventas del último trimestre, se debe aplicar un filtro en la columna `order_date` con el rango de fechas correspondiente.\\n\\n### Reglas de Negocio y Lógica\\n1. **Definición de Trimestre:**\\n   - Un trimestre es un período de tres meses.\\n   - Los trimestres en un año natural son:\\n     - Q1: Enero a Marzo.\\n     - Q2: Abril a Junio.\\n     - Q3: Julio a Septiembre.\\n     - Q4: Octubre a Diciembre.\\n\\n2. **Filtro Temporal:**\\n   - Para calcular las ventas del último trimestre, se utiliza el campo `order_date` de la tabla `fact_sales` con el siguiente rango de fechas:\\n     ```sql\\n     WHERE order_date BETWEEN DATE_TRUNC('quarter', CURRENT_DATE - INTERVAL '3 months') AND DATE_TRUNC('quarter', CURRENT_DATE) - INTERVAL '1 day'\\n     ```\\n\\n3. **Cálculo de Ventas:**\\n   - Las ventas totales se calculan sumando el campo `sales_amount`.\\n\\n4. **Representación de Categorías de Producto:**\\n   - Se prioriza el uso del campo `spanish_product_category_name` de la tabla `dim_product`. Si este es nulo, se puede usar un campo alternativo como `english_product_category_name`.\\n\\n5. **Consulta SQL Representativa:**\\n   - Una consulta representativa para obtener las ventas del último trimestre desglosadas por categorías de producto sería:\\n     ```sql\\n     SELECT \\n         COALESCE(spanish_product_category_name, 'Categoría no registrada') AS categoria_producto,\\n         SUM(sales_amount) AS ventas_totales\\n     FROM \\n         sales.fact_sales\\n     JOIN \\n         sales.dim_product\\n     ON \\n         fact_sales.product_key = dim_product.product_key\\n     WHERE \\n         order_date BETWEEN DATE_TRUNC('quarter', CURRENT_DATE - INTERVAL '3 months') AND DATE_TRUNC('quarter', CURRENT_DATE) - INTERVAL '1 day'\\n     GROUP BY \\n         spanish_product_category_name;\\n     ```\"}"
      ]
     },
     "execution_count": 4,
     "metadata": {},
     "output_type": "execute_result"
    }
   ],
   "source": [
    "user_query = 'Dime las ventas del último trimestre detallas por categorías de producto.'\n",
    "\n",
    "global_context_test = context_generator_graph.invoke({\n",
    "    \"user_query\": user_query\n",
    "})\n",
    "\n",
    "global_context_test"
   ]
  },
  {
   "cell_type": "code",
   "execution_count": 5,
   "id": "696b0508",
   "metadata": {},
   "outputs": [
    {
     "data": {
      "text/markdown": [
       "### Resumen General\n",
       "El objetivo es calcular las ventas del último trimestre, desglosadas por categorías de producto. Esto implica utilizar datos de ventas y productos, aplicando filtros temporales y uniendo tablas relevantes para obtener las categorías de producto y sus ventas asociadas.\n",
       "\n",
       "### Esquema Detallado y Relaciones\n",
       "#### Base de datos y esquema\n",
       "- **Base de datos:** adventure_works_dw\n",
       "- **Esquema:** sales\n",
       "\n",
       "#### Tabla: dim_product\n",
       "- **Descripción:** Contiene información detallada de productos, incluyendo categorías y precios.\n",
       "- **Clave primaria:** product_key\n",
       "- **Columnas relevantes:**\n",
       "  - **spanish_product_category_name** (VARCHAR(50), NOT NULL): Categoría principal del producto en español.\n",
       "  - **spanish_product_subcategory_name** (VARCHAR(50), NOT NULL): Subcategoría del producto en español.\n",
       "  - **spanish_product_name** (VARCHAR(50), NULL): Nombre del producto en español.\n",
       "  - **list_price** (NUMERIC): Precio de venta del producto en USD.\n",
       "  - **start_date** (DATE): Fecha de disponibilidad del producto para la venta.\n",
       "  - **end_date** (DATE, NULL): Fecha de fin de disponibilidad del producto.\n",
       "\n",
       "#### Tabla: fact_sales\n",
       "- **Descripción:** Contiene detalles de órdenes de ventas con granularidad a nivel de línea.\n",
       "- **Clave primaria:**\n",
       "  - sales_order_number\n",
       "  - sales_order_line_number\n",
       "- **Claves foráneas:**\n",
       "  - product_key → sales.dim_product.product_key\n",
       "- **Columnas relevantes:**\n",
       "  - **order_date** (DATE): Fecha de creación del pedido.\n",
       "  - **sales_amount** (NUMERIC): Subtotal en USD de la línea de orden de venta.\n",
       "  - **order_quantity** (INT2): Cantidad vendida de cada producto.\n",
       "  - **product_key**: Referencia a la tabla `sales.dim_product`.\n",
       "\n",
       "#### Relaciones entre tablas\n",
       "- Para obtener las categorías de producto y sus ventas, se debe realizar un JOIN entre `fact_sales` y `dim_product` utilizando la clave foránea `product_key`:\n",
       "  ```sql\n",
       "  ON fact_sales.product_key = dim_product.product_key\n",
       "  ```\n",
       "- Para filtrar las ventas del último trimestre, se debe aplicar un filtro en la columna `order_date` con el rango de fechas correspondiente.\n",
       "\n",
       "### Reglas de Negocio y Lógica\n",
       "1. **Definición de Trimestre:**\n",
       "   - Un trimestre es un período de tres meses.\n",
       "   - Los trimestres en un año natural son:\n",
       "     - Q1: Enero a Marzo.\n",
       "     - Q2: Abril a Junio.\n",
       "     - Q3: Julio a Septiembre.\n",
       "     - Q4: Octubre a Diciembre.\n",
       "\n",
       "2. **Filtro Temporal:**\n",
       "   - Para calcular las ventas del último trimestre, se utiliza el campo `order_date` de la tabla `fact_sales` con el siguiente rango de fechas:\n",
       "     ```sql\n",
       "     WHERE order_date BETWEEN DATE_TRUNC('quarter', CURRENT_DATE - INTERVAL '3 months') AND DATE_TRUNC('quarter', CURRENT_DATE) - INTERVAL '1 day'\n",
       "     ```\n",
       "\n",
       "3. **Cálculo de Ventas:**\n",
       "   - Las ventas totales se calculan sumando el campo `sales_amount`.\n",
       "\n",
       "4. **Representación de Categorías de Producto:**\n",
       "   - Se prioriza el uso del campo `spanish_product_category_name` de la tabla `dim_product`. Si este es nulo, se puede usar un campo alternativo como `english_product_category_name`.\n",
       "\n",
       "5. **Consulta SQL Representativa:**\n",
       "   - Una consulta representativa para obtener las ventas del último trimestre desglosadas por categorías de producto sería:\n",
       "     ```sql\n",
       "     SELECT \n",
       "         COALESCE(spanish_product_category_name, 'Categoría no registrada') AS categoria_producto,\n",
       "         SUM(sales_amount) AS ventas_totales\n",
       "     FROM \n",
       "         sales.fact_sales\n",
       "     JOIN \n",
       "         sales.dim_product\n",
       "     ON \n",
       "         fact_sales.product_key = dim_product.product_key\n",
       "     WHERE \n",
       "         order_date BETWEEN DATE_TRUNC('quarter', CURRENT_DATE - INTERVAL '3 months') AND DATE_TRUNC('quarter', CURRENT_DATE) - INTERVAL '1 day'\n",
       "     GROUP BY \n",
       "         spanish_product_category_name;\n",
       "     ```"
      ],
      "text/plain": [
       "<IPython.core.display.Markdown object>"
      ]
     },
     "execution_count": 5,
     "metadata": {},
     "output_type": "execute_result"
    }
   ],
   "source": [
    "Markdown(global_context_test['context'])"
   ]
  },
  {
   "cell_type": "code",
   "execution_count": 6,
   "id": "4225c0cf",
   "metadata": {},
   "outputs": [
    {
     "name": "stdout",
     "output_type": "stream",
     "text": [
      "--- DEFINE USER QUERY LANGUAGE 🔣 ---\n",
      "--- GENERATING BUSINESS_LOGIC SUB-QUERIES 📚 ---\n",
      "--- GENERATING MDL SUB-QUERIES 📚 ---\n",
      "--- MDL RETRIEVE TOOL 🛠️ ---\n",
      "--- BUSINESS_LOGIC RETRIEVE TOOL 🛠️ ---\n"
     ]
    },
    {
     "name": "stderr",
     "output_type": "stream",
     "text": [
      "No relevant docs were retrieved using the relevance score threshold 0.75\n"
     ]
    },
    {
     "name": "stdout",
     "output_type": "stream",
     "text": [
      "--- PARALLELIZE GENERATION 🔢 ---\n",
      "--- GRADE CHUNK RELEVANCE TO QUESTION ❔ ---\n",
      "--- GRADE CHUNK RELEVANCE TO QUESTION ❔ ---\n",
      "--- GRADE CHUNK RELEVANCE TO QUESTION ❔ ---\n",
      "--- GRADE CHUNK RELEVANCE TO QUESTION ❔ ---\n",
      "--- GRADE CHUNK RELEVANCE TO QUESTION ❔ ---\n",
      "--- GRADE CHUNK RELEVANCE TO QUESTION ❔ ---\n",
      "--- GRADE CHUNK RELEVANCE TO QUESTION ❔ ---\n",
      "--- GRADE CHUNK RELEVANCE TO QUESTION ❔ ---\n",
      "--- GRADE CHUNK RELEVANCE TO QUESTION ❔ ---\n",
      "--- GRADE CHUNK RELEVANCE TO QUESTION ❔ ---\n",
      "--- GRADE CHUNK RELEVANCE TO QUESTION ❔ ---\n",
      "--- GRADE CHUNK RELEVANCE TO QUESTION ❔ ---\n",
      "--- GRADE CHUNK RELEVANCE TO QUESTION ❔ ---\n",
      "--- GRADE CHUNK RELEVANCE TO QUESTION ❔ ---\n",
      "--- GRADE CHUNK RELEVANCE TO QUESTION ❔ ---\n",
      "--- GRADE CHUNK RELEVANCE TO QUESTION ❔ ---\n",
      "--- GRADE: RELEVANT CHUNK ✅ ---\n",
      "--- SUMMARIZE CHUNK 📝📚 ---\n",
      "--- GRADE: NOT RELEVANT CHUNK 🗑️ ---\n",
      "--- SET RETRIEVAL GRADE OUTPUT KO ❌ ---\n",
      "--- GRADE: NOT RELEVANT CHUNK 🗑️ ---\n",
      "--- SET RETRIEVAL GRADE OUTPUT KO ❌ ---\n",
      "--- GRADE: NOT RELEVANT CHUNK 🗑️ ---\n",
      "--- SET RETRIEVAL GRADE OUTPUT KO ❌ ---\n",
      "--- GRADE: NOT RELEVANT CHUNK 🗑️ ---\n",
      "--- SET RETRIEVAL GRADE OUTPUT KO ❌ ---\n",
      "--- GRADE: RELEVANT CHUNK ✅ ---\n",
      "--- SUMMARIZE CHUNK 📝📚 ---\n",
      "--- GRADE: RELEVANT CHUNK ✅ ---\n",
      "--- SUMMARIZE CHUNK 📝📚 ---\n",
      "--- GRADE: NOT RELEVANT CHUNK 🗑️ ---\n",
      "--- SET RETRIEVAL GRADE OUTPUT KO ❌ ---\n",
      "--- GRADE: NOT RELEVANT CHUNK 🗑️ ---\n",
      "--- SET RETRIEVAL GRADE OUTPUT KO ❌ ---\n",
      "--- GRADE: RELEVANT CHUNK ✅ ---\n",
      "--- SUMMARIZE CHUNK 📝📚 ---\n",
      "--- GRADE: NOT RELEVANT CHUNK 🗑️ ---\n",
      "--- SET RETRIEVAL GRADE OUTPUT KO ❌ ---\n",
      "--- GRADE: NOT RELEVANT CHUNK 🗑️ ---\n",
      "--- SET RETRIEVAL GRADE OUTPUT KO ❌ ---\n",
      "--- GRADE: NOT RELEVANT CHUNK 🗑️ ---\n",
      "--- SET RETRIEVAL GRADE OUTPUT KO ❌ ---\n",
      "--- GRADE: NOT RELEVANT CHUNK 🗑️ ---\n",
      "--- SET RETRIEVAL GRADE OUTPUT KO ❌ ---\n",
      "--- GRADE: NOT RELEVANT CHUNK 🗑️ ---\n",
      "--- SET RETRIEVAL GRADE OUTPUT KO ❌ ---\n",
      "--- GRADE: NOT RELEVANT CHUNK 🗑️ ---\n",
      "--- SET RETRIEVAL GRADE OUTPUT KO ❌ ---\n"
     ]
    },
    {
     "name": "stderr",
     "output_type": "stream",
     "text": [
      "No relevant docs were retrieved using the relevance score threshold 0.75\n"
     ]
    },
    {
     "name": "stdout",
     "output_type": "stream",
     "text": [
      "--- CHECK ITERATIONS 🔁 ---\n",
      "--- GRADE HALLUCINATIONS 👻 ---\n",
      "--- DECISION: GENERATION IS GROUNDED IN DOCUMENTS ✅ ---\n"
     ]
    },
    {
     "name": "stderr",
     "output_type": "stream",
     "text": [
      "No relevant docs were retrieved using the relevance score threshold 0.75\n"
     ]
    },
    {
     "name": "stdout",
     "output_type": "stream",
     "text": [
      "--- DECISION: GENERATION ADDRESSES QUESTION ✅ ---\n",
      "--- CHECK ITERATIONS 🔁 ---\n",
      "--- GRADE HALLUCINATIONS 👻 ---\n",
      "--- CHECK ITERATIONS 🔁 ---\n",
      "--- GRADE HALLUCINATIONS 👻 ---\n",
      "--- DECISION: GENERATION IS NOT GROUNDED (HALLUCINATIONS) 👻❌ ---\n",
      "--- SUMMARIZE CHUNK 📝📚 ---\n",
      "--- DECISION: GENERATION IS GROUNDED IN DOCUMENTS ✅ ---\n",
      "--- CHECK ITERATIONS 🔁 ---\n",
      "--- GRADE HALLUCINATIONS 👻 ---\n"
     ]
    },
    {
     "name": "stderr",
     "output_type": "stream",
     "text": [
      "No relevant docs were retrieved using the relevance score threshold 0.75\n"
     ]
    },
    {
     "name": "stdout",
     "output_type": "stream",
     "text": [
      "--- DECISION: GENERATION ADDRESSES QUESTION ✅ ---\n",
      "--- DECISION: GENERATION IS GROUNDED IN DOCUMENTS ✅ ---\n",
      "--- DECISION: GENERATION ADDRESSES QUESTION ✅ ---\n"
     ]
    },
    {
     "name": "stderr",
     "output_type": "stream",
     "text": [
      "No relevant docs were retrieved using the relevance score threshold 0.75\n"
     ]
    },
    {
     "name": "stdout",
     "output_type": "stream",
     "text": [
      "--- PARALLELIZE GENERATION 🔢 ---\n",
      "--- GRADE CHUNK RELEVANCE TO QUESTION ❔ ---\n",
      "--- GRADE CHUNK RELEVANCE TO QUESTION ❔ ---\n",
      "--- GRADE CHUNK RELEVANCE TO QUESTION ❔ ---\n",
      "--- GRADE CHUNK RELEVANCE TO QUESTION ❔ ---\n",
      "--- GRADE CHUNK RELEVANCE TO QUESTION ❔ ---\n",
      "--- GRADE CHUNK RELEVANCE TO QUESTION ❔ ---\n",
      "--- GRADE CHUNK RELEVANCE TO QUESTION ❔ ---\n",
      "--- GRADE CHUNK RELEVANCE TO QUESTION ❔ ---\n",
      "--- GRADE CHUNK RELEVANCE TO QUESTION ❔ ---\n",
      "--- GRADE: RELEVANT CHUNK ✅ ---\n",
      "--- SUMMARIZE CHUNK 📝📚 ---\n",
      "--- GRADE: NOT RELEVANT CHUNK 🗑️ ---\n",
      "--- SET RETRIEVAL GRADE OUTPUT KO ❌ ---\n",
      "--- GRADE: NOT RELEVANT CHUNK 🗑️ ---\n",
      "--- SET RETRIEVAL GRADE OUTPUT KO ❌ ---\n",
      "--- GRADE: NOT RELEVANT CHUNK 🗑️ ---\n",
      "--- SET RETRIEVAL GRADE OUTPUT KO ❌ ---\n",
      "--- GRADE: NOT RELEVANT CHUNK 🗑️ ---\n",
      "--- SET RETRIEVAL GRADE OUTPUT KO ❌ ---\n",
      "--- GRADE: NOT RELEVANT CHUNK 🗑️ ---\n",
      "--- SET RETRIEVAL GRADE OUTPUT KO ❌ ---\n",
      "--- GRADE: NOT RELEVANT CHUNK 🗑️ ---\n",
      "--- SET RETRIEVAL GRADE OUTPUT KO ❌ ---\n",
      "--- GRADE: NOT RELEVANT CHUNK 🗑️ ---\n",
      "--- SET RETRIEVAL GRADE OUTPUT KO ❌ ---\n",
      "--- GRADE: RELEVANT CHUNK ✅ ---\n",
      "--- SUMMARIZE CHUNK 📝📚 ---\n",
      "--- CHECK ITERATIONS 🔁 ---\n",
      "--- GRADE HALLUCINATIONS 👻 ---\n",
      "--- DECISION: GENERATION IS NOT GROUNDED (HALLUCINATIONS) 👻❌ ---\n",
      "--- SUMMARIZE CHUNK 📝📚 ---\n",
      "--- CHECK ITERATIONS 🔁 ---\n",
      "--- GRADE HALLUCINATIONS 👻 ---\n",
      "--- DECISION: GENERATION IS GROUNDED IN DOCUMENTS ✅ ---\n",
      "--- CHECK ITERATIONS 🔁 ---\n",
      "--- GRADE HALLUCINATIONS 👻 ---\n",
      "--- DECISION: GENERATION ADDRESSES QUESTION ✅ ---\n",
      "--- DECISION: GENERATION IS GROUNDED IN DOCUMENTS ✅ ---\n",
      "--- CHECK ITERATIONS 🔁 ---\n",
      "--- DECISION: MAX ITERATIONS REACHED (3) 🔚 ---\n",
      "--- SET RETRIEVAL GRADE OUTPUT KO ❌ ---\n",
      "--- SUMMARIZE BUSINES LOGIC 📝👨‍💼 ---\n",
      "--- DECISION: GENERATION ADDRESSES QUESTION ✅ ---\n",
      "--- SUMMARIZE MDL 📝🗂️ ---\n",
      "--- GRADE CONTEXT SUMMARIES 🔍 ---\n",
      "--- GENERATE GLOBAL CONTEXT 📝🌐 ---\n"
     ]
    },
    {
     "data": {
      "text/plain": [
       "{'language': 'Spanish',\n",
       " 'relevant_context': True,\n",
       " 'context': \"### Resumen General\\nEl objetivo es identificar los 10 clientes que más han comprado durante el mes pasado, considerando únicamente las ventas realizadas en línea (B2C). Esto implica calcular el volumen total de ventas por cliente, filtrando las transacciones por el mes anterior y ordenando los resultados en orden descendente según el importe total de ventas.\\n\\n### Esquema Detallado y Relaciones\\n#### Base de datos y esquema\\n- **Base de datos:** adventure_works_dw\\n- **Esquema:** sales\\n\\n#### Tabla: dim_customer\\n- **Descripción:** Contiene información detallada de clientes que han realizado compras en línea en el segmento minorista (B2C).\\n- **Clave primaria:** customer_key\\n- **Columnas relevantes:**\\n  1. **customer_full_name**: Tipo de dato: TEXT, Descripción: Nombre/s y apellido/s del cliente.\\n\\n#### Tabla: fact_sales\\n- **Descripción:** Contiene el detalle de las órdenes de ventas entregadas, con granularidad a nivel de línea.\\n- **Clave primaria:** sales_order_number, sales_order_line_number\\n- **Claves foráneas:** customer_key (referencia a sales.dim_customer.customer_key)\\n- **Columnas relevantes:**\\n  1. **order_date**: Tipo de dato: DATE, Descripción: Fecha en la que el pedido fue creado.\\n  2. **sales_amount**: Tipo de dato: NUMERIC, Descripción: Subtotal en USD de la línea de orden de venta.\\n  3. **customer_key**: Tipo de dato: Referencia a sales.dim_customer.customer_key, Descripción: Identificador del cliente asociado a la orden de venta.\\n\\n#### Relaciones entre tablas\\n- La tabla `fact_sales` se relaciona con la tabla `dim_customer` mediante la clave foránea `customer_key`.\\n- Para calcular el total de compras por cliente: Usar la columna `sales_amount` y agrupar por `customer_key`.\\n- Para filtrar las ventas del mes pasado: Usar la columna `order_date` con una condición de rango de fechas.\\n\\n### Reglas de Negocio y Lógica\\n1. **Cálculo del Volumen de Ventas por Cliente:**\\n   - El volumen de ventas por cliente se define como la suma del campo `sales_amount` agrupado por la clave del cliente (`customer_key`).\\n   - Ejemplo de cálculo:\\n     ```sql\\n     SELECT\\n         fs.customer_key,\\n         dc.customer_full_name AS cliente,\\n         SUM(fs.sales_amount) AS importe_ventas_por_cliente\\n     FROM sales.fact_sales fs\\n     JOIN sales.dim_customer dc ON fs.customer_key = dc.customer_key\\n     WHERE fs.sale_source = 'internet_sales'\\n     GROUP BY fs.customer_key, dc.customer_full_name\\n     ORDER BY importe_ventas_por_cliente DESC;\\n     ```\\n\\n2. **Filtro Temporal para el Mes Pasado:**\\n   - Para limitar las ventas al mes anterior, se debe incluir una condición en la cláusula `WHERE` que utilice la columna `order_date`. Ejemplo de filtro temporal:\\n     ```sql\\n     WHERE fs.order_date >= DATEADD(MONTH, -1, DATEFROMPARTS(YEAR(GETDATE()), MONTH(GETDATE()), 1))\\n       AND fs.order_date < DATEFROMPARTS(YEAR(GETDATE()), MONTH(GETDATE()), 1)\\n     ```\\n\\n3. **Orden y Límite:**\\n   - Los resultados deben ordenarse en orden descendente según el importe total de ventas (`importe_ventas_por_cliente`).\\n   - Se deben limitar los resultados a los 10 primeros clientes utilizando `TOP 10` o `LIMIT 10` dependiendo del sistema SQL.\"}"
      ]
     },
     "execution_count": 6,
     "metadata": {},
     "output_type": "execute_result"
    }
   ],
   "source": [
    "user_query = 'Dime los 10 clientes que más han comprado el mes pasado.'\n",
    "\n",
    "global_context_test = context_generator_graph.invoke({\n",
    "    \"user_query\": user_query\n",
    "})\n",
    "\n",
    "global_context_test"
   ]
  },
  {
   "cell_type": "code",
   "execution_count": 7,
   "id": "43bd866e",
   "metadata": {},
   "outputs": [
    {
     "data": {
      "text/markdown": [
       "### Resumen General\n",
       "El objetivo es identificar los 10 clientes que más han comprado durante el mes pasado, considerando únicamente las ventas realizadas en línea (B2C). Esto implica calcular el volumen total de ventas por cliente, filtrando las transacciones por el mes anterior y ordenando los resultados en orden descendente según el importe total de ventas.\n",
       "\n",
       "### Esquema Detallado y Relaciones\n",
       "#### Base de datos y esquema\n",
       "- **Base de datos:** adventure_works_dw\n",
       "- **Esquema:** sales\n",
       "\n",
       "#### Tabla: dim_customer\n",
       "- **Descripción:** Contiene información detallada de clientes que han realizado compras en línea en el segmento minorista (B2C).\n",
       "- **Clave primaria:** customer_key\n",
       "- **Columnas relevantes:**\n",
       "  1. **customer_full_name**: Tipo de dato: TEXT, Descripción: Nombre/s y apellido/s del cliente.\n",
       "\n",
       "#### Tabla: fact_sales\n",
       "- **Descripción:** Contiene el detalle de las órdenes de ventas entregadas, con granularidad a nivel de línea.\n",
       "- **Clave primaria:** sales_order_number, sales_order_line_number\n",
       "- **Claves foráneas:** customer_key (referencia a sales.dim_customer.customer_key)\n",
       "- **Columnas relevantes:**\n",
       "  1. **order_date**: Tipo de dato: DATE, Descripción: Fecha en la que el pedido fue creado.\n",
       "  2. **sales_amount**: Tipo de dato: NUMERIC, Descripción: Subtotal en USD de la línea de orden de venta.\n",
       "  3. **customer_key**: Tipo de dato: Referencia a sales.dim_customer.customer_key, Descripción: Identificador del cliente asociado a la orden de venta.\n",
       "\n",
       "#### Relaciones entre tablas\n",
       "- La tabla `fact_sales` se relaciona con la tabla `dim_customer` mediante la clave foránea `customer_key`.\n",
       "- Para calcular el total de compras por cliente: Usar la columna `sales_amount` y agrupar por `customer_key`.\n",
       "- Para filtrar las ventas del mes pasado: Usar la columna `order_date` con una condición de rango de fechas.\n",
       "\n",
       "### Reglas de Negocio y Lógica\n",
       "1. **Cálculo del Volumen de Ventas por Cliente:**\n",
       "   - El volumen de ventas por cliente se define como la suma del campo `sales_amount` agrupado por la clave del cliente (`customer_key`).\n",
       "   - Ejemplo de cálculo:\n",
       "     ```sql\n",
       "     SELECT\n",
       "         fs.customer_key,\n",
       "         dc.customer_full_name AS cliente,\n",
       "         SUM(fs.sales_amount) AS importe_ventas_por_cliente\n",
       "     FROM sales.fact_sales fs\n",
       "     JOIN sales.dim_customer dc ON fs.customer_key = dc.customer_key\n",
       "     WHERE fs.sale_source = 'internet_sales'\n",
       "     GROUP BY fs.customer_key, dc.customer_full_name\n",
       "     ORDER BY importe_ventas_por_cliente DESC;\n",
       "     ```\n",
       "\n",
       "2. **Filtro Temporal para el Mes Pasado:**\n",
       "   - Para limitar las ventas al mes anterior, se debe incluir una condición en la cláusula `WHERE` que utilice la columna `order_date`. Ejemplo de filtro temporal:\n",
       "     ```sql\n",
       "     WHERE fs.order_date >= DATEADD(MONTH, -1, DATEFROMPARTS(YEAR(GETDATE()), MONTH(GETDATE()), 1))\n",
       "       AND fs.order_date < DATEFROMPARTS(YEAR(GETDATE()), MONTH(GETDATE()), 1)\n",
       "     ```\n",
       "\n",
       "3. **Orden y Límite:**\n",
       "   - Los resultados deben ordenarse en orden descendente según el importe total de ventas (`importe_ventas_por_cliente`).\n",
       "   - Se deben limitar los resultados a los 10 primeros clientes utilizando `TOP 10` o `LIMIT 10` dependiendo del sistema SQL."
      ],
      "text/plain": [
       "<IPython.core.display.Markdown object>"
      ]
     },
     "execution_count": 7,
     "metadata": {},
     "output_type": "execute_result"
    }
   ],
   "source": [
    "Markdown(global_context_test['context'])"
   ]
  },
  {
   "cell_type": "code",
   "execution_count": 8,
   "id": "e9478a84",
   "metadata": {},
   "outputs": [
    {
     "name": "stdout",
     "output_type": "stream",
     "text": [
      "--- DEFINE USER QUERY LANGUAGE 🔣 ---\n",
      "--- GENERATING BUSINESS_LOGIC SUB-QUERIES 📚 ---\n",
      "--- GENERATING MDL SUB-QUERIES 📚 ---\n",
      "--- MDL RETRIEVE TOOL 🛠️ ---\n",
      "--- BUSINESS_LOGIC RETRIEVE TOOL 🛠️ ---\n",
      "--- PARALLELIZE GENERATION 🔢 ---\n",
      "--- GRADE CHUNK RELEVANCE TO QUESTION ❔ ---\n",
      "--- GRADE CHUNK RELEVANCE TO QUESTION ❔ ---\n",
      "--- GRADE CHUNK RELEVANCE TO QUESTION ❔ ---\n",
      "--- GRADE CHUNK RELEVANCE TO QUESTION ❔ ---\n",
      "--- GRADE CHUNK RELEVANCE TO QUESTION ❔ ---\n",
      "--- GRADE CHUNK RELEVANCE TO QUESTION ❔ ---\n",
      "--- GRADE CHUNK RELEVANCE TO QUESTION ❔ ---\n",
      "--- GRADE CHUNK RELEVANCE TO QUESTION ❔ ---\n",
      "--- GRADE CHUNK RELEVANCE TO QUESTION ❔ ---\n",
      "--- GRADE CHUNK RELEVANCE TO QUESTION ❔ ---\n",
      "--- GRADE: NOT RELEVANT CHUNK 🗑️ ---\n",
      "--- SET RETRIEVAL GRADE OUTPUT KO ❌ ---\n",
      "--- GRADE: NOT RELEVANT CHUNK 🗑️ ---\n",
      "--- SET RETRIEVAL GRADE OUTPUT KO ❌ ---\n",
      "--- GRADE: NOT RELEVANT CHUNK 🗑️ ---\n",
      "--- SET RETRIEVAL GRADE OUTPUT KO ❌ ---\n",
      "--- GRADE: NOT RELEVANT CHUNK 🗑️ ---\n",
      "--- SET RETRIEVAL GRADE OUTPUT KO ❌ ---\n",
      "--- GRADE: NOT RELEVANT CHUNK 🗑️ ---\n",
      "--- SET RETRIEVAL GRADE OUTPUT KO ❌ ---\n",
      "--- GRADE: NOT RELEVANT CHUNK 🗑️ ---\n",
      "--- SET RETRIEVAL GRADE OUTPUT KO ❌ ---\n",
      "--- GRADE: NOT RELEVANT CHUNK 🗑️ ---\n",
      "--- SET RETRIEVAL GRADE OUTPUT KO ❌ ---\n",
      "--- GRADE: NOT RELEVANT CHUNK 🗑️ ---\n",
      "--- SET RETRIEVAL GRADE OUTPUT KO ❌ ---\n",
      "--- GRADE: NOT RELEVANT CHUNK 🗑️ ---\n",
      "--- SET RETRIEVAL GRADE OUTPUT KO ❌ ---\n",
      "--- GRADE: NOT RELEVANT CHUNK 🗑️ ---\n",
      "--- SET RETRIEVAL GRADE OUTPUT KO ❌ ---\n",
      "--- SUMMARIZE BUSINES LOGIC 📝👨‍💼 ---\n"
     ]
    },
    {
     "name": "stderr",
     "output_type": "stream",
     "text": [
      "No relevant docs were retrieved using the relevance score threshold 0.75\n",
      "No relevant docs were retrieved using the relevance score threshold 0.75\n",
      "No relevant docs were retrieved using the relevance score threshold 0.75\n",
      "No relevant docs were retrieved using the relevance score threshold 0.75\n",
      "No relevant docs were retrieved using the relevance score threshold 0.75\n"
     ]
    },
    {
     "name": "stdout",
     "output_type": "stream",
     "text": [
      "--- PARALLELIZE GENERATION 🔢 ---\n",
      "--- GRADE CHUNK RELEVANCE TO QUESTION ❔ ---\n",
      "--- GRADE CHUNK RELEVANCE TO QUESTION ❔ ---\n",
      "--- GRADE CHUNK RELEVANCE TO QUESTION ❔ ---\n",
      "--- GRADE CHUNK RELEVANCE TO QUESTION ❔ ---\n",
      "--- GRADE CHUNK RELEVANCE TO QUESTION ❔ ---\n",
      "--- GRADE CHUNK RELEVANCE TO QUESTION ❔ ---\n",
      "--- GRADE CHUNK RELEVANCE TO QUESTION ❔ ---\n",
      "--- GRADE CHUNK RELEVANCE TO QUESTION ❔ ---\n",
      "--- GRADE CHUNK RELEVANCE TO QUESTION ❔ ---\n",
      "--- GRADE: NOT RELEVANT CHUNK 🗑️ ---\n",
      "--- SET RETRIEVAL GRADE OUTPUT KO ❌ ---\n",
      "--- GRADE: NOT RELEVANT CHUNK 🗑️ ---\n",
      "--- SET RETRIEVAL GRADE OUTPUT KO ❌ ---\n",
      "--- GRADE: NOT RELEVANT CHUNK 🗑️ ---\n",
      "--- SET RETRIEVAL GRADE OUTPUT KO ❌ ---\n",
      "--- GRADE: NOT RELEVANT CHUNK 🗑️ ---\n",
      "--- SET RETRIEVAL GRADE OUTPUT KO ❌ ---\n",
      "--- GRADE: NOT RELEVANT CHUNK 🗑️ ---\n",
      "--- SET RETRIEVAL GRADE OUTPUT KO ❌ ---\n",
      "--- GRADE: NOT RELEVANT CHUNK 🗑️ ---\n",
      "--- SET RETRIEVAL GRADE OUTPUT KO ❌ ---\n",
      "--- GRADE: NOT RELEVANT CHUNK 🗑️ ---\n",
      "--- SET RETRIEVAL GRADE OUTPUT KO ❌ ---\n",
      "--- GRADE: NOT RELEVANT CHUNK 🗑️ ---\n",
      "--- SET RETRIEVAL GRADE OUTPUT KO ❌ ---\n",
      "--- GRADE: NOT RELEVANT CHUNK 🗑️ ---\n",
      "--- SET RETRIEVAL GRADE OUTPUT KO ❌ ---\n",
      "--- SUMMARIZE MDL 📝🗂️ ---\n",
      "--- GRADE CONTEXT SUMMARIES 🔍 ---\n",
      "--- GENERATE NO RELEVANT CONTEXT RESPONSE 📝⛔ ---\n"
     ]
    },
    {
     "data": {
      "text/plain": [
       "{'language': 'Spanish',\n",
       " 'relevant_context': False,\n",
       " 'no_relevant_context_msg': 'Lo siento mucho, pero no puedo responder a tu pregunta sobre el departamento con el salario medio más alto, ya que este tema está fuera del alcance de la información proporcionada. Sin embargo, puedo ayudarte con temas relacionados con el análisis de ventas, como el cálculo del volumen de ventas por agente comercial o el valor promedio por orden. Por favor, dime cómo puedo asistirte.'}"
      ]
     },
     "execution_count": 8,
     "metadata": {},
     "output_type": "execute_result"
    }
   ],
   "source": [
    "user_query = 'Dime el departamento con el salario medio más alto.'\n",
    "\n",
    "global_context_test = context_generator_graph.invoke({\n",
    "    \"user_query\": user_query\n",
    "})\n",
    "\n",
    "global_context_test"
   ]
  },
  {
   "cell_type": "code",
   "execution_count": 9,
   "id": "12a82fc9",
   "metadata": {},
   "outputs": [
    {
     "data": {
      "text/markdown": [
       "Lo siento mucho, pero no puedo responder a tu pregunta sobre el departamento con el salario medio más alto, ya que este tema está fuera del alcance de la información proporcionada. Sin embargo, puedo ayudarte con temas relacionados con el análisis de ventas, como el cálculo del volumen de ventas por agente comercial o el valor promedio por orden. Por favor, dime cómo puedo asistirte."
      ],
      "text/plain": [
       "<IPython.core.display.Markdown object>"
      ]
     },
     "execution_count": 9,
     "metadata": {},
     "output_type": "execute_result"
    }
   ],
   "source": [
    "Markdown(global_context_test['no_relevant_context_msg'])"
   ]
  },
  {
   "cell_type": "code",
   "execution_count": null,
   "id": "230ba37e",
   "metadata": {},
   "outputs": [],
   "source": []
  }
 ],
 "metadata": {
  "kernelspec": {
   "display_name": "ucm-tfm-grupo-4 (3.11.9)",
   "language": "python",
   "name": "python3"
  },
  "language_info": {
   "codemirror_mode": {
    "name": "ipython",
    "version": 3
   },
   "file_extension": ".py",
   "mimetype": "text/x-python",
   "name": "python",
   "nbconvert_exporter": "python",
   "pygments_lexer": "ipython3",
   "version": "3.11.9"
  }
 },
 "nbformat": 4,
 "nbformat_minor": 5
}
